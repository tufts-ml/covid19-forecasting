{
 "cells": [
  {
   "cell_type": "code",
   "execution_count": 1,
   "id": "2f0fea99",
   "metadata": {
    "scrolled": true
   },
   "outputs": [
    {
     "name": "stderr",
     "output_type": "stream",
     "text": [
      "2021-10-14 05:09:57.080674: W tensorflow/stream_executor/platform/default/dso_loader.cc:64] Could not load dynamic library 'libcudart.so.11.0'; dlerror: libcudart.so.11.0: cannot open shared object file: No such file or directory\n",
      "2021-10-14 05:09:57.080717: I tensorflow/stream_executor/cuda/cudart_stub.cc:29] Ignore above cudart dlerror if you do not have a GPU set up on your machine.\n"
     ]
    }
   ],
   "source": [
    "%load_ext autoreload\n",
    "%autoreload 2\n",
    "\n",
    "import numpy as np\n",
    "import tensorflow as tf\n",
    "\n",
    "import sys\n",
    "sys.path.append('/mnt/c/Users/kheut/code/covid19-forecasting/tf_model_1p5/')\n",
    "\n",
    "from enum import Enum\n",
    "\n",
    "import tensorflow as tf\n",
    "from tensorflow import keras\n",
    "from tensorflow.keras.layers import Dense\n",
    "\n",
    "import tensorflow_probability as tfp\n",
    "from scipy.stats import beta, truncnorm\n",
    "\n",
    "\n",
    "# Local imports from model.py, data.py\n",
    "from model import CovidModel, LogPoissonProb, get_logging_callbacks, Comp, Vax\n",
    "from data import read_data, create_warmup\n",
    "#from plots import make_all_plots"
   ]
  },
  {
   "cell_type": "code",
   "execution_count": 2,
   "id": "0b92ba51",
   "metadata": {},
   "outputs": [],
   "source": [
    "transition_window =3\n",
    "\n",
    "warmup_start = '20210428'\n",
    "warmup_end = '20210430'\n",
    "train_start = '20210501'\n",
    "train_end = '20210731'\n",
    "test_start = '20210801'\n",
    "test_end = '20210831'\n",
    "\n",
    "state = 'Massachusetts'\n",
    "state_abbrev = 'MA'\n",
    "\n",
    "data_dir = '../data'\n",
    "covid_estim_date = '20210901'\n",
    "hhs_date = '20210903'\n",
    "owid_date = '20210903'\n",
    "\n",
    "log_dir = './logs/new_warmup'"
   ]
  },
  {
   "cell_type": "code",
   "execution_count": 3,
   "id": "46fffaf4",
   "metadata": {},
   "outputs": [],
   "source": [
    "df = read_data(data_dir=data_dir,\n",
    "               covid_estim_date=covid_estim_date,\n",
    "               hhs_date=hhs_date,\n",
    "               owid_date=owid_date,\n",
    "               state=state, state_abbrev=state_abbrev)"
   ]
  },
  {
   "cell_type": "code",
   "execution_count": 4,
   "id": "addb84da",
   "metadata": {},
   "outputs": [],
   "source": [
    "class Comp(Enum):\n",
    "    A = 0\n",
    "    M = 1\n",
    "    #X = 2\n",
    "    #G = 3\n",
    "    \n",
    "class Vax(Enum):\n",
    "    total = -1\n",
    "    no = 0\n",
    "    yes = 1"
   ]
  },
  {
   "cell_type": "code",
   "execution_count": 5,
   "id": "2a343e4d",
   "metadata": {},
   "outputs": [],
   "source": [
    "# get warmup arrays, splitting on vaccination status\n",
    "warmup_asymp, warmup_mild, warmup_extreme = create_warmup(df, \n",
    "                                                          warmup_start, \n",
    "                                                          warmup_end,\n",
    "                                                          0,0,0)\n",
    "\n",
    "# re-combine\n",
    "warmup_asymp = warmup_asymp[Vax.no.value] + warmup_asymp[Vax.yes.value]"
   ]
  },
  {
   "cell_type": "code",
   "execution_count": 6,
   "id": "927ae787",
   "metadata": {},
   "outputs": [
    {
     "name": "stderr",
     "output_type": "stream",
     "text": [
      "2021-10-14 05:09:58.905260: I tensorflow/stream_executor/cuda/cuda_gpu_executor.cc:923] could not open file to read NUMA node: /sys/bus/pci/devices/0000:2d:00.0/numa_node\n",
      "Your kernel may have been built without NUMA support.\n",
      "2021-10-14 05:09:58.905467: W tensorflow/stream_executor/platform/default/dso_loader.cc:64] Could not load dynamic library 'libcudart.so.11.0'; dlerror: libcudart.so.11.0: cannot open shared object file: No such file or directory\n",
      "2021-10-14 05:09:58.905494: W tensorflow/stream_executor/platform/default/dso_loader.cc:64] Could not load dynamic library 'libcublas.so.11'; dlerror: libcublas.so.11: cannot open shared object file: No such file or directory\n",
      "2021-10-14 05:09:58.905516: W tensorflow/stream_executor/platform/default/dso_loader.cc:64] Could not load dynamic library 'libcublasLt.so.11'; dlerror: libcublasLt.so.11: cannot open shared object file: No such file or directory\n",
      "2021-10-14 05:09:58.905536: W tensorflow/stream_executor/platform/default/dso_loader.cc:64] Could not load dynamic library 'libcufft.so.10'; dlerror: libcufft.so.10: cannot open shared object file: No such file or directory\n",
      "2021-10-14 05:09:58.905555: W tensorflow/stream_executor/platform/default/dso_loader.cc:64] Could not load dynamic library 'libcurand.so.10'; dlerror: libcurand.so.10: cannot open shared object file: No such file or directory\n",
      "2021-10-14 05:09:58.905574: W tensorflow/stream_executor/platform/default/dso_loader.cc:64] Could not load dynamic library 'libcusolver.so.11'; dlerror: libcusolver.so.11: cannot open shared object file: No such file or directory\n",
      "2021-10-14 05:09:58.905592: W tensorflow/stream_executor/platform/default/dso_loader.cc:64] Could not load dynamic library 'libcusparse.so.11'; dlerror: libcusparse.so.11: cannot open shared object file: No such file or directory\n",
      "2021-10-14 05:09:58.905611: W tensorflow/stream_executor/platform/default/dso_loader.cc:64] Could not load dynamic library 'libcudnn.so.8'; dlerror: libcudnn.so.8: cannot open shared object file: No such file or directory\n",
      "2021-10-14 05:09:58.905615: W tensorflow/core/common_runtime/gpu/gpu_device.cc:1835] Cannot dlopen some GPU libraries. Please make sure the missing libraries mentioned above are installed properly if you would like to use GPU. Follow the guide at https://www.tensorflow.org/install/gpu for how to download and setup the required libraries for your platform.\n",
      "Skipping registering GPU devices...\n",
      "2021-10-14 05:09:58.905975: I tensorflow/core/platform/cpu_feature_guard.cc:142] This TensorFlow binary is optimized with oneAPI Deep Neural Network Library (oneDNN) to use the following CPU instructions in performance-critical operations:  AVX2 FMA\n",
      "To enable them in other operations, rebuild TensorFlow with the appropriate compiler flags.\n"
     ]
    }
   ],
   "source": [
    "delta = {}\n",
    "delta[Vax.total.value] = {}\n",
    "delta[Vax.total.value]['prior'] = {'a': 1.05, 'b': 20}\n",
    "# delta is 0-1, so we will sigmoid the output of the variational posterior\n",
    "# Here we use a reverse sigmoid to convert from a mean of 0.1\n",
    "# I cant figure out the math to do for the scale parameter\n",
    "delta[Vax.total.value]['posterior_init'] = {'loc': np.log(0.1/(1-0.1)), 'scale':0.1}\n",
    "\n",
    "T_serial = {}\n",
    "T_serial[Vax.total.value] = {}\n",
    "T_serial[Vax.total.value]['prior'] ={'loc':5.8, 'scale':1}\n",
    "# T_serial is positive, so we will softplus the output of the variational posterior\n",
    "# Here we use a reverse softplus to convert from a mean of 5.8\n",
    "# I cant figure out the math to do for the scale parameter\n",
    "T_serial[Vax.total.value]['posterior_init'] = {'loc': tfp.math.softplus_inverse(5.8),\n",
    "                                         'scale':0.1}\n",
    "\n",
    "\n",
    "rho_M = {}\n",
    "rho_M[Vax.total.value] = {}\n",
    "rho_M[Vax.total.value]['prior'] = {'a': 31.8, 'b': 10.3}\n",
    "# rho is 0-1, so we will sigmoid the output of the variational posterior\n",
    "# Here we use a reverse sigmoid to convert from a mean of 0.76\n",
    "# I cant figure out the math to do for the scale parameter\n",
    "rho_M[Vax.total.value]['posterior_init'] = {'loc': np.log(0.76/(1-0.76)),\n",
    "                                      'scale':0.1}\n",
    "\n",
    "lambda_M = {}\n",
    "lambda_M[Vax.total.value] = {}\n",
    "lambda_M[Vax.total.value]['prior'] = {'loc': 4.7, 'scale': 1}\n",
    "# lambda is positive, so we will softplus the output of the variational posterior\n",
    "# Here we use a reverse softplus to convert from a mean of 4.7\n",
    "# I cant figure out the math to do for the scale parameter\n",
    "lambda_M[Vax.total.value]['posterior_init'] = {'loc': tfp.math.softplus_inverse(4.7),\n",
    "                                         'scale':1}\n",
    "\n",
    "nu_M = {}\n",
    "nu_M[Vax.total.value] = {}\n",
    "nu_M[Vax.total.value]['prior'] = {'loc': 3.1, 'scale': 1.2}\n",
    "# nu is positive, so we will softplus the output of the variational posterior\n",
    "# Here we use a reverse softplus to convert from a mean of 3.1\n",
    "# I cant figure out the math to do for the scale parameter\n",
    "nu_M[Vax.total.value]['posterior_init'] = {'loc': tfp.math.softplus_inverse(3.1),\n",
    "                                     'scale':1.2}\n",
    "delta = {}\n",
    "delta[Vax.total.value] = {}\n",
    "delta[Vax.total.value]['prior'] = {'a': 1.05, 'b': 20}\n",
    "# delta is 0-1, so we will sigmoid the output of the variational posterior\n",
    "# Here we use a reverse sigmoid to convert from a mean of 0.1\n",
    "# I cant figure out the math to do for the scale parameter\n",
    "delta[Vax.total.value]['posterior_init'] = {'loc': np.log(0.1/(1-0.1)), 'scale':0.1}\n",
    "\n",
    "T_serial = {}\n",
    "T_serial[Vax.total.value] = {}\n",
    "T_serial[Vax.total.value]['prior'] ={'loc':5.8, 'scale':1}\n",
    "# T_serial is positive, so we will softplus the output of the variational posterior\n",
    "# Here we use a reverse softplus to convert from a mean of 5.8\n",
    "# I cant figure out the math to do for the scale parameter\n",
    "T_serial[Vax.total.value]['posterior_init'] = {'loc': tfp.math.softplus_inverse(5.8),\n",
    "                                         'scale':0.1}\n",
    "\n",
    "\n",
    "rho_M = {}\n",
    "rho_M[Vax.total.value] = {}\n",
    "rho_M[Vax.total.value]['prior'] = {'a': 31.8, 'b': 10.3}\n",
    "# rho is 0-1, so we will sigmoid the output of the variational posterior\n",
    "# Here we use a reverse sigmoid to convert from a mean of 0.76\n",
    "# I cant figure out the math to do for the scale parameter\n",
    "rho_M[Vax.total.value]['posterior_init'] = {'loc': np.log(0.76/(1-0.76)),\n",
    "                                      'scale':0.1}\n",
    "\n",
    "lambda_M = {}\n",
    "lambda_M[Vax.total.value] = {}\n",
    "lambda_M[Vax.total.value]['prior'] = {'loc': 4.7, 'scale': 1}\n",
    "# lambda is positive, so we will softplus the output of the variational posterior\n",
    "# Here we use a reverse softplus to convert from a mean of 4.7\n",
    "# I cant figure out the math to do for the scale parameter\n",
    "lambda_M[Vax.total.value]['posterior_init'] = {'loc': tfp.math.softplus_inverse(4.7),\n",
    "                                         'scale':1}\n",
    "\n",
    "nu_M = {}\n",
    "nu_M[Vax.total.value] = {}\n",
    "nu_M[Vax.total.value]['prior'] = {'loc': 3.1, 'scale': 1.2}\n",
    "# nu is positive, so we will softplus the output of the variational posterior\n",
    "# Here we use a reverse softplus to convert from a mean of 3.1\n",
    "# I cant figure out the math to do for the scale parameter\n",
    "nu_M[Vax.total.value]['posterior_init'] = {'loc': tfp.math.softplus_inverse(3.1),\n",
    "                                     'scale':1.2}\n"
   ]
  },
  {
   "cell_type": "code",
   "execution_count": 7,
   "id": "d11fe3c0",
   "metadata": {},
   "outputs": [],
   "source": [
    "warmup_A_params = {}\n",
    "warmup_A_params[Vax.total.value] = {}\n",
    "warmup_A_params[Vax.total.value]['prior'] = []\n",
    "warmup_A_params[Vax.total.value]['posterior_init'] = []\n",
    "\n",
    "for day in range(transition_window):\n",
    "    warmup_A_params[Vax.total.value]['prior'].append({'loc': warmup_asymp[day],\n",
    "                                                'scale': warmup_asymp[day]/10})\n",
    "    # must be positive so reverse softplus the mean\n",
    "    warmup_A_params[Vax.total.value]['posterior_init'].append({'loc': tfp.math.softplus_inverse(warmup_asymp[day]),\n",
    "                                                         'scale': tfp.math.softplus_inverse(warmup_asymp[day]/10)})"
   ]
  },
  {
   "cell_type": "code",
   "execution_count": null,
   "id": "cb653be5",
   "metadata": {},
   "outputs": [],
   "source": []
  },
  {
   "cell_type": "code",
   "execution_count": 8,
   "id": "a0811ccf",
   "metadata": {},
   "outputs": [],
   "source": [
    "model = CovidModel([Vax.total], [Comp.A, Comp.M],\n",
    "                 transition_window,\n",
    "                 delta, T_serial, rho_M, lambda_M, nu_M,\n",
    "                 warmup_A_params, posterior_samples=1000)"
   ]
  },
  {
   "cell_type": "code",
   "execution_count": 15,
   "id": "d97acc62",
   "metadata": {},
   "outputs": [
    {
     "ename": "IndexError",
     "evalue": "list index out of range",
     "output_type": "error",
     "traceback": [
      "\u001b[0;31m---------------------------------------------------------------------------\u001b[0m",
      "\u001b[0;31mIndexError\u001b[0m                                Traceback (most recent call last)",
      "\u001b[0;32m/tmp/ipykernel_482/833133056.py\u001b[0m in \u001b[0;36m<module>\u001b[0;34m\u001b[0m\n\u001b[0;32m----> 1\u001b[0;31m \u001b[0mmodel\u001b[0m\u001b[0;34m.\u001b[0m\u001b[0mcall\u001b[0m\u001b[0;34m(\u001b[0m\u001b[0mdf\u001b[0m\u001b[0;34m.\u001b[0m\u001b[0mloc\u001b[0m\u001b[0;34m[\u001b[0m\u001b[0mtrain_start\u001b[0m\u001b[0;34m:\u001b[0m\u001b[0mtest_end\u001b[0m\u001b[0;34m,\u001b[0m\u001b[0;34m'Rt'\u001b[0m\u001b[0;34m]\u001b[0m\u001b[0;34m.\u001b[0m\u001b[0mvalues\u001b[0m\u001b[0;34m)\u001b[0m\u001b[0;34m\u001b[0m\u001b[0;34m\u001b[0m\u001b[0m\n\u001b[0m",
      "\u001b[0;32m/mnt/c/Users/kheut/code/covid19-forecasting/tf_model_1p5/model.py\u001b[0m in \u001b[0;36mcall\u001b[0;34m(self, r_t, debug_disable_prior, return_all)\u001b[0m\n\u001b[1;32m     62\u001b[0m         \"\"\"\n\u001b[1;32m     63\u001b[0m \u001b[0;34m\u001b[0m\u001b[0m\n\u001b[0;32m---> 64\u001b[0;31m         \u001b[0mself\u001b[0m\u001b[0;34m.\u001b[0m\u001b[0m_constrain_parameters\u001b[0m\u001b[0;34m(\u001b[0m\u001b[0;34m)\u001b[0m\u001b[0;34m\u001b[0m\u001b[0;34m\u001b[0m\u001b[0m\n\u001b[0m\u001b[1;32m     65\u001b[0m         \u001b[0mself\u001b[0m\u001b[0;34m.\u001b[0m\u001b[0m_sample_and_reparameterize\u001b[0m\u001b[0;34m(\u001b[0m\u001b[0;34m)\u001b[0m\u001b[0;34m\u001b[0m\u001b[0;34m\u001b[0m\u001b[0m\n\u001b[1;32m     66\u001b[0m \u001b[0;34m\u001b[0m\u001b[0m\n",
      "\u001b[0;32m/mnt/c/Users/kheut/code/covid19-forecasting/tf_model_1p5/model.py\u001b[0m in \u001b[0;36m_constrain_parameters\u001b[0;34m(self)\u001b[0m\n\u001b[1;32m    334\u001b[0m             \u001b[0mself\u001b[0m\u001b[0;34m.\u001b[0m\u001b[0mwarmup_A_params\u001b[0m\u001b[0;34m[\u001b[0m\u001b[0mvax_status\u001b[0m\u001b[0;34m]\u001b[0m \u001b[0;34m=\u001b[0m \u001b[0;34m[\u001b[0m\u001b[0;34m]\u001b[0m\u001b[0;34m\u001b[0m\u001b[0;34m\u001b[0m\u001b[0m\n\u001b[1;32m    335\u001b[0m             \u001b[0;32mfor\u001b[0m \u001b[0mday\u001b[0m \u001b[0;32min\u001b[0m \u001b[0mrange\u001b[0m\u001b[0;34m(\u001b[0m\u001b[0mself\u001b[0m\u001b[0;34m.\u001b[0m\u001b[0mtransition_window\u001b[0m\u001b[0;34m)\u001b[0m\u001b[0;34m:\u001b[0m\u001b[0;34m\u001b[0m\u001b[0;34m\u001b[0m\u001b[0m\n\u001b[0;32m--> 336\u001b[0;31m                 \u001b[0mself\u001b[0m\u001b[0;34m.\u001b[0m\u001b[0mwarmup_A_params\u001b[0m\u001b[0;34m[\u001b[0m\u001b[0mvax_status\u001b[0m\u001b[0;34m]\u001b[0m\u001b[0;34m[\u001b[0m\u001b[0mday\u001b[0m\u001b[0;34m]\u001b[0m\u001b[0;34m.\u001b[0m\u001b[0mappend\u001b[0m\u001b[0;34m(\u001b[0m\u001b[0;34m{\u001b[0m\u001b[0;34m}\u001b[0m\u001b[0;34m)\u001b[0m\u001b[0;34m\u001b[0m\u001b[0;34m\u001b[0m\u001b[0m\n\u001b[0m\u001b[1;32m    337\u001b[0m \u001b[0;34m\u001b[0m\u001b[0m\n\u001b[1;32m    338\u001b[0m \u001b[0;34m\u001b[0m\u001b[0m\n",
      "\u001b[0;32m~/anaconda3/envs/covid_vax_model/lib/python3.7/site-packages/tensorflow/python/training/tracking/data_structures.py\u001b[0m in \u001b[0;36m__getitem__\u001b[0;34m(self, key)\u001b[0m\n\u001b[1;32m    439\u001b[0m \u001b[0;34m\u001b[0m\u001b[0m\n\u001b[1;32m    440\u001b[0m   \u001b[0;32mdef\u001b[0m \u001b[0m__getitem__\u001b[0m\u001b[0;34m(\u001b[0m\u001b[0mself\u001b[0m\u001b[0;34m,\u001b[0m \u001b[0mkey\u001b[0m\u001b[0;34m)\u001b[0m\u001b[0;34m:\u001b[0m\u001b[0;34m\u001b[0m\u001b[0;34m\u001b[0m\u001b[0m\n\u001b[0;32m--> 441\u001b[0;31m     \u001b[0;32mreturn\u001b[0m \u001b[0mself\u001b[0m\u001b[0;34m.\u001b[0m\u001b[0m_storage\u001b[0m\u001b[0;34m[\u001b[0m\u001b[0mkey\u001b[0m\u001b[0;34m]\u001b[0m\u001b[0;34m\u001b[0m\u001b[0;34m\u001b[0m\u001b[0m\n\u001b[0m\u001b[1;32m    442\u001b[0m \u001b[0;34m\u001b[0m\u001b[0m\n\u001b[1;32m    443\u001b[0m   \u001b[0;32mdef\u001b[0m \u001b[0m__getslice__\u001b[0m\u001b[0;34m(\u001b[0m\u001b[0mself\u001b[0m\u001b[0;34m,\u001b[0m \u001b[0mi\u001b[0m\u001b[0;34m,\u001b[0m \u001b[0mj\u001b[0m\u001b[0;34m)\u001b[0m\u001b[0;34m:\u001b[0m\u001b[0;34m\u001b[0m\u001b[0;34m\u001b[0m\u001b[0m\n",
      "\u001b[0;31mIndexError\u001b[0m: list index out of range"
     ]
    }
   ],
   "source": [
    "model.call(df.loc[train_start:test_end,'Rt'].values)"
   ]
  },
  {
   "cell_type": "code",
   "execution_count": 14,
   "id": "142ce8ae",
   "metadata": {},
   "outputs": [
    {
     "data": {
      "text/plain": [
       "array([0.9893859 , 0.9806603 , 0.9708389 , 0.96012908, 0.94874668,\n",
       "       0.93690047, 0.92479089, 0.91261409, 0.90057085, 0.8888542 ,\n",
       "       0.87764703, 0.86712298, 0.85742815, 0.84862583, 0.84075898,\n",
       "       0.83387077, 0.82800523, 0.82319257, 0.81938499, 0.81651255,\n",
       "       0.81450937, 0.81331291, 0.81286373, 0.81310665, 0.81398912,\n",
       "       0.81545992, 0.81746881, 0.81997128, 0.82297143, 0.82650082,\n",
       "       0.83059275, 0.83528213, 0.84060646, 0.84661472, 0.85336511,\n",
       "       0.86091927, 0.86934258, 0.8787029 , 0.88903848, 0.90036034,\n",
       "       0.9126806 , 0.92601353, 0.94037391, 0.95573397, 0.97201386,\n",
       "       0.98912558, 1.00697454, 1.02545815, 1.04443745, 1.06372162,\n",
       "       1.08310189, 1.10235411, 1.12123893, 1.13951188, 1.1569333 ,\n",
       "       1.17325498, 1.18822025, 1.20156657, 1.21307565, 1.22264284,\n",
       "       1.23018727, 1.23563722, 1.238931  , 1.2400631 , 1.2391775 ,\n",
       "       1.23645443, 1.23208136, 1.22625046, 1.21916673, 1.21107649,\n",
       "       1.20223337, 1.19288596, 1.1832766 , 1.17362909, 1.16410037,\n",
       "       1.15482293, 1.14592509, 1.13753136, 1.12975256, 1.12262529,\n",
       "       1.11615555, 1.11034998, 1.10521593, 1.1007593 , 1.09696513,\n",
       "       1.09380781, 1.09126292, 1.08930719, 1.08791854, 1.08707768,\n",
       "       1.08676743, 1.08697135, 1.0876737 , 1.08885885, 1.09050333,\n",
       "       1.09257661, 1.09504807, 1.09788721, 1.10106322, 1.10453744,\n",
       "       1.10826216, 1.11218868, 1.11626758, 1.12044881, 1.12468592,\n",
       "       1.12893805, 1.13316415, 1.13732246, 1.14137067, 1.14527579,\n",
       "       1.14902257, 1.15259752, 1.15598703, 1.15917743, 1.1621785 ,\n",
       "       1.16505546, 1.16788213, 1.17073297, 1.17368305, 1.17685516,\n",
       "       1.18051746, 1.18496907, 1.19051437])"
      ]
     },
     "execution_count": 14,
     "metadata": {},
     "output_type": "execute_result"
    }
   ],
   "source": [
    "df.loc[train_start:test_end,'Rt'].values"
   ]
  },
  {
   "cell_type": "code",
   "execution_count": null,
   "id": "74bc654a",
   "metadata": {},
   "outputs": [],
   "source": []
  },
  {
   "cell_type": "code",
   "execution_count": null,
   "id": "4800232e",
   "metadata": {},
   "outputs": [],
   "source": []
  },
  {
   "cell_type": "code",
   "execution_count": null,
   "id": "5eab6039",
   "metadata": {},
   "outputs": [],
   "source": []
  }
 ],
 "metadata": {
  "kernelspec": {
   "display_name": "Python 3 (ipykernel)",
   "language": "python",
   "name": "python3"
  },
  "language_info": {
   "codemirror_mode": {
    "name": "ipython",
    "version": 3
   },
   "file_extension": ".py",
   "mimetype": "text/x-python",
   "name": "python",
   "nbconvert_exporter": "python",
   "pygments_lexer": "ipython3",
   "version": "3.7.11"
  }
 },
 "nbformat": 4,
 "nbformat_minor": 5
}

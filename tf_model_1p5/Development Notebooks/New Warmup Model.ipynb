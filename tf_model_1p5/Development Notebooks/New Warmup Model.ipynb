{
 "cells": [
  {
   "cell_type": "code",
   "execution_count": 1,
   "id": "2f0fea99",
   "metadata": {
    "scrolled": true
   },
   "outputs": [
    {
     "name": "stderr",
     "output_type": "stream",
     "text": [
      "2021-10-18 12:27:07.444176: W tensorflow/stream_executor/platform/default/dso_loader.cc:64] Could not load dynamic library 'libcudart.so.11.0'; dlerror: libcudart.so.11.0: cannot open shared object file: No such file or directory\n",
      "2021-10-18 12:27:07.444206: I tensorflow/stream_executor/cuda/cudart_stub.cc:29] Ignore above cudart dlerror if you do not have a GPU set up on your machine.\n"
     ]
    }
   ],
   "source": [
    "%load_ext autoreload\n",
    "%autoreload 2\n",
    "\n",
    "import numpy as np\n",
    "import tensorflow as tf\n",
    "\n",
    "import sys\n",
    "sys.path.append('/mnt/c/Users/kheut/code/covid19-forecasting/tf_model_1p5/')\n",
    "\n",
    "from enum import Enum\n",
    "\n",
    "import tensorflow as tf\n",
    "from tensorflow import keras\n",
    "from tensorflow.keras.layers import Dense\n",
    "\n",
    "import tensorflow_probability as tfp\n",
    "from scipy.stats import beta, truncnorm\n",
    "\n",
    "\n",
    "# Local imports from model.py, data.py\n",
    "from model import CovidModel, LogPoissonProb, get_logging_callbacks, Comp, Vax\n",
    "from data import read_data, create_warmup\n",
    "#from plots import make_all_plots"
   ]
  },
  {
   "cell_type": "code",
   "execution_count": 2,
   "id": "0b92ba51",
   "metadata": {},
   "outputs": [],
   "source": [
    "transition_window =3\n",
    "\n",
    "warmup_start = '20210428'\n",
    "warmup_end = '20210430'\n",
    "train_start = '20210501'\n",
    "train_end = '20210731'\n",
    "test_start = '20210801'\n",
    "test_end = '20210831'\n",
    "\n",
    "state = 'Massachusetts'\n",
    "state_abbrev = 'MA'\n",
    "\n",
    "data_dir = '../data'\n",
    "covid_estim_date = '20210901'\n",
    "hhs_date = '20210903'\n",
    "owid_date = '20210903'\n",
    "\n",
    "log_dir = './logs/new_warmup'"
   ]
  },
  {
   "cell_type": "code",
   "execution_count": 3,
   "id": "46fffaf4",
   "metadata": {},
   "outputs": [],
   "source": [
    "df = read_data(data_dir=data_dir,\n",
    "               covid_estim_date=covid_estim_date,\n",
    "               hhs_date=hhs_date,\n",
    "               owid_date=owid_date,\n",
    "               state=state, state_abbrev=state_abbrev)"
   ]
  },
  {
   "cell_type": "code",
   "execution_count": 4,
   "id": "addb84da",
   "metadata": {},
   "outputs": [],
   "source": [
    "class Comp(Enum):\n",
    "    A = 0\n",
    "    M = 1\n",
    "    #X = 2\n",
    "    #G = 3\n",
    "    \n",
    "class Vax(Enum):\n",
    "    total = -1\n",
    "    no = 0\n",
    "    yes = 1"
   ]
  },
  {
   "cell_type": "code",
   "execution_count": 5,
   "id": "2a343e4d",
   "metadata": {},
   "outputs": [],
   "source": [
    "# get warmup arrays, splitting on vaccination status\n",
    "warmup_asymp, warmup_mild, warmup_extreme = create_warmup(df, \n",
    "                                                          warmup_start, \n",
    "                                                          warmup_end,\n",
    "                                                          0,0,0)\n",
    "\n",
    "# re-combine\n",
    "warmup_asymp = warmup_asymp[Vax.no.value] + warmup_asymp[Vax.yes.value]"
   ]
  },
  {
   "cell_type": "code",
   "execution_count": 6,
   "id": "927ae787",
   "metadata": {},
   "outputs": [
    {
     "name": "stderr",
     "output_type": "stream",
     "text": [
      "2021-10-18 12:27:10.332331: I tensorflow/stream_executor/cuda/cuda_gpu_executor.cc:923] could not open file to read NUMA node: /sys/bus/pci/devices/0000:2d:00.0/numa_node\n",
      "Your kernel may have been built without NUMA support.\n",
      "2021-10-18 12:27:10.332493: W tensorflow/stream_executor/platform/default/dso_loader.cc:64] Could not load dynamic library 'libcudart.so.11.0'; dlerror: libcudart.so.11.0: cannot open shared object file: No such file or directory\n",
      "2021-10-18 12:27:10.332541: W tensorflow/stream_executor/platform/default/dso_loader.cc:64] Could not load dynamic library 'libcublas.so.11'; dlerror: libcublas.so.11: cannot open shared object file: No such file or directory\n",
      "2021-10-18 12:27:10.332575: W tensorflow/stream_executor/platform/default/dso_loader.cc:64] Could not load dynamic library 'libcublasLt.so.11'; dlerror: libcublasLt.so.11: cannot open shared object file: No such file or directory\n",
      "2021-10-18 12:27:10.332605: W tensorflow/stream_executor/platform/default/dso_loader.cc:64] Could not load dynamic library 'libcufft.so.10'; dlerror: libcufft.so.10: cannot open shared object file: No such file or directory\n",
      "2021-10-18 12:27:10.332634: W tensorflow/stream_executor/platform/default/dso_loader.cc:64] Could not load dynamic library 'libcurand.so.10'; dlerror: libcurand.so.10: cannot open shared object file: No such file or directory\n",
      "2021-10-18 12:27:10.332664: W tensorflow/stream_executor/platform/default/dso_loader.cc:64] Could not load dynamic library 'libcusolver.so.11'; dlerror: libcusolver.so.11: cannot open shared object file: No such file or directory\n",
      "2021-10-18 12:27:10.332691: W tensorflow/stream_executor/platform/default/dso_loader.cc:64] Could not load dynamic library 'libcusparse.so.11'; dlerror: libcusparse.so.11: cannot open shared object file: No such file or directory\n",
      "2021-10-18 12:27:10.332719: W tensorflow/stream_executor/platform/default/dso_loader.cc:64] Could not load dynamic library 'libcudnn.so.8'; dlerror: libcudnn.so.8: cannot open shared object file: No such file or directory\n",
      "2021-10-18 12:27:10.332724: W tensorflow/core/common_runtime/gpu/gpu_device.cc:1835] Cannot dlopen some GPU libraries. Please make sure the missing libraries mentioned above are installed properly if you would like to use GPU. Follow the guide at https://www.tensorflow.org/install/gpu for how to download and setup the required libraries for your platform.\n",
      "Skipping registering GPU devices...\n",
      "2021-10-18 12:27:10.333471: I tensorflow/core/platform/cpu_feature_guard.cc:142] This TensorFlow binary is optimized with oneAPI Deep Neural Network Library (oneDNN) to use the following CPU instructions in performance-critical operations:  AVX2 FMA\n",
      "To enable them in other operations, rebuild TensorFlow with the appropriate compiler flags.\n"
     ]
    }
   ],
   "source": [
    "delta = {}\n",
    "delta[Vax.total.value] = {}\n",
    "delta[Vax.total.value]['prior'] = {'a': 1.05, 'b': 20}\n",
    "# delta is 0-1, so we will sigmoid the output of the variational posterior\n",
    "# Here we use a reverse sigmoid to convert from a mean of 0.1\n",
    "# I cant figure out the math to do for the scale parameter\n",
    "delta[Vax.total.value]['posterior_init'] = {'loc': np.log(0.1/(1-0.1)), 'scale':0.1}\n",
    "\n",
    "T_serial = {}\n",
    "T_serial[Vax.total.value] = {}\n",
    "T_serial[Vax.total.value]['prior'] ={'loc':5.8, 'scale':1}\n",
    "# T_serial is positive, so we will softplus the output of the variational posterior\n",
    "# Here we use a reverse softplus to convert from a mean of 5.8\n",
    "# I cant figure out the math to do for the scale parameter\n",
    "T_serial[Vax.total.value]['posterior_init'] = {'loc': tfp.math.softplus_inverse(5.8),\n",
    "                                         'scale':0.1}\n",
    "\n",
    "\n",
    "rho_M = {}\n",
    "rho_M[Vax.total.value] = {}\n",
    "rho_M[Vax.total.value]['prior'] = {'a': 31.8, 'b': 10.3}\n",
    "# rho is 0-1, so we will sigmoid the output of the variational posterior\n",
    "# Here we use a reverse sigmoid to convert from a mean of 0.76\n",
    "# I cant figure out the math to do for the scale parameter\n",
    "rho_M[Vax.total.value]['posterior_init'] = {'loc': np.log(0.76/(1-0.76)),\n",
    "                                      'scale':0.1}\n",
    "\n",
    "lambda_M = {}\n",
    "lambda_M[Vax.total.value] = {}\n",
    "lambda_M[Vax.total.value]['prior'] = {'loc': 4.7, 'scale': 1}\n",
    "# lambda is positive, so we will softplus the output of the variational posterior\n",
    "# Here we use a reverse softplus to convert from a mean of 4.7\n",
    "# I cant figure out the math to do for the scale parameter\n",
    "lambda_M[Vax.total.value]['posterior_init'] = {'loc': tfp.math.softplus_inverse(4.7),\n",
    "                                         'scale':1}\n",
    "\n",
    "nu_M = {}\n",
    "nu_M[Vax.total.value] = {}\n",
    "nu_M[Vax.total.value]['prior'] = {'loc': 3.1, 'scale': 1.2}\n",
    "# nu is positive, so we will softplus the output of the variational posterior\n",
    "# Here we use a reverse softplus to convert from a mean of 3.1\n",
    "# I cant figure out the math to do for the scale parameter\n",
    "nu_M[Vax.total.value]['posterior_init'] = {'loc': tfp.math.softplus_inverse(3.1),\n",
    "                                     'scale':1.2}\n",
    "delta = {}\n",
    "delta[Vax.total.value] = {}\n",
    "delta[Vax.total.value]['prior'] = {'a': 1.05, 'b': 20}\n",
    "# delta is 0-1, so we will sigmoid the output of the variational posterior\n",
    "# Here we use a reverse sigmoid to convert from a mean of 0.1\n",
    "# I cant figure out the math to do for the scale parameter\n",
    "delta[Vax.total.value]['posterior_init'] = {'loc': np.log(0.1/(1-0.1)), 'scale':0.1}\n",
    "\n",
    "T_serial = {}\n",
    "T_serial[Vax.total.value] = {}\n",
    "T_serial[Vax.total.value]['prior'] ={'loc':5.8, 'scale':1}\n",
    "# T_serial is positive, so we will softplus the output of the variational posterior\n",
    "# Here we use a reverse softplus to convert from a mean of 5.8\n",
    "# I cant figure out the math to do for the scale parameter\n",
    "T_serial[Vax.total.value]['posterior_init'] = {'loc': tfp.math.softplus_inverse(5.8),\n",
    "                                         'scale':0.1}\n",
    "\n",
    "\n",
    "rho_M = {}\n",
    "rho_M[Vax.total.value] = {}\n",
    "rho_M[Vax.total.value]['prior'] = {'a': 31.8, 'b': 10.3}\n",
    "# rho is 0-1, so we will sigmoid the output of the variational posterior\n",
    "# Here we use a reverse sigmoid to convert from a mean of 0.76\n",
    "# I cant figure out the math to do for the scale parameter\n",
    "rho_M[Vax.total.value]['posterior_init'] = {'loc': np.log(0.76/(1-0.76)),\n",
    "                                      'scale':0.1}\n",
    "\n",
    "lambda_M = {}\n",
    "lambda_M[Vax.total.value] = {}\n",
    "lambda_M[Vax.total.value]['prior'] = {'loc': 4.7, 'scale': 1}\n",
    "# lambda is positive, so we will softplus the output of the variational posterior\n",
    "# Here we use a reverse softplus to convert from a mean of 4.7\n",
    "# I cant figure out the math to do for the scale parameter\n",
    "lambda_M[Vax.total.value]['posterior_init'] = {'loc': tfp.math.softplus_inverse(4.7),\n",
    "                                         'scale':1}\n",
    "\n",
    "nu_M = {}\n",
    "nu_M[Vax.total.value] = {}\n",
    "nu_M[Vax.total.value]['prior'] = {'loc': 3.1, 'scale': 1.2}\n",
    "# nu is positive, so we will softplus the output of the variational posterior\n",
    "# Here we use a reverse softplus to convert from a mean of 3.1\n",
    "# I cant figure out the math to do for the scale parameter\n",
    "nu_M[Vax.total.value]['posterior_init'] = {'loc': tfp.math.softplus_inverse(3.1),\n",
    "                                     'scale':1.2}\n"
   ]
  },
  {
   "cell_type": "code",
   "execution_count": 7,
   "id": "d11fe3c0",
   "metadata": {},
   "outputs": [],
   "source": [
    "warmup_A_params = {}\n",
    "warmup_A_params[Vax.total.value] = {}\n",
    "warmup_A_params[Vax.total.value]['prior'] = []\n",
    "warmup_A_params[Vax.total.value]['posterior_init'] = []\n",
    "\n",
    "for day in range(transition_window):\n",
    "    warmup_A_params[Vax.total.value]['prior'].append({'loc': warmup_asymp[day],\n",
    "                                                'scale': warmup_asymp[day]/10})\n",
    "    # must be positive so reverse softplus the mean\n",
    "    warmup_A_params[Vax.total.value]['posterior_init'].append({'loc': tf.cast(tfp.math.softplus_inverse(warmup_asymp[day]),dtype=tf.float32),\n",
    "                                                         'scale': tf.cast(tfp.math.softplus_inverse(warmup_asymp[day]/10),dtype=tf.float32)})"
   ]
  },
  {
   "cell_type": "code",
   "execution_count": 8,
   "id": "cb653be5",
   "metadata": {},
   "outputs": [
    {
     "data": {
      "text/plain": [
       "<tf.Tensor: shape=(), dtype=float64, numpy=251.8626798999444>"
      ]
     },
     "execution_count": 8,
     "metadata": {},
     "output_type": "execute_result"
    }
   ],
   "source": [
    "tfp.math.softplus_inverse(warmup_asymp[day]/10)"
   ]
  },
  {
   "cell_type": "code",
   "execution_count": 12,
   "id": "a0811ccf",
   "metadata": {},
   "outputs": [],
   "source": [
    "model = CovidModel([Vax.total], [Comp.A, Comp.M],\n",
    "                 transition_window,\n",
    "                 delta, T_serial, rho_M, lambda_M, nu_M,\n",
    "                 warmup_A_params, posterior_samples=1000)\n",
    "loss = LogPoissonProb() "
   ]
  },
  {
   "cell_type": "code",
   "execution_count": 18,
   "id": "17da59fa",
   "metadata": {},
   "outputs": [
    {
     "name": "stdout",
     "output_type": "stream",
     "text": [
      "ERROR:tensorflow:==================================\n",
      "Object was never used (type <class 'tensorflow.python.ops.tensor_array_ops.TensorArray'>):\n",
      "<tensorflow.python.ops.tensor_array_ops.TensorArray object at 0x7fec46ceb110>\n",
      "If you want to mark it as used call its \"mark_used()\" method.\n",
      "It was originally created here:\n",
      "  File \"/home/kheuton/anaconda3/envs/covid_vax_model/lib/python3.7/site-packages/IPython/core/interactiveshell.py\", line 3461, in run_code\n",
      "    return outflag  File \"/tmp/ipykernel_243/3644646644.py\", line 7, in <module>\n",
      "    loss_val += sum(model.losses)  File \"/mnt/c/Users/kheut/code/covid19-forecasting/tf_model_1p5/model.py\", line 128, in call\n",
      "    return result  File \"/home/kheuton/anaconda3/envs/covid_vax_model/lib/python3.7/site-packages/tensorflow/python/util/tf_should_use.py\", line 249, in wrapped\n",
      "    error_in_function=error_in_function)\n",
      "==================================\n"
     ]
    }
   ],
   "source": [
    "x_train = tf.cast(df.loc[train_start:train_end,'Rt'].values, dtype=tf.float32)\n",
    "y_test = tf.cast(df.loc[train_start:train_end,'mild'], dtype=tf.float32)\n",
    "\n",
    "with tf.GradientTape() as tape:\n",
    "    result = model.call(x_train)\n",
    "    loss_val = loss(y_test, result.stack())\n",
    "    loss_val += sum(model.losses)"
   ]
  },
  {
   "cell_type": "code",
   "execution_count": 19,
   "id": "712d1ec4",
   "metadata": {},
   "outputs": [
    {
     "data": {
      "text/plain": [
       "<tf.Tensor: shape=(), dtype=float32, numpy=97185.14>"
      ]
     },
     "execution_count": 19,
     "metadata": {},
     "output_type": "execute_result"
    }
   ],
   "source": [
    "loss_val"
   ]
  },
  {
   "cell_type": "code",
   "execution_count": 20,
   "id": "d97acc62",
   "metadata": {},
   "outputs": [],
   "source": [
    "grads = tape.gradient(loss_val, model.trainable_weights)"
   ]
  },
  {
   "cell_type": "code",
   "execution_count": 21,
   "id": "142ce8ae",
   "metadata": {},
   "outputs": [
    {
     "data": {
      "text/plain": [
       "[<tf.Tensor: shape=(), dtype=float32, numpy=-2.225037>,\n",
       " <tf.Tensor: shape=(), dtype=float32, numpy=-0.17275281>,\n",
       " <tf.Tensor: shape=(), dtype=float32, numpy=0.014031086>,\n",
       " <tf.Tensor: shape=(), dtype=float32, numpy=0.37425444>,\n",
       " <tf.Tensor: shape=(), dtype=float32, numpy=-17.685799>,\n",
       " <tf.Tensor: shape=(), dtype=float32, numpy=5.822873>,\n",
       " <tf.Tensor: shape=(), dtype=float32, numpy=0.049308077>,\n",
       " <tf.Tensor: shape=(), dtype=float32, numpy=0.8890647>,\n",
       " <tf.Tensor: shape=(), dtype=float32, numpy=-0.7639199>,\n",
       " <tf.Tensor: shape=(), dtype=float32, numpy=1.6217932>,\n",
       " <tf.Tensor: shape=(), dtype=float32, numpy=-0.004154929>,\n",
       " <tf.Tensor: shape=(), dtype=float32, numpy=0.0001754643>,\n",
       " <tf.Tensor: shape=(), dtype=float32, numpy=-0.008513215>,\n",
       " <tf.Tensor: shape=(), dtype=float32, numpy=-0.0001009628>,\n",
       " <tf.Tensor: shape=(), dtype=float32, numpy=-0.015218299>,\n",
       " <tf.Tensor: shape=(), dtype=float32, numpy=0.011818142>]"
      ]
     },
     "execution_count": 21,
     "metadata": {},
     "output_type": "execute_result"
    }
   ],
   "source": [
    "grads"
   ]
  },
  {
   "cell_type": "code",
   "execution_count": 17,
   "id": "74bc654a",
   "metadata": {},
   "outputs": [
    {
     "data": {
      "text/plain": [
       "[<tf.Variable 'delta_A_loc_-1:0' shape=() dtype=float32, numpy=-2.1972246>,\n",
       " <tf.Variable 'delta_A_scale_-1:0' shape=() dtype=float32, numpy=0.1>,\n",
       " <tf.Variable 'T_serial_A_loc_-1:0' shape=() dtype=float32, numpy=5.796968>,\n",
       " <tf.Variable 'T_serial_A_scale_-1:0' shape=() dtype=float32, numpy=0.1>,\n",
       " <tf.Variable 'rho_M_loc_-1:0' shape=() dtype=float32, numpy=1.1526796>,\n",
       " <tf.Variable 'rho_M_scale_-1:0' shape=() dtype=float32, numpy=0.1>,\n",
       " <tf.Variable 'lambda_M_loc_-1:0' shape=() dtype=float32, numpy=4.690863>,\n",
       " <tf.Variable 'lambda_M_scale_-1:0' shape=() dtype=float32, numpy=1.0>,\n",
       " <tf.Variable 'nu_M_loc_-1:0' shape=() dtype=float32, numpy=3.0539045>,\n",
       " <tf.Variable 'nu_M_scale_-1:0' shape=() dtype=float32, numpy=1.2>,\n",
       " <tf.Variable 'warmup_A_loc_-1:0' shape=() dtype=float32, numpy=2518.6091>,\n",
       " <tf.Variable 'warmup_A_scale_-1:0' shape=() dtype=float32, numpy=251.86093>,\n",
       " <tf.Variable 'warmup_A_loc_-1:0' shape=() dtype=float32, numpy=2520.2236>,\n",
       " <tf.Variable 'warmup_A_scale_-1:0' shape=() dtype=float32, numpy=252.02237>,\n",
       " <tf.Variable 'warmup_A_loc_-1:0' shape=() dtype=float32, numpy=2518.6267>,\n",
       " <tf.Variable 'warmup_A_scale_-1:0' shape=() dtype=float32, numpy=251.86269>]"
      ]
     },
     "execution_count": 17,
     "metadata": {},
     "output_type": "execute_result"
    }
   ],
   "source": [
    "model.trainable_weights"
   ]
  },
  {
   "cell_type": "code",
   "execution_count": 13,
   "id": "4800232e",
   "metadata": {},
   "outputs": [],
   "source": [
    "pi_M_samples = tf.TensorArray(tf.float32, size=transition_window, clear_after_read=False,\n",
    "                                           name='pi_M_samples')\n",
    "\n",
    "for j in range(transition_window):\n",
    "    poisson_M_samples = np.array([dist.log_prob(j+1) for dist in poisson_M_dist_samples])\n",
    "    pi_M_samples = pi_M_samples.write(j, np.array([dist.log_prob(j + 1) for dist in poisson_M_dist_samples]) /\n",
    "                                                   model.nu_M_samples_constrained)\n",
    "pi_M_samples = pi_M_samples.stack()"
   ]
  },
  {
   "cell_type": "code",
   "execution_count": 14,
   "id": "5eab6039",
   "metadata": {},
   "outputs": [
    {
     "data": {
      "text/plain": [
       "<tf.Tensor: shape=(), dtype=float32, numpy=-1.5153024>"
      ]
     },
     "execution_count": 14,
     "metadata": {},
     "output_type": "execute_result"
    }
   ],
   "source": [
    "poisson_M_dist_samples[0].log_prob(3)"
   ]
  },
  {
   "cell_type": "code",
   "execution_count": 18,
   "id": "0e610b2a",
   "metadata": {},
   "outputs": [
    {
     "data": {
      "text/plain": [
       "(92,)"
      ]
     },
     "execution_count": 18,
     "metadata": {},
     "output_type": "execute_result"
    }
   ],
   "source": [
    "df.loc[train_start:train_end,'mild'].shape"
   ]
  },
  {
   "cell_type": "code",
   "execution_count": 22,
   "id": "3b1b97d1",
   "metadata": {},
   "outputs": [
    {
     "ename": "NameError",
     "evalue": "name 'calc_poisson' is not defined",
     "output_type": "error",
     "traceback": [
      "\u001b[0;31m---------------------------------------------------------------------------\u001b[0m",
      "\u001b[0;31mNameError\u001b[0m                                 Traceback (most recent call last)",
      "\u001b[0;32m/tmp/ipykernel_2387/566946280.py\u001b[0m in \u001b[0;36m<module>\u001b[0;34m\u001b[0m\n\u001b[0;32m----> 1\u001b[0;31m \u001b[0mcalc_poisson\u001b[0m\u001b[0;34m\u001b[0m\u001b[0;34m\u001b[0m\u001b[0m\n\u001b[0m",
      "\u001b[0;31mNameError\u001b[0m: name 'calc_poisson' is not defined"
     ]
    }
   ],
   "source": [
    "calc_poisson"
   ]
  },
  {
   "cell_type": "code",
   "execution_count": 23,
   "id": "6c3f63d8",
   "metadata": {},
   "outputs": [],
   "source": [
    "def calc_poisson(inputs):\n",
    "    true_rate, predicted_rate = inputs\n",
    "    poisson = tfp.distributions.Poisson(rate=true_rate)\n",
    "    return poisson.log_prob(predicted_rate)"
   ]
  },
  {
   "cell_type": "code",
   "execution_count": 25,
   "id": "aaf2bc5b",
   "metadata": {},
   "outputs": [
    {
     "data": {
      "text/plain": [
       "<tf.Tensor: shape=(123, 1000), dtype=float32, numpy=\n",
       "array([[-1833.6412, -1865.2865, -1850.6737, ..., -1845.1101, -1837.7191,\n",
       "        -1865.5847],\n",
       "       [-1843.8658, -1865.4167, -1855.9562, ..., -1851.882 , -1849.3024,\n",
       "        -1865.7461],\n",
       "       [-1858.0245, -1870.422 , -1866.347 , ..., -1862.8467, -1862.2065,\n",
       "        -1869.534 ],\n",
       "       ...,\n",
       "       [-3063.9116, -3063.9116, -3063.9116, ..., -3063.9116, -3063.9116,\n",
       "        -3063.9116],\n",
       "       [-3162.4792, -3162.4792, -3162.4792, ..., -3162.4792, -3162.4792,\n",
       "        -3162.4792],\n",
       "       [-3266.1238, -3266.1238, -3266.1238, ..., -3266.1238, -3266.1238,\n",
       "        -3266.1238]], dtype=float32)>"
      ]
     },
     "execution_count": 25,
     "metadata": {},
     "output_type": "execute_result"
    }
   ],
   "source": [
    "tf.map_fn(calc_poisson, (tf.squeeze(tf.cast(df.loc[train_start:test_end,'mild'], dtype=tf.float32)),\n",
    "                         result.stack()), fn_output_signature=tf.float32)"
   ]
  },
  {
   "cell_type": "code",
   "execution_count": null,
   "id": "7fee8fd3",
   "metadata": {},
   "outputs": [],
   "source": []
  }
 ],
 "metadata": {
  "kernelspec": {
   "display_name": "Python 3 (ipykernel)",
   "language": "python",
   "name": "python3"
  },
  "language_info": {
   "codemirror_mode": {
    "name": "ipython",
    "version": 3
   },
   "file_extension": ".py",
   "mimetype": "text/x-python",
   "name": "python",
   "nbconvert_exporter": "python",
   "pygments_lexer": "ipython3",
   "version": "3.7.11"
  }
 },
 "nbformat": 4,
 "nbformat_minor": 5
}

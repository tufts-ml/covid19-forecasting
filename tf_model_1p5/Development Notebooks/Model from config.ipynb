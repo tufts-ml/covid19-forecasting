{
 "cells": [
  {
   "cell_type": "code",
   "execution_count": 3,
   "id": "6c0b34b5",
   "metadata": {},
   "outputs": [
    {
     "name": "stdout",
     "output_type": "stream",
     "text": [
      "The autoreload extension is already loaded. To reload it, use:\n",
      "  %reload_ext autoreload\n"
     ]
    }
   ],
   "source": [
    "%load_ext autoreload\n",
    "%autoreload 2\n",
    "\n",
    "import numpy as np\n",
    "import tensorflow as tf\n",
    "\n",
    "import sys\n",
    "sys.path.append('/mnt/c/Users/kheut/code/covid19-forecasting/tf_model_1p5/')\n",
    "\n",
    "from enum import Enum\n",
    "\n",
    "import tensorflow as tf\n",
    "from tensorflow import keras\n",
    "from tensorflow.keras.layers import Dense\n",
    "\n",
    "import tensorflow_probability as tfp\n",
    "from scipy.stats import beta, truncnorm\n",
    "\n",
    "\n",
    "# Local imports from model.py, data.py\n",
    "from model import CovidModel, LogPoissonProb, get_logging_callbacks, Comp, Vax\n",
    "from model_config import ModelConfig\n",
    "from data import read_data, create_warmup\n",
    "#from plots import make_all_plots\n",
    "\n",
    "import scipy\n",
    "\n",
    "import matplotlib\n",
    "import matplotlib.pyplot as plt\n",
    "plt.rcParams.update({'font.size': 20}) # set plot font sizes"
   ]
  },
  {
   "cell_type": "code",
   "execution_count": 4,
   "id": "8f2d5564",
   "metadata": {},
   "outputs": [],
   "source": [
    "transition_window =10\n",
    "\n",
    "warmup_start = '20210421'\n",
    "warmup_end = '20210430'\n",
    "train_start = '20210501'\n",
    "train_end = '20210731'\n",
    "test_start = '20210801'\n",
    "test_end = '20210831'\n",
    "\n",
    "state = 'Massachusetts'\n",
    "state_abbrev = 'MA'\n",
    "\n",
    "data_dir = '../data'\n",
    "covid_estim_date = '20210901'\n",
    "hhs_date = '20210903'\n",
    "owid_date = '20210903'\n",
    "\n",
    "# Learning rate\n",
    "learning_rate = 0.1"
   ]
  },
  {
   "cell_type": "code",
   "execution_count": 5,
   "id": "e97db1e5",
   "metadata": {},
   "outputs": [
    {
     "name": "stderr",
     "output_type": "stream",
     "text": [
      "2022-02-27 18:02:25.252085: I tensorflow/stream_executor/cuda/cuda_gpu_executor.cc:925] could not open file to read NUMA node: /sys/bus/pci/devices/0000:2d:00.0/numa_node\n",
      "Your kernel may have been built without NUMA support.\n",
      "2022-02-27 18:02:25.252585: W tensorflow/stream_executor/platform/default/dso_loader.cc:64] Could not load dynamic library 'libcudart.so.11.0'; dlerror: libcudart.so.11.0: cannot open shared object file: No such file or directory\n",
      "2022-02-27 18:02:25.252624: W tensorflow/stream_executor/platform/default/dso_loader.cc:64] Could not load dynamic library 'libcublas.so.11'; dlerror: libcublas.so.11: cannot open shared object file: No such file or directory\n",
      "2022-02-27 18:02:25.252652: W tensorflow/stream_executor/platform/default/dso_loader.cc:64] Could not load dynamic library 'libcublasLt.so.11'; dlerror: libcublasLt.so.11: cannot open shared object file: No such file or directory\n",
      "2022-02-27 18:02:25.252695: W tensorflow/stream_executor/platform/default/dso_loader.cc:64] Could not load dynamic library 'libcufft.so.10'; dlerror: libcufft.so.10: cannot open shared object file: No such file or directory\n",
      "2022-02-27 18:02:25.252752: W tensorflow/stream_executor/platform/default/dso_loader.cc:64] Could not load dynamic library 'libcurand.so.10'; dlerror: libcurand.so.10: cannot open shared object file: No such file or directory\n",
      "2022-02-27 18:02:25.252783: W tensorflow/stream_executor/platform/default/dso_loader.cc:64] Could not load dynamic library 'libcusolver.so.11'; dlerror: libcusolver.so.11: cannot open shared object file: No such file or directory\n",
      "2022-02-27 18:02:25.252809: W tensorflow/stream_executor/platform/default/dso_loader.cc:64] Could not load dynamic library 'libcusparse.so.11'; dlerror: libcusparse.so.11: cannot open shared object file: No such file or directory\n",
      "2022-02-27 18:02:25.252850: W tensorflow/stream_executor/platform/default/dso_loader.cc:64] Could not load dynamic library 'libcudnn.so.8'; dlerror: libcudnn.so.8: cannot open shared object file: No such file or directory\n",
      "2022-02-27 18:02:25.252883: W tensorflow/core/common_runtime/gpu/gpu_device.cc:1850] Cannot dlopen some GPU libraries. Please make sure the missing libraries mentioned above are installed properly if you would like to use GPU. Follow the guide at https://www.tensorflow.org/install/gpu for how to download and setup the required libraries for your platform.\n",
      "Skipping registering GPU devices...\n",
      "2022-02-27 18:02:25.254025: I tensorflow/core/platform/cpu_feature_guard.cc:151] This TensorFlow binary is optimized with oneAPI Deep Neural Network Library (oneDNN) to use the following CPU instructions in performance-critical operations:  AVX2 FMA\n",
      "To enable them in other operations, rebuild TensorFlow with the appropriate compiler flags.\n"
     ]
    }
   ],
   "source": [
    "df = read_data(data_dir=data_dir,\n",
    "               covid_estim_date=covid_estim_date,\n",
    "               hhs_date=hhs_date,\n",
    "               owid_date=owid_date,\n",
    "               state=state, state_abbrev=state_abbrev)\n",
    "vax_statuses = [Vax.yes, Vax.no]\n",
    "x_train = tf.cast(df.loc[train_start:train_end,'Rt'].values, dtype=tf.float32)\n",
    "x_test = tf.cast(df.loc[train_start:test_end,'Rt'].values, dtype=tf.float32)\n",
    "\n",
    "\n",
    "y_train = {}\n",
    "y_train['G_in'] = tf.cast(df.loc[train_start:train_end,'general_ward_in'], dtype=tf.float32)\n",
    "y_train['G_count'] = tf.cast(df.loc[train_start:train_end,'general_ward_count'], dtype=tf.float32)\n",
    "y_train['I_count'] = tf.cast(df.loc[train_start:train_end,'icu_count'], dtype=tf.float32)\n",
    "y_train['D_in'] = tf.cast(df.loc[train_start:train_end,'deaths_covid'], dtype=tf.float32) + 1\n",
    "\n",
    "y_test = {}\n",
    "y_test['G_in'] = tf.cast(df.loc[train_start:test_end,'general_ward_in'], dtype=tf.float32)\n",
    "y_test['G_count'] = tf.cast(df.loc[train_start:test_end,'general_ward_count'], dtype=tf.float32)\n",
    "y_test['I_count'] = tf.cast(df.loc[train_start:test_end,'icu_count'], dtype=tf.float32)\n",
    "y_test['D_in'] = tf.cast(df.loc[train_start:test_end,'deaths_covid'], dtype=tf.float32)"
   ]
  },
  {
   "cell_type": "code",
   "execution_count": 7,
   "id": "2003505d",
   "metadata": {},
   "outputs": [],
   "source": [
    "config = ModelConfig.from_json('/mnt/c/Users/kheut/code/covid19-forecasting/tf_model_1p5/model_config.json')"
   ]
  },
  {
   "cell_type": "code",
   "execution_count": 8,
   "id": "c934fbf1",
   "metadata": {},
   "outputs": [
    {
     "name": "stdout",
     "output_type": "stream",
     "text": [
      "WARNING:tensorflow:@custom_gradient grad_fn has 'variables' in signature, but no ResourceVariables were used on the forward pass.\n"
     ]
    }
   ],
   "source": [
    "model = CovidModel([Vax.no, Vax.yes], [Comp.A, Comp.M, Comp.G, Comp.GR, Comp.I, Comp.IR, Comp.D],\n",
    "                 transition_window,\n",
    "                config, posterior_samples=1000, debug_disable_theta=False)\n",
    "\n",
    "pre_training_preds=model.call(x_train)"
   ]
  },
  {
   "cell_type": "code",
   "execution_count": 6,
   "id": "aaced66a",
   "metadata": {},
   "outputs": [],
   "source": [
    "loss = LogPoissonProb() \n",
    "optimizer = tf.keras.optimizers.Adam(\n",
    "    learning_rate=learning_rate,#beta_1=0.1, beta_2=0.1\n",
    ")\n",
    "#loss((y_train['G_count'], y_train['G_in'], y_train['I_count'], y_train['D_in']), pre_training_preds)"
   ]
  },
  {
   "cell_type": "code",
   "execution_count": 7,
   "id": "83c62810",
   "metadata": {},
   "outputs": [],
   "source": [
    "logging_callbacks = get_logging_callbacks('/mnt/c/Users/kheut/logs/covid/linear_warm_fixed_loss_2')"
   ]
  },
  {
   "cell_type": "code",
   "execution_count": null,
   "id": "34b16f10",
   "metadata": {},
   "outputs": [
    {
     "name": "stdout",
     "output_type": "stream",
     "text": [
      "Epoch 1/2000\n",
      "G count: -8096.701171875\n",
      "G in: -1721.12451171875\n",
      "I count: -1206.6898193359375\n",
      "D in: -12.733940124511719\n"
     ]
    },
    {
     "name": "stderr",
     "output_type": "stream",
     "text": [
      "2022-02-26 22:16:22.430136: W tensorflow/python/util/util.cc:368] Sets are not currently considered sequences, but this may change in the future, so consider avoiding using them.\n"
     ]
    },
    {
     "name": "stdout",
     "output_type": "stream",
     "text": [
      "1/1 [==============================] - 46s 46s/step - loss: 37931.9453\n",
      "Epoch 2/2000\n",
      "G count: -5474.2451171875\n",
      "G in: -1052.27392578125\n",
      "I count: -1014.6215209960938\n",
      "D in: -10.86467456817627\n",
      "1/1 [==============================] - 45s 45s/step - loss: 32647.4668\n",
      "Epoch 3/2000\n",
      "G count: -4216.8779296875\n",
      "G in: -719.3932495117188\n",
      "I count: -989.9917602539062\n",
      "D in: -10.20695686340332\n",
      "1/1 [==============================] - 44s 44s/step - loss: 30704.1250\n",
      "Epoch 4/2000\n",
      "G count: -3456.790771484375\n",
      "G in: -535.3489990234375\n",
      "I count: -881.9038696289062\n",
      "D in: -9.569940567016602\n",
      "1/1 [==============================] - 43s 43s/step - loss: 28444.0820\n",
      "Epoch 5/2000\n",
      "G count: -3420.008056640625\n",
      "G in: -494.86395263671875\n",
      "I count: -946.8333129882812\n",
      "D in: -9.664220809936523\n",
      "1/1 [==============================] - 44s 44s/step - loss: 28044.7422\n",
      "Epoch 6/2000\n",
      "G count: -2839.205078125\n",
      "G in: -354.6944885253906\n",
      "I count: -935.1959838867188\n",
      "D in: -9.507257461547852\n",
      "1/1 [==============================] - 44s 44s/step - loss: 26812.3164\n",
      "Epoch 7/2000\n",
      "G count: -2684.77490234375\n",
      "G in: -310.6172180175781\n",
      "I count: -851.0499267578125\n",
      "D in: -9.312630653381348\n",
      "1/1 [==============================] - 44s 44s/step - loss: 25758.7500\n",
      "Epoch 8/2000\n",
      "G count: -2482.131103515625\n",
      "G in: -247.07606506347656\n",
      "I count: -914.7754516601562\n",
      "D in: -10.712806701660156\n",
      "1/1 [==============================] - 45s 45s/step - loss: 25276.1758\n",
      "Epoch 9/2000\n",
      "G count: -2364.835693359375\n",
      "G in: -236.3944854736328\n",
      "I count: -870.3311767578125\n",
      "D in: -10.474665641784668\n",
      "1/1 [==============================] - 44s 44s/step - loss: 24213.2266\n",
      "Epoch 10/2000\n",
      "G count: -2365.0087890625\n",
      "G in: -206.0416259765625\n",
      "I count: -882.0919799804688\n",
      "D in: -10.910765647888184\n",
      "1/1 [==============================] - 43s 43s/step - loss: 24041.4648\n",
      "Epoch 11/2000\n",
      "G count: -2156.0693359375\n",
      "G in: -179.82481384277344\n",
      "I count: -901.3009643554688\n",
      "D in: -11.0796537399292\n",
      "1/1 [==============================] - 45s 45s/step - loss: 23254.3047\n",
      "Epoch 12/2000\n",
      "G count: -2162.013671875\n",
      "G in: -170.6607666015625\n",
      "I count: -830.3563842773438\n",
      "D in: -11.319714546203613\n",
      "1/1 [==============================] - 44s 44s/step - loss: 22788.1289\n",
      "Epoch 13/2000\n"
     ]
    }
   ],
   "source": [
    "model.compile(loss=loss, optimizer=optimizer, run_eagerly=True)\n",
    "model.fit(x=np.asarray([x_train]), y=np.asarray([(y_train['G_count'], y_train['G_in'], y_train['I_count'], y_train['D_in'])]),\n",
    "         epochs=2000, batch_size=0,\n",
    "        callbacks=logging_callbacks)"
   ]
  },
  {
   "cell_type": "code",
   "execution_count": 1,
   "id": "bd7ccaf7",
   "metadata": {},
   "outputs": [
    {
     "ename": "NameError",
     "evalue": "name 'model' is not defined",
     "output_type": "error",
     "traceback": [
      "\u001b[0;31m---------------------------------------------------------------------------\u001b[0m",
      "\u001b[0;31mNameError\u001b[0m                                 Traceback (most recent call last)",
      "\u001b[0;32m/tmp/ipykernel_2358/3432006072.py\u001b[0m in \u001b[0;36m<module>\u001b[0;34m\u001b[0m\n\u001b[0;32m----> 1\u001b[0;31m \u001b[0mmodel\u001b[0m\u001b[0;34m.\u001b[0m\u001b[0mvariables\u001b[0m\u001b[0;34m\u001b[0m\u001b[0;34m\u001b[0m\u001b[0m\n\u001b[0m",
      "\u001b[0;31mNameError\u001b[0m: name 'model' is not defined"
     ]
    }
   ],
   "source": [
    "model.variables"
   ]
  },
  {
   "cell_type": "code",
   "execution_count": null,
   "id": "6afdb99f",
   "metadata": {},
   "outputs": [],
   "source": [
    "config.rho_M.value"
   ]
  },
  {
   "cell_type": "code",
   "execution_count": 9,
   "id": "b0c8b009",
   "metadata": {},
   "outputs": [
    {
     "data": {
      "text/plain": [
       "{0: {'loc': <tf.Variable 'rho_M_loc_0:0' shape=() dtype=float32, numpy=0.0>,\n",
       "  'scale': <tf.Variable 'rho_M_scale_0:0' shape=() dtype=float32, numpy=-2.2521684>},\n",
       " 1: {'loc': <tf.Variable 'rho_M_loc_1:0' shape=() dtype=float32, numpy=-0.20067078>,\n",
       "  'scale': <tf.Variable 'rho_M_scale_1:0' shape=() dtype=float32, numpy=-2.2521684>}}"
      ]
     },
     "execution_count": 9,
     "metadata": {},
     "output_type": "execute_result"
    }
   ],
   "source": [
    "model.unconstrained_rho_M"
   ]
  },
  {
   "cell_type": "code",
   "execution_count": null,
   "id": "612c3473",
   "metadata": {},
   "outputs": [],
   "source": [
    "model._constrain_parameters()"
   ]
  },
  {
   "cell_type": "code",
   "execution_count": null,
   "id": "90218e91",
   "metadata": {},
   "outputs": [],
   "source": [
    "model._sample_and_reparameterize()"
   ]
  },
  {
   "cell_type": "code",
   "execution_count": null,
   "id": "b4fb669e",
   "metadata": {},
   "outputs": [],
   "source": [
    "model.rho_M_params"
   ]
  },
  {
   "cell_type": "code",
   "execution_count": null,
   "id": "c5c031b1",
   "metadata": {},
   "outputs": [],
   "source": [
    "model.rho_M_samples_constrained"
   ]
  },
  {
   "cell_type": "code",
   "execution_count": null,
   "id": "87ebb07b",
   "metadata": {},
   "outputs": [],
   "source": [
    "model.warmup_A_params"
   ]
  },
  {
   "cell_type": "code",
   "execution_count": null,
   "id": "d765271a",
   "metadata": {},
   "outputs": [],
   "source": []
  }
 ],
 "metadata": {
  "kernelspec": {
   "display_name": "Python 3 (ipykernel)",
   "language": "python",
   "name": "python3"
  },
  "language_info": {
   "codemirror_mode": {
    "name": "ipython",
    "version": 3
   },
   "file_extension": ".py",
   "mimetype": "text/x-python",
   "name": "python",
   "nbconvert_exporter": "python",
   "pygments_lexer": "ipython3",
   "version": "3.7.12"
  }
 },
 "nbformat": 4,
 "nbformat_minor": 5
}

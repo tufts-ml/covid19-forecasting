{
 "cells": [
  {
   "cell_type": "code",
   "execution_count": 14,
   "id": "e732f064",
   "metadata": {},
   "outputs": [],
   "source": [
    "import os\n",
    "import pandas as pd\n",
    "from matplotlib import pyplot as plt"
   ]
  },
  {
   "cell_type": "code",
   "execution_count": 2,
   "id": "12c0c030",
   "metadata": {},
   "outputs": [],
   "source": [
    "state = 'Massachusetts'\n",
    "state_abbrev = 'MA'\n",
    "\n",
    "data_dir = '../data'\n",
    "covid_estim_date = '20210901'\n",
    "hhs_date = '20210903'\n",
    "owid_date = '20210903'\n"
   ]
  },
  {
   "cell_type": "code",
   "execution_count": 3,
   "id": "27ebb5a6",
   "metadata": {},
   "outputs": [],
   "source": [
    "hhs_path = os.path.join(data_dir, 'hhs', hhs_date + '.csv')\n",
    "hhs = pd.read_csv(hhs_path)\n",
    "hhs = hhs[hhs['state'] == state_abbrev]\n",
    "assert len(hhs) == len(hhs.date.unique())\n"
   ]
  },
  {
   "cell_type": "code",
   "execution_count": 5,
   "id": "bd9316b2",
   "metadata": {},
   "outputs": [
    {
     "data": {
      "text/plain": [
       "22          NaN\n",
       "229      1085.0\n",
       "269       936.0\n",
       "294         NaN\n",
       "328       953.0\n",
       "          ...  \n",
       "28743    1015.0\n",
       "28802    1169.0\n",
       "28985    1051.0\n",
       "28994    1168.0\n",
       "29359    1195.0\n",
       "Name: staffed_adult_icu_bed_occupancy, Length: 526, dtype: float64"
      ]
     },
     "execution_count": 5,
     "metadata": {},
     "output_type": "execute_result"
    }
   ],
   "source": [
    "hhs['staffed_adult_icu_bed_occupancy']"
   ]
  },
  {
   "cell_type": "code",
   "execution_count": 7,
   "id": "e2c15cf6",
   "metadata": {},
   "outputs": [
    {
     "data": {
      "text/plain": [
       "22            NaN\n",
       "229      0.230978\n",
       "269      0.029650\n",
       "294           NaN\n",
       "328      0.025668\n",
       "           ...   \n",
       "28743    0.028550\n",
       "28802    0.212722\n",
       "28985    0.113914\n",
       "28994    0.317073\n",
       "29359    0.322952\n",
       "Name: adult_icu_bed_covid_utilization, Length: 526, dtype: float64"
      ]
     },
     "execution_count": 7,
     "metadata": {},
     "output_type": "execute_result"
    }
   ],
   "source": [
    "hhs['adult_icu_bed_covid_utilization']"
   ]
  },
  {
   "cell_type": "code",
   "execution_count": 11,
   "id": "a8201766",
   "metadata": {},
   "outputs": [
    {
     "data": {
      "text/plain": [
       "22         NaN\n",
       "229      340.0\n",
       "269       55.0\n",
       "294        NaN\n",
       "328       48.0\n",
       "         ...  \n",
       "28743     38.0\n",
       "28802    311.0\n",
       "28985    149.0\n",
       "28994    468.0\n",
       "29359    477.0\n",
       "Name: adult_icu_bed_covid_utilization_numerator, Length: 526, dtype: float64"
      ]
     },
     "execution_count": 11,
     "metadata": {},
     "output_type": "execute_result"
    }
   ],
   "source": [
    "hhs['adult_icu_bed_covid_utilization_numerator']"
   ]
  },
  {
   "cell_type": "code",
   "execution_count": 12,
   "id": "2e1f4b29",
   "metadata": {},
   "outputs": [
    {
     "data": {
      "text/plain": [
       "22          NaN\n",
       "229      1472.0\n",
       "269      1855.0\n",
       "294         NaN\n",
       "328      1870.0\n",
       "          ...  \n",
       "28743    1331.0\n",
       "28802    1462.0\n",
       "28985    1308.0\n",
       "28994    1476.0\n",
       "29359    1477.0\n",
       "Name: adult_icu_bed_covid_utilization_denominator, Length: 526, dtype: float64"
      ]
     },
     "execution_count": 12,
     "metadata": {},
     "output_type": "execute_result"
    }
   ],
   "source": [
    "hhs['adult_icu_bed_covid_utilization_denominator']"
   ]
  },
  {
   "cell_type": "code",
   "execution_count": 20,
   "id": "17fa1378",
   "metadata": {},
   "outputs": [
    {
     "data": {
      "text/plain": [
       "[<matplotlib.lines.Line2D at 0x7f5c74fddb90>]"
      ]
     },
     "execution_count": 20,
     "metadata": {},
     "output_type": "execute_result"
    },
    {
     "data": {
      "image/png": "[encoded data removed]",
      "text/plain": [
       "<Figure size 432x288 with 1 Axes>"
      ]
     },
     "metadata": {
      "needs_background": "light"
     },
     "output_type": "display_data"
    }
   ],
   "source": [
    "plt.plot(hhs['date'],hhs['inpatient_beds_used_covid'])"
   ]
  },
  {
   "cell_type": "code",
   "execution_count": 17,
   "id": "8356e822",
   "metadata": {},
   "outputs": [],
   "source": [
    "hhs = hhs.sort_values('date')"
   ]
  },
  {
   "cell_type": "code",
   "execution_count": 19,
   "id": "d5b7f916",
   "metadata": {},
   "outputs": [
    {
     "data": {
      "text/plain": [
       "Index(['state', 'date', 'critical_staffing_shortage_today_yes',\n",
       "       'critical_staffing_shortage_today_no',\n",
       "       'critical_staffing_shortage_today_not_reported',\n",
       "       'critical_staffing_shortage_anticipated_within_week_yes',\n",
       "       'critical_staffing_shortage_anticipated_within_week_no',\n",
       "       'critical_staffing_shortage_anticipated_within_week_not_reported',\n",
       "       'hospital_onset_covid', 'hospital_onset_covid_coverage',\n",
       "       'inpatient_beds', 'inpatient_beds_coverage', 'inpatient_beds_used',\n",
       "       'inpatient_beds_used_coverage', 'inpatient_beds_used_covid',\n",
       "       'inpatient_beds_used_covid_coverage',\n",
       "       'previous_day_admission_adult_covid_confirmed',\n",
       "       'previous_day_admission_adult_covid_confirmed_coverage',\n",
       "       'previous_day_admission_adult_covid_suspected',\n",
       "       'previous_day_admission_adult_covid_suspected_coverage',\n",
       "       'previous_day_admission_pediatric_covid_confirmed',\n",
       "       'previous_day_admission_pediatric_covid_confirmed_coverage',\n",
       "       'previous_day_admission_pediatric_covid_suspected',\n",
       "       'previous_day_admission_pediatric_covid_suspected_coverage',\n",
       "       'staffed_adult_icu_bed_occupancy',\n",
       "       'staffed_adult_icu_bed_occupancy_coverage',\n",
       "       'staffed_icu_adult_patients_confirmed_and_suspected_covid',\n",
       "       'staffed_icu_adult_patients_confirmed_and_suspected_covid_coverage',\n",
       "       'staffed_icu_adult_patients_confirmed_covid',\n",
       "       'staffed_icu_adult_patients_confirmed_covid_coverage',\n",
       "       'total_adult_patients_hospitalized_confirmed_and_suspected_covid',\n",
       "       'total_adult_patients_hospitalized_confirmed_and_suspected_covid_coverage',\n",
       "       'total_adult_patients_hospitalized_confirmed_covid',\n",
       "       'total_adult_patients_hospitalized_confirmed_covid_coverage',\n",
       "       'total_pediatric_patients_hospitalized_confirmed_and_suspected_covid',\n",
       "       'total_pediatric_patients_hospitalized_confirmed_and_suspected_covid_coverage',\n",
       "       'total_pediatric_patients_hospitalized_confirmed_covid',\n",
       "       'total_pediatric_patients_hospitalized_confirmed_covid_coverage',\n",
       "       'total_staffed_adult_icu_beds', 'total_staffed_adult_icu_beds_coverage',\n",
       "       'inpatient_beds_utilization', 'inpatient_beds_utilization_coverage',\n",
       "       'inpatient_beds_utilization_numerator',\n",
       "       'inpatient_beds_utilization_denominator',\n",
       "       'percent_of_inpatients_with_covid',\n",
       "       'percent_of_inpatients_with_covid_coverage',\n",
       "       'percent_of_inpatients_with_covid_numerator',\n",
       "       'percent_of_inpatients_with_covid_denominator',\n",
       "       'inpatient_bed_covid_utilization',\n",
       "       'inpatient_bed_covid_utilization_coverage',\n",
       "       'inpatient_bed_covid_utilization_numerator',\n",
       "       'inpatient_bed_covid_utilization_denominator',\n",
       "       'adult_icu_bed_covid_utilization',\n",
       "       'adult_icu_bed_covid_utilization_coverage',\n",
       "       'adult_icu_bed_covid_utilization_numerator',\n",
       "       'adult_icu_bed_covid_utilization_denominator',\n",
       "       'adult_icu_bed_utilization', 'adult_icu_bed_utilization_coverage',\n",
       "       'adult_icu_bed_utilization_numerator',\n",
       "       'adult_icu_bed_utilization_denominator', 'geocoded_state',\n",
       "       'previous_day_admission_adult_covid_confirmed_18-19',\n",
       "       'previous_day_admission_adult_covid_confirmed_18-19_coverage',\n",
       "       'previous_day_admission_adult_covid_confirmed_20-29',\n",
       "       'previous_day_admission_adult_covid_confirmed_20-29_coverage',\n",
       "       'previous_day_admission_adult_covid_confirmed_30-39',\n",
       "       'previous_day_admission_adult_covid_confirmed_30-39_coverage',\n",
       "       'previous_day_admission_adult_covid_confirmed_40-49',\n",
       "       'previous_day_admission_adult_covid_confirmed_40-49_coverage',\n",
       "       'previous_day_admission_adult_covid_confirmed_50-59',\n",
       "       'previous_day_admission_adult_covid_confirmed_50-59_coverage',\n",
       "       'previous_day_admission_adult_covid_confirmed_60-69',\n",
       "       'previous_day_admission_adult_covid_confirmed_60-69_coverage',\n",
       "       'previous_day_admission_adult_covid_confirmed_70-79',\n",
       "       'previous_day_admission_adult_covid_confirmed_70-79_coverage',\n",
       "       'previous_day_admission_adult_covid_confirmed_80+',\n",
       "       'previous_day_admission_adult_covid_confirmed_80+_coverage',\n",
       "       'previous_day_admission_adult_covid_confirmed_unknown',\n",
       "       'previous_day_admission_adult_covid_confirmed_unknown_coverage',\n",
       "       'previous_day_admission_adult_covid_suspected_18-19',\n",
       "       'previous_day_admission_adult_covid_suspected_18-19_coverage',\n",
       "       'previous_day_admission_adult_covid_suspected_20-29',\n",
       "       'previous_day_admission_adult_covid_suspected_20-29_coverage',\n",
       "       'previous_day_admission_adult_covid_suspected_30-39',\n",
       "       'previous_day_admission_adult_covid_suspected_30-39_coverage',\n",
       "       'previous_day_admission_adult_covid_suspected_40-49',\n",
       "       'previous_day_admission_adult_covid_suspected_40-49_coverage',\n",
       "       'previous_day_admission_adult_covid_suspected_50-59',\n",
       "       'previous_day_admission_adult_covid_suspected_50-59_coverage',\n",
       "       'previous_day_admission_adult_covid_suspected_60-69',\n",
       "       'previous_day_admission_adult_covid_suspected_60-69_coverage',\n",
       "       'previous_day_admission_adult_covid_suspected_70-79',\n",
       "       'previous_day_admission_adult_covid_suspected_70-79_coverage',\n",
       "       'previous_day_admission_adult_covid_suspected_80+',\n",
       "       'previous_day_admission_adult_covid_suspected_80+_coverage',\n",
       "       'previous_day_admission_adult_covid_suspected_unknown',\n",
       "       'previous_day_admission_adult_covid_suspected_unknown_coverage',\n",
       "       'deaths_covid', 'deaths_covid_coverage'],\n",
       "      dtype='object')"
      ]
     },
     "execution_count": 19,
     "metadata": {},
     "output_type": "execute_result"
    }
   ],
   "source": [
    "hhs.columns"
   ]
  },
  {
   "cell_type": "code",
   "execution_count": null,
   "id": "a276132f",
   "metadata": {},
   "outputs": [],
   "source": []
  }
 ],
 "metadata": {
  "kernelspec": {
   "display_name": "Python 3 (ipykernel)",
   "language": "python",
   "name": "python3"
  },
  "language_info": {
   "codemirror_mode": {
    "name": "ipython",
    "version": 3
   },
   "file_extension": ".py",
   "mimetype": "text/x-python",
   "name": "python",
   "nbconvert_exporter": "python",
   "pygments_lexer": "ipython3",
   "version": "3.7.11"
  }
 },
 "nbformat": 4,
 "nbformat_minor": 5
}

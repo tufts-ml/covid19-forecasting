{
 "cells": [
  {
   "cell_type": "code",
   "execution_count": 4,
   "id": "e732f064",
   "metadata": {},
   "outputs": [],
   "source": [
    "import os\n",
    "import pandas as pd"
   ]
  },
  {
   "cell_type": "code",
   "execution_count": 5,
   "id": "12c0c030",
   "metadata": {},
   "outputs": [],
   "source": [
    "state = 'Massachusetts'\n",
    "state_abbrev = 'MA'\n",
    "\n",
    "data_dir = '../data'\n",
    "covid_estim_date = '20210901'\n",
    "hhs_date = '20210903'\n",
    "owid_date = '20210903'\n"
   ]
  },
  {
   "cell_type": "code",
   "execution_count": 6,
   "id": "27ebb5a6",
   "metadata": {},
   "outputs": [],
   "source": [
    "hhs_path = os.path.join(data_dir, 'hhs', hhs_date + '.csv')\n",
    "hhs = pd.read_csv(hhs_path)\n",
    "hhs = hhs[hhs['state'] == state_abbrev]\n",
    "assert len(hhs) == len(hhs.date.unique())\n"
   ]
  },
  {
   "cell_type": "code",
   "execution_count": 8,
   "id": "bd9316b2",
   "metadata": {},
   "outputs": [
    {
     "data": {
      "text/plain": [
       "Index(['state', 'date', 'critical_staffing_shortage_today_yes',\n",
       "       'critical_staffing_shortage_today_no',\n",
       "       'critical_staffing_shortage_today_not_reported',\n",
       "       'critical_staffing_shortage_anticipated_within_week_yes',\n",
       "       'critical_staffing_shortage_anticipated_within_week_no',\n",
       "       'critical_staffing_shortage_anticipated_within_week_not_reported',\n",
       "       'hospital_onset_covid', 'hospital_onset_covid_coverage',\n",
       "       'inpatient_beds', 'inpatient_beds_coverage', 'inpatient_beds_used',\n",
       "       'inpatient_beds_used_coverage', 'inpatient_beds_used_covid',\n",
       "       'inpatient_beds_used_covid_coverage',\n",
       "       'previous_day_admission_adult_covid_confirmed',\n",
       "       'previous_day_admission_adult_covid_confirmed_coverage',\n",
       "       'previous_day_admission_adult_covid_suspected',\n",
       "       'previous_day_admission_adult_covid_suspected_coverage',\n",
       "       'previous_day_admission_pediatric_covid_confirmed',\n",
       "       'previous_day_admission_pediatric_covid_confirmed_coverage',\n",
       "       'previous_day_admission_pediatric_covid_suspected',\n",
       "       'previous_day_admission_pediatric_covid_suspected_coverage',\n",
       "       'staffed_adult_icu_bed_occupancy',\n",
       "       'staffed_adult_icu_bed_occupancy_coverage',\n",
       "       'staffed_icu_adult_patients_confirmed_and_suspected_covid',\n",
       "       'staffed_icu_adult_patients_confirmed_and_suspected_covid_coverage',\n",
       "       'staffed_icu_adult_patients_confirmed_covid',\n",
       "       'staffed_icu_adult_patients_confirmed_covid_coverage',\n",
       "       'total_adult_patients_hospitalized_confirmed_and_suspected_covid',\n",
       "       'total_adult_patients_hospitalized_confirmed_and_suspected_covid_coverage',\n",
       "       'total_adult_patients_hospitalized_confirmed_covid',\n",
       "       'total_adult_patients_hospitalized_confirmed_covid_coverage',\n",
       "       'total_pediatric_patients_hospitalized_confirmed_and_suspected_covid',\n",
       "       'total_pediatric_patients_hospitalized_confirmed_and_suspected_covid_coverage',\n",
       "       'total_pediatric_patients_hospitalized_confirmed_covid',\n",
       "       'total_pediatric_patients_hospitalized_confirmed_covid_coverage',\n",
       "       'total_staffed_adult_icu_beds', 'total_staffed_adult_icu_beds_coverage',\n",
       "       'inpatient_beds_utilization', 'inpatient_beds_utilization_coverage',\n",
       "       'inpatient_beds_utilization_numerator',\n",
       "       'inpatient_beds_utilization_denominator',\n",
       "       'percent_of_inpatients_with_covid',\n",
       "       'percent_of_inpatients_with_covid_coverage',\n",
       "       'percent_of_inpatients_with_covid_numerator',\n",
       "       'percent_of_inpatients_with_covid_denominator',\n",
       "       'inpatient_bed_covid_utilization',\n",
       "       'inpatient_bed_covid_utilization_coverage',\n",
       "       'inpatient_bed_covid_utilization_numerator',\n",
       "       'inpatient_bed_covid_utilization_denominator',\n",
       "       'adult_icu_bed_covid_utilization',\n",
       "       'adult_icu_bed_covid_utilization_coverage',\n",
       "       'adult_icu_bed_covid_utilization_numerator',\n",
       "       'adult_icu_bed_covid_utilization_denominator',\n",
       "       'adult_icu_bed_utilization', 'adult_icu_bed_utilization_coverage',\n",
       "       'adult_icu_bed_utilization_numerator',\n",
       "       'adult_icu_bed_utilization_denominator', 'geocoded_state',\n",
       "       'previous_day_admission_adult_covid_confirmed_18-19',\n",
       "       'previous_day_admission_adult_covid_confirmed_18-19_coverage',\n",
       "       'previous_day_admission_adult_covid_confirmed_20-29',\n",
       "       'previous_day_admission_adult_covid_confirmed_20-29_coverage',\n",
       "       'previous_day_admission_adult_covid_confirmed_30-39',\n",
       "       'previous_day_admission_adult_covid_confirmed_30-39_coverage',\n",
       "       'previous_day_admission_adult_covid_confirmed_40-49',\n",
       "       'previous_day_admission_adult_covid_confirmed_40-49_coverage',\n",
       "       'previous_day_admission_adult_covid_confirmed_50-59',\n",
       "       'previous_day_admission_adult_covid_confirmed_50-59_coverage',\n",
       "       'previous_day_admission_adult_covid_confirmed_60-69',\n",
       "       'previous_day_admission_adult_covid_confirmed_60-69_coverage',\n",
       "       'previous_day_admission_adult_covid_confirmed_70-79',\n",
       "       'previous_day_admission_adult_covid_confirmed_70-79_coverage',\n",
       "       'previous_day_admission_adult_covid_confirmed_80+',\n",
       "       'previous_day_admission_adult_covid_confirmed_80+_coverage',\n",
       "       'previous_day_admission_adult_covid_confirmed_unknown',\n",
       "       'previous_day_admission_adult_covid_confirmed_unknown_coverage',\n",
       "       'previous_day_admission_adult_covid_suspected_18-19',\n",
       "       'previous_day_admission_adult_covid_suspected_18-19_coverage',\n",
       "       'previous_day_admission_adult_covid_suspected_20-29',\n",
       "       'previous_day_admission_adult_covid_suspected_20-29_coverage',\n",
       "       'previous_day_admission_adult_covid_suspected_30-39',\n",
       "       'previous_day_admission_adult_covid_suspected_30-39_coverage',\n",
       "       'previous_day_admission_adult_covid_suspected_40-49',\n",
       "       'previous_day_admission_adult_covid_suspected_40-49_coverage',\n",
       "       'previous_day_admission_adult_covid_suspected_50-59',\n",
       "       'previous_day_admission_adult_covid_suspected_50-59_coverage',\n",
       "       'previous_day_admission_adult_covid_suspected_60-69',\n",
       "       'previous_day_admission_adult_covid_suspected_60-69_coverage',\n",
       "       'previous_day_admission_adult_covid_suspected_70-79',\n",
       "       'previous_day_admission_adult_covid_suspected_70-79_coverage',\n",
       "       'previous_day_admission_adult_covid_suspected_80+',\n",
       "       'previous_day_admission_adult_covid_suspected_80+_coverage',\n",
       "       'previous_day_admission_adult_covid_suspected_unknown',\n",
       "       'previous_day_admission_adult_covid_suspected_unknown_coverage',\n",
       "       'deaths_covid', 'deaths_covid_coverage'],\n",
       "      dtype='object')"
      ]
     },
     "execution_count": 8,
     "metadata": {},
     "output_type": "execute_result"
    }
   ],
   "source": [
    "hhs.columns"
   ]
  },
  {
   "cell_type": "code",
   "execution_count": null,
   "id": "e2c15cf6",
   "metadata": {},
   "outputs": [],
   "source": []
  }
 ],
 "metadata": {
  "kernelspec": {
   "display_name": "Python 3 (ipykernel)",
   "language": "python",
   "name": "python3"
  },
  "language_info": {
   "codemirror_mode": {
    "name": "ipython",
    "version": 3
   },
   "file_extension": ".py",
   "mimetype": "text/x-python",
   "name": "python",
   "nbconvert_exporter": "python",
   "pygments_lexer": "ipython3",
   "version": "3.7.11"
  }
 },
 "nbformat": 4,
 "nbformat_minor": 5
}

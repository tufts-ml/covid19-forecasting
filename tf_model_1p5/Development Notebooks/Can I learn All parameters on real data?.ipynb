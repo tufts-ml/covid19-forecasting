{
 "cells": [
  {
   "cell_type": "code",
   "execution_count": 5,
   "id": "969ad8a3",
   "metadata": {},
   "outputs": [
    {
     "name": "stdout",
     "output_type": "stream",
     "text": [
      "The autoreload extension is already loaded. To reload it, use:\n",
      "  %reload_ext autoreload\n"
     ]
    }
   ],
   "source": [
    "%load_ext autoreload\n",
    "%autoreload 2\n",
    "\n",
    "import numpy as np\n",
    "import tensorflow as tf\n",
    "\n",
    "import sys\n",
    "sys.path.append('/mnt/c/Users/kheut/code/covid19-forecasting/tf_model_1p5/')\n",
    "\n",
    "from enum import Enum\n",
    "\n",
    "import tensorflow as tf\n",
    "from tensorflow import keras\n",
    "from tensorflow.keras.layers import Dense\n",
    "\n",
    "import tensorflow_probability as tfp\n",
    "from scipy.stats import beta, truncnorm\n",
    "\n",
    "\n",
    "# Local imports from model.py, data.py\n",
    "from model import CovidModel, LogPoissonProb, get_logging_callbacks, Comp, Vax\n",
    "from data import read_data, create_warmup\n",
    "#from plots import make_all_plots\n",
    "\n",
    "import scipy\n",
    "\n",
    "import matplotlib\n",
    "import matplotlib.pyplot as plt\n",
    "plt.rcParams.update({'font.size': 20}) # set plot font sizes"
   ]
  },
  {
   "cell_type": "code",
   "execution_count": 6,
   "id": "9ffdbf61",
   "metadata": {},
   "outputs": [],
   "source": [
    "transition_window =3\n",
    "\n",
    "warmup_start = '20210428'\n",
    "warmup_end = '20210430'\n",
    "train_start = '20210501'\n",
    "train_end = '20210731'\n",
    "test_start = '20210801'\n",
    "test_end = '20210831'\n",
    "\n",
    "state = 'Massachusetts'\n",
    "state_abbrev = 'MA'\n",
    "\n",
    "data_dir = '../data'\n",
    "covid_estim_date = '20210901'\n",
    "hhs_date = '20210903'\n",
    "owid_date = '20210903'\n",
    "\n",
    "log_dir = './logs/new_warmup'\n",
    "\n",
    "\n",
    "# Learning rate\n",
    "model_learning_rate = 1e-2\n",
    "warmup_learning_rate = 20\n",
    "learning_rate = 1"
   ]
  },
  {
   "cell_type": "code",
   "execution_count": 7,
   "id": "8af6455c",
   "metadata": {},
   "outputs": [],
   "source": [
    "df = read_data(data_dir=data_dir,\n",
    "               covid_estim_date=covid_estim_date,\n",
    "               hhs_date=hhs_date,\n",
    "               owid_date=owid_date,\n",
    "               state=state, state_abbrev=state_abbrev)"
   ]
  },
  {
   "cell_type": "code",
   "execution_count": 8,
   "id": "0edb57a2",
   "metadata": {},
   "outputs": [],
   "source": [
    "class Comp(Enum):\n",
    "    A = 0\n",
    "    M = 1\n",
    "    #X = 2\n",
    "    #G = 3\n",
    "    \n",
    "class Vax(Enum):\n",
    "    total = -1\n",
    "    no = 0\n",
    "    yes = 1"
   ]
  },
  {
   "cell_type": "code",
   "execution_count": 9,
   "id": "3220d0aa",
   "metadata": {},
   "outputs": [],
   "source": [
    "# get warmup arrays, splitting on vaccination status\n",
    "warmup_asymp, warmup_mild, warmup_extreme = create_warmup(df, \n",
    "                                                          warmup_start, \n",
    "                                                          warmup_end,\n",
    "                                                          0,0,0)\n",
    "\n",
    "# re-combine\n",
    "warmup_asymp = warmup_asymp[Vax.no.value] + warmup_asymp[Vax.yes.value]\n",
    "warmup_mild = warmup_mild[Vax.no.value] + warmup_asymp[Vax.yes_value]"
   ]
  },
  {
   "cell_type": "code",
   "execution_count": 10,
   "id": "086cb3f2",
   "metadata": {},
   "outputs": [],
   "source": [
    "synth_T_serial = 5.8\n",
    "synth_rho_M = 0.76\n",
    "synth_lambda_M = 4.7\n",
    "synth_nu_M = 3.1"
   ]
  },
  {
   "cell_type": "code",
   "execution_count": 11,
   "id": "ddd9c4d9",
   "metadata": {},
   "outputs": [],
   "source": [
    "warmup_A_params = {}\n",
    "warmup_A_params[Vax.total.value] = {}\n",
    "warmup_A_params[Vax.total.value]['prior'] = []\n",
    "warmup_A_params[Vax.total.value]['posterior_init'] = []\n",
    "\n",
    "for day in range(transition_window):\n",
    "    warmup_A_params[Vax.total.value]['prior'].append({'loc': warmup_asymp[day],\n",
    "                                                'scale': warmup_asymp[day]/10})\n",
    "    "
   ]
  },
  {
   "cell_type": "code",
   "execution_count": 12,
   "id": "f3dd3b64",
   "metadata": {},
   "outputs": [
    {
     "name": "stderr",
     "output_type": "stream",
     "text": [
      "2021-12-13 11:14:54.382786: I tensorflow/stream_executor/cuda/cuda_gpu_executor.cc:923] could not open file to read NUMA node: /sys/bus/pci/devices/0000:2d:00.0/numa_node\n",
      "Your kernel may have been built without NUMA support.\n",
      "2021-12-13 11:14:54.382985: W tensorflow/stream_executor/platform/default/dso_loader.cc:64] Could not load dynamic library 'libcudart.so.11.0'; dlerror: libcudart.so.11.0: cannot open shared object file: No such file or directory\n",
      "2021-12-13 11:14:54.383034: W tensorflow/stream_executor/platform/default/dso_loader.cc:64] Could not load dynamic library 'libcublas.so.11'; dlerror: libcublas.so.11: cannot open shared object file: No such file or directory\n",
      "2021-12-13 11:14:54.383071: W tensorflow/stream_executor/platform/default/dso_loader.cc:64] Could not load dynamic library 'libcublasLt.so.11'; dlerror: libcublasLt.so.11: cannot open shared object file: No such file or directory\n",
      "2021-12-13 11:14:54.383105: W tensorflow/stream_executor/platform/default/dso_loader.cc:64] Could not load dynamic library 'libcufft.so.10'; dlerror: libcufft.so.10: cannot open shared object file: No such file or directory\n",
      "2021-12-13 11:14:54.383139: W tensorflow/stream_executor/platform/default/dso_loader.cc:64] Could not load dynamic library 'libcurand.so.10'; dlerror: libcurand.so.10: cannot open shared object file: No such file or directory\n",
      "2021-12-13 11:14:54.383174: W tensorflow/stream_executor/platform/default/dso_loader.cc:64] Could not load dynamic library 'libcusolver.so.11'; dlerror: libcusolver.so.11: cannot open shared object file: No such file or directory\n",
      "2021-12-13 11:14:54.383205: W tensorflow/stream_executor/platform/default/dso_loader.cc:64] Could not load dynamic library 'libcusparse.so.11'; dlerror: libcusparse.so.11: cannot open shared object file: No such file or directory\n",
      "2021-12-13 11:14:54.383236: W tensorflow/stream_executor/platform/default/dso_loader.cc:64] Could not load dynamic library 'libcudnn.so.8'; dlerror: libcudnn.so.8: cannot open shared object file: No such file or directory\n",
      "2021-12-13 11:14:54.383244: W tensorflow/core/common_runtime/gpu/gpu_device.cc:1835] Cannot dlopen some GPU libraries. Please make sure the missing libraries mentioned above are installed properly if you would like to use GPU. Follow the guide at https://www.tensorflow.org/install/gpu for how to download and setup the required libraries for your platform.\n",
      "Skipping registering GPU devices...\n",
      "2021-12-13 11:14:54.383952: I tensorflow/core/platform/cpu_feature_guard.cc:142] This TensorFlow binary is optimized with oneAPI Deep Neural Network Library (oneDNN) to use the following CPU instructions in performance-critical operations:  AVX2 FMA\n",
      "To enable them in other operations, rebuild TensorFlow with the appropriate compiler flags.\n"
     ]
    }
   ],
   "source": [
    "x_train = tf.cast(df.loc[train_start:test_end,'Rt'].values, dtype=tf.float32)\n",
    "y_test = tf.cast(df.loc[train_start:test_end,'mild'], dtype=tf.float32)"
   ]
  },
  {
   "cell_type": "code",
   "execution_count": 13,
   "id": "9b36af2b",
   "metadata": {},
   "outputs": [],
   "source": [
    "A_vals = []\n",
    "M_vals =[]\n",
    "for day in range(transition_window):\n",
    "    A_vals.append(warmup_A_params[-1]['prior'][day]['loc'])\n",
    "\n",
    "for day in range(len(x_train)):\n",
    "    yesterday_asymp = A_vals[-1]\n",
    "    \n",
    "    today_asymp = yesterday_asymp*x_train[day]**(1/synth_T_serial)\n",
    "    A_vals.append(today_asymp)\n",
    "    \n",
    "    today_M = 0\n",
    "    pi_M=[]\n",
    "    for j in range(transition_window):\n",
    "        \n",
    "        \n",
    "        lambda_M_fix = synth_lambda_M\n",
    "        nu_M_fix = synth_nu_M\n",
    "        poisson_dist = scipy.stats.poisson(lambda_M_fix)\n",
    "        pi_M_j_ago = poisson_dist.logpmf(j+1)/nu_M_fix\n",
    "        \n",
    "        pi_M.append(pi_M_j_ago)\n",
    "    \n",
    "    pi_M = scipy.special.softmax(pi_M)\n",
    "        \n",
    "    for j in range(transition_window):\n",
    "        j_ago_asymp = A_vals[day-j-1]\n",
    "        today_M += j_ago_asymp*synth_rho_M*pi_M[j]\n",
    "        \n",
    "    M_vals.append(today_M)"
   ]
  },
  {
   "cell_type": "code",
   "execution_count": 14,
   "id": "a8c90605",
   "metadata": {},
   "outputs": [],
   "source": [
    "\n",
    "T_serial = {}\n",
    "T_serial[Vax.total.value] = {}\n",
    "T_serial[Vax.total.value]['prior'] ={'loc':5.8, 'scale':1}\n",
    "\n",
    "\n",
    "rho_M = {}\n",
    "rho_M[Vax.total.value] = {}\n",
    "rho_M[Vax.total.value]['prior'] = {'a': 31.8, 'b': 10.3}\n",
    "\n",
    "lambda_M = {}\n",
    "lambda_M[Vax.total.value] = {}\n",
    "lambda_M[Vax.total.value]['prior'] = {'loc': 4.7, 'scale': 1}\n",
    "\n",
    "nu_M = {}\n",
    "nu_M[Vax.total.value] = {}\n",
    "nu_M[Vax.total.value]['prior'] = {'loc': 3.1, 'scale': 1.2}\n",
    "\n",
    "\n"
   ]
  },
  {
   "cell_type": "code",
   "execution_count": 15,
   "id": "1829678d",
   "metadata": {},
   "outputs": [],
   "source": [
    "T_serial_scale = 1.0\n",
    "rho_M_scale = 0.1\n",
    "lambda_M_scale = 1.0\n",
    "nu_M_scale = 1.2\n",
    "\n",
    "warmup_scales = [0.1]*warmup_asymp"
   ]
  },
  {
   "cell_type": "code",
   "execution_count": 54,
   "id": "a56b9dbe",
   "metadata": {},
   "outputs": [],
   "source": [
    "T_serial[Vax.total.value]['posterior_init'] = {'loc': tfp.math.softplus_inverse(4.0),\n",
    "                                     'scale':tf.cast(tfp.math.softplus_inverse(T_serial_scale),dtype=tf.float32)}\n",
    "\n",
    "rho_M[Vax.total.value]['posterior_init'] = {'loc': tf.cast(np.log(0.5/(1-0.5)),dtype=tf.float32),\n",
    "                                      'scale':tf.cast(tfp.math.softplus_inverse(rho_M_scale),dtype=tf.float32)}\n",
    "\n",
    "lambda_M[Vax.total.value]['posterior_init'] = {'loc': tf.cast(tfp.math.softplus_inverse(3.0),dtype=tf.float32),\n",
    "                                         'scale':tf.cast(tfp.math.softplus_inverse(lambda_M_scale),dtype=tf.float32)}\n",
    "\n",
    "nu_M[Vax.total.value]['posterior_init'] = {'loc': tf.cast(tfp.math.softplus_inverse(5.0),dtype=tf.float32),\n",
    "                                     'scale':tf.cast(tfp.math.softplus_inverse(nu_M_scale),dtype=tf.float32)}\n",
    "\n",
    "for day in range(transition_window):\n",
    "    # must be positive so reverse softplus the mean\n",
    "    warmup_A_params[Vax.total.value]['posterior_init'].append({'loc': tf.cast(tfp.math.softplus_inverse(2000.0),dtype=tf.float32),\n",
    "                                                         'scale': tf.cast(tfp.math.softplus_inverse(500.0),dtype=tf.float32)})#tf.cast(tfp.math.softplus_inverse(warmup_asymp[day]/10),dtype=tf.float32)})\n",
    "\n",
    "model = CovidModel([Vax.total], [Comp.A, Comp.M],\n",
    "                 transition_window,\n",
    "                T_serial, rho_M, lambda_M, nu_M,\n",
    "                 warmup_A_params, posterior_samples=1000, debug_disable_theta=False)\n",
    "\n",
    "pre_training_preds=tf.reduce_mean(model.call(x_train), axis=-1)"
   ]
  },
  {
   "cell_type": "code",
   "execution_count": 55,
   "id": "09ed1fc8",
   "metadata": {},
   "outputs": [
    {
     "data": {
      "text/plain": [
       "[<tf.Variable 'T_serial_A_loc_-1:0' shape=() dtype=float32, numpy=3.9815147>,\n",
       " <tf.Variable 'T_serial_A_scale_-1:0' shape=() dtype=float32, numpy=0.54132485>,\n",
       " <tf.Variable 'rho_M_loc_-1:0' shape=() dtype=float32, numpy=0.0>,\n",
       " <tf.Variable 'rho_M_scale_-1:0' shape=() dtype=float32, numpy=-2.2521684>,\n",
       " <tf.Variable 'lambda_M_loc_-1:0' shape=() dtype=float32, numpy=2.9489307>,\n",
       " <tf.Variable 'lambda_M_scale_-1:0' shape=() dtype=float32, numpy=0.54132485>,\n",
       " <tf.Variable 'nu_M_loc_-1:0' shape=() dtype=float32, numpy=4.9932394>,\n",
       " <tf.Variable 'nu_M_scale_-1:0' shape=() dtype=float32, numpy=0.8416177>,\n",
       " <tf.Variable 'warmup_A_loc_0_-1:0' shape=() dtype=float32, numpy=2000.0>,\n",
       " <tf.Variable 'warmup_A_scale_0_-1:0' shape=() dtype=float32, numpy=500.0>,\n",
       " <tf.Variable 'warmup_A_loc_1_-1:0' shape=() dtype=float32, numpy=2000.0>,\n",
       " <tf.Variable 'warmup_A_scale_1_-1:0' shape=() dtype=float32, numpy=500.0>,\n",
       " <tf.Variable 'warmup_A_loc_2_-1:0' shape=() dtype=float32, numpy=2000.0>,\n",
       " <tf.Variable 'warmup_A_scale_2_-1:0' shape=() dtype=float32, numpy=500.0>]"
      ]
     },
     "execution_count": 55,
     "metadata": {},
     "output_type": "execute_result"
    }
   ],
   "source": [
    "model.variables"
   ]
  },
  {
   "cell_type": "code",
   "execution_count": 56,
   "id": "1022303c",
   "metadata": {},
   "outputs": [],
   "source": [
    "model_variables = model.variables[:-6]\n",
    "assert all(['warmup' not in variable.name for variable in model_variables])\n",
    "warmup_variables = model.variables[-6:]\n",
    "assert all(['warmup' in variable.name for variable in warmup_variables])"
   ]
  },
  {
   "cell_type": "code",
   "execution_count": 57,
   "id": "78bf9c0d",
   "metadata": {},
   "outputs": [
    {
     "ename": "SyntaxError",
     "evalue": "invalid syntax (341888841.py, line 1)",
     "output_type": "error",
     "traceback": [
      "\u001b[0;36m  File \u001b[0;32m\"/tmp/ipykernel_448/341888841.py\"\u001b[0;36m, line \u001b[0;32m1\u001b[0m\n\u001b[0;31m    loss = LogPoisstf.gradients is not supported when eager execution is enabled. Use tf.GradientTape instead.onProb()\u001b[0m\n\u001b[0m                                                    ^\u001b[0m\n\u001b[0;31mSyntaxError\u001b[0m\u001b[0;31m:\u001b[0m invalid syntax\n"
     ]
    }
   ],
   "source": [
    "loss = LogPoisstf.gradients is not supported when eager execution is enabled. Use tf.GradientTape instead.onProb() \n",
    "\n",
    "model_opt = tf.keras.optimizers.Adam(\n",
    "    learning_rate=model_learning_rate, #momentum=0.98, nesterov=False, name='SGD'\n",
    ")\n",
    "warmup_opt = tf.keras.optimizers.Adam(\n",
    "    learning_rate=warmup_learning_rate, #momentum=0.98, nesterov=False, name='SGD'\n",
    ")\n",
    "grads = tf.gradients(loss, model_variables + warmup_variables )\n",
    "model_grads = grads[:len(model_variables)]\n",
    "warmup_grads = grads[len(warmup_variables):]\n",
    "model_train_op = opt1.apply_gradients(zip(model_grads, model_variables))\n",
    "warmup_train_op = opt2.apply_gradients(zip(warmup_grads, warmup_variables))\n",
    "train_op = tf.group(model_train_op, warmup_train_op)"
   ]
  },
  {
   "cell_type": "code",
   "execution_count": 58,
   "id": "87a9c09d",
   "metadata": {},
   "outputs": [],
   "source": [
    "loss = LogPoissonProb() \n",
    "optimizer = tf.keras.optimizers.Adam(\n",
    "    learning_rate=1, #beta_1=0.1, beta_2=0.1\n",
    ")"
   ]
  },
  {
   "cell_type": "code",
   "execution_count": 59,
   "id": "423d66f9",
   "metadata": {},
   "outputs": [
    {
     "name": "stderr",
     "output_type": "stream",
     "text": [
      "2021-12-13 12:07:14.968371: I tensorflow/core/profiler/lib/profiler_session.cc:131] Profiler session initializing.\n",
      "2021-12-13 12:07:14.968402: I tensorflow/core/profiler/lib/profiler_session.cc:146] Profiler session started.\n",
      "2021-12-13 12:07:14.968478: E tensorflow/core/profiler/internal/gpu/cupti_tracer.cc:1666] function cupti_interface_->Subscribe( &subscriber_, (CUpti_CallbackFunc)ApiCallback, this)failed with error CUPTI could not be loaded or symbol could not be found.\n",
      "2021-12-13 12:07:14.968663: I tensorflow/core/profiler/lib/profiler_session.cc:164] Profiler session tear down.\n",
      "2021-12-13 12:07:14.968753: E tensorflow/core/profiler/internal/gpu/cupti_tracer.cc:1757] function cupti_interface_->Finalize()failed with error CUPTI could not be loaded or symbol could not be found.\n"
     ]
    }
   ],
   "source": [
    "logging_callbacks = get_logging_callbacks('/mnt/c/Users/kheut/logs/covid/bayes_learn_all_estim_01')"
   ]
  },
  {
   "cell_type": "code",
   "execution_count": 65,
   "id": "d1c8368b",
   "metadata": {
    "scrolled": true
   },
   "outputs": [
    {
     "name": "stdout",
     "output_type": "stream",
     "text": [
      "Epoch 1/500\n",
      "1/1 [==============================] - 2s 2s/step - loss: 993.2242\n",
      "Epoch 2/500\n"
     ]
    },
    {
     "name": "stderr",
     "output_type": "stream",
     "text": [
      "2021-12-13 12:47:55.277041: I tensorflow/core/profiler/lib/profiler_session.cc:131] Profiler session initializing.\n",
      "2021-12-13 12:47:55.277072: I tensorflow/core/profiler/lib/profiler_session.cc:146] Profiler session started.\n",
      "2021-12-13 12:47:55.277310: E tensorflow/core/profiler/internal/gpu/cupti_tracer.cc:1666] function cupti_interface_->Subscribe( &subscriber_, (CUpti_CallbackFunc)ApiCallback, this)failed with error CUPTI could not be loaded or symbol could not be found.\n"
     ]
    },
    {
     "name": "stdout",
     "output_type": "stream",
     "text": [
      "\r",
      "1/1 [==============================] - ETA: 0s - loss: 995.5760"
     ]
    },
    {
     "name": "stderr",
     "output_type": "stream",
     "text": [
      "2021-12-13 12:47:57.814693: I tensorflow/core/profiler/lib/profiler_session.cc:66] Profiler session collecting data.\n",
      "2021-12-13 12:47:57.820860: E tensorflow/core/profiler/internal/gpu/cupti_tracer.cc:1757] function cupti_interface_->Finalize()failed with error CUPTI could not be loaded or symbol could not be found.\n",
      "2021-12-13 12:47:57.995376: I tensorflow/core/profiler/internal/gpu/cupti_collector.cc:673]  GpuTracer has collected 0 callback api events and 0 activity events. \n",
      "2021-12-13 12:47:58.314903: I tensorflow/core/profiler/lib/profiler_session.cc:164] Profiler session tear down.\n",
      "2021-12-13 12:47:59.212863: I tensorflow/core/profiler/rpc/client/save_profile.cc:136] Creating directory: /mnt/c/Users/kheut/logs/covid/bayes_learn_all_estim_01/train/plugins/profile/2021_12_13_12_47_58\n",
      "\n",
      "2021-12-13 12:47:59.984573: I tensorflow/core/profiler/rpc/client/save_profile.cc:142] Dumped gzipped tool data for trace.json.gz to /mnt/c/Users/kheut/logs/covid/bayes_learn_all_estim_01/train/plugins/profile/2021_12_13_12_47_58/MrChipsNVME.trace.json.gz\n"
     ]
    },
    {
     "name": "stdout",
     "output_type": "stream",
     "text": [
      "\b\b\b\b\b\b\b\b\b\b\b\b\b\b\b\b\b\b\b\b\b\b\b\b\b\b\b\b\b\b\b\b\b\b\b\b\b\b\b\b\b\b\b\b\b\b\b\b\b\b\b\b\b\b\b\b\b\b\b\b\b\b\b\r",
      "1/1 [==============================] - 5s 5s/step - loss: 995.5760\n"
     ]
    },
    {
     "name": "stderr",
     "output_type": "stream",
     "text": [
      "2021-12-13 12:48:00.254353: I tensorflow/core/profiler/rpc/client/save_profile.cc:136] Creating directory: /mnt/c/Users/kheut/logs/covid/bayes_learn_all_estim_01/train/plugins/profile/2021_12_13_12_47_58\n",
      "\n",
      "2021-12-13 12:48:00.257169: I tensorflow/core/profiler/rpc/client/save_profile.cc:142] Dumped gzipped tool data for memory_profile.json.gz to /mnt/c/Users/kheut/logs/covid/bayes_learn_all_estim_01/train/plugins/profile/2021_12_13_12_47_58/MrChipsNVME.memory_profile.json.gz\n",
      "2021-12-13 12:48:00.280087: I tensorflow/core/profiler/rpc/client/capture_profile.cc:251] Creating directory: /mnt/c/Users/kheut/logs/covid/bayes_learn_all_estim_01/train/plugins/profile/2021_12_13_12_47_58\n",
      "Dumped tool data for xplane.pb to /mnt/c/Users/kheut/logs/covid/bayes_learn_all_estim_01/train/plugins/profile/2021_12_13_12_47_58/MrChipsNVME.xplane.pb\n",
      "Dumped tool data for overview_page.pb to /mnt/c/Users/kheut/logs/covid/bayes_learn_all_estim_01/train/plugins/profile/2021_12_13_12_47_58/MrChipsNVME.overview_page.pb\n",
      "Dumped tool data for input_pipeline.pb to /mnt/c/Users/kheut/logs/covid/bayes_learn_all_estim_01/train/plugins/profile/2021_12_13_12_47_58/MrChipsNVME.input_pipeline.pb\n",
      "Dumped tool data for tensorflow_stats.pb to /mnt/c/Users/kheut/logs/covid/bayes_learn_all_estim_01/train/plugins/profile/2021_12_13_12_47_58/MrChipsNVME.tensorflow_stats.pb\n",
      "Dumped tool data for kernel_stats.pb to /mnt/c/Users/kheut/logs/covid/bayes_learn_all_estim_01/train/plugins/profile/2021_12_13_12_47_58/MrChipsNVME.kernel_stats.pb\n",
      "\n"
     ]
    },
    {
     "name": "stdout",
     "output_type": "stream",
     "text": [
      "Epoch 3/500\n",
      "1/1 [==============================] - 2s 2s/step - loss: 986.5211\n",
      "Epoch 4/500\n",
      "1/1 [==============================] - 2s 2s/step - loss: 993.4314\n",
      "Epoch 5/500\n",
      "1/1 [==============================] - 2s 2s/step - loss: 988.4611\n",
      "Epoch 6/500\n",
      "1/1 [==============================] - 2s 2s/step - loss: 989.4211\n",
      "Epoch 7/500\n",
      "1/1 [==============================] - 2s 2s/step - loss: 988.0787\n",
      "Epoch 8/500\n",
      "1/1 [==============================] - 2s 2s/step - loss: 988.7338\n",
      "Epoch 9/500\n",
      "1/1 [==============================] - 2s 2s/step - loss: 991.0002\n",
      "Epoch 10/500\n",
      "1/1 [==============================] - 2s 2s/step - loss: 987.5217\n",
      "Epoch 11/500\n",
      "1/1 [==============================] - 2s 2s/step - loss: 988.1565\n",
      "Epoch 12/500\n",
      "1/1 [==============================] - 2s 2s/step - loss: 993.0857\n",
      "Epoch 13/500\n",
      "1/1 [==============================] - 2s 2s/step - loss: 991.3207\n",
      "Epoch 14/500\n",
      "1/1 [==============================] - 2s 2s/step - loss: 990.3307\n",
      "Epoch 15/500\n",
      "1/1 [==============================] - 2s 2s/step - loss: 987.1102\n",
      "Epoch 16/500\n",
      "1/1 [==============================] - 2s 2s/step - loss: 982.2612\n",
      "Epoch 17/500\n",
      "1/1 [==============================] - 2s 2s/step - loss: 988.5599\n",
      "Epoch 18/500\n",
      "1/1 [==============================] - 2s 2s/step - loss: 994.7884\n",
      "Epoch 19/500\n",
      "1/1 [==============================] - 2s 2s/step - loss: 992.1875\n",
      "Epoch 20/500\n",
      "1/1 [==============================] - 2s 2s/step - loss: 983.6260\n",
      "Epoch 21/500\n",
      "1/1 [==============================] - 2s 2s/step - loss: 990.0387\n",
      "Epoch 22/500\n",
      "1/1 [==============================] - 2s 2s/step - loss: 985.8361\n",
      "Epoch 23/500\n",
      "1/1 [==============================] - 2s 2s/step - loss: 988.5394\n",
      "Epoch 24/500\n",
      "1/1 [==============================] - 2s 2s/step - loss: 994.0084\n",
      "Epoch 25/500\n",
      "1/1 [==============================] - 2s 2s/step - loss: 991.1235\n",
      "Epoch 26/500\n",
      "1/1 [==============================] - 2s 2s/step - loss: 986.6627\n",
      "Epoch 27/500\n",
      "1/1 [==============================] - 2s 2s/step - loss: 982.8759\n",
      "Epoch 28/500\n",
      "1/1 [==============================] - 2s 2s/step - loss: 986.8140\n",
      "Epoch 29/500\n",
      "1/1 [==============================] - 2s 2s/step - loss: 991.4452\n",
      "Epoch 30/500\n",
      "1/1 [==============================] - 2s 2s/step - loss: 993.7209\n",
      "Epoch 31/500\n",
      "1/1 [==============================] - 2s 2s/step - loss: 986.1415\n",
      "Epoch 32/500\n",
      "1/1 [==============================] - 2s 2s/step - loss: 983.1957\n",
      "Epoch 33/500\n",
      "1/1 [==============================] - 2s 2s/step - loss: 984.6304\n",
      "Epoch 34/500\n",
      "1/1 [==============================] - 2s 2s/step - loss: 986.8588\n",
      "Epoch 35/500\n",
      "1/1 [==============================] - 2s 2s/step - loss: 990.3920\n",
      "Epoch 36/500\n",
      "1/1 [==============================] - 2s 2s/step - loss: 993.1660\n",
      "Epoch 37/500\n",
      "1/1 [==============================] - 2s 2s/step - loss: 990.2329\n",
      "Epoch 38/500\n",
      "1/1 [==============================] - 2s 2s/step - loss: 985.3770\n",
      "Epoch 39/500\n",
      "1/1 [==============================] - 2s 2s/step - loss: 982.5719\n",
      "Epoch 40/500\n",
      "1/1 [==============================] - 2s 2s/step - loss: 985.5830\n",
      "Epoch 41/500\n",
      "1/1 [==============================] - 2s 2s/step - loss: 994.1631\n",
      "Epoch 42/500\n",
      "1/1 [==============================] - 2s 2s/step - loss: 992.0748\n",
      "Epoch 43/500\n",
      "1/1 [==============================] - 2s 2s/step - loss: 988.4601\n",
      "Epoch 44/500\n",
      "1/1 [==============================] - 2s 2s/step - loss: 987.3859\n",
      "Epoch 45/500\n",
      "1/1 [==============================] - 2s 2s/step - loss: 986.0330\n",
      "Epoch 46/500\n",
      "1/1 [==============================] - 2s 2s/step - loss: 982.2391\n",
      "Epoch 47/500\n",
      "1/1 [==============================] - 2s 2s/step - loss: 990.6311\n",
      "Epoch 48/500\n",
      "1/1 [==============================] - 2s 2s/step - loss: 986.6664\n",
      "Epoch 49/500\n",
      "1/1 [==============================] - 2s 2s/step - loss: 990.5659\n",
      "Epoch 50/500\n",
      "1/1 [==============================] - 2s 2s/step - loss: 985.2808\n",
      "Epoch 51/500\n",
      "1/1 [==============================] - 2s 2s/step - loss: 985.5097\n",
      "Epoch 52/500\n",
      "1/1 [==============================] - 2s 2s/step - loss: 984.3992\n",
      "Epoch 53/500\n",
      "1/1 [==============================] - 2s 2s/step - loss: 988.8427\n",
      "Epoch 54/500\n",
      "1/1 [==============================] - 2s 2s/step - loss: 992.1136\n",
      "Epoch 55/500\n",
      "1/1 [==============================] - 2s 2s/step - loss: 986.3664\n",
      "Epoch 56/500\n",
      "1/1 [==============================] - 2s 2s/step - loss: 982.4351\n",
      "Epoch 57/500\n",
      "1/1 [==============================] - 2s 2s/step - loss: 988.2988\n",
      "Epoch 58/500\n",
      "1/1 [==============================] - 2s 2s/step - loss: 992.1687\n",
      "Epoch 59/500\n",
      "1/1 [==============================] - 2s 2s/step - loss: 987.1321\n",
      "Epoch 60/500\n",
      "1/1 [==============================] - 2s 2s/step - loss: 983.5141\n",
      "Epoch 61/500\n",
      "1/1 [==============================] - 2s 2s/step - loss: 982.5664\n",
      "Epoch 62/500\n",
      "1/1 [==============================] - 2s 2s/step - loss: 985.6249\n",
      "Epoch 63/500\n",
      "1/1 [==============================] - 2s 2s/step - loss: 990.6232\n",
      "Epoch 64/500\n",
      "1/1 [==============================] - 2s 2s/step - loss: 989.7202\n",
      "Epoch 65/500\n",
      "1/1 [==============================] - 2s 2s/step - loss: 984.6868\n",
      "Epoch 66/500\n",
      "1/1 [==============================] - 2s 2s/step - loss: 982.2705\n",
      "Epoch 67/500\n",
      "1/1 [==============================] - 2s 2s/step - loss: 991.4628\n",
      "Epoch 68/500\n",
      "1/1 [==============================] - 2s 2s/step - loss: 989.4506\n",
      "Epoch 69/500\n",
      "1/1 [==============================] - 2s 2s/step - loss: 983.5472\n",
      "Epoch 70/500\n",
      "1/1 [==============================] - 2s 2s/step - loss: 983.4821\n",
      "Epoch 71/500\n",
      "1/1 [==============================] - 2s 2s/step - loss: 982.5555\n",
      "Epoch 72/500\n",
      "1/1 [==============================] - 2s 2s/step - loss: 996.0602\n",
      "Epoch 73/500\n",
      "1/1 [==============================] - 2s 2s/step - loss: 985.9554\n",
      "Epoch 74/500\n",
      "1/1 [==============================] - 2s 2s/step - loss: 981.5625\n",
      "Epoch 75/500\n",
      "1/1 [==============================] - 2s 2s/step - loss: 985.2170\n",
      "Epoch 76/500\n",
      "1/1 [==============================] - 2s 2s/step - loss: 983.1452\n",
      "Epoch 77/500\n",
      "1/1 [==============================] - 2s 2s/step - loss: 990.5674\n",
      "Epoch 78/500\n",
      "1/1 [==============================] - 2s 2s/step - loss: 993.8279\n",
      "Epoch 79/500\n",
      "1/1 [==============================] - 2s 2s/step - loss: 984.2398\n",
      "Epoch 80/500\n",
      "1/1 [==============================] - 2s 2s/step - loss: 983.3651\n",
      "Epoch 81/500\n",
      "1/1 [==============================] - 2s 2s/step - loss: 980.8497\n",
      "Epoch 82/500\n",
      "1/1 [==============================] - 2s 2s/step - loss: 981.9828\n",
      "Epoch 83/500\n",
      "1/1 [==============================] - 2s 2s/step - loss: 995.2482\n",
      "Epoch 84/500\n",
      "1/1 [==============================] - 2s 2s/step - loss: 992.4562\n",
      "Epoch 85/500\n",
      "1/1 [==============================] - 2s 2s/step - loss: 991.6086\n",
      "Epoch 86/500\n",
      "1/1 [==============================] - 2s 2s/step - loss: 980.2720\n",
      "Epoch 87/500\n",
      "1/1 [==============================] - 2s 2s/step - loss: 975.8099\n",
      "Epoch 88/500\n",
      "1/1 [==============================] - 2s 2s/step - loss: 980.2347\n",
      "Epoch 89/500\n",
      "1/1 [==============================] - 2s 2s/step - loss: 991.7177\n",
      "Epoch 90/500\n",
      "1/1 [==============================] - 2s 2s/step - loss: 996.7657\n",
      "Epoch 91/500\n",
      "1/1 [==============================] - 2s 2s/step - loss: 997.3004\n",
      "Epoch 92/500\n",
      "1/1 [==============================] - 2s 2s/step - loss: 982.0061\n",
      "Epoch 93/500\n",
      "1/1 [==============================] - 2s 2s/step - loss: 977.5554\n",
      "Epoch 94/500\n",
      "1/1 [==============================] - 2s 2s/step - loss: 979.4870\n",
      "Epoch 95/500\n",
      "1/1 [==============================] - 2s 2s/step - loss: 990.6331\n",
      "Epoch 96/500\n",
      "1/1 [==============================] - 2s 2s/step - loss: 997.1684\n",
      "Epoch 97/500\n",
      "1/1 [==============================] - 2s 2s/step - loss: 991.9330\n",
      "Epoch 98/500\n",
      "1/1 [==============================] - 2s 2s/step - loss: 981.2938\n",
      "Epoch 99/500\n",
      "1/1 [==============================] - 2s 2s/step - loss: 979.1812\n",
      "Epoch 100/500\n",
      "1/1 [==============================] - 2s 2s/step - loss: 981.1230\n",
      "Epoch 101/500\n",
      "1/1 [==============================] - 2s 2s/step - loss: 989.9520\n",
      "Epoch 102/500\n",
      "1/1 [==============================] - 2s 2s/step - loss: 992.2106\n",
      "Epoch 103/500\n",
      "1/1 [==============================] - 2s 2s/step - loss: 991.2108\n",
      "Epoch 104/500\n",
      "1/1 [==============================] - 2s 2s/step - loss: 979.4282\n",
      "Epoch 105/500\n"
     ]
    },
    {
     "name": "stdout",
     "output_type": "stream",
     "text": [
      "1/1 [==============================] - 2s 2s/step - loss: 978.3990\n",
      "Epoch 106/500\n",
      "1/1 [==============================] - 2s 2s/step - loss: 981.1679\n",
      "Epoch 107/500\n",
      "1/1 [==============================] - 2s 2s/step - loss: 992.5760\n",
      "Epoch 108/500\n",
      "1/1 [==============================] - 2s 2s/step - loss: 996.3748\n",
      "Epoch 109/500\n",
      "1/1 [==============================] - 2s 2s/step - loss: 985.4033\n",
      "Epoch 110/500\n",
      "1/1 [==============================] - 2s 2s/step - loss: 978.3453\n",
      "Epoch 111/500\n",
      "1/1 [==============================] - 2s 2s/step - loss: 981.6016\n",
      "Epoch 112/500\n",
      "1/1 [==============================] - 2s 2s/step - loss: 985.8527\n",
      "Epoch 113/500\n",
      "1/1 [==============================] - 2s 2s/step - loss: 990.5688\n",
      "Epoch 114/500\n",
      "1/1 [==============================] - 2s 2s/step - loss: 991.8648\n",
      "Epoch 115/500\n",
      "1/1 [==============================] - 2s 2s/step - loss: 984.6724\n",
      "Epoch 116/500\n",
      "1/1 [==============================] - 2s 2s/step - loss: 978.0399\n",
      "Epoch 117/500\n",
      "1/1 [==============================] - 2s 2s/step - loss: 980.3125\n",
      "Epoch 118/500\n",
      "1/1 [==============================] - 2s 2s/step - loss: 992.1476\n",
      "Epoch 119/500\n",
      "1/1 [==============================] - 2s 2s/step - loss: 992.8439\n",
      "Epoch 120/500\n",
      "1/1 [==============================] - 2s 2s/step - loss: 986.3578\n",
      "Epoch 121/500\n",
      "1/1 [==============================] - 2s 2s/step - loss: 982.1671\n",
      "Epoch 122/500\n",
      "1/1 [==============================] - 2s 2s/step - loss: 983.3817\n",
      "Epoch 123/500\n",
      "1/1 [==============================] - 2s 2s/step - loss: 978.3202\n",
      "Epoch 124/500\n",
      "1/1 [==============================] - 2s 2s/step - loss: 984.9196\n",
      "Epoch 125/500\n",
      "1/1 [==============================] - 2s 2s/step - loss: 991.9358\n",
      "Epoch 126/500\n",
      "1/1 [==============================] - 2s 2s/step - loss: 991.0062\n",
      "Epoch 127/500\n",
      "1/1 [==============================] - 2s 2s/step - loss: 984.9300\n",
      "Epoch 128/500\n",
      "1/1 [==============================] - 2s 2s/step - loss: 978.9471\n",
      "Epoch 129/500\n",
      "1/1 [==============================] - 2s 2s/step - loss: 979.9852\n",
      "Epoch 130/500\n",
      "1/1 [==============================] - 2s 2s/step - loss: 980.5547\n",
      "Epoch 131/500\n",
      "1/1 [==============================] - 2s 2s/step - loss: 993.3098\n",
      "Epoch 132/500\n",
      "1/1 [==============================] - 2s 2s/step - loss: 995.2969\n",
      "Epoch 133/500\n",
      "1/1 [==============================] - 2s 2s/step - loss: 980.7403\n",
      "Epoch 134/500\n",
      "1/1 [==============================] - 2s 2s/step - loss: 979.2202\n",
      "Epoch 135/500\n",
      "1/1 [==============================] - 2s 2s/step - loss: 981.0031\n",
      "Epoch 136/500\n",
      "1/1 [==============================] - 2s 2s/step - loss: 984.8630\n",
      "Epoch 137/500\n",
      "1/1 [==============================] - 2s 2s/step - loss: 989.2755\n",
      "Epoch 138/500\n",
      "1/1 [==============================] - 2s 2s/step - loss: 986.2718\n",
      "Epoch 139/500\n",
      "1/1 [==============================] - 2s 2s/step - loss: 992.7954\n",
      "Epoch 140/500\n",
      "1/1 [==============================] - 2s 2s/step - loss: 980.2077\n",
      "Epoch 141/500\n",
      "1/1 [==============================] - 2s 2s/step - loss: 976.2570\n",
      "Epoch 142/500\n",
      "1/1 [==============================] - 2s 2s/step - loss: 984.8763\n",
      "Epoch 143/500\n",
      "1/1 [==============================] - 2s 2s/step - loss: 988.9249\n",
      "Epoch 144/500\n",
      "1/1 [==============================] - 2s 2s/step - loss: 987.8776\n",
      "Epoch 145/500\n",
      "1/1 [==============================] - 2s 2s/step - loss: 984.6221\n",
      "Epoch 146/500\n",
      "1/1 [==============================] - 2s 2s/step - loss: 983.9167\n",
      "Epoch 147/500\n",
      "1/1 [==============================] - 2s 2s/step - loss: 978.3490\n",
      "Epoch 148/500\n",
      "1/1 [==============================] - 2s 2s/step - loss: 980.1716\n",
      "Epoch 149/500\n",
      "1/1 [==============================] - 2s 2s/step - loss: 991.3754\n",
      "Epoch 150/500\n",
      "1/1 [==============================] - 2s 2s/step - loss: 990.5352\n",
      "Epoch 151/500\n",
      "1/1 [==============================] - 2s 2s/step - loss: 983.3097\n",
      "Epoch 152/500\n",
      "1/1 [==============================] - 2s 2s/step - loss: 981.6809\n",
      "Epoch 153/500\n",
      "1/1 [==============================] - 2s 2s/step - loss: 981.2004\n",
      "Epoch 154/500\n",
      "1/1 [==============================] - 2s 2s/step - loss: 981.6927\n",
      "Epoch 155/500\n",
      "1/1 [==============================] - 2s 2s/step - loss: 984.5905\n",
      "Epoch 156/500\n",
      "1/1 [==============================] - 2s 2s/step - loss: 988.8514\n",
      "Epoch 157/500\n",
      "1/1 [==============================] - 2s 2s/step - loss: 988.9634\n",
      "Epoch 158/500\n",
      "1/1 [==============================] - 2s 2s/step - loss: 983.9473\n",
      "Epoch 159/500\n",
      "1/1 [==============================] - 2s 2s/step - loss: 976.8327\n",
      "Epoch 160/500\n",
      "1/1 [==============================] - 2s 2s/step - loss: 979.3235\n",
      "Epoch 161/500\n",
      "1/1 [==============================] - 2s 2s/step - loss: 986.5126\n",
      "Epoch 162/500\n",
      "1/1 [==============================] - 2s 2s/step - loss: 991.8052\n",
      "Epoch 163/500\n",
      "1/1 [==============================] - 2s 2s/step - loss: 985.8559\n",
      "Epoch 164/500\n",
      "1/1 [==============================] - 2s 2s/step - loss: 982.1180\n",
      "Epoch 165/500\n",
      "1/1 [==============================] - 2s 2s/step - loss: 979.2118\n",
      "Epoch 166/500\n",
      "1/1 [==============================] - 2s 2s/step - loss: 979.4709\n",
      "Epoch 167/500\n",
      "1/1 [==============================] - 2s 2s/step - loss: 984.3968\n",
      "Epoch 168/500\n",
      "1/1 [==============================] - 2s 2s/step - loss: 991.1194\n",
      "Epoch 169/500\n",
      "1/1 [==============================] - 2s 2s/step - loss: 993.6486\n",
      "Epoch 170/500\n",
      "1/1 [==============================] - 2s 2s/step - loss: 980.2587\n",
      "Epoch 171/500\n",
      "1/1 [==============================] - 2s 2s/step - loss: 976.8198\n",
      "Epoch 172/500\n",
      "1/1 [==============================] - 2s 2s/step - loss: 979.9926\n",
      "Epoch 173/500\n",
      "1/1 [==============================] - 2s 2s/step - loss: 985.1118\n",
      "Epoch 174/500\n",
      "1/1 [==============================] - 2s 2s/step - loss: 997.3433\n",
      "Epoch 175/500\n",
      "1/1 [==============================] - 2s 2s/step - loss: 983.9916\n",
      "Epoch 176/500\n",
      "1/1 [==============================] - 2s 2s/step - loss: 977.3434\n",
      "Epoch 177/500\n",
      "1/1 [==============================] - 2s 2s/step - loss: 979.3222\n",
      "Epoch 178/500\n",
      "1/1 [==============================] - 2s 2s/step - loss: 984.1776\n",
      "Epoch 179/500\n",
      "1/1 [==============================] - 2s 2s/step - loss: 989.0529\n",
      "Epoch 180/500\n",
      "1/1 [==============================] - 2s 2s/step - loss: 989.0637\n",
      "Epoch 181/500\n",
      "1/1 [==============================] - 2s 2s/step - loss: 984.3680\n",
      "Epoch 182/500\n",
      "1/1 [==============================] - 2s 2s/step - loss: 977.1571\n",
      "Epoch 183/500\n",
      "1/1 [==============================] - 2s 2s/step - loss: 977.8157\n",
      "Epoch 184/500\n",
      "1/1 [==============================] - 2s 2s/step - loss: 984.2361\n",
      "Epoch 185/500\n",
      "1/1 [==============================] - 2s 2s/step - loss: 988.3405\n",
      "Epoch 186/500\n",
      "1/1 [==============================] - 2s 2s/step - loss: 985.9355\n",
      "Epoch 187/500\n",
      "1/1 [==============================] - 2s 2s/step - loss: 985.6435\n",
      "Epoch 188/500\n",
      "1/1 [==============================] - 2s 2s/step - loss: 982.2122\n",
      "Epoch 189/500\n",
      "1/1 [==============================] - 2s 2s/step - loss: 977.9146\n",
      "Epoch 190/500\n",
      "1/1 [==============================] - 2s 2s/step - loss: 983.0033\n",
      "Epoch 191/500\n",
      "1/1 [==============================] - 2s 2s/step - loss: 989.4751\n",
      "Epoch 192/500\n",
      "1/1 [==============================] - 2s 2s/step - loss: 987.0902\n",
      "Epoch 193/500\n",
      "1/1 [==============================] - 2s 2s/step - loss: 984.2362\n",
      "Epoch 194/500\n",
      "1/1 [==============================] - 2s 2s/step - loss: 983.2322\n",
      "Epoch 195/500\n",
      "1/1 [==============================] - 2s 2s/step - loss: 977.3096\n",
      "Epoch 196/500\n",
      "1/1 [==============================] - 2s 2s/step - loss: 978.9235\n",
      "Epoch 197/500\n",
      "1/1 [==============================] - 2s 2s/step - loss: 985.2110\n",
      "Epoch 198/500\n",
      "1/1 [==============================] - 2s 2s/step - loss: 986.9957\n",
      "Epoch 199/500\n",
      "1/1 [==============================] - 2s 2s/step - loss: 985.9153\n",
      "Epoch 200/500\n",
      "1/1 [==============================] - 2s 2s/step - loss: 982.1644\n",
      "Epoch 201/500\n",
      "1/1 [==============================] - 2s 2s/step - loss: 981.2682\n",
      "Epoch 202/500\n",
      "1/1 [==============================] - 2s 2s/step - loss: 981.5115\n",
      "Epoch 203/500\n",
      "1/1 [==============================] - 2s 2s/step - loss: 984.5053\n",
      "Epoch 204/500\n",
      "1/1 [==============================] - 2s 2s/step - loss: 982.3392\n",
      "Epoch 205/500\n",
      "1/1 [==============================] - 2s 2s/step - loss: 989.5523\n",
      "Epoch 206/500\n"
     ]
    },
    {
     "name": "stdout",
     "output_type": "stream",
     "text": [
      "1/1 [==============================] - 2s 2s/step - loss: 983.8566\n",
      "Epoch 207/500\n",
      "1/1 [==============================] - 2s 2s/step - loss: 980.2430\n",
      "Epoch 208/500\n",
      "1/1 [==============================] - 2s 2s/step - loss: 980.1023\n",
      "Epoch 209/500\n",
      "1/1 [==============================] - 2s 2s/step - loss: 987.1780\n",
      "Epoch 210/500\n",
      "1/1 [==============================] - 2s 2s/step - loss: 987.7603\n",
      "Epoch 211/500\n",
      "1/1 [==============================] - 2s 2s/step - loss: 983.5117\n",
      "Epoch 212/500\n",
      "1/1 [==============================] - 2s 2s/step - loss: 981.6703\n",
      "Epoch 213/500\n",
      "1/1 [==============================] - 2s 2s/step - loss: 983.3889\n",
      "Epoch 214/500\n",
      "1/1 [==============================] - 2s 2s/step - loss: 978.6689\n",
      "Epoch 215/500\n",
      "1/1 [==============================] - 2s 2s/step - loss: 984.3407\n",
      "Epoch 216/500\n",
      "1/1 [==============================] - 2s 2s/step - loss: 988.9875\n",
      "Epoch 217/500\n"
     ]
    },
    {
     "ename": "KeyboardInterrupt",
     "evalue": "",
     "output_type": "error",
     "traceback": [
      "\u001b[0;31m---------------------------------------------------------------------------\u001b[0m",
      "\u001b[0;31mKeyboardInterrupt\u001b[0m                         Traceback (most recent call last)",
      "\u001b[0;32m/tmp/ipykernel_448/1290277147.py\u001b[0m in \u001b[0;36m<module>\u001b[0;34m\u001b[0m\n\u001b[1;32m      2\u001b[0m model.fit(x=np.asarray([x_train]), y=np.asarray([y_test]),\n\u001b[1;32m      3\u001b[0m          \u001b[0mepochs\u001b[0m\u001b[0;34m=\u001b[0m\u001b[0;36m500\u001b[0m\u001b[0;34m,\u001b[0m \u001b[0mbatch_size\u001b[0m\u001b[0;34m=\u001b[0m\u001b[0;36m0\u001b[0m\u001b[0;34m,\u001b[0m\u001b[0;34m\u001b[0m\u001b[0;34m\u001b[0m\u001b[0m\n\u001b[0;32m----> 4\u001b[0;31m         callbacks=logging_callbacks)\n\u001b[0m",
      "\u001b[0;32m~/anaconda3/envs/covid_vax_model/lib/python3.7/site-packages/keras/engine/training.py\u001b[0m in \u001b[0;36mfit\u001b[0;34m(self, x, y, batch_size, epochs, verbose, callbacks, validation_split, validation_data, shuffle, class_weight, sample_weight, initial_epoch, steps_per_epoch, validation_steps, validation_batch_size, validation_freq, max_queue_size, workers, use_multiprocessing)\u001b[0m\n\u001b[1;32m   1182\u001b[0m                 _r=1):\n\u001b[1;32m   1183\u001b[0m               \u001b[0mcallbacks\u001b[0m\u001b[0;34m.\u001b[0m\u001b[0mon_train_batch_begin\u001b[0m\u001b[0;34m(\u001b[0m\u001b[0mstep\u001b[0m\u001b[0;34m)\u001b[0m\u001b[0;34m\u001b[0m\u001b[0;34m\u001b[0m\u001b[0m\n\u001b[0;32m-> 1184\u001b[0;31m               \u001b[0mtmp_logs\u001b[0m \u001b[0;34m=\u001b[0m \u001b[0mself\u001b[0m\u001b[0;34m.\u001b[0m\u001b[0mtrain_function\u001b[0m\u001b[0;34m(\u001b[0m\u001b[0miterator\u001b[0m\u001b[0;34m)\u001b[0m\u001b[0;34m\u001b[0m\u001b[0;34m\u001b[0m\u001b[0m\n\u001b[0m\u001b[1;32m   1185\u001b[0m               \u001b[0;32mif\u001b[0m \u001b[0mdata_handler\u001b[0m\u001b[0;34m.\u001b[0m\u001b[0mshould_sync\u001b[0m\u001b[0;34m:\u001b[0m\u001b[0;34m\u001b[0m\u001b[0;34m\u001b[0m\u001b[0m\n\u001b[1;32m   1186\u001b[0m                 \u001b[0mcontext\u001b[0m\u001b[0;34m.\u001b[0m\u001b[0masync_wait\u001b[0m\u001b[0;34m(\u001b[0m\u001b[0;34m)\u001b[0m\u001b[0;34m\u001b[0m\u001b[0;34m\u001b[0m\u001b[0m\n",
      "\u001b[0;32m~/anaconda3/envs/covid_vax_model/lib/python3.7/site-packages/keras/engine/training.py\u001b[0m in \u001b[0;36mtrain_function\u001b[0;34m(iterator)\u001b[0m\n\u001b[1;32m    851\u001b[0m       \u001b[0;32mdef\u001b[0m \u001b[0mtrain_function\u001b[0m\u001b[0;34m(\u001b[0m\u001b[0miterator\u001b[0m\u001b[0;34m)\u001b[0m\u001b[0;34m:\u001b[0m\u001b[0;34m\u001b[0m\u001b[0;34m\u001b[0m\u001b[0m\n\u001b[1;32m    852\u001b[0m         \u001b[0;34m\"\"\"Runs a training execution with one step.\"\"\"\u001b[0m\u001b[0;34m\u001b[0m\u001b[0;34m\u001b[0m\u001b[0m\n\u001b[0;32m--> 853\u001b[0;31m         \u001b[0;32mreturn\u001b[0m \u001b[0mstep_function\u001b[0m\u001b[0;34m(\u001b[0m\u001b[0mself\u001b[0m\u001b[0;34m,\u001b[0m \u001b[0miterator\u001b[0m\u001b[0;34m)\u001b[0m\u001b[0;34m\u001b[0m\u001b[0;34m\u001b[0m\u001b[0m\n\u001b[0m\u001b[1;32m    854\u001b[0m \u001b[0;34m\u001b[0m\u001b[0m\n\u001b[1;32m    855\u001b[0m     \u001b[0;32melse\u001b[0m\u001b[0;34m:\u001b[0m\u001b[0;34m\u001b[0m\u001b[0;34m\u001b[0m\u001b[0m\n",
      "\u001b[0;32m~/anaconda3/envs/covid_vax_model/lib/python3.7/site-packages/keras/engine/training.py\u001b[0m in \u001b[0;36mstep_function\u001b[0;34m(model, iterator)\u001b[0m\n\u001b[1;32m    840\u001b[0m \u001b[0;34m\u001b[0m\u001b[0m\n\u001b[1;32m    841\u001b[0m       \u001b[0mdata\u001b[0m \u001b[0;34m=\u001b[0m \u001b[0mnext\u001b[0m\u001b[0;34m(\u001b[0m\u001b[0miterator\u001b[0m\u001b[0;34m)\u001b[0m\u001b[0;34m\u001b[0m\u001b[0;34m\u001b[0m\u001b[0m\n\u001b[0;32m--> 842\u001b[0;31m       \u001b[0moutputs\u001b[0m \u001b[0;34m=\u001b[0m \u001b[0mmodel\u001b[0m\u001b[0;34m.\u001b[0m\u001b[0mdistribute_strategy\u001b[0m\u001b[0;34m.\u001b[0m\u001b[0mrun\u001b[0m\u001b[0;34m(\u001b[0m\u001b[0mrun_step\u001b[0m\u001b[0;34m,\u001b[0m \u001b[0margs\u001b[0m\u001b[0;34m=\u001b[0m\u001b[0;34m(\u001b[0m\u001b[0mdata\u001b[0m\u001b[0;34m,\u001b[0m\u001b[0;34m)\u001b[0m\u001b[0;34m)\u001b[0m\u001b[0;34m\u001b[0m\u001b[0;34m\u001b[0m\u001b[0m\n\u001b[0m\u001b[1;32m    843\u001b[0m       outputs = reduce_per_replica(\n\u001b[1;32m    844\u001b[0m           outputs, self.distribute_strategy, reduction='first')\n",
      "\u001b[0;32m~/anaconda3/envs/covid_vax_model/lib/python3.7/site-packages/tensorflow/python/distribute/distribute_lib.py\u001b[0m in \u001b[0;36mrun\u001b[0;34m(***failed resolving arguments***)\u001b[0m\n\u001b[1;32m   1284\u001b[0m       fn = autograph.tf_convert(\n\u001b[1;32m   1285\u001b[0m           fn, autograph_ctx.control_status_ctx(), convert_by_default=False)\n\u001b[0;32m-> 1286\u001b[0;31m       \u001b[0;32mreturn\u001b[0m \u001b[0mself\u001b[0m\u001b[0;34m.\u001b[0m\u001b[0m_extended\u001b[0m\u001b[0;34m.\u001b[0m\u001b[0mcall_for_each_replica\u001b[0m\u001b[0;34m(\u001b[0m\u001b[0mfn\u001b[0m\u001b[0;34m,\u001b[0m \u001b[0margs\u001b[0m\u001b[0;34m=\u001b[0m\u001b[0margs\u001b[0m\u001b[0;34m,\u001b[0m \u001b[0mkwargs\u001b[0m\u001b[0;34m=\u001b[0m\u001b[0mkwargs\u001b[0m\u001b[0;34m)\u001b[0m\u001b[0;34m\u001b[0m\u001b[0;34m\u001b[0m\u001b[0m\n\u001b[0m\u001b[1;32m   1287\u001b[0m \u001b[0;34m\u001b[0m\u001b[0m\n\u001b[1;32m   1288\u001b[0m   \u001b[0;32mdef\u001b[0m \u001b[0mreduce\u001b[0m\u001b[0;34m(\u001b[0m\u001b[0mself\u001b[0m\u001b[0;34m,\u001b[0m \u001b[0mreduce_op\u001b[0m\u001b[0;34m,\u001b[0m \u001b[0mvalue\u001b[0m\u001b[0;34m,\u001b[0m \u001b[0maxis\u001b[0m\u001b[0;34m)\u001b[0m\u001b[0;34m:\u001b[0m\u001b[0;34m\u001b[0m\u001b[0;34m\u001b[0m\u001b[0m\n",
      "\u001b[0;32m~/anaconda3/envs/covid_vax_model/lib/python3.7/site-packages/tensorflow/python/distribute/distribute_lib.py\u001b[0m in \u001b[0;36mcall_for_each_replica\u001b[0;34m(self, fn, args, kwargs)\u001b[0m\n\u001b[1;32m   2847\u001b[0m       \u001b[0mkwargs\u001b[0m \u001b[0;34m=\u001b[0m \u001b[0;34m{\u001b[0m\u001b[0;34m}\u001b[0m\u001b[0;34m\u001b[0m\u001b[0;34m\u001b[0m\u001b[0m\n\u001b[1;32m   2848\u001b[0m     \u001b[0;32mwith\u001b[0m \u001b[0mself\u001b[0m\u001b[0;34m.\u001b[0m\u001b[0m_container_strategy\u001b[0m\u001b[0;34m(\u001b[0m\u001b[0;34m)\u001b[0m\u001b[0;34m.\u001b[0m\u001b[0mscope\u001b[0m\u001b[0;34m(\u001b[0m\u001b[0;34m)\u001b[0m\u001b[0;34m:\u001b[0m\u001b[0;34m\u001b[0m\u001b[0;34m\u001b[0m\u001b[0m\n\u001b[0;32m-> 2849\u001b[0;31m       \u001b[0;32mreturn\u001b[0m \u001b[0mself\u001b[0m\u001b[0;34m.\u001b[0m\u001b[0m_call_for_each_replica\u001b[0m\u001b[0;34m(\u001b[0m\u001b[0mfn\u001b[0m\u001b[0;34m,\u001b[0m \u001b[0margs\u001b[0m\u001b[0;34m,\u001b[0m \u001b[0mkwargs\u001b[0m\u001b[0;34m)\u001b[0m\u001b[0;34m\u001b[0m\u001b[0;34m\u001b[0m\u001b[0m\n\u001b[0m\u001b[1;32m   2850\u001b[0m \u001b[0;34m\u001b[0m\u001b[0m\n\u001b[1;32m   2851\u001b[0m   \u001b[0;32mdef\u001b[0m \u001b[0m_call_for_each_replica\u001b[0m\u001b[0;34m(\u001b[0m\u001b[0mself\u001b[0m\u001b[0;34m,\u001b[0m \u001b[0mfn\u001b[0m\u001b[0;34m,\u001b[0m \u001b[0margs\u001b[0m\u001b[0;34m,\u001b[0m \u001b[0mkwargs\u001b[0m\u001b[0;34m)\u001b[0m\u001b[0;34m:\u001b[0m\u001b[0;34m\u001b[0m\u001b[0;34m\u001b[0m\u001b[0m\n",
      "\u001b[0;32m~/anaconda3/envs/covid_vax_model/lib/python3.7/site-packages/tensorflow/python/distribute/distribute_lib.py\u001b[0m in \u001b[0;36m_call_for_each_replica\u001b[0;34m(self, fn, args, kwargs)\u001b[0m\n\u001b[1;32m   3630\u001b[0m   \u001b[0;32mdef\u001b[0m \u001b[0m_call_for_each_replica\u001b[0m\u001b[0;34m(\u001b[0m\u001b[0mself\u001b[0m\u001b[0;34m,\u001b[0m \u001b[0mfn\u001b[0m\u001b[0;34m,\u001b[0m \u001b[0margs\u001b[0m\u001b[0;34m,\u001b[0m \u001b[0mkwargs\u001b[0m\u001b[0;34m)\u001b[0m\u001b[0;34m:\u001b[0m\u001b[0;34m\u001b[0m\u001b[0;34m\u001b[0m\u001b[0m\n\u001b[1;32m   3631\u001b[0m     \u001b[0;32mwith\u001b[0m \u001b[0mReplicaContext\u001b[0m\u001b[0;34m(\u001b[0m\u001b[0mself\u001b[0m\u001b[0;34m.\u001b[0m\u001b[0m_container_strategy\u001b[0m\u001b[0;34m(\u001b[0m\u001b[0;34m)\u001b[0m\u001b[0;34m,\u001b[0m \u001b[0mreplica_id_in_sync_group\u001b[0m\u001b[0;34m=\u001b[0m\u001b[0;36m0\u001b[0m\u001b[0;34m)\u001b[0m\u001b[0;34m:\u001b[0m\u001b[0;34m\u001b[0m\u001b[0;34m\u001b[0m\u001b[0m\n\u001b[0;32m-> 3632\u001b[0;31m       \u001b[0;32mreturn\u001b[0m \u001b[0mfn\u001b[0m\u001b[0;34m(\u001b[0m\u001b[0;34m*\u001b[0m\u001b[0margs\u001b[0m\u001b[0;34m,\u001b[0m \u001b[0;34m**\u001b[0m\u001b[0mkwargs\u001b[0m\u001b[0;34m)\u001b[0m\u001b[0;34m\u001b[0m\u001b[0;34m\u001b[0m\u001b[0m\n\u001b[0m\u001b[1;32m   3633\u001b[0m \u001b[0;34m\u001b[0m\u001b[0m\n\u001b[1;32m   3634\u001b[0m   \u001b[0;32mdef\u001b[0m \u001b[0m_reduce_to\u001b[0m\u001b[0;34m(\u001b[0m\u001b[0mself\u001b[0m\u001b[0;34m,\u001b[0m \u001b[0mreduce_op\u001b[0m\u001b[0;34m,\u001b[0m \u001b[0mvalue\u001b[0m\u001b[0;34m,\u001b[0m \u001b[0mdestinations\u001b[0m\u001b[0;34m,\u001b[0m \u001b[0moptions\u001b[0m\u001b[0;34m)\u001b[0m\u001b[0;34m:\u001b[0m\u001b[0;34m\u001b[0m\u001b[0;34m\u001b[0m\u001b[0m\n",
      "\u001b[0;32m~/anaconda3/envs/covid_vax_model/lib/python3.7/site-packages/tensorflow/python/autograph/impl/api.py\u001b[0m in \u001b[0;36mwrapper\u001b[0;34m(*args, **kwargs)\u001b[0m\n\u001b[1;32m    595\u001b[0m   \u001b[0;32mdef\u001b[0m \u001b[0mwrapper\u001b[0m\u001b[0;34m(\u001b[0m\u001b[0;34m*\u001b[0m\u001b[0margs\u001b[0m\u001b[0;34m,\u001b[0m \u001b[0;34m**\u001b[0m\u001b[0mkwargs\u001b[0m\u001b[0;34m)\u001b[0m\u001b[0;34m:\u001b[0m\u001b[0;34m\u001b[0m\u001b[0;34m\u001b[0m\u001b[0m\n\u001b[1;32m    596\u001b[0m     \u001b[0;32mwith\u001b[0m \u001b[0mag_ctx\u001b[0m\u001b[0;34m.\u001b[0m\u001b[0mControlStatusCtx\u001b[0m\u001b[0;34m(\u001b[0m\u001b[0mstatus\u001b[0m\u001b[0;34m=\u001b[0m\u001b[0mag_ctx\u001b[0m\u001b[0;34m.\u001b[0m\u001b[0mStatus\u001b[0m\u001b[0;34m.\u001b[0m\u001b[0mUNSPECIFIED\u001b[0m\u001b[0;34m)\u001b[0m\u001b[0;34m:\u001b[0m\u001b[0;34m\u001b[0m\u001b[0;34m\u001b[0m\u001b[0m\n\u001b[0;32m--> 597\u001b[0;31m       \u001b[0;32mreturn\u001b[0m \u001b[0mfunc\u001b[0m\u001b[0;34m(\u001b[0m\u001b[0;34m*\u001b[0m\u001b[0margs\u001b[0m\u001b[0;34m,\u001b[0m \u001b[0;34m**\u001b[0m\u001b[0mkwargs\u001b[0m\u001b[0;34m)\u001b[0m\u001b[0;34m\u001b[0m\u001b[0;34m\u001b[0m\u001b[0m\n\u001b[0m\u001b[1;32m    598\u001b[0m \u001b[0;34m\u001b[0m\u001b[0m\n\u001b[1;32m    599\u001b[0m   \u001b[0;32mif\u001b[0m \u001b[0minspect\u001b[0m\u001b[0;34m.\u001b[0m\u001b[0misfunction\u001b[0m\u001b[0;34m(\u001b[0m\u001b[0mfunc\u001b[0m\u001b[0;34m)\u001b[0m \u001b[0;32mor\u001b[0m \u001b[0minspect\u001b[0m\u001b[0;34m.\u001b[0m\u001b[0mismethod\u001b[0m\u001b[0;34m(\u001b[0m\u001b[0mfunc\u001b[0m\u001b[0;34m)\u001b[0m\u001b[0;34m:\u001b[0m\u001b[0;34m\u001b[0m\u001b[0;34m\u001b[0m\u001b[0m\n",
      "\u001b[0;32m~/anaconda3/envs/covid_vax_model/lib/python3.7/site-packages/keras/engine/training.py\u001b[0m in \u001b[0;36mrun_step\u001b[0;34m(data)\u001b[0m\n\u001b[1;32m    833\u001b[0m \u001b[0;34m\u001b[0m\u001b[0m\n\u001b[1;32m    834\u001b[0m       \u001b[0;32mdef\u001b[0m \u001b[0mrun_step\u001b[0m\u001b[0;34m(\u001b[0m\u001b[0mdata\u001b[0m\u001b[0;34m)\u001b[0m\u001b[0;34m:\u001b[0m\u001b[0;34m\u001b[0m\u001b[0;34m\u001b[0m\u001b[0m\n\u001b[0;32m--> 835\u001b[0;31m         \u001b[0moutputs\u001b[0m \u001b[0;34m=\u001b[0m \u001b[0mmodel\u001b[0m\u001b[0;34m.\u001b[0m\u001b[0mtrain_step\u001b[0m\u001b[0;34m(\u001b[0m\u001b[0mdata\u001b[0m\u001b[0;34m)\u001b[0m\u001b[0;34m\u001b[0m\u001b[0;34m\u001b[0m\u001b[0m\n\u001b[0m\u001b[1;32m    836\u001b[0m         \u001b[0;31m# Ensure counter is updated only if `train_step` succeeds.\u001b[0m\u001b[0;34m\u001b[0m\u001b[0;34m\u001b[0m\u001b[0;34m\u001b[0m\u001b[0m\n\u001b[1;32m    837\u001b[0m         \u001b[0;32mwith\u001b[0m \u001b[0mtf\u001b[0m\u001b[0;34m.\u001b[0m\u001b[0mcontrol_dependencies\u001b[0m\u001b[0;34m(\u001b[0m\u001b[0m_minimum_control_deps\u001b[0m\u001b[0;34m(\u001b[0m\u001b[0moutputs\u001b[0m\u001b[0;34m)\u001b[0m\u001b[0;34m)\u001b[0m\u001b[0;34m:\u001b[0m\u001b[0;34m\u001b[0m\u001b[0;34m\u001b[0m\u001b[0m\n",
      "\u001b[0;32m~/anaconda3/envs/covid_vax_model/lib/python3.7/site-packages/keras/engine/training.py\u001b[0m in \u001b[0;36mtrain_step\u001b[0;34m(self, data)\u001b[0m\n\u001b[1;32m    785\u001b[0m     \u001b[0;31m# Run forward pass.\u001b[0m\u001b[0;34m\u001b[0m\u001b[0;34m\u001b[0m\u001b[0;34m\u001b[0m\u001b[0m\n\u001b[1;32m    786\u001b[0m     \u001b[0;32mwith\u001b[0m \u001b[0mtf\u001b[0m\u001b[0;34m.\u001b[0m\u001b[0mGradientTape\u001b[0m\u001b[0;34m(\u001b[0m\u001b[0;34m)\u001b[0m \u001b[0;32mas\u001b[0m \u001b[0mtape\u001b[0m\u001b[0;34m:\u001b[0m\u001b[0;34m\u001b[0m\u001b[0;34m\u001b[0m\u001b[0m\n\u001b[0;32m--> 787\u001b[0;31m       \u001b[0my_pred\u001b[0m \u001b[0;34m=\u001b[0m \u001b[0mself\u001b[0m\u001b[0;34m(\u001b[0m\u001b[0mx\u001b[0m\u001b[0;34m,\u001b[0m \u001b[0mtraining\u001b[0m\u001b[0;34m=\u001b[0m\u001b[0;32mTrue\u001b[0m\u001b[0;34m)\u001b[0m\u001b[0;34m\u001b[0m\u001b[0;34m\u001b[0m\u001b[0m\n\u001b[0m\u001b[1;32m    788\u001b[0m       loss = self.compiled_loss(\n\u001b[1;32m    789\u001b[0m           y, y_pred, sample_weight, regularization_losses=self.losses)\n",
      "\u001b[0;32m~/anaconda3/envs/covid_vax_model/lib/python3.7/site-packages/keras/engine/base_layer.py\u001b[0m in \u001b[0;36m__call__\u001b[0;34m(self, *args, **kwargs)\u001b[0m\n\u001b[1;32m   1035\u001b[0m         with autocast_variable.enable_auto_cast_variables(\n\u001b[1;32m   1036\u001b[0m             self._compute_dtype_object):\n\u001b[0;32m-> 1037\u001b[0;31m           \u001b[0moutputs\u001b[0m \u001b[0;34m=\u001b[0m \u001b[0mcall_fn\u001b[0m\u001b[0;34m(\u001b[0m\u001b[0minputs\u001b[0m\u001b[0;34m,\u001b[0m \u001b[0;34m*\u001b[0m\u001b[0margs\u001b[0m\u001b[0;34m,\u001b[0m \u001b[0;34m**\u001b[0m\u001b[0mkwargs\u001b[0m\u001b[0;34m)\u001b[0m\u001b[0;34m\u001b[0m\u001b[0;34m\u001b[0m\u001b[0m\n\u001b[0m\u001b[1;32m   1038\u001b[0m \u001b[0;34m\u001b[0m\u001b[0m\n\u001b[1;32m   1039\u001b[0m         \u001b[0;32mif\u001b[0m \u001b[0mself\u001b[0m\u001b[0;34m.\u001b[0m\u001b[0m_activity_regularizer\u001b[0m\u001b[0;34m:\u001b[0m\u001b[0;34m\u001b[0m\u001b[0;34m\u001b[0m\u001b[0m\n",
      "\u001b[0;32m/mnt/c/Users/kheut/code/covid19-forecasting/tf_model_1p5/model.py\u001b[0m in \u001b[0;36mcall\u001b[0;34m(self, r_t, debug_disable_prior, return_all)\u001b[0m\n\u001b[1;32m     63\u001b[0m \u001b[0;34m\u001b[0m\u001b[0m\n\u001b[1;32m     64\u001b[0m         \u001b[0mself\u001b[0m\u001b[0;34m.\u001b[0m\u001b[0m_constrain_parameters\u001b[0m\u001b[0;34m(\u001b[0m\u001b[0;34m)\u001b[0m\u001b[0;34m\u001b[0m\u001b[0;34m\u001b[0m\u001b[0m\n\u001b[0;32m---> 65\u001b[0;31m         \u001b[0mself\u001b[0m\u001b[0;34m.\u001b[0m\u001b[0m_sample_and_reparameterize\u001b[0m\u001b[0;34m(\u001b[0m\u001b[0;34m)\u001b[0m\u001b[0;34m\u001b[0m\u001b[0;34m\u001b[0m\u001b[0m\n\u001b[0m\u001b[1;32m     66\u001b[0m \u001b[0;34m\u001b[0m\u001b[0m\n\u001b[1;32m     67\u001b[0m         \u001b[0mr_t\u001b[0m \u001b[0;34m=\u001b[0m \u001b[0mtf\u001b[0m\u001b[0;34m.\u001b[0m\u001b[0msqueeze\u001b[0m\u001b[0;34m(\u001b[0m\u001b[0mr_t\u001b[0m\u001b[0;34m)\u001b[0m\u001b[0;34m\u001b[0m\u001b[0;34m\u001b[0m\u001b[0m\n",
      "\u001b[0;32m/mnt/c/Users/kheut/code/covid19-forecasting/tf_model_1p5/model.py\u001b[0m in \u001b[0;36m_sample_and_reparameterize\u001b[0;34m(self)\u001b[0m\n\u001b[1;32m    375\u001b[0m \u001b[0;34m\u001b[0m\u001b[0m\n\u001b[1;32m    376\u001b[0m         poisson_M_dist_samples = [tfp.distributions.Poisson(rate=lambda_M)\n\u001b[0;32m--> 377\u001b[0;31m                                   for lambda_M in self.lambda_M_samples_constrained]\n\u001b[0m\u001b[1;32m    378\u001b[0m \u001b[0;34m\u001b[0m\u001b[0m\n\u001b[1;32m    379\u001b[0m \u001b[0;34m\u001b[0m\u001b[0m\n",
      "\u001b[0;32m/mnt/c/Users/kheut/code/covid19-forecasting/tf_model_1p5/model.py\u001b[0m in \u001b[0;36m<listcomp>\u001b[0;34m(.0)\u001b[0m\n\u001b[1;32m    374\u001b[0m             \u001b[0mself\u001b[0m\u001b[0;34m.\u001b[0m\u001b[0mwarmup_A_probs\u001b[0m\u001b[0;34m.\u001b[0m\u001b[0mappend\u001b[0m\u001b[0;34m(\u001b[0m\u001b[0mwarmup_A_variational_posterior\u001b[0m\u001b[0;34m.\u001b[0m\u001b[0mlog_prob\u001b[0m\u001b[0;34m(\u001b[0m\u001b[0mself\u001b[0m\u001b[0;34m.\u001b[0m\u001b[0mwarmup_A_samples\u001b[0m\u001b[0;34m[\u001b[0m\u001b[0;34m-\u001b[0m\u001b[0;36m1\u001b[0m\u001b[0;34m]\u001b[0m\u001b[0;34m)\u001b[0m\u001b[0;34m)\u001b[0m\u001b[0;34m\u001b[0m\u001b[0;34m\u001b[0m\u001b[0m\n\u001b[1;32m    375\u001b[0m \u001b[0;34m\u001b[0m\u001b[0m\n\u001b[0;32m--> 376\u001b[0;31m         poisson_M_dist_samples = [tfp.distributions.Poisson(rate=lambda_M)\n\u001b[0m\u001b[1;32m    377\u001b[0m                                   for lambda_M in self.lambda_M_samples_constrained]\n\u001b[1;32m    378\u001b[0m \u001b[0;34m\u001b[0m\u001b[0m\n",
      "\u001b[0;32m~/anaconda3/envs/covid_vax_model/lib/python3.7/site-packages/tensorflow/python/framework/ops.py\u001b[0m in \u001b[0;36m__next__\u001b[0;34m(self)\u001b[0m\n\u001b[1;32m   7052\u001b[0m     \u001b[0;32mif\u001b[0m \u001b[0mself\u001b[0m\u001b[0;34m.\u001b[0m\u001b[0m_index\u001b[0m \u001b[0;34m==\u001b[0m \u001b[0mself\u001b[0m\u001b[0;34m.\u001b[0m\u001b[0m_limit\u001b[0m\u001b[0;34m:\u001b[0m\u001b[0;34m\u001b[0m\u001b[0;34m\u001b[0m\u001b[0m\n\u001b[1;32m   7053\u001b[0m       \u001b[0;32mraise\u001b[0m \u001b[0mStopIteration\u001b[0m\u001b[0;34m\u001b[0m\u001b[0;34m\u001b[0m\u001b[0m\n\u001b[0;32m-> 7054\u001b[0;31m     \u001b[0mresult\u001b[0m \u001b[0;34m=\u001b[0m \u001b[0mself\u001b[0m\u001b[0;34m.\u001b[0m\u001b[0m_tensor\u001b[0m\u001b[0;34m[\u001b[0m\u001b[0mself\u001b[0m\u001b[0;34m.\u001b[0m\u001b[0m_index\u001b[0m\u001b[0;34m]\u001b[0m\u001b[0;34m\u001b[0m\u001b[0;34m\u001b[0m\u001b[0m\n\u001b[0m\u001b[1;32m   7055\u001b[0m     \u001b[0mself\u001b[0m\u001b[0;34m.\u001b[0m\u001b[0m_index\u001b[0m \u001b[0;34m+=\u001b[0m \u001b[0;36m1\u001b[0m\u001b[0;34m\u001b[0m\u001b[0;34m\u001b[0m\u001b[0m\n\u001b[1;32m   7056\u001b[0m     \u001b[0;32mreturn\u001b[0m \u001b[0mresult\u001b[0m\u001b[0;34m\u001b[0m\u001b[0;34m\u001b[0m\u001b[0m\n",
      "\u001b[0;32m~/anaconda3/envs/covid_vax_model/lib/python3.7/site-packages/tensorflow/python/util/dispatch.py\u001b[0m in \u001b[0;36mwrapper\u001b[0;34m(*args, **kwargs)\u001b[0m\n\u001b[1;32m    204\u001b[0m     \u001b[0;34m\"\"\"Call target, and fall back on dispatchers if there is a TypeError.\"\"\"\u001b[0m\u001b[0;34m\u001b[0m\u001b[0;34m\u001b[0m\u001b[0m\n\u001b[1;32m    205\u001b[0m     \u001b[0;32mtry\u001b[0m\u001b[0;34m:\u001b[0m\u001b[0;34m\u001b[0m\u001b[0;34m\u001b[0m\u001b[0m\n\u001b[0;32m--> 206\u001b[0;31m       \u001b[0;32mreturn\u001b[0m \u001b[0mtarget\u001b[0m\u001b[0;34m(\u001b[0m\u001b[0;34m*\u001b[0m\u001b[0margs\u001b[0m\u001b[0;34m,\u001b[0m \u001b[0;34m**\u001b[0m\u001b[0mkwargs\u001b[0m\u001b[0;34m)\u001b[0m\u001b[0;34m\u001b[0m\u001b[0;34m\u001b[0m\u001b[0m\n\u001b[0m\u001b[1;32m    207\u001b[0m     \u001b[0;32mexcept\u001b[0m \u001b[0;34m(\u001b[0m\u001b[0mTypeError\u001b[0m\u001b[0;34m,\u001b[0m \u001b[0mValueError\u001b[0m\u001b[0;34m)\u001b[0m\u001b[0;34m:\u001b[0m\u001b[0;34m\u001b[0m\u001b[0;34m\u001b[0m\u001b[0m\n\u001b[1;32m    208\u001b[0m       \u001b[0;31m# Note: convert_to_eager_tensor currently raises a ValueError, not a\u001b[0m\u001b[0;34m\u001b[0m\u001b[0;34m\u001b[0m\u001b[0;34m\u001b[0m\u001b[0m\n",
      "\u001b[0;32m~/anaconda3/envs/covid_vax_model/lib/python3.7/site-packages/tensorflow/python/ops/array_ops.py\u001b[0m in \u001b[0;36m_slice_helper\u001b[0;34m(tensor, slice_spec, var)\u001b[0m\n\u001b[1;32m   1028\u001b[0m                                                   stack(strides))\n\u001b[1;32m   1029\u001b[0m       if (packed_begin.dtype == dtypes.int64 or\n\u001b[0;32m-> 1030\u001b[0;31m           \u001b[0mpacked_end\u001b[0m\u001b[0;34m.\u001b[0m\u001b[0mdtype\u001b[0m \u001b[0;34m==\u001b[0m \u001b[0mdtypes\u001b[0m\u001b[0;34m.\u001b[0m\u001b[0mint64\u001b[0m \u001b[0;32mor\u001b[0m\u001b[0;34m\u001b[0m\u001b[0;34m\u001b[0m\u001b[0m\n\u001b[0m\u001b[1;32m   1031\u001b[0m           packed_strides.dtype == dtypes.int64):\n\u001b[1;32m   1032\u001b[0m         \u001b[0;32mif\u001b[0m \u001b[0mpacked_begin\u001b[0m\u001b[0;34m.\u001b[0m\u001b[0mdtype\u001b[0m \u001b[0;34m!=\u001b[0m \u001b[0mdtypes\u001b[0m\u001b[0;34m.\u001b[0m\u001b[0mint64\u001b[0m\u001b[0;34m:\u001b[0m\u001b[0;34m\u001b[0m\u001b[0;34m\u001b[0m\u001b[0m\n",
      "\u001b[0;32m~/anaconda3/envs/covid_vax_model/lib/python3.7/site-packages/tensorflow/python/framework/dtypes.py\u001b[0m in \u001b[0;36m__eq__\u001b[0;34m(self, other)\u001b[0m\n\u001b[1;32m    178\u001b[0m       \u001b[0;32mreturn\u001b[0m \u001b[0;32mFalse\u001b[0m\u001b[0;34m\u001b[0m\u001b[0;34m\u001b[0m\u001b[0m\n\u001b[1;32m    179\u001b[0m \u001b[0;34m\u001b[0m\u001b[0m\n\u001b[0;32m--> 180\u001b[0;31m     \u001b[0;32mif\u001b[0m \u001b[0mtype\u001b[0m\u001b[0;34m(\u001b[0m\u001b[0mother\u001b[0m\u001b[0;34m)\u001b[0m \u001b[0;34m!=\u001b[0m \u001b[0mDType\u001b[0m\u001b[0;34m:\u001b[0m  \u001b[0;31m# pylint: disable=unidiomatic-typecheck\u001b[0m\u001b[0;34m\u001b[0m\u001b[0;34m\u001b[0m\u001b[0m\n\u001b[0m\u001b[1;32m    181\u001b[0m       \u001b[0;32mtry\u001b[0m\u001b[0;34m:\u001b[0m\u001b[0;34m\u001b[0m\u001b[0;34m\u001b[0m\u001b[0m\n\u001b[1;32m    182\u001b[0m         \u001b[0mother\u001b[0m \u001b[0;34m=\u001b[0m \u001b[0mas_dtype\u001b[0m\u001b[0;34m(\u001b[0m\u001b[0mother\u001b[0m\u001b[0;34m)\u001b[0m\u001b[0;34m\u001b[0m\u001b[0;34m\u001b[0m\u001b[0m\n",
      "\u001b[0;31mKeyboardInterrupt\u001b[0m: "
     ]
    }
   ],
   "source": [
    "model.compile(loss=loss, optimizer=optimizer, run_eagerly=True)\n",
    "model.fit(x=np.asarray([x_train]), y=np.asarray([y_test]),\n",
    "         epochs=500, batch_size=0,\n",
    "        callbacks=logging_callbacks)"
   ]
  },
  {
   "cell_type": "code",
   "execution_count": 66,
   "id": "910c2f9e",
   "metadata": {},
   "outputs": [
    {
     "data": {
      "text/plain": [
       "Text(0.5, 1.0, 'Mild Compartment')"
      ]
     },
     "execution_count": 66,
     "metadata": {},
     "output_type": "execute_result"
    },
    {
     "data": {
      "image/png": "[encoded data removed]",
      "text/plain": [
       "<Figure size 576x432 with 1 Axes>"
      ]
     },
     "metadata": {
      "needs_background": "light"
     },
     "output_type": "display_data"
    }
   ],
   "source": [
    "plt.figure(figsize=(8, 6))\n",
    "preds=tf.reduce_mean(model.call(x_train), axis=-1)\n",
    "plt.plot(df.loc[train_start:test_end].index.values, y_test, label='CovidEstim Mild')\n",
    "plt.plot(df.loc[train_start:test_end].index.values, preds, label='Predicted Mild')\n",
    "month_ticks = matplotlib.dates.MonthLocator(interval=1)\n",
    "ax = plt.gca()\n",
    "ax.xaxis.set_major_locator(month_ticks)\n",
    "plt.legend()\n",
    "plt.title('Mild Compartment')"
   ]
  },
  {
   "cell_type": "code",
   "execution_count": 62,
   "id": "41e61f26",
   "metadata": {},
   "outputs": [
    {
     "data": {
      "text/plain": [
       "Text(0.5, 1.0, 'Mild Compartment')"
      ]
     },
     "execution_count": 62,
     "metadata": {},
     "output_type": "execute_result"
    },
    {
     "data": {
      "image/png": "[encoded data removed]",
      "text/plain": [
       "<Figure size 576x432 with 1 Axes>"
      ]
     },
     "metadata": {
      "needs_background": "light"
     },
     "output_type": "display_data"
    }
   ],
   "source": [
    "plt.figure(figsize=(8, 6))\n",
    "preds=tf.reduce_mean(model.call(x_train), axis=-1)\n",
    "plt.plot(df.loc[train_start:test_end].index.values, y_test, label='CovidEstim Mild')\n",
    "plt.plot(df.loc[train_start:test_end].index.values, pre_training_preds, label='Predicted Before Training Mild')\n",
    "month_ticks = matplotlib.dates.MonthLocator(interval=1)\n",
    "ax = plt.gca()\n",
    "ax.xaxis.set_major_locator(month_ticks)\n",
    "plt.legend()\n",
    "plt.title('Mild Compartment')"
   ]
  },
  {
   "cell_type": "code",
   "execution_count": null,
   "id": "438fbf19",
   "metadata": {},
   "outputs": [],
   "source": []
  },
  {
   "cell_type": "code",
   "execution_count": null,
   "id": "abdd92d0",
   "metadata": {},
   "outputs": [],
   "source": []
  },
  {
   "cell_type": "code",
   "execution_count": null,
   "id": "7790428a",
   "metadata": {},
   "outputs": [],
   "source": []
  },
  {
   "cell_type": "code",
   "execution_count": 23,
   "id": "b2f44042",
   "metadata": {},
   "outputs": [
    {
     "ename": "ModuleNotFoundError",
     "evalue": "No module named 'tfa'",
     "output_type": "error",
     "traceback": [
      "\u001b[0;31m---------------------------------------------------------------------------\u001b[0m",
      "\u001b[0;31mModuleNotFoundError\u001b[0m                       Traceback (most recent call last)",
      "\u001b[0;32m/tmp/ipykernel_343/3402717884.py\u001b[0m in \u001b[0;36m<module>\u001b[0;34m\u001b[0m\n\u001b[0;32m----> 1\u001b[0;31m \u001b[0;32mimport\u001b[0m \u001b[0mtfa\u001b[0m\u001b[0;34m.\u001b[0m\u001b[0moptimizers\u001b[0m\u001b[0;34m\u001b[0m\u001b[0;34m\u001b[0m\u001b[0m\n\u001b[0m",
      "\u001b[0;31mModuleNotFoundError\u001b[0m: No module named 'tfa'"
     ]
    }
   ],
   "source": [
    "import tfa.optimizers"
   ]
  },
  {
   "cell_type": "code",
   "execution_count": 23,
   "id": "35cf260e",
   "metadata": {},
   "outputs": [
    {
     "data": {
      "text/plain": [
       "1600.0"
      ]
     },
     "execution_count": 23,
     "metadata": {},
     "output_type": "execute_result"
    }
   ],
   "source": [
    "0.8*2000"
   ]
  },
  {
   "cell_type": "code",
   "execution_count": 25,
   "id": "9478d8e6",
   "metadata": {},
   "outputs": [
    {
     "data": {
      "text/plain": [
       "array([2518.60923786, 2520.22371777, 2518.626799  ])"
      ]
     },
     "execution_count": 25,
     "metadata": {},
     "output_type": "execute_result"
    }
   ],
   "source": [
    "warmup_asymp"
   ]
  },
  {
   "cell_type": "code",
   "execution_count": 26,
   "id": "86caf2f4",
   "metadata": {},
   "outputs": [
    {
     "data": {
      "text/plain": [
       "{1: array([662.54941002, 674.02507617, 685.83712267]),\n",
       " 0: array([1225.59367925, 1212.94322218, 1199.88496331])}"
      ]
     },
     "execution_count": 26,
     "metadata": {},
     "output_type": "execute_result"
    }
   ],
   "source": [
    "warmup_mild"
   ]
  },
  {
   "cell_type": "code",
   "execution_count": 28,
   "id": "57e20272",
   "metadata": {},
   "outputs": [
    {
     "data": {
      "text/plain": [
       "<tf.Tensor: shape=(123,), dtype=float32, numpy=\n",
       "array([1883.1843 , 1879.9614 , 1878.4843 , 1874.889  , 1867.625  ,\n",
       "       1855.1506 , 1839.0627 , 1819.4205 , 1797.5369 , 1772.8456 ,\n",
       "       1745.3354 , 1713.0474 , 1676.8483 , 1637.9723 , 1595.6298 ,\n",
       "       1550.9956 , 1505.9484 , 1460.1703 , 1411.5771 , 1360.6824 ,\n",
       "       1309.5687 , 1257.2211 , 1206.9117 , 1158.9786 , 1112.176  ,\n",
       "       1065.396  , 1019.1018 ,  974.7162 ,  931.76184,  891.36066,\n",
       "        854.1387 ,  819.2815 ,  786.52826,  754.50806,  724.3344 ,\n",
       "        696.807  ,  669.4488 ,  646.7868 ,  625.5422 ,  605.7364 ,\n",
       "        587.4074 ,  570.8427 ,  555.80206,  542.41534,  530.70746,\n",
       "        520.6189 ,  512.4302 ,  504.1964 ,  498.84677,  495.26813,\n",
       "        493.92334,  494.2876 ,  496.60837,  500.79382,  506.81006,\n",
       "        514.7886 ,  524.72736,  536.65625,  550.4345 ,  566.6077 ,\n",
       "        584.84607,  605.1895 ,  627.5542 ,  651.947  ,  678.33746,\n",
       "        706.6682 ,  736.8512 ,  768.7289 ,  801.9794 ,  836.5681 ,\n",
       "        872.2976 ,  908.9281 ,  946.2943 ,  984.1789 , 1022.3099 ,\n",
       "       1060.4037 , 1098.3177 , 1135.9012 , 1173.007  , 1209.5043 ,\n",
       "       1245.3347 , 1280.3154 , 1314.3794 , 1347.5917 , 1379.9677 ,\n",
       "       1411.539  , 1442.3995 , 1472.687  , 1502.3444 , 1531.4285 ,\n",
       "       1559.9098 , 1588.4545 , 1616.9271 , 1645.5067 , 1674.3782 ,\n",
       "       1703.5972 , 1733.2777 , 1763.7051 , 1795.0509 , 1827.5033 ,\n",
       "       1861.2802 , 1896.5581 , 1933.4027 , 1972.0134 , 2012.5765 ,\n",
       "       2055.2693 , 2100.77   , 2148.1025 , 2198.715  , 2251.9998 ,\n",
       "       2308.054  , 2367.2463 , 2429.713  , 2495.625  , 2565.1301 ,\n",
       "       2638.4746 , 2715.449  , 2796.1462 , 2880.886  , 2969.936  ,\n",
       "       3063.9111 , 3162.4797 , 3266.1235 ], dtype=float32)>"
      ]
     },
     "execution_count": 28,
     "metadata": {},
     "output_type": "execute_result"
    }
   ],
   "source": [
    "y_test"
   ]
  },
  {
   "cell_type": "code",
   "execution_count": 31,
   "id": "8cdad1e4",
   "metadata": {},
   "outputs": [
    {
     "data": {
      "text/plain": [
       "date\n",
       "2021-04-28    1888.143089\n",
       "2021-04-29    1886.968298\n",
       "2021-04-30    1885.722086\n",
       "2021-05-01    1883.184382\n",
       "2021-05-02    1879.961460\n",
       "2021-05-03    1878.484236\n",
       "2021-05-04    1874.889063\n",
       "2021-05-05    1867.625053\n",
       "2021-05-06    1855.150682\n",
       "2021-05-07    1839.062791\n",
       "2021-05-08    1819.420564\n",
       "2021-05-09    1797.536856\n",
       "2021-05-10    1772.845594\n",
       "Name: mild, dtype: float64"
      ]
     },
     "execution_count": 31,
     "metadata": {},
     "output_type": "execute_result"
    }
   ],
   "source": [
    "df.loc[warmup_start:'20210510','mild']"
   ]
  },
  {
   "cell_type": "code",
   "execution_count": 30,
   "id": "9fdec032",
   "metadata": {},
   "outputs": [
    {
     "data": {
      "text/plain": [
       "'20210428'"
      ]
     },
     "execution_count": 30,
     "metadata": {},
     "output_type": "execute_result"
    }
   ],
   "source": [
    "warmup_start"
   ]
  },
  {
   "cell_type": "code",
   "execution_count": 32,
   "id": "7c12bd50",
   "metadata": {},
   "outputs": [
    {
     "data": {
      "text/plain": [
       "array([2518.60923786, 2520.22371777, 2518.626799  ])"
      ]
     },
     "execution_count": 32,
     "metadata": {},
     "output_type": "execute_result"
    }
   ],
   "source": [
    "warmup_asymp"
   ]
  },
  {
   "cell_type": "code",
   "execution_count": 67,
   "id": "e13a5d30",
   "metadata": {},
   "outputs": [],
   "source": [
    "import copy"
   ]
  },
  {
   "cell_type": "code",
   "execution_count": 100,
   "id": "1f8313b4",
   "metadata": {},
   "outputs": [],
   "source": [
    "copy_model = copy.deepcopy(model)\n",
    "copy_model.unconstrained_warmup_A_params[-1][2]['loc'] = tf.Variable(2500.0, dtype=tf.float32)\n",
    "copy_model.unconstrained_warmup_A_params[-1][1]['loc'] = tf.Variable(2500.0, dtype=tf.float32)\n",
    "copy_model.unconstrained_warmup_A_params[-1][0]['loc'] = tf.Variable(2500.0, dtype=tf.float32)\n",
    "copy_model.unconstrained_nu_M[-1]['loc'] = tf.Variable(3.0, dtype=tf.float32)"
   ]
  },
  {
   "cell_type": "code",
   "execution_count": 129,
   "id": "45e6ef83",
   "metadata": {},
   "outputs": [
    {
     "data": {
      "text/plain": [
       "Text(0.5, 1.0, 'Mild Compartment')"
      ]
     },
     "execution_count": 129,
     "metadata": {},
     "output_type": "execute_result"
    },
    {
     "data": {
      "image/png": "[encoded data removed]",
      "text/plain": [
       "<Figure size 576x432 with 1 Axes>"
      ]
     },
     "metadata": {
      "needs_background": "light"
     },
     "output_type": "display_data"
    }
   ],
   "source": [
    "plt.figure(figsize=(8, 6))\n",
    "copy_preds=tf.reduce_mean(copy_model.call(x_train), axis=-1)\n",
    "plt.plot(df.loc[train_start:test_end].index.values, y_test, label='CovidEstim Mild')\n",
    "plt.plot(df.loc[train_start:test_end].index.values, copy_preds, label='Predicted Mild')\n",
    "month_ticks = matplotlib.dates.MonthLocator(interval=1)\n",
    "ax = plt.gca()\n",
    "ax.xaxis.set_major_locator(month_ticks)\n",
    "plt.legend()\n",
    "plt.title('Mild Compartment')"
   ]
  },
  {
   "cell_type": "code",
   "execution_count": 84,
   "id": "5bb5613c",
   "metadata": {},
   "outputs": [
    {
     "data": {
      "text/plain": [
       "<tf.Tensor: shape=(), dtype=float32, numpy=3321.719>"
      ]
     },
     "execution_count": 84,
     "metadata": {},
     "output_type": "execute_result"
    }
   ],
   "source": [
    "loss(y_test, copy_model.call(x_train))"
   ]
  },
  {
   "cell_type": "code",
   "execution_count": 81,
   "id": "57a7f0ca",
   "metadata": {},
   "outputs": [
    {
     "data": {
      "text/plain": [
       "{-1: {'loc': <tf.Variable 'nu_M_loc_-1:0' shape=() dtype=float32, numpy=-3.4172542>,\n",
       "  'scale': <tf.Variable 'nu_M_scale_-1:0' shape=() dtype=float32, numpy=-0.5642081>}}"
      ]
     },
     "execution_count": 81,
     "metadata": {},
     "output_type": "execute_result"
    }
   ],
   "source": [
    "copy_model.unconstrained_nu_M"
   ]
  },
  {
   "cell_type": "code",
   "execution_count": 85,
   "id": "f648a7c0",
   "metadata": {},
   "outputs": [
    {
     "data": {
      "text/plain": [
       "<tf.Variable 'rho_M_loc_-1:0' shape=() dtype=float32, numpy=1.250453>"
      ]
     },
     "execution_count": 85,
     "metadata": {},
     "output_type": "execute_result"
    }
   ],
   "source": [
    "copy_model.unconstrained_rho_M[-1]['loc']"
   ]
  },
  {
   "cell_type": "code",
   "execution_count": 87,
   "id": "bbc0824f",
   "metadata": {},
   "outputs": [
    {
     "data": {
      "text/plain": [
       "<tf.Tensor: shape=(), dtype=float32, numpy=0.76852477>"
      ]
     },
     "execution_count": 87,
     "metadata": {},
     "output_type": "execute_result"
    }
   ],
   "source": [
    "tf.math.sigmoid(1.2)"
   ]
  },
  {
   "cell_type": "code",
   "execution_count": 89,
   "id": "9ef7bd49",
   "metadata": {},
   "outputs": [
    {
     "data": {
      "text/plain": [
       "{'prior': [{'loc': 2518.60923786445, 'scale': 251.86092378644497},\n",
       "  {'loc': 2520.22371776634, 'scale': 252.022371776634},\n",
       "  {'loc': 2518.626798999444, 'scale': 251.8626798999444}],\n",
       " 'posterior_init': [{'loc': <tf.Tensor: shape=(), dtype=float32, numpy=2000.0>,\n",
       "   'scale': <tf.Tensor: shape=(), dtype=float32, numpy=500.0>},\n",
       "  {'loc': <tf.Tensor: shape=(), dtype=float32, numpy=2000.0>,\n",
       "   'scale': <tf.Tensor: shape=(), dtype=float32, numpy=500.0>},\n",
       "  {'loc': <tf.Tensor: shape=(), dtype=float32, numpy=2000.0>,\n",
       "   'scale': <tf.Tensor: shape=(), dtype=float32, numpy=500.0>},\n",
       "  {'loc': <tf.Tensor: shape=(), dtype=float32, numpy=2000.0>,\n",
       "   'scale': <tf.Tensor: shape=(), dtype=float32, numpy=500.0>},\n",
       "  {'loc': <tf.Tensor: shape=(), dtype=float32, numpy=2000.0>,\n",
       "   'scale': <tf.Tensor: shape=(), dtype=float32, numpy=500.0>},\n",
       "  {'loc': <tf.Tensor: shape=(), dtype=float32, numpy=2000.0>,\n",
       "   'scale': <tf.Tensor: shape=(), dtype=float32, numpy=500.0>},\n",
       "  {'loc': <tf.Tensor: shape=(), dtype=float32, numpy=2000.0>,\n",
       "   'scale': <tf.Tensor: shape=(), dtype=float32, numpy=500.0>},\n",
       "  {'loc': <tf.Tensor: shape=(), dtype=float32, numpy=2000.0>,\n",
       "   'scale': <tf.Tensor: shape=(), dtype=float32, numpy=500.0>},\n",
       "  {'loc': <tf.Tensor: shape=(), dtype=float32, numpy=2000.0>,\n",
       "   'scale': <tf.Tensor: shape=(), dtype=float32, numpy=500.0>},\n",
       "  {'loc': <tf.Tensor: shape=(), dtype=float32, numpy=2000.0>,\n",
       "   'scale': <tf.Tensor: shape=(), dtype=float32, numpy=500.0>},\n",
       "  {'loc': <tf.Tensor: shape=(), dtype=float32, numpy=2000.0>,\n",
       "   'scale': <tf.Tensor: shape=(), dtype=float32, numpy=500.0>},\n",
       "  {'loc': <tf.Tensor: shape=(), dtype=float32, numpy=2000.0>,\n",
       "   'scale': <tf.Tensor: shape=(), dtype=float32, numpy=500.0>},\n",
       "  {'loc': <tf.Tensor: shape=(), dtype=float32, numpy=2000.0>,\n",
       "   'scale': <tf.Tensor: shape=(), dtype=float32, numpy=500.0>},\n",
       "  {'loc': <tf.Tensor: shape=(), dtype=float32, numpy=2000.0>,\n",
       "   'scale': <tf.Tensor: shape=(), dtype=float32, numpy=500.0>},\n",
       "  {'loc': <tf.Tensor: shape=(), dtype=float32, numpy=2000.0>,\n",
       "   'scale': <tf.Tensor: shape=(), dtype=float32, numpy=500.0>}]}"
      ]
     },
     "execution_count": 89,
     "metadata": {},
     "output_type": "execute_result"
    }
   ],
   "source": [
    "warmup_A_params[-1]"
   ]
  },
  {
   "cell_type": "code",
   "execution_count": 91,
   "id": "43e930c3",
   "metadata": {},
   "outputs": [
    {
     "data": {
      "text/plain": [
       "array([2518.60923786, 2520.22371777, 2518.626799  ])"
      ]
     },
     "execution_count": 91,
     "metadata": {},
     "output_type": "execute_result"
    }
   ],
   "source": [
    "warmup_asymp"
   ]
  },
  {
   "cell_type": "code",
   "execution_count": 92,
   "id": "37263281",
   "metadata": {},
   "outputs": [
    {
     "data": {
      "text/plain": [
       "{1: array([662.54941002, 674.02507617, 685.83712267]),\n",
       " 0: array([1225.59367925, 1212.94322218, 1199.88496331])}"
      ]
     },
     "execution_count": 92,
     "metadata": {},
     "output_type": "execute_result"
    }
   ],
   "source": [
    "warmup_mild"
   ]
  },
  {
   "cell_type": "code",
   "execution_count": 95,
   "id": "148b9927",
   "metadata": {},
   "outputs": [
    {
     "data": {
      "text/plain": [
       "0.72"
      ]
     },
     "execution_count": 95,
     "metadata": {},
     "output_type": "execute_result"
    }
   ],
   "source": [
    "1800/2500"
   ]
  },
  {
   "cell_type": "code",
   "execution_count": 115,
   "id": "f9128e0c",
   "metadata": {},
   "outputs": [
    {
     "data": {
      "text/plain": [
       "Text(0.5, 1.0, 'Empirical Rho_M')"
      ]
     },
     "execution_count": 115,
     "metadata": {},
     "output_type": "execute_result"
    },
    {
     "data": {
      "image/png": "[encoded data removed]",
      "text/plain": [
       "<Figure size 576x432 with 1 Axes>"
      ]
     },
     "metadata": {
      "needs_background": "light"
     },
     "output_type": "display_data"
    }
   ],
   "source": [
    "plt.figure(figsize=(8, 6))\n",
    "copy_preds=tf.reduce_mean(copy_model.call(x_train), axis=-1)\n",
    "plt.plot(df.loc[train_start:test_end].index.values, df.loc[train_start:test_end, 'mild']/df.loc[train_start:test_end, 'asymp'], label='Asymp/Mild')\n",
    "#plt.plot(df.loc[train_start:test_end].index.values, preds, label='Predicted Mild')\n",
    "month_ticks = matplotlib.dates.MonthLocator(interval=1)\n",
    "ax = plt.gca()\n",
    "ax.xaxis.set_major_locator(month_ticks)\n",
    "plt.legend()\n",
    "plt.title('Empirical Rho_M')"
   ]
  },
  {
   "cell_type": "code",
   "execution_count": 110,
   "id": "d7e6cd2f",
   "metadata": {},
   "outputs": [
    {
     "data": {
      "text/plain": [
       "0.9881713984184165"
      ]
     },
     "execution_count": 110,
     "metadata": {},
     "output_type": "execute_result"
    }
   ],
   "source": [
    "0.96**(1/5.2)"
   ]
  },
  {
   "cell_type": "code",
   "execution_count": 106,
   "id": "86c21262",
   "metadata": {},
   "outputs": [
    {
     "data": {
      "text/plain": [
       "array([2518.60923786, 2520.22371777, 2518.626799  ])"
      ]
     },
     "execution_count": 106,
     "metadata": {},
     "output_type": "execute_result"
    }
   ],
   "source": [
    "warmup_asymp"
   ]
  },
  {
   "cell_type": "code",
   "execution_count": 108,
   "id": "7adc73fd",
   "metadata": {},
   "outputs": [
    {
     "data": {
      "text/plain": [
       "<tf.Tensor: shape=(123,), dtype=float32, numpy=\n",
       "array([0.9893859 , 0.9806603 , 0.9708389 , 0.9601291 , 0.9487467 ,\n",
       "       0.93690044, 0.9247909 , 0.9126141 , 0.90057087, 0.8888542 ,\n",
       "       0.87764704, 0.867123  , 0.85742813, 0.84862584, 0.840759  ,\n",
       "       0.83387077, 0.82800525, 0.8231926 , 0.819385  , 0.8165125 ,\n",
       "       0.8145094 , 0.8133129 , 0.8128637 , 0.81310666, 0.8139891 ,\n",
       "       0.8154599 , 0.8174688 , 0.81997126, 0.8229714 , 0.82650083,\n",
       "       0.83059275, 0.83528215, 0.84060645, 0.8466147 , 0.8533651 ,\n",
       "       0.8609193 , 0.86934257, 0.8787029 , 0.8890385 , 0.90036035,\n",
       "       0.9126806 , 0.9260135 , 0.9403739 , 0.95573395, 0.9720139 ,\n",
       "       0.98912555, 1.0069746 , 1.0254581 , 1.0444374 , 1.0637217 ,\n",
       "       1.0831019 , 1.1023542 , 1.121239  , 1.1395118 , 1.1569333 ,\n",
       "       1.173255  , 1.1882203 , 1.2015666 , 1.2130756 , 1.2226428 ,\n",
       "       1.2301873 , 1.2356372 , 1.2389311 , 1.2400631 , 1.2391775 ,\n",
       "       1.2364545 , 1.2320814 , 1.2262504 , 1.2191668 , 1.2110765 ,\n",
       "       1.2022333 , 1.192886  , 1.1832767 , 1.173629  , 1.1641004 ,\n",
       "       1.154823  , 1.145925  , 1.1375314 , 1.1297525 , 1.1226252 ,\n",
       "       1.1161555 , 1.11035   , 1.1052159 , 1.1007593 , 1.0969651 ,\n",
       "       1.0938078 , 1.0912629 , 1.0893072 , 1.0879185 , 1.0870777 ,\n",
       "       1.0867674 , 1.0869714 , 1.0876737 , 1.0888588 , 1.0905033 ,\n",
       "       1.0925766 , 1.0950481 , 1.0978872 , 1.1010633 , 1.1045375 ,\n",
       "       1.1082622 , 1.1121887 , 1.1162676 , 1.1204488 , 1.1246859 ,\n",
       "       1.1289381 , 1.1331642 , 1.1373224 , 1.1413707 , 1.1452758 ,\n",
       "       1.1490226 , 1.1525975 , 1.155987  , 1.1591774 , 1.1621785 ,\n",
       "       1.1650555 , 1.1678821 , 1.170733  , 1.173683  , 1.1768552 ,\n",
       "       1.1805174 , 1.1849691 , 1.1905143 ], dtype=float32)>"
      ]
     },
     "execution_count": 108,
     "metadata": {},
     "output_type": "execute_result"
    }
   ],
   "source": [
    "x_train"
   ]
  },
  {
   "cell_type": "code",
   "execution_count": 113,
   "id": "a8c2f01f",
   "metadata": {},
   "outputs": [
    {
     "data": {
      "text/plain": [
       "<tf.Tensor: shape=(1000,), dtype=float32, numpy=\n",
       "array([5.198659 , 5.2057085, 5.2652006, 5.229498 , 5.2229786, 5.281637 ,\n",
       "       5.1985784, 5.180516 , 5.2060895, 5.2085915, 5.234597 , 5.2548833,\n",
       "       5.183585 , 5.250757 , 5.225873 , 5.2383204, 5.2245073, 5.1954923,\n",
       "       5.1787977, 5.1858673, 5.2298656, 5.239574 , 5.220103 , 5.2331133,\n",
       "       5.176026 , 5.2012925, 5.1957436, 5.195151 , 5.2332835, 5.206982 ,\n",
       "       5.2239385, 5.223321 , 5.181737 , 5.230326 , 5.2123575, 5.217191 ,\n",
       "       5.228753 , 5.260989 , 5.198163 , 5.245516 , 5.2817864, 5.2237515,\n",
       "       5.1931844, 5.233222 , 5.245469 , 5.234665 , 5.282221 , 5.2336626,\n",
       "       5.236139 , 5.2617216, 5.214859 , 5.222218 , 5.1954126, 5.198052 ,\n",
       "       5.1955576, 5.2079387, 5.1909847, 5.2164984, 5.228651 , 5.1958447,\n",
       "       5.2205486, 5.2373195, 5.2145047, 5.1956353, 5.235926 , 5.2287197,\n",
       "       5.171189 , 5.206007 , 5.1883717, 5.189143 , 5.2100897, 5.2094307,\n",
       "       5.240154 , 5.2173862, 5.2556276, 5.226827 , 5.175892 , 5.187935 ,\n",
       "       5.1898165, 5.222903 , 5.1909657, 5.2097178, 5.154054 , 5.2807536,\n",
       "       5.208693 , 5.2589283, 5.2398543, 5.2380795, 5.225565 , 5.2660303,\n",
       "       5.2115016, 5.2171383, 5.2241454, 5.2518163, 5.2051096, 5.2109194,\n",
       "       5.231448 , 5.210998 , 5.215652 , 5.2453537, 5.233571 , 5.214719 ,\n",
       "       5.267063 , 5.2172117, 5.275557 , 5.1979475, 5.239098 , 5.228693 ,\n",
       "       5.223236 , 5.269408 , 5.186369 , 5.233152 , 5.1864533, 5.214934 ,\n",
       "       5.2661495, 5.263724 , 5.2082124, 5.205144 , 5.2346272, 5.267138 ,\n",
       "       5.1923175, 5.240981 , 5.2299833, 5.203347 , 5.241881 , 5.23944  ,\n",
       "       5.1887455, 5.2645874, 5.229534 , 5.220401 , 5.2094464, 5.231366 ,\n",
       "       5.2489944, 5.226166 , 5.26098  , 5.198505 , 5.202122 , 5.2322035,\n",
       "       5.227627 , 5.221781 , 5.21934  , 5.222326 , 5.186477 , 5.2290998,\n",
       "       5.2393904, 5.216613 , 5.212833 , 5.268567 , 5.226469 , 5.2331057,\n",
       "       5.2516403, 5.232353 , 5.19785  , 5.1711373, 5.2230906, 5.2317495,\n",
       "       5.209075 , 5.207023 , 5.2319407, 5.2098017, 5.2254076, 5.193888 ,\n",
       "       5.2045255, 5.218842 , 5.2125897, 5.164704 , 5.2266273, 5.2363095,\n",
       "       5.195594 , 5.2030964, 5.2047973, 5.197299 , 5.192064 , 5.215673 ,\n",
       "       5.1861005, 5.1956706, 5.2472463, 5.277368 , 5.2134066, 5.2277007,\n",
       "       5.245963 , 5.229921 , 5.1516027, 5.253603 , 5.2270613, 5.1995955,\n",
       "       5.256953 , 5.2300806, 5.2033515, 5.199803 , 5.2111764, 5.1982365,\n",
       "       5.2545166, 5.2726793, 5.200753 , 5.223826 , 5.216877 , 5.2153807,\n",
       "       5.2105675, 5.202291 , 5.2280517, 5.2102046, 5.212471 , 5.2139482,\n",
       "       5.2347035, 5.2614574, 5.2159452, 5.2422094, 5.2286124, 5.259474 ,\n",
       "       5.262097 , 5.245803 , 5.2186894, 5.2453804, 5.2592382, 5.2196417,\n",
       "       5.236909 , 5.2514863, 5.218808 , 5.206272 , 5.210974 , 5.206712 ,\n",
       "       5.1984305, 5.2189155, 5.189173 , 5.1549735, 5.205513 , 5.2474713,\n",
       "       5.2550526, 5.2188563, 5.203356 , 5.1890445, 5.2159705, 5.196512 ,\n",
       "       5.2111483, 5.205828 , 5.222208 , 5.235038 , 5.241225 , 5.2048273,\n",
       "       5.17936  , 5.2222824, 5.248816 , 5.196598 , 5.2345805, 5.202241 ,\n",
       "       5.1886826, 5.2127595, 5.247214 , 5.2122664, 5.201417 , 5.222415 ,\n",
       "       5.1990404, 5.242843 , 5.289039 , 5.2450733, 5.269395 , 5.2041407,\n",
       "       5.237786 , 5.195753 , 5.2969995, 5.2592106, 5.2415166, 5.277335 ,\n",
       "       5.1824865, 5.223185 , 5.2249126, 5.2237735, 5.1508584, 5.1789317,\n",
       "       5.214768 , 5.249751 , 5.23814  , 5.2002954, 5.2297044, 5.230463 ,\n",
       "       5.2401175, 5.191055 , 5.193038 , 5.216939 , 5.229158 , 5.1863303,\n",
       "       5.201936 , 5.224797 , 5.208839 , 5.230842 , 5.2480235, 5.2565694,\n",
       "       5.2238536, 5.218093 , 5.203499 , 5.274176 , 5.242374 , 5.1891384,\n",
       "       5.2632575, 5.185721 , 5.2416563, 5.2288885, 5.1870174, 5.1918325,\n",
       "       5.2525353, 5.220243 , 5.1714396, 5.2168713, 5.1660166, 5.1981354,\n",
       "       5.205931 , 5.1967993, 5.2424984, 5.2100134, 5.24279  , 5.2159524,\n",
       "       5.2274218, 5.2216215, 5.1858554, 5.210621 , 5.2139177, 5.2359157,\n",
       "       5.193937 , 5.2423916, 5.2457952, 5.1880717, 5.1692767, 5.20909  ,\n",
       "       5.190423 , 5.245145 , 5.2265573, 5.246709 , 5.2552853, 5.287286 ,\n",
       "       5.19288  , 5.220298 , 5.1858954, 5.237053 , 5.1806097, 5.2130117,\n",
       "       5.2353888, 5.2406735, 5.213654 , 5.1858   , 5.2210836, 5.219176 ,\n",
       "       5.160732 , 5.255066 , 5.233073 , 5.2660017, 5.1960993, 5.2008386,\n",
       "       5.2469068, 5.2512937, 5.216412 , 5.159615 , 5.2270446, 5.240757 ,\n",
       "       5.24471  , 5.2531986, 5.258052 , 5.2050242, 5.194231 , 5.1869154,\n",
       "       5.1584296, 5.2058578, 5.217617 , 5.217243 , 5.2389426, 5.2607927,\n",
       "       5.230521 , 5.215336 , 5.2027845, 5.231289 , 5.1986485, 5.2512865,\n",
       "       5.2454715, 5.2102103, 5.199042 , 5.2139726, 5.2374625, 5.2057905,\n",
       "       5.21645  , 5.2131524, 5.2029424, 5.2214603, 5.2314835, 5.2144437,\n",
       "       5.21872  , 5.257073 , 5.230876 , 5.203415 , 5.2297897, 5.2152867,\n",
       "       5.201624 , 5.2616463, 5.2289276, 5.2045856, 5.2088895, 5.1715713,\n",
       "       5.248964 , 5.2258196, 5.2127824, 5.195693 , 5.238371 , 5.237532 ,\n",
       "       5.237212 , 5.2028666, 5.2174788, 5.2189436, 5.223177 , 5.266738 ,\n",
       "       5.2290187, 5.253891 , 5.204964 , 5.203346 , 5.221761 , 5.2237844,\n",
       "       5.227496 , 5.2536287, 5.2104845, 5.216746 , 5.2648273, 5.2247176,\n",
       "       5.24036  , 5.20675  , 5.2368674, 5.242918 , 5.168701 , 5.2247944,\n",
       "       5.211953 , 5.201147 , 5.220359 , 5.2127137, 5.2267084, 5.2438035,\n",
       "       5.2404776, 5.1886683, 5.2259746, 5.230176 , 5.230417 , 5.230551 ,\n",
       "       5.226846 , 5.226898 , 5.23738  , 5.223157 , 5.2066507, 5.239625 ,\n",
       "       5.2227807, 5.2335997, 5.167707 , 5.2134156, 5.264683 , 5.2402067,\n",
       "       5.18962  , 5.1911645, 5.224493 , 5.1779003, 5.2424903, 5.245547 ,\n",
       "       5.193961 , 5.19355  , 5.175408 , 5.2668333, 5.2067595, 5.1966   ,\n",
       "       5.225899 , 5.195902 , 5.2233224, 5.188015 , 5.186459 , 5.2464037,\n",
       "       5.2418804, 5.230263 , 5.192425 , 5.2038894, 5.181534 , 5.2044168,\n",
       "       5.1977315, 5.221592 , 5.2140408, 5.201231 , 5.234139 , 5.2333922,\n",
       "       5.2416873, 5.187514 , 5.1957045, 5.2169027, 5.2694387, 5.225189 ,\n",
       "       5.2362776, 5.248236 , 5.2325206, 5.24501  , 5.209635 , 5.2225146,\n",
       "       5.2503786, 5.21141  , 5.182232 , 5.2044625, 5.178912 , 5.26153  ,\n",
       "       5.2470646, 5.166024 , 5.2373405, 5.164385 , 5.164752 , 5.2003636,\n",
       "       5.2341757, 5.272523 , 5.2065578, 5.2449646, 5.235288 , 5.1823106,\n",
       "       5.240835 , 5.2074327, 5.216757 , 5.238973 , 5.177226 , 5.2456784,\n",
       "       5.1978307, 5.217319 , 5.2103124, 5.229028 , 5.230083 , 5.1691985,\n",
       "       5.1989226, 5.2365246, 5.266431 , 5.2551537, 5.241437 , 5.2173057,\n",
       "       5.2440205, 5.208037 , 5.2268786, 5.2549453, 5.1970987, 5.21601  ,\n",
       "       5.2111545, 5.2823563, 5.2470427, 5.2224364, 5.2231364, 5.189538 ,\n",
       "       5.236116 , 5.2090387, 5.2343993, 5.175053 , 5.2138743, 5.2151294,\n",
       "       5.223843 , 5.20829  , 5.224978 , 5.2746696, 5.1830134, 5.2121773,\n",
       "       5.204509 , 5.197092 , 5.1855917, 5.204302 , 5.205048 , 5.210801 ,\n",
       "       5.235282 , 5.2098184, 5.2580547, 5.2228346, 5.2506113, 5.1751637,\n",
       "       5.2246594, 5.2624683, 5.2064543, 5.2291303, 5.217932 , 5.2700367,\n",
       "       5.200721 , 5.2269535, 5.2290063, 5.1826096, 5.186484 , 5.1936846,\n",
       "       5.2319922, 5.2037373, 5.211876 , 5.2191315, 5.25686  , 5.187592 ,\n",
       "       5.2370186, 5.197257 , 5.220331 , 5.2125354, 5.2281704, 5.2205405,\n",
       "       5.2275715, 5.2167196, 5.2253194, 5.18213  , 5.237629 , 5.231625 ,\n",
       "       5.1934342, 5.2126265, 5.2435913, 5.229132 , 5.1949778, 5.1764812,\n",
       "       5.2513847, 5.1692467, 5.2123904, 5.221113 , 5.2439027, 5.222018 ,\n",
       "       5.202072 , 5.2167635, 5.2373905, 5.2533293, 5.2644773, 5.2046   ,\n",
       "       5.2892   , 5.233197 , 5.220545 , 5.2078424, 5.217655 , 5.1999583,\n",
       "       5.234872 , 5.182539 , 5.2486734, 5.1785245, 5.2301683, 5.2052226,\n",
       "       5.1686077, 5.2410183, 5.2257447, 5.171128 , 5.22682  , 5.224004 ,\n",
       "       5.266877 , 5.1909738, 5.2624764, 5.248242 , 5.227764 , 5.2016196,\n",
       "       5.193633 , 5.199351 , 5.205119 , 5.195848 , 5.2221637, 5.2528243,\n",
       "       5.250676 , 5.2312894, 5.1994724, 5.2230835, 5.2638235, 5.2164063,\n",
       "       5.2259965, 5.2145734, 5.193859 , 5.232087 , 5.2167077, 5.181359 ,\n",
       "       5.260884 , 5.217599 , 5.216511 , 5.2377887, 5.2162857, 5.2242956,\n",
       "       5.1612296, 5.203681 , 5.200122 , 5.2528954, 5.202814 , 5.233683 ,\n",
       "       5.1789045, 5.212596 , 5.218989 , 5.190078 , 5.1951156, 5.227644 ,\n",
       "       5.215339 , 5.2146893, 5.2522097, 5.200951 , 5.169486 , 5.240847 ,\n",
       "       5.2409496, 5.226619 , 5.274291 , 5.2164545, 5.2575   , 5.250893 ,\n",
       "       5.209136 , 5.220387 , 5.2431154, 5.2360587, 5.2338223, 5.193867 ,\n",
       "       5.255677 , 5.202601 , 5.208008 , 5.222844 , 5.2199025, 5.206254 ,\n",
       "       5.1748304, 5.225622 , 5.255749 , 5.2188287, 5.221835 , 5.2032146,\n",
       "       5.202692 , 5.2303643, 5.2098217, 5.235499 , 5.2043324, 5.2179966,\n",
       "       5.224915 , 5.214151 , 5.2109413, 5.201113 , 5.204619 , 5.2457857,\n",
       "       5.1917634, 5.217487 , 5.1738844, 5.2214665, 5.20729  , 5.2131386,\n",
       "       5.233882 , 5.197555 , 5.2473083, 5.222833 , 5.234112 , 5.215414 ,\n",
       "       5.199236 , 5.2176933, 5.198559 , 5.2544174, 5.236416 , 5.2762327,\n",
       "       5.1910315, 5.2494016, 5.232898 , 5.1800213, 5.190533 , 5.204128 ,\n",
       "       5.215257 , 5.226655 , 5.210651 , 5.19405  , 5.232455 , 5.177214 ,\n",
       "       5.22649  , 5.196934 , 5.234885 , 5.2007766, 5.228652 , 5.2383914,\n",
       "       5.228714 , 5.2119017, 5.2161703, 5.2145033, 5.2476664, 5.188036 ,\n",
       "       5.2426424, 5.193286 , 5.190724 , 5.2403812, 5.20339  , 5.2006636,\n",
       "       5.2830124, 5.2020726, 5.2568665, 5.2119064, 5.213511 , 5.2644086,\n",
       "       5.271831 , 5.2416306, 5.260176 , 5.244198 , 5.2066665, 5.2053084,\n",
       "       5.228099 , 5.22445  , 5.213904 , 5.2142153, 5.223198 , 5.215399 ,\n",
       "       5.179916 , 5.1846547, 5.2377176, 5.259662 , 5.2465363, 5.200165 ,\n",
       "       5.1983004, 5.2132683, 5.1895933, 5.2302465, 5.2395463, 5.2274   ,\n",
       "       5.2212214, 5.270535 , 5.207112 , 5.2212486, 5.2581773, 5.2056904,\n",
       "       5.234918 , 5.2405195, 5.2628164, 5.2106676, 5.237627 , 5.206087 ,\n",
       "       5.2387214, 5.1451583, 5.238322 , 5.234988 , 5.220992 , 5.2133813,\n",
       "       5.218632 , 5.220422 , 5.218572 , 5.237054 , 5.2106104, 5.2023625,\n",
       "       5.2023797, 5.2553525, 5.181487 , 5.2335367, 5.182037 , 5.194345 ,\n",
       "       5.19054  , 5.262301 , 5.2158594, 5.250193 , 5.248334 , 5.209922 ,\n",
       "       5.184134 , 5.235137 , 5.254853 , 5.276867 , 5.248051 , 5.217751 ,\n",
       "       5.1796145, 5.24423  , 5.1842556, 5.227149 , 5.2576237, 5.1738997,\n",
       "       5.206547 , 5.242161 , 5.2420335, 5.207069 , 5.184699 , 5.232255 ,\n",
       "       5.1975217, 5.166145 , 5.194711 , 5.2232423, 5.211883 , 5.226634 ,\n",
       "       5.2637625, 5.206872 , 5.2641687, 5.190771 , 5.2213554, 5.192177 ,\n",
       "       5.2281733, 5.1996818, 5.2099676, 5.2011714, 5.254395 , 5.2017465,\n",
       "       5.2402873, 5.216176 , 5.213007 , 5.2347136, 5.216621 , 5.244819 ,\n",
       "       5.189858 , 5.236241 , 5.203527 , 5.221444 , 5.2561846, 5.262564 ,\n",
       "       5.219658 , 5.270636 , 5.1926174, 5.1970754, 5.191251 , 5.1829977,\n",
       "       5.187675 , 5.2264943, 5.2444596, 5.186281 , 5.197594 , 5.1968284,\n",
       "       5.2031937, 5.254235 , 5.247804 , 5.234816 , 5.2143493, 5.2042985,\n",
       "       5.203677 , 5.2044687, 5.201053 , 5.217073 , 5.1919904, 5.211199 ,\n",
       "       5.2147536, 5.2687182, 5.1924424, 5.2209263, 5.211728 , 5.222769 ,\n",
       "       5.2245173, 5.252348 , 5.235162 , 5.2203193, 5.2365108, 5.2336783,\n",
       "       5.189786 , 5.255531 , 5.219197 , 5.223953 , 5.2117243, 5.2269764,\n",
       "       5.196475 , 5.2242217, 5.17697  , 5.213191 , 5.246858 , 5.212726 ,\n",
       "       5.2217555, 5.196032 , 5.2517366, 5.226052 , 5.232319 , 5.2127566,\n",
       "       5.187568 , 5.1866918, 5.207904 , 5.259812 , 5.200143 , 5.2327724,\n",
       "       5.2111807, 5.223077 , 5.2282357, 5.1629496, 5.242529 , 5.2496614,\n",
       "       5.214692 , 5.2268033, 5.229266 , 5.2260714, 5.197485 , 5.202801 ,\n",
       "       5.2318826, 5.2340283, 5.234723 , 5.229678 , 5.232631 , 5.200507 ,\n",
       "       5.1833797, 5.2382417, 5.215142 , 5.192488 , 5.225495 , 5.247949 ,\n",
       "       5.2390447, 5.1951127, 5.229409 , 5.210624 , 5.2061987, 5.2197633,\n",
       "       5.1578083, 5.226475 , 5.204658 , 5.240013 , 5.22827  , 5.2259216,\n",
       "       5.249364 , 5.277654 , 5.2320194, 5.2383604, 5.2374573, 5.193502 ,\n",
       "       5.249504 , 5.2223697, 5.2330933, 5.1870728, 5.237243 , 5.2276087,\n",
       "       5.183676 , 5.1953664, 5.2097244, 5.2302003, 5.2127852, 5.231889 ,\n",
       "       5.216752 , 5.2322426, 5.24883  , 5.192718 , 5.2033997, 5.215006 ,\n",
       "       5.210837 , 5.253662 , 5.2245564, 5.215091 ], dtype=float32)>"
      ]
     },
     "execution_count": 113,
     "metadata": {},
     "output_type": "execute_result"
    }
   ],
   "source": [
    "model.T_serial_samples_constrained"
   ]
  },
  {
   "cell_type": "code",
   "execution_count": 116,
   "id": "d4e263a7",
   "metadata": {},
   "outputs": [
    {
     "ename": "AttributeError",
     "evalue": "'dict' object has no attribute 'stack'",
     "output_type": "error",
     "traceback": [
      "\u001b[0;31m---------------------------------------------------------------------------\u001b[0m",
      "\u001b[0;31mAttributeError\u001b[0m                            Traceback (most recent call last)",
      "\u001b[0;32m/tmp/ipykernel_448/2028252089.py\u001b[0m in \u001b[0;36m<module>\u001b[0;34m\u001b[0m\n\u001b[0;32m----> 1\u001b[0;31m \u001b[0mcopy_model\u001b[0m\u001b[0;34m.\u001b[0m\u001b[0mcall\u001b[0m\u001b[0;34m(\u001b[0m\u001b[0mx_train\u001b[0m\u001b[0;34m,\u001b[0m\u001b[0mreturn_all\u001b[0m\u001b[0;34m=\u001b[0m\u001b[0;32mTrue\u001b[0m\u001b[0;34m)\u001b[0m\u001b[0;34m\u001b[0m\u001b[0;34m\u001b[0m\u001b[0m\n\u001b[0m",
      "\u001b[0;32m/mnt/c/Users/kheut/code/covid19-forecasting/tf_model_1p5/model.py\u001b[0m in \u001b[0;36mcall\u001b[0;34m(self, r_t, debug_disable_prior, return_all)\u001b[0m\n\u001b[1;32m    132\u001b[0m         \u001b[0mself\u001b[0m\u001b[0;34m.\u001b[0m\u001b[0m_mark_arrays_used\u001b[0m\u001b[0;34m(\u001b[0m\u001b[0mforecasted_fluxes\u001b[0m\u001b[0;34m)\u001b[0m\u001b[0;34m\u001b[0m\u001b[0;34m\u001b[0m\u001b[0m\n\u001b[1;32m    133\u001b[0m \u001b[0;34m\u001b[0m\u001b[0m\n\u001b[0;32m--> 134\u001b[0;31m         \u001b[0;32mreturn\u001b[0m \u001b[0mresult\u001b[0m\u001b[0;34m.\u001b[0m\u001b[0mstack\u001b[0m\u001b[0;34m(\u001b[0m\u001b[0;34m)\u001b[0m\u001b[0;34m\u001b[0m\u001b[0;34m\u001b[0m\u001b[0m\n\u001b[0m\u001b[1;32m    135\u001b[0m \u001b[0;34m\u001b[0m\u001b[0m\n\u001b[1;32m    136\u001b[0m     def _initialize_parameters(self, T_serial, rho_M, lambda_M, nu_M,\n",
      "\u001b[0;31mAttributeError\u001b[0m: 'dict' object has no attribute 'stack'"
     ]
    }
   ],
   "source": [
    "copy_model.call(x_train,return_all=True)"
   ]
  },
  {
   "cell_type": "code",
   "execution_count": 119,
   "id": "84283817",
   "metadata": {},
   "outputs": [
    {
     "ename": "InvalidArgumentError",
     "evalue": "Incompatible shapes: [3] vs. [1000] [Op:Mul]",
     "output_type": "error",
     "traceback": [
      "\u001b[0;31m---------------------------------------------------------------------------\u001b[0m",
      "\u001b[0;31mInvalidArgumentError\u001b[0m                      Traceback (most recent call last)",
      "\u001b[0;32m/tmp/ipykernel_448/1296073615.py\u001b[0m in \u001b[0;36m<module>\u001b[0;34m\u001b[0m\n\u001b[0;32m----> 1\u001b[0;31m \u001b[0mwarmup_asymp\u001b[0m\u001b[0;34m*\u001b[0m\u001b[0mx_train\u001b[0m\u001b[0;34m[\u001b[0m\u001b[0;36m2\u001b[0m\u001b[0;34m]\u001b[0m \u001b[0;34m**\u001b[0m \u001b[0;34m(\u001b[0m\u001b[0;36m1\u001b[0m\u001b[0;34m/\u001b[0m\u001b[0mmodel\u001b[0m\u001b[0;34m.\u001b[0m\u001b[0mT_serial_samples_constrained\u001b[0m\u001b[0;34m)\u001b[0m\u001b[0;34m\u001b[0m\u001b[0;34m\u001b[0m\u001b[0m\n\u001b[0m",
      "\u001b[0;32m~/anaconda3/envs/covid_vax_model/lib/python3.7/site-packages/tensorflow/python/ops/math_ops.py\u001b[0m in \u001b[0;36mr_binary_op_wrapper\u001b[0;34m(y, x)\u001b[0m\n\u001b[1;32m   1398\u001b[0m       \u001b[0;31m#   r_binary_op_wrapper use different force_same_dtype values.\u001b[0m\u001b[0;34m\u001b[0m\u001b[0;34m\u001b[0m\u001b[0;34m\u001b[0m\u001b[0m\n\u001b[1;32m   1399\u001b[0m       \u001b[0my\u001b[0m\u001b[0;34m,\u001b[0m \u001b[0mx\u001b[0m \u001b[0;34m=\u001b[0m \u001b[0mmaybe_promote_tensors\u001b[0m\u001b[0;34m(\u001b[0m\u001b[0my\u001b[0m\u001b[0;34m,\u001b[0m \u001b[0mx\u001b[0m\u001b[0;34m)\u001b[0m\u001b[0;34m\u001b[0m\u001b[0;34m\u001b[0m\u001b[0m\n\u001b[0;32m-> 1400\u001b[0;31m       \u001b[0;32mreturn\u001b[0m \u001b[0mfunc\u001b[0m\u001b[0;34m(\u001b[0m\u001b[0mx\u001b[0m\u001b[0;34m,\u001b[0m \u001b[0my\u001b[0m\u001b[0;34m,\u001b[0m \u001b[0mname\u001b[0m\u001b[0;34m=\u001b[0m\u001b[0mname\u001b[0m\u001b[0;34m)\u001b[0m\u001b[0;34m\u001b[0m\u001b[0;34m\u001b[0m\u001b[0m\n\u001b[0m\u001b[1;32m   1401\u001b[0m \u001b[0;34m\u001b[0m\u001b[0m\n\u001b[1;32m   1402\u001b[0m   \u001b[0;31m# Propagate func.__doc__ to the wrappers\u001b[0m\u001b[0;34m\u001b[0m\u001b[0;34m\u001b[0m\u001b[0;34m\u001b[0m\u001b[0m\n",
      "\u001b[0;32m~/anaconda3/envs/covid_vax_model/lib/python3.7/site-packages/tensorflow/python/ops/math_ops.py\u001b[0m in \u001b[0;36m_mul_dispatch\u001b[0;34m(x, y, name)\u001b[0m\n\u001b[1;32m   1708\u001b[0m     \u001b[0;32mreturn\u001b[0m \u001b[0msparse_tensor\u001b[0m\u001b[0;34m.\u001b[0m\u001b[0mSparseTensor\u001b[0m\u001b[0;34m(\u001b[0m\u001b[0my\u001b[0m\u001b[0;34m.\u001b[0m\u001b[0mindices\u001b[0m\u001b[0;34m,\u001b[0m \u001b[0mnew_vals\u001b[0m\u001b[0;34m,\u001b[0m \u001b[0my\u001b[0m\u001b[0;34m.\u001b[0m\u001b[0mdense_shape\u001b[0m\u001b[0;34m)\u001b[0m\u001b[0;34m\u001b[0m\u001b[0;34m\u001b[0m\u001b[0m\n\u001b[1;32m   1709\u001b[0m   \u001b[0;32melse\u001b[0m\u001b[0;34m:\u001b[0m\u001b[0;34m\u001b[0m\u001b[0;34m\u001b[0m\u001b[0m\n\u001b[0;32m-> 1710\u001b[0;31m     \u001b[0;32mreturn\u001b[0m \u001b[0mmultiply\u001b[0m\u001b[0;34m(\u001b[0m\u001b[0mx\u001b[0m\u001b[0;34m,\u001b[0m \u001b[0my\u001b[0m\u001b[0;34m,\u001b[0m \u001b[0mname\u001b[0m\u001b[0;34m=\u001b[0m\u001b[0mname\u001b[0m\u001b[0;34m)\u001b[0m\u001b[0;34m\u001b[0m\u001b[0;34m\u001b[0m\u001b[0m\n\u001b[0m\u001b[1;32m   1711\u001b[0m \u001b[0;34m\u001b[0m\u001b[0m\n\u001b[1;32m   1712\u001b[0m \u001b[0;34m\u001b[0m\u001b[0m\n",
      "\u001b[0;32m~/anaconda3/envs/covid_vax_model/lib/python3.7/site-packages/tensorflow/python/util/dispatch.py\u001b[0m in \u001b[0;36mwrapper\u001b[0;34m(*args, **kwargs)\u001b[0m\n\u001b[1;32m    204\u001b[0m     \u001b[0;34m\"\"\"Call target, and fall back on dispatchers if there is a TypeError.\"\"\"\u001b[0m\u001b[0;34m\u001b[0m\u001b[0;34m\u001b[0m\u001b[0m\n\u001b[1;32m    205\u001b[0m     \u001b[0;32mtry\u001b[0m\u001b[0;34m:\u001b[0m\u001b[0;34m\u001b[0m\u001b[0;34m\u001b[0m\u001b[0m\n\u001b[0;32m--> 206\u001b[0;31m       \u001b[0;32mreturn\u001b[0m \u001b[0mtarget\u001b[0m\u001b[0;34m(\u001b[0m\u001b[0;34m*\u001b[0m\u001b[0margs\u001b[0m\u001b[0;34m,\u001b[0m \u001b[0;34m**\u001b[0m\u001b[0mkwargs\u001b[0m\u001b[0;34m)\u001b[0m\u001b[0;34m\u001b[0m\u001b[0;34m\u001b[0m\u001b[0m\n\u001b[0m\u001b[1;32m    207\u001b[0m     \u001b[0;32mexcept\u001b[0m \u001b[0;34m(\u001b[0m\u001b[0mTypeError\u001b[0m\u001b[0;34m,\u001b[0m \u001b[0mValueError\u001b[0m\u001b[0;34m)\u001b[0m\u001b[0;34m:\u001b[0m\u001b[0;34m\u001b[0m\u001b[0;34m\u001b[0m\u001b[0m\n\u001b[1;32m    208\u001b[0m       \u001b[0;31m# Note: convert_to_eager_tensor currently raises a ValueError, not a\u001b[0m\u001b[0;34m\u001b[0m\u001b[0;34m\u001b[0m\u001b[0;34m\u001b[0m\u001b[0m\n",
      "\u001b[0;32m~/anaconda3/envs/covid_vax_model/lib/python3.7/site-packages/tensorflow/python/ops/math_ops.py\u001b[0m in \u001b[0;36mmultiply\u001b[0;34m(x, y, name)\u001b[0m\n\u001b[1;32m    528\u001b[0m   \"\"\"\n\u001b[1;32m    529\u001b[0m \u001b[0;34m\u001b[0m\u001b[0m\n\u001b[0;32m--> 530\u001b[0;31m   \u001b[0;32mreturn\u001b[0m \u001b[0mgen_math_ops\u001b[0m\u001b[0;34m.\u001b[0m\u001b[0mmul\u001b[0m\u001b[0;34m(\u001b[0m\u001b[0mx\u001b[0m\u001b[0;34m,\u001b[0m \u001b[0my\u001b[0m\u001b[0;34m,\u001b[0m \u001b[0mname\u001b[0m\u001b[0;34m)\u001b[0m\u001b[0;34m\u001b[0m\u001b[0;34m\u001b[0m\u001b[0m\n\u001b[0m\u001b[1;32m    531\u001b[0m \u001b[0;34m\u001b[0m\u001b[0m\n\u001b[1;32m    532\u001b[0m \u001b[0;34m\u001b[0m\u001b[0m\n",
      "\u001b[0;32m~/anaconda3/envs/covid_vax_model/lib/python3.7/site-packages/tensorflow/python/ops/gen_math_ops.py\u001b[0m in \u001b[0;36mmul\u001b[0;34m(x, y, name)\u001b[0m\n\u001b[1;32m   6234\u001b[0m       \u001b[0;32mreturn\u001b[0m \u001b[0m_result\u001b[0m\u001b[0;34m\u001b[0m\u001b[0;34m\u001b[0m\u001b[0m\n\u001b[1;32m   6235\u001b[0m     \u001b[0;32mexcept\u001b[0m \u001b[0m_core\u001b[0m\u001b[0;34m.\u001b[0m\u001b[0m_NotOkStatusException\u001b[0m \u001b[0;32mas\u001b[0m \u001b[0me\u001b[0m\u001b[0;34m:\u001b[0m\u001b[0;34m\u001b[0m\u001b[0;34m\u001b[0m\u001b[0m\n\u001b[0;32m-> 6236\u001b[0;31m       \u001b[0m_ops\u001b[0m\u001b[0;34m.\u001b[0m\u001b[0mraise_from_not_ok_status\u001b[0m\u001b[0;34m(\u001b[0m\u001b[0me\u001b[0m\u001b[0;34m,\u001b[0m \u001b[0mname\u001b[0m\u001b[0;34m)\u001b[0m\u001b[0;34m\u001b[0m\u001b[0;34m\u001b[0m\u001b[0m\n\u001b[0m\u001b[1;32m   6237\u001b[0m     \u001b[0;32mexcept\u001b[0m \u001b[0m_core\u001b[0m\u001b[0;34m.\u001b[0m\u001b[0m_FallbackException\u001b[0m\u001b[0;34m:\u001b[0m\u001b[0;34m\u001b[0m\u001b[0;34m\u001b[0m\u001b[0m\n\u001b[1;32m   6238\u001b[0m       \u001b[0;32mpass\u001b[0m\u001b[0;34m\u001b[0m\u001b[0;34m\u001b[0m\u001b[0m\n",
      "\u001b[0;32m~/anaconda3/envs/covid_vax_model/lib/python3.7/site-packages/tensorflow/python/framework/ops.py\u001b[0m in \u001b[0;36mraise_from_not_ok_status\u001b[0;34m(e, name)\u001b[0m\n\u001b[1;32m   6939\u001b[0m   \u001b[0mmessage\u001b[0m \u001b[0;34m=\u001b[0m \u001b[0me\u001b[0m\u001b[0;34m.\u001b[0m\u001b[0mmessage\u001b[0m \u001b[0;34m+\u001b[0m \u001b[0;34m(\u001b[0m\u001b[0;34m\" name: \"\u001b[0m \u001b[0;34m+\u001b[0m \u001b[0mname\u001b[0m \u001b[0;32mif\u001b[0m \u001b[0mname\u001b[0m \u001b[0;32mis\u001b[0m \u001b[0;32mnot\u001b[0m \u001b[0;32mNone\u001b[0m \u001b[0;32melse\u001b[0m \u001b[0;34m\"\"\u001b[0m\u001b[0;34m)\u001b[0m\u001b[0;34m\u001b[0m\u001b[0;34m\u001b[0m\u001b[0m\n\u001b[1;32m   6940\u001b[0m   \u001b[0;31m# pylint: disable=protected-access\u001b[0m\u001b[0;34m\u001b[0m\u001b[0;34m\u001b[0m\u001b[0;34m\u001b[0m\u001b[0m\n\u001b[0;32m-> 6941\u001b[0;31m   \u001b[0msix\u001b[0m\u001b[0;34m.\u001b[0m\u001b[0mraise_from\u001b[0m\u001b[0;34m(\u001b[0m\u001b[0mcore\u001b[0m\u001b[0;34m.\u001b[0m\u001b[0m_status_to_exception\u001b[0m\u001b[0;34m(\u001b[0m\u001b[0me\u001b[0m\u001b[0;34m.\u001b[0m\u001b[0mcode\u001b[0m\u001b[0;34m,\u001b[0m \u001b[0mmessage\u001b[0m\u001b[0;34m)\u001b[0m\u001b[0;34m,\u001b[0m \u001b[0;32mNone\u001b[0m\u001b[0;34m)\u001b[0m\u001b[0;34m\u001b[0m\u001b[0;34m\u001b[0m\u001b[0m\n\u001b[0m\u001b[1;32m   6942\u001b[0m   \u001b[0;31m# pylint: enable=protected-access\u001b[0m\u001b[0;34m\u001b[0m\u001b[0;34m\u001b[0m\u001b[0;34m\u001b[0m\u001b[0m\n\u001b[1;32m   6943\u001b[0m \u001b[0;34m\u001b[0m\u001b[0m\n",
      "\u001b[0;32m~/anaconda3/envs/covid_vax_model/lib/python3.7/site-packages/six.py\u001b[0m in \u001b[0;36mraise_from\u001b[0;34m(value, from_value)\u001b[0m\n",
      "\u001b[0;31mInvalidArgumentError\u001b[0m: Incompatible shapes: [3] vs. [1000] [Op:Mul]"
     ]
    }
   ],
   "source": [
    "warmup_asymp*x_train[2] ** (1/model.T_serial_samples_constrained)"
   ]
  },
  {
   "cell_type": "code",
   "execution_count": 128,
   "id": "b375b608",
   "metadata": {},
   "outputs": [
    {
     "data": {
      "text/plain": [
       "<tf.Tensor: shape=(1000,), dtype=float32, numpy=\n",
       "array([2583.2346, 2419.5955, 2443.0764, 2530.7456, 2561.2058, 2450.3152,\n",
       "       2550.8037, 2537.0903, 2604.2705, 2467.8909, 2506.2795, 2516.104 ,\n",
       "       2541.5713, 2547.7625, 2523.8752, 2402.808 , 2513.6643, 2593.0452,\n",
       "       2534.875 , 2397.1582, 2448.6863, 2485.6892, 2440.5234, 2514.1218,\n",
       "       2490.6042, 2532.2402, 2399.1265, 2607.0073, 2491.5347, 2521.4346,\n",
       "       2521.5823, 2527.2085, 2526.0427, 2576.5344, 2635.7156, 2455.9304,\n",
       "       2588.3152, 2549.9077, 2556.402 , 2538.0234, 2563.326 , 2546.9448,\n",
       "       2452.5823, 2469.5933, 2549.0593, 2517.475 , 2557.9275, 2496.2898,\n",
       "       2540.4304, 2524.8816, 2506.4702, 2475.5466, 2478.843 , 2603.097 ,\n",
       "       2495.009 , 2529.6187, 2480.0244, 2493.7512, 2467.9417, 2443.4731,\n",
       "       2495.5251, 2445.6165, 2557.6802, 2521.9587, 2481.598 , 2437.613 ,\n",
       "       2528.5735, 2492.8457, 2523.4763, 2584.4614, 2594.4612, 2467.0083,\n",
       "       2562.9417, 2529.3357, 2500.2246, 2537.9648, 2482.88  , 2471.9631,\n",
       "       2514.0466, 2505.1755, 2496.3403, 2466.554 , 2394.9075, 2462.268 ,\n",
       "       2490.3977, 2424.1348, 2505.3792, 2506.5715, 2471.7393, 2508.1816,\n",
       "       2512.4644, 2537.2095, 2543.3928, 2546.6697, 2556.566 , 2476.7068,\n",
       "       2554.624 , 2520.7085, 2431.7515, 2489.0393, 2461.658 , 2475.3777,\n",
       "       2543.7224, 2492.6206, 2481.9424, 2604.1914, 2567.7737, 2454.3682,\n",
       "       2451.655 , 2487.718 , 2558.3977, 2492.8408, 2537.0752, 2457.3794,\n",
       "       2415.5005, 2526.2324, 2572.3313, 2427.8274, 2408.7915, 2584.5913,\n",
       "       2508.673 , 2447.5305, 2592.1208, 2540.6   , 2487.9397, 2517.1375,\n",
       "       2573.3848, 2575.6082, 2559.1387, 2486.803 , 2458.477 , 2333.4536,\n",
       "       2499.0159, 2582.1428, 2554.9746, 2554.3994, 2450.4248, 2539.5989,\n",
       "       2456.2915, 2418.395 , 2508.1882, 2504.702 , 2533.8047, 2420.1025,\n",
       "       2513.6313, 2551.1968, 2577.3728, 2450.286 , 2520.4998, 2440.0007,\n",
       "       2558.3987, 2504.7244, 2503.2603, 2498.1008, 2494.235 , 2512.02  ,\n",
       "       2450.223 , 2499.028 , 2541.301 , 2460.1675, 2568.0347, 2513.8215,\n",
       "       2558.5215, 2554.2593, 2481.3699, 2478.0007, 2512.4294, 2468.7354,\n",
       "       2388.3853, 2512.5947, 2561.2224, 2495.5059, 2448.5557, 2497.8962,\n",
       "       2532.3735, 2588.4763, 2504.2268, 2405.1423, 2525.396 , 2480.8467,\n",
       "       2504.8567, 2445.5376, 2549.9653, 2510.2803, 2451.7295, 2571.382 ,\n",
       "       2431.823 , 2477.8733, 2627.5178, 2477.8933, 2509.0732, 2494.6443,\n",
       "       2521.3108, 2480.6814, 2448.0068, 2540.7532, 2495.011 , 2553.357 ,\n",
       "       2513.8252, 2503.5815, 2542.9702, 2517.886 , 2533.4219, 2477.2397,\n",
       "       2585.5518, 2562.6301, 2466.7263, 2479.2651, 2447.0923, 2584.5957,\n",
       "       2497.7366, 2588.4443, 2461.219 , 2626.6648, 2500.334 , 2514.6948,\n",
       "       2441.7788, 2507.4897, 2497.8787, 2472.5886, 2462.1748, 2498.6155,\n",
       "       2524.7966, 2580.6345, 2472.0066, 2481.062 , 2495.2854, 2501.6917,\n",
       "       2530.3936, 2542.7483, 2483.873 , 2487.2368, 2555.5488, 2562.3403,\n",
       "       2486.3716, 2511.6406, 2560.8374, 2589.8633, 2462.3936, 2515.984 ,\n",
       "       2566.9924, 2546.2393, 2362.0293, 2524.5808, 2555.276 , 2475.9204,\n",
       "       2422.4448, 2599.0195, 2424.975 , 2481.0686, 2587.57  , 2375.899 ,\n",
       "       2517.888 , 2457.5405, 2573.7957, 2467.521 , 2432.5781, 2395.668 ,\n",
       "       2606.7224, 2512.8945, 2477.7349, 2421.4775, 2520.7622, 2475.6274,\n",
       "       2501.714 , 2527.3113, 2569.8904, 2532.3845, 2452.4514, 2503.086 ,\n",
       "       2457.1372, 2402.1902, 2581.861 , 2454.2646, 2568.022 , 2514.9404,\n",
       "       2473.4568, 2635.222 , 2459.4695, 2489.6611, 2472.0173, 2529.6367,\n",
       "       2453.6309, 2453.6162, 2535.0178, 2482.394 , 2475.6755, 2601.4077,\n",
       "       2498.4978, 2563.1006, 2493.0188, 2672.7202, 2504.4146, 2630.168 ,\n",
       "       2463.2483, 2567.049 , 2433.2417, 2535.6394, 2477.0447, 2500.3223,\n",
       "       2485.792 , 2527.0273, 2471.1414, 2470.4666, 2462.6245, 2526.3645,\n",
       "       2425.1912, 2510.8555, 2489.9365, 2534.5737, 2536.8125, 2449.792 ,\n",
       "       2509.3484, 2505.3281, 2532.6074, 2530.3667, 2483.2043, 2542.7246,\n",
       "       2361.2385, 2520.6995, 2538.2754, 2505.3457, 2404.8853, 2491.5095,\n",
       "       2447.8086, 2483.8555, 2501.2961, 2524.0466, 2565.8162, 2600.1375,\n",
       "       2509.5684, 2446.3645, 2422.2344, 2549.8994, 2557.208 , 2513.8914,\n",
       "       2510.4124, 2429.6367, 2511.6191, 2478.377 , 2535.7761, 2350.4185,\n",
       "       2547.4832, 2529.4832, 2554.652 , 2498.2124, 2443.6292, 2508.4807,\n",
       "       2432.2043, 2502.5613, 2524.6875, 2560.502 , 2431.8135, 2473.5103,\n",
       "       2489.6995, 2517.6858, 2490.7205, 2508.8145, 2444.166 , 2564.7292,\n",
       "       2495.5786, 2548.1057, 2442.0671, 2434.7275, 2422.661 , 2448.6174,\n",
       "       2500.785 , 2560.786 , 2624.1594, 2514.1526, 2432.8274, 2478.6401,\n",
       "       2468.5315, 2503.6985, 2543.777 , 2475.065 , 2490.912 , 2536.356 ,\n",
       "       2503.9219, 2469.9385, 2596.6055, 2357.9495, 2442.0903, 2403.4272,\n",
       "       2550.6758, 2469.185 , 2533.6912, 2501.0215, 2529.2231, 2552.367 ,\n",
       "       2619.419 , 2559.6975, 2555.4421, 2370.2668, 2552.62  , 2582.671 ,\n",
       "       2493.742 , 2552.4497, 2471.9485, 2489.0234, 2470.2002, 2466.3557,\n",
       "       2525.1038, 2454.4902, 2434.0107, 2509.8594, 2450.052 , 2478.1096,\n",
       "       2516.6965, 2508.588 , 2516.0544, 2379.3965, 2477.4084, 2528.032 ,\n",
       "       2529.3115, 2550.0789, 2428.1296, 2496.3672, 2478.8713, 2457.4746,\n",
       "       2494.3406, 2521.3538, 2534.8203, 2532.8318, 2463.053 , 2532.5613,\n",
       "       2463.2996, 2407.7861, 2517.1895, 2535.386 , 2460.0056, 2602.7737,\n",
       "       2603.97  , 2496.2454, 2498.8567, 2520.9663, 2496.4014, 2525.3333,\n",
       "       2547.8953, 2504.6223, 2527.6953, 2502.018 , 2444.671 , 2482.6318,\n",
       "       2531.5942, 2515.2378, 2493.8215, 2362.2532, 2501.5164, 2507.6785,\n",
       "       2511.5505, 2539.0054, 2420.162 , 2521.0684, 2445.2166, 2423.6204,\n",
       "       2448.836 , 2542.9094, 2552.8079, 2394.8435, 2497.0771, 2455.8206,\n",
       "       2471.562 , 2472.5715, 2536.0547, 2521.2273, 2602.6453, 2509.812 ,\n",
       "       2500.0386, 2453.999 , 2490.5073, 2564.668 , 2443.9768, 2483.1995,\n",
       "       2478.877 , 2538.9285, 2514.9219, 2577.124 , 2414.4563, 2491.9727,\n",
       "       2385.6694, 2527.0657, 2437.9802, 2566.1394, 2579.569 , 2415.27  ,\n",
       "       2494.4487, 2478.135 , 2512.8428, 2557.0767, 2491.8342, 2503.116 ,\n",
       "       2527.533 , 2413.7878, 2471.9329, 2496.0242, 2473.4004, 2536.5244,\n",
       "       2457.8118, 2545.347 , 2451.6052, 2524.6033, 2448.3313, 2574.8145,\n",
       "       2594.2192, 2387.1606, 2500.6365, 2508.8328, 2489.9146, 2481.8555,\n",
       "       2415.2585, 2501.0002, 2544.1575, 2356.9648, 2577.2178, 2529.6157,\n",
       "       2541.7356, 2565.466 , 2507.7974, 2524.114 , 2453.7651, 2535.7341,\n",
       "       2336.6648, 2577.7017, 2539.9062, 2528.99  , 2535.9805, 2534.9736,\n",
       "       2463.6143, 2537.279 , 2549.957 , 2448.6855, 2496.7505, 2543.1753,\n",
       "       2525.8767, 2503.4302, 2445.3218, 2483.761 , 2550.0447, 2563.5447,\n",
       "       2476.384 , 2543.4446, 2535.078 , 2517.8416, 2562.3037, 2551.462 ,\n",
       "       2472.9392, 2515.7158, 2438.959 , 2451.432 , 2414.3115, 2435.2434,\n",
       "       2466.3672, 2370.5244, 2543.7837, 2490.2136, 2430.8186, 2513.6836,\n",
       "       2590.9404, 2516.8687, 2374.749 , 2548.7393, 2534.5447, 2532.7754,\n",
       "       2490.3506, 2394.404 , 2554.8604, 2459.1772, 2624.0774, 2465.4294,\n",
       "       2415.364 , 2580.6086, 2527.348 , 2527.111 , 2526.1724, 2391.8755,\n",
       "       2549.0212, 2466.6467, 2525.3953, 2498.786 , 2488.667 , 2543.0535,\n",
       "       2405.0466, 2562.9705, 2482.4707, 2477.9531, 2537.2773, 2519.614 ,\n",
       "       2504.177 , 2455.8315, 2552.6519, 2479.1694, 2595.3079, 2564.8296,\n",
       "       2491.608 , 2556.5383, 2412.849 , 2583.2551, 2499.334 , 2518.196 ,\n",
       "       2454.572 , 2540.7046, 2489.3206, 2471.555 , 2427.7188, 2503.9922,\n",
       "       2520.1406, 2399.416 , 2470.5715, 2532.6167, 2480.0557, 2461.306 ,\n",
       "       2496.0515, 2549.8018, 2496.442 , 2489.5315, 2493.3145, 2546.8977,\n",
       "       2574.9482, 2440.29  , 2474.338 , 2495.9934, 2483.3218, 2465.2578,\n",
       "       2564.5603, 2440.486 , 2562.0903, 2559.8892, 2493.9958, 2545.6125,\n",
       "       2487.8696, 2417.7969, 2444.7712, 2425.4497, 2533.7761, 2430.041 ,\n",
       "       2491.162 , 2507.7898, 2522.5154, 2498.882 , 2535.5095, 2526.3374,\n",
       "       2462.17  , 2523.959 , 2499.0845, 2532.8481, 2454.758 , 2489.089 ,\n",
       "       2503.7993, 2493.3792, 2519.0974, 2420.492 , 2443.6575, 2482.8784,\n",
       "       2483.6074, 2592.924 , 2490.2502, 2521.4644, 2514.4275, 2539.3833,\n",
       "       2520.0718, 2414.7346, 2549.23  , 2527.5342, 2423.3164, 2559.6353,\n",
       "       2397.7983, 2501.1553, 2414.527 , 2475.537 , 2534.0488, 2498.6016,\n",
       "       2525.0305, 2515.33  , 2558.861 , 2533.0432, 2557.4497, 2483.32  ,\n",
       "       2444.8462, 2459.7957, 2512.2332, 2567.609 , 2566.4106, 2377.1187,\n",
       "       2479.5967, 2523.4001, 2421.6514, 2445.3103, 2510.912 , 2455.7432,\n",
       "       2445.184 , 2483.4458, 2491.6392, 2456.4258, 2435.3198, 2429.8308,\n",
       "       2429.3066, 2477.9377, 2551.5967, 2535.925 , 2568.5413, 2385.125 ,\n",
       "       2492.7346, 2476.2192, 2473.0132, 2595.4102, 2481.4956, 2548.947 ,\n",
       "       2526.5596, 2555.3813, 2337.7573, 2496.954 , 2603.9097, 2504.4067,\n",
       "       2418.357 , 2490.4863, 2412.7378, 2463.4739, 2514.9312, 2540.4795,\n",
       "       2452.5422, 2408.5742, 2452.5803, 2507.6587, 2490.182 , 2508.0618,\n",
       "       2546.3474, 2403.6553, 2614.855 , 2473.4814, 2524.9333, 2516.8936,\n",
       "       2598.8162, 2532.8643, 2457.3936, 2528.4426, 2447.9424, 2535.795 ,\n",
       "       2622.009 , 2517.5867, 2466.0022, 2500.7268, 2464.5093, 2481.1438,\n",
       "       2521.8079, 2500.77  , 2528.8987, 2530.1125, 2470.802 , 2506.7712,\n",
       "       2483.1272, 2494.2056, 2539.616 , 2421.8674, 2548.3477, 2472.4707,\n",
       "       2502.    , 2462.105 , 2549.2288, 2492.843 , 2518.5122, 2487.5005,\n",
       "       2518.7153, 2469.6465, 2499.6184, 2563.6824, 2618.864 , 2438.1438,\n",
       "       2608.1565, 2511.9375, 2526.7153, 2422.2075, 2401.6792, 2536.8235,\n",
       "       2514.0276, 2525.393 , 2447.1926, 2531.64  , 2469.6174, 2630.935 ,\n",
       "       2529.7046, 2464.6694, 2393.7256, 2486.622 , 2476.9697, 2541.489 ,\n",
       "       2524.7507, 2472.1992, 2394.0295, 2497.076 , 2498.6096, 2490.8105,\n",
       "       2451.3228, 2466.9329, 2481.8699, 2580.2158, 2516.1426, 2519.449 ,\n",
       "       2522.0142, 2588.2698, 2534.8684, 2534.5222, 2513.2021, 2535.7307,\n",
       "       2466.2114, 2481.5916, 2512.968 , 2562.0737, 2511.584 , 2377.9006,\n",
       "       2653.5632, 2445.8452, 2597.6904, 2512.953 , 2544.1033, 2509.5415,\n",
       "       2518.2175, 2511.7085, 2537.1462, 2493.0784, 2478.6624, 2494.5793,\n",
       "       2458.871 , 2631.9885, 2472.53  , 2463.6216, 2484.3547, 2473.0906,\n",
       "       2509.3704, 2476.8225, 2432.711 , 2620.2607, 2542.7139, 2479.5317,\n",
       "       2456.113 , 2528.7764, 2417.853 , 2612.6836, 2456.199 , 2515.964 ,\n",
       "       2530.4282, 2553.6345, 2481.2227, 2497.695 , 2449.5488, 2551.0913,\n",
       "       2571.6172, 2532.9187, 2418.2751, 2464.726 , 2479.66  , 2545.9485,\n",
       "       2470.4854, 2588.4727, 2557.1882, 2565.3396, 2517.944 , 2541.8833,\n",
       "       2533.2178, 2503.4233, 2642.7686, 2462.1187, 2504.4368, 2447.8982,\n",
       "       2542.7864, 2580.9685, 2589.4211, 2460.4612, 2402.2085, 2507.1125,\n",
       "       2453.1062, 2522.6738, 2532.2405, 2524.496 , 2418.4941, 2429.5513,\n",
       "       2498.465 , 2470.9746, 2524.0483, 2515.0134, 2522.9556, 2524.9463,\n",
       "       2493.0203, 2487.8994, 2493.3586, 2437.7961, 2448.317 , 2525.161 ,\n",
       "       2519.917 , 2577.4133, 2521.6887, 2508.5215, 2473.9282, 2467.1255,\n",
       "       2422.5112, 2486.331 , 2580.498 , 2487.5251, 2476.2942, 2608.1604,\n",
       "       2577.2507, 2481.01  , 2585.246 , 2543.7395, 2498.927 , 2548.2837,\n",
       "       2535.2058, 2483.4846, 2512.0962, 2510.5388, 2543.9465, 2402.508 ,\n",
       "       2545.411 , 2514.3445, 2431.7866, 2520.6025, 2482.6785, 2494.3723,\n",
       "       2502.877 , 2509.3638, 2598.286 , 2509.84  , 2517.839 , 2402.2686,\n",
       "       2509.5078, 2483.0745, 2411.9802, 2595.3188, 2549.9036, 2521.785 ,\n",
       "       2498.156 , 2577.0056, 2451.2988, 2491.3196, 2521.457 , 2474.3184,\n",
       "       2522.804 , 2513.9492, 2511.7766, 2482.771 , 2471.9624, 2505.495 ,\n",
       "       2581.7893, 2521.5955, 2494.239 , 2409.4983, 2523.581 , 2505.7554,\n",
       "       2511.4   , 2526.5928, 2543.5906, 2452.0693, 2655.2996, 2448.8755,\n",
       "       2571.3506, 2461.403 , 2507.0256, 2447.3555, 2434.6646, 2414.876 ,\n",
       "       2546.608 , 2474.6504, 2638.0923, 2477.0947, 2579.8394, 2465.5825,\n",
       "       2514.7285, 2587.108 , 2498.346 , 2500.7383, 2466.8286, 2548.5044,\n",
       "       2482.698 , 2424.0212, 2457.1826, 2411.1882, 2612.272 , 2501.5894,\n",
       "       2523.0918, 2601.975 , 2511.2522, 2591.7812, 2495.084 , 2459.3704,\n",
       "       2569.725 , 2616.8281, 2522.9683, 2540.9634, 2455.5405, 2406.6528,\n",
       "       2458.3457, 2360.328 , 2497.8542, 2477.19  , 2485.8813, 2494.9087,\n",
       "       2564.1987, 2478.8774, 2457.676 , 2556.3372], dtype=float32)>"
      ]
     },
     "execution_count": 128,
     "metadata": {},
     "output_type": "execute_result"
    }
   ],
   "source": [
    "copy_model.warmup_A_samples[1]"
   ]
  },
  {
   "cell_type": "code",
   "execution_count": 126,
   "id": "e3aeff13",
   "metadata": {},
   "outputs": [
    {
     "ename": "NameError",
     "evalue": "name 'warmup_A' is not defined",
     "output_type": "error",
     "traceback": [
      "\u001b[0;31m---------------------------------------------------------------------------\u001b[0m",
      "\u001b[0;31mNameError\u001b[0m                                 Traceback (most recent call last)",
      "\u001b[0;32m/tmp/ipykernel_448/4108359717.py\u001b[0m in \u001b[0;36m<module>\u001b[0;34m\u001b[0m\n\u001b[0;32m----> 1\u001b[0;31m \u001b[0mwarmup_A\u001b[0m\u001b[0;34m\u001b[0m\u001b[0;34m\u001b[0m\u001b[0m\n\u001b[0m",
      "\u001b[0;31mNameError\u001b[0m: name 'warmup_A' is not defined"
     ]
    }
   ],
   "source": [
    "warmup_A"
   ]
  },
  {
   "cell_type": "code",
   "execution_count": null,
   "id": "4dc81004",
   "metadata": {},
   "outputs": [],
   "source": []
  }
 ],
 "metadata": {
  "kernelspec": {
   "display_name": "Python 3 (ipykernel)",
   "language": "python",
   "name": "python3"
  },
  "language_info": {
   "codemirror_mode": {
    "name": "ipython",
    "version": 3
   },
   "file_extension": ".py",
   "mimetype": "text/x-python",
   "name": "python",
   "nbconvert_exporter": "python",
   "pygments_lexer": "ipython3",
   "version": "3.7.11"
  }
 },
 "nbformat": 4,
 "nbformat_minor": 5
}

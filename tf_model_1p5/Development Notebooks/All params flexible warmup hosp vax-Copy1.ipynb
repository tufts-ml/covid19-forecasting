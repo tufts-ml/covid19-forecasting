{
 "cells": [
  {
   "cell_type": "code",
   "execution_count": 1,
   "id": "969ad8a3",
   "metadata": {},
   "outputs": [
    {
     "name": "stderr",
     "output_type": "stream",
     "text": [
      "2022-01-19 12:10:29.307961: W tensorflow/stream_executor/platform/default/dso_loader.cc:64] Could not load dynamic library 'libcudart.so.11.0'; dlerror: libcudart.so.11.0: cannot open shared object file: No such file or directory\n",
      "2022-01-19 12:10:29.308008: I tensorflow/stream_executor/cuda/cudart_stub.cc:29] Ignore above cudart dlerror if you do not have a GPU set up on your machine.\n"
     ]
    }
   ],
   "source": [
    "%load_ext autoreload\n",
    "%autoreload 2\n",
    "\n",
    "import numpy as np\n",
    "import tensorflow as tf\n",
    "\n",
    "import sys\n",
    "sys.path.append('/mnt/c/Users/kheut/code/covid19-forecasting/tf_model_1p5/')\n",
    "\n",
    "from enum import Enum\n",
    "\n",
    "import tensorflow as tf\n",
    "from tensorflow import keras\n",
    "from tensorflow.keras.layers import Dense\n",
    "\n",
    "import tensorflow_probability as tfp\n",
    "from scipy.stats import beta, truncnorm\n",
    "\n",
    "\n",
    "# Local imports from model.py, data.py\n",
    "from model import CovidModel, LogPoissonProb, get_logging_callbacks, Comp, Vax\n",
    "from data import read_data, create_warmup\n",
    "#from plots import make_all_plots\n",
    "\n",
    "import scipy\n",
    "\n",
    "import matplotlib\n",
    "import matplotlib.pyplot as plt\n",
    "plt.rcParams.update({'font.size': 20}) # set plot font sizes"
   ]
  },
  {
   "cell_type": "code",
   "execution_count": 2,
   "id": "9ffdbf61",
   "metadata": {},
   "outputs": [],
   "source": [
    "transition_window =10\n",
    "\n",
    "warmup_start = '20210421'\n",
    "warmup_end = '20210430'\n",
    "train_start = '20210501'\n",
    "train_end = '20210731'\n",
    "test_start = '20210801'\n",
    "test_end = '20210831'\n",
    "\n",
    "state = 'Massachusetts'\n",
    "state_abbrev = 'MA'\n",
    "\n",
    "data_dir = '../data'\n",
    "covid_estim_date = '20210901'\n",
    "hhs_date = '20210903'\n",
    "owid_date = '20210903'\n",
    "\n",
    "# Learning rate\n",
    "learning_rate = 0.1"
   ]
  },
  {
   "cell_type": "code",
   "execution_count": 3,
   "id": "8af6455c",
   "metadata": {},
   "outputs": [],
   "source": [
    "df = read_data(data_dir=data_dir,\n",
    "               covid_estim_date=covid_estim_date,\n",
    "               hhs_date=hhs_date,\n",
    "               owid_date=owid_date,\n",
    "               state=state, state_abbrev=state_abbrev)"
   ]
  },
  {
   "cell_type": "code",
   "execution_count": 4,
   "id": "3220d0aa",
   "metadata": {},
   "outputs": [],
   "source": [
    "# get warmup arrays, splitting on vaccination status\n",
    "warmup_asymp, warmup_mild, warmup_extreme = create_warmup(df, \n",
    "                                                          warmup_start, \n",
    "                                                          warmup_end,\n",
    "                                                          0,0,0)\n",
    "\n",
    "# re-combine\n",
    "#warmup_asymp = warmup_asymp[Vax.no.value] + warmup_asymp[Vax.yes.value]\n",
    "#warmup_mild = warmup_mild[Vax.no.value] + warmup_asymp[Vax.yes.value]"
   ]
  },
  {
   "cell_type": "code",
   "execution_count": 5,
   "id": "b340a832",
   "metadata": {},
   "outputs": [],
   "source": [
    "vax_statuses = [Vax.yes, Vax.no]\n"
   ]
  },
  {
   "cell_type": "code",
   "execution_count": 6,
   "id": "086cb3f2",
   "metadata": {},
   "outputs": [],
   "source": [
    "synth_T_serial = 5.8\n",
    "synth_rho_M = 0.76\n",
    "synth_lambda_M = 4.7\n",
    "synth_nu_M = 3.1"
   ]
  },
  {
   "cell_type": "code",
   "execution_count": 7,
   "id": "ddd9c4d9",
   "metadata": {},
   "outputs": [],
   "source": [
    "\n",
    "warmup_A_params = {}\n",
    "warmup_M_params = {}\n",
    "\n",
    "for vax_status in [status.value for status in vax_statuses]:\n",
    "                \n",
    "    \n",
    "    warmup_A_params[vax_status] = {}\n",
    "    warmup_A_params[vax_status]['prior'] = []\n",
    "    warmup_A_params[vax_status]['posterior_init'] = []\n",
    "\n",
    "    warmup_M_params[vax_status] = {}\n",
    "    warmup_M_params[vax_status]['prior'] = []\n",
    "    warmup_M_params[vax_status]['posterior_init'] = []\n",
    "\n",
    "    for day in range(transition_window):\n",
    "        warmup_A_params[vax_status]['prior'].append({'loc': warmup_asymp[vax_status][day]/2,\n",
    "                                                    'scale': warmup_asymp[vax_status][day]/2/10})\n",
    "\n",
    "        warmup_M_params[vax_status]['prior'].append({'loc': warmup_mild[vax_status][day]/2,\n",
    "                                                    'scale': warmup_mild[vax_status][day]/2/10})\n",
    "    "
   ]
  },
  {
   "cell_type": "code",
   "execution_count": 8,
   "id": "f3dd3b64",
   "metadata": {},
   "outputs": [
    {
     "name": "stderr",
     "output_type": "stream",
     "text": [
      "2022-01-19 12:10:31.519465: I tensorflow/stream_executor/cuda/cuda_gpu_executor.cc:923] could not open file to read NUMA node: /sys/bus/pci/devices/0000:2d:00.0/numa_node\n",
      "Your kernel may have been built without NUMA support.\n",
      "2022-01-19 12:10:31.519686: W tensorflow/stream_executor/platform/default/dso_loader.cc:64] Could not load dynamic library 'libcudart.so.11.0'; dlerror: libcudart.so.11.0: cannot open shared object file: No such file or directory\n",
      "2022-01-19 12:10:31.519728: W tensorflow/stream_executor/platform/default/dso_loader.cc:64] Could not load dynamic library 'libcublas.so.11'; dlerror: libcublas.so.11: cannot open shared object file: No such file or directory\n",
      "2022-01-19 12:10:31.519757: W tensorflow/stream_executor/platform/default/dso_loader.cc:64] Could not load dynamic library 'libcublasLt.so.11'; dlerror: libcublasLt.so.11: cannot open shared object file: No such file or directory\n",
      "2022-01-19 12:10:31.519781: W tensorflow/stream_executor/platform/default/dso_loader.cc:64] Could not load dynamic library 'libcufft.so.10'; dlerror: libcufft.so.10: cannot open shared object file: No such file or directory\n",
      "2022-01-19 12:10:31.519803: W tensorflow/stream_executor/platform/default/dso_loader.cc:64] Could not load dynamic library 'libcurand.so.10'; dlerror: libcurand.so.10: cannot open shared object file: No such file or directory\n",
      "2022-01-19 12:10:31.519827: W tensorflow/stream_executor/platform/default/dso_loader.cc:64] Could not load dynamic library 'libcusolver.so.11'; dlerror: libcusolver.so.11: cannot open shared object file: No such file or directory\n",
      "2022-01-19 12:10:31.519849: W tensorflow/stream_executor/platform/default/dso_loader.cc:64] Could not load dynamic library 'libcusparse.so.11'; dlerror: libcusparse.so.11: cannot open shared object file: No such file or directory\n",
      "2022-01-19 12:10:31.519870: W tensorflow/stream_executor/platform/default/dso_loader.cc:64] Could not load dynamic library 'libcudnn.so.8'; dlerror: libcudnn.so.8: cannot open shared object file: No such file or directory\n",
      "2022-01-19 12:10:31.519877: W tensorflow/core/common_runtime/gpu/gpu_device.cc:1835] Cannot dlopen some GPU libraries. Please make sure the missing libraries mentioned above are installed properly if you would like to use GPU. Follow the guide at https://www.tensorflow.org/install/gpu for how to download and setup the required libraries for your platform.\n",
      "Skipping registering GPU devices...\n",
      "2022-01-19 12:10:31.520298: I tensorflow/core/platform/cpu_feature_guard.cc:142] This TensorFlow binary is optimized with oneAPI Deep Neural Network Library (oneDNN) to use the following CPU instructions in performance-critical operations:  AVX2 FMA\n",
      "To enable them in other operations, rebuild TensorFlow with the appropriate compiler flags.\n"
     ]
    }
   ],
   "source": [
    "x_train = tf.cast(df.loc[train_start:train_end,'Rt'].values, dtype=tf.float32)\n",
    "x_test = tf.cast(df.loc[train_start:test_end,'Rt'].values, dtype=tf.float32)\n",
    "\n",
    "y_train = tf.cast(df.loc[train_start:train_end,'general_ward'], dtype=tf.float32)\n",
    "y_test = tf.cast(df.loc[train_start:test_end,'general_ward'], dtype=tf.float32)"
   ]
  },
  {
   "cell_type": "code",
   "execution_count": null,
   "id": "9b36af2b",
   "metadata": {},
   "outputs": [],
   "source": []
  },
  {
   "cell_type": "code",
   "execution_count": 9,
   "id": "a8c90605",
   "metadata": {},
   "outputs": [],
   "source": [
    "\n",
    "T_serial = {}\n",
    "T_serial['prior'] ={'loc':5.8, 'scale':1}\n",
    "\n",
    "\n",
    "epsilon = {}\n",
    "epsilon['prior'] ={'a':1, 'b':1}\n",
    "\n",
    "delta = {}\n",
    "delta['prior'] ={'a':1, 'b':1}\n",
    "\n",
    "rho_M = {}\n",
    "lambda_M = {}\n",
    "nu_M = {}\n",
    "rho_G = {}\n",
    "lambda_G = {}\n",
    "nu_G = {}\n",
    "\n",
    "for vax_status in [status.value for status in vax_statuses]:\n",
    "    \n",
    "    rho_M[vax_status] = {}\n",
    "    rho_M[vax_status]['prior'] = {'a': 31.8, 'b': 10.3}\n",
    "\n",
    "\n",
    "    lambda_M[vax_status] = {}\n",
    "    lambda_M[vax_status]['prior'] = {'loc': 4.7, 'scale': 1}\n",
    "\n",
    "\n",
    "    nu_M[vax_status] = {}\n",
    "    nu_M[vax_status]['prior'] = {'loc': 3.1, 'scale': 1.2}\n",
    "\n",
    "\n",
    "    rho_G[vax_status] = {}\n",
    "    rho_G[vax_status]['prior'] = {'a': 31.8, 'b': 10.3}\n",
    "\n",
    "    lambda_G[vax_status] = {}\n",
    "    lambda_G[vax_status]['prior'] = {'loc': 3.3, 'scale': 1.0}\n",
    "\n",
    "\n",
    "    nu_G[vax_status] = {}\n",
    "    nu_G[vax_status]['prior'] = {'loc': 9.0, 'scale': 0.2}\n",
    "\n",
    "\n"
   ]
  },
  {
   "cell_type": "code",
   "execution_count": 10,
   "id": "1829678d",
   "metadata": {},
   "outputs": [],
   "source": [
    "T_serial_scale = 1.0\n",
    "delta_scale = 0.2\n",
    "epsilon_scale = 0.3\n",
    "rho_M_scale = 0.1\n",
    "lambda_M_scale = 1.0\n",
    "nu_M_scale = 1.2\n",
    "\n",
    "rho_G_scale = 0.1\n",
    "lambda_G_scale = 1.0\n",
    "nu_G_scale = 0.2\n"
   ]
  },
  {
   "cell_type": "code",
   "execution_count": 11,
   "id": "a56b9dbe",
   "metadata": {},
   "outputs": [
    {
     "name": "stderr",
     "output_type": "stream",
     "text": [
      "2022-01-19 12:11:21.561004: I tensorflow/compiler/mlir/mlir_graph_optimization_pass.cc:185] None of the MLIR Optimization Passes are enabled (registered 2)\n"
     ]
    }
   ],
   "source": [
    "T_serial['posterior_init'] = {'loc': tfp.math.softplus_inverse(4.0),\n",
    "                                     'scale':tf.cast(tfp.math.softplus_inverse(T_serial_scale),dtype=tf.float32)}\n",
    "delta['posterior_init'] = {'loc':  tf.cast(np.log(0.1/(1-0.1)),dtype=tf.float32),\n",
    "                                     'scale':tf.cast(tfp.math.softplus_inverse(delta_scale),dtype=tf.float32)}\n",
    "epsilon['posterior_init'] = {'loc':  tf.cast(np.log(0.5/(1-0.5)),dtype=tf.float32),\n",
    "                                     'scale':tf.cast(tfp.math.softplus_inverse(epsilon_scale),dtype=tf.float32)}\n",
    "\n",
    "\n",
    "for vax_status in [status.value for status in vax_statuses]:\n",
    "    \n",
    "    rho_M[vax_status]['posterior_init'] = {'loc': tf.cast(np.log(0.5/(1-0.5)),dtype=tf.float32),\n",
    "                                          'scale':tf.cast(tfp.math.softplus_inverse(rho_M_scale),dtype=tf.float32)}\n",
    "\n",
    "    lambda_M[vax_status]['posterior_init'] = {'loc': tf.cast(tfp.math.softplus_inverse(3.0),dtype=tf.float32),\n",
    "                                             'scale':tf.cast(tfp.math.softplus_inverse(lambda_M_scale),dtype=tf.float32)}\n",
    "\n",
    "    nu_M[vax_status]['posterior_init'] = {'loc': tf.cast(tfp.math.softplus_inverse(5.0),dtype=tf.float32),\n",
    "                                         'scale':tf.cast(tfp.math.softplus_inverse(nu_M_scale),dtype=tf.float32)}\n",
    "\n",
    "    rho_G[vax_status]['posterior_init'] = {'loc': tf.cast(np.log(0.1/(1-0.1)),dtype=tf.float32),\n",
    "                                          'scale':tf.cast(tfp.math.softplus_inverse(rho_G_scale),dtype=tf.float32)}\n",
    "\n",
    "    lambda_G[vax_status]['posterior_init'] = {'loc': tf.cast(tfp.math.softplus_inverse(3.3),dtype=tf.float32),\n",
    "                                             'scale':tf.cast(tfp.math.softplus_inverse(lambda_G_scale),dtype=tf.float32)}\n",
    "\n",
    "    nu_G[vax_status]['posterior_init'] = {'loc': tf.cast(tfp.math.softplus_inverse(9.0),dtype=tf.float32),\n",
    "                                         'scale':tf.cast(tfp.math.softplus_inverse(nu_G_scale),dtype=tf.float32)}\n",
    "\n",
    "    for day in range(transition_window):\n",
    "        # must be positive so reverse softplus the mean\n",
    "        warmup_A_params[vax_status]['posterior_init'].append({'loc': tf.cast(tfp.math.softplus_inverse(2000.0/100/2),dtype=tf.float32),\n",
    "                                                             'scale': tf.cast(tfp.math.softplus_inverse(500.0/100/2),dtype=tf.float32)})#tf.cast(tfp.math.softplus_inverse(warmup_asymp[day]/10),dtype=tf.float32)})\n",
    "\n",
    "        warmup_M_params[vax_status]['posterior_init'].append({'loc': tf.cast(tfp.math.softplus_inverse(1000.0/100/2),dtype=tf.float32),\n",
    "                                                             'scale': tf.cast(tfp.math.softplus_inverse(100.0/100/2),dtype=tf.float32)})#tf.cast(tfp.math.softplus_inverse(warmup_asymp[day]/10),dtype=tf.float32)})\n",
    "\n",
    "model = CovidModel([Vax.no, Vax.yes], [Comp.A, Comp.M, Comp.G],\n",
    "                 transition_window,\n",
    "                T_serial, epsilon, delta, rho_M, lambda_M, nu_M, rho_G, lambda_G, nu_G,\n",
    "                 warmup_A_params, warmup_M_params, posterior_samples=5000, debug_disable_theta=False)\n",
    "\n",
    "pre_training_preds=tf.reduce_mean(model.call(x_train), axis=-1)"
   ]
  },
  {
   "cell_type": "code",
   "execution_count": 12,
   "id": "09ed1fc8",
   "metadata": {},
   "outputs": [
    {
     "name": "stderr",
     "output_type": "stream",
     "text": [
      "2022-01-19 12:11:21.658569: W tensorflow/python/util/util.cc:348] Sets are not currently considered sequences, but this may change in the future, so consider avoiding using them.\n"
     ]
    },
    {
     "data": {
      "text/plain": [
       "[<tf.Variable 'rho_M_loc_0:0' shape=() dtype=float32, numpy=0.0>,\n",
       " <tf.Variable 'rho_M_scale_0:0' shape=() dtype=float32, numpy=-2.2521684>,\n",
       " <tf.Variable 'rho_M_loc_1:0' shape=() dtype=float32, numpy=0.0>,\n",
       " <tf.Variable 'rho_M_scale_1:0' shape=() dtype=float32, numpy=-2.2521684>,\n",
       " <tf.Variable 'lambda_M_loc_0:0' shape=() dtype=float32, numpy=2.9489307>,\n",
       " <tf.Variable 'lambda_M_scale_0:0' shape=() dtype=float32, numpy=0.54132485>,\n",
       " <tf.Variable 'lambda_M_loc_1:0' shape=() dtype=float32, numpy=2.9489307>,\n",
       " <tf.Variable 'lambda_M_scale_1:0' shape=() dtype=float32, numpy=0.54132485>,\n",
       " <tf.Variable 'nu_M_loc_0:0' shape=() dtype=float32, numpy=4.9932394>,\n",
       " <tf.Variable 'nu_M_scale_0:0' shape=() dtype=float32, numpy=0.8416177>,\n",
       " <tf.Variable 'nu_M_loc_1:0' shape=() dtype=float32, numpy=4.9932394>,\n",
       " <tf.Variable 'nu_M_scale_1:0' shape=() dtype=float32, numpy=0.8416177>,\n",
       " <tf.Variable 'rho_G_loc_0:0' shape=() dtype=float32, numpy=-2.1972246>,\n",
       " <tf.Variable 'rho_G_scale_0:0' shape=() dtype=float32, numpy=-2.2521684>,\n",
       " <tf.Variable 'rho_G_loc_1:0' shape=() dtype=float32, numpy=-2.1972246>,\n",
       " <tf.Variable 'rho_G_scale_1:0' shape=() dtype=float32, numpy=-2.2521684>,\n",
       " <tf.Variable 'lambda_G_loc_0:0' shape=() dtype=float32, numpy=3.2624195>,\n",
       " <tf.Variable 'lambda_G_scale_0:0' shape=() dtype=float32, numpy=0.54132485>,\n",
       " <tf.Variable 'lambda_G_loc_1:0' shape=() dtype=float32, numpy=3.2624195>,\n",
       " <tf.Variable 'lambda_G_scale_1:0' shape=() dtype=float32, numpy=0.54132485>,\n",
       " <tf.Variable 'nu_G_loc_0:0' shape=() dtype=float32, numpy=8.999877>,\n",
       " <tf.Variable 'nu_G_scale_0:0' shape=() dtype=float32, numpy=-1.5077717>,\n",
       " <tf.Variable 'nu_G_loc_1:0' shape=() dtype=float32, numpy=8.999877>,\n",
       " <tf.Variable 'nu_G_scale_1:0' shape=() dtype=float32, numpy=-1.5077717>,\n",
       " <tf.Variable 'warmup_A_loc_0_0:0' shape=() dtype=float32, numpy=9.999954>,\n",
       " <tf.Variable 'warmup_A_scale_0_0:0' shape=() dtype=float32, numpy=2.4143496>,\n",
       " <tf.Variable 'warmup_A_loc_1_0:0' shape=() dtype=float32, numpy=9.999954>,\n",
       " <tf.Variable 'warmup_A_scale_1_0:0' shape=() dtype=float32, numpy=2.4143496>,\n",
       " <tf.Variable 'warmup_A_loc_2_0:0' shape=() dtype=float32, numpy=9.999954>,\n",
       " <tf.Variable 'warmup_A_scale_2_0:0' shape=() dtype=float32, numpy=2.4143496>,\n",
       " <tf.Variable 'warmup_A_loc_3_0:0' shape=() dtype=float32, numpy=9.999954>,\n",
       " <tf.Variable 'warmup_A_scale_3_0:0' shape=() dtype=float32, numpy=2.4143496>,\n",
       " <tf.Variable 'warmup_A_loc_4_0:0' shape=() dtype=float32, numpy=9.999954>,\n",
       " <tf.Variable 'warmup_A_scale_4_0:0' shape=() dtype=float32, numpy=2.4143496>,\n",
       " <tf.Variable 'warmup_A_loc_5_0:0' shape=() dtype=float32, numpy=9.999954>,\n",
       " <tf.Variable 'warmup_A_scale_5_0:0' shape=() dtype=float32, numpy=2.4143496>,\n",
       " <tf.Variable 'warmup_A_loc_6_0:0' shape=() dtype=float32, numpy=9.999954>,\n",
       " <tf.Variable 'warmup_A_scale_6_0:0' shape=() dtype=float32, numpy=2.4143496>,\n",
       " <tf.Variable 'warmup_A_loc_7_0:0' shape=() dtype=float32, numpy=9.999954>,\n",
       " <tf.Variable 'warmup_A_scale_7_0:0' shape=() dtype=float32, numpy=2.4143496>,\n",
       " <tf.Variable 'warmup_A_loc_8_0:0' shape=() dtype=float32, numpy=9.999954>,\n",
       " <tf.Variable 'warmup_A_scale_8_0:0' shape=() dtype=float32, numpy=2.4143496>,\n",
       " <tf.Variable 'warmup_A_loc_9_0:0' shape=() dtype=float32, numpy=9.999954>,\n",
       " <tf.Variable 'warmup_A_scale_9_0:0' shape=() dtype=float32, numpy=2.4143496>,\n",
       " <tf.Variable 'warmup_A_loc_0_1:0' shape=() dtype=float32, numpy=9.999954>,\n",
       " <tf.Variable 'warmup_A_scale_0_1:0' shape=() dtype=float32, numpy=2.4143496>,\n",
       " <tf.Variable 'warmup_A_loc_1_1:0' shape=() dtype=float32, numpy=9.999954>,\n",
       " <tf.Variable 'warmup_A_scale_1_1:0' shape=() dtype=float32, numpy=2.4143496>,\n",
       " <tf.Variable 'warmup_A_loc_2_1:0' shape=() dtype=float32, numpy=9.999954>,\n",
       " <tf.Variable 'warmup_A_scale_2_1:0' shape=() dtype=float32, numpy=2.4143496>,\n",
       " <tf.Variable 'warmup_A_loc_3_1:0' shape=() dtype=float32, numpy=9.999954>,\n",
       " <tf.Variable 'warmup_A_scale_3_1:0' shape=() dtype=float32, numpy=2.4143496>,\n",
       " <tf.Variable 'warmup_A_loc_4_1:0' shape=() dtype=float32, numpy=9.999954>,\n",
       " <tf.Variable 'warmup_A_scale_4_1:0' shape=() dtype=float32, numpy=2.4143496>,\n",
       " <tf.Variable 'warmup_A_loc_5_1:0' shape=() dtype=float32, numpy=9.999954>,\n",
       " <tf.Variable 'warmup_A_scale_5_1:0' shape=() dtype=float32, numpy=2.4143496>,\n",
       " <tf.Variable 'warmup_A_loc_6_1:0' shape=() dtype=float32, numpy=9.999954>,\n",
       " <tf.Variable 'warmup_A_scale_6_1:0' shape=() dtype=float32, numpy=2.4143496>,\n",
       " <tf.Variable 'warmup_A_loc_7_1:0' shape=() dtype=float32, numpy=9.999954>,\n",
       " <tf.Variable 'warmup_A_scale_7_1:0' shape=() dtype=float32, numpy=2.4143496>,\n",
       " <tf.Variable 'warmup_A_loc_8_1:0' shape=() dtype=float32, numpy=9.999954>,\n",
       " <tf.Variable 'warmup_A_scale_8_1:0' shape=() dtype=float32, numpy=2.4143496>,\n",
       " <tf.Variable 'warmup_A_loc_9_1:0' shape=() dtype=float32, numpy=9.999954>,\n",
       " <tf.Variable 'warmup_A_scale_9_1:0' shape=() dtype=float32, numpy=2.4143496>,\n",
       " <tf.Variable 'warmup_M_loc_0_0:0' shape=() dtype=float32, numpy=4.9932394>,\n",
       " <tf.Variable 'warmup_M_scale_0_0:0' shape=() dtype=float32, numpy=-0.43275213>,\n",
       " <tf.Variable 'warmup_M_loc_1_0:0' shape=() dtype=float32, numpy=4.9932394>,\n",
       " <tf.Variable 'warmup_M_scale_1_0:0' shape=() dtype=float32, numpy=-0.43275213>,\n",
       " <tf.Variable 'warmup_M_loc_2_0:0' shape=() dtype=float32, numpy=4.9932394>,\n",
       " <tf.Variable 'warmup_M_scale_2_0:0' shape=() dtype=float32, numpy=-0.43275213>,\n",
       " <tf.Variable 'warmup_M_loc_3_0:0' shape=() dtype=float32, numpy=4.9932394>,\n",
       " <tf.Variable 'warmup_M_scale_3_0:0' shape=() dtype=float32, numpy=-0.43275213>,\n",
       " <tf.Variable 'warmup_M_loc_4_0:0' shape=() dtype=float32, numpy=4.9932394>,\n",
       " <tf.Variable 'warmup_M_scale_4_0:0' shape=() dtype=float32, numpy=-0.43275213>,\n",
       " <tf.Variable 'warmup_M_loc_5_0:0' shape=() dtype=float32, numpy=4.9932394>,\n",
       " <tf.Variable 'warmup_M_scale_5_0:0' shape=() dtype=float32, numpy=-0.43275213>,\n",
       " <tf.Variable 'warmup_M_loc_6_0:0' shape=() dtype=float32, numpy=4.9932394>,\n",
       " <tf.Variable 'warmup_M_scale_6_0:0' shape=() dtype=float32, numpy=-0.43275213>,\n",
       " <tf.Variable 'warmup_M_loc_7_0:0' shape=() dtype=float32, numpy=4.9932394>,\n",
       " <tf.Variable 'warmup_M_scale_7_0:0' shape=() dtype=float32, numpy=-0.43275213>,\n",
       " <tf.Variable 'warmup_M_loc_8_0:0' shape=() dtype=float32, numpy=4.9932394>,\n",
       " <tf.Variable 'warmup_M_scale_8_0:0' shape=() dtype=float32, numpy=-0.43275213>,\n",
       " <tf.Variable 'warmup_M_loc_9_0:0' shape=() dtype=float32, numpy=4.9932394>,\n",
       " <tf.Variable 'warmup_M_scale_9_0:0' shape=() dtype=float32, numpy=-0.43275213>,\n",
       " <tf.Variable 'warmup_M_loc_0_1:0' shape=() dtype=float32, numpy=4.9932394>,\n",
       " <tf.Variable 'warmup_M_scale_0_1:0' shape=() dtype=float32, numpy=-0.43275213>,\n",
       " <tf.Variable 'warmup_M_loc_1_1:0' shape=() dtype=float32, numpy=4.9932394>,\n",
       " <tf.Variable 'warmup_M_scale_1_1:0' shape=() dtype=float32, numpy=-0.43275213>,\n",
       " <tf.Variable 'warmup_M_loc_2_1:0' shape=() dtype=float32, numpy=4.9932394>,\n",
       " <tf.Variable 'warmup_M_scale_2_1:0' shape=() dtype=float32, numpy=-0.43275213>,\n",
       " <tf.Variable 'warmup_M_loc_3_1:0' shape=() dtype=float32, numpy=4.9932394>,\n",
       " <tf.Variable 'warmup_M_scale_3_1:0' shape=() dtype=float32, numpy=-0.43275213>,\n",
       " <tf.Variable 'warmup_M_loc_4_1:0' shape=() dtype=float32, numpy=4.9932394>,\n",
       " <tf.Variable 'warmup_M_scale_4_1:0' shape=() dtype=float32, numpy=-0.43275213>,\n",
       " <tf.Variable 'warmup_M_loc_5_1:0' shape=() dtype=float32, numpy=4.9932394>,\n",
       " <tf.Variable 'warmup_M_scale_5_1:0' shape=() dtype=float32, numpy=-0.43275213>,\n",
       " <tf.Variable 'warmup_M_loc_6_1:0' shape=() dtype=float32, numpy=4.9932394>,\n",
       " <tf.Variable 'warmup_M_scale_6_1:0' shape=() dtype=float32, numpy=-0.43275213>,\n",
       " <tf.Variable 'warmup_M_loc_7_1:0' shape=() dtype=float32, numpy=4.9932394>,\n",
       " <tf.Variable 'warmup_M_scale_7_1:0' shape=() dtype=float32, numpy=-0.43275213>,\n",
       " <tf.Variable 'warmup_M_loc_8_1:0' shape=() dtype=float32, numpy=4.9932394>,\n",
       " <tf.Variable 'warmup_M_scale_8_1:0' shape=() dtype=float32, numpy=-0.43275213>,\n",
       " <tf.Variable 'warmup_M_loc_9_1:0' shape=() dtype=float32, numpy=4.9932394>,\n",
       " <tf.Variable 'warmup_M_scale_9_1:0' shape=() dtype=float32, numpy=-0.43275213>,\n",
       " <tf.Variable 'T_serial_A_loc:0' shape=() dtype=float32, numpy=3.9815147>,\n",
       " <tf.Variable 'T_serial_A_scale:0' shape=() dtype=float32, numpy=0.54132485>,\n",
       " <tf.Variable 'epsilon_A_loc:0' shape=() dtype=float32, numpy=0.0>,\n",
       " <tf.Variable 'epsilon_A_scale:0' shape=() dtype=float32, numpy=-1.0502255>,\n",
       " <tf.Variable 'delta_A_loc:0' shape=() dtype=float32, numpy=-2.1972246>,\n",
       " <tf.Variable 'delta_A_scale:0' shape=() dtype=float32, numpy=-1.5077717>]"
      ]
     },
     "execution_count": 12,
     "metadata": {},
     "output_type": "execute_result"
    }
   ],
   "source": [
    "model.variables"
   ]
  },
  {
   "cell_type": "code",
   "execution_count": 13,
   "id": "87a9c09d",
   "metadata": {},
   "outputs": [],
   "source": [
    "loss = LogPoissonProb() \n",
    "optimizer = tf.keras.optimizers.Adam(\n",
    "    learning_rate=learning_rate #beta_1=0.1, beta_2=0.1\n",
    ")"
   ]
  },
  {
   "cell_type": "code",
   "execution_count": 14,
   "id": "423d66f9",
   "metadata": {},
   "outputs": [
    {
     "name": "stderr",
     "output_type": "stream",
     "text": [
      "2022-01-19 12:11:21.748925: I tensorflow/core/profiler/lib/profiler_session.cc:131] Profiler session initializing.\n",
      "2022-01-19 12:11:21.748964: I tensorflow/core/profiler/lib/profiler_session.cc:146] Profiler session started.\n",
      "2022-01-19 12:11:21.749031: I tensorflow/core/profiler/internal/gpu/cupti_tracer.cc:1614] Profiler found 1 GPUs\n",
      "2022-01-19 12:11:21.749379: W tensorflow/stream_executor/platform/default/dso_loader.cc:64] Could not load dynamic library 'libcupti.so.11.2'; dlerror: libcupti.so.11.2: cannot open shared object file: No such file or directory\n",
      "2022-01-19 12:11:21.749730: W tensorflow/stream_executor/platform/default/dso_loader.cc:64] Could not load dynamic library 'libcupti.so'; dlerror: libcupti.so: cannot open shared object file: No such file or directory\n",
      "2022-01-19 12:11:21.749763: E tensorflow/core/profiler/internal/gpu/cupti_tracer.cc:1666] function cupti_interface_->Subscribe( &subscriber_, (CUpti_CallbackFunc)ApiCallback, this)failed with error CUPTI could not be loaded or symbol could not be found.\n",
      "2022-01-19 12:11:21.749811: I tensorflow/core/profiler/lib/profiler_session.cc:164] Profiler session tear down.\n",
      "2022-01-19 12:11:21.749830: E tensorflow/core/profiler/internal/gpu/cupti_tracer.cc:1757] function cupti_interface_->Finalize()failed with error CUPTI could not be loaded or symbol could not be found.\n"
     ]
    }
   ],
   "source": [
    "logging_callbacks = get_logging_callbacks('/mnt/c/Users/kheut/logs/covid/scale_nicely')"
   ]
  },
  {
   "cell_type": "code",
   "execution_count": 15,
   "id": "d1c8368b",
   "metadata": {
    "scrolled": false
   },
   "outputs": [
    {
     "name": "stdout",
     "output_type": "stream",
     "text": [
      "Epoch 1/2000\n",
      "1/1 [==============================] - 64s 64s/step - loss: 24247850.0000\n",
      "Epoch 2/2000\n"
     ]
    },
    {
     "name": "stderr",
     "output_type": "stream",
     "text": [
      "2022-01-19 12:12:26.323660: I tensorflow/core/profiler/lib/profiler_session.cc:131] Profiler session initializing.\n",
      "2022-01-19 12:12:26.323702: I tensorflow/core/profiler/lib/profiler_session.cc:146] Profiler session started.\n",
      "2022-01-19 12:12:26.323970: E tensorflow/core/profiler/internal/gpu/cupti_tracer.cc:1666] function cupti_interface_->Subscribe( &subscriber_, (CUpti_CallbackFunc)ApiCallback, this)failed with error CUPTI could not be loaded or symbol could not be found.\n"
     ]
    },
    {
     "name": "stdout",
     "output_type": "stream",
     "text": [
      "\r",
      "1/1 [==============================] - ETA: 0s - loss: 2051740.6250"
     ]
    },
    {
     "name": "stderr",
     "output_type": "stream",
     "text": [
      "2022-01-19 12:13:41.339180: I tensorflow/core/profiler/lib/profiler_session.cc:66] Profiler session collecting data.\n",
      "2022-01-19 12:13:41.671173: E tensorflow/core/profiler/internal/gpu/cupti_tracer.cc:1757] function cupti_interface_->Finalize()failed with error CUPTI could not be loaded or symbol could not be found.\n",
      "2022-01-19 12:13:47.040678: I tensorflow/core/profiler/internal/gpu/cupti_collector.cc:673]  GpuTracer has collected 0 callback api events and 0 activity events. \n",
      "2022-01-19 12:14:01.256092: I tensorflow/core/profiler/lib/profiler_session.cc:164] Profiler session tear down.\n",
      "2022-01-19 12:14:15.808707: I tensorflow/core/profiler/rpc/client/save_profile.cc:136] Creating directory: /mnt/c/Users/kheut/logs/covid/scale_nicely/train/plugins/profile/2022_01_19_12_14_01\n",
      "\n",
      "2022-01-19 12:14:16.912932: I tensorflow/core/profiler/rpc/client/save_profile.cc:142] Dumped gzipped tool data for trace.json.gz to /mnt/c/Users/kheut/logs/covid/scale_nicely/train/plugins/profile/2022_01_19_12_14_01/MrChipsNVME.trace.json.gz\n",
      "2022-01-19 12:14:22.344599: I tensorflow/core/profiler/rpc/client/save_profile.cc:136] Creating directory: /mnt/c/Users/kheut/logs/covid/scale_nicely/train/plugins/profile/2022_01_19_12_14_01\n",
      "\n",
      "2022-01-19 12:14:22.346530: I tensorflow/core/profiler/rpc/client/save_profile.cc:142] Dumped gzipped tool data for memory_profile.json.gz to /mnt/c/Users/kheut/logs/covid/scale_nicely/train/plugins/profile/2022_01_19_12_14_01/MrChipsNVME.memory_profile.json.gz\n",
      "2022-01-19 12:14:22.555810: I tensorflow/core/profiler/rpc/client/capture_profile.cc:251] Creating directory: /mnt/c/Users/kheut/logs/covid/scale_nicely/train/plugins/profile/2022_01_19_12_14_01\n",
      "Dumped tool data for xplane.pb to /mnt/c/Users/kheut/logs/covid/scale_nicely/train/plugins/profile/2022_01_19_12_14_01/MrChipsNVME.xplane.pb\n",
      "Dumped tool data for overview_page.pb to /mnt/c/Users/kheut/logs/covid/scale_nicely/train/plugins/profile/2022_01_19_12_14_01/MrChipsNVME.overview_page.pb\n",
      "Dumped tool data for input_pipeline.pb to /mnt/c/Users/kheut/logs/covid/scale_nicely/train/plugins/profile/2022_01_19_12_14_01/MrChipsNVME.input_pipeline.pb\n",
      "Dumped tool data for tensorflow_stats.pb to /mnt/c/Users/kheut/logs/covid/scale_nicely/train/plugins/profile/2022_01_19_12_14_01/MrChipsNVME.tensorflow_stats.pb\n",
      "Dumped tool data for kernel_stats.pb to /mnt/c/Users/kheut/logs/covid/scale_nicely/train/plugins/profile/2022_01_19_12_14_01/MrChipsNVME.kernel_stats.pb\n",
      "\n"
     ]
    },
    {
     "name": "stdout",
     "output_type": "stream",
     "text": [
      "1/1 [==============================] - 119s 119s/step - loss: 2051740.6250\n",
      "Epoch 3/2000\n",
      "1/1 [==============================] - 63s 63s/step - loss: 702359.2500\n",
      "Epoch 4/2000\n",
      "1/1 [==============================] - 66s 66s/step - loss: 244388.8281\n",
      "Epoch 5/2000\n",
      "1/1 [==============================] - 64s 64s/step - loss: 132200.8438\n",
      "Epoch 6/2000\n",
      "1/1 [==============================] - 64s 64s/step - loss: 71736.4531\n",
      "Epoch 7/2000\n",
      "1/1 [==============================] - 66s 66s/step - loss: 47534.3398\n",
      "Epoch 8/2000\n",
      "1/1 [==============================] - 69s 69s/step - loss: 33590.1094\n",
      "Epoch 9/2000\n",
      "1/1 [==============================] - 64s 64s/step - loss: 25353.4258\n",
      "Epoch 10/2000\n",
      "1/1 [==============================] - 67s 67s/step - loss: 18078.5312\n",
      "Epoch 11/2000\n",
      "1/1 [==============================] - 64s 64s/step - loss: 15075.6191\n",
      "Epoch 12/2000\n",
      "1/1 [==============================] - 64s 64s/step - loss: 11886.9150\n",
      "Epoch 13/2000\n",
      "1/1 [==============================] - 62s 62s/step - loss: 10295.8779\n",
      "Epoch 14/2000\n",
      "1/1 [==============================] - 64s 64s/step - loss: 8295.7041\n",
      "Epoch 15/2000\n",
      "1/1 [==============================] - 63s 63s/step - loss: 7204.9492\n",
      "Epoch 16/2000\n",
      "1/1 [==============================] - 62s 62s/step - loss: nan\n",
      "Epoch 17/2000\n",
      "1/1 [==============================] - 62s 62s/step - loss: nan\n",
      "Epoch 18/2000\n",
      "1/1 [==============================] - 62s 62s/step - loss: nan\n",
      "Epoch 19/2000\n",
      "1/1 [==============================] - 63s 63s/step - loss: nan\n",
      "Epoch 20/2000\n",
      "1/1 [==============================] - 63s 63s/step - loss: nan\n",
      "Epoch 21/2000\n",
      "1/1 [==============================] - 62s 62s/step - loss: nan\n",
      "Epoch 22/2000\n",
      "1/1 [==============================] - 63s 63s/step - loss: nan\n",
      "Epoch 23/2000\n"
     ]
    },
    {
     "ename": "KeyboardInterrupt",
     "evalue": "",
     "output_type": "error",
     "traceback": [
      "\u001b[0;31m---------------------------------------------------------------------------\u001b[0m",
      "\u001b[0;31mKeyboardInterrupt\u001b[0m                         Traceback (most recent call last)",
      "\u001b[0;32m/tmp/ipykernel_4598/1466352897.py\u001b[0m in \u001b[0;36m<module>\u001b[0;34m\u001b[0m\n\u001b[1;32m      2\u001b[0m model.fit(x=np.asarray([x_train]), y=np.asarray([y_train]),\n\u001b[1;32m      3\u001b[0m          \u001b[0mepochs\u001b[0m\u001b[0;34m=\u001b[0m\u001b[0;36m2000\u001b[0m\u001b[0;34m,\u001b[0m \u001b[0mbatch_size\u001b[0m\u001b[0;34m=\u001b[0m\u001b[0;36m0\u001b[0m\u001b[0;34m,\u001b[0m\u001b[0;34m\u001b[0m\u001b[0;34m\u001b[0m\u001b[0m\n\u001b[0;32m----> 4\u001b[0;31m         callbacks=logging_callbacks)\n\u001b[0m",
      "\u001b[0;32m~/anaconda3/envs/covid_vax_model/lib/python3.7/site-packages/keras/engine/training.py\u001b[0m in \u001b[0;36mfit\u001b[0;34m(self, x, y, batch_size, epochs, verbose, callbacks, validation_split, validation_data, shuffle, class_weight, sample_weight, initial_epoch, steps_per_epoch, validation_steps, validation_batch_size, validation_freq, max_queue_size, workers, use_multiprocessing)\u001b[0m\n\u001b[1;32m   1182\u001b[0m                 _r=1):\n\u001b[1;32m   1183\u001b[0m               \u001b[0mcallbacks\u001b[0m\u001b[0;34m.\u001b[0m\u001b[0mon_train_batch_begin\u001b[0m\u001b[0;34m(\u001b[0m\u001b[0mstep\u001b[0m\u001b[0;34m)\u001b[0m\u001b[0;34m\u001b[0m\u001b[0;34m\u001b[0m\u001b[0m\n\u001b[0;32m-> 1184\u001b[0;31m               \u001b[0mtmp_logs\u001b[0m \u001b[0;34m=\u001b[0m \u001b[0mself\u001b[0m\u001b[0;34m.\u001b[0m\u001b[0mtrain_function\u001b[0m\u001b[0;34m(\u001b[0m\u001b[0miterator\u001b[0m\u001b[0;34m)\u001b[0m\u001b[0;34m\u001b[0m\u001b[0;34m\u001b[0m\u001b[0m\n\u001b[0m\u001b[1;32m   1185\u001b[0m               \u001b[0;32mif\u001b[0m \u001b[0mdata_handler\u001b[0m\u001b[0;34m.\u001b[0m\u001b[0mshould_sync\u001b[0m\u001b[0;34m:\u001b[0m\u001b[0;34m\u001b[0m\u001b[0;34m\u001b[0m\u001b[0m\n\u001b[1;32m   1186\u001b[0m                 \u001b[0mcontext\u001b[0m\u001b[0;34m.\u001b[0m\u001b[0masync_wait\u001b[0m\u001b[0;34m(\u001b[0m\u001b[0;34m)\u001b[0m\u001b[0;34m\u001b[0m\u001b[0;34m\u001b[0m\u001b[0m\n",
      "\u001b[0;32m~/anaconda3/envs/covid_vax_model/lib/python3.7/site-packages/keras/engine/training.py\u001b[0m in \u001b[0;36mtrain_function\u001b[0;34m(iterator)\u001b[0m\n\u001b[1;32m    851\u001b[0m       \u001b[0;32mdef\u001b[0m \u001b[0mtrain_function\u001b[0m\u001b[0;34m(\u001b[0m\u001b[0miterator\u001b[0m\u001b[0;34m)\u001b[0m\u001b[0;34m:\u001b[0m\u001b[0;34m\u001b[0m\u001b[0;34m\u001b[0m\u001b[0m\n\u001b[1;32m    852\u001b[0m         \u001b[0;34m\"\"\"Runs a training execution with one step.\"\"\"\u001b[0m\u001b[0;34m\u001b[0m\u001b[0;34m\u001b[0m\u001b[0m\n\u001b[0;32m--> 853\u001b[0;31m         \u001b[0;32mreturn\u001b[0m \u001b[0mstep_function\u001b[0m\u001b[0;34m(\u001b[0m\u001b[0mself\u001b[0m\u001b[0;34m,\u001b[0m \u001b[0miterator\u001b[0m\u001b[0;34m)\u001b[0m\u001b[0;34m\u001b[0m\u001b[0;34m\u001b[0m\u001b[0m\n\u001b[0m\u001b[1;32m    854\u001b[0m \u001b[0;34m\u001b[0m\u001b[0m\n\u001b[1;32m    855\u001b[0m     \u001b[0;32melse\u001b[0m\u001b[0;34m:\u001b[0m\u001b[0;34m\u001b[0m\u001b[0;34m\u001b[0m\u001b[0m\n",
      "\u001b[0;32m~/anaconda3/envs/covid_vax_model/lib/python3.7/site-packages/keras/engine/training.py\u001b[0m in \u001b[0;36mstep_function\u001b[0;34m(model, iterator)\u001b[0m\n\u001b[1;32m    840\u001b[0m \u001b[0;34m\u001b[0m\u001b[0m\n\u001b[1;32m    841\u001b[0m       \u001b[0mdata\u001b[0m \u001b[0;34m=\u001b[0m \u001b[0mnext\u001b[0m\u001b[0;34m(\u001b[0m\u001b[0miterator\u001b[0m\u001b[0;34m)\u001b[0m\u001b[0;34m\u001b[0m\u001b[0;34m\u001b[0m\u001b[0m\n\u001b[0;32m--> 842\u001b[0;31m       \u001b[0moutputs\u001b[0m \u001b[0;34m=\u001b[0m \u001b[0mmodel\u001b[0m\u001b[0;34m.\u001b[0m\u001b[0mdistribute_strategy\u001b[0m\u001b[0;34m.\u001b[0m\u001b[0mrun\u001b[0m\u001b[0;34m(\u001b[0m\u001b[0mrun_step\u001b[0m\u001b[0;34m,\u001b[0m \u001b[0margs\u001b[0m\u001b[0;34m=\u001b[0m\u001b[0;34m(\u001b[0m\u001b[0mdata\u001b[0m\u001b[0;34m,\u001b[0m\u001b[0;34m)\u001b[0m\u001b[0;34m)\u001b[0m\u001b[0;34m\u001b[0m\u001b[0;34m\u001b[0m\u001b[0m\n\u001b[0m\u001b[1;32m    843\u001b[0m       outputs = reduce_per_replica(\n\u001b[1;32m    844\u001b[0m           outputs, self.distribute_strategy, reduction='first')\n",
      "\u001b[0;32m~/anaconda3/envs/covid_vax_model/lib/python3.7/site-packages/tensorflow/python/distribute/distribute_lib.py\u001b[0m in \u001b[0;36mrun\u001b[0;34m(***failed resolving arguments***)\u001b[0m\n\u001b[1;32m   1284\u001b[0m       fn = autograph.tf_convert(\n\u001b[1;32m   1285\u001b[0m           fn, autograph_ctx.control_status_ctx(), convert_by_default=False)\n\u001b[0;32m-> 1286\u001b[0;31m       \u001b[0;32mreturn\u001b[0m \u001b[0mself\u001b[0m\u001b[0;34m.\u001b[0m\u001b[0m_extended\u001b[0m\u001b[0;34m.\u001b[0m\u001b[0mcall_for_each_replica\u001b[0m\u001b[0;34m(\u001b[0m\u001b[0mfn\u001b[0m\u001b[0;34m,\u001b[0m \u001b[0margs\u001b[0m\u001b[0;34m=\u001b[0m\u001b[0margs\u001b[0m\u001b[0;34m,\u001b[0m \u001b[0mkwargs\u001b[0m\u001b[0;34m=\u001b[0m\u001b[0mkwargs\u001b[0m\u001b[0;34m)\u001b[0m\u001b[0;34m\u001b[0m\u001b[0;34m\u001b[0m\u001b[0m\n\u001b[0m\u001b[1;32m   1287\u001b[0m \u001b[0;34m\u001b[0m\u001b[0m\n\u001b[1;32m   1288\u001b[0m   \u001b[0;32mdef\u001b[0m \u001b[0mreduce\u001b[0m\u001b[0;34m(\u001b[0m\u001b[0mself\u001b[0m\u001b[0;34m,\u001b[0m \u001b[0mreduce_op\u001b[0m\u001b[0;34m,\u001b[0m \u001b[0mvalue\u001b[0m\u001b[0;34m,\u001b[0m \u001b[0maxis\u001b[0m\u001b[0;34m)\u001b[0m\u001b[0;34m:\u001b[0m\u001b[0;34m\u001b[0m\u001b[0;34m\u001b[0m\u001b[0m\n",
      "\u001b[0;32m~/anaconda3/envs/covid_vax_model/lib/python3.7/site-packages/tensorflow/python/distribute/distribute_lib.py\u001b[0m in \u001b[0;36mcall_for_each_replica\u001b[0;34m(self, fn, args, kwargs)\u001b[0m\n\u001b[1;32m   2847\u001b[0m       \u001b[0mkwargs\u001b[0m \u001b[0;34m=\u001b[0m \u001b[0;34m{\u001b[0m\u001b[0;34m}\u001b[0m\u001b[0;34m\u001b[0m\u001b[0;34m\u001b[0m\u001b[0m\n\u001b[1;32m   2848\u001b[0m     \u001b[0;32mwith\u001b[0m \u001b[0mself\u001b[0m\u001b[0;34m.\u001b[0m\u001b[0m_container_strategy\u001b[0m\u001b[0;34m(\u001b[0m\u001b[0;34m)\u001b[0m\u001b[0;34m.\u001b[0m\u001b[0mscope\u001b[0m\u001b[0;34m(\u001b[0m\u001b[0;34m)\u001b[0m\u001b[0;34m:\u001b[0m\u001b[0;34m\u001b[0m\u001b[0;34m\u001b[0m\u001b[0m\n\u001b[0;32m-> 2849\u001b[0;31m       \u001b[0;32mreturn\u001b[0m \u001b[0mself\u001b[0m\u001b[0;34m.\u001b[0m\u001b[0m_call_for_each_replica\u001b[0m\u001b[0;34m(\u001b[0m\u001b[0mfn\u001b[0m\u001b[0;34m,\u001b[0m \u001b[0margs\u001b[0m\u001b[0;34m,\u001b[0m \u001b[0mkwargs\u001b[0m\u001b[0;34m)\u001b[0m\u001b[0;34m\u001b[0m\u001b[0;34m\u001b[0m\u001b[0m\n\u001b[0m\u001b[1;32m   2850\u001b[0m \u001b[0;34m\u001b[0m\u001b[0m\n\u001b[1;32m   2851\u001b[0m   \u001b[0;32mdef\u001b[0m \u001b[0m_call_for_each_replica\u001b[0m\u001b[0;34m(\u001b[0m\u001b[0mself\u001b[0m\u001b[0;34m,\u001b[0m \u001b[0mfn\u001b[0m\u001b[0;34m,\u001b[0m \u001b[0margs\u001b[0m\u001b[0;34m,\u001b[0m \u001b[0mkwargs\u001b[0m\u001b[0;34m)\u001b[0m\u001b[0;34m:\u001b[0m\u001b[0;34m\u001b[0m\u001b[0;34m\u001b[0m\u001b[0m\n",
      "\u001b[0;32m~/anaconda3/envs/covid_vax_model/lib/python3.7/site-packages/tensorflow/python/distribute/distribute_lib.py\u001b[0m in \u001b[0;36m_call_for_each_replica\u001b[0;34m(self, fn, args, kwargs)\u001b[0m\n\u001b[1;32m   3630\u001b[0m   \u001b[0;32mdef\u001b[0m \u001b[0m_call_for_each_replica\u001b[0m\u001b[0;34m(\u001b[0m\u001b[0mself\u001b[0m\u001b[0;34m,\u001b[0m \u001b[0mfn\u001b[0m\u001b[0;34m,\u001b[0m \u001b[0margs\u001b[0m\u001b[0;34m,\u001b[0m \u001b[0mkwargs\u001b[0m\u001b[0;34m)\u001b[0m\u001b[0;34m:\u001b[0m\u001b[0;34m\u001b[0m\u001b[0;34m\u001b[0m\u001b[0m\n\u001b[1;32m   3631\u001b[0m     \u001b[0;32mwith\u001b[0m \u001b[0mReplicaContext\u001b[0m\u001b[0;34m(\u001b[0m\u001b[0mself\u001b[0m\u001b[0;34m.\u001b[0m\u001b[0m_container_strategy\u001b[0m\u001b[0;34m(\u001b[0m\u001b[0;34m)\u001b[0m\u001b[0;34m,\u001b[0m \u001b[0mreplica_id_in_sync_group\u001b[0m\u001b[0;34m=\u001b[0m\u001b[0;36m0\u001b[0m\u001b[0;34m)\u001b[0m\u001b[0;34m:\u001b[0m\u001b[0;34m\u001b[0m\u001b[0;34m\u001b[0m\u001b[0m\n\u001b[0;32m-> 3632\u001b[0;31m       \u001b[0;32mreturn\u001b[0m \u001b[0mfn\u001b[0m\u001b[0;34m(\u001b[0m\u001b[0;34m*\u001b[0m\u001b[0margs\u001b[0m\u001b[0;34m,\u001b[0m \u001b[0;34m**\u001b[0m\u001b[0mkwargs\u001b[0m\u001b[0;34m)\u001b[0m\u001b[0;34m\u001b[0m\u001b[0;34m\u001b[0m\u001b[0m\n\u001b[0m\u001b[1;32m   3633\u001b[0m \u001b[0;34m\u001b[0m\u001b[0m\n\u001b[1;32m   3634\u001b[0m   \u001b[0;32mdef\u001b[0m \u001b[0m_reduce_to\u001b[0m\u001b[0;34m(\u001b[0m\u001b[0mself\u001b[0m\u001b[0;34m,\u001b[0m \u001b[0mreduce_op\u001b[0m\u001b[0;34m,\u001b[0m \u001b[0mvalue\u001b[0m\u001b[0;34m,\u001b[0m \u001b[0mdestinations\u001b[0m\u001b[0;34m,\u001b[0m \u001b[0moptions\u001b[0m\u001b[0;34m)\u001b[0m\u001b[0;34m:\u001b[0m\u001b[0;34m\u001b[0m\u001b[0;34m\u001b[0m\u001b[0m\n",
      "\u001b[0;32m~/anaconda3/envs/covid_vax_model/lib/python3.7/site-packages/tensorflow/python/autograph/impl/api.py\u001b[0m in \u001b[0;36mwrapper\u001b[0;34m(*args, **kwargs)\u001b[0m\n\u001b[1;32m    595\u001b[0m   \u001b[0;32mdef\u001b[0m \u001b[0mwrapper\u001b[0m\u001b[0;34m(\u001b[0m\u001b[0;34m*\u001b[0m\u001b[0margs\u001b[0m\u001b[0;34m,\u001b[0m \u001b[0;34m**\u001b[0m\u001b[0mkwargs\u001b[0m\u001b[0;34m)\u001b[0m\u001b[0;34m:\u001b[0m\u001b[0;34m\u001b[0m\u001b[0;34m\u001b[0m\u001b[0m\n\u001b[1;32m    596\u001b[0m     \u001b[0;32mwith\u001b[0m \u001b[0mag_ctx\u001b[0m\u001b[0;34m.\u001b[0m\u001b[0mControlStatusCtx\u001b[0m\u001b[0;34m(\u001b[0m\u001b[0mstatus\u001b[0m\u001b[0;34m=\u001b[0m\u001b[0mag_ctx\u001b[0m\u001b[0;34m.\u001b[0m\u001b[0mStatus\u001b[0m\u001b[0;34m.\u001b[0m\u001b[0mUNSPECIFIED\u001b[0m\u001b[0;34m)\u001b[0m\u001b[0;34m:\u001b[0m\u001b[0;34m\u001b[0m\u001b[0;34m\u001b[0m\u001b[0m\n\u001b[0;32m--> 597\u001b[0;31m       \u001b[0;32mreturn\u001b[0m \u001b[0mfunc\u001b[0m\u001b[0;34m(\u001b[0m\u001b[0;34m*\u001b[0m\u001b[0margs\u001b[0m\u001b[0;34m,\u001b[0m \u001b[0;34m**\u001b[0m\u001b[0mkwargs\u001b[0m\u001b[0;34m)\u001b[0m\u001b[0;34m\u001b[0m\u001b[0;34m\u001b[0m\u001b[0m\n\u001b[0m\u001b[1;32m    598\u001b[0m \u001b[0;34m\u001b[0m\u001b[0m\n\u001b[1;32m    599\u001b[0m   \u001b[0;32mif\u001b[0m \u001b[0minspect\u001b[0m\u001b[0;34m.\u001b[0m\u001b[0misfunction\u001b[0m\u001b[0;34m(\u001b[0m\u001b[0mfunc\u001b[0m\u001b[0;34m)\u001b[0m \u001b[0;32mor\u001b[0m \u001b[0minspect\u001b[0m\u001b[0;34m.\u001b[0m\u001b[0mismethod\u001b[0m\u001b[0;34m(\u001b[0m\u001b[0mfunc\u001b[0m\u001b[0;34m)\u001b[0m\u001b[0;34m:\u001b[0m\u001b[0;34m\u001b[0m\u001b[0;34m\u001b[0m\u001b[0m\n",
      "\u001b[0;32m~/anaconda3/envs/covid_vax_model/lib/python3.7/site-packages/keras/engine/training.py\u001b[0m in \u001b[0;36mrun_step\u001b[0;34m(data)\u001b[0m\n\u001b[1;32m    833\u001b[0m \u001b[0;34m\u001b[0m\u001b[0m\n\u001b[1;32m    834\u001b[0m       \u001b[0;32mdef\u001b[0m \u001b[0mrun_step\u001b[0m\u001b[0;34m(\u001b[0m\u001b[0mdata\u001b[0m\u001b[0;34m)\u001b[0m\u001b[0;34m:\u001b[0m\u001b[0;34m\u001b[0m\u001b[0;34m\u001b[0m\u001b[0m\n\u001b[0;32m--> 835\u001b[0;31m         \u001b[0moutputs\u001b[0m \u001b[0;34m=\u001b[0m \u001b[0mmodel\u001b[0m\u001b[0;34m.\u001b[0m\u001b[0mtrain_step\u001b[0m\u001b[0;34m(\u001b[0m\u001b[0mdata\u001b[0m\u001b[0;34m)\u001b[0m\u001b[0;34m\u001b[0m\u001b[0;34m\u001b[0m\u001b[0m\n\u001b[0m\u001b[1;32m    836\u001b[0m         \u001b[0;31m# Ensure counter is updated only if `train_step` succeeds.\u001b[0m\u001b[0;34m\u001b[0m\u001b[0;34m\u001b[0m\u001b[0;34m\u001b[0m\u001b[0m\n\u001b[1;32m    837\u001b[0m         \u001b[0;32mwith\u001b[0m \u001b[0mtf\u001b[0m\u001b[0;34m.\u001b[0m\u001b[0mcontrol_dependencies\u001b[0m\u001b[0;34m(\u001b[0m\u001b[0m_minimum_control_deps\u001b[0m\u001b[0;34m(\u001b[0m\u001b[0moutputs\u001b[0m\u001b[0;34m)\u001b[0m\u001b[0;34m)\u001b[0m\u001b[0;34m:\u001b[0m\u001b[0;34m\u001b[0m\u001b[0;34m\u001b[0m\u001b[0m\n",
      "\u001b[0;32m~/anaconda3/envs/covid_vax_model/lib/python3.7/site-packages/keras/engine/training.py\u001b[0m in \u001b[0;36mtrain_step\u001b[0;34m(self, data)\u001b[0m\n\u001b[1;32m    785\u001b[0m     \u001b[0;31m# Run forward pass.\u001b[0m\u001b[0;34m\u001b[0m\u001b[0;34m\u001b[0m\u001b[0;34m\u001b[0m\u001b[0m\n\u001b[1;32m    786\u001b[0m     \u001b[0;32mwith\u001b[0m \u001b[0mtf\u001b[0m\u001b[0;34m.\u001b[0m\u001b[0mGradientTape\u001b[0m\u001b[0;34m(\u001b[0m\u001b[0;34m)\u001b[0m \u001b[0;32mas\u001b[0m \u001b[0mtape\u001b[0m\u001b[0;34m:\u001b[0m\u001b[0;34m\u001b[0m\u001b[0;34m\u001b[0m\u001b[0m\n\u001b[0;32m--> 787\u001b[0;31m       \u001b[0my_pred\u001b[0m \u001b[0;34m=\u001b[0m \u001b[0mself\u001b[0m\u001b[0;34m(\u001b[0m\u001b[0mx\u001b[0m\u001b[0;34m,\u001b[0m \u001b[0mtraining\u001b[0m\u001b[0;34m=\u001b[0m\u001b[0;32mTrue\u001b[0m\u001b[0;34m)\u001b[0m\u001b[0;34m\u001b[0m\u001b[0;34m\u001b[0m\u001b[0m\n\u001b[0m\u001b[1;32m    788\u001b[0m       loss = self.compiled_loss(\n\u001b[1;32m    789\u001b[0m           y, y_pred, sample_weight, regularization_losses=self.losses)\n",
      "\u001b[0;32m~/anaconda3/envs/covid_vax_model/lib/python3.7/site-packages/keras/engine/base_layer.py\u001b[0m in \u001b[0;36m__call__\u001b[0;34m(self, *args, **kwargs)\u001b[0m\n\u001b[1;32m   1035\u001b[0m         with autocast_variable.enable_auto_cast_variables(\n\u001b[1;32m   1036\u001b[0m             self._compute_dtype_object):\n\u001b[0;32m-> 1037\u001b[0;31m           \u001b[0moutputs\u001b[0m \u001b[0;34m=\u001b[0m \u001b[0mcall_fn\u001b[0m\u001b[0;34m(\u001b[0m\u001b[0minputs\u001b[0m\u001b[0;34m,\u001b[0m \u001b[0;34m*\u001b[0m\u001b[0margs\u001b[0m\u001b[0;34m,\u001b[0m \u001b[0;34m**\u001b[0m\u001b[0mkwargs\u001b[0m\u001b[0;34m)\u001b[0m\u001b[0;34m\u001b[0m\u001b[0;34m\u001b[0m\u001b[0m\n\u001b[0m\u001b[1;32m   1038\u001b[0m \u001b[0;34m\u001b[0m\u001b[0m\n\u001b[1;32m   1039\u001b[0m         \u001b[0;32mif\u001b[0m \u001b[0mself\u001b[0m\u001b[0;34m.\u001b[0m\u001b[0m_activity_regularizer\u001b[0m\u001b[0;34m:\u001b[0m\u001b[0;34m\u001b[0m\u001b[0;34m\u001b[0m\u001b[0m\n",
      "\u001b[0;32m/mnt/c/Users/kheut/code/covid19-forecasting/tf_model_1p5/model.py\u001b[0m in \u001b[0;36mcall\u001b[0;34m(self, r_t, debug_disable_prior, return_all)\u001b[0m\n\u001b[1;32m     64\u001b[0m \u001b[0;34m\u001b[0m\u001b[0m\n\u001b[1;32m     65\u001b[0m         \u001b[0mself\u001b[0m\u001b[0;34m.\u001b[0m\u001b[0m_constrain_parameters\u001b[0m\u001b[0;34m(\u001b[0m\u001b[0;34m)\u001b[0m\u001b[0;34m\u001b[0m\u001b[0;34m\u001b[0m\u001b[0m\n\u001b[0;32m---> 66\u001b[0;31m         \u001b[0mself\u001b[0m\u001b[0;34m.\u001b[0m\u001b[0m_sample_and_reparameterize\u001b[0m\u001b[0;34m(\u001b[0m\u001b[0;34m)\u001b[0m\u001b[0;34m\u001b[0m\u001b[0;34m\u001b[0m\u001b[0m\n\u001b[0m\u001b[1;32m     67\u001b[0m \u001b[0;34m\u001b[0m\u001b[0m\n\u001b[1;32m     68\u001b[0m         \u001b[0mr_t\u001b[0m \u001b[0;34m=\u001b[0m \u001b[0mtf\u001b[0m\u001b[0;34m.\u001b[0m\u001b[0msqueeze\u001b[0m\u001b[0;34m(\u001b[0m\u001b[0mr_t\u001b[0m\u001b[0;34m)\u001b[0m\u001b[0;34m\u001b[0m\u001b[0;34m\u001b[0m\u001b[0m\n",
      "\u001b[0;32m/mnt/c/Users/kheut/code/covid19-forecasting/tf_model_1p5/model.py\u001b[0m in \u001b[0;36m_sample_and_reparameterize\u001b[0;34m(self)\u001b[0m\n\u001b[1;32m    684\u001b[0m \u001b[0;34m\u001b[0m\u001b[0m\n\u001b[1;32m    685\u001b[0m             \u001b[0;32mfor\u001b[0m \u001b[0mj\u001b[0m \u001b[0;32min\u001b[0m \u001b[0mrange\u001b[0m\u001b[0;34m(\u001b[0m\u001b[0mself\u001b[0m\u001b[0;34m.\u001b[0m\u001b[0mtransition_window\u001b[0m\u001b[0;34m)\u001b[0m\u001b[0;34m:\u001b[0m\u001b[0;34m\u001b[0m\u001b[0;34m\u001b[0m\u001b[0m\n\u001b[0;32m--> 686\u001b[0;31m                 self.pi_M_samples[vax_status] = self.pi_M_samples[vax_status].write(j, np.array([dist.log_prob(j + 1) for dist in poisson_M_dist_samples]) /\n\u001b[0m\u001b[1;32m    687\u001b[0m                                                                self.nu_M_samples_constrained[vax_status])\n\u001b[1;32m    688\u001b[0m \u001b[0;34m\u001b[0m\u001b[0m\n",
      "\u001b[0;32m/mnt/c/Users/kheut/code/covid19-forecasting/tf_model_1p5/model.py\u001b[0m in \u001b[0;36m<listcomp>\u001b[0;34m(.0)\u001b[0m\n\u001b[1;32m    684\u001b[0m \u001b[0;34m\u001b[0m\u001b[0m\n\u001b[1;32m    685\u001b[0m             \u001b[0;32mfor\u001b[0m \u001b[0mj\u001b[0m \u001b[0;32min\u001b[0m \u001b[0mrange\u001b[0m\u001b[0;34m(\u001b[0m\u001b[0mself\u001b[0m\u001b[0;34m.\u001b[0m\u001b[0mtransition_window\u001b[0m\u001b[0;34m)\u001b[0m\u001b[0;34m:\u001b[0m\u001b[0;34m\u001b[0m\u001b[0;34m\u001b[0m\u001b[0m\n\u001b[0;32m--> 686\u001b[0;31m                 self.pi_M_samples[vax_status] = self.pi_M_samples[vax_status].write(j, np.array([dist.log_prob(j + 1) for dist in poisson_M_dist_samples]) /\n\u001b[0m\u001b[1;32m    687\u001b[0m                                                                self.nu_M_samples_constrained[vax_status])\n\u001b[1;32m    688\u001b[0m \u001b[0;34m\u001b[0m\u001b[0m\n",
      "\u001b[0;32m~/anaconda3/envs/covid_vax_model/lib/python3.7/site-packages/tensorflow_probability/python/distributions/distribution.py\u001b[0m in \u001b[0;36mlog_prob\u001b[0;34m(self, value, name, **kwargs)\u001b[0m\n\u001b[1;32m   1294\u001b[0m         \u001b[0mvalues\u001b[0m \u001b[0mof\u001b[0m \u001b[0mtype\u001b[0m\u001b[0;31m \u001b[0m\u001b[0;31m`\u001b[0m\u001b[0mself\u001b[0m\u001b[0;34m.\u001b[0m\u001b[0mdtype\u001b[0m\u001b[0;31m`\u001b[0m\u001b[0;34m.\u001b[0m\u001b[0;34m\u001b[0m\u001b[0;34m\u001b[0m\u001b[0m\n\u001b[1;32m   1295\u001b[0m     \"\"\"\n\u001b[0;32m-> 1296\u001b[0;31m     \u001b[0;32mreturn\u001b[0m \u001b[0mself\u001b[0m\u001b[0;34m.\u001b[0m\u001b[0m_call_log_prob\u001b[0m\u001b[0;34m(\u001b[0m\u001b[0mvalue\u001b[0m\u001b[0;34m,\u001b[0m \u001b[0mname\u001b[0m\u001b[0;34m,\u001b[0m \u001b[0;34m**\u001b[0m\u001b[0mkwargs\u001b[0m\u001b[0;34m)\u001b[0m\u001b[0;34m\u001b[0m\u001b[0;34m\u001b[0m\u001b[0m\n\u001b[0m\u001b[1;32m   1297\u001b[0m \u001b[0;34m\u001b[0m\u001b[0m\n\u001b[1;32m   1298\u001b[0m   \u001b[0;32mdef\u001b[0m \u001b[0m_call_prob\u001b[0m\u001b[0;34m(\u001b[0m\u001b[0mself\u001b[0m\u001b[0;34m,\u001b[0m \u001b[0mvalue\u001b[0m\u001b[0;34m,\u001b[0m \u001b[0mname\u001b[0m\u001b[0;34m,\u001b[0m \u001b[0;34m**\u001b[0m\u001b[0mkwargs\u001b[0m\u001b[0;34m)\u001b[0m\u001b[0;34m:\u001b[0m\u001b[0;34m\u001b[0m\u001b[0;34m\u001b[0m\u001b[0m\n",
      "\u001b[0;32m~/anaconda3/envs/covid_vax_model/lib/python3.7/site-packages/tensorflow_probability/python/distributions/distribution.py\u001b[0m in \u001b[0;36m_call_log_prob\u001b[0;34m(self, value, name, **kwargs)\u001b[0m\n\u001b[1;32m   1274\u001b[0m         \u001b[0mvalue\u001b[0m\u001b[0;34m,\u001b[0m \u001b[0mname\u001b[0m\u001b[0;34m=\u001b[0m\u001b[0;34m'value'\u001b[0m\u001b[0;34m,\u001b[0m \u001b[0mdtype_hint\u001b[0m\u001b[0;34m=\u001b[0m\u001b[0mself\u001b[0m\u001b[0;34m.\u001b[0m\u001b[0mdtype\u001b[0m\u001b[0;34m,\u001b[0m\u001b[0;34m\u001b[0m\u001b[0;34m\u001b[0m\u001b[0m\n\u001b[1;32m   1275\u001b[0m         allow_packing=True)\n\u001b[0;32m-> 1276\u001b[0;31m     \u001b[0;32mwith\u001b[0m \u001b[0mself\u001b[0m\u001b[0;34m.\u001b[0m\u001b[0m_name_and_control_scope\u001b[0m\u001b[0;34m(\u001b[0m\u001b[0mname\u001b[0m\u001b[0;34m,\u001b[0m \u001b[0mvalue\u001b[0m\u001b[0;34m,\u001b[0m \u001b[0mkwargs\u001b[0m\u001b[0;34m)\u001b[0m\u001b[0;34m:\u001b[0m\u001b[0;34m\u001b[0m\u001b[0;34m\u001b[0m\u001b[0m\n\u001b[0m\u001b[1;32m   1277\u001b[0m       \u001b[0;32mif\u001b[0m \u001b[0mhasattr\u001b[0m\u001b[0;34m(\u001b[0m\u001b[0mself\u001b[0m\u001b[0;34m,\u001b[0m \u001b[0;34m'_log_prob'\u001b[0m\u001b[0;34m)\u001b[0m\u001b[0;34m:\u001b[0m\u001b[0;34m\u001b[0m\u001b[0;34m\u001b[0m\u001b[0m\n\u001b[1;32m   1278\u001b[0m         \u001b[0;32mreturn\u001b[0m \u001b[0mself\u001b[0m\u001b[0;34m.\u001b[0m\u001b[0m_log_prob\u001b[0m\u001b[0;34m(\u001b[0m\u001b[0mvalue\u001b[0m\u001b[0;34m,\u001b[0m \u001b[0;34m**\u001b[0m\u001b[0mkwargs\u001b[0m\u001b[0;34m)\u001b[0m\u001b[0;34m\u001b[0m\u001b[0;34m\u001b[0m\u001b[0m\n",
      "\u001b[0;32m~/anaconda3/envs/covid_vax_model/lib/python3.7/contextlib.py\u001b[0m in \u001b[0;36m__enter__\u001b[0;34m(self)\u001b[0m\n\u001b[1;32m    110\u001b[0m         \u001b[0;32mdel\u001b[0m \u001b[0mself\u001b[0m\u001b[0;34m.\u001b[0m\u001b[0margs\u001b[0m\u001b[0;34m,\u001b[0m \u001b[0mself\u001b[0m\u001b[0;34m.\u001b[0m\u001b[0mkwds\u001b[0m\u001b[0;34m,\u001b[0m \u001b[0mself\u001b[0m\u001b[0;34m.\u001b[0m\u001b[0mfunc\u001b[0m\u001b[0;34m\u001b[0m\u001b[0;34m\u001b[0m\u001b[0m\n\u001b[1;32m    111\u001b[0m         \u001b[0;32mtry\u001b[0m\u001b[0;34m:\u001b[0m\u001b[0;34m\u001b[0m\u001b[0;34m\u001b[0m\u001b[0m\n\u001b[0;32m--> 112\u001b[0;31m             \u001b[0;32mreturn\u001b[0m \u001b[0mnext\u001b[0m\u001b[0;34m(\u001b[0m\u001b[0mself\u001b[0m\u001b[0;34m.\u001b[0m\u001b[0mgen\u001b[0m\u001b[0;34m)\u001b[0m\u001b[0;34m\u001b[0m\u001b[0;34m\u001b[0m\u001b[0m\n\u001b[0m\u001b[1;32m    113\u001b[0m         \u001b[0;32mexcept\u001b[0m \u001b[0mStopIteration\u001b[0m\u001b[0;34m:\u001b[0m\u001b[0;34m\u001b[0m\u001b[0;34m\u001b[0m\u001b[0m\n\u001b[1;32m    114\u001b[0m             \u001b[0;32mraise\u001b[0m \u001b[0mRuntimeError\u001b[0m\u001b[0;34m(\u001b[0m\u001b[0;34m\"generator didn't yield\"\u001b[0m\u001b[0;34m)\u001b[0m \u001b[0;32mfrom\u001b[0m \u001b[0;32mNone\u001b[0m\u001b[0;34m\u001b[0m\u001b[0;34m\u001b[0m\u001b[0m\n",
      "\u001b[0;32m~/anaconda3/envs/covid_vax_model/lib/python3.7/site-packages/tensorflow_probability/python/distributions/distribution.py\u001b[0m in \u001b[0;36m_name_and_control_scope\u001b[0;34m(self, name, value, kwargs)\u001b[0m\n\u001b[1;32m   1853\u001b[0m     \u001b[0;31m# Note: we recieve `kwargs` and not `**kwargs` to ensure no collisions on\u001b[0m\u001b[0;34m\u001b[0m\u001b[0;34m\u001b[0m\u001b[0;34m\u001b[0m\u001b[0m\n\u001b[1;32m   1854\u001b[0m     \u001b[0;31m# other args we choose to take in this function.\u001b[0m\u001b[0;34m\u001b[0m\u001b[0;34m\u001b[0m\u001b[0;34m\u001b[0m\u001b[0m\n\u001b[0;32m-> 1855\u001b[0;31m     \u001b[0;32mwith\u001b[0m \u001b[0mtf\u001b[0m\u001b[0;34m.\u001b[0m\u001b[0mname_scope\u001b[0m\u001b[0;34m(\u001b[0m\u001b[0mself\u001b[0m\u001b[0;34m.\u001b[0m\u001b[0mname\u001b[0m\u001b[0;34m)\u001b[0m\u001b[0;34m:\u001b[0m\u001b[0;34m\u001b[0m\u001b[0;34m\u001b[0m\u001b[0m\n\u001b[0m\u001b[1;32m   1856\u001b[0m       \u001b[0;32mwith\u001b[0m \u001b[0mtf\u001b[0m\u001b[0;34m.\u001b[0m\u001b[0mname_scope\u001b[0m\u001b[0;34m(\u001b[0m\u001b[0mname\u001b[0m\u001b[0;34m)\u001b[0m \u001b[0;32mas\u001b[0m \u001b[0mname_scope\u001b[0m\u001b[0;34m:\u001b[0m\u001b[0;34m\u001b[0m\u001b[0;34m\u001b[0m\u001b[0m\n\u001b[1;32m   1857\u001b[0m         \u001b[0mdeps\u001b[0m \u001b[0;34m=\u001b[0m \u001b[0;34m[\u001b[0m\u001b[0;34m]\u001b[0m\u001b[0;34m\u001b[0m\u001b[0;34m\u001b[0m\u001b[0m\n",
      "\u001b[0;32m~/anaconda3/envs/covid_vax_model/lib/python3.7/site-packages/tensorflow/python/framework/ops.py\u001b[0m in \u001b[0;36m__init__\u001b[0;34m(self, name)\u001b[0m\n\u001b[1;32m   6691\u001b[0m       \u001b[0;32mraise\u001b[0m \u001b[0mValueError\u001b[0m\u001b[0;34m(\u001b[0m\u001b[0;34m\"name for name_scope must be a string.\"\u001b[0m\u001b[0;34m)\u001b[0m\u001b[0;34m\u001b[0m\u001b[0;34m\u001b[0m\u001b[0m\n\u001b[1;32m   6692\u001b[0m     \u001b[0mself\u001b[0m\u001b[0;34m.\u001b[0m\u001b[0m_name\u001b[0m \u001b[0;34m=\u001b[0m \u001b[0mname\u001b[0m\u001b[0;34m\u001b[0m\u001b[0;34m\u001b[0m\u001b[0m\n\u001b[0;32m-> 6693\u001b[0;31m     \u001b[0mself\u001b[0m\u001b[0;34m.\u001b[0m\u001b[0m_exit_fns\u001b[0m \u001b[0;34m=\u001b[0m \u001b[0;34m[\u001b[0m\u001b[0;34m]\u001b[0m\u001b[0;34m\u001b[0m\u001b[0;34m\u001b[0m\u001b[0m\n\u001b[0m\u001b[1;32m   6694\u001b[0m \u001b[0;34m\u001b[0m\u001b[0m\n\u001b[1;32m   6695\u001b[0m   \u001b[0;34m@\u001b[0m\u001b[0mproperty\u001b[0m\u001b[0;34m\u001b[0m\u001b[0;34m\u001b[0m\u001b[0m\n",
      "\u001b[0;31mKeyboardInterrupt\u001b[0m: "
     ]
    }
   ],
   "source": [
    "model.compile(loss=loss, optimizer=optimizer, run_eagerly=True)\n",
    "model.fit(x=np.asarray([x_train]), y=np.asarray([y_train]),\n",
    "         epochs=2000, batch_size=0,\n",
    "        callbacks=logging_callbacks)"
   ]
  },
  {
   "cell_type": "code",
   "execution_count": null,
   "id": "910c2f9e",
   "metadata": {},
   "outputs": [],
   "source": [
    "plt.figure(figsize=(8, 6))\n",
    "preds=tf.reduce_mean(model.call(x_test), axis=-1)\n",
    "plt.plot(df.loc[train_start:test_end].index.values, y_test, label='Hosp')\n",
    "plt.plot(df.loc[train_start:test_end].index.values, preds, label='Hosp')\n",
    "month_ticks = matplotlib.dates.MonthLocator(interval=1)\n",
    "ax = plt.gca()\n",
    "ax.xaxis.set_major_locator(month_ticks)\n",
    "plt.legend()\n",
    "plt.title('Mild Compartment')"
   ]
  },
  {
   "cell_type": "code",
   "execution_count": null,
   "id": "41e61f26",
   "metadata": {},
   "outputs": [],
   "source": [
    "plt.figure(figsize=(8, 6))\n",
    "preds=tf.reduce_mean(model.call(x_train), axis=-1)\n",
    "plt.plot(df.loc[train_start:test_end].index.values, y_test, label='CovidEstim Mild')\n",
    "plt.plot(df.loc[train_start:train_end].index.values, pre_training_preds[:len(df.loc[train_start:train_end].index.values)], label='Predicted Before Training Mild')\n",
    "month_ticks = matplotlib.dates.MonthLocator(interval=1)\n",
    "ax = plt.gca()\n",
    "ax.xaxis.set_major_locator(month_ticks)\n",
    "plt.legend()\n",
    "plt.title('Mild Compartment')"
   ]
  },
  {
   "cell_type": "code",
   "execution_count": null,
   "id": "438fbf19",
   "metadata": {},
   "outputs": [],
   "source": [
    "pre_training_preds"
   ]
  },
  {
   "cell_type": "code",
   "execution_count": null,
   "id": "abdd92d0",
   "metadata": {},
   "outputs": [],
   "source": [
    "preds"
   ]
  },
  {
   "cell_type": "code",
   "execution_count": null,
   "id": "7790428a",
   "metadata": {},
   "outputs": [],
   "source": []
  },
  {
   "cell_type": "code",
   "execution_count": null,
   "id": "b2f44042",
   "metadata": {},
   "outputs": [],
   "source": [
    "import tfa.optimizers"
   ]
  },
  {
   "cell_type": "code",
   "execution_count": null,
   "id": "35cf260e",
   "metadata": {},
   "outputs": [],
   "source": [
    "0.8*2000"
   ]
  },
  {
   "cell_type": "code",
   "execution_count": null,
   "id": "9478d8e6",
   "metadata": {},
   "outputs": [],
   "source": [
    "warmup_asymp"
   ]
  },
  {
   "cell_type": "code",
   "execution_count": null,
   "id": "86caf2f4",
   "metadata": {},
   "outputs": [],
   "source": [
    "warmup_mild"
   ]
  },
  {
   "cell_type": "code",
   "execution_count": null,
   "id": "57e20272",
   "metadata": {},
   "outputs": [],
   "source": [
    "y_test"
   ]
  },
  {
   "cell_type": "code",
   "execution_count": null,
   "id": "8cdad1e4",
   "metadata": {},
   "outputs": [],
   "source": [
    "df.loc[warmup_start:'20210510','mild']"
   ]
  },
  {
   "cell_type": "code",
   "execution_count": null,
   "id": "9fdec032",
   "metadata": {},
   "outputs": [],
   "source": [
    "warmup_start"
   ]
  },
  {
   "cell_type": "code",
   "execution_count": null,
   "id": "7c12bd50",
   "metadata": {},
   "outputs": [],
   "source": [
    "warmup_asymp"
   ]
  },
  {
   "cell_type": "code",
   "execution_count": null,
   "id": "e13a5d30",
   "metadata": {},
   "outputs": [],
   "source": [
    "import copy"
   ]
  },
  {
   "cell_type": "code",
   "execution_count": null,
   "id": "1f8313b4",
   "metadata": {},
   "outputs": [],
   "source": [
    "copy_model = copy.deepcopy(model)\n",
    "copy_model.unconstrained_warmup_A_params[-1][2]['loc'] = tf.Variable(2500.0, dtype=tf.float32)\n",
    "copy_model.unconstrained_warmup_A_params[-1][1]['loc'] = tf.Variable(2500.0, dtype=tf.float32)\n",
    "copy_model.unconstrained_warmup_A_params[-1][0]['loc'] = tf.Variable(2500.0, dtype=tf.float32)\n",
    "copy_model.unconstrained_nu_M[-1]['loc'] = tf.Variable(3.0, dtype=tf.float32)"
   ]
  },
  {
   "cell_type": "code",
   "execution_count": null,
   "id": "45e6ef83",
   "metadata": {},
   "outputs": [],
   "source": [
    "plt.figure(figsize=(8, 6))\n",
    "copy_preds=tf.reduce_mean(copy_model.call(x_train), axis=-1)\n",
    "plt.plot(df.loc[train_start:test_end].index.values, y_test, label='CovidEstim Mild')\n",
    "plt.plot(df.loc[train_start:test_end].index.values, copy_preds, label='Predicted Mild')\n",
    "month_ticks = matplotlib.dates.MonthLocator(interval=1)\n",
    "ax = plt.gca()\n",
    "ax.xaxis.set_major_locator(month_ticks)\n",
    "plt.legend()\n",
    "plt.title('Mild Compartment')"
   ]
  },
  {
   "cell_type": "code",
   "execution_count": null,
   "id": "5bb5613c",
   "metadata": {},
   "outputs": [],
   "source": [
    "loss(y_test, copy_model.call(x_train))"
   ]
  },
  {
   "cell_type": "code",
   "execution_count": null,
   "id": "57a7f0ca",
   "metadata": {},
   "outputs": [],
   "source": [
    "copy_model.unconstrained_nu_M"
   ]
  },
  {
   "cell_type": "code",
   "execution_count": null,
   "id": "f648a7c0",
   "metadata": {},
   "outputs": [],
   "source": [
    "copy_model.unconstrained_rho_M[-1]['loc']"
   ]
  },
  {
   "cell_type": "code",
   "execution_count": null,
   "id": "bbc0824f",
   "metadata": {},
   "outputs": [],
   "source": [
    "tf.math.sigmoid(1.2)"
   ]
  },
  {
   "cell_type": "code",
   "execution_count": null,
   "id": "9ef7bd49",
   "metadata": {},
   "outputs": [],
   "source": [
    "warmup_A_params[-1]"
   ]
  },
  {
   "cell_type": "code",
   "execution_count": null,
   "id": "43e930c3",
   "metadata": {},
   "outputs": [],
   "source": [
    "warmup_asymp"
   ]
  },
  {
   "cell_type": "code",
   "execution_count": null,
   "id": "37263281",
   "metadata": {},
   "outputs": [],
   "source": [
    "warmup_mild"
   ]
  },
  {
   "cell_type": "code",
   "execution_count": null,
   "id": "148b9927",
   "metadata": {},
   "outputs": [],
   "source": [
    "1800/2500"
   ]
  },
  {
   "cell_type": "code",
   "execution_count": null,
   "id": "f9128e0c",
   "metadata": {},
   "outputs": [],
   "source": [
    "plt.figure(figsize=(8, 6))\n",
    "copy_preds=tf.reduce_mean(copy_model.call(x_train), axis=-1)\n",
    "plt.plot(df.loc[train_start:test_end].index.values, df.loc[train_start:test_end, 'mild']/df.loc[train_start:test_end, 'asymp'], label='Asymp/Mild')\n",
    "#plt.plot(df.loc[train_start:test_end].index.values, preds, label='Predicted Mild')\n",
    "month_ticks = matplotlib.dates.MonthLocator(interval=1)\n",
    "ax = plt.gca()\n",
    "ax.xaxis.set_major_locator(month_ticks)\n",
    "plt.legend()\n",
    "plt.title('Empirical Rho_M')"
   ]
  },
  {
   "cell_type": "code",
   "execution_count": null,
   "id": "d7e6cd2f",
   "metadata": {},
   "outputs": [],
   "source": [
    "0.96**(1/5.2)"
   ]
  },
  {
   "cell_type": "code",
   "execution_count": null,
   "id": "86c21262",
   "metadata": {},
   "outputs": [],
   "source": [
    "warmup_asymp"
   ]
  },
  {
   "cell_type": "code",
   "execution_count": null,
   "id": "7adc73fd",
   "metadata": {},
   "outputs": [],
   "source": [
    "x_train"
   ]
  },
  {
   "cell_type": "code",
   "execution_count": null,
   "id": "a8c2f01f",
   "metadata": {},
   "outputs": [],
   "source": [
    "model.T_serial_samples_constrained"
   ]
  },
  {
   "cell_type": "code",
   "execution_count": null,
   "id": "d4e263a7",
   "metadata": {},
   "outputs": [],
   "source": [
    "copy_model.call(x_train,return_all=True)"
   ]
  },
  {
   "cell_type": "code",
   "execution_count": null,
   "id": "84283817",
   "metadata": {},
   "outputs": [],
   "source": [
    "warmup_asymp*x_train[2] ** (1/model.T_serial_samples_constrained)"
   ]
  },
  {
   "cell_type": "code",
   "execution_count": null,
   "id": "b375b608",
   "metadata": {},
   "outputs": [],
   "source": [
    "copy_model.warmup_A_samples[1]"
   ]
  },
  {
   "cell_type": "code",
   "execution_count": null,
   "id": "e3aeff13",
   "metadata": {},
   "outputs": [],
   "source": [
    "warmup_A"
   ]
  },
  {
   "cell_type": "code",
   "execution_count": null,
   "id": "4dc81004",
   "metadata": {},
   "outputs": [],
   "source": [
    "all_preds = model.call(x_train, return_all=True)"
   ]
  },
  {
   "cell_type": "code",
   "execution_count": null,
   "id": "ddbf95c3",
   "metadata": {},
   "outputs": [],
   "source": [
    "all_preds[Comp.A.value][1].stack()[:,0]"
   ]
  },
  {
   "cell_type": "code",
   "execution_count": null,
   "id": "f4b0633f",
   "metadata": {},
   "outputs": [],
   "source": [
    "warmup_A_params"
   ]
  },
  {
   "cell_type": "code",
   "execution_count": null,
   "id": "c0342055",
   "metadata": {},
   "outputs": [],
   "source": [
    "tfp.math.softplus_inverse(100.0/1000/2)"
   ]
  },
  {
   "cell_type": "code",
   "execution_count": null,
   "id": "ee89820c",
   "metadata": {},
   "outputs": [],
   "source": [
    "tfp.math.softplus_inverse(4.0)"
   ]
  },
  {
   "cell_type": "code",
   "execution_count": null,
   "id": "cc87efc4",
   "metadata": {},
   "outputs": [],
   "source": [
    "model.variables"
   ]
  },
  {
   "cell_type": "code",
   "execution_count": null,
   "id": "36097317",
   "metadata": {},
   "outputs": [],
   "source": [
    "model.variables"
   ]
  },
  {
   "cell_type": "code",
   "execution_count": null,
   "id": "d0b576ae",
   "metadata": {},
   "outputs": [],
   "source": [
    "model.losses"
   ]
  },
  {
   "cell_type": "code",
   "execution_count": null,
   "id": "aa2cb1e4",
   "metadata": {},
   "outputs": [],
   "source": [
    "model.prior_distros[Comp.M.value][0]['warmup_M'][0].parameters['distribution'].log_prob(6)"
   ]
  },
  {
   "cell_type": "code",
   "execution_count": null,
   "id": "18642241",
   "metadata": {},
   "outputs": [],
   "source": [
    "model.prior_distros[Comp.M.value][1]['warmup_M'][0].log_prob(\n",
    "                model.warmup_M_samples[1][0])+tfp.bijectors.Chain([tfp.bijectors.Softplus(), tfp.bijectors.Scale(100)]).forward_log_det_jacobian(model.warmup_M_samples[1][0])"
   ]
  },
  {
   "cell_type": "code",
   "execution_count": null,
   "id": "2c7667b7",
   "metadata": {},
   "outputs": [],
   "source": []
  },
  {
   "cell_type": "code",
   "execution_count": null,
   "id": "5e4aff55",
   "metadata": {},
   "outputs": [],
   "source": [
    "tf.reduce_sum([tf.reduce_sum([-tf.reduce_sum(tf.reduce_mean(\n",
    "            model.prior_distros[Comp.M.value][status.value]['warmup_M'][day].log_prob(\n",
    "                model.warmup_M_samples[status.value][day]) + \\\n",
    "            tfp.bijectors.Chain([tfp.bijectors.Softplus(), tfp.bijectors.Scale(100)]).forward_log_det_jacobian(model.warmup_M_samples[status.value][day])\n",
    "            - model.warmup_M_probs[status.value][day], axis=-1)) for day in range(model.transition_window)]) for status in\n",
    "                                             model.vax_statuses])"
   ]
  },
  {
   "cell_type": "code",
   "execution_count": null,
   "id": "5beddd9f",
   "metadata": {},
   "outputs": [],
   "source": [
    "[tf.reduce_sum([-tf.reduce_sum(tf.reduce_mean(\n",
    "            model.prior_distros[Comp.M.value][status.value]['warmup_M'][day].log_prob(\n",
    "                model.warmup_M_samples[status.value][day]) + \\\n",
    "            tfp.bijectors.Chain([tfp.bijectors.Softplus(), tfp.bijectors.Scale(100)]).forward_log_det_jacobian(model.warmup_M_samples[status.value][day])\n",
    "            - model.warmup_M_probs[status.value][day], axis=-1)) for day in range(model.transition_window)]) for status in\n",
    "                                             model.vax_statuses]"
   ]
  },
  {
   "cell_type": "code",
   "execution_count": null,
   "id": "4aa8c959",
   "metadata": {},
   "outputs": [],
   "source": [
    "[[-tf.reduce_sum(tf.reduce_mean(\n",
    "            model.prior_distros[Comp.M.value][status.value]['warmup_M'][day].log_prob(\n",
    "                model.warmup_M_samples[status.value][day]) + \\\n",
    "            tfp.bijectors.Chain([tfp.bijectors.Softplus(), tfp.bijectors.Scale(100)]).forward_log_det_jacobian(model.warmup_M_samples[status.value][day])\n",
    "            - model.warmup_M_probs[status.value][day], axis=-1)) for day in range(model.transition_window)] for status in\n",
    "                                             model.vax_statuses]"
   ]
  },
  {
   "cell_type": "code",
   "execution_count": null,
   "id": "3b05ba98",
   "metadata": {},
   "outputs": [],
   "source": [
    "[[-tf.reduce_mean(\n",
    "            model.prior_distros[Comp.M.value][status.value]['warmup_M'][day].log_prob(\n",
    "                model.warmup_M_samples[status.value][day]) + \\\n",
    "            tfp.bijectors.Chain([tfp.bijectors.Softplus(), tfp.bijectors.Scale(100)]).forward_log_det_jacobian(model.warmup_M_samples[status.value][day])\n",
    "            - model.warmup_M_probs[status.value][day], axis=-1) for day in range(model.transition_window)] for status in\n",
    "                                             model.vax_statuses]"
   ]
  },
  {
   "cell_type": "code",
   "execution_count": null,
   "id": "05566201",
   "metadata": {},
   "outputs": [],
   "source": [
    "[tf.reduce_mean(\n",
    "            model.prior_distros[Comp.M.value][0]['warmup_M'][day].log_prob(\n",
    "                model.warmup_M_samples[0][day]) + \\\n",
    "            tfp.bijectors.Chain([tfp.bijectors.Softplus(), tfp.bijectors.Scale(100)]).forward_log_det_jacobian(model.warmup_M_samples[0][day])\n",
    "            - model.warmup_M_probs[0][day], axis=-1) for day in range(model.transition_window)]"
   ]
  },
  {
   "cell_type": "code",
   "execution_count": null,
   "id": "dc27da79",
   "metadata": {},
   "outputs": [],
   "source": [
    "[tf.reduce_mean(\n",
    "            model.prior_distros[Comp.M.value][0]['warmup_M'][day].log_prob(\n",
    "                model.warmup_M_samples[0][day]), axis=-1) for day in range(model.transition_window)]"
   ]
  },
  {
   "cell_type": "code",
   "execution_count": null,
   "id": "faab0f8f",
   "metadata": {},
   "outputs": [],
   "source": [
    "model.warmup_M_samples[0][day]"
   ]
  },
  {
   "cell_type": "code",
   "execution_count": null,
   "id": "eb1f750e",
   "metadata": {},
   "outputs": [],
   "source": [
    "tf.reduce_mean(\n",
    "            model.prior_distros[Comp.M.value][0]['warmup_M'][day].log_prob(\n",
    "                model.warmup_M_samples[0][day]), axis=-1)"
   ]
  },
  {
   "cell_type": "code",
   "execution_count": null,
   "id": "c14eae3b",
   "metadata": {},
   "outputs": [],
   "source": [
    "model.prior_distros[Comp.A.value][0]['warmup_A'][0].parameters['distribution'].mean()"
   ]
  },
  {
   "cell_type": "code",
   "execution_count": null,
   "id": "815e4497",
   "metadata": {},
   "outputs": [],
   "source": []
  }
 ],
 "metadata": {
  "kernelspec": {
   "display_name": "Python 3 (ipykernel)",
   "language": "python",
   "name": "python3"
  },
  "language_info": {
   "codemirror_mode": {
    "name": "ipython",
    "version": 3
   },
   "file_extension": ".py",
   "mimetype": "text/x-python",
   "name": "python",
   "nbconvert_exporter": "python",
   "pygments_lexer": "ipython3",
   "version": "3.7.11"
  }
 },
 "nbformat": 4,
 "nbformat_minor": 5
}

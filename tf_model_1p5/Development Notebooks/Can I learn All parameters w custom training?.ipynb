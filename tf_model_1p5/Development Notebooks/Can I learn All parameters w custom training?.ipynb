{
 "cells": [
  {
   "cell_type": "code",
   "execution_count": 47,
   "id": "969ad8a3",
   "metadata": {},
   "outputs": [
    {
     "name": "stdout",
     "output_type": "stream",
     "text": [
      "The autoreload extension is already loaded. To reload it, use:\n",
      "  %reload_ext autoreload\n"
     ]
    }
   ],
   "source": [
    "%load_ext autoreload\n",
    "%autoreload 2\n",
    "\n",
    "import numpy as np\n",
    "import tensorflow as tf\n",
    "\n",
    "import sys\n",
    "sys.path.append('/mnt/c/Users/kheut/code/covid19-forecasting/tf_model_1p5/')\n",
    "\n",
    "from enum import Enum\n",
    "\n",
    "import tensorflow as tf\n",
    "from tensorflow import keras\n",
    "from tensorflow.keras.layers import Dense\n",
    "\n",
    "import tensorflow_probability as tfp\n",
    "from scipy.stats import beta, truncnorm\n",
    "\n",
    "\n",
    "# Local imports from model.py, data.py\n",
    "from model import CovidModel, LogPoissonProb, get_logging_callbacks, Comp, Vax\n",
    "from data import read_data, create_warmup\n",
    "#from plots import make_all_plots\n",
    "\n",
    "import scipy\n",
    "\n",
    "import matplotlib\n",
    "import matplotlib.pyplot as plt\n",
    "plt.rcParams.update({'font.size': 20}) # set plot font sizes"
   ]
  },
  {
   "cell_type": "code",
   "execution_count": 48,
   "id": "9ffdbf61",
   "metadata": {},
   "outputs": [],
   "source": [
    "transition_window =3\n",
    "\n",
    "warmup_start = '20210428'\n",
    "warmup_end = '20210430'\n",
    "train_start = '20210501'\n",
    "train_end = '20210731'\n",
    "test_start = '20210801'\n",
    "test_end = '20210831'\n",
    "\n",
    "state = 'Massachusetts'\n",
    "state_abbrev = 'MA'\n",
    "\n",
    "data_dir = '../data'\n",
    "covid_estim_date = '20210901'\n",
    "hhs_date = '20210903'\n",
    "owid_date = '20210903'\n",
    "\n",
    "log_dir = './logs/new_warmup'\n",
    "\n",
    "\n",
    "# Learning rate\n",
    "model_learning_rate = 1e-2\n",
    "warmup_learning_rate = 20"
   ]
  },
  {
   "cell_type": "code",
   "execution_count": 49,
   "id": "8af6455c",
   "metadata": {},
   "outputs": [],
   "source": [
    "df = read_data(data_dir=data_dir,\n",
    "               covid_estim_date=covid_estim_date,\n",
    "               hhs_date=hhs_date,\n",
    "               owid_date=owid_date,\n",
    "               state=state, state_abbrev=state_abbrev)"
   ]
  },
  {
   "cell_type": "code",
   "execution_count": 50,
   "id": "0edb57a2",
   "metadata": {},
   "outputs": [],
   "source": [
    "class Comp(Enum):\n",
    "    A = 0\n",
    "    M = 1\n",
    "    #X = 2\n",
    "    #G = 3\n",
    "    \n",
    "class Vax(Enum):\n",
    "    total = -1\n",
    "    no = 0\n",
    "    yes = 1"
   ]
  },
  {
   "cell_type": "code",
   "execution_count": 51,
   "id": "3220d0aa",
   "metadata": {},
   "outputs": [],
   "source": [
    "# get warmup arrays, splitting on vaccination status\n",
    "warmup_asymp, warmup_mild, warmup_extreme = create_warmup(df, \n",
    "                                                          warmup_start, \n",
    "                                                          warmup_end,\n",
    "                                                          0,0,0)\n",
    "\n",
    "# re-combine\n",
    "warmup_asymp = warmup_asymp[Vax.no.value] + warmup_asymp[Vax.yes.value]"
   ]
  },
  {
   "cell_type": "code",
   "execution_count": 75,
   "id": "086cb3f2",
   "metadata": {},
   "outputs": [],
   "source": [
    "synth_T_serial = 5.8\n",
    "synth_rho_M = 0.76\n",
    "synth_lambda_M = 4.7\n",
    "synth_nu_M = 3.1"
   ]
  },
  {
   "cell_type": "code",
   "execution_count": 76,
   "id": "ddd9c4d9",
   "metadata": {},
   "outputs": [],
   "source": [
    "warmup_A_params = {}\n",
    "warmup_A_params[Vax.total.value] = {}\n",
    "warmup_A_params[Vax.total.value]['prior'] = []\n",
    "warmup_A_params[Vax.total.value]['posterior_init'] = []\n",
    "\n",
    "for day in range(transition_window):\n",
    "    warmup_A_params[Vax.total.value]['prior'].append({'loc': warmup_asymp[day],\n",
    "                                                'scale': warmup_asymp[day]/10})\n",
    "    "
   ]
  },
  {
   "cell_type": "code",
   "execution_count": 77,
   "id": "f3dd3b64",
   "metadata": {},
   "outputs": [],
   "source": [
    "x_train = tf.cast(df.loc[train_start:test_end,'Rt'].values, dtype=tf.float32)\n",
    "#y_test = tf.cast(df.loc[train_start:test_end,'mild'], dtype=tf.float32)"
   ]
  },
  {
   "cell_type": "code",
   "execution_count": 78,
   "id": "9b36af2b",
   "metadata": {},
   "outputs": [],
   "source": [
    "A_vals = []\n",
    "M_vals =[]\n",
    "for day in range(transition_window):\n",
    "    A_vals.append(warmup_A_params[-1]['prior'][day]['loc'])\n",
    "\n",
    "for day in range(len(x_train)):\n",
    "    yesterday_asymp = A_vals[-1]\n",
    "    \n",
    "    today_asymp = yesterday_asymp*x_train[day]**(1/synth_T_serial)\n",
    "    A_vals.append(today_asymp)\n",
    "    \n",
    "    today_M = 0\n",
    "    pi_M=[]\n",
    "    for j in range(transition_window):\n",
    "        \n",
    "        \n",
    "        lambda_M_fix = synth_lambda_M\n",
    "        nu_M_fix = synth_nu_M\n",
    "        poisson_dist = scipy.stats.poisson(lambda_M_fix)\n",
    "        pi_M_j_ago = poisson_dist.logpmf(j+1)/nu_M_fix\n",
    "        \n",
    "        pi_M.append(pi_M_j_ago)\n",
    "    \n",
    "    pi_M = scipy.special.softmax(pi_M)\n",
    "        \n",
    "    for j in range(transition_window):\n",
    "        j_ago_asymp = A_vals[day-j-1]\n",
    "        today_M += j_ago_asymp*synth_rho_M*pi_M[j]\n",
    "        \n",
    "    M_vals.append(today_M)"
   ]
  },
  {
   "cell_type": "code",
   "execution_count": 79,
   "id": "a8c90605",
   "metadata": {},
   "outputs": [],
   "source": [
    "\n",
    "T_serial = {}\n",
    "T_serial[Vax.total.value] = {}\n",
    "T_serial[Vax.total.value]['prior'] ={'loc':5.8, 'scale':1}\n",
    "\n",
    "\n",
    "rho_M = {}\n",
    "rho_M[Vax.total.value] = {}\n",
    "rho_M[Vax.total.value]['prior'] = {'a': 31.8, 'b': 10.3}\n",
    "\n",
    "lambda_M = {}\n",
    "lambda_M[Vax.total.value] = {}\n",
    "lambda_M[Vax.total.value]['prior'] = {'loc': 4.7, 'scale': 1}\n",
    "\n",
    "nu_M = {}\n",
    "nu_M[Vax.total.value] = {}\n",
    "nu_M[Vax.total.value]['prior'] = {'loc': 3.1, 'scale': 1.2}\n",
    "\n",
    "\n"
   ]
  },
  {
   "cell_type": "code",
   "execution_count": 80,
   "id": "1829678d",
   "metadata": {},
   "outputs": [],
   "source": [
    "T_serial_scale = 1.0\n",
    "rho_M_scale = 0.1\n",
    "lambda_M_scale = 1.0\n",
    "nu_M_scale = 1.2\n",
    "\n",
    "warmup_scales = [0.1]*warmup_asymp"
   ]
  },
  {
   "cell_type": "code",
   "execution_count": 140,
   "id": "a56b9dbe",
   "metadata": {},
   "outputs": [],
   "source": [
    "T_serial[Vax.total.value]['posterior_init'] = {'loc': tfp.math.softplus_inverse(4.0),\n",
    "                                     'scale':tf.cast(tfp.math.softplus_inverse(T_serial_scale),dtype=tf.float32)}\n",
    "\n",
    "rho_M[Vax.total.value]['posterior_init'] = {'loc': tf.cast(np.log(0.5/(1-0.5)),dtype=tf.float32),\n",
    "                                      'scale':tf.cast(tfp.math.softplus_inverse(rho_M_scale),dtype=tf.float32)}\n",
    "\n",
    "lambda_M[Vax.total.value]['posterior_init'] = {'loc': tf.cast(tfp.math.softplus_inverse(3.0),dtype=tf.float32),\n",
    "                                         'scale':tf.cast(tfp.math.softplus_inverse(lambda_M_scale),dtype=tf.float32)}\n",
    "\n",
    "nu_M[Vax.total.value]['posterior_init'] = {'loc': tf.cast(tfp.math.softplus_inverse(5.0),dtype=tf.float32),\n",
    "                                     'scale':tf.cast(tfp.math.softplus_inverse(nu_M_scale),dtype=tf.float32)}\n",
    "\n",
    "for day in range(transition_window):\n",
    "    # must be positive so reverse softplus the mean\n",
    "    warmup_A_params[Vax.total.value]['posterior_init'].append({'loc': tf.cast(tfp.math.softplus_inverse(2000.0),dtype=tf.float32),\n",
    "                                                         'scale': tf.cast(tfp.math.softplus_inverse(500.0),dtype=tf.float32)})#tf.cast(tfp.math.softplus_inverse(warmup_asymp[day]/10),dtype=tf.float32)})\n",
    "\n",
    "model = CovidModel([Vax.total], [Comp.A, Comp.M],\n",
    "                 transition_window,\n",
    "                T_serial, rho_M, lambda_M, nu_M,\n",
    "                 warmup_A_params, posterior_samples=1000, debug_disable_theta=False)"
   ]
  },
  {
   "cell_type": "code",
   "execution_count": 141,
   "id": "089f8156",
   "metadata": {},
   "outputs": [
    {
     "data": {
      "text/plain": [
       "[<tf.Variable 'T_serial_A_loc_-1:0' shape=() dtype=float32, numpy=3.9815147>,\n",
       " <tf.Variable 'T_serial_A_scale_-1:0' shape=() dtype=float32, numpy=0.54132485>,\n",
       " <tf.Variable 'rho_M_loc_-1:0' shape=() dtype=float32, numpy=0.0>,\n",
       " <tf.Variable 'rho_M_scale_-1:0' shape=() dtype=float32, numpy=-2.2521684>,\n",
       " <tf.Variable 'lambda_M_loc_-1:0' shape=() dtype=float32, numpy=2.9489307>,\n",
       " <tf.Variable 'lambda_M_scale_-1:0' shape=() dtype=float32, numpy=0.54132485>,\n",
       " <tf.Variable 'nu_M_loc_-1:0' shape=() dtype=float32, numpy=4.9932394>,\n",
       " <tf.Variable 'nu_M_scale_-1:0' shape=() dtype=float32, numpy=0.8416177>,\n",
       " <tf.Variable 'warmup_A_loc_0_-1:0' shape=() dtype=float32, numpy=2000.0>,\n",
       " <tf.Variable 'warmup_A_scale_0_-1:0' shape=() dtype=float32, numpy=500.0>,\n",
       " <tf.Variable 'warmup_A_loc_1_-1:0' shape=() dtype=float32, numpy=2000.0>,\n",
       " <tf.Variable 'warmup_A_scale_1_-1:0' shape=() dtype=float32, numpy=500.0>,\n",
       " <tf.Variable 'warmup_A_loc_2_-1:0' shape=() dtype=float32, numpy=2000.0>,\n",
       " <tf.Variable 'warmup_A_scale_2_-1:0' shape=() dtype=float32, numpy=500.0>]"
      ]
     },
     "execution_count": 141,
     "metadata": {},
     "output_type": "execute_result"
    }
   ],
   "source": [
    "model.variables"
   ]
  },
  {
   "cell_type": "code",
   "execution_count": 142,
   "id": "11dc1431",
   "metadata": {},
   "outputs": [],
   "source": [
    "warmup_variable_idx = -6\n",
    "model_variables = model.variables[:warmup_variable_idx]\n",
    "assert all(['warmup' not in variable.name for variable in model_variables])\n",
    "warmup_variables = model.variables[warmup_variable_idx:]\n",
    "assert all(['warmup' in variable.name for variable in warmup_variables])"
   ]
  },
  {
   "cell_type": "code",
   "execution_count": null,
   "id": "446805a6",
   "metadata": {},
   "outputs": [],
   "source": []
  },
  {
   "cell_type": "code",
   "execution_count": null,
   "id": "3a96c2ac",
   "metadata": {},
   "outputs": [],
   "source": []
  },
  {
   "cell_type": "code",
   "execution_count": 143,
   "id": "87a9c09d",
   "metadata": {},
   "outputs": [],
   "source": [
    "loss = LogPoissonProb() \n",
    "optimizer = tf.keras.optimizers.SGD(\n",
    "    learning_rate=0.001,# beta_1=0.1, beta_2=0.1\n",
    ")"
   ]
  },
  {
   "cell_type": "code",
   "execution_count": 144,
   "id": "423d66f9",
   "metadata": {},
   "outputs": [
    {
     "name": "stderr",
     "output_type": "stream",
     "text": [
      "2021-12-06 13:02:32.383183: I tensorflow/core/profiler/lib/profiler_session.cc:131] Profiler session initializing.\n",
      "2021-12-06 13:02:32.383213: I tensorflow/core/profiler/lib/profiler_session.cc:146] Profiler session started.\n",
      "2021-12-06 13:02:32.383285: E tensorflow/core/profiler/internal/gpu/cupti_tracer.cc:1666] function cupti_interface_->Subscribe( &subscriber_, (CUpti_CallbackFunc)ApiCallback, this)failed with error CUPTI could not be loaded or symbol could not be found.\n",
      "2021-12-06 13:02:32.383492: I tensorflow/core/profiler/lib/profiler_session.cc:164] Profiler session tear down.\n",
      "2021-12-06 13:02:32.383541: E tensorflow/core/profiler/internal/gpu/cupti_tracer.cc:1757] function cupti_interface_->Finalize()failed with error CUPTI could not be loaded or symbol could not be found.\n"
     ]
    }
   ],
   "source": [
    "logging_callbacks = get_logging_callbacks('/mnt/c/Users/kheut/logs/covid/bayes_learn_all_custom_01')"
   ]
  },
  {
   "cell_type": "code",
   "execution_count": 145,
   "id": "a399e440",
   "metadata": {},
   "outputs": [
    {
     "name": "stdout",
     "output_type": "stream",
     "text": [
      "WARNING:tensorflow:Gradients do not exist for variables ['lambda_M_loc_-1:0', 'lambda_M_scale_-1:0'] when minimizing the loss.\n",
      "WARNING:tensorflow:Gradients do not exist for variables ['lambda_M_loc_-1:0', 'lambda_M_scale_-1:0'] when minimizing the loss.\n",
      "WARNING:tensorflow:Gradients do not exist for variables ['lambda_M_loc_-1:0', 'lambda_M_scale_-1:0'] when minimizing the loss.\n",
      "WARNING:tensorflow:Gradients do not exist for variables ['lambda_M_loc_-1:0', 'lambda_M_scale_-1:0'] when minimizing the loss.\n",
      "WARNING:tensorflow:Gradients do not exist for variables ['lambda_M_loc_-1:0', 'lambda_M_scale_-1:0'] when minimizing the loss.\n",
      "WARNING:tensorflow:Gradients do not exist for variables ['lambda_M_loc_-1:0', 'lambda_M_scale_-1:0'] when minimizing the loss.\n",
      "WARNING:tensorflow:Gradients do not exist for variables ['lambda_M_loc_-1:0', 'lambda_M_scale_-1:0'] when minimizing the loss.\n",
      "WARNING:tensorflow:Gradients do not exist for variables ['lambda_M_loc_-1:0', 'lambda_M_scale_-1:0'] when minimizing the loss.\n",
      "WARNING:tensorflow:Gradients do not exist for variables ['lambda_M_loc_-1:0', 'lambda_M_scale_-1:0'] when minimizing the loss.\n",
      "WARNING:tensorflow:Gradients do not exist for variables ['lambda_M_loc_-1:0', 'lambda_M_scale_-1:0'] when minimizing the loss.\n",
      "WARNING:tensorflow:Gradients do not exist for variables ['lambda_M_loc_-1:0', 'lambda_M_scale_-1:0'] when minimizing the loss.\n",
      "WARNING:tensorflow:Gradients do not exist for variables ['lambda_M_loc_-1:0', 'lambda_M_scale_-1:0'] when minimizing the loss.\n",
      "WARNING:tensorflow:Gradients do not exist for variables ['lambda_M_loc_-1:0', 'lambda_M_scale_-1:0'] when minimizing the loss.\n",
      "WARNING:tensorflow:Gradients do not exist for variables ['lambda_M_loc_-1:0', 'lambda_M_scale_-1:0'] when minimizing the loss.\n",
      "WARNING:tensorflow:Gradients do not exist for variables ['lambda_M_loc_-1:0', 'lambda_M_scale_-1:0'] when minimizing the loss.\n",
      "WARNING:tensorflow:Gradients do not exist for variables ['lambda_M_loc_-1:0', 'lambda_M_scale_-1:0'] when minimizing the loss.\n",
      "WARNING:tensorflow:Gradients do not exist for variables ['lambda_M_loc_-1:0', 'lambda_M_scale_-1:0'] when minimizing the loss.\n",
      "WARNING:tensorflow:Gradients do not exist for variables ['lambda_M_loc_-1:0', 'lambda_M_scale_-1:0'] when minimizing the loss.\n",
      "WARNING:tensorflow:Gradients do not exist for variables ['lambda_M_loc_-1:0', 'lambda_M_scale_-1:0'] when minimizing the loss.\n",
      "WARNING:tensorflow:Gradients do not exist for variables ['lambda_M_loc_-1:0', 'lambda_M_scale_-1:0'] when minimizing the loss.\n",
      "WARNING:tensorflow:Gradients do not exist for variables ['lambda_M_loc_-1:0', 'lambda_M_scale_-1:0'] when minimizing the loss.\n",
      "WARNING:tensorflow:Gradients do not exist for variables ['lambda_M_loc_-1:0', 'lambda_M_scale_-1:0'] when minimizing the loss.\n",
      "WARNING:tensorflow:Gradients do not exist for variables ['lambda_M_loc_-1:0', 'lambda_M_scale_-1:0'] when minimizing the loss.\n",
      "WARNING:tensorflow:Gradients do not exist for variables ['lambda_M_loc_-1:0', 'lambda_M_scale_-1:0'] when minimizing the loss.\n",
      "WARNING:tensorflow:Gradients do not exist for variables ['lambda_M_loc_-1:0', 'lambda_M_scale_-1:0'] when minimizing the loss.\n",
      "WARNING:tensorflow:Gradients do not exist for variables ['lambda_M_loc_-1:0', 'lambda_M_scale_-1:0'] when minimizing the loss.\n",
      "WARNING:tensorflow:Gradients do not exist for variables ['lambda_M_loc_-1:0', 'lambda_M_scale_-1:0'] when minimizing the loss.\n",
      "WARNING:tensorflow:Gradients do not exist for variables ['lambda_M_loc_-1:0', 'lambda_M_scale_-1:0'] when minimizing the loss.\n",
      "WARNING:tensorflow:Gradients do not exist for variables ['lambda_M_loc_-1:0', 'lambda_M_scale_-1:0'] when minimizing the loss.\n",
      "WARNING:tensorflow:Gradients do not exist for variables ['lambda_M_loc_-1:0', 'lambda_M_scale_-1:0'] when minimizing the loss.\n",
      "WARNING:tensorflow:Gradients do not exist for variables ['lambda_M_loc_-1:0', 'lambda_M_scale_-1:0'] when minimizing the loss.\n",
      "WARNING:tensorflow:Gradients do not exist for variables ['lambda_M_loc_-1:0', 'lambda_M_scale_-1:0'] when minimizing the loss.\n",
      "WARNING:tensorflow:Gradients do not exist for variables ['lambda_M_loc_-1:0', 'lambda_M_scale_-1:0'] when minimizing the loss.\n",
      "WARNING:tensorflow:Gradients do not exist for variables ['lambda_M_loc_-1:0', 'lambda_M_scale_-1:0'] when minimizing the loss.\n",
      "WARNING:tensorflow:Gradients do not exist for variables ['lambda_M_loc_-1:0', 'lambda_M_scale_-1:0'] when minimizing the loss.\n",
      "WARNING:tensorflow:Gradients do not exist for variables ['lambda_M_loc_-1:0', 'lambda_M_scale_-1:0'] when minimizing the loss.\n",
      "WARNING:tensorflow:Gradients do not exist for variables ['lambda_M_loc_-1:0', 'lambda_M_scale_-1:0'] when minimizing the loss.\n",
      "WARNING:tensorflow:Gradients do not exist for variables ['lambda_M_loc_-1:0', 'lambda_M_scale_-1:0'] when minimizing the loss.\n",
      "WARNING:tensorflow:Gradients do not exist for variables ['lambda_M_loc_-1:0', 'lambda_M_scale_-1:0'] when minimizing the loss.\n",
      "WARNING:tensorflow:Gradients do not exist for variables ['lambda_M_loc_-1:0', 'lambda_M_scale_-1:0'] when minimizing the loss.\n",
      "WARNING:tensorflow:Gradients do not exist for variables ['lambda_M_loc_-1:0', 'lambda_M_scale_-1:0'] when minimizing the loss.\n",
      "WARNING:tensorflow:Gradients do not exist for variables ['lambda_M_loc_-1:0', 'lambda_M_scale_-1:0'] when minimizing the loss.\n",
      "WARNING:tensorflow:Gradients do not exist for variables ['lambda_M_loc_-1:0', 'lambda_M_scale_-1:0'] when minimizing the loss.\n",
      "WARNING:tensorflow:Gradients do not exist for variables ['lambda_M_loc_-1:0', 'lambda_M_scale_-1:0'] when minimizing the loss.\n",
      "WARNING:tensorflow:Gradients do not exist for variables ['lambda_M_loc_-1:0', 'lambda_M_scale_-1:0'] when minimizing the loss.\n",
      "WARNING:tensorflow:Gradients do not exist for variables ['lambda_M_loc_-1:0', 'lambda_M_scale_-1:0'] when minimizing the loss.\n",
      "WARNING:tensorflow:Gradients do not exist for variables ['lambda_M_loc_-1:0', 'lambda_M_scale_-1:0'] when minimizing the loss.\n",
      "WARNING:tensorflow:Gradients do not exist for variables ['lambda_M_loc_-1:0', 'lambda_M_scale_-1:0'] when minimizing the loss.\n",
      "WARNING:tensorflow:Gradients do not exist for variables ['lambda_M_loc_-1:0', 'lambda_M_scale_-1:0'] when minimizing the loss.\n",
      "WARNING:tensorflow:Gradients do not exist for variables ['lambda_M_loc_-1:0', 'lambda_M_scale_-1:0'] when minimizing the loss.\n",
      "WARNING:tensorflow:Gradients do not exist for variables ['lambda_M_loc_-1:0', 'lambda_M_scale_-1:0'] when minimizing the loss.\n",
      "WARNING:tensorflow:Gradients do not exist for variables ['lambda_M_loc_-1:0', 'lambda_M_scale_-1:0'] when minimizing the loss.\n",
      "WARNING:tensorflow:Gradients do not exist for variables ['lambda_M_loc_-1:0', 'lambda_M_scale_-1:0'] when minimizing the loss.\n",
      "WARNING:tensorflow:Gradients do not exist for variables ['lambda_M_loc_-1:0', 'lambda_M_scale_-1:0'] when minimizing the loss.\n",
      "WARNING:tensorflow:Gradients do not exist for variables ['lambda_M_loc_-1:0', 'lambda_M_scale_-1:0'] when minimizing the loss.\n",
      "WARNING:tensorflow:Gradients do not exist for variables ['lambda_M_loc_-1:0', 'lambda_M_scale_-1:0'] when minimizing the loss.\n",
      "WARNING:tensorflow:Gradients do not exist for variables ['lambda_M_loc_-1:0', 'lambda_M_scale_-1:0'] when minimizing the loss.\n",
      "WARNING:tensorflow:Gradients do not exist for variables ['lambda_M_loc_-1:0', 'lambda_M_scale_-1:0'] when minimizing the loss.\n",
      "WARNING:tensorflow:Gradients do not exist for variables ['lambda_M_loc_-1:0', 'lambda_M_scale_-1:0'] when minimizing the loss.\n",
      "WARNING:tensorflow:Gradients do not exist for variables ['lambda_M_loc_-1:0', 'lambda_M_scale_-1:0'] when minimizing the loss.\n",
      "WARNING:tensorflow:Gradients do not exist for variables ['lambda_M_loc_-1:0', 'lambda_M_scale_-1:0'] when minimizing the loss.\n",
      "WARNING:tensorflow:Gradients do not exist for variables ['lambda_M_loc_-1:0', 'lambda_M_scale_-1:0'] when minimizing the loss.\n",
      "WARNING:tensorflow:Gradients do not exist for variables ['lambda_M_loc_-1:0', 'lambda_M_scale_-1:0'] when minimizing the loss.\n",
      "WARNING:tensorflow:Gradients do not exist for variables ['lambda_M_loc_-1:0', 'lambda_M_scale_-1:0'] when minimizing the loss.\n",
      "WARNING:tensorflow:Gradients do not exist for variables ['lambda_M_loc_-1:0', 'lambda_M_scale_-1:0'] when minimizing the loss.\n"
     ]
    },
    {
     "name": "stdout",
     "output_type": "stream",
     "text": [
      "WARNING:tensorflow:Gradients do not exist for variables ['lambda_M_loc_-1:0', 'lambda_M_scale_-1:0'] when minimizing the loss.\n",
      "WARNING:tensorflow:Gradients do not exist for variables ['lambda_M_loc_-1:0', 'lambda_M_scale_-1:0'] when minimizing the loss.\n",
      "WARNING:tensorflow:Gradients do not exist for variables ['lambda_M_loc_-1:0', 'lambda_M_scale_-1:0'] when minimizing the loss.\n",
      "WARNING:tensorflow:Gradients do not exist for variables ['lambda_M_loc_-1:0', 'lambda_M_scale_-1:0'] when minimizing the loss.\n",
      "WARNING:tensorflow:Gradients do not exist for variables ['lambda_M_loc_-1:0', 'lambda_M_scale_-1:0'] when minimizing the loss.\n",
      "WARNING:tensorflow:Gradients do not exist for variables ['lambda_M_loc_-1:0', 'lambda_M_scale_-1:0'] when minimizing the loss.\n",
      "WARNING:tensorflow:Gradients do not exist for variables ['lambda_M_loc_-1:0', 'lambda_M_scale_-1:0'] when minimizing the loss.\n",
      "WARNING:tensorflow:Gradients do not exist for variables ['lambda_M_loc_-1:0', 'lambda_M_scale_-1:0'] when minimizing the loss.\n",
      "WARNING:tensorflow:Gradients do not exist for variables ['lambda_M_loc_-1:0', 'lambda_M_scale_-1:0'] when minimizing the loss.\n",
      "WARNING:tensorflow:Gradients do not exist for variables ['lambda_M_loc_-1:0', 'lambda_M_scale_-1:0'] when minimizing the loss.\n",
      "WARNING:tensorflow:Gradients do not exist for variables ['lambda_M_loc_-1:0', 'lambda_M_scale_-1:0'] when minimizing the loss.\n",
      "WARNING:tensorflow:Gradients do not exist for variables ['lambda_M_loc_-1:0', 'lambda_M_scale_-1:0'] when minimizing the loss.\n",
      "WARNING:tensorflow:Gradients do not exist for variables ['lambda_M_loc_-1:0', 'lambda_M_scale_-1:0'] when minimizing the loss.\n",
      "WARNING:tensorflow:Gradients do not exist for variables ['lambda_M_loc_-1:0', 'lambda_M_scale_-1:0'] when minimizing the loss.\n",
      "WARNING:tensorflow:Gradients do not exist for variables ['lambda_M_loc_-1:0', 'lambda_M_scale_-1:0'] when minimizing the loss.\n",
      "WARNING:tensorflow:Gradients do not exist for variables ['lambda_M_loc_-1:0', 'lambda_M_scale_-1:0'] when minimizing the loss.\n",
      "WARNING:tensorflow:Gradients do not exist for variables ['lambda_M_loc_-1:0', 'lambda_M_scale_-1:0'] when minimizing the loss.\n",
      "WARNING:tensorflow:Gradients do not exist for variables ['lambda_M_loc_-1:0', 'lambda_M_scale_-1:0'] when minimizing the loss.\n",
      "WARNING:tensorflow:Gradients do not exist for variables ['lambda_M_loc_-1:0', 'lambda_M_scale_-1:0'] when minimizing the loss.\n",
      "WARNING:tensorflow:Gradients do not exist for variables ['lambda_M_loc_-1:0', 'lambda_M_scale_-1:0'] when minimizing the loss.\n",
      "WARNING:tensorflow:Gradients do not exist for variables ['lambda_M_loc_-1:0', 'lambda_M_scale_-1:0'] when minimizing the loss.\n",
      "WARNING:tensorflow:Gradients do not exist for variables ['lambda_M_loc_-1:0', 'lambda_M_scale_-1:0'] when minimizing the loss.\n",
      "WARNING:tensorflow:Gradients do not exist for variables ['lambda_M_loc_-1:0', 'lambda_M_scale_-1:0'] when minimizing the loss.\n",
      "WARNING:tensorflow:Gradients do not exist for variables ['lambda_M_loc_-1:0', 'lambda_M_scale_-1:0'] when minimizing the loss.\n",
      "WARNING:tensorflow:Gradients do not exist for variables ['lambda_M_loc_-1:0', 'lambda_M_scale_-1:0'] when minimizing the loss.\n",
      "WARNING:tensorflow:Gradients do not exist for variables ['lambda_M_loc_-1:0', 'lambda_M_scale_-1:0'] when minimizing the loss.\n",
      "WARNING:tensorflow:Gradients do not exist for variables ['lambda_M_loc_-1:0', 'lambda_M_scale_-1:0'] when minimizing the loss.\n",
      "WARNING:tensorflow:Gradients do not exist for variables ['lambda_M_loc_-1:0', 'lambda_M_scale_-1:0'] when minimizing the loss.\n",
      "WARNING:tensorflow:Gradients do not exist for variables ['lambda_M_loc_-1:0', 'lambda_M_scale_-1:0'] when minimizing the loss.\n",
      "WARNING:tensorflow:Gradients do not exist for variables ['lambda_M_loc_-1:0', 'lambda_M_scale_-1:0'] when minimizing the loss.\n",
      "WARNING:tensorflow:Gradients do not exist for variables ['lambda_M_loc_-1:0', 'lambda_M_scale_-1:0'] when minimizing the loss.\n",
      "WARNING:tensorflow:Gradients do not exist for variables ['lambda_M_loc_-1:0', 'lambda_M_scale_-1:0'] when minimizing the loss.\n",
      "WARNING:tensorflow:Gradients do not exist for variables ['lambda_M_loc_-1:0', 'lambda_M_scale_-1:0'] when minimizing the loss.\n",
      "WARNING:tensorflow:Gradients do not exist for variables ['lambda_M_loc_-1:0', 'lambda_M_scale_-1:0'] when minimizing the loss.\n",
      "WARNING:tensorflow:Gradients do not exist for variables ['lambda_M_loc_-1:0', 'lambda_M_scale_-1:0'] when minimizing the loss.\n",
      "WARNING:tensorflow:Gradients do not exist for variables ['lambda_M_loc_-1:0', 'lambda_M_scale_-1:0'] when minimizing the loss.\n",
      "WARNING:tensorflow:Gradients do not exist for variables ['lambda_M_loc_-1:0', 'lambda_M_scale_-1:0'] when minimizing the loss.\n",
      "WARNING:tensorflow:Gradients do not exist for variables ['lambda_M_loc_-1:0', 'lambda_M_scale_-1:0'] when minimizing the loss.\n",
      "WARNING:tensorflow:Gradients do not exist for variables ['lambda_M_loc_-1:0', 'lambda_M_scale_-1:0'] when minimizing the loss.\n",
      "WARNING:tensorflow:Gradients do not exist for variables ['lambda_M_loc_-1:0', 'lambda_M_scale_-1:0'] when minimizing the loss.\n",
      "WARNING:tensorflow:Gradients do not exist for variables ['lambda_M_loc_-1:0', 'lambda_M_scale_-1:0'] when minimizing the loss.\n",
      "WARNING:tensorflow:Gradients do not exist for variables ['lambda_M_loc_-1:0', 'lambda_M_scale_-1:0'] when minimizing the loss.\n",
      "WARNING:tensorflow:Gradients do not exist for variables ['lambda_M_loc_-1:0', 'lambda_M_scale_-1:0'] when minimizing the loss.\n",
      "WARNING:tensorflow:Gradients do not exist for variables ['lambda_M_loc_-1:0', 'lambda_M_scale_-1:0'] when minimizing the loss.\n",
      "WARNING:tensorflow:Gradients do not exist for variables ['lambda_M_loc_-1:0', 'lambda_M_scale_-1:0'] when minimizing the loss.\n",
      "WARNING:tensorflow:Gradients do not exist for variables ['lambda_M_loc_-1:0', 'lambda_M_scale_-1:0'] when minimizing the loss.\n",
      "WARNING:tensorflow:Gradients do not exist for variables ['lambda_M_loc_-1:0', 'lambda_M_scale_-1:0'] when minimizing the loss.\n",
      "WARNING:tensorflow:Gradients do not exist for variables ['lambda_M_loc_-1:0', 'lambda_M_scale_-1:0'] when minimizing the loss.\n",
      "WARNING:tensorflow:Gradients do not exist for variables ['lambda_M_loc_-1:0', 'lambda_M_scale_-1:0'] when minimizing the loss.\n",
      "WARNING:tensorflow:Gradients do not exist for variables ['lambda_M_loc_-1:0', 'lambda_M_scale_-1:0'] when minimizing the loss.\n",
      "WARNING:tensorflow:Gradients do not exist for variables ['lambda_M_loc_-1:0', 'lambda_M_scale_-1:0'] when minimizing the loss.\n",
      "WARNING:tensorflow:Gradients do not exist for variables ['lambda_M_loc_-1:0', 'lambda_M_scale_-1:0'] when minimizing the loss.\n",
      "WARNING:tensorflow:Gradients do not exist for variables ['lambda_M_loc_-1:0', 'lambda_M_scale_-1:0'] when minimizing the loss.\n",
      "WARNING:tensorflow:Gradients do not exist for variables ['lambda_M_loc_-1:0', 'lambda_M_scale_-1:0'] when minimizing the loss.\n",
      "WARNING:tensorflow:Gradients do not exist for variables ['lambda_M_loc_-1:0', 'lambda_M_scale_-1:0'] when minimizing the loss.\n",
      "WARNING:tensorflow:Gradients do not exist for variables ['lambda_M_loc_-1:0', 'lambda_M_scale_-1:0'] when minimizing the loss.\n",
      "WARNING:tensorflow:Gradients do not exist for variables ['lambda_M_loc_-1:0', 'lambda_M_scale_-1:0'] when minimizing the loss.\n",
      "WARNING:tensorflow:Gradients do not exist for variables ['lambda_M_loc_-1:0', 'lambda_M_scale_-1:0'] when minimizing the loss.\n",
      "WARNING:tensorflow:Gradients do not exist for variables ['lambda_M_loc_-1:0', 'lambda_M_scale_-1:0'] when minimizing the loss.\n",
      "WARNING:tensorflow:Gradients do not exist for variables ['lambda_M_loc_-1:0', 'lambda_M_scale_-1:0'] when minimizing the loss.\n",
      "WARNING:tensorflow:Gradients do not exist for variables ['lambda_M_loc_-1:0', 'lambda_M_scale_-1:0'] when minimizing the loss.\n",
      "WARNING:tensorflow:Gradients do not exist for variables ['lambda_M_loc_-1:0', 'lambda_M_scale_-1:0'] when minimizing the loss.\n",
      "WARNING:tensorflow:Gradients do not exist for variables ['lambda_M_loc_-1:0', 'lambda_M_scale_-1:0'] when minimizing the loss.\n",
      "WARNING:tensorflow:Gradients do not exist for variables ['lambda_M_loc_-1:0', 'lambda_M_scale_-1:0'] when minimizing the loss.\n",
      "WARNING:tensorflow:Gradients do not exist for variables ['lambda_M_loc_-1:0', 'lambda_M_scale_-1:0'] when minimizing the loss.\n"
     ]
    },
    {
     "name": "stdout",
     "output_type": "stream",
     "text": [
      "WARNING:tensorflow:Gradients do not exist for variables ['lambda_M_loc_-1:0', 'lambda_M_scale_-1:0'] when minimizing the loss.\n",
      "WARNING:tensorflow:Gradients do not exist for variables ['lambda_M_loc_-1:0', 'lambda_M_scale_-1:0'] when minimizing the loss.\n",
      "WARNING:tensorflow:Gradients do not exist for variables ['lambda_M_loc_-1:0', 'lambda_M_scale_-1:0'] when minimizing the loss.\n",
      "WARNING:tensorflow:Gradients do not exist for variables ['lambda_M_loc_-1:0', 'lambda_M_scale_-1:0'] when minimizing the loss.\n",
      "WARNING:tensorflow:Gradients do not exist for variables ['lambda_M_loc_-1:0', 'lambda_M_scale_-1:0'] when minimizing the loss.\n",
      "WARNING:tensorflow:Gradients do not exist for variables ['lambda_M_loc_-1:0', 'lambda_M_scale_-1:0'] when minimizing the loss.\n",
      "WARNING:tensorflow:Gradients do not exist for variables ['lambda_M_loc_-1:0', 'lambda_M_scale_-1:0'] when minimizing the loss.\n",
      "WARNING:tensorflow:Gradients do not exist for variables ['lambda_M_loc_-1:0', 'lambda_M_scale_-1:0'] when minimizing the loss.\n",
      "WARNING:tensorflow:Gradients do not exist for variables ['lambda_M_loc_-1:0', 'lambda_M_scale_-1:0'] when minimizing the loss.\n",
      "WARNING:tensorflow:Gradients do not exist for variables ['lambda_M_loc_-1:0', 'lambda_M_scale_-1:0'] when minimizing the loss.\n",
      "WARNING:tensorflow:Gradients do not exist for variables ['lambda_M_loc_-1:0', 'lambda_M_scale_-1:0'] when minimizing the loss.\n",
      "WARNING:tensorflow:Gradients do not exist for variables ['lambda_M_loc_-1:0', 'lambda_M_scale_-1:0'] when minimizing the loss.\n",
      "WARNING:tensorflow:Gradients do not exist for variables ['lambda_M_loc_-1:0', 'lambda_M_scale_-1:0'] when minimizing the loss.\n",
      "WARNING:tensorflow:Gradients do not exist for variables ['lambda_M_loc_-1:0', 'lambda_M_scale_-1:0'] when minimizing the loss.\n",
      "WARNING:tensorflow:Gradients do not exist for variables ['lambda_M_loc_-1:0', 'lambda_M_scale_-1:0'] when minimizing the loss.\n",
      "WARNING:tensorflow:Gradients do not exist for variables ['lambda_M_loc_-1:0', 'lambda_M_scale_-1:0'] when minimizing the loss.\n",
      "WARNING:tensorflow:Gradients do not exist for variables ['lambda_M_loc_-1:0', 'lambda_M_scale_-1:0'] when minimizing the loss.\n",
      "WARNING:tensorflow:Gradients do not exist for variables ['lambda_M_loc_-1:0', 'lambda_M_scale_-1:0'] when minimizing the loss.\n",
      "WARNING:tensorflow:Gradients do not exist for variables ['lambda_M_loc_-1:0', 'lambda_M_scale_-1:0'] when minimizing the loss.\n",
      "WARNING:tensorflow:Gradients do not exist for variables ['lambda_M_loc_-1:0', 'lambda_M_scale_-1:0'] when minimizing the loss.\n",
      "WARNING:tensorflow:Gradients do not exist for variables ['lambda_M_loc_-1:0', 'lambda_M_scale_-1:0'] when minimizing the loss.\n",
      "WARNING:tensorflow:Gradients do not exist for variables ['lambda_M_loc_-1:0', 'lambda_M_scale_-1:0'] when minimizing the loss.\n",
      "WARNING:tensorflow:Gradients do not exist for variables ['lambda_M_loc_-1:0', 'lambda_M_scale_-1:0'] when minimizing the loss.\n",
      "WARNING:tensorflow:Gradients do not exist for variables ['lambda_M_loc_-1:0', 'lambda_M_scale_-1:0'] when minimizing the loss.\n",
      "WARNING:tensorflow:Gradients do not exist for variables ['lambda_M_loc_-1:0', 'lambda_M_scale_-1:0'] when minimizing the loss.\n",
      "WARNING:tensorflow:Gradients do not exist for variables ['lambda_M_loc_-1:0', 'lambda_M_scale_-1:0'] when minimizing the loss.\n",
      "WARNING:tensorflow:Gradients do not exist for variables ['lambda_M_loc_-1:0', 'lambda_M_scale_-1:0'] when minimizing the loss.\n",
      "WARNING:tensorflow:Gradients do not exist for variables ['lambda_M_loc_-1:0', 'lambda_M_scale_-1:0'] when minimizing the loss.\n",
      "WARNING:tensorflow:Gradients do not exist for variables ['lambda_M_loc_-1:0', 'lambda_M_scale_-1:0'] when minimizing the loss.\n",
      "WARNING:tensorflow:Gradients do not exist for variables ['lambda_M_loc_-1:0', 'lambda_M_scale_-1:0'] when minimizing the loss.\n",
      "WARNING:tensorflow:Gradients do not exist for variables ['lambda_M_loc_-1:0', 'lambda_M_scale_-1:0'] when minimizing the loss.\n",
      "WARNING:tensorflow:Gradients do not exist for variables ['lambda_M_loc_-1:0', 'lambda_M_scale_-1:0'] when minimizing the loss.\n",
      "WARNING:tensorflow:Gradients do not exist for variables ['lambda_M_loc_-1:0', 'lambda_M_scale_-1:0'] when minimizing the loss.\n",
      "WARNING:tensorflow:Gradients do not exist for variables ['lambda_M_loc_-1:0', 'lambda_M_scale_-1:0'] when minimizing the loss.\n",
      "WARNING:tensorflow:Gradients do not exist for variables ['lambda_M_loc_-1:0', 'lambda_M_scale_-1:0'] when minimizing the loss.\n",
      "WARNING:tensorflow:Gradients do not exist for variables ['lambda_M_loc_-1:0', 'lambda_M_scale_-1:0'] when minimizing the loss.\n",
      "WARNING:tensorflow:Gradients do not exist for variables ['lambda_M_loc_-1:0', 'lambda_M_scale_-1:0'] when minimizing the loss.\n",
      "WARNING:tensorflow:Gradients do not exist for variables ['lambda_M_loc_-1:0', 'lambda_M_scale_-1:0'] when minimizing the loss.\n",
      "WARNING:tensorflow:Gradients do not exist for variables ['lambda_M_loc_-1:0', 'lambda_M_scale_-1:0'] when minimizing the loss.\n",
      "WARNING:tensorflow:Gradients do not exist for variables ['lambda_M_loc_-1:0', 'lambda_M_scale_-1:0'] when minimizing the loss.\n",
      "WARNING:tensorflow:Gradients do not exist for variables ['lambda_M_loc_-1:0', 'lambda_M_scale_-1:0'] when minimizing the loss.\n",
      "WARNING:tensorflow:Gradients do not exist for variables ['lambda_M_loc_-1:0', 'lambda_M_scale_-1:0'] when minimizing the loss.\n",
      "WARNING:tensorflow:Gradients do not exist for variables ['lambda_M_loc_-1:0', 'lambda_M_scale_-1:0'] when minimizing the loss.\n",
      "WARNING:tensorflow:Gradients do not exist for variables ['lambda_M_loc_-1:0', 'lambda_M_scale_-1:0'] when minimizing the loss.\n",
      "WARNING:tensorflow:Gradients do not exist for variables ['lambda_M_loc_-1:0', 'lambda_M_scale_-1:0'] when minimizing the loss.\n",
      "WARNING:tensorflow:Gradients do not exist for variables ['lambda_M_loc_-1:0', 'lambda_M_scale_-1:0'] when minimizing the loss.\n",
      "WARNING:tensorflow:Gradients do not exist for variables ['lambda_M_loc_-1:0', 'lambda_M_scale_-1:0'] when minimizing the loss.\n",
      "WARNING:tensorflow:Gradients do not exist for variables ['lambda_M_loc_-1:0', 'lambda_M_scale_-1:0'] when minimizing the loss.\n",
      "WARNING:tensorflow:Gradients do not exist for variables ['lambda_M_loc_-1:0', 'lambda_M_scale_-1:0'] when minimizing the loss.\n",
      "WARNING:tensorflow:Gradients do not exist for variables ['lambda_M_loc_-1:0', 'lambda_M_scale_-1:0'] when minimizing the loss.\n",
      "WARNING:tensorflow:Gradients do not exist for variables ['lambda_M_loc_-1:0', 'lambda_M_scale_-1:0'] when minimizing the loss.\n",
      "WARNING:tensorflow:Gradients do not exist for variables ['lambda_M_loc_-1:0', 'lambda_M_scale_-1:0'] when minimizing the loss.\n",
      "WARNING:tensorflow:Gradients do not exist for variables ['lambda_M_loc_-1:0', 'lambda_M_scale_-1:0'] when minimizing the loss.\n",
      "WARNING:tensorflow:Gradients do not exist for variables ['lambda_M_loc_-1:0', 'lambda_M_scale_-1:0'] when minimizing the loss.\n",
      "WARNING:tensorflow:Gradients do not exist for variables ['lambda_M_loc_-1:0', 'lambda_M_scale_-1:0'] when minimizing the loss.\n",
      "WARNING:tensorflow:Gradients do not exist for variables ['lambda_M_loc_-1:0', 'lambda_M_scale_-1:0'] when minimizing the loss.\n",
      "WARNING:tensorflow:Gradients do not exist for variables ['lambda_M_loc_-1:0', 'lambda_M_scale_-1:0'] when minimizing the loss.\n",
      "WARNING:tensorflow:Gradients do not exist for variables ['lambda_M_loc_-1:0', 'lambda_M_scale_-1:0'] when minimizing the loss.\n",
      "WARNING:tensorflow:Gradients do not exist for variables ['lambda_M_loc_-1:0', 'lambda_M_scale_-1:0'] when minimizing the loss.\n",
      "WARNING:tensorflow:Gradients do not exist for variables ['lambda_M_loc_-1:0', 'lambda_M_scale_-1:0'] when minimizing the loss.\n",
      "WARNING:tensorflow:Gradients do not exist for variables ['lambda_M_loc_-1:0', 'lambda_M_scale_-1:0'] when minimizing the loss.\n",
      "WARNING:tensorflow:Gradients do not exist for variables ['lambda_M_loc_-1:0', 'lambda_M_scale_-1:0'] when minimizing the loss.\n",
      "WARNING:tensorflow:Gradients do not exist for variables ['lambda_M_loc_-1:0', 'lambda_M_scale_-1:0'] when minimizing the loss.\n",
      "WARNING:tensorflow:Gradients do not exist for variables ['lambda_M_loc_-1:0', 'lambda_M_scale_-1:0'] when minimizing the loss.\n",
      "WARNING:tensorflow:Gradients do not exist for variables ['lambda_M_loc_-1:0', 'lambda_M_scale_-1:0'] when minimizing the loss.\n"
     ]
    },
    {
     "name": "stdout",
     "output_type": "stream",
     "text": [
      "WARNING:tensorflow:Gradients do not exist for variables ['lambda_M_loc_-1:0', 'lambda_M_scale_-1:0'] when minimizing the loss.\n",
      "WARNING:tensorflow:Gradients do not exist for variables ['lambda_M_loc_-1:0', 'lambda_M_scale_-1:0'] when minimizing the loss.\n",
      "WARNING:tensorflow:Gradients do not exist for variables ['lambda_M_loc_-1:0', 'lambda_M_scale_-1:0'] when minimizing the loss.\n",
      "WARNING:tensorflow:Gradients do not exist for variables ['lambda_M_loc_-1:0', 'lambda_M_scale_-1:0'] when minimizing the loss.\n",
      "WARNING:tensorflow:Gradients do not exist for variables ['lambda_M_loc_-1:0', 'lambda_M_scale_-1:0'] when minimizing the loss.\n",
      "WARNING:tensorflow:Gradients do not exist for variables ['lambda_M_loc_-1:0', 'lambda_M_scale_-1:0'] when minimizing the loss.\n",
      "WARNING:tensorflow:Gradients do not exist for variables ['lambda_M_loc_-1:0', 'lambda_M_scale_-1:0'] when minimizing the loss.\n",
      "WARNING:tensorflow:Gradients do not exist for variables ['lambda_M_loc_-1:0', 'lambda_M_scale_-1:0'] when minimizing the loss.\n",
      "WARNING:tensorflow:Gradients do not exist for variables ['lambda_M_loc_-1:0', 'lambda_M_scale_-1:0'] when minimizing the loss.\n",
      "WARNING:tensorflow:Gradients do not exist for variables ['lambda_M_loc_-1:0', 'lambda_M_scale_-1:0'] when minimizing the loss.\n",
      "WARNING:tensorflow:Gradients do not exist for variables ['lambda_M_loc_-1:0', 'lambda_M_scale_-1:0'] when minimizing the loss.\n",
      "WARNING:tensorflow:Gradients do not exist for variables ['lambda_M_loc_-1:0', 'lambda_M_scale_-1:0'] when minimizing the loss.\n",
      "WARNING:tensorflow:Gradients do not exist for variables ['lambda_M_loc_-1:0', 'lambda_M_scale_-1:0'] when minimizing the loss.\n",
      "WARNING:tensorflow:Gradients do not exist for variables ['lambda_M_loc_-1:0', 'lambda_M_scale_-1:0'] when minimizing the loss.\n",
      "WARNING:tensorflow:Gradients do not exist for variables ['lambda_M_loc_-1:0', 'lambda_M_scale_-1:0'] when minimizing the loss.\n",
      "WARNING:tensorflow:Gradients do not exist for variables ['lambda_M_loc_-1:0', 'lambda_M_scale_-1:0'] when minimizing the loss.\n",
      "WARNING:tensorflow:Gradients do not exist for variables ['lambda_M_loc_-1:0', 'lambda_M_scale_-1:0'] when minimizing the loss.\n",
      "WARNING:tensorflow:Gradients do not exist for variables ['lambda_M_loc_-1:0', 'lambda_M_scale_-1:0'] when minimizing the loss.\n",
      "WARNING:tensorflow:Gradients do not exist for variables ['lambda_M_loc_-1:0', 'lambda_M_scale_-1:0'] when minimizing the loss.\n",
      "WARNING:tensorflow:Gradients do not exist for variables ['lambda_M_loc_-1:0', 'lambda_M_scale_-1:0'] when minimizing the loss.\n",
      "WARNING:tensorflow:Gradients do not exist for variables ['lambda_M_loc_-1:0', 'lambda_M_scale_-1:0'] when minimizing the loss.\n",
      "WARNING:tensorflow:Gradients do not exist for variables ['lambda_M_loc_-1:0', 'lambda_M_scale_-1:0'] when minimizing the loss.\n",
      "WARNING:tensorflow:Gradients do not exist for variables ['lambda_M_loc_-1:0', 'lambda_M_scale_-1:0'] when minimizing the loss.\n",
      "WARNING:tensorflow:Gradients do not exist for variables ['lambda_M_loc_-1:0', 'lambda_M_scale_-1:0'] when minimizing the loss.\n",
      "WARNING:tensorflow:Gradients do not exist for variables ['lambda_M_loc_-1:0', 'lambda_M_scale_-1:0'] when minimizing the loss.\n",
      "WARNING:tensorflow:Gradients do not exist for variables ['lambda_M_loc_-1:0', 'lambda_M_scale_-1:0'] when minimizing the loss.\n",
      "WARNING:tensorflow:Gradients do not exist for variables ['lambda_M_loc_-1:0', 'lambda_M_scale_-1:0'] when minimizing the loss.\n",
      "WARNING:tensorflow:Gradients do not exist for variables ['lambda_M_loc_-1:0', 'lambda_M_scale_-1:0'] when minimizing the loss.\n",
      "WARNING:tensorflow:Gradients do not exist for variables ['lambda_M_loc_-1:0', 'lambda_M_scale_-1:0'] when minimizing the loss.\n",
      "WARNING:tensorflow:Gradients do not exist for variables ['lambda_M_loc_-1:0', 'lambda_M_scale_-1:0'] when minimizing the loss.\n",
      "WARNING:tensorflow:Gradients do not exist for variables ['lambda_M_loc_-1:0', 'lambda_M_scale_-1:0'] when minimizing the loss.\n",
      "WARNING:tensorflow:Gradients do not exist for variables ['lambda_M_loc_-1:0', 'lambda_M_scale_-1:0'] when minimizing the loss.\n",
      "WARNING:tensorflow:Gradients do not exist for variables ['lambda_M_loc_-1:0', 'lambda_M_scale_-1:0'] when minimizing the loss.\n",
      "WARNING:tensorflow:Gradients do not exist for variables ['lambda_M_loc_-1:0', 'lambda_M_scale_-1:0'] when minimizing the loss.\n",
      "WARNING:tensorflow:Gradients do not exist for variables ['lambda_M_loc_-1:0', 'lambda_M_scale_-1:0'] when minimizing the loss.\n",
      "WARNING:tensorflow:Gradients do not exist for variables ['lambda_M_loc_-1:0', 'lambda_M_scale_-1:0'] when minimizing the loss.\n",
      "WARNING:tensorflow:Gradients do not exist for variables ['lambda_M_loc_-1:0', 'lambda_M_scale_-1:0'] when minimizing the loss.\n",
      "WARNING:tensorflow:Gradients do not exist for variables ['lambda_M_loc_-1:0', 'lambda_M_scale_-1:0'] when minimizing the loss.\n",
      "WARNING:tensorflow:Gradients do not exist for variables ['lambda_M_loc_-1:0', 'lambda_M_scale_-1:0'] when minimizing the loss.\n",
      "WARNING:tensorflow:Gradients do not exist for variables ['lambda_M_loc_-1:0', 'lambda_M_scale_-1:0'] when minimizing the loss.\n",
      "WARNING:tensorflow:Gradients do not exist for variables ['lambda_M_loc_-1:0', 'lambda_M_scale_-1:0'] when minimizing the loss.\n",
      "WARNING:tensorflow:Gradients do not exist for variables ['lambda_M_loc_-1:0', 'lambda_M_scale_-1:0'] when minimizing the loss.\n",
      "WARNING:tensorflow:Gradients do not exist for variables ['lambda_M_loc_-1:0', 'lambda_M_scale_-1:0'] when minimizing the loss.\n",
      "WARNING:tensorflow:Gradients do not exist for variables ['lambda_M_loc_-1:0', 'lambda_M_scale_-1:0'] when minimizing the loss.\n",
      "WARNING:tensorflow:Gradients do not exist for variables ['lambda_M_loc_-1:0', 'lambda_M_scale_-1:0'] when minimizing the loss.\n",
      "WARNING:tensorflow:Gradients do not exist for variables ['lambda_M_loc_-1:0', 'lambda_M_scale_-1:0'] when minimizing the loss.\n",
      "WARNING:tensorflow:Gradients do not exist for variables ['lambda_M_loc_-1:0', 'lambda_M_scale_-1:0'] when minimizing the loss.\n",
      "WARNING:tensorflow:Gradients do not exist for variables ['lambda_M_loc_-1:0', 'lambda_M_scale_-1:0'] when minimizing the loss.\n",
      "WARNING:tensorflow:Gradients do not exist for variables ['lambda_M_loc_-1:0', 'lambda_M_scale_-1:0'] when minimizing the loss.\n",
      "WARNING:tensorflow:Gradients do not exist for variables ['lambda_M_loc_-1:0', 'lambda_M_scale_-1:0'] when minimizing the loss.\n",
      "WARNING:tensorflow:Gradients do not exist for variables ['lambda_M_loc_-1:0', 'lambda_M_scale_-1:0'] when minimizing the loss.\n",
      "WARNING:tensorflow:Gradients do not exist for variables ['lambda_M_loc_-1:0', 'lambda_M_scale_-1:0'] when minimizing the loss.\n",
      "WARNING:tensorflow:Gradients do not exist for variables ['lambda_M_loc_-1:0', 'lambda_M_scale_-1:0'] when minimizing the loss.\n",
      "WARNING:tensorflow:Gradients do not exist for variables ['lambda_M_loc_-1:0', 'lambda_M_scale_-1:0'] when minimizing the loss.\n",
      "WARNING:tensorflow:Gradients do not exist for variables ['lambda_M_loc_-1:0', 'lambda_M_scale_-1:0'] when minimizing the loss.\n",
      "WARNING:tensorflow:Gradients do not exist for variables ['lambda_M_loc_-1:0', 'lambda_M_scale_-1:0'] when minimizing the loss.\n",
      "WARNING:tensorflow:Gradients do not exist for variables ['lambda_M_loc_-1:0', 'lambda_M_scale_-1:0'] when minimizing the loss.\n",
      "WARNING:tensorflow:Gradients do not exist for variables ['lambda_M_loc_-1:0', 'lambda_M_scale_-1:0'] when minimizing the loss.\n",
      "WARNING:tensorflow:Gradients do not exist for variables ['lambda_M_loc_-1:0', 'lambda_M_scale_-1:0'] when minimizing the loss.\n",
      "WARNING:tensorflow:Gradients do not exist for variables ['lambda_M_loc_-1:0', 'lambda_M_scale_-1:0'] when minimizing the loss.\n",
      "WARNING:tensorflow:Gradients do not exist for variables ['lambda_M_loc_-1:0', 'lambda_M_scale_-1:0'] when minimizing the loss.\n",
      "WARNING:tensorflow:Gradients do not exist for variables ['lambda_M_loc_-1:0', 'lambda_M_scale_-1:0'] when minimizing the loss.\n",
      "WARNING:tensorflow:Gradients do not exist for variables ['lambda_M_loc_-1:0', 'lambda_M_scale_-1:0'] when minimizing the loss.\n",
      "WARNING:tensorflow:Gradients do not exist for variables ['lambda_M_loc_-1:0', 'lambda_M_scale_-1:0'] when minimizing the loss.\n",
      "WARNING:tensorflow:Gradients do not exist for variables ['lambda_M_loc_-1:0', 'lambda_M_scale_-1:0'] when minimizing the loss.\n"
     ]
    },
    {
     "name": "stdout",
     "output_type": "stream",
     "text": [
      "WARNING:tensorflow:Gradients do not exist for variables ['lambda_M_loc_-1:0', 'lambda_M_scale_-1:0'] when minimizing the loss.\n",
      "WARNING:tensorflow:Gradients do not exist for variables ['lambda_M_loc_-1:0', 'lambda_M_scale_-1:0'] when minimizing the loss.\n",
      "WARNING:tensorflow:Gradients do not exist for variables ['lambda_M_loc_-1:0', 'lambda_M_scale_-1:0'] when minimizing the loss.\n",
      "WARNING:tensorflow:Gradients do not exist for variables ['lambda_M_loc_-1:0', 'lambda_M_scale_-1:0'] when minimizing the loss.\n",
      "WARNING:tensorflow:Gradients do not exist for variables ['lambda_M_loc_-1:0', 'lambda_M_scale_-1:0'] when minimizing the loss.\n",
      "WARNING:tensorflow:Gradients do not exist for variables ['lambda_M_loc_-1:0', 'lambda_M_scale_-1:0'] when minimizing the loss.\n",
      "WARNING:tensorflow:Gradients do not exist for variables ['lambda_M_loc_-1:0', 'lambda_M_scale_-1:0'] when minimizing the loss.\n",
      "WARNING:tensorflow:Gradients do not exist for variables ['lambda_M_loc_-1:0', 'lambda_M_scale_-1:0'] when minimizing the loss.\n",
      "WARNING:tensorflow:Gradients do not exist for variables ['lambda_M_loc_-1:0', 'lambda_M_scale_-1:0'] when minimizing the loss.\n",
      "WARNING:tensorflow:Gradients do not exist for variables ['lambda_M_loc_-1:0', 'lambda_M_scale_-1:0'] when minimizing the loss.\n",
      "WARNING:tensorflow:Gradients do not exist for variables ['lambda_M_loc_-1:0', 'lambda_M_scale_-1:0'] when minimizing the loss.\n",
      "WARNING:tensorflow:Gradients do not exist for variables ['lambda_M_loc_-1:0', 'lambda_M_scale_-1:0'] when minimizing the loss.\n",
      "WARNING:tensorflow:Gradients do not exist for variables ['lambda_M_loc_-1:0', 'lambda_M_scale_-1:0'] when minimizing the loss.\n",
      "WARNING:tensorflow:Gradients do not exist for variables ['lambda_M_loc_-1:0', 'lambda_M_scale_-1:0'] when minimizing the loss.\n",
      "WARNING:tensorflow:Gradients do not exist for variables ['lambda_M_loc_-1:0', 'lambda_M_scale_-1:0'] when minimizing the loss.\n",
      "WARNING:tensorflow:Gradients do not exist for variables ['lambda_M_loc_-1:0', 'lambda_M_scale_-1:0'] when minimizing the loss.\n",
      "WARNING:tensorflow:Gradients do not exist for variables ['lambda_M_loc_-1:0', 'lambda_M_scale_-1:0'] when minimizing the loss.\n",
      "WARNING:tensorflow:Gradients do not exist for variables ['lambda_M_loc_-1:0', 'lambda_M_scale_-1:0'] when minimizing the loss.\n",
      "WARNING:tensorflow:Gradients do not exist for variables ['lambda_M_loc_-1:0', 'lambda_M_scale_-1:0'] when minimizing the loss.\n",
      "WARNING:tensorflow:Gradients do not exist for variables ['lambda_M_loc_-1:0', 'lambda_M_scale_-1:0'] when minimizing the loss.\n",
      "WARNING:tensorflow:Gradients do not exist for variables ['lambda_M_loc_-1:0', 'lambda_M_scale_-1:0'] when minimizing the loss.\n",
      "WARNING:tensorflow:Gradients do not exist for variables ['lambda_M_loc_-1:0', 'lambda_M_scale_-1:0'] when minimizing the loss.\n",
      "WARNING:tensorflow:Gradients do not exist for variables ['lambda_M_loc_-1:0', 'lambda_M_scale_-1:0'] when minimizing the loss.\n",
      "WARNING:tensorflow:Gradients do not exist for variables ['lambda_M_loc_-1:0', 'lambda_M_scale_-1:0'] when minimizing the loss.\n",
      "WARNING:tensorflow:Gradients do not exist for variables ['lambda_M_loc_-1:0', 'lambda_M_scale_-1:0'] when minimizing the loss.\n",
      "WARNING:tensorflow:Gradients do not exist for variables ['lambda_M_loc_-1:0', 'lambda_M_scale_-1:0'] when minimizing the loss.\n",
      "WARNING:tensorflow:Gradients do not exist for variables ['lambda_M_loc_-1:0', 'lambda_M_scale_-1:0'] when minimizing the loss.\n",
      "WARNING:tensorflow:Gradients do not exist for variables ['lambda_M_loc_-1:0', 'lambda_M_scale_-1:0'] when minimizing the loss.\n",
      "WARNING:tensorflow:Gradients do not exist for variables ['lambda_M_loc_-1:0', 'lambda_M_scale_-1:0'] when minimizing the loss.\n",
      "WARNING:tensorflow:Gradients do not exist for variables ['lambda_M_loc_-1:0', 'lambda_M_scale_-1:0'] when minimizing the loss.\n",
      "WARNING:tensorflow:Gradients do not exist for variables ['lambda_M_loc_-1:0', 'lambda_M_scale_-1:0'] when minimizing the loss.\n",
      "WARNING:tensorflow:Gradients do not exist for variables ['lambda_M_loc_-1:0', 'lambda_M_scale_-1:0'] when minimizing the loss.\n",
      "WARNING:tensorflow:Gradients do not exist for variables ['lambda_M_loc_-1:0', 'lambda_M_scale_-1:0'] when minimizing the loss.\n",
      "WARNING:tensorflow:Gradients do not exist for variables ['lambda_M_loc_-1:0', 'lambda_M_scale_-1:0'] when minimizing the loss.\n",
      "WARNING:tensorflow:Gradients do not exist for variables ['lambda_M_loc_-1:0', 'lambda_M_scale_-1:0'] when minimizing the loss.\n",
      "WARNING:tensorflow:Gradients do not exist for variables ['lambda_M_loc_-1:0', 'lambda_M_scale_-1:0'] when minimizing the loss.\n",
      "WARNING:tensorflow:Gradients do not exist for variables ['lambda_M_loc_-1:0', 'lambda_M_scale_-1:0'] when minimizing the loss.\n",
      "WARNING:tensorflow:Gradients do not exist for variables ['lambda_M_loc_-1:0', 'lambda_M_scale_-1:0'] when minimizing the loss.\n",
      "WARNING:tensorflow:Gradients do not exist for variables ['lambda_M_loc_-1:0', 'lambda_M_scale_-1:0'] when minimizing the loss.\n",
      "WARNING:tensorflow:Gradients do not exist for variables ['lambda_M_loc_-1:0', 'lambda_M_scale_-1:0'] when minimizing the loss.\n",
      "WARNING:tensorflow:Gradients do not exist for variables ['lambda_M_loc_-1:0', 'lambda_M_scale_-1:0'] when minimizing the loss.\n",
      "WARNING:tensorflow:Gradients do not exist for variables ['lambda_M_loc_-1:0', 'lambda_M_scale_-1:0'] when minimizing the loss.\n",
      "WARNING:tensorflow:Gradients do not exist for variables ['lambda_M_loc_-1:0', 'lambda_M_scale_-1:0'] when minimizing the loss.\n",
      "WARNING:tensorflow:Gradients do not exist for variables ['lambda_M_loc_-1:0', 'lambda_M_scale_-1:0'] when minimizing the loss.\n",
      "WARNING:tensorflow:Gradients do not exist for variables ['lambda_M_loc_-1:0', 'lambda_M_scale_-1:0'] when minimizing the loss.\n",
      "WARNING:tensorflow:Gradients do not exist for variables ['lambda_M_loc_-1:0', 'lambda_M_scale_-1:0'] when minimizing the loss.\n",
      "WARNING:tensorflow:Gradients do not exist for variables ['lambda_M_loc_-1:0', 'lambda_M_scale_-1:0'] when minimizing the loss.\n",
      "WARNING:tensorflow:Gradients do not exist for variables ['lambda_M_loc_-1:0', 'lambda_M_scale_-1:0'] when minimizing the loss.\n",
      "WARNING:tensorflow:Gradients do not exist for variables ['lambda_M_loc_-1:0', 'lambda_M_scale_-1:0'] when minimizing the loss.\n",
      "WARNING:tensorflow:Gradients do not exist for variables ['lambda_M_loc_-1:0', 'lambda_M_scale_-1:0'] when minimizing the loss.\n",
      "WARNING:tensorflow:Gradients do not exist for variables ['lambda_M_loc_-1:0', 'lambda_M_scale_-1:0'] when minimizing the loss.\n",
      "WARNING:tensorflow:Gradients do not exist for variables ['lambda_M_loc_-1:0', 'lambda_M_scale_-1:0'] when minimizing the loss.\n",
      "WARNING:tensorflow:Gradients do not exist for variables ['lambda_M_loc_-1:0', 'lambda_M_scale_-1:0'] when minimizing the loss.\n",
      "WARNING:tensorflow:Gradients do not exist for variables ['lambda_M_loc_-1:0', 'lambda_M_scale_-1:0'] when minimizing the loss.\n",
      "WARNING:tensorflow:Gradients do not exist for variables ['lambda_M_loc_-1:0', 'lambda_M_scale_-1:0'] when minimizing the loss.\n",
      "WARNING:tensorflow:Gradients do not exist for variables ['lambda_M_loc_-1:0', 'lambda_M_scale_-1:0'] when minimizing the loss.\n",
      "WARNING:tensorflow:Gradients do not exist for variables ['lambda_M_loc_-1:0', 'lambda_M_scale_-1:0'] when minimizing the loss.\n",
      "WARNING:tensorflow:Gradients do not exist for variables ['lambda_M_loc_-1:0', 'lambda_M_scale_-1:0'] when minimizing the loss.\n",
      "WARNING:tensorflow:Gradients do not exist for variables ['lambda_M_loc_-1:0', 'lambda_M_scale_-1:0'] when minimizing the loss.\n",
      "WARNING:tensorflow:Gradients do not exist for variables ['lambda_M_loc_-1:0', 'lambda_M_scale_-1:0'] when minimizing the loss.\n",
      "WARNING:tensorflow:Gradients do not exist for variables ['lambda_M_loc_-1:0', 'lambda_M_scale_-1:0'] when minimizing the loss.\n",
      "WARNING:tensorflow:Gradients do not exist for variables ['lambda_M_loc_-1:0', 'lambda_M_scale_-1:0'] when minimizing the loss.\n",
      "WARNING:tensorflow:Gradients do not exist for variables ['lambda_M_loc_-1:0', 'lambda_M_scale_-1:0'] when minimizing the loss.\n",
      "WARNING:tensorflow:Gradients do not exist for variables ['lambda_M_loc_-1:0', 'lambda_M_scale_-1:0'] when minimizing the loss.\n",
      "WARNING:tensorflow:Gradients do not exist for variables ['lambda_M_loc_-1:0', 'lambda_M_scale_-1:0'] when minimizing the loss.\n"
     ]
    },
    {
     "name": "stdout",
     "output_type": "stream",
     "text": [
      "WARNING:tensorflow:Gradients do not exist for variables ['lambda_M_loc_-1:0', 'lambda_M_scale_-1:0'] when minimizing the loss.\n",
      "WARNING:tensorflow:Gradients do not exist for variables ['lambda_M_loc_-1:0', 'lambda_M_scale_-1:0'] when minimizing the loss.\n",
      "WARNING:tensorflow:Gradients do not exist for variables ['lambda_M_loc_-1:0', 'lambda_M_scale_-1:0'] when minimizing the loss.\n",
      "WARNING:tensorflow:Gradients do not exist for variables ['lambda_M_loc_-1:0', 'lambda_M_scale_-1:0'] when minimizing the loss.\n",
      "WARNING:tensorflow:Gradients do not exist for variables ['lambda_M_loc_-1:0', 'lambda_M_scale_-1:0'] when minimizing the loss.\n",
      "WARNING:tensorflow:Gradients do not exist for variables ['lambda_M_loc_-1:0', 'lambda_M_scale_-1:0'] when minimizing the loss.\n",
      "WARNING:tensorflow:Gradients do not exist for variables ['lambda_M_loc_-1:0', 'lambda_M_scale_-1:0'] when minimizing the loss.\n",
      "WARNING:tensorflow:Gradients do not exist for variables ['lambda_M_loc_-1:0', 'lambda_M_scale_-1:0'] when minimizing the loss.\n",
      "WARNING:tensorflow:Gradients do not exist for variables ['lambda_M_loc_-1:0', 'lambda_M_scale_-1:0'] when minimizing the loss.\n",
      "WARNING:tensorflow:Gradients do not exist for variables ['lambda_M_loc_-1:0', 'lambda_M_scale_-1:0'] when minimizing the loss.\n",
      "WARNING:tensorflow:Gradients do not exist for variables ['lambda_M_loc_-1:0', 'lambda_M_scale_-1:0'] when minimizing the loss.\n",
      "WARNING:tensorflow:Gradients do not exist for variables ['lambda_M_loc_-1:0', 'lambda_M_scale_-1:0'] when minimizing the loss.\n",
      "WARNING:tensorflow:Gradients do not exist for variables ['lambda_M_loc_-1:0', 'lambda_M_scale_-1:0'] when minimizing the loss.\n",
      "WARNING:tensorflow:Gradients do not exist for variables ['lambda_M_loc_-1:0', 'lambda_M_scale_-1:0'] when minimizing the loss.\n",
      "WARNING:tensorflow:Gradients do not exist for variables ['lambda_M_loc_-1:0', 'lambda_M_scale_-1:0'] when minimizing the loss.\n",
      "WARNING:tensorflow:Gradients do not exist for variables ['lambda_M_loc_-1:0', 'lambda_M_scale_-1:0'] when minimizing the loss.\n",
      "WARNING:tensorflow:Gradients do not exist for variables ['lambda_M_loc_-1:0', 'lambda_M_scale_-1:0'] when minimizing the loss.\n",
      "WARNING:tensorflow:Gradients do not exist for variables ['lambda_M_loc_-1:0', 'lambda_M_scale_-1:0'] when minimizing the loss.\n",
      "WARNING:tensorflow:Gradients do not exist for variables ['lambda_M_loc_-1:0', 'lambda_M_scale_-1:0'] when minimizing the loss.\n",
      "WARNING:tensorflow:Gradients do not exist for variables ['lambda_M_loc_-1:0', 'lambda_M_scale_-1:0'] when minimizing the loss.\n",
      "WARNING:tensorflow:Gradients do not exist for variables ['lambda_M_loc_-1:0', 'lambda_M_scale_-1:0'] when minimizing the loss.\n",
      "WARNING:tensorflow:Gradients do not exist for variables ['lambda_M_loc_-1:0', 'lambda_M_scale_-1:0'] when minimizing the loss.\n",
      "WARNING:tensorflow:Gradients do not exist for variables ['lambda_M_loc_-1:0', 'lambda_M_scale_-1:0'] when minimizing the loss.\n",
      "WARNING:tensorflow:Gradients do not exist for variables ['lambda_M_loc_-1:0', 'lambda_M_scale_-1:0'] when minimizing the loss.\n",
      "WARNING:tensorflow:Gradients do not exist for variables ['lambda_M_loc_-1:0', 'lambda_M_scale_-1:0'] when minimizing the loss.\n",
      "WARNING:tensorflow:Gradients do not exist for variables ['lambda_M_loc_-1:0', 'lambda_M_scale_-1:0'] when minimizing the loss.\n",
      "WARNING:tensorflow:Gradients do not exist for variables ['lambda_M_loc_-1:0', 'lambda_M_scale_-1:0'] when minimizing the loss.\n",
      "WARNING:tensorflow:Gradients do not exist for variables ['lambda_M_loc_-1:0', 'lambda_M_scale_-1:0'] when minimizing the loss.\n",
      "WARNING:tensorflow:Gradients do not exist for variables ['lambda_M_loc_-1:0', 'lambda_M_scale_-1:0'] when minimizing the loss.\n",
      "WARNING:tensorflow:Gradients do not exist for variables ['lambda_M_loc_-1:0', 'lambda_M_scale_-1:0'] when minimizing the loss.\n",
      "WARNING:tensorflow:Gradients do not exist for variables ['lambda_M_loc_-1:0', 'lambda_M_scale_-1:0'] when minimizing the loss.\n",
      "WARNING:tensorflow:Gradients do not exist for variables ['lambda_M_loc_-1:0', 'lambda_M_scale_-1:0'] when minimizing the loss.\n",
      "WARNING:tensorflow:Gradients do not exist for variables ['lambda_M_loc_-1:0', 'lambda_M_scale_-1:0'] when minimizing the loss.\n",
      "WARNING:tensorflow:Gradients do not exist for variables ['lambda_M_loc_-1:0', 'lambda_M_scale_-1:0'] when minimizing the loss.\n",
      "WARNING:tensorflow:Gradients do not exist for variables ['lambda_M_loc_-1:0', 'lambda_M_scale_-1:0'] when minimizing the loss.\n",
      "WARNING:tensorflow:Gradients do not exist for variables ['lambda_M_loc_-1:0', 'lambda_M_scale_-1:0'] when minimizing the loss.\n",
      "WARNING:tensorflow:Gradients do not exist for variables ['lambda_M_loc_-1:0', 'lambda_M_scale_-1:0'] when minimizing the loss.\n",
      "WARNING:tensorflow:Gradients do not exist for variables ['lambda_M_loc_-1:0', 'lambda_M_scale_-1:0'] when minimizing the loss.\n",
      "WARNING:tensorflow:Gradients do not exist for variables ['lambda_M_loc_-1:0', 'lambda_M_scale_-1:0'] when minimizing the loss.\n",
      "WARNING:tensorflow:Gradients do not exist for variables ['lambda_M_loc_-1:0', 'lambda_M_scale_-1:0'] when minimizing the loss.\n",
      "WARNING:tensorflow:Gradients do not exist for variables ['lambda_M_loc_-1:0', 'lambda_M_scale_-1:0'] when minimizing the loss.\n",
      "WARNING:tensorflow:Gradients do not exist for variables ['lambda_M_loc_-1:0', 'lambda_M_scale_-1:0'] when minimizing the loss.\n",
      "WARNING:tensorflow:Gradients do not exist for variables ['lambda_M_loc_-1:0', 'lambda_M_scale_-1:0'] when minimizing the loss.\n",
      "WARNING:tensorflow:Gradients do not exist for variables ['lambda_M_loc_-1:0', 'lambda_M_scale_-1:0'] when minimizing the loss.\n",
      "WARNING:tensorflow:Gradients do not exist for variables ['lambda_M_loc_-1:0', 'lambda_M_scale_-1:0'] when minimizing the loss.\n",
      "WARNING:tensorflow:Gradients do not exist for variables ['lambda_M_loc_-1:0', 'lambda_M_scale_-1:0'] when minimizing the loss.\n",
      "WARNING:tensorflow:Gradients do not exist for variables ['lambda_M_loc_-1:0', 'lambda_M_scale_-1:0'] when minimizing the loss.\n",
      "WARNING:tensorflow:Gradients do not exist for variables ['lambda_M_loc_-1:0', 'lambda_M_scale_-1:0'] when minimizing the loss.\n",
      "WARNING:tensorflow:Gradients do not exist for variables ['lambda_M_loc_-1:0', 'lambda_M_scale_-1:0'] when minimizing the loss.\n",
      "WARNING:tensorflow:Gradients do not exist for variables ['lambda_M_loc_-1:0', 'lambda_M_scale_-1:0'] when minimizing the loss.\n",
      "WARNING:tensorflow:Gradients do not exist for variables ['lambda_M_loc_-1:0', 'lambda_M_scale_-1:0'] when minimizing the loss.\n",
      "WARNING:tensorflow:Gradients do not exist for variables ['lambda_M_loc_-1:0', 'lambda_M_scale_-1:0'] when minimizing the loss.\n",
      "WARNING:tensorflow:Gradients do not exist for variables ['lambda_M_loc_-1:0', 'lambda_M_scale_-1:0'] when minimizing the loss.\n",
      "WARNING:tensorflow:Gradients do not exist for variables ['lambda_M_loc_-1:0', 'lambda_M_scale_-1:0'] when minimizing the loss.\n",
      "WARNING:tensorflow:Gradients do not exist for variables ['lambda_M_loc_-1:0', 'lambda_M_scale_-1:0'] when minimizing the loss.\n",
      "WARNING:tensorflow:Gradients do not exist for variables ['lambda_M_loc_-1:0', 'lambda_M_scale_-1:0'] when minimizing the loss.\n",
      "WARNING:tensorflow:Gradients do not exist for variables ['lambda_M_loc_-1:0', 'lambda_M_scale_-1:0'] when minimizing the loss.\n"
     ]
    },
    {
     "ename": "KeyboardInterrupt",
     "evalue": "",
     "output_type": "error",
     "traceback": [
      "\u001b[0;31m---------------------------------------------------------------------------\u001b[0m",
      "\u001b[0;31mKeyboardInterrupt\u001b[0m                         Traceback (most recent call last)",
      "\u001b[0;32m/tmp/ipykernel_817/3748046630.py\u001b[0m in \u001b[0;36m<module>\u001b[0;34m\u001b[0m\n\u001b[1;32m     11\u001b[0m     \u001b[0;32mwith\u001b[0m \u001b[0mtf\u001b[0m\u001b[0;34m.\u001b[0m\u001b[0mGradientTape\u001b[0m\u001b[0;34m(\u001b[0m\u001b[0;34m)\u001b[0m \u001b[0;32mas\u001b[0m \u001b[0mtape\u001b[0m\u001b[0;34m:\u001b[0m\u001b[0;34m\u001b[0m\u001b[0;34m\u001b[0m\u001b[0m\n\u001b[1;32m     12\u001b[0m \u001b[0;34m\u001b[0m\u001b[0m\n\u001b[0;32m---> 13\u001b[0;31m         \u001b[0mloss_val\u001b[0m \u001b[0;34m=\u001b[0m \u001b[0mloss\u001b[0m\u001b[0;34m(\u001b[0m\u001b[0mM_vals\u001b[0m\u001b[0;34m,\u001b[0m \u001b[0mmodel\u001b[0m\u001b[0;34m(\u001b[0m\u001b[0mx_train\u001b[0m\u001b[0;34m,\u001b[0m \u001b[0mtraining\u001b[0m\u001b[0;34m=\u001b[0m\u001b[0;32mTrue\u001b[0m\u001b[0;34m)\u001b[0m\u001b[0;34m)\u001b[0m\u001b[0;34m\u001b[0m\u001b[0;34m\u001b[0m\u001b[0m\n\u001b[0m\u001b[1;32m     14\u001b[0m \u001b[0;34m\u001b[0m\u001b[0m\n\u001b[1;32m     15\u001b[0m \u001b[0;34m\u001b[0m\u001b[0m\n",
      "\u001b[0;32m~/anaconda3/envs/covid_vax_model/lib/python3.7/site-packages/keras/engine/base_layer.py\u001b[0m in \u001b[0;36m__call__\u001b[0;34m(self, *args, **kwargs)\u001b[0m\n\u001b[1;32m   1035\u001b[0m         with autocast_variable.enable_auto_cast_variables(\n\u001b[1;32m   1036\u001b[0m             self._compute_dtype_object):\n\u001b[0;32m-> 1037\u001b[0;31m           \u001b[0moutputs\u001b[0m \u001b[0;34m=\u001b[0m \u001b[0mcall_fn\u001b[0m\u001b[0;34m(\u001b[0m\u001b[0minputs\u001b[0m\u001b[0;34m,\u001b[0m \u001b[0;34m*\u001b[0m\u001b[0margs\u001b[0m\u001b[0;34m,\u001b[0m \u001b[0;34m**\u001b[0m\u001b[0mkwargs\u001b[0m\u001b[0;34m)\u001b[0m\u001b[0;34m\u001b[0m\u001b[0;34m\u001b[0m\u001b[0m\n\u001b[0m\u001b[1;32m   1038\u001b[0m \u001b[0;34m\u001b[0m\u001b[0m\n\u001b[1;32m   1039\u001b[0m         \u001b[0;32mif\u001b[0m \u001b[0mself\u001b[0m\u001b[0;34m.\u001b[0m\u001b[0m_activity_regularizer\u001b[0m\u001b[0;34m:\u001b[0m\u001b[0;34m\u001b[0m\u001b[0;34m\u001b[0m\u001b[0m\n",
      "\u001b[0;32m/mnt/c/Users/kheut/code/covid19-forecasting/tf_model_1p5/model.py\u001b[0m in \u001b[0;36mcall\u001b[0;34m(self, r_t, debug_disable_prior, return_all)\u001b[0m\n\u001b[1;32m     63\u001b[0m \u001b[0;34m\u001b[0m\u001b[0m\n\u001b[1;32m     64\u001b[0m         \u001b[0mself\u001b[0m\u001b[0;34m.\u001b[0m\u001b[0m_constrain_parameters\u001b[0m\u001b[0;34m(\u001b[0m\u001b[0;34m)\u001b[0m\u001b[0;34m\u001b[0m\u001b[0;34m\u001b[0m\u001b[0m\n\u001b[0;32m---> 65\u001b[0;31m         \u001b[0mself\u001b[0m\u001b[0;34m.\u001b[0m\u001b[0m_sample_and_reparameterize\u001b[0m\u001b[0;34m(\u001b[0m\u001b[0;34m)\u001b[0m\u001b[0;34m\u001b[0m\u001b[0;34m\u001b[0m\u001b[0m\n\u001b[0m\u001b[1;32m     66\u001b[0m \u001b[0;34m\u001b[0m\u001b[0m\n\u001b[1;32m     67\u001b[0m         \u001b[0mr_t\u001b[0m \u001b[0;34m=\u001b[0m \u001b[0mtf\u001b[0m\u001b[0;34m.\u001b[0m\u001b[0msqueeze\u001b[0m\u001b[0;34m(\u001b[0m\u001b[0mr_t\u001b[0m\u001b[0;34m)\u001b[0m\u001b[0;34m\u001b[0m\u001b[0;34m\u001b[0m\u001b[0m\n",
      "\u001b[0;32m/mnt/c/Users/kheut/code/covid19-forecasting/tf_model_1p5/model.py\u001b[0m in \u001b[0;36m_sample_and_reparameterize\u001b[0;34m(self)\u001b[0m\n\u001b[1;32m    382\u001b[0m \u001b[0;34m\u001b[0m\u001b[0m\n\u001b[1;32m    383\u001b[0m         \u001b[0;32mfor\u001b[0m \u001b[0mj\u001b[0m \u001b[0;32min\u001b[0m \u001b[0mrange\u001b[0m\u001b[0;34m(\u001b[0m\u001b[0mself\u001b[0m\u001b[0;34m.\u001b[0m\u001b[0mtransition_window\u001b[0m\u001b[0;34m)\u001b[0m\u001b[0;34m:\u001b[0m\u001b[0;34m\u001b[0m\u001b[0;34m\u001b[0m\u001b[0m\n\u001b[0;32m--> 384\u001b[0;31m             \u001b[0mpoisson_M_samples\u001b[0m \u001b[0;34m=\u001b[0m \u001b[0mnp\u001b[0m\u001b[0;34m.\u001b[0m\u001b[0marray\u001b[0m\u001b[0;34m(\u001b[0m\u001b[0;34m[\u001b[0m\u001b[0mdist\u001b[0m\u001b[0;34m.\u001b[0m\u001b[0mlog_prob\u001b[0m\u001b[0;34m(\u001b[0m\u001b[0mj\u001b[0m\u001b[0;34m+\u001b[0m\u001b[0;36m1\u001b[0m\u001b[0;34m)\u001b[0m \u001b[0;32mfor\u001b[0m \u001b[0mdist\u001b[0m \u001b[0;32min\u001b[0m \u001b[0mpoisson_M_dist_samples\u001b[0m\u001b[0;34m]\u001b[0m\u001b[0;34m)\u001b[0m\u001b[0;34m\u001b[0m\u001b[0;34m\u001b[0m\u001b[0m\n\u001b[0m\u001b[1;32m    385\u001b[0m             self.pi_M_samples = self.pi_M_samples.write(j, np.array([dist.log_prob(j + 1) for dist in poisson_M_dist_samples]) /\n\u001b[1;32m    386\u001b[0m                                                            self.nu_M_samples_constrained)\n",
      "\u001b[0;32m/mnt/c/Users/kheut/code/covid19-forecasting/tf_model_1p5/model.py\u001b[0m in \u001b[0;36m<listcomp>\u001b[0;34m(.0)\u001b[0m\n\u001b[1;32m    382\u001b[0m \u001b[0;34m\u001b[0m\u001b[0m\n\u001b[1;32m    383\u001b[0m         \u001b[0;32mfor\u001b[0m \u001b[0mj\u001b[0m \u001b[0;32min\u001b[0m \u001b[0mrange\u001b[0m\u001b[0;34m(\u001b[0m\u001b[0mself\u001b[0m\u001b[0;34m.\u001b[0m\u001b[0mtransition_window\u001b[0m\u001b[0;34m)\u001b[0m\u001b[0;34m:\u001b[0m\u001b[0;34m\u001b[0m\u001b[0;34m\u001b[0m\u001b[0m\n\u001b[0;32m--> 384\u001b[0;31m             \u001b[0mpoisson_M_samples\u001b[0m \u001b[0;34m=\u001b[0m \u001b[0mnp\u001b[0m\u001b[0;34m.\u001b[0m\u001b[0marray\u001b[0m\u001b[0;34m(\u001b[0m\u001b[0;34m[\u001b[0m\u001b[0mdist\u001b[0m\u001b[0;34m.\u001b[0m\u001b[0mlog_prob\u001b[0m\u001b[0;34m(\u001b[0m\u001b[0mj\u001b[0m\u001b[0;34m+\u001b[0m\u001b[0;36m1\u001b[0m\u001b[0;34m)\u001b[0m \u001b[0;32mfor\u001b[0m \u001b[0mdist\u001b[0m \u001b[0;32min\u001b[0m \u001b[0mpoisson_M_dist_samples\u001b[0m\u001b[0;34m]\u001b[0m\u001b[0;34m)\u001b[0m\u001b[0;34m\u001b[0m\u001b[0;34m\u001b[0m\u001b[0m\n\u001b[0m\u001b[1;32m    385\u001b[0m             self.pi_M_samples = self.pi_M_samples.write(j, np.array([dist.log_prob(j + 1) for dist in poisson_M_dist_samples]) /\n\u001b[1;32m    386\u001b[0m                                                            self.nu_M_samples_constrained)\n",
      "\u001b[0;32m~/anaconda3/envs/covid_vax_model/lib/python3.7/site-packages/tensorflow_probability/python/distributions/distribution.py\u001b[0m in \u001b[0;36mlog_prob\u001b[0;34m(self, value, name, **kwargs)\u001b[0m\n\u001b[1;32m   1294\u001b[0m         \u001b[0mvalues\u001b[0m \u001b[0mof\u001b[0m \u001b[0mtype\u001b[0m\u001b[0;31m \u001b[0m\u001b[0;31m`\u001b[0m\u001b[0mself\u001b[0m\u001b[0;34m.\u001b[0m\u001b[0mdtype\u001b[0m\u001b[0;31m`\u001b[0m\u001b[0;34m.\u001b[0m\u001b[0;34m\u001b[0m\u001b[0;34m\u001b[0m\u001b[0m\n\u001b[1;32m   1295\u001b[0m     \"\"\"\n\u001b[0;32m-> 1296\u001b[0;31m     \u001b[0;32mreturn\u001b[0m \u001b[0mself\u001b[0m\u001b[0;34m.\u001b[0m\u001b[0m_call_log_prob\u001b[0m\u001b[0;34m(\u001b[0m\u001b[0mvalue\u001b[0m\u001b[0;34m,\u001b[0m \u001b[0mname\u001b[0m\u001b[0;34m,\u001b[0m \u001b[0;34m**\u001b[0m\u001b[0mkwargs\u001b[0m\u001b[0;34m)\u001b[0m\u001b[0;34m\u001b[0m\u001b[0;34m\u001b[0m\u001b[0m\n\u001b[0m\u001b[1;32m   1297\u001b[0m \u001b[0;34m\u001b[0m\u001b[0m\n\u001b[1;32m   1298\u001b[0m   \u001b[0;32mdef\u001b[0m \u001b[0m_call_prob\u001b[0m\u001b[0;34m(\u001b[0m\u001b[0mself\u001b[0m\u001b[0;34m,\u001b[0m \u001b[0mvalue\u001b[0m\u001b[0;34m,\u001b[0m \u001b[0mname\u001b[0m\u001b[0;34m,\u001b[0m \u001b[0;34m**\u001b[0m\u001b[0mkwargs\u001b[0m\u001b[0;34m)\u001b[0m\u001b[0;34m:\u001b[0m\u001b[0;34m\u001b[0m\u001b[0;34m\u001b[0m\u001b[0m\n",
      "\u001b[0;32m~/anaconda3/envs/covid_vax_model/lib/python3.7/site-packages/tensorflow_probability/python/distributions/distribution.py\u001b[0m in \u001b[0;36m_call_log_prob\u001b[0;34m(self, value, name, **kwargs)\u001b[0m\n\u001b[1;32m   1276\u001b[0m     \u001b[0;32mwith\u001b[0m \u001b[0mself\u001b[0m\u001b[0;34m.\u001b[0m\u001b[0m_name_and_control_scope\u001b[0m\u001b[0;34m(\u001b[0m\u001b[0mname\u001b[0m\u001b[0;34m,\u001b[0m \u001b[0mvalue\u001b[0m\u001b[0;34m,\u001b[0m \u001b[0mkwargs\u001b[0m\u001b[0;34m)\u001b[0m\u001b[0;34m:\u001b[0m\u001b[0;34m\u001b[0m\u001b[0;34m\u001b[0m\u001b[0m\n\u001b[1;32m   1277\u001b[0m       \u001b[0;32mif\u001b[0m \u001b[0mhasattr\u001b[0m\u001b[0;34m(\u001b[0m\u001b[0mself\u001b[0m\u001b[0;34m,\u001b[0m \u001b[0;34m'_log_prob'\u001b[0m\u001b[0;34m)\u001b[0m\u001b[0;34m:\u001b[0m\u001b[0;34m\u001b[0m\u001b[0;34m\u001b[0m\u001b[0m\n\u001b[0;32m-> 1278\u001b[0;31m         \u001b[0;32mreturn\u001b[0m \u001b[0mself\u001b[0m\u001b[0;34m.\u001b[0m\u001b[0m_log_prob\u001b[0m\u001b[0;34m(\u001b[0m\u001b[0mvalue\u001b[0m\u001b[0;34m,\u001b[0m \u001b[0;34m**\u001b[0m\u001b[0mkwargs\u001b[0m\u001b[0;34m)\u001b[0m\u001b[0;34m\u001b[0m\u001b[0;34m\u001b[0m\u001b[0m\n\u001b[0m\u001b[1;32m   1279\u001b[0m       \u001b[0;32mif\u001b[0m \u001b[0mhasattr\u001b[0m\u001b[0;34m(\u001b[0m\u001b[0mself\u001b[0m\u001b[0;34m,\u001b[0m \u001b[0;34m'_prob'\u001b[0m\u001b[0;34m)\u001b[0m\u001b[0;34m:\u001b[0m\u001b[0;34m\u001b[0m\u001b[0;34m\u001b[0m\u001b[0m\n\u001b[1;32m   1280\u001b[0m         \u001b[0;32mreturn\u001b[0m \u001b[0mtf\u001b[0m\u001b[0;34m.\u001b[0m\u001b[0mmath\u001b[0m\u001b[0;34m.\u001b[0m\u001b[0mlog\u001b[0m\u001b[0;34m(\u001b[0m\u001b[0mself\u001b[0m\u001b[0;34m.\u001b[0m\u001b[0m_prob\u001b[0m\u001b[0;34m(\u001b[0m\u001b[0mvalue\u001b[0m\u001b[0;34m,\u001b[0m \u001b[0;34m**\u001b[0m\u001b[0mkwargs\u001b[0m\u001b[0;34m)\u001b[0m\u001b[0;34m)\u001b[0m\u001b[0;34m\u001b[0m\u001b[0;34m\u001b[0m\u001b[0m\n",
      "\u001b[0;32m~/anaconda3/envs/covid_vax_model/lib/python3.7/site-packages/tensorflow_probability/python/distributions/poisson.py\u001b[0m in \u001b[0;36m_log_prob\u001b[0;34m(self, x)\u001b[0m\n\u001b[1;32m    294\u001b[0m   \u001b[0;32mdef\u001b[0m \u001b[0m_log_prob\u001b[0m\u001b[0;34m(\u001b[0m\u001b[0mself\u001b[0m\u001b[0;34m,\u001b[0m \u001b[0mx\u001b[0m\u001b[0;34m)\u001b[0m\u001b[0;34m:\u001b[0m\u001b[0;34m\u001b[0m\u001b[0;34m\u001b[0m\u001b[0m\n\u001b[1;32m    295\u001b[0m     \u001b[0mlog_rate\u001b[0m \u001b[0;34m=\u001b[0m \u001b[0mself\u001b[0m\u001b[0;34m.\u001b[0m\u001b[0m_log_rate_parameter_no_checks\u001b[0m\u001b[0;34m(\u001b[0m\u001b[0;34m)\u001b[0m\u001b[0;34m\u001b[0m\u001b[0;34m\u001b[0m\u001b[0m\n\u001b[0;32m--> 296\u001b[0;31m     log_probs = (self._log_unnormalized_prob(x, log_rate) -\n\u001b[0m\u001b[1;32m    297\u001b[0m                  self._log_normalization(log_rate))\n\u001b[1;32m    298\u001b[0m     \u001b[0;32mif\u001b[0m \u001b[0mself\u001b[0m\u001b[0;34m.\u001b[0m\u001b[0mforce_probs_to_zero_outside_support\u001b[0m\u001b[0;34m:\u001b[0m\u001b[0;34m\u001b[0m\u001b[0;34m\u001b[0m\u001b[0m\n",
      "\u001b[0;32m~/anaconda3/envs/covid_vax_model/lib/python3.7/site-packages/tensorflow_probability/python/distributions/poisson.py\u001b[0m in \u001b[0;36m_log_unnormalized_prob\u001b[0;34m(self, x, log_rate)\u001b[0m\n\u001b[1;32m    334\u001b[0m     safe_x = tf.maximum(\n\u001b[1;32m    335\u001b[0m         tf.floor(x) if self.force_probs_to_zero_outside_support else x, 0.)\n\u001b[0;32m--> 336\u001b[0;31m     \u001b[0my\u001b[0m \u001b[0;34m=\u001b[0m \u001b[0mtf\u001b[0m\u001b[0;34m.\u001b[0m\u001b[0mmath\u001b[0m\u001b[0;34m.\u001b[0m\u001b[0mmultiply_no_nan\u001b[0m\u001b[0;34m(\u001b[0m\u001b[0mlog_rate\u001b[0m\u001b[0;34m,\u001b[0m \u001b[0msafe_x\u001b[0m\u001b[0;34m)\u001b[0m \u001b[0;34m-\u001b[0m \u001b[0mtf\u001b[0m\u001b[0;34m.\u001b[0m\u001b[0mmath\u001b[0m\u001b[0;34m.\u001b[0m\u001b[0mlgamma\u001b[0m\u001b[0;34m(\u001b[0m\u001b[0;36m1.\u001b[0m \u001b[0;34m+\u001b[0m \u001b[0msafe_x\u001b[0m\u001b[0;34m)\u001b[0m\u001b[0;34m\u001b[0m\u001b[0;34m\u001b[0m\u001b[0m\n\u001b[0m\u001b[1;32m    337\u001b[0m     return tf.where(\n\u001b[1;32m    338\u001b[0m         tf.equal(x, safe_x), y, dtype_util.as_numpy_dtype(y.dtype)(-np.inf))\n",
      "\u001b[0;32m~/anaconda3/envs/covid_vax_model/lib/python3.7/site-packages/tensorflow/python/ops/math_ops.py\u001b[0m in \u001b[0;36mbinary_op_wrapper\u001b[0;34m(x, y)\u001b[0m\n\u001b[1;32m   1359\u001b[0m \u001b[0;34m\u001b[0m\u001b[0m\n\u001b[1;32m   1360\u001b[0m   \u001b[0;32mdef\u001b[0m \u001b[0mbinary_op_wrapper\u001b[0m\u001b[0;34m(\u001b[0m\u001b[0mx\u001b[0m\u001b[0;34m,\u001b[0m \u001b[0my\u001b[0m\u001b[0;34m)\u001b[0m\u001b[0;34m:\u001b[0m\u001b[0;34m\u001b[0m\u001b[0;34m\u001b[0m\u001b[0m\n\u001b[0;32m-> 1361\u001b[0;31m     \u001b[0;32mwith\u001b[0m \u001b[0mops\u001b[0m\u001b[0;34m.\u001b[0m\u001b[0mname_scope\u001b[0m\u001b[0;34m(\u001b[0m\u001b[0;32mNone\u001b[0m\u001b[0;34m,\u001b[0m \u001b[0mop_name\u001b[0m\u001b[0;34m,\u001b[0m \u001b[0;34m[\u001b[0m\u001b[0mx\u001b[0m\u001b[0;34m,\u001b[0m \u001b[0my\u001b[0m\u001b[0;34m]\u001b[0m\u001b[0;34m)\u001b[0m \u001b[0;32mas\u001b[0m \u001b[0mname\u001b[0m\u001b[0;34m:\u001b[0m\u001b[0;34m\u001b[0m\u001b[0;34m\u001b[0m\u001b[0m\n\u001b[0m\u001b[1;32m   1362\u001b[0m       \u001b[0;32mtry\u001b[0m\u001b[0;34m:\u001b[0m\u001b[0;34m\u001b[0m\u001b[0;34m\u001b[0m\u001b[0m\n\u001b[1;32m   1363\u001b[0m         \u001b[0;31m# force_same_dtype=False to preserve existing TF behavior\u001b[0m\u001b[0;34m\u001b[0m\u001b[0;34m\u001b[0m\u001b[0;34m\u001b[0m\u001b[0m\n",
      "\u001b[0;32m~/anaconda3/envs/covid_vax_model/lib/python3.7/site-packages/tensorflow/python/framework/ops.py\u001b[0m in \u001b[0;36mname_scope\u001b[0;34m(name, default_name, values, skip_on_eager)\u001b[0m\n\u001b[1;32m   6469\u001b[0m     \u001b[0;31m`\u001b[0m\u001b[0mname_scope\u001b[0m\u001b[0;34m*\u001b[0m\u001b[0;31m`\u001b[0m \u001b[0mcontext\u001b[0m \u001b[0mmanager\u001b[0m\u001b[0;34m.\u001b[0m\u001b[0;34m\u001b[0m\u001b[0;34m\u001b[0m\u001b[0m\n\u001b[1;32m   6470\u001b[0m   \"\"\"\n\u001b[0;32m-> 6471\u001b[0;31m   \u001b[0;32mif\u001b[0m \u001b[0;32mnot\u001b[0m \u001b[0mcontext\u001b[0m\u001b[0;34m.\u001b[0m\u001b[0mexecuting_eagerly\u001b[0m\u001b[0;34m(\u001b[0m\u001b[0;34m)\u001b[0m\u001b[0;34m:\u001b[0m\u001b[0;34m\u001b[0m\u001b[0;34m\u001b[0m\u001b[0m\n\u001b[0m\u001b[1;32m   6472\u001b[0m     \u001b[0;32mreturn\u001b[0m \u001b[0minternal_name_scope_v1\u001b[0m\u001b[0;34m(\u001b[0m\u001b[0mname\u001b[0m\u001b[0;34m,\u001b[0m \u001b[0mdefault_name\u001b[0m\u001b[0;34m,\u001b[0m \u001b[0mvalues\u001b[0m\u001b[0;34m)\u001b[0m\u001b[0;34m\u001b[0m\u001b[0;34m\u001b[0m\u001b[0m\n\u001b[1;32m   6473\u001b[0m \u001b[0;34m\u001b[0m\u001b[0m\n",
      "\u001b[0;32m~/anaconda3/envs/covid_vax_model/lib/python3.7/site-packages/tensorflow/python/eager/context.py\u001b[0m in \u001b[0;36mexecuting_eagerly\u001b[0;34m()\u001b[0m\n\u001b[1;32m   2013\u001b[0m     \u001b[0;32mreturn\u001b[0m \u001b[0mdefault_execution_mode\u001b[0m \u001b[0;34m==\u001b[0m \u001b[0mEAGER_MODE\u001b[0m\u001b[0;34m\u001b[0m\u001b[0;34m\u001b[0m\u001b[0m\n\u001b[1;32m   2014\u001b[0m \u001b[0;34m\u001b[0m\u001b[0m\n\u001b[0;32m-> 2015\u001b[0;31m   \u001b[0;32mreturn\u001b[0m \u001b[0mctx\u001b[0m\u001b[0;34m.\u001b[0m\u001b[0mexecuting_eagerly\u001b[0m\u001b[0;34m(\u001b[0m\u001b[0;34m)\u001b[0m\u001b[0;34m\u001b[0m\u001b[0;34m\u001b[0m\u001b[0m\n\u001b[0m\u001b[1;32m   2016\u001b[0m \u001b[0;34m\u001b[0m\u001b[0m\n\u001b[1;32m   2017\u001b[0m \u001b[0;34m\u001b[0m\u001b[0m\n",
      "\u001b[0;32m~/anaconda3/envs/covid_vax_model/lib/python3.7/site-packages/tensorflow/python/eager/context.py\u001b[0m in \u001b[0;36mexecuting_eagerly\u001b[0;34m(self)\u001b[0m\n\u001b[1;32m    849\u001b[0m   \u001b[0;32mdef\u001b[0m \u001b[0mexecuting_eagerly\u001b[0m\u001b[0;34m(\u001b[0m\u001b[0mself\u001b[0m\u001b[0;34m)\u001b[0m\u001b[0;34m:\u001b[0m\u001b[0;34m\u001b[0m\u001b[0;34m\u001b[0m\u001b[0m\n\u001b[1;32m    850\u001b[0m     \u001b[0;34m\"\"\"Returns True if current thread has eager executing enabled.\"\"\"\u001b[0m\u001b[0;34m\u001b[0m\u001b[0;34m\u001b[0m\u001b[0m\n\u001b[0;32m--> 851\u001b[0;31m     \u001b[0;32mreturn\u001b[0m \u001b[0mself\u001b[0m\u001b[0;34m.\u001b[0m\u001b[0m_thread_local_data\u001b[0m\u001b[0;34m.\u001b[0m\u001b[0mis_eager\u001b[0m\u001b[0;34m\u001b[0m\u001b[0;34m\u001b[0m\u001b[0m\n\u001b[0m\u001b[1;32m    852\u001b[0m \u001b[0;34m\u001b[0m\u001b[0m\n\u001b[1;32m    853\u001b[0m   \u001b[0;32mdef\u001b[0m \u001b[0mones_rank_cache\u001b[0m\u001b[0;34m(\u001b[0m\u001b[0mself\u001b[0m\u001b[0;34m)\u001b[0m\u001b[0;34m:\u001b[0m\u001b[0;34m\u001b[0m\u001b[0;34m\u001b[0m\u001b[0m\n",
      "\u001b[0;31mKeyboardInterrupt\u001b[0m: "
     ]
    }
   ],
   "source": [
    "epochs = 1000\n",
    "logs = {}\n",
    "\n",
    "#model.compile(loss=loss, optimizer=optimizer, run_eagerly=True)\n",
    "callbacks = tf.keras.callbacks.CallbackList(logging_callbacks, add_history=False, model=model)\n",
    "\n",
    "for epoch in range(epochs):\n",
    "    callbacks.on_epoch_begin(epoch, logs=logs)\n",
    "    #callbacks.on_batch_begin(0, logs=logs)\n",
    "   \n",
    "    with tf.GradientTape() as tape:\n",
    "        \n",
    "        loss_val = loss(M_vals, model(x_train, training=True))\n",
    "        \n",
    "        \n",
    "    grads = tape.gradient(loss_val, model.trainable_variables)\n",
    "        \n",
    "    grads[:warmup_variable_idx] = [grad*model_learning_rate if grad is not None else grad for grad in grads[:warmup_variable_idx] ]\n",
    "    grads[warmup_variable_idx:] = [grad*warmup_learning_rate if grad is not None else grad for grad in grads[warmup_variable_idx:] ]\n",
    "\n",
    "    optimizer.apply_gradients(zip(grads, model.trainable_variables))\n",
    "    \n",
    "\n",
    "    callbacks.on_batch_end(0, logs=logs)\n",
    "    \n",
    "    callbacks.on_epoch_end(epoch, logs=logs)\n",
    "\n",
    "        \n",
    "callbacks.on_train_end(logs=logs)"
   ]
  },
  {
   "cell_type": "code",
   "execution_count": 137,
   "id": "902247bf",
   "metadata": {},
   "outputs": [
    {
     "data": {
      "text/plain": [
       "[<tf.Tensor: shape=(), dtype=float32, numpy=-44.057255>,\n",
       " <tf.Tensor: shape=(), dtype=float32, numpy=20.409847>,\n",
       " <tf.Tensor: shape=(), dtype=float32, numpy=-59.42387>,\n",
       " <tf.Tensor: shape=(), dtype=float32, numpy=1.1684586>,\n",
       " None,\n",
       " None,\n",
       " <tf.Tensor: shape=(), dtype=float32, numpy=0.014274821>,\n",
       " <tf.Tensor: shape=(), dtype=float32, numpy=-0.0052253297>,\n",
       " <tf.Tensor: shape=(), dtype=float32, numpy=-1.2161665>,\n",
       " <tf.Tensor: shape=(), dtype=float32, numpy=0.45110703>,\n",
       " <tf.Tensor: shape=(), dtype=float32, numpy=-2.4874573>,\n",
       " <tf.Tensor: shape=(), dtype=float32, numpy=0.8034713>,\n",
       " <tf.Tensor: shape=(), dtype=float32, numpy=-343.2962>,\n",
       " <tf.Tensor: shape=(), dtype=float32, numpy=385.70175>]"
      ]
     },
     "execution_count": 137,
     "metadata": {},
     "output_type": "execute_result"
    }
   ],
   "source": [
    "grads"
   ]
  },
  {
   "cell_type": "code",
   "execution_count": 107,
   "id": "d1c8368b",
   "metadata": {
    "scrolled": true
   },
   "outputs": [
    {
     "name": "stdout",
     "output_type": "stream",
     "text": [
      "Epoch 1/1000\n",
      "1/1 [==============================] - 2s 2s/step - loss: 34680.5508\n",
      "Epoch 2/1000\n",
      "WARNING:tensorflow:Trace already enabled\n"
     ]
    },
    {
     "name": "stderr",
     "output_type": "stream",
     "text": [
      "2021-12-06 12:52:30.203353: I tensorflow/core/profiler/lib/profiler_session.cc:131] Profiler session initializing.\n",
      "2021-12-06 12:52:30.203378: I tensorflow/core/profiler/lib/profiler_session.cc:146] Profiler session started.\n",
      "2021-12-06 12:52:30.203533: E tensorflow/core/profiler/internal/gpu/cupti_tracer.cc:1666] function cupti_interface_->Subscribe( &subscriber_, (CUpti_CallbackFunc)ApiCallback, this)failed with error CUPTI could not be loaded or symbol could not be found.\n"
     ]
    },
    {
     "name": "stdout",
     "output_type": "stream",
     "text": [
      "\r",
      "1/1 [==============================] - ETA: 0s - loss: 12128.7979"
     ]
    },
    {
     "name": "stderr",
     "output_type": "stream",
     "text": [
      "2021-12-06 12:52:32.777944: I tensorflow/core/profiler/lib/profiler_session.cc:66] Profiler session collecting data.\n",
      "2021-12-06 12:52:32.783832: E tensorflow/core/profiler/internal/gpu/cupti_tracer.cc:1757] function cupti_interface_->Finalize()failed with error CUPTI could not be loaded or symbol could not be found.\n",
      "2021-12-06 12:52:32.949888: I tensorflow/core/profiler/internal/gpu/cupti_collector.cc:673]  GpuTracer has collected 0 callback api events and 0 activity events. \n",
      "2021-12-06 12:52:33.274078: I tensorflow/core/profiler/lib/profiler_session.cc:164] Profiler session tear down.\n",
      "2021-12-06 12:52:34.167760: I tensorflow/core/profiler/rpc/client/save_profile.cc:136] Creating directory: /mnt/c/Users/kheut/logs/covid/bayes_learn_all_custom_01/train/plugins/profile/2021_12_06_12_52_33\n",
      "\n",
      "2021-12-06 12:52:34.889705: I tensorflow/core/profiler/rpc/client/save_profile.cc:142] Dumped gzipped tool data for trace.json.gz to /mnt/c/Users/kheut/logs/covid/bayes_learn_all_custom_01/train/plugins/profile/2021_12_06_12_52_33/MrChipsNVME.trace.json.gz\n"
     ]
    },
    {
     "name": "stdout",
     "output_type": "stream",
     "text": [
      "\b\b\b\b\b\b\b\b\b\b\b\b\b\b\b\b\b\b\b\b\b\b\b\b\b\b\b\b\b\b\b\b\b\b\b\b\b\b\b\b\b\b\b\b\b\b\b\b\b\b\b\b\b\b\b\b\b\b\b\b\b\b\b\b\b\r",
      "1/1 [==============================] - 5s 5s/step - loss: 12128.7979\n"
     ]
    },
    {
     "name": "stderr",
     "output_type": "stream",
     "text": [
      "2021-12-06 12:52:35.156247: I tensorflow/core/profiler/rpc/client/save_profile.cc:136] Creating directory: /mnt/c/Users/kheut/logs/covid/bayes_learn_all_custom_01/train/plugins/profile/2021_12_06_12_52_33\n",
      "\n",
      "2021-12-06 12:52:35.158122: I tensorflow/core/profiler/rpc/client/save_profile.cc:142] Dumped gzipped tool data for memory_profile.json.gz to /mnt/c/Users/kheut/logs/covid/bayes_learn_all_custom_01/train/plugins/profile/2021_12_06_12_52_33/MrChipsNVME.memory_profile.json.gz\n",
      "2021-12-06 12:52:35.176211: I tensorflow/core/profiler/rpc/client/capture_profile.cc:251] Creating directory: /mnt/c/Users/kheut/logs/covid/bayes_learn_all_custom_01/train/plugins/profile/2021_12_06_12_52_33\n",
      "Dumped tool data for xplane.pb to /mnt/c/Users/kheut/logs/covid/bayes_learn_all_custom_01/train/plugins/profile/2021_12_06_12_52_33/MrChipsNVME.xplane.pb\n",
      "Dumped tool data for overview_page.pb to /mnt/c/Users/kheut/logs/covid/bayes_learn_all_custom_01/train/plugins/profile/2021_12_06_12_52_33/MrChipsNVME.overview_page.pb\n",
      "Dumped tool data for input_pipeline.pb to /mnt/c/Users/kheut/logs/covid/bayes_learn_all_custom_01/train/plugins/profile/2021_12_06_12_52_33/MrChipsNVME.input_pipeline.pb\n",
      "Dumped tool data for tensorflow_stats.pb to /mnt/c/Users/kheut/logs/covid/bayes_learn_all_custom_01/train/plugins/profile/2021_12_06_12_52_33/MrChipsNVME.tensorflow_stats.pb\n",
      "Dumped tool data for kernel_stats.pb to /mnt/c/Users/kheut/logs/covid/bayes_learn_all_custom_01/train/plugins/profile/2021_12_06_12_52_33/MrChipsNVME.kernel_stats.pb\n",
      "\n"
     ]
    },
    {
     "name": "stdout",
     "output_type": "stream",
     "text": [
      "Epoch 3/1000\n",
      "1/1 [==============================] - 2s 2s/step - loss: 9947.0215\n",
      "Epoch 4/1000\n",
      "1/1 [==============================] - 2s 2s/step - loss: 8190.0591\n",
      "Epoch 5/1000\n",
      "1/1 [==============================] - 2s 2s/step - loss: 8202.5781\n",
      "Epoch 6/1000\n",
      "1/1 [==============================] - 2s 2s/step - loss: 8850.3242\n",
      "Epoch 7/1000\n",
      "1/1 [==============================] - 2s 2s/step - loss: 7987.3457\n",
      "Epoch 8/1000\n",
      "1/1 [==============================] - 2s 2s/step - loss: 7889.0884\n",
      "Epoch 9/1000\n",
      "1/1 [==============================] - 2s 2s/step - loss: 8263.8242\n",
      "Epoch 10/1000\n",
      "1/1 [==============================] - 2s 2s/step - loss: 8168.0312\n",
      "Epoch 11/1000\n",
      "1/1 [==============================] - 2s 2s/step - loss: 7914.8687\n",
      "Epoch 12/1000\n",
      "1/1 [==============================] - 2s 2s/step - loss: 7909.8052\n",
      "Epoch 13/1000\n",
      "1/1 [==============================] - 2s 2s/step - loss: 7712.4424\n",
      "Epoch 14/1000\n",
      "1/1 [==============================] - 2s 2s/step - loss: 8444.6953\n",
      "Epoch 15/1000\n",
      "1/1 [==============================] - 2s 2s/step - loss: 8245.4834\n",
      "Epoch 16/1000\n",
      "1/1 [==============================] - 2s 2s/step - loss: 7955.1055\n",
      "Epoch 17/1000\n",
      "1/1 [==============================] - 2s 2s/step - loss: 8343.8799\n",
      "Epoch 18/1000\n",
      "1/1 [==============================] - 2s 2s/step - loss: 7621.8564\n",
      "Epoch 19/1000\n",
      "1/1 [==============================] - 2s 2s/step - loss: 8424.2324\n",
      "Epoch 20/1000\n",
      "1/1 [==============================] - 2s 2s/step - loss: 7874.7729\n",
      "Epoch 21/1000\n",
      "1/1 [==============================] - 2s 2s/step - loss: 8217.0410\n",
      "Epoch 22/1000\n",
      "1/1 [==============================] - 2s 2s/step - loss: 7833.6694\n",
      "Epoch 23/1000\n",
      "1/1 [==============================] - 2s 2s/step - loss: 8128.8027\n",
      "Epoch 24/1000\n",
      "1/1 [==============================] - 2s 2s/step - loss: 8157.2173\n",
      "Epoch 25/1000\n",
      "1/1 [==============================] - 2s 2s/step - loss: 7658.7412\n",
      "Epoch 26/1000\n",
      "1/1 [==============================] - 2s 2s/step - loss: 8154.2173\n",
      "Epoch 27/1000\n",
      "1/1 [==============================] - 2s 2s/step - loss: 7696.8276\n",
      "Epoch 28/1000\n",
      "1/1 [==============================] - 2s 2s/step - loss: 7486.6479\n",
      "Epoch 29/1000\n",
      "1/1 [==============================] - 2s 2s/step - loss: 8101.8271\n",
      "Epoch 30/1000\n",
      "1/1 [==============================] - 2s 2s/step - loss: 8176.7280\n",
      "Epoch 31/1000\n",
      "1/1 [==============================] - 2s 2s/step - loss: 7996.6807\n",
      "Epoch 32/1000\n",
      "1/1 [==============================] - 2s 2s/step - loss: 8073.5464\n",
      "Epoch 33/1000\n",
      "1/1 [==============================] - 2s 2s/step - loss: 8134.0190\n",
      "Epoch 34/1000\n",
      "1/1 [==============================] - 2s 2s/step - loss: 8159.8394\n",
      "Epoch 35/1000\n",
      "1/1 [==============================] - 2s 2s/step - loss: 8698.0791\n",
      "Epoch 36/1000\n",
      "1/1 [==============================] - 2s 2s/step - loss: 7666.7744\n",
      "Epoch 37/1000\n",
      "1/1 [==============================] - 2s 2s/step - loss: 8433.3457\n",
      "Epoch 38/1000\n",
      "1/1 [==============================] - 2s 2s/step - loss: 8091.1523\n",
      "Epoch 39/1000\n",
      "1/1 [==============================] - 2s 2s/step - loss: 7657.2422\n",
      "Epoch 40/1000\n",
      "1/1 [==============================] - 2s 2s/step - loss: 7637.3940\n",
      "Epoch 41/1000\n",
      "1/1 [==============================] - 2s 2s/step - loss: 7802.9702\n",
      "Epoch 42/1000\n",
      "1/1 [==============================] - 2s 2s/step - loss: 7863.6089\n",
      "Epoch 43/1000\n",
      "1/1 [==============================] - 2s 2s/step - loss: 8056.2720\n",
      "Epoch 44/1000\n",
      "1/1 [==============================] - 2s 2s/step - loss: 7681.6670\n",
      "Epoch 45/1000\n",
      "1/1 [==============================] - 2s 2s/step - loss: 8035.1392\n",
      "Epoch 46/1000\n",
      "1/1 [==============================] - 2s 2s/step - loss: 8086.9009\n",
      "Epoch 47/1000\n",
      "1/1 [==============================] - 2s 2s/step - loss: 7675.5308\n",
      "Epoch 48/1000\n",
      "1/1 [==============================] - 2s 2s/step - loss: 8314.8096\n",
      "Epoch 49/1000\n"
     ]
    },
    {
     "ename": "KeyboardInterrupt",
     "evalue": "",
     "output_type": "error",
     "traceback": [
      "\u001b[0;31m---------------------------------------------------------------------------\u001b[0m",
      "\u001b[0;31mKeyboardInterrupt\u001b[0m                         Traceback (most recent call last)",
      "\u001b[0;32m/tmp/ipykernel_817/3959191087.py\u001b[0m in \u001b[0;36m<module>\u001b[0;34m\u001b[0m\n\u001b[1;32m      2\u001b[0m model.fit(x=np.asarray([x_train]), y=np.asarray([M_vals]),\n\u001b[1;32m      3\u001b[0m          \u001b[0mepochs\u001b[0m\u001b[0;34m=\u001b[0m\u001b[0;36m1000\u001b[0m\u001b[0;34m,\u001b[0m \u001b[0mbatch_size\u001b[0m\u001b[0;34m=\u001b[0m\u001b[0;36m0\u001b[0m\u001b[0;34m,\u001b[0m\u001b[0;34m\u001b[0m\u001b[0;34m\u001b[0m\u001b[0m\n\u001b[0;32m----> 4\u001b[0;31m         callbacks=logging_callbacks)\n\u001b[0m",
      "\u001b[0;32m~/anaconda3/envs/covid_vax_model/lib/python3.7/site-packages/keras/engine/training.py\u001b[0m in \u001b[0;36mfit\u001b[0;34m(self, x, y, batch_size, epochs, verbose, callbacks, validation_split, validation_data, shuffle, class_weight, sample_weight, initial_epoch, steps_per_epoch, validation_steps, validation_batch_size, validation_freq, max_queue_size, workers, use_multiprocessing)\u001b[0m\n\u001b[1;32m   1182\u001b[0m                 _r=1):\n\u001b[1;32m   1183\u001b[0m               \u001b[0mcallbacks\u001b[0m\u001b[0;34m.\u001b[0m\u001b[0mon_train_batch_begin\u001b[0m\u001b[0;34m(\u001b[0m\u001b[0mstep\u001b[0m\u001b[0;34m)\u001b[0m\u001b[0;34m\u001b[0m\u001b[0;34m\u001b[0m\u001b[0m\n\u001b[0;32m-> 1184\u001b[0;31m               \u001b[0mtmp_logs\u001b[0m \u001b[0;34m=\u001b[0m \u001b[0mself\u001b[0m\u001b[0;34m.\u001b[0m\u001b[0mtrain_function\u001b[0m\u001b[0;34m(\u001b[0m\u001b[0miterator\u001b[0m\u001b[0;34m)\u001b[0m\u001b[0;34m\u001b[0m\u001b[0;34m\u001b[0m\u001b[0m\n\u001b[0m\u001b[1;32m   1185\u001b[0m               \u001b[0;32mif\u001b[0m \u001b[0mdata_handler\u001b[0m\u001b[0;34m.\u001b[0m\u001b[0mshould_sync\u001b[0m\u001b[0;34m:\u001b[0m\u001b[0;34m\u001b[0m\u001b[0;34m\u001b[0m\u001b[0m\n\u001b[1;32m   1186\u001b[0m                 \u001b[0mcontext\u001b[0m\u001b[0;34m.\u001b[0m\u001b[0masync_wait\u001b[0m\u001b[0;34m(\u001b[0m\u001b[0;34m)\u001b[0m\u001b[0;34m\u001b[0m\u001b[0;34m\u001b[0m\u001b[0m\n",
      "\u001b[0;32m~/anaconda3/envs/covid_vax_model/lib/python3.7/site-packages/keras/engine/training.py\u001b[0m in \u001b[0;36mtrain_function\u001b[0;34m(iterator)\u001b[0m\n\u001b[1;32m    851\u001b[0m       \u001b[0;32mdef\u001b[0m \u001b[0mtrain_function\u001b[0m\u001b[0;34m(\u001b[0m\u001b[0miterator\u001b[0m\u001b[0;34m)\u001b[0m\u001b[0;34m:\u001b[0m\u001b[0;34m\u001b[0m\u001b[0;34m\u001b[0m\u001b[0m\n\u001b[1;32m    852\u001b[0m         \u001b[0;34m\"\"\"Runs a training execution with one step.\"\"\"\u001b[0m\u001b[0;34m\u001b[0m\u001b[0;34m\u001b[0m\u001b[0m\n\u001b[0;32m--> 853\u001b[0;31m         \u001b[0;32mreturn\u001b[0m \u001b[0mstep_function\u001b[0m\u001b[0;34m(\u001b[0m\u001b[0mself\u001b[0m\u001b[0;34m,\u001b[0m \u001b[0miterator\u001b[0m\u001b[0;34m)\u001b[0m\u001b[0;34m\u001b[0m\u001b[0;34m\u001b[0m\u001b[0m\n\u001b[0m\u001b[1;32m    854\u001b[0m \u001b[0;34m\u001b[0m\u001b[0m\n\u001b[1;32m    855\u001b[0m     \u001b[0;32melse\u001b[0m\u001b[0;34m:\u001b[0m\u001b[0;34m\u001b[0m\u001b[0;34m\u001b[0m\u001b[0m\n",
      "\u001b[0;32m~/anaconda3/envs/covid_vax_model/lib/python3.7/site-packages/keras/engine/training.py\u001b[0m in \u001b[0;36mstep_function\u001b[0;34m(model, iterator)\u001b[0m\n\u001b[1;32m    840\u001b[0m \u001b[0;34m\u001b[0m\u001b[0m\n\u001b[1;32m    841\u001b[0m       \u001b[0mdata\u001b[0m \u001b[0;34m=\u001b[0m \u001b[0mnext\u001b[0m\u001b[0;34m(\u001b[0m\u001b[0miterator\u001b[0m\u001b[0;34m)\u001b[0m\u001b[0;34m\u001b[0m\u001b[0;34m\u001b[0m\u001b[0m\n\u001b[0;32m--> 842\u001b[0;31m       \u001b[0moutputs\u001b[0m \u001b[0;34m=\u001b[0m \u001b[0mmodel\u001b[0m\u001b[0;34m.\u001b[0m\u001b[0mdistribute_strategy\u001b[0m\u001b[0;34m.\u001b[0m\u001b[0mrun\u001b[0m\u001b[0;34m(\u001b[0m\u001b[0mrun_step\u001b[0m\u001b[0;34m,\u001b[0m \u001b[0margs\u001b[0m\u001b[0;34m=\u001b[0m\u001b[0;34m(\u001b[0m\u001b[0mdata\u001b[0m\u001b[0;34m,\u001b[0m\u001b[0;34m)\u001b[0m\u001b[0;34m)\u001b[0m\u001b[0;34m\u001b[0m\u001b[0;34m\u001b[0m\u001b[0m\n\u001b[0m\u001b[1;32m    843\u001b[0m       outputs = reduce_per_replica(\n\u001b[1;32m    844\u001b[0m           outputs, self.distribute_strategy, reduction='first')\n",
      "\u001b[0;32m~/anaconda3/envs/covid_vax_model/lib/python3.7/site-packages/tensorflow/python/distribute/distribute_lib.py\u001b[0m in \u001b[0;36mrun\u001b[0;34m(***failed resolving arguments***)\u001b[0m\n\u001b[1;32m   1284\u001b[0m       fn = autograph.tf_convert(\n\u001b[1;32m   1285\u001b[0m           fn, autograph_ctx.control_status_ctx(), convert_by_default=False)\n\u001b[0;32m-> 1286\u001b[0;31m       \u001b[0;32mreturn\u001b[0m \u001b[0mself\u001b[0m\u001b[0;34m.\u001b[0m\u001b[0m_extended\u001b[0m\u001b[0;34m.\u001b[0m\u001b[0mcall_for_each_replica\u001b[0m\u001b[0;34m(\u001b[0m\u001b[0mfn\u001b[0m\u001b[0;34m,\u001b[0m \u001b[0margs\u001b[0m\u001b[0;34m=\u001b[0m\u001b[0margs\u001b[0m\u001b[0;34m,\u001b[0m \u001b[0mkwargs\u001b[0m\u001b[0;34m=\u001b[0m\u001b[0mkwargs\u001b[0m\u001b[0;34m)\u001b[0m\u001b[0;34m\u001b[0m\u001b[0;34m\u001b[0m\u001b[0m\n\u001b[0m\u001b[1;32m   1287\u001b[0m \u001b[0;34m\u001b[0m\u001b[0m\n\u001b[1;32m   1288\u001b[0m   \u001b[0;32mdef\u001b[0m \u001b[0mreduce\u001b[0m\u001b[0;34m(\u001b[0m\u001b[0mself\u001b[0m\u001b[0;34m,\u001b[0m \u001b[0mreduce_op\u001b[0m\u001b[0;34m,\u001b[0m \u001b[0mvalue\u001b[0m\u001b[0;34m,\u001b[0m \u001b[0maxis\u001b[0m\u001b[0;34m)\u001b[0m\u001b[0;34m:\u001b[0m\u001b[0;34m\u001b[0m\u001b[0;34m\u001b[0m\u001b[0m\n",
      "\u001b[0;32m~/anaconda3/envs/covid_vax_model/lib/python3.7/site-packages/tensorflow/python/distribute/distribute_lib.py\u001b[0m in \u001b[0;36mcall_for_each_replica\u001b[0;34m(self, fn, args, kwargs)\u001b[0m\n\u001b[1;32m   2847\u001b[0m       \u001b[0mkwargs\u001b[0m \u001b[0;34m=\u001b[0m \u001b[0;34m{\u001b[0m\u001b[0;34m}\u001b[0m\u001b[0;34m\u001b[0m\u001b[0;34m\u001b[0m\u001b[0m\n\u001b[1;32m   2848\u001b[0m     \u001b[0;32mwith\u001b[0m \u001b[0mself\u001b[0m\u001b[0;34m.\u001b[0m\u001b[0m_container_strategy\u001b[0m\u001b[0;34m(\u001b[0m\u001b[0;34m)\u001b[0m\u001b[0;34m.\u001b[0m\u001b[0mscope\u001b[0m\u001b[0;34m(\u001b[0m\u001b[0;34m)\u001b[0m\u001b[0;34m:\u001b[0m\u001b[0;34m\u001b[0m\u001b[0;34m\u001b[0m\u001b[0m\n\u001b[0;32m-> 2849\u001b[0;31m       \u001b[0;32mreturn\u001b[0m \u001b[0mself\u001b[0m\u001b[0;34m.\u001b[0m\u001b[0m_call_for_each_replica\u001b[0m\u001b[0;34m(\u001b[0m\u001b[0mfn\u001b[0m\u001b[0;34m,\u001b[0m \u001b[0margs\u001b[0m\u001b[0;34m,\u001b[0m \u001b[0mkwargs\u001b[0m\u001b[0;34m)\u001b[0m\u001b[0;34m\u001b[0m\u001b[0;34m\u001b[0m\u001b[0m\n\u001b[0m\u001b[1;32m   2850\u001b[0m \u001b[0;34m\u001b[0m\u001b[0m\n\u001b[1;32m   2851\u001b[0m   \u001b[0;32mdef\u001b[0m \u001b[0m_call_for_each_replica\u001b[0m\u001b[0;34m(\u001b[0m\u001b[0mself\u001b[0m\u001b[0;34m,\u001b[0m \u001b[0mfn\u001b[0m\u001b[0;34m,\u001b[0m \u001b[0margs\u001b[0m\u001b[0;34m,\u001b[0m \u001b[0mkwargs\u001b[0m\u001b[0;34m)\u001b[0m\u001b[0;34m:\u001b[0m\u001b[0;34m\u001b[0m\u001b[0;34m\u001b[0m\u001b[0m\n",
      "\u001b[0;32m~/anaconda3/envs/covid_vax_model/lib/python3.7/site-packages/tensorflow/python/distribute/distribute_lib.py\u001b[0m in \u001b[0;36m_call_for_each_replica\u001b[0;34m(self, fn, args, kwargs)\u001b[0m\n\u001b[1;32m   3630\u001b[0m   \u001b[0;32mdef\u001b[0m \u001b[0m_call_for_each_replica\u001b[0m\u001b[0;34m(\u001b[0m\u001b[0mself\u001b[0m\u001b[0;34m,\u001b[0m \u001b[0mfn\u001b[0m\u001b[0;34m,\u001b[0m \u001b[0margs\u001b[0m\u001b[0;34m,\u001b[0m \u001b[0mkwargs\u001b[0m\u001b[0;34m)\u001b[0m\u001b[0;34m:\u001b[0m\u001b[0;34m\u001b[0m\u001b[0;34m\u001b[0m\u001b[0m\n\u001b[1;32m   3631\u001b[0m     \u001b[0;32mwith\u001b[0m \u001b[0mReplicaContext\u001b[0m\u001b[0;34m(\u001b[0m\u001b[0mself\u001b[0m\u001b[0;34m.\u001b[0m\u001b[0m_container_strategy\u001b[0m\u001b[0;34m(\u001b[0m\u001b[0;34m)\u001b[0m\u001b[0;34m,\u001b[0m \u001b[0mreplica_id_in_sync_group\u001b[0m\u001b[0;34m=\u001b[0m\u001b[0;36m0\u001b[0m\u001b[0;34m)\u001b[0m\u001b[0;34m:\u001b[0m\u001b[0;34m\u001b[0m\u001b[0;34m\u001b[0m\u001b[0m\n\u001b[0;32m-> 3632\u001b[0;31m       \u001b[0;32mreturn\u001b[0m \u001b[0mfn\u001b[0m\u001b[0;34m(\u001b[0m\u001b[0;34m*\u001b[0m\u001b[0margs\u001b[0m\u001b[0;34m,\u001b[0m \u001b[0;34m**\u001b[0m\u001b[0mkwargs\u001b[0m\u001b[0;34m)\u001b[0m\u001b[0;34m\u001b[0m\u001b[0;34m\u001b[0m\u001b[0m\n\u001b[0m\u001b[1;32m   3633\u001b[0m \u001b[0;34m\u001b[0m\u001b[0m\n\u001b[1;32m   3634\u001b[0m   \u001b[0;32mdef\u001b[0m \u001b[0m_reduce_to\u001b[0m\u001b[0;34m(\u001b[0m\u001b[0mself\u001b[0m\u001b[0;34m,\u001b[0m \u001b[0mreduce_op\u001b[0m\u001b[0;34m,\u001b[0m \u001b[0mvalue\u001b[0m\u001b[0;34m,\u001b[0m \u001b[0mdestinations\u001b[0m\u001b[0;34m,\u001b[0m \u001b[0moptions\u001b[0m\u001b[0;34m)\u001b[0m\u001b[0;34m:\u001b[0m\u001b[0;34m\u001b[0m\u001b[0;34m\u001b[0m\u001b[0m\n",
      "\u001b[0;32m~/anaconda3/envs/covid_vax_model/lib/python3.7/site-packages/tensorflow/python/autograph/impl/api.py\u001b[0m in \u001b[0;36mwrapper\u001b[0;34m(*args, **kwargs)\u001b[0m\n\u001b[1;32m    595\u001b[0m   \u001b[0;32mdef\u001b[0m \u001b[0mwrapper\u001b[0m\u001b[0;34m(\u001b[0m\u001b[0;34m*\u001b[0m\u001b[0margs\u001b[0m\u001b[0;34m,\u001b[0m \u001b[0;34m**\u001b[0m\u001b[0mkwargs\u001b[0m\u001b[0;34m)\u001b[0m\u001b[0;34m:\u001b[0m\u001b[0;34m\u001b[0m\u001b[0;34m\u001b[0m\u001b[0m\n\u001b[1;32m    596\u001b[0m     \u001b[0;32mwith\u001b[0m \u001b[0mag_ctx\u001b[0m\u001b[0;34m.\u001b[0m\u001b[0mControlStatusCtx\u001b[0m\u001b[0;34m(\u001b[0m\u001b[0mstatus\u001b[0m\u001b[0;34m=\u001b[0m\u001b[0mag_ctx\u001b[0m\u001b[0;34m.\u001b[0m\u001b[0mStatus\u001b[0m\u001b[0;34m.\u001b[0m\u001b[0mUNSPECIFIED\u001b[0m\u001b[0;34m)\u001b[0m\u001b[0;34m:\u001b[0m\u001b[0;34m\u001b[0m\u001b[0;34m\u001b[0m\u001b[0m\n\u001b[0;32m--> 597\u001b[0;31m       \u001b[0;32mreturn\u001b[0m \u001b[0mfunc\u001b[0m\u001b[0;34m(\u001b[0m\u001b[0;34m*\u001b[0m\u001b[0margs\u001b[0m\u001b[0;34m,\u001b[0m \u001b[0;34m**\u001b[0m\u001b[0mkwargs\u001b[0m\u001b[0;34m)\u001b[0m\u001b[0;34m\u001b[0m\u001b[0;34m\u001b[0m\u001b[0m\n\u001b[0m\u001b[1;32m    598\u001b[0m \u001b[0;34m\u001b[0m\u001b[0m\n\u001b[1;32m    599\u001b[0m   \u001b[0;32mif\u001b[0m \u001b[0minspect\u001b[0m\u001b[0;34m.\u001b[0m\u001b[0misfunction\u001b[0m\u001b[0;34m(\u001b[0m\u001b[0mfunc\u001b[0m\u001b[0;34m)\u001b[0m \u001b[0;32mor\u001b[0m \u001b[0minspect\u001b[0m\u001b[0;34m.\u001b[0m\u001b[0mismethod\u001b[0m\u001b[0;34m(\u001b[0m\u001b[0mfunc\u001b[0m\u001b[0;34m)\u001b[0m\u001b[0;34m:\u001b[0m\u001b[0;34m\u001b[0m\u001b[0;34m\u001b[0m\u001b[0m\n",
      "\u001b[0;32m~/anaconda3/envs/covid_vax_model/lib/python3.7/site-packages/keras/engine/training.py\u001b[0m in \u001b[0;36mrun_step\u001b[0;34m(data)\u001b[0m\n\u001b[1;32m    833\u001b[0m \u001b[0;34m\u001b[0m\u001b[0m\n\u001b[1;32m    834\u001b[0m       \u001b[0;32mdef\u001b[0m \u001b[0mrun_step\u001b[0m\u001b[0;34m(\u001b[0m\u001b[0mdata\u001b[0m\u001b[0;34m)\u001b[0m\u001b[0;34m:\u001b[0m\u001b[0;34m\u001b[0m\u001b[0;34m\u001b[0m\u001b[0m\n\u001b[0;32m--> 835\u001b[0;31m         \u001b[0moutputs\u001b[0m \u001b[0;34m=\u001b[0m \u001b[0mmodel\u001b[0m\u001b[0;34m.\u001b[0m\u001b[0mtrain_step\u001b[0m\u001b[0;34m(\u001b[0m\u001b[0mdata\u001b[0m\u001b[0;34m)\u001b[0m\u001b[0;34m\u001b[0m\u001b[0;34m\u001b[0m\u001b[0m\n\u001b[0m\u001b[1;32m    836\u001b[0m         \u001b[0;31m# Ensure counter is updated only if `train_step` succeeds.\u001b[0m\u001b[0;34m\u001b[0m\u001b[0;34m\u001b[0m\u001b[0;34m\u001b[0m\u001b[0m\n\u001b[1;32m    837\u001b[0m         \u001b[0;32mwith\u001b[0m \u001b[0mtf\u001b[0m\u001b[0;34m.\u001b[0m\u001b[0mcontrol_dependencies\u001b[0m\u001b[0;34m(\u001b[0m\u001b[0m_minimum_control_deps\u001b[0m\u001b[0;34m(\u001b[0m\u001b[0moutputs\u001b[0m\u001b[0;34m)\u001b[0m\u001b[0;34m)\u001b[0m\u001b[0;34m:\u001b[0m\u001b[0;34m\u001b[0m\u001b[0;34m\u001b[0m\u001b[0m\n",
      "\u001b[0;32m~/anaconda3/envs/covid_vax_model/lib/python3.7/site-packages/keras/engine/training.py\u001b[0m in \u001b[0;36mtrain_step\u001b[0;34m(self, data)\u001b[0m\n\u001b[1;32m    785\u001b[0m     \u001b[0;31m# Run forward pass.\u001b[0m\u001b[0;34m\u001b[0m\u001b[0;34m\u001b[0m\u001b[0;34m\u001b[0m\u001b[0m\n\u001b[1;32m    786\u001b[0m     \u001b[0;32mwith\u001b[0m \u001b[0mtf\u001b[0m\u001b[0;34m.\u001b[0m\u001b[0mGradientTape\u001b[0m\u001b[0;34m(\u001b[0m\u001b[0;34m)\u001b[0m \u001b[0;32mas\u001b[0m \u001b[0mtape\u001b[0m\u001b[0;34m:\u001b[0m\u001b[0;34m\u001b[0m\u001b[0;34m\u001b[0m\u001b[0m\n\u001b[0;32m--> 787\u001b[0;31m       \u001b[0my_pred\u001b[0m \u001b[0;34m=\u001b[0m \u001b[0mself\u001b[0m\u001b[0;34m(\u001b[0m\u001b[0mx\u001b[0m\u001b[0;34m,\u001b[0m \u001b[0mtraining\u001b[0m\u001b[0;34m=\u001b[0m\u001b[0;32mTrue\u001b[0m\u001b[0;34m)\u001b[0m\u001b[0;34m\u001b[0m\u001b[0;34m\u001b[0m\u001b[0m\n\u001b[0m\u001b[1;32m    788\u001b[0m       loss = self.compiled_loss(\n\u001b[1;32m    789\u001b[0m           y, y_pred, sample_weight, regularization_losses=self.losses)\n",
      "\u001b[0;32m~/anaconda3/envs/covid_vax_model/lib/python3.7/site-packages/keras/engine/base_layer.py\u001b[0m in \u001b[0;36m__call__\u001b[0;34m(self, *args, **kwargs)\u001b[0m\n\u001b[1;32m   1035\u001b[0m         with autocast_variable.enable_auto_cast_variables(\n\u001b[1;32m   1036\u001b[0m             self._compute_dtype_object):\n\u001b[0;32m-> 1037\u001b[0;31m           \u001b[0moutputs\u001b[0m \u001b[0;34m=\u001b[0m \u001b[0mcall_fn\u001b[0m\u001b[0;34m(\u001b[0m\u001b[0minputs\u001b[0m\u001b[0;34m,\u001b[0m \u001b[0;34m*\u001b[0m\u001b[0margs\u001b[0m\u001b[0;34m,\u001b[0m \u001b[0;34m**\u001b[0m\u001b[0mkwargs\u001b[0m\u001b[0;34m)\u001b[0m\u001b[0;34m\u001b[0m\u001b[0;34m\u001b[0m\u001b[0m\n\u001b[0m\u001b[1;32m   1038\u001b[0m \u001b[0;34m\u001b[0m\u001b[0m\n\u001b[1;32m   1039\u001b[0m         \u001b[0;32mif\u001b[0m \u001b[0mself\u001b[0m\u001b[0;34m.\u001b[0m\u001b[0m_activity_regularizer\u001b[0m\u001b[0;34m:\u001b[0m\u001b[0;34m\u001b[0m\u001b[0;34m\u001b[0m\u001b[0m\n",
      "\u001b[0;32m/mnt/c/Users/kheut/code/covid19-forecasting/tf_model_1p5/model.py\u001b[0m in \u001b[0;36mcall\u001b[0;34m(self, r_t, debug_disable_prior, return_all)\u001b[0m\n\u001b[1;32m     63\u001b[0m \u001b[0;34m\u001b[0m\u001b[0m\n\u001b[1;32m     64\u001b[0m         \u001b[0mself\u001b[0m\u001b[0;34m.\u001b[0m\u001b[0m_constrain_parameters\u001b[0m\u001b[0;34m(\u001b[0m\u001b[0;34m)\u001b[0m\u001b[0;34m\u001b[0m\u001b[0;34m\u001b[0m\u001b[0m\n\u001b[0;32m---> 65\u001b[0;31m         \u001b[0mself\u001b[0m\u001b[0;34m.\u001b[0m\u001b[0m_sample_and_reparameterize\u001b[0m\u001b[0;34m(\u001b[0m\u001b[0;34m)\u001b[0m\u001b[0;34m\u001b[0m\u001b[0;34m\u001b[0m\u001b[0m\n\u001b[0m\u001b[1;32m     66\u001b[0m \u001b[0;34m\u001b[0m\u001b[0m\n\u001b[1;32m     67\u001b[0m         \u001b[0mr_t\u001b[0m \u001b[0;34m=\u001b[0m \u001b[0mtf\u001b[0m\u001b[0;34m.\u001b[0m\u001b[0msqueeze\u001b[0m\u001b[0;34m(\u001b[0m\u001b[0mr_t\u001b[0m\u001b[0;34m)\u001b[0m\u001b[0;34m\u001b[0m\u001b[0;34m\u001b[0m\u001b[0m\n",
      "\u001b[0;32m/mnt/c/Users/kheut/code/covid19-forecasting/tf_model_1p5/model.py\u001b[0m in \u001b[0;36m_sample_and_reparameterize\u001b[0;34m(self)\u001b[0m\n\u001b[1;32m    382\u001b[0m \u001b[0;34m\u001b[0m\u001b[0m\n\u001b[1;32m    383\u001b[0m         \u001b[0;32mfor\u001b[0m \u001b[0mj\u001b[0m \u001b[0;32min\u001b[0m \u001b[0mrange\u001b[0m\u001b[0;34m(\u001b[0m\u001b[0mself\u001b[0m\u001b[0;34m.\u001b[0m\u001b[0mtransition_window\u001b[0m\u001b[0;34m)\u001b[0m\u001b[0;34m:\u001b[0m\u001b[0;34m\u001b[0m\u001b[0;34m\u001b[0m\u001b[0m\n\u001b[0;32m--> 384\u001b[0;31m             \u001b[0mpoisson_M_samples\u001b[0m \u001b[0;34m=\u001b[0m \u001b[0mnp\u001b[0m\u001b[0;34m.\u001b[0m\u001b[0marray\u001b[0m\u001b[0;34m(\u001b[0m\u001b[0;34m[\u001b[0m\u001b[0mdist\u001b[0m\u001b[0;34m.\u001b[0m\u001b[0mlog_prob\u001b[0m\u001b[0;34m(\u001b[0m\u001b[0mj\u001b[0m\u001b[0;34m+\u001b[0m\u001b[0;36m1\u001b[0m\u001b[0;34m)\u001b[0m \u001b[0;32mfor\u001b[0m \u001b[0mdist\u001b[0m \u001b[0;32min\u001b[0m \u001b[0mpoisson_M_dist_samples\u001b[0m\u001b[0;34m]\u001b[0m\u001b[0;34m)\u001b[0m\u001b[0;34m\u001b[0m\u001b[0;34m\u001b[0m\u001b[0m\n\u001b[0m\u001b[1;32m    385\u001b[0m             self.pi_M_samples = self.pi_M_samples.write(j, np.array([dist.log_prob(j + 1) for dist in poisson_M_dist_samples]) /\n\u001b[1;32m    386\u001b[0m                                                            self.nu_M_samples_constrained)\n",
      "\u001b[0;32m/mnt/c/Users/kheut/code/covid19-forecasting/tf_model_1p5/model.py\u001b[0m in \u001b[0;36m<listcomp>\u001b[0;34m(.0)\u001b[0m\n\u001b[1;32m    382\u001b[0m \u001b[0;34m\u001b[0m\u001b[0m\n\u001b[1;32m    383\u001b[0m         \u001b[0;32mfor\u001b[0m \u001b[0mj\u001b[0m \u001b[0;32min\u001b[0m \u001b[0mrange\u001b[0m\u001b[0;34m(\u001b[0m\u001b[0mself\u001b[0m\u001b[0;34m.\u001b[0m\u001b[0mtransition_window\u001b[0m\u001b[0;34m)\u001b[0m\u001b[0;34m:\u001b[0m\u001b[0;34m\u001b[0m\u001b[0;34m\u001b[0m\u001b[0m\n\u001b[0;32m--> 384\u001b[0;31m             \u001b[0mpoisson_M_samples\u001b[0m \u001b[0;34m=\u001b[0m \u001b[0mnp\u001b[0m\u001b[0;34m.\u001b[0m\u001b[0marray\u001b[0m\u001b[0;34m(\u001b[0m\u001b[0;34m[\u001b[0m\u001b[0mdist\u001b[0m\u001b[0;34m.\u001b[0m\u001b[0mlog_prob\u001b[0m\u001b[0;34m(\u001b[0m\u001b[0mj\u001b[0m\u001b[0;34m+\u001b[0m\u001b[0;36m1\u001b[0m\u001b[0;34m)\u001b[0m \u001b[0;32mfor\u001b[0m \u001b[0mdist\u001b[0m \u001b[0;32min\u001b[0m \u001b[0mpoisson_M_dist_samples\u001b[0m\u001b[0;34m]\u001b[0m\u001b[0;34m)\u001b[0m\u001b[0;34m\u001b[0m\u001b[0;34m\u001b[0m\u001b[0m\n\u001b[0m\u001b[1;32m    385\u001b[0m             self.pi_M_samples = self.pi_M_samples.write(j, np.array([dist.log_prob(j + 1) for dist in poisson_M_dist_samples]) /\n\u001b[1;32m    386\u001b[0m                                                            self.nu_M_samples_constrained)\n",
      "\u001b[0;32m~/anaconda3/envs/covid_vax_model/lib/python3.7/site-packages/tensorflow_probability/python/distributions/distribution.py\u001b[0m in \u001b[0;36mlog_prob\u001b[0;34m(self, value, name, **kwargs)\u001b[0m\n\u001b[1;32m   1294\u001b[0m         \u001b[0mvalues\u001b[0m \u001b[0mof\u001b[0m \u001b[0mtype\u001b[0m\u001b[0;31m \u001b[0m\u001b[0;31m`\u001b[0m\u001b[0mself\u001b[0m\u001b[0;34m.\u001b[0m\u001b[0mdtype\u001b[0m\u001b[0;31m`\u001b[0m\u001b[0;34m.\u001b[0m\u001b[0;34m\u001b[0m\u001b[0;34m\u001b[0m\u001b[0m\n\u001b[1;32m   1295\u001b[0m     \"\"\"\n\u001b[0;32m-> 1296\u001b[0;31m     \u001b[0;32mreturn\u001b[0m \u001b[0mself\u001b[0m\u001b[0;34m.\u001b[0m\u001b[0m_call_log_prob\u001b[0m\u001b[0;34m(\u001b[0m\u001b[0mvalue\u001b[0m\u001b[0;34m,\u001b[0m \u001b[0mname\u001b[0m\u001b[0;34m,\u001b[0m \u001b[0;34m**\u001b[0m\u001b[0mkwargs\u001b[0m\u001b[0;34m)\u001b[0m\u001b[0;34m\u001b[0m\u001b[0;34m\u001b[0m\u001b[0m\n\u001b[0m\u001b[1;32m   1297\u001b[0m \u001b[0;34m\u001b[0m\u001b[0m\n\u001b[1;32m   1298\u001b[0m   \u001b[0;32mdef\u001b[0m \u001b[0m_call_prob\u001b[0m\u001b[0;34m(\u001b[0m\u001b[0mself\u001b[0m\u001b[0;34m,\u001b[0m \u001b[0mvalue\u001b[0m\u001b[0;34m,\u001b[0m \u001b[0mname\u001b[0m\u001b[0;34m,\u001b[0m \u001b[0;34m**\u001b[0m\u001b[0mkwargs\u001b[0m\u001b[0;34m)\u001b[0m\u001b[0;34m:\u001b[0m\u001b[0;34m\u001b[0m\u001b[0;34m\u001b[0m\u001b[0m\n",
      "\u001b[0;32m~/anaconda3/envs/covid_vax_model/lib/python3.7/site-packages/tensorflow_probability/python/distributions/distribution.py\u001b[0m in \u001b[0;36m_call_log_prob\u001b[0;34m(self, value, name, **kwargs)\u001b[0m\n\u001b[1;32m   1276\u001b[0m     \u001b[0;32mwith\u001b[0m \u001b[0mself\u001b[0m\u001b[0;34m.\u001b[0m\u001b[0m_name_and_control_scope\u001b[0m\u001b[0;34m(\u001b[0m\u001b[0mname\u001b[0m\u001b[0;34m,\u001b[0m \u001b[0mvalue\u001b[0m\u001b[0;34m,\u001b[0m \u001b[0mkwargs\u001b[0m\u001b[0;34m)\u001b[0m\u001b[0;34m:\u001b[0m\u001b[0;34m\u001b[0m\u001b[0;34m\u001b[0m\u001b[0m\n\u001b[1;32m   1277\u001b[0m       \u001b[0;32mif\u001b[0m \u001b[0mhasattr\u001b[0m\u001b[0;34m(\u001b[0m\u001b[0mself\u001b[0m\u001b[0;34m,\u001b[0m \u001b[0;34m'_log_prob'\u001b[0m\u001b[0;34m)\u001b[0m\u001b[0;34m:\u001b[0m\u001b[0;34m\u001b[0m\u001b[0;34m\u001b[0m\u001b[0m\n\u001b[0;32m-> 1278\u001b[0;31m         \u001b[0;32mreturn\u001b[0m \u001b[0mself\u001b[0m\u001b[0;34m.\u001b[0m\u001b[0m_log_prob\u001b[0m\u001b[0;34m(\u001b[0m\u001b[0mvalue\u001b[0m\u001b[0;34m,\u001b[0m \u001b[0;34m**\u001b[0m\u001b[0mkwargs\u001b[0m\u001b[0;34m)\u001b[0m\u001b[0;34m\u001b[0m\u001b[0;34m\u001b[0m\u001b[0m\n\u001b[0m\u001b[1;32m   1279\u001b[0m       \u001b[0;32mif\u001b[0m \u001b[0mhasattr\u001b[0m\u001b[0;34m(\u001b[0m\u001b[0mself\u001b[0m\u001b[0;34m,\u001b[0m \u001b[0;34m'_prob'\u001b[0m\u001b[0;34m)\u001b[0m\u001b[0;34m:\u001b[0m\u001b[0;34m\u001b[0m\u001b[0;34m\u001b[0m\u001b[0m\n\u001b[1;32m   1280\u001b[0m         \u001b[0;32mreturn\u001b[0m \u001b[0mtf\u001b[0m\u001b[0;34m.\u001b[0m\u001b[0mmath\u001b[0m\u001b[0;34m.\u001b[0m\u001b[0mlog\u001b[0m\u001b[0;34m(\u001b[0m\u001b[0mself\u001b[0m\u001b[0;34m.\u001b[0m\u001b[0m_prob\u001b[0m\u001b[0;34m(\u001b[0m\u001b[0mvalue\u001b[0m\u001b[0;34m,\u001b[0m \u001b[0;34m**\u001b[0m\u001b[0mkwargs\u001b[0m\u001b[0;34m)\u001b[0m\u001b[0;34m)\u001b[0m\u001b[0;34m\u001b[0m\u001b[0;34m\u001b[0m\u001b[0m\n",
      "\u001b[0;32m~/anaconda3/envs/covid_vax_model/lib/python3.7/site-packages/tensorflow_probability/python/distributions/poisson.py\u001b[0m in \u001b[0;36m_log_prob\u001b[0;34m(self, x)\u001b[0m\n\u001b[1;32m    295\u001b[0m     \u001b[0mlog_rate\u001b[0m \u001b[0;34m=\u001b[0m \u001b[0mself\u001b[0m\u001b[0;34m.\u001b[0m\u001b[0m_log_rate_parameter_no_checks\u001b[0m\u001b[0;34m(\u001b[0m\u001b[0;34m)\u001b[0m\u001b[0;34m\u001b[0m\u001b[0;34m\u001b[0m\u001b[0m\n\u001b[1;32m    296\u001b[0m     log_probs = (self._log_unnormalized_prob(x, log_rate) -\n\u001b[0;32m--> 297\u001b[0;31m                  self._log_normalization(log_rate))\n\u001b[0m\u001b[1;32m    298\u001b[0m     \u001b[0;32mif\u001b[0m \u001b[0mself\u001b[0m\u001b[0;34m.\u001b[0m\u001b[0mforce_probs_to_zero_outside_support\u001b[0m\u001b[0;34m:\u001b[0m\u001b[0;34m\u001b[0m\u001b[0;34m\u001b[0m\u001b[0m\n\u001b[1;32m    299\u001b[0m       \u001b[0;31m# Ensure the gradient wrt `rate` is zero at non-integer points.\u001b[0m\u001b[0;34m\u001b[0m\u001b[0;34m\u001b[0m\u001b[0;34m\u001b[0m\u001b[0m\n",
      "\u001b[0;32m~/anaconda3/envs/covid_vax_model/lib/python3.7/site-packages/tensorflow/python/ops/math_ops.py\u001b[0m in \u001b[0;36mbinary_op_wrapper\u001b[0;34m(x, y)\u001b[0m\n\u001b[1;32m   1365\u001b[0m         \u001b[0;31m#   r_binary_op_wrapper use different force_same_dtype values.\u001b[0m\u001b[0;34m\u001b[0m\u001b[0;34m\u001b[0m\u001b[0;34m\u001b[0m\u001b[0m\n\u001b[1;32m   1366\u001b[0m         \u001b[0mx\u001b[0m\u001b[0;34m,\u001b[0m \u001b[0my\u001b[0m \u001b[0;34m=\u001b[0m \u001b[0mmaybe_promote_tensors\u001b[0m\u001b[0;34m(\u001b[0m\u001b[0mx\u001b[0m\u001b[0;34m,\u001b[0m \u001b[0my\u001b[0m\u001b[0;34m,\u001b[0m \u001b[0mforce_same_dtype\u001b[0m\u001b[0;34m=\u001b[0m\u001b[0;32mFalse\u001b[0m\u001b[0;34m)\u001b[0m\u001b[0;34m\u001b[0m\u001b[0;34m\u001b[0m\u001b[0m\n\u001b[0;32m-> 1367\u001b[0;31m         \u001b[0;32mreturn\u001b[0m \u001b[0mfunc\u001b[0m\u001b[0;34m(\u001b[0m\u001b[0mx\u001b[0m\u001b[0;34m,\u001b[0m \u001b[0my\u001b[0m\u001b[0;34m,\u001b[0m \u001b[0mname\u001b[0m\u001b[0;34m=\u001b[0m\u001b[0mname\u001b[0m\u001b[0;34m)\u001b[0m\u001b[0;34m\u001b[0m\u001b[0;34m\u001b[0m\u001b[0m\n\u001b[0m\u001b[1;32m   1368\u001b[0m       \u001b[0;32mexcept\u001b[0m \u001b[0;34m(\u001b[0m\u001b[0mTypeError\u001b[0m\u001b[0;34m,\u001b[0m \u001b[0mValueError\u001b[0m\u001b[0;34m)\u001b[0m \u001b[0;32mas\u001b[0m \u001b[0me\u001b[0m\u001b[0;34m:\u001b[0m\u001b[0;34m\u001b[0m\u001b[0;34m\u001b[0m\u001b[0m\n\u001b[1;32m   1369\u001b[0m         \u001b[0;31m# Even if dispatching the op failed, the RHS may be a tensor aware\u001b[0m\u001b[0;34m\u001b[0m\u001b[0;34m\u001b[0m\u001b[0;34m\u001b[0m\u001b[0m\n",
      "\u001b[0;32m~/anaconda3/envs/covid_vax_model/lib/python3.7/site-packages/tensorflow/python/util/dispatch.py\u001b[0m in \u001b[0;36mwrapper\u001b[0;34m(*args, **kwargs)\u001b[0m\n\u001b[1;32m    204\u001b[0m     \u001b[0;34m\"\"\"Call target, and fall back on dispatchers if there is a TypeError.\"\"\"\u001b[0m\u001b[0;34m\u001b[0m\u001b[0;34m\u001b[0m\u001b[0m\n\u001b[1;32m    205\u001b[0m     \u001b[0;32mtry\u001b[0m\u001b[0;34m:\u001b[0m\u001b[0;34m\u001b[0m\u001b[0;34m\u001b[0m\u001b[0m\n\u001b[0;32m--> 206\u001b[0;31m       \u001b[0;32mreturn\u001b[0m \u001b[0mtarget\u001b[0m\u001b[0;34m(\u001b[0m\u001b[0;34m*\u001b[0m\u001b[0margs\u001b[0m\u001b[0;34m,\u001b[0m \u001b[0;34m**\u001b[0m\u001b[0mkwargs\u001b[0m\u001b[0;34m)\u001b[0m\u001b[0;34m\u001b[0m\u001b[0;34m\u001b[0m\u001b[0m\n\u001b[0m\u001b[1;32m    207\u001b[0m     \u001b[0;32mexcept\u001b[0m \u001b[0;34m(\u001b[0m\u001b[0mTypeError\u001b[0m\u001b[0;34m,\u001b[0m \u001b[0mValueError\u001b[0m\u001b[0;34m)\u001b[0m\u001b[0;34m:\u001b[0m\u001b[0;34m\u001b[0m\u001b[0;34m\u001b[0m\u001b[0m\n\u001b[1;32m    208\u001b[0m       \u001b[0;31m# Note: convert_to_eager_tensor currently raises a ValueError, not a\u001b[0m\u001b[0;34m\u001b[0m\u001b[0;34m\u001b[0m\u001b[0;34m\u001b[0m\u001b[0m\n",
      "\u001b[0;32m~/anaconda3/envs/covid_vax_model/lib/python3.7/site-packages/tensorflow/python/ops/math_ops.py\u001b[0m in \u001b[0;36msubtract\u001b[0;34m(x, y, name)\u001b[0m\n\u001b[1;32m    546\u001b[0m \u001b[0;34m@\u001b[0m\u001b[0mdispatch\u001b[0m\u001b[0;34m.\u001b[0m\u001b[0madd_dispatch_support\u001b[0m\u001b[0;34m\u001b[0m\u001b[0;34m\u001b[0m\u001b[0m\n\u001b[1;32m    547\u001b[0m \u001b[0;32mdef\u001b[0m \u001b[0msubtract\u001b[0m\u001b[0;34m(\u001b[0m\u001b[0mx\u001b[0m\u001b[0;34m,\u001b[0m \u001b[0my\u001b[0m\u001b[0;34m,\u001b[0m \u001b[0mname\u001b[0m\u001b[0;34m=\u001b[0m\u001b[0;32mNone\u001b[0m\u001b[0;34m)\u001b[0m\u001b[0;34m:\u001b[0m\u001b[0;34m\u001b[0m\u001b[0;34m\u001b[0m\u001b[0m\n\u001b[0;32m--> 548\u001b[0;31m   \u001b[0;32mreturn\u001b[0m \u001b[0mgen_math_ops\u001b[0m\u001b[0;34m.\u001b[0m\u001b[0msub\u001b[0m\u001b[0;34m(\u001b[0m\u001b[0mx\u001b[0m\u001b[0;34m,\u001b[0m \u001b[0my\u001b[0m\u001b[0;34m,\u001b[0m \u001b[0mname\u001b[0m\u001b[0;34m)\u001b[0m\u001b[0;34m\u001b[0m\u001b[0;34m\u001b[0m\u001b[0m\n\u001b[0m\u001b[1;32m    549\u001b[0m \u001b[0;34m\u001b[0m\u001b[0m\n\u001b[1;32m    550\u001b[0m \u001b[0;34m\u001b[0m\u001b[0m\n",
      "\u001b[0;32m~/anaconda3/envs/covid_vax_model/lib/python3.7/site-packages/tensorflow/python/ops/gen_math_ops.py\u001b[0m in \u001b[0;36msub\u001b[0;34m(x, y, name)\u001b[0m\n\u001b[1;32m  10639\u001b[0m     \u001b[0;32mtry\u001b[0m\u001b[0;34m:\u001b[0m\u001b[0;34m\u001b[0m\u001b[0;34m\u001b[0m\u001b[0m\n\u001b[1;32m  10640\u001b[0m       _result = pywrap_tfe.TFE_Py_FastPathExecute(\n\u001b[0;32m> 10641\u001b[0;31m         _ctx, \"Sub\", name, x, y)\n\u001b[0m\u001b[1;32m  10642\u001b[0m       \u001b[0;32mreturn\u001b[0m \u001b[0m_result\u001b[0m\u001b[0;34m\u001b[0m\u001b[0;34m\u001b[0m\u001b[0m\n\u001b[1;32m  10643\u001b[0m     \u001b[0;32mexcept\u001b[0m \u001b[0m_core\u001b[0m\u001b[0;34m.\u001b[0m\u001b[0m_NotOkStatusException\u001b[0m \u001b[0;32mas\u001b[0m \u001b[0me\u001b[0m\u001b[0;34m:\u001b[0m\u001b[0;34m\u001b[0m\u001b[0;34m\u001b[0m\u001b[0m\n",
      "\u001b[0;31mKeyboardInterrupt\u001b[0m: "
     ]
    }
   ],
   "source": [
    "model.compile(loss=loss, optimizer=optimizer, run_eagerly=True)\n",
    "model.fit(x=np.asarray([x_train]), y=np.asarray([M_vals]),\n",
    "         epochs=1000, batch_size=0,\n",
    "        callbacks=logging_callbacks)"
   ]
  },
  {
   "cell_type": "code",
   "execution_count": 88,
   "id": "74b8b339",
   "metadata": {},
   "outputs": [
    {
     "data": {
      "text/plain": [
       "0"
      ]
     },
     "execution_count": 88,
     "metadata": {},
     "output_type": "execute_result"
    }
   ],
   "source": [
    "epoch"
   ]
  },
  {
   "cell_type": "code",
   "execution_count": null,
   "id": "c0964360",
   "metadata": {},
   "outputs": [],
   "source": []
  },
  {
   "cell_type": "code",
   "execution_count": null,
   "id": "f21ce1eb",
   "metadata": {},
   "outputs": [],
   "source": []
  },
  {
   "cell_type": "code",
   "execution_count": null,
   "id": "2bff928a",
   "metadata": {},
   "outputs": [],
   "source": []
  },
  {
   "cell_type": "code",
   "execution_count": null,
   "id": "861a1f84",
   "metadata": {},
   "outputs": [],
   "source": []
  },
  {
   "cell_type": "code",
   "execution_count": 23,
   "id": "b2f44042",
   "metadata": {},
   "outputs": [
    {
     "ename": "ModuleNotFoundError",
     "evalue": "No module named 'tfa'",
     "output_type": "error",
     "traceback": [
      "\u001b[0;31m---------------------------------------------------------------------------\u001b[0m",
      "\u001b[0;31mModuleNotFoundError\u001b[0m                       Traceback (most recent call last)",
      "\u001b[0;32m/tmp/ipykernel_343/3402717884.py\u001b[0m in \u001b[0;36m<module>\u001b[0;34m\u001b[0m\n\u001b[0;32m----> 1\u001b[0;31m \u001b[0;32mimport\u001b[0m \u001b[0mtfa\u001b[0m\u001b[0;34m.\u001b[0m\u001b[0moptimizers\u001b[0m\u001b[0;34m\u001b[0m\u001b[0;34m\u001b[0m\u001b[0m\n\u001b[0m",
      "\u001b[0;31mModuleNotFoundError\u001b[0m: No module named 'tfa'"
     ]
    }
   ],
   "source": [
    "import tfa.optimizers"
   ]
  },
  {
   "cell_type": "code",
   "execution_count": 40,
   "id": "8443f751",
   "metadata": {},
   "outputs": [
    {
     "ename": "RuntimeError",
     "evalue": "A non-persistent GradientTape can only be used to compute one set of gradients (or jacobians)",
     "output_type": "error",
     "traceback": [
      "\u001b[0;31m---------------------------------------------------------------------------\u001b[0m",
      "\u001b[0;31mRuntimeError\u001b[0m                              Traceback (most recent call last)",
      "\u001b[0;32m/tmp/ipykernel_817/1678071815.py\u001b[0m in \u001b[0;36m<module>\u001b[0;34m\u001b[0m\n\u001b[0;32m----> 1\u001b[0;31m \u001b[0mtape\u001b[0m\u001b[0;34m.\u001b[0m\u001b[0mgradient\u001b[0m\u001b[0;34m(\u001b[0m\u001b[0mloss_val\u001b[0m\u001b[0;34m,\u001b[0m \u001b[0mmodel_variables\u001b[0m\u001b[0;34m)\u001b[0m\u001b[0;34m\u001b[0m\u001b[0;34m\u001b[0m\u001b[0m\n\u001b[0m",
      "\u001b[0;32m~/anaconda3/envs/covid_vax_model/lib/python3.7/site-packages/tensorflow/python/eager/backprop.py\u001b[0m in \u001b[0;36mgradient\u001b[0;34m(self, target, sources, output_gradients, unconnected_gradients)\u001b[0m\n\u001b[1;32m   1030\u001b[0m     \"\"\"\n\u001b[1;32m   1031\u001b[0m     \u001b[0;32mif\u001b[0m \u001b[0mself\u001b[0m\u001b[0;34m.\u001b[0m\u001b[0m_tape\u001b[0m \u001b[0;32mis\u001b[0m \u001b[0;32mNone\u001b[0m\u001b[0;34m:\u001b[0m\u001b[0;34m\u001b[0m\u001b[0;34m\u001b[0m\u001b[0m\n\u001b[0;32m-> 1032\u001b[0;31m       raise RuntimeError(\"A non-persistent GradientTape can only be used to \"\n\u001b[0m\u001b[1;32m   1033\u001b[0m                          \"compute one set of gradients (or jacobians)\")\n\u001b[1;32m   1034\u001b[0m     \u001b[0;32mif\u001b[0m \u001b[0mself\u001b[0m\u001b[0;34m.\u001b[0m\u001b[0m_recording\u001b[0m\u001b[0;34m:\u001b[0m\u001b[0;34m\u001b[0m\u001b[0;34m\u001b[0m\u001b[0m\n",
      "\u001b[0;31mRuntimeError\u001b[0m: A non-persistent GradientTape can only be used to compute one set of gradients (or jacobians)"
     ]
    }
   ],
   "source": [
    "tape.gradient(loss_val, model_variables)"
   ]
  },
  {
   "cell_type": "code",
   "execution_count": 108,
   "id": "b66d5727",
   "metadata": {},
   "outputs": [
    {
     "data": {
      "text/plain": [
       "[<tf.Variable 'T_serial_A_loc_-1:0' shape=() dtype=float32, numpy=5.8847>,\n",
       " <tf.Variable 'T_serial_A_scale_-1:0' shape=() dtype=float32, numpy=-3.0389266>,\n",
       " <tf.Variable 'rho_M_loc_-1:0' shape=() dtype=float32, numpy=27.03185>,\n",
       " <tf.Variable 'rho_M_scale_-1:0' shape=() dtype=float32, numpy=-2.5363524>,\n",
       " <tf.Variable 'lambda_M_loc_-1:0' shape=() dtype=float32, numpy=3.0260434>,\n",
       " <tf.Variable 'lambda_M_scale_-1:0' shape=() dtype=float32, numpy=0.5457453>,\n",
       " <tf.Variable 'nu_M_loc_-1:0' shape=() dtype=float32, numpy=4.8226805>,\n",
       " <tf.Variable 'nu_M_scale_-1:0' shape=() dtype=float32, numpy=0.87884235>,\n",
       " <tf.Variable 'warmup_A_loc_0_-1:0' shape=() dtype=float32, numpy=2000.0001>,\n",
       " <tf.Variable 'warmup_A_scale_0_-1:0' shape=() dtype=float32, numpy=499.99854>,\n",
       " <tf.Variable 'warmup_A_loc_1_-1:0' shape=() dtype=float32, numpy=2000.0002>,\n",
       " <tf.Variable 'warmup_A_scale_1_-1:0' shape=() dtype=float32, numpy=499.99704>,\n",
       " <tf.Variable 'warmup_A_loc_2_-1:0' shape=() dtype=float32, numpy=1999.8344>,\n",
       " <tf.Variable 'warmup_A_scale_2_-1:0' shape=() dtype=float32, numpy=498.70923>]"
      ]
     },
     "execution_count": 108,
     "metadata": {},
     "output_type": "execute_result"
    }
   ],
   "source": [
    "model.trainable_variables"
   ]
  },
  {
   "cell_type": "code",
   "execution_count": 109,
   "id": "d63fc6a3",
   "metadata": {},
   "outputs": [
    {
     "data": {
      "text/plain": [
       "[<tf.Tensor: shape=(), dtype=float32, numpy=-5126.562>,\n",
       " <tf.Tensor: shape=(), dtype=float32, numpy=2788.328>,\n",
       " <tf.Tensor: shape=(), dtype=float32, numpy=-27485.785>,\n",
       " <tf.Tensor: shape=(), dtype=float32, numpy=215.74144>,\n",
       " None,\n",
       " None,\n",
       " <tf.Tensor: shape=(), dtype=float32, numpy=-1.8661408>,\n",
       " <tf.Tensor: shape=(), dtype=float32, numpy=1.0120174>,\n",
       " <tf.Tensor: shape=(), dtype=float32, numpy=-0.11260508>,\n",
       " <tf.Tensor: shape=(), dtype=float32, numpy=0.014422836>,\n",
       " <tf.Tensor: shape=(), dtype=float32, numpy=-0.22747979>,\n",
       " <tf.Tensor: shape=(), dtype=float32, numpy=0.03405691>,\n",
       " <tf.Tensor: shape=(), dtype=float32, numpy=-30.666119>,\n",
       " <tf.Tensor: shape=(), dtype=float32, numpy=14.22691>]"
      ]
     },
     "execution_count": 109,
     "metadata": {},
     "output_type": "execute_result"
    }
   ],
   "source": [
    "grads"
   ]
  },
  {
   "cell_type": "code",
   "execution_count": 139,
   "id": "7e4f3d5a",
   "metadata": {},
   "outputs": [
    {
     "data": {
      "text/plain": [
       "<tf.Tensor: shape=(), dtype=float32, numpy=12470.049>"
      ]
     },
     "execution_count": 139,
     "metadata": {},
     "output_type": "execute_result"
    }
   ],
   "source": [
    "loss_val"
   ]
  },
  {
   "cell_type": "code",
   "execution_count": null,
   "id": "3f70938f",
   "metadata": {},
   "outputs": [],
   "source": []
  }
 ],
 "metadata": {
  "kernelspec": {
   "display_name": "Python 3 (ipykernel)",
   "language": "python",
   "name": "python3"
  },
  "language_info": {
   "codemirror_mode": {
    "name": "ipython",
    "version": 3
   },
   "file_extension": ".py",
   "mimetype": "text/x-python",
   "name": "python",
   "nbconvert_exporter": "python",
   "pygments_lexer": "ipython3",
   "version": "3.7.11"
  }
 },
 "nbformat": 4,
 "nbformat_minor": 5
}

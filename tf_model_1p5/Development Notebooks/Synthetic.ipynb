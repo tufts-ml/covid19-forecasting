{
 "cells": [
  {
   "cell_type": "code",
   "execution_count": 1,
   "id": "d98f904b",
   "metadata": {},
   "outputs": [
    {
     "name": "stderr",
     "output_type": "stream",
     "text": [
      "2021-10-31 11:22:32.996261: W tensorflow/stream_executor/platform/default/dso_loader.cc:64] Could not load dynamic library 'libcudart.so.11.0'; dlerror: libcudart.so.11.0: cannot open shared object file: No such file or directory\n",
      "2021-10-31 11:22:32.996303: I tensorflow/stream_executor/cuda/cudart_stub.cc:29] Ignore above cudart dlerror if you do not have a GPU set up on your machine.\n"
     ]
    }
   ],
   "source": [
    "%load_ext autoreload\n",
    "%autoreload 2\n",
    "\n",
    "import numpy as np\n",
    "import tensorflow as tf\n",
    "\n",
    "import sys\n",
    "sys.path.append('/mnt/c/Users/kheut/code/covid19-forecasting/tf_model_1p5/')\n",
    "\n",
    "from enum import Enum\n",
    "\n",
    "import tensorflow as tf\n",
    "from tensorflow import keras\n",
    "from tensorflow.keras.layers import Dense\n",
    "\n",
    "import tensorflow_probability as tfp\n",
    "from scipy.stats import beta, truncnorm\n",
    "\n",
    "\n",
    "# Local imports from model.py, data.py\n",
    "from model import CovidModel, LogPoissonProb, get_logging_callbacks, Comp, Vax\n",
    "from data import read_data, create_warmup\n",
    "#from plots import make_all_plots\n",
    "\n",
    "import scipy"
   ]
  },
  {
   "cell_type": "code",
   "execution_count": 2,
   "id": "8ee47878",
   "metadata": {},
   "outputs": [],
   "source": [
    "transition_window =3\n",
    "\n",
    "warmup_start = '20210428'\n",
    "warmup_end = '20210430'\n",
    "train_start = '20210501'\n",
    "train_end = '20210731'\n",
    "test_start = '20210801'\n",
    "test_end = '20210831'\n",
    "\n",
    "state = 'Massachusetts'\n",
    "state_abbrev = 'MA'\n",
    "\n",
    "data_dir = '../data'\n",
    "covid_estim_date = '20210901'\n",
    "hhs_date = '20210903'\n",
    "owid_date = '20210903'\n",
    "\n",
    "log_dir = './logs/new_warmup'\n",
    "\n",
    "\n",
    "# Learning rate\n",
    "learning_rate = 1e-4"
   ]
  },
  {
   "cell_type": "code",
   "execution_count": 3,
   "id": "45ece18a",
   "metadata": {},
   "outputs": [],
   "source": [
    "df = read_data(data_dir=data_dir,\n",
    "               covid_estim_date=covid_estim_date,\n",
    "               hhs_date=hhs_date,\n",
    "               owid_date=owid_date,\n",
    "               state=state, state_abbrev=state_abbrev)"
   ]
  },
  {
   "cell_type": "code",
   "execution_count": 4,
   "id": "518266ac",
   "metadata": {},
   "outputs": [],
   "source": [
    "class Comp(Enum):\n",
    "    A = 0\n",
    "    M = 1\n",
    "    #X = 2\n",
    "    #G = 3\n",
    "    \n",
    "class Vax(Enum):\n",
    "    total = -1\n",
    "    no = 0\n",
    "    yes = 1"
   ]
  },
  {
   "cell_type": "code",
   "execution_count": 5,
   "id": "6b1a0fe5",
   "metadata": {},
   "outputs": [],
   "source": [
    "# get warmup arrays, splitting on vaccination status\n",
    "warmup_asymp, warmup_mild, warmup_extreme = create_warmup(df, \n",
    "                                                          warmup_start, \n",
    "                                                          warmup_end,\n",
    "                                                          0,0,0)\n",
    "\n",
    "# re-combine\n",
    "warmup_asymp = warmup_asymp[Vax.no.value] + warmup_asymp[Vax.yes.value]"
   ]
  },
  {
   "cell_type": "code",
   "execution_count": 6,
   "id": "60d8f2eb",
   "metadata": {},
   "outputs": [],
   "source": [
    "synth_delta = 0.99\n",
    "synth_T_serial = 5.8\n",
    "synth_rho_M = 0.76\n",
    "synth_lambda_M = 4.7\n",
    "synth_nu_M = 3.1"
   ]
  },
  {
   "cell_type": "code",
   "execution_count": null,
   "id": "0107df97",
   "metadata": {},
   "outputs": [],
   "source": []
  },
  {
   "cell_type": "code",
   "execution_count": 7,
   "id": "0e2f73a9",
   "metadata": {},
   "outputs": [
    {
     "name": "stderr",
     "output_type": "stream",
     "text": [
      "2021-10-31 11:22:35.135848: I tensorflow/stream_executor/cuda/cuda_gpu_executor.cc:923] could not open file to read NUMA node: /sys/bus/pci/devices/0000:2d:00.0/numa_node\n",
      "Your kernel may have been built without NUMA support.\n",
      "2021-10-31 11:22:35.136122: W tensorflow/stream_executor/platform/default/dso_loader.cc:64] Could not load dynamic library 'libcudart.so.11.0'; dlerror: libcudart.so.11.0: cannot open shared object file: No such file or directory\n",
      "2021-10-31 11:22:35.136162: W tensorflow/stream_executor/platform/default/dso_loader.cc:64] Could not load dynamic library 'libcublas.so.11'; dlerror: libcublas.so.11: cannot open shared object file: No such file or directory\n",
      "2021-10-31 11:22:35.136196: W tensorflow/stream_executor/platform/default/dso_loader.cc:64] Could not load dynamic library 'libcublasLt.so.11'; dlerror: libcublasLt.so.11: cannot open shared object file: No such file or directory\n",
      "2021-10-31 11:22:35.136227: W tensorflow/stream_executor/platform/default/dso_loader.cc:64] Could not load dynamic library 'libcufft.so.10'; dlerror: libcufft.so.10: cannot open shared object file: No such file or directory\n",
      "2021-10-31 11:22:35.136277: W tensorflow/stream_executor/platform/default/dso_loader.cc:64] Could not load dynamic library 'libcurand.so.10'; dlerror: libcurand.so.10: cannot open shared object file: No such file or directory\n",
      "2021-10-31 11:22:35.136311: W tensorflow/stream_executor/platform/default/dso_loader.cc:64] Could not load dynamic library 'libcusolver.so.11'; dlerror: libcusolver.so.11: cannot open shared object file: No such file or directory\n",
      "2021-10-31 11:22:35.136341: W tensorflow/stream_executor/platform/default/dso_loader.cc:64] Could not load dynamic library 'libcusparse.so.11'; dlerror: libcusparse.so.11: cannot open shared object file: No such file or directory\n",
      "2021-10-31 11:22:35.136392: W tensorflow/stream_executor/platform/default/dso_loader.cc:64] Could not load dynamic library 'libcudnn.so.8'; dlerror: libcudnn.so.8: cannot open shared object file: No such file or directory\n",
      "2021-10-31 11:22:35.136427: W tensorflow/core/common_runtime/gpu/gpu_device.cc:1835] Cannot dlopen some GPU libraries. Please make sure the missing libraries mentioned above are installed properly if you would like to use GPU. Follow the guide at https://www.tensorflow.org/install/gpu for how to download and setup the required libraries for your platform.\n",
      "Skipping registering GPU devices...\n",
      "2021-10-31 11:22:35.137000: I tensorflow/core/platform/cpu_feature_guard.cc:142] This TensorFlow binary is optimized with oneAPI Deep Neural Network Library (oneDNN) to use the following CPU instructions in performance-critical operations:  AVX2 FMA\n",
      "To enable them in other operations, rebuild TensorFlow with the appropriate compiler flags.\n"
     ]
    }
   ],
   "source": [
    "delta = {}\n",
    "delta[Vax.total.value] = {}\n",
    "delta[Vax.total.value]['prior'] = {'a': 18, 'b': 2}\n",
    "# delta is 0-1, so we will sigmoid the output of the variational posterior\n",
    "# Here we use a reverse sigmoid to convert from a mean of 0.1\n",
    "# I cant figure out the math to do for the scale parameter\n",
    "delta[Vax.total.value]['posterior_init'] = {'loc': np.log(synth_delta/(1-synth_delta)), 'scale':0.001}\n",
    "\n",
    "T_serial = {}\n",
    "T_serial[Vax.total.value] = {}\n",
    "T_serial[Vax.total.value]['prior'] ={'loc':5.8, 'scale':1}\n",
    "# T_serial is positive, so we will softplus the output of the variational posterior\n",
    "# Here we use a reverse softplus to convert from a mean of 5.8\n",
    "# I cant figure out the math to do for the scale parameter\n",
    "T_serial[Vax.total.value]['posterior_init'] = {'loc': tfp.math.softplus_inverse(synth_T_serial),\n",
    "                                         'scale':0.001}\n",
    "\n",
    "\n",
    "rho_M = {}\n",
    "rho_M[Vax.total.value] = {}\n",
    "rho_M[Vax.total.value]['prior'] = {'a': 31.8, 'b': 10.3}\n",
    "# rho is 0-1, so we will sigmoid the output of the variational posterior\n",
    "# Here we use a reverse sigmoid to convert from a mean of 0.76\n",
    "# I cant figure out the math to do for the scale parameter\n",
    "rho_M[Vax.total.value]['posterior_init'] = {'loc': np.log(synth_rho_M/(1-synth_rho_M)),\n",
    "                                      'scale':0.001}\n",
    "\n",
    "lambda_M = {}\n",
    "lambda_M[Vax.total.value] = {}\n",
    "lambda_M[Vax.total.value]['prior'] = {'loc': 4.7, 'scale': 1}\n",
    "# lambda is positive, so we will softplus the output of the variational posterior\n",
    "# Here we use a reverse softplus to convert from a mean of 4.7\n",
    "# I cant figure out the math to do for the scale parameter\n",
    "lambda_M[Vax.total.value]['posterior_init'] = {'loc': tfp.math.softplus_inverse(synth_lambda_M),\n",
    "                                         'scale':0.001}\n",
    "\n",
    "nu_M = {}\n",
    "nu_M[Vax.total.value] = {}\n",
    "nu_M[Vax.total.value]['prior'] = {'loc': 3.1, 'scale': 1.2}\n",
    "# nu is positive, so we will softplus the output of the variational posterior\n",
    "# Here we use a reverse softplus to convert from a mean of 3.1\n",
    "# I cant figure out the math to do for the scale parameter\n",
    "nu_M[Vax.total.value]['posterior_init'] = {'loc': tfp.math.softplus_inverse(synth_nu_M),\n",
    "                                     'scale':0.001}\n"
   ]
  },
  {
   "cell_type": "code",
   "execution_count": 8,
   "id": "bdc5bd64",
   "metadata": {},
   "outputs": [],
   "source": [
    "warmup_A_params = {}\n",
    "warmup_A_params[Vax.total.value] = {}\n",
    "warmup_A_params[Vax.total.value]['prior'] = []\n",
    "warmup_A_params[Vax.total.value]['posterior_init'] = []\n",
    "\n",
    "for day in range(transition_window):\n",
    "    warmup_A_params[Vax.total.value]['prior'].append({'loc': warmup_asymp[day],\n",
    "                                                'scale': warmup_asymp[day]/10})\n",
    "    # must be positive so reverse softplus the mean\n",
    "    warmup_A_params[Vax.total.value]['posterior_init'].append({'loc': tf.cast(tfp.math.softplus_inverse(warmup_asymp[day]),dtype=tf.float32),\n",
    "                                                         'scale': 1})#tf.cast(tfp.math.softplus_inverse(warmup_asymp[day]/10),dtype=tf.float32)})"
   ]
  },
  {
   "cell_type": "code",
   "execution_count": 9,
   "id": "907868ff",
   "metadata": {},
   "outputs": [],
   "source": [
    "model = CovidModel([Vax.total], [Comp.A, Comp.M],\n",
    "                 transition_window,\n",
    "                 delta, T_serial, rho_M, lambda_M, nu_M,\n",
    "                 warmup_A_params, posterior_samples=1000)\n",
    "loss = LogPoissonProb() \n",
    "optimizer = tf.keras.optimizers.SGD(\n",
    "    learning_rate=learning_rate, #momentum=0.98, nesterov=False, name='SGD'\n",
    ")"
   ]
  },
  {
   "cell_type": "code",
   "execution_count": 10,
   "id": "1b910b9d",
   "metadata": {},
   "outputs": [],
   "source": [
    "x_train = tf.cast(df.loc[train_start:test_end,'Rt'].values, dtype=tf.float32)\n",
    "y_test = tf.cast(df.loc[train_start:test_end,'mild'], dtype=tf.float32)\n"
   ]
  },
  {
   "cell_type": "code",
   "execution_count": 11,
   "id": "d9adf0d8",
   "metadata": {},
   "outputs": [
    {
     "data": {
      "text/plain": [
       "{-1: {'prior': [{'loc': 2518.60923786445, 'scale': 251.86092378644497},\n",
       "   {'loc': 2520.22371776634, 'scale': 252.022371776634},\n",
       "   {'loc': 2518.626798999444, 'scale': 251.8626798999444}],\n",
       "  'posterior_init': [{'loc': <tf.Tensor: shape=(), dtype=float32, numpy=2518.6091>,\n",
       "    'scale': 1},\n",
       "   {'loc': <tf.Tensor: shape=(), dtype=float32, numpy=2520.2236>, 'scale': 1},\n",
       "   {'loc': <tf.Tensor: shape=(), dtype=float32, numpy=2518.6267>,\n",
       "    'scale': 1}]}}"
      ]
     },
     "execution_count": 11,
     "metadata": {},
     "output_type": "execute_result"
    }
   ],
   "source": [
    "warmup_A_params"
   ]
  },
  {
   "cell_type": "code",
   "execution_count": 12,
   "id": "0982e951",
   "metadata": {},
   "outputs": [
    {
     "data": {
      "text/plain": [
       "{-1: {'prior': {'a': 18, 'b': 2},\n",
       "  'posterior_init': {'loc': 4.595119850134589, 'scale': 0.001}}}"
      ]
     },
     "execution_count": 12,
     "metadata": {},
     "output_type": "execute_result"
    }
   ],
   "source": [
    "delta"
   ]
  },
  {
   "cell_type": "code",
   "execution_count": null,
   "id": "3a07e696",
   "metadata": {},
   "outputs": [],
   "source": []
  },
  {
   "cell_type": "code",
   "execution_count": 13,
   "id": "3e09a3d6",
   "metadata": {},
   "outputs": [],
   "source": [
    "A_vals = []\n",
    "M_vals =[]\n",
    "for day in range(transition_window):\n",
    "    A_vals.append(warmup_A_params[-1]['prior'][day]['loc'])\n",
    "\n",
    "for day in range(len(x_train)):\n",
    "    yesterday_asymp = A_vals[-1]\n",
    "    \n",
    "    today_asymp = yesterday_asymp*synth_delta*x_train[day]**(1/synth_T_serial)\n",
    "    A_vals.append(today_asymp)\n",
    "    \n",
    "    today_M = 0\n",
    "    pi_M=[]\n",
    "    for j in range(transition_window):\n",
    "        \n",
    "        \n",
    "        lambda_M_fix = synth_lambda_M\n",
    "        nu_M_fix = synth_nu_M\n",
    "        poisson_dist = scipy.stats.poisson(lambda_M_fix)\n",
    "        pi_M_j_ago = poisson_dist.logpmf(j+1)/nu_M_fix\n",
    "        \n",
    "        pi_M.append(pi_M_j_ago)\n",
    "    \n",
    "    pi_M = scipy.special.softmax(pi_M)\n",
    "        \n",
    "    for j in range(transition_window):\n",
    "        j_ago_asymp = A_vals[day-j-1]\n",
    "        today_M += j_ago_asymp*synth_rho_M*pi_M[j]\n",
    "        \n",
    "    M_vals.append(today_M)"
   ]
  },
  {
   "cell_type": "code",
   "execution_count": 14,
   "id": "1165effb",
   "metadata": {},
   "outputs": [],
   "source": [
    "model = CovidModel([Vax.total], [Comp.A, Comp.M],\n",
    "                 transition_window,\n",
    "                 delta, T_serial, rho_M, lambda_M, nu_M,\n",
    "                 warmup_A_params, posterior_samples=1000)\n",
    "loss = LogPoissonProb() "
   ]
  },
  {
   "cell_type": "code",
   "execution_count": 15,
   "id": "66a46ada",
   "metadata": {},
   "outputs": [
    {
     "name": "stdout",
     "output_type": "stream",
     "text": [
      "Pre-softmax pi_M [[-0.7348403  -1.1045905  -0.8057436  ... -0.76970786 -0.89253795\n",
      "  -0.9710288 ]\n",
      " [-0.5430172  -0.80578196 -0.5875981  ... -0.56242603 -0.65386254\n",
      "  -0.7105152 ]\n",
      " [-0.47123826 -0.6409987  -0.478045   ... -0.4437362  -0.54862607\n",
      "  -0.55834085]]\n",
      "Delta 0.9874223470687866\n",
      "T serial 5.798177719116211\n",
      "rho_M 0.7447925806045532\n",
      "lambda M 4.7024054527282715\n",
      "pi_M [0.25895503 0.3428026  0.39824238]\n"
     ]
    },
    {
     "name": "stderr",
     "output_type": "stream",
     "text": [
      "2021-10-31 11:22:37.664888: I tensorflow/compiler/mlir/mlir_graph_optimization_pass.cc:185] None of the MLIR Optimization Passes are enabled (registered 2)\n"
     ]
    }
   ],
   "source": [
    "x_train = tf.cast(df.loc[train_start:test_end,'Rt'].values, dtype=tf.float32)\n",
    "y_test = tf.cast(df.loc[train_start:test_end,'mild'], dtype=tf.float32)\n",
    "\n",
    "with tf.GradientTape() as tape:\n",
    "    result = model.call(x_train)\n",
    "    loss_val = loss(y_test, result)\n",
    "    loss_val += sum(model.losses)"
   ]
  },
  {
   "cell_type": "code",
   "execution_count": 16,
   "id": "b2df3202",
   "metadata": {},
   "outputs": [
    {
     "name": "stderr",
     "output_type": "stream",
     "text": [
      "2021-10-31 11:22:37.879518: W tensorflow/python/util/util.cc:348] Sets are not currently considered sequences, but this may change in the future, so consider avoiding using them.\n"
     ]
    },
    {
     "data": {
      "text/plain": [
       "[<tf.Tensor: shape=(), dtype=float32, numpy=-35374.227>,\n",
       " <tf.Tensor: shape=(), dtype=float32, numpy=8425.702>,\n",
       " <tf.Tensor: shape=(), dtype=float32, numpy=52.744286>,\n",
       " <tf.Tensor: shape=(), dtype=float32, numpy=165.65366>,\n",
       " <tf.Tensor: shape=(), dtype=float32, numpy=-9939.47>,\n",
       " <tf.Tensor: shape=(), dtype=float32, numpy=3310.6409>,\n",
       " <tf.Tensor: shape=(), dtype=float32, numpy=-0.0041489713>,\n",
       " <tf.Tensor: shape=(), dtype=float32, numpy=0.31114295>,\n",
       " <tf.Tensor: shape=(), dtype=float32, numpy=-0.76813644>,\n",
       " <tf.Tensor: shape=(), dtype=float32, numpy=0.6323154>,\n",
       " <tf.Tensor: shape=(), dtype=float32, numpy=0.0036274716>,\n",
       " <tf.Tensor: shape=(), dtype=float32, numpy=-0.0011369425>,\n",
       " <tf.Tensor: shape=(), dtype=float32, numpy=0.0061025675>,\n",
       " <tf.Tensor: shape=(), dtype=float32, numpy=-0.001506672>,\n",
       " <tf.Tensor: shape=(), dtype=float32, numpy=-13.615356>,\n",
       " <tf.Tensor: shape=(), dtype=float32, numpy=0.45699355>]"
      ]
     },
     "execution_count": 16,
     "metadata": {},
     "output_type": "execute_result"
    }
   ],
   "source": [
    "grads = tape.gradient(loss_val, model.trainable_weights)\n",
    "grads"
   ]
  },
  {
   "cell_type": "code",
   "execution_count": 17,
   "id": "b6be9984",
   "metadata": {},
   "outputs": [
    {
     "data": {
      "text/plain": [
       "<tf.Tensor: shape=(), dtype=float32, numpy=32099.527>"
      ]
     },
     "execution_count": 17,
     "metadata": {},
     "output_type": "execute_result"
    }
   ],
   "source": [
    "loss_val"
   ]
  },
  {
   "cell_type": "code",
   "execution_count": 18,
   "id": "e0d7cece",
   "metadata": {},
   "outputs": [
    {
     "data": {
      "text/plain": [
       "<tf.Tensor: shape=(), dtype=float32, numpy=32099.527>"
      ]
     },
     "execution_count": 18,
     "metadata": {},
     "output_type": "execute_result"
    }
   ],
   "source": [
    "loss_val"
   ]
  },
  {
   "cell_type": "code",
   "execution_count": 25,
   "id": "6b5d4ee3",
   "metadata": {},
   "outputs": [
    {
     "name": "stdout",
     "output_type": "stream",
     "text": [
      "Pre-softmax pi_M [[-1.9353518  -0.7593234  -1.0184203  ... -1.1489791  -1.4848338\n",
      "  -0.6912029 ]\n",
      " [-1.4419014  -0.56447643 -0.74245167 ... -0.84091634 -1.0854495\n",
      "  -0.5139835 ]\n",
      " [-1.1187007  -0.499051   -0.6004087  ... -0.6604573  -0.8551549\n",
      "  -0.4547904 ]]\n",
      "Delta 0.9996104836463928\n",
      "T serial 5.372091293334961\n",
      "rho_M 0.6834198236465454\n",
      "lambda M 4.71892786026001\n",
      "pi_M [0.25777388 0.34284753 0.3993786 ]\n"
     ]
    }
   ],
   "source": [
    "with tf.GradientTape() as tape:\n",
    "    result = model.call(x_train)\n",
    "    loss_val = loss(tf.cast(np.array(M_vals),dtype=tf.float32), result)\n",
    "    loss_val += sum(model.losses)"
   ]
  },
  {
   "cell_type": "code",
   "execution_count": 26,
   "id": "2ef10305",
   "metadata": {},
   "outputs": [
    {
     "data": {
      "text/plain": [
       "[<tf.Tensor: shape=(), dtype=float32, numpy=3771.659>,\n",
       " <tf.Tensor: shape=(), dtype=float32, numpy=-251.16531>,\n",
       " <tf.Tensor: shape=(), dtype=float32, numpy=-3215.6064>,\n",
       " <tf.Tensor: shape=(), dtype=float32, numpy=534.15375>,\n",
       " <tf.Tensor: shape=(), dtype=float32, numpy=29631.934>,\n",
       " <tf.Tensor: shape=(), dtype=float32, numpy=164.31656>,\n",
       " <tf.Tensor: shape=(), dtype=float32, numpy=0.012386041>,\n",
       " <tf.Tensor: shape=(), dtype=float32, numpy=0.33945695>,\n",
       " <tf.Tensor: shape=(), dtype=float32, numpy=110.46721>,\n",
       " <tf.Tensor: shape=(), dtype=float32, numpy=-21.682081>,\n",
       " <tf.Tensor: shape=(), dtype=float32, numpy=-0.027709698>,\n",
       " <tf.Tensor: shape=(), dtype=float32, numpy=0.0007829711>,\n",
       " <tf.Tensor: shape=(), dtype=float32, numpy=-0.048783172>,\n",
       " <tf.Tensor: shape=(), dtype=float32, numpy=0.00057341997>,\n",
       " <tf.Tensor: shape=(), dtype=float32, numpy=37.83845>,\n",
       " <tf.Tensor: shape=(), dtype=float32, numpy=0.08075323>]"
      ]
     },
     "execution_count": 26,
     "metadata": {},
     "output_type": "execute_result"
    }
   ],
   "source": [
    "grads = tape.gradient(loss_val, model.trainable_weights)\n",
    "grads"
   ]
  },
  {
   "cell_type": "code",
   "execution_count": 27,
   "id": "88da171e",
   "metadata": {},
   "outputs": [
    {
     "data": {
      "text/plain": [
       "[<tf.Variable 'delta_A_loc_-1:0' shape=() dtype=float32, numpy=7.8859735>,\n",
       " <tf.Variable 'delta_A_scale_-1:0' shape=() dtype=float32, numpy=-0.9774477>,\n",
       " <tf.Variable 'T_serial_A_loc_-1:0' shape=() dtype=float32, numpy=5.3628316>,\n",
       " <tf.Variable 'T_serial_A_scale_-1:0' shape=() dtype=float32, numpy=-0.54573506>,\n",
       " <tf.Variable 'rho_M_loc_-1:0' shape=() dtype=float32, numpy=0.7737106>,\n",
       " <tf.Variable 'rho_M_scale_-1:0' shape=() dtype=float32, numpy=-1.7369808>,\n",
       " <tf.Variable 'lambda_M_loc_-1:0' shape=() dtype=float32, numpy=4.690876>,\n",
       " <tf.Variable 'lambda_M_scale_-1:0' shape=() dtype=float32, numpy=0.00046391948>,\n",
       " <tf.Variable 'nu_M_loc_-1:0' shape=() dtype=float32, numpy=3.0305226>,\n",
       " <tf.Variable 'nu_M_scale_-1:0' shape=() dtype=float32, numpy=0.0051967604>,\n",
       " <tf.Variable 'warmup_A_loc_0_-1:0' shape=() dtype=float32, numpy=2518.6091>,\n",
       " <tf.Variable 'warmup_A_scale_0_-1:0' shape=() dtype=float32, numpy=0.9999997>,\n",
       " <tf.Variable 'warmup_A_loc_1_-1:0' shape=() dtype=float32, numpy=2520.2236>,\n",
       " <tf.Variable 'warmup_A_scale_1_-1:0' shape=() dtype=float32, numpy=1.0000005>,\n",
       " <tf.Variable 'warmup_A_loc_2_-1:0' shape=() dtype=float32, numpy=2518.6233>,\n",
       " <tf.Variable 'warmup_A_scale_2_-1:0' shape=() dtype=float32, numpy=0.9998883>]"
      ]
     },
     "execution_count": 27,
     "metadata": {},
     "output_type": "execute_result"
    }
   ],
   "source": [
    "model.trainable_weights"
   ]
  },
  {
   "cell_type": "code",
   "execution_count": 22,
   "id": "7c3d39b7",
   "metadata": {},
   "outputs": [
    {
     "data": {
      "text/plain": [
       "<tf.Tensor: shape=(), dtype=float32, numpy=11667.086>"
      ]
     },
     "execution_count": 22,
     "metadata": {},
     "output_type": "execute_result"
    }
   ],
   "source": [
    "loss_val"
   ]
  },
  {
   "cell_type": "code",
   "execution_count": 23,
   "id": "01ef6852",
   "metadata": {},
   "outputs": [
    {
     "data": {
      "text/plain": [
       "<tf.Tensor: shape=(), dtype=float32, numpy=11667.086>"
      ]
     },
     "execution_count": 23,
     "metadata": {},
     "output_type": "execute_result"
    }
   ],
   "source": [
    "loss_val"
   ]
  },
  {
   "cell_type": "code",
   "execution_count": 24,
   "id": "6fdeb586",
   "metadata": {
    "scrolled": false
   },
   "outputs": [
    {
     "name": "stdout",
     "output_type": "stream",
     "text": [
      "Epoch 1/2000\n",
      "Pre-softmax pi_M [[-1.4147328  -0.8765375  -0.92787045 ... -0.99218035 -0.89137816\n",
      "  -1.294756  ]\n",
      " [-1.037609   -0.6400245  -0.68963    ... -0.7233113  -0.6514466\n",
      "  -0.94671994]\n",
      " [-0.8117139  -0.52688766 -0.609328   ... -0.5846623  -0.5395572\n",
      "  -0.74534285]]\n",
      "Delta 0.9869816899299622\n",
      "T serial 5.786071300506592\n",
      "rho_M 0.7408556938171387\n",
      "lambda M 4.709111213684082\n",
      "pi_M [0.25860357 0.34285265 0.39854378]\n",
      "1/1 [==============================] - 2s 2s/step - loss: 34225.3125\n",
      "Epoch 2/2000\n",
      "Pre-softmax pi_M [[-0.75526285 -0.79250354 -0.7762477  ... -0.84379715 -0.7270942\n",
      "  -1.1893463 ]\n",
      " [-0.5517179  -0.59105647 -0.56800586 ... -0.6162308  -0.53007\n",
      "  -0.86860645]\n",
      " [-0.45561454 -0.5273889  -0.4737844  ... -0.5079715  -0.4249247\n",
      "  -0.6866433 ]]\n",
      "Delta 0.9997457265853882\n",
      "T serial 5.82442045211792\n",
      "rho_M 0.8865716457366943\n",
      "lambda M 4.669232368469238\n",
      "pi_M [0.25880268 0.3430207  0.39817664]\n",
      "1/1 [==============================] - 2s 2s/step - loss: 10206.5703\n",
      "Epoch 3/2000\n",
      "Pre-softmax pi_M [[-0.8597286  -0.7529387  -0.83073235 ... -0.84545416 -1.0484083\n",
      "  -0.81625265]\n",
      " [-0.64969397 -0.55107665 -0.608583   ... -0.6163074  -0.76469815\n",
      "  -0.60245496]\n",
      " [-0.5993997  -0.46022052 -0.51062787 ... -0.4963227  -0.6089609\n",
      "  -0.5207059 ]]\n",
      "Delta 0.9997082352638245\n",
      "T serial 5.638123035430908\n",
      "rho_M 0.8099777698516846\n",
      "lambda M 4.676825046539307\n",
      "pi_M [0.25890502 0.34294164 0.39815336]\n",
      "1/1 [==============================] - 3s 3s/step - loss: 5947.4409\n",
      "Epoch 4/2000\n",
      "Pre-softmax pi_M [[-1.1949787  -1.1709635  -1.3373597  ... -1.1505444  -1.2914846\n",
      "  -1.9610797 ]\n",
      " [-0.8728792  -0.8552255  -0.9749316  ... -0.83961815 -0.9414509\n",
      "  -1.4409528 ]\n",
      " [-0.68951815 -0.7053453  -0.78749484 ... -0.66624933 -0.75731236\n",
      "  -1.1245222 ]]\n",
      "Delta 0.999678909778595\n",
      "T serial 5.585195541381836\n",
      "rho_M 0.7194791436195374\n",
      "lambda M 4.690797805786133\n",
      "pi_M [0.25889695 0.34292153 0.39818153]\n",
      "1/1 [==============================] - 3s 3s/step - loss: 3558.3870\n",
      "Epoch 5/2000\n",
      "Pre-softmax pi_M [[-1.4324666  -1.4234121  -1.2403034  ... -1.3976886  -0.74719924\n",
      "  -0.75351286]\n",
      " [-1.0515593  -1.0505573  -0.90451485 ... -1.0299993  -0.54587907\n",
      "  -0.5494873 ]\n",
      " [-0.8215769  -0.81687963 -0.7359724  ... -0.80167305 -0.45107713\n",
      "  -0.44680348]]\n",
      "Delta 0.9996691942214966\n",
      "T serial 5.5610671043396\n",
      "rho_M 0.6927016377449036\n",
      "lambda M 4.6987433433532715\n",
      "pi_M [0.25861487 0.34295073 0.3984344 ]\n",
      "1/1 [==============================] - 2s 2s/step - loss: 3033.5945\n",
      "Epoch 6/2000\n",
      "Pre-softmax pi_M [[-0.94055957 -2.2794333  -1.324413   ... -1.2732505  -1.1155959\n",
      "  -0.88868624]\n",
      " [-0.6862872  -1.6628945  -0.97174925 ... -0.9293563  -0.82050097\n",
      "  -0.64787954]\n",
      " [-0.545033   -1.3584865  -0.759747   ... -0.7366071  -0.6396724\n",
      "  -0.5240883 ]]\n",
      "Delta 0.9996663928031921\n",
      "T serial 5.507832050323486\n",
      "rho_M 0.7030259966850281\n",
      "lambda M 4.677713871002197\n",
      "pi_M [0.25899896 0.34296897 0.39803213]\n",
      "1/1 [==============================] - 2s 2s/step - loss: 2641.3396\n",
      "Epoch 7/2000\n",
      "Pre-softmax pi_M [[-0.920609   -0.6293174  -0.91786605 ... -0.891757   -0.3857298\n",
      "  -0.9639082 ]\n",
      " [-0.67110854 -0.45875087 -0.67003495 ... -0.65026224 -0.30629066\n",
      "  -0.70527714]\n",
      " [-0.5390312  -0.369348   -0.5307573  ... -0.519266   -0.31113917\n",
      "  -0.58807975]]\n",
      "Delta 0.9996569752693176\n",
      "T serial 5.464461803436279\n",
      "rho_M 0.6840478777885437\n",
      "lambda M 4.693309783935547\n",
      "pi_M [0.25790417 0.34298885 0.39910695]\n",
      "1/1 [==============================] - 2s 2s/step - loss: 2377.4731\n",
      "Epoch 8/2000\n",
      "Pre-softmax pi_M [[-0.6948199  -1.3766358  -0.9991043  ... -1.2563123  -1.0546585\n",
      "  -1.2208759 ]\n",
      " [-0.5067289  -1.0080739  -0.7306375  ... -0.91613704 -0.7745402\n",
      "  -0.88997906]\n",
      " [-0.41250333 -0.7908225  -0.60742277 ... -0.7311634  -0.65704477\n",
      "  -0.715954  ]]\n",
      "Delta 0.9996470808982849\n",
      "T serial 5.444158554077148\n",
      "rho_M 0.6849724054336548\n",
      "lambda M 4.717618465423584\n",
      "pi_M [0.25820154 0.3428541  0.39894435]\n",
      "1/1 [==============================] - 2s 2s/step - loss: 2176.0750\n",
      "Epoch 9/2000\n",
      "Pre-softmax pi_M [[-1.5831767  -1.6047106  -0.9822312  ... -0.90241164 -1.945258\n",
      "  -0.98845667]\n",
      " [-1.1644559  -1.1711806  -0.72323096 ... -0.6597365  -1.4231098\n",
      "  -0.722463  ]\n",
      " [-0.9077802  -0.96066755 -0.61979544 ... -0.547561   -1.1188241\n",
      "  -0.5694833 ]]\n",
      "Delta 0.9996411204338074\n",
      "T serial 5.427772045135498\n",
      "rho_M 0.6869478821754456\n",
      "lambda M 4.719298839569092\n",
      "pi_M [0.25866815 0.3428305  0.3985013 ]\n",
      "1/1 [==============================] - 2s 2s/step - loss: 2066.0266\n",
      "Epoch 10/2000\n",
      "Pre-softmax pi_M [[-0.84686667 -1.2150632  -0.60790277 ... -1.1775421  -0.96336544\n",
      "  -0.81546986]\n",
      " [-0.617701   -0.89063376 -0.46994084 ... -0.8586581  -0.7063275\n",
      "  -0.5954829 ]\n",
      " [-0.5036856  -0.7492425  -0.45500162 ... -0.6856449  -0.59491485\n",
      "  -0.49051207]]\n",
      "Delta 0.9996328353881836\n",
      "T serial 5.445070266723633\n",
      "rho_M 0.6817176342010498\n",
      "lambda M 4.721921920776367\n",
      "pi_M [0.2582674 0.3427686 0.398964 ]\n",
      "1/1 [==============================] - 2s 2s/step - loss: 2041.1624\n",
      "Epoch 11/2000\n",
      "Pre-softmax pi_M [[-0.74857193 -0.86658263 -1.0558087  ... -0.68705577 -1.370855\n",
      "  -0.7798858 ]\n",
      " [-0.54591095 -0.63189715 -0.7709915  ... -0.52721095 -1.0021888\n",
      "  -0.5689962 ]\n",
      " [-0.44419536 -0.5046817  -0.609776   ... -0.50295883 -0.789415\n",
      "  -0.46527237]]\n",
      "Delta 0.9996363520622253\n",
      "T serial 5.413467884063721\n",
      "rho_M 0.6842530965805054\n",
      "lambda M 4.715031147003174\n",
      "pi_M [0.25805867 0.34287977 0.3990616 ]\n",
      "1/1 [==============================] - 2s 2s/step - loss: 1938.7393\n",
      "Epoch 12/2000\n",
      "Pre-softmax pi_M [[-1.0639216  -0.9058153  -0.61919796 ... -1.1892992  -1.5511526\n",
      "  -1.118025  ]\n",
      " [-0.7917553  -0.66156405 -0.45204818 ... -0.86977524 -1.1358446\n",
      "  -0.8211099 ]\n",
      " [-0.6142925  -0.5455791  -0.37168038 ... -0.7233308  -0.8910948\n",
      "  -0.6411519 ]]\n",
      "Delta 0.9996307492256165\n",
      "T serial 5.430000305175781\n",
      "rho_M 0.6822126507759094\n",
      "lambda M 4.7016472816467285\n",
      "pi_M [0.26030493 0.34291974 0.39677534]\n",
      "1/1 [==============================] - 2s 2s/step - loss: 1945.7471\n",
      "Epoch 13/2000\n",
      "Pre-softmax pi_M [[-1.8164986  -1.0903462  -0.89361435 ... -1.1852742  -1.8869901\n",
      "  -1.4373468 ]\n",
      " [-1.3310466  -0.8025392  -0.6579519  ... -0.8642592  -1.3942993\n",
      "  -1.0528243 ]\n",
      " [-1.0428715  -0.6868072  -0.56375957 ... -0.7017272  -1.0835296\n",
      "  -0.825469  ]]\n",
      "Delta 0.9996286034584045\n",
      "T serial 5.384110927581787\n",
      "rho_M 0.6850511431694031\n",
      "lambda M 4.661983013153076\n",
      "pi_M [0.25874338 0.34313136 0.39812523]\n",
      "1/1 [==============================] - 2s 2s/step - loss: 1897.5391\n",
      "Epoch 14/2000\n",
      "Pre-softmax pi_M [[-0.8512924  -1.0780966  -0.6312662  ... -1.3463421  -0.63739544\n",
      "  -0.6184194 ]\n",
      " [-0.6210161  -0.7864264  -0.48412225 ... -0.98535424 -0.46831727\n",
      "  -0.48280537]\n",
      " [-0.5071679  -0.62577873 -0.46130624 ... -0.8227462  -0.3980209\n",
      "  -0.4762108 ]]\n",
      "Delta 0.9996263980865479\n",
      "T serial 5.367030620574951\n",
      "rho_M 0.6817820072174072\n",
      "lambda M 4.701455593109131\n",
      "pi_M [0.2579278  0.34296829 0.3991039 ]\n",
      "1/1 [==============================] - 2s 2s/step - loss: 1874.1613\n",
      "Epoch 15/2000\n",
      "Pre-softmax pi_M [[-1.1706135  -1.8284535  -1.036274   ... -1.0850979  -1.0764937\n",
      "  -0.68450105]\n",
      " [-0.8546113  -1.4307454  -0.7557335  ... -0.79425335 -0.78767335\n",
      "  -0.53460985]\n",
      " [-0.7026722  -1.4170405  -0.6150328  ... -0.62364686 -0.6189962\n",
      "  -0.52769256]]\n",
      "Delta 0.9996157288551331\n",
      "T serial 5.362817764282227\n",
      "rho_M 0.6796014308929443\n",
      "lambda M 4.694073677062988\n",
      "pi_M [0.25831732 0.34293628 0.39874646]\n",
      "1/1 [==============================] - 2s 2s/step - loss: 1856.6760\n",
      "Epoch 16/2000\n",
      "Pre-softmax pi_M [[-1.7103877  -0.9558961  -1.0676411  ... -1.2104845  -1.2078642\n",
      "  -0.72758067]\n",
      " [-1.2468144  -0.70002407 -0.77925587 ... -0.88588744 -0.8846868\n",
      "  -0.53141236]\n",
      " [-1.0039926  -0.5490862  -0.6177404  ... -0.6958566  -0.6937119\n",
      "  -0.41994685]]\n",
      "Delta 0.9996085166931152\n",
      "T serial 5.394347190856934\n",
      "rho_M 0.6852105259895325\n",
      "lambda M 4.723702430725098\n",
      "pi_M [0.25815153 0.3428029  0.39904553]\n",
      "1/1 [==============================] - 2s 2s/step - loss: 1857.7959\n",
      "Epoch 17/2000\n"
     ]
    },
    {
     "ename": "KeyboardInterrupt",
     "evalue": "",
     "output_type": "error",
     "traceback": [
      "\u001b[0;31m---------------------------------------------------------------------------\u001b[0m",
      "\u001b[0;31mKeyboardInterrupt\u001b[0m                         Traceback (most recent call last)",
      "\u001b[0;32m/tmp/ipykernel_2530/3154666158.py\u001b[0m in \u001b[0;36m<module>\u001b[0;34m\u001b[0m\n\u001b[1;32m      2\u001b[0m model.fit(x=np.asarray([x_train]), y=np.asarray([y_test]),\n\u001b[1;32m      3\u001b[0m          \u001b[0mepochs\u001b[0m\u001b[0;34m=\u001b[0m\u001b[0;36m2000\u001b[0m\u001b[0;34m,\u001b[0m \u001b[0mbatch_size\u001b[0m\u001b[0;34m=\u001b[0m\u001b[0;36m0\u001b[0m\u001b[0;34m,\u001b[0m\u001b[0;34m\u001b[0m\u001b[0;34m\u001b[0m\u001b[0m\n\u001b[0;32m----> 4\u001b[0;31m         callbacks=[])\n\u001b[0m",
      "\u001b[0;32m~/anaconda3/envs/covid_vax_model/lib/python3.7/site-packages/keras/engine/training.py\u001b[0m in \u001b[0;36mfit\u001b[0;34m(self, x, y, batch_size, epochs, verbose, callbacks, validation_split, validation_data, shuffle, class_weight, sample_weight, initial_epoch, steps_per_epoch, validation_steps, validation_batch_size, validation_freq, max_queue_size, workers, use_multiprocessing)\u001b[0m\n\u001b[1;32m   1182\u001b[0m                 _r=1):\n\u001b[1;32m   1183\u001b[0m               \u001b[0mcallbacks\u001b[0m\u001b[0;34m.\u001b[0m\u001b[0mon_train_batch_begin\u001b[0m\u001b[0;34m(\u001b[0m\u001b[0mstep\u001b[0m\u001b[0;34m)\u001b[0m\u001b[0;34m\u001b[0m\u001b[0;34m\u001b[0m\u001b[0m\n\u001b[0;32m-> 1184\u001b[0;31m               \u001b[0mtmp_logs\u001b[0m \u001b[0;34m=\u001b[0m \u001b[0mself\u001b[0m\u001b[0;34m.\u001b[0m\u001b[0mtrain_function\u001b[0m\u001b[0;34m(\u001b[0m\u001b[0miterator\u001b[0m\u001b[0;34m)\u001b[0m\u001b[0;34m\u001b[0m\u001b[0;34m\u001b[0m\u001b[0m\n\u001b[0m\u001b[1;32m   1185\u001b[0m               \u001b[0;32mif\u001b[0m \u001b[0mdata_handler\u001b[0m\u001b[0;34m.\u001b[0m\u001b[0mshould_sync\u001b[0m\u001b[0;34m:\u001b[0m\u001b[0;34m\u001b[0m\u001b[0;34m\u001b[0m\u001b[0m\n\u001b[1;32m   1186\u001b[0m                 \u001b[0mcontext\u001b[0m\u001b[0;34m.\u001b[0m\u001b[0masync_wait\u001b[0m\u001b[0;34m(\u001b[0m\u001b[0;34m)\u001b[0m\u001b[0;34m\u001b[0m\u001b[0;34m\u001b[0m\u001b[0m\n",
      "\u001b[0;32m~/anaconda3/envs/covid_vax_model/lib/python3.7/site-packages/keras/engine/training.py\u001b[0m in \u001b[0;36mtrain_function\u001b[0;34m(iterator)\u001b[0m\n\u001b[1;32m    851\u001b[0m       \u001b[0;32mdef\u001b[0m \u001b[0mtrain_function\u001b[0m\u001b[0;34m(\u001b[0m\u001b[0miterator\u001b[0m\u001b[0;34m)\u001b[0m\u001b[0;34m:\u001b[0m\u001b[0;34m\u001b[0m\u001b[0;34m\u001b[0m\u001b[0m\n\u001b[1;32m    852\u001b[0m         \u001b[0;34m\"\"\"Runs a training execution with one step.\"\"\"\u001b[0m\u001b[0;34m\u001b[0m\u001b[0;34m\u001b[0m\u001b[0m\n\u001b[0;32m--> 853\u001b[0;31m         \u001b[0;32mreturn\u001b[0m \u001b[0mstep_function\u001b[0m\u001b[0;34m(\u001b[0m\u001b[0mself\u001b[0m\u001b[0;34m,\u001b[0m \u001b[0miterator\u001b[0m\u001b[0;34m)\u001b[0m\u001b[0;34m\u001b[0m\u001b[0;34m\u001b[0m\u001b[0m\n\u001b[0m\u001b[1;32m    854\u001b[0m \u001b[0;34m\u001b[0m\u001b[0m\n\u001b[1;32m    855\u001b[0m     \u001b[0;32melse\u001b[0m\u001b[0;34m:\u001b[0m\u001b[0;34m\u001b[0m\u001b[0;34m\u001b[0m\u001b[0m\n",
      "\u001b[0;32m~/anaconda3/envs/covid_vax_model/lib/python3.7/site-packages/keras/engine/training.py\u001b[0m in \u001b[0;36mstep_function\u001b[0;34m(model, iterator)\u001b[0m\n\u001b[1;32m    840\u001b[0m \u001b[0;34m\u001b[0m\u001b[0m\n\u001b[1;32m    841\u001b[0m       \u001b[0mdata\u001b[0m \u001b[0;34m=\u001b[0m \u001b[0mnext\u001b[0m\u001b[0;34m(\u001b[0m\u001b[0miterator\u001b[0m\u001b[0;34m)\u001b[0m\u001b[0;34m\u001b[0m\u001b[0;34m\u001b[0m\u001b[0m\n\u001b[0;32m--> 842\u001b[0;31m       \u001b[0moutputs\u001b[0m \u001b[0;34m=\u001b[0m \u001b[0mmodel\u001b[0m\u001b[0;34m.\u001b[0m\u001b[0mdistribute_strategy\u001b[0m\u001b[0;34m.\u001b[0m\u001b[0mrun\u001b[0m\u001b[0;34m(\u001b[0m\u001b[0mrun_step\u001b[0m\u001b[0;34m,\u001b[0m \u001b[0margs\u001b[0m\u001b[0;34m=\u001b[0m\u001b[0;34m(\u001b[0m\u001b[0mdata\u001b[0m\u001b[0;34m,\u001b[0m\u001b[0;34m)\u001b[0m\u001b[0;34m)\u001b[0m\u001b[0;34m\u001b[0m\u001b[0;34m\u001b[0m\u001b[0m\n\u001b[0m\u001b[1;32m    843\u001b[0m       outputs = reduce_per_replica(\n\u001b[1;32m    844\u001b[0m           outputs, self.distribute_strategy, reduction='first')\n",
      "\u001b[0;32m~/anaconda3/envs/covid_vax_model/lib/python3.7/site-packages/tensorflow/python/distribute/distribute_lib.py\u001b[0m in \u001b[0;36mrun\u001b[0;34m(***failed resolving arguments***)\u001b[0m\n\u001b[1;32m   1284\u001b[0m       fn = autograph.tf_convert(\n\u001b[1;32m   1285\u001b[0m           fn, autograph_ctx.control_status_ctx(), convert_by_default=False)\n\u001b[0;32m-> 1286\u001b[0;31m       \u001b[0;32mreturn\u001b[0m \u001b[0mself\u001b[0m\u001b[0;34m.\u001b[0m\u001b[0m_extended\u001b[0m\u001b[0;34m.\u001b[0m\u001b[0mcall_for_each_replica\u001b[0m\u001b[0;34m(\u001b[0m\u001b[0mfn\u001b[0m\u001b[0;34m,\u001b[0m \u001b[0margs\u001b[0m\u001b[0;34m=\u001b[0m\u001b[0margs\u001b[0m\u001b[0;34m,\u001b[0m \u001b[0mkwargs\u001b[0m\u001b[0;34m=\u001b[0m\u001b[0mkwargs\u001b[0m\u001b[0;34m)\u001b[0m\u001b[0;34m\u001b[0m\u001b[0;34m\u001b[0m\u001b[0m\n\u001b[0m\u001b[1;32m   1287\u001b[0m \u001b[0;34m\u001b[0m\u001b[0m\n\u001b[1;32m   1288\u001b[0m   \u001b[0;32mdef\u001b[0m \u001b[0mreduce\u001b[0m\u001b[0;34m(\u001b[0m\u001b[0mself\u001b[0m\u001b[0;34m,\u001b[0m \u001b[0mreduce_op\u001b[0m\u001b[0;34m,\u001b[0m \u001b[0mvalue\u001b[0m\u001b[0;34m,\u001b[0m \u001b[0maxis\u001b[0m\u001b[0;34m)\u001b[0m\u001b[0;34m:\u001b[0m\u001b[0;34m\u001b[0m\u001b[0;34m\u001b[0m\u001b[0m\n",
      "\u001b[0;32m~/anaconda3/envs/covid_vax_model/lib/python3.7/site-packages/tensorflow/python/distribute/distribute_lib.py\u001b[0m in \u001b[0;36mcall_for_each_replica\u001b[0;34m(self, fn, args, kwargs)\u001b[0m\n\u001b[1;32m   2847\u001b[0m       \u001b[0mkwargs\u001b[0m \u001b[0;34m=\u001b[0m \u001b[0;34m{\u001b[0m\u001b[0;34m}\u001b[0m\u001b[0;34m\u001b[0m\u001b[0;34m\u001b[0m\u001b[0m\n\u001b[1;32m   2848\u001b[0m     \u001b[0;32mwith\u001b[0m \u001b[0mself\u001b[0m\u001b[0;34m.\u001b[0m\u001b[0m_container_strategy\u001b[0m\u001b[0;34m(\u001b[0m\u001b[0;34m)\u001b[0m\u001b[0;34m.\u001b[0m\u001b[0mscope\u001b[0m\u001b[0;34m(\u001b[0m\u001b[0;34m)\u001b[0m\u001b[0;34m:\u001b[0m\u001b[0;34m\u001b[0m\u001b[0;34m\u001b[0m\u001b[0m\n\u001b[0;32m-> 2849\u001b[0;31m       \u001b[0;32mreturn\u001b[0m \u001b[0mself\u001b[0m\u001b[0;34m.\u001b[0m\u001b[0m_call_for_each_replica\u001b[0m\u001b[0;34m(\u001b[0m\u001b[0mfn\u001b[0m\u001b[0;34m,\u001b[0m \u001b[0margs\u001b[0m\u001b[0;34m,\u001b[0m \u001b[0mkwargs\u001b[0m\u001b[0;34m)\u001b[0m\u001b[0;34m\u001b[0m\u001b[0;34m\u001b[0m\u001b[0m\n\u001b[0m\u001b[1;32m   2850\u001b[0m \u001b[0;34m\u001b[0m\u001b[0m\n\u001b[1;32m   2851\u001b[0m   \u001b[0;32mdef\u001b[0m \u001b[0m_call_for_each_replica\u001b[0m\u001b[0;34m(\u001b[0m\u001b[0mself\u001b[0m\u001b[0;34m,\u001b[0m \u001b[0mfn\u001b[0m\u001b[0;34m,\u001b[0m \u001b[0margs\u001b[0m\u001b[0;34m,\u001b[0m \u001b[0mkwargs\u001b[0m\u001b[0;34m)\u001b[0m\u001b[0;34m:\u001b[0m\u001b[0;34m\u001b[0m\u001b[0;34m\u001b[0m\u001b[0m\n",
      "\u001b[0;32m~/anaconda3/envs/covid_vax_model/lib/python3.7/site-packages/tensorflow/python/distribute/distribute_lib.py\u001b[0m in \u001b[0;36m_call_for_each_replica\u001b[0;34m(self, fn, args, kwargs)\u001b[0m\n\u001b[1;32m   3630\u001b[0m   \u001b[0;32mdef\u001b[0m \u001b[0m_call_for_each_replica\u001b[0m\u001b[0;34m(\u001b[0m\u001b[0mself\u001b[0m\u001b[0;34m,\u001b[0m \u001b[0mfn\u001b[0m\u001b[0;34m,\u001b[0m \u001b[0margs\u001b[0m\u001b[0;34m,\u001b[0m \u001b[0mkwargs\u001b[0m\u001b[0;34m)\u001b[0m\u001b[0;34m:\u001b[0m\u001b[0;34m\u001b[0m\u001b[0;34m\u001b[0m\u001b[0m\n\u001b[1;32m   3631\u001b[0m     \u001b[0;32mwith\u001b[0m \u001b[0mReplicaContext\u001b[0m\u001b[0;34m(\u001b[0m\u001b[0mself\u001b[0m\u001b[0;34m.\u001b[0m\u001b[0m_container_strategy\u001b[0m\u001b[0;34m(\u001b[0m\u001b[0;34m)\u001b[0m\u001b[0;34m,\u001b[0m \u001b[0mreplica_id_in_sync_group\u001b[0m\u001b[0;34m=\u001b[0m\u001b[0;36m0\u001b[0m\u001b[0;34m)\u001b[0m\u001b[0;34m:\u001b[0m\u001b[0;34m\u001b[0m\u001b[0;34m\u001b[0m\u001b[0m\n\u001b[0;32m-> 3632\u001b[0;31m       \u001b[0;32mreturn\u001b[0m \u001b[0mfn\u001b[0m\u001b[0;34m(\u001b[0m\u001b[0;34m*\u001b[0m\u001b[0margs\u001b[0m\u001b[0;34m,\u001b[0m \u001b[0;34m**\u001b[0m\u001b[0mkwargs\u001b[0m\u001b[0;34m)\u001b[0m\u001b[0;34m\u001b[0m\u001b[0;34m\u001b[0m\u001b[0m\n\u001b[0m\u001b[1;32m   3633\u001b[0m \u001b[0;34m\u001b[0m\u001b[0m\n\u001b[1;32m   3634\u001b[0m   \u001b[0;32mdef\u001b[0m \u001b[0m_reduce_to\u001b[0m\u001b[0;34m(\u001b[0m\u001b[0mself\u001b[0m\u001b[0;34m,\u001b[0m \u001b[0mreduce_op\u001b[0m\u001b[0;34m,\u001b[0m \u001b[0mvalue\u001b[0m\u001b[0;34m,\u001b[0m \u001b[0mdestinations\u001b[0m\u001b[0;34m,\u001b[0m \u001b[0moptions\u001b[0m\u001b[0;34m)\u001b[0m\u001b[0;34m:\u001b[0m\u001b[0;34m\u001b[0m\u001b[0;34m\u001b[0m\u001b[0m\n",
      "\u001b[0;32m~/anaconda3/envs/covid_vax_model/lib/python3.7/site-packages/tensorflow/python/autograph/impl/api.py\u001b[0m in \u001b[0;36mwrapper\u001b[0;34m(*args, **kwargs)\u001b[0m\n\u001b[1;32m    595\u001b[0m   \u001b[0;32mdef\u001b[0m \u001b[0mwrapper\u001b[0m\u001b[0;34m(\u001b[0m\u001b[0;34m*\u001b[0m\u001b[0margs\u001b[0m\u001b[0;34m,\u001b[0m \u001b[0;34m**\u001b[0m\u001b[0mkwargs\u001b[0m\u001b[0;34m)\u001b[0m\u001b[0;34m:\u001b[0m\u001b[0;34m\u001b[0m\u001b[0;34m\u001b[0m\u001b[0m\n\u001b[1;32m    596\u001b[0m     \u001b[0;32mwith\u001b[0m \u001b[0mag_ctx\u001b[0m\u001b[0;34m.\u001b[0m\u001b[0mControlStatusCtx\u001b[0m\u001b[0;34m(\u001b[0m\u001b[0mstatus\u001b[0m\u001b[0;34m=\u001b[0m\u001b[0mag_ctx\u001b[0m\u001b[0;34m.\u001b[0m\u001b[0mStatus\u001b[0m\u001b[0;34m.\u001b[0m\u001b[0mUNSPECIFIED\u001b[0m\u001b[0;34m)\u001b[0m\u001b[0;34m:\u001b[0m\u001b[0;34m\u001b[0m\u001b[0;34m\u001b[0m\u001b[0m\n\u001b[0;32m--> 597\u001b[0;31m       \u001b[0;32mreturn\u001b[0m \u001b[0mfunc\u001b[0m\u001b[0;34m(\u001b[0m\u001b[0;34m*\u001b[0m\u001b[0margs\u001b[0m\u001b[0;34m,\u001b[0m \u001b[0;34m**\u001b[0m\u001b[0mkwargs\u001b[0m\u001b[0;34m)\u001b[0m\u001b[0;34m\u001b[0m\u001b[0;34m\u001b[0m\u001b[0m\n\u001b[0m\u001b[1;32m    598\u001b[0m \u001b[0;34m\u001b[0m\u001b[0m\n\u001b[1;32m    599\u001b[0m   \u001b[0;32mif\u001b[0m \u001b[0minspect\u001b[0m\u001b[0;34m.\u001b[0m\u001b[0misfunction\u001b[0m\u001b[0;34m(\u001b[0m\u001b[0mfunc\u001b[0m\u001b[0;34m)\u001b[0m \u001b[0;32mor\u001b[0m \u001b[0minspect\u001b[0m\u001b[0;34m.\u001b[0m\u001b[0mismethod\u001b[0m\u001b[0;34m(\u001b[0m\u001b[0mfunc\u001b[0m\u001b[0;34m)\u001b[0m\u001b[0;34m:\u001b[0m\u001b[0;34m\u001b[0m\u001b[0;34m\u001b[0m\u001b[0m\n",
      "\u001b[0;32m~/anaconda3/envs/covid_vax_model/lib/python3.7/site-packages/keras/engine/training.py\u001b[0m in \u001b[0;36mrun_step\u001b[0;34m(data)\u001b[0m\n\u001b[1;32m    833\u001b[0m \u001b[0;34m\u001b[0m\u001b[0m\n\u001b[1;32m    834\u001b[0m       \u001b[0;32mdef\u001b[0m \u001b[0mrun_step\u001b[0m\u001b[0;34m(\u001b[0m\u001b[0mdata\u001b[0m\u001b[0;34m)\u001b[0m\u001b[0;34m:\u001b[0m\u001b[0;34m\u001b[0m\u001b[0;34m\u001b[0m\u001b[0m\n\u001b[0;32m--> 835\u001b[0;31m         \u001b[0moutputs\u001b[0m \u001b[0;34m=\u001b[0m \u001b[0mmodel\u001b[0m\u001b[0;34m.\u001b[0m\u001b[0mtrain_step\u001b[0m\u001b[0;34m(\u001b[0m\u001b[0mdata\u001b[0m\u001b[0;34m)\u001b[0m\u001b[0;34m\u001b[0m\u001b[0;34m\u001b[0m\u001b[0m\n\u001b[0m\u001b[1;32m    836\u001b[0m         \u001b[0;31m# Ensure counter is updated only if `train_step` succeeds.\u001b[0m\u001b[0;34m\u001b[0m\u001b[0;34m\u001b[0m\u001b[0;34m\u001b[0m\u001b[0m\n\u001b[1;32m    837\u001b[0m         \u001b[0;32mwith\u001b[0m \u001b[0mtf\u001b[0m\u001b[0;34m.\u001b[0m\u001b[0mcontrol_dependencies\u001b[0m\u001b[0;34m(\u001b[0m\u001b[0m_minimum_control_deps\u001b[0m\u001b[0;34m(\u001b[0m\u001b[0moutputs\u001b[0m\u001b[0;34m)\u001b[0m\u001b[0;34m)\u001b[0m\u001b[0;34m:\u001b[0m\u001b[0;34m\u001b[0m\u001b[0;34m\u001b[0m\u001b[0m\n",
      "\u001b[0;32m~/anaconda3/envs/covid_vax_model/lib/python3.7/site-packages/keras/engine/training.py\u001b[0m in \u001b[0;36mtrain_step\u001b[0;34m(self, data)\u001b[0m\n\u001b[1;32m    785\u001b[0m     \u001b[0;31m# Run forward pass.\u001b[0m\u001b[0;34m\u001b[0m\u001b[0;34m\u001b[0m\u001b[0;34m\u001b[0m\u001b[0m\n\u001b[1;32m    786\u001b[0m     \u001b[0;32mwith\u001b[0m \u001b[0mtf\u001b[0m\u001b[0;34m.\u001b[0m\u001b[0mGradientTape\u001b[0m\u001b[0;34m(\u001b[0m\u001b[0;34m)\u001b[0m \u001b[0;32mas\u001b[0m \u001b[0mtape\u001b[0m\u001b[0;34m:\u001b[0m\u001b[0;34m\u001b[0m\u001b[0;34m\u001b[0m\u001b[0m\n\u001b[0;32m--> 787\u001b[0;31m       \u001b[0my_pred\u001b[0m \u001b[0;34m=\u001b[0m \u001b[0mself\u001b[0m\u001b[0;34m(\u001b[0m\u001b[0mx\u001b[0m\u001b[0;34m,\u001b[0m \u001b[0mtraining\u001b[0m\u001b[0;34m=\u001b[0m\u001b[0;32mTrue\u001b[0m\u001b[0;34m)\u001b[0m\u001b[0;34m\u001b[0m\u001b[0;34m\u001b[0m\u001b[0m\n\u001b[0m\u001b[1;32m    788\u001b[0m       loss = self.compiled_loss(\n\u001b[1;32m    789\u001b[0m           y, y_pred, sample_weight, regularization_losses=self.losses)\n",
      "\u001b[0;32m~/anaconda3/envs/covid_vax_model/lib/python3.7/site-packages/keras/engine/base_layer.py\u001b[0m in \u001b[0;36m__call__\u001b[0;34m(self, *args, **kwargs)\u001b[0m\n\u001b[1;32m   1035\u001b[0m         with autocast_variable.enable_auto_cast_variables(\n\u001b[1;32m   1036\u001b[0m             self._compute_dtype_object):\n\u001b[0;32m-> 1037\u001b[0;31m           \u001b[0moutputs\u001b[0m \u001b[0;34m=\u001b[0m \u001b[0mcall_fn\u001b[0m\u001b[0;34m(\u001b[0m\u001b[0minputs\u001b[0m\u001b[0;34m,\u001b[0m \u001b[0;34m*\u001b[0m\u001b[0margs\u001b[0m\u001b[0;34m,\u001b[0m \u001b[0;34m**\u001b[0m\u001b[0mkwargs\u001b[0m\u001b[0;34m)\u001b[0m\u001b[0;34m\u001b[0m\u001b[0;34m\u001b[0m\u001b[0m\n\u001b[0m\u001b[1;32m   1038\u001b[0m \u001b[0;34m\u001b[0m\u001b[0m\n\u001b[1;32m   1039\u001b[0m         \u001b[0;32mif\u001b[0m \u001b[0mself\u001b[0m\u001b[0;34m.\u001b[0m\u001b[0m_activity_regularizer\u001b[0m\u001b[0;34m:\u001b[0m\u001b[0;34m\u001b[0m\u001b[0;34m\u001b[0m\u001b[0m\n",
      "\u001b[0;32m/mnt/c/Users/kheut/code/covid19-forecasting/tf_model_1p5/model.py\u001b[0m in \u001b[0;36mcall\u001b[0;34m(self, r_t, debug_disable_prior, return_all)\u001b[0m\n\u001b[1;32m     63\u001b[0m \u001b[0;34m\u001b[0m\u001b[0m\n\u001b[1;32m     64\u001b[0m         \u001b[0mself\u001b[0m\u001b[0;34m.\u001b[0m\u001b[0m_constrain_parameters\u001b[0m\u001b[0;34m(\u001b[0m\u001b[0;34m)\u001b[0m\u001b[0;34m\u001b[0m\u001b[0;34m\u001b[0m\u001b[0m\n\u001b[0;32m---> 65\u001b[0;31m         \u001b[0mself\u001b[0m\u001b[0;34m.\u001b[0m\u001b[0m_sample_and_reparameterize\u001b[0m\u001b[0;34m(\u001b[0m\u001b[0;34m)\u001b[0m\u001b[0;34m\u001b[0m\u001b[0;34m\u001b[0m\u001b[0m\n\u001b[0m\u001b[1;32m     66\u001b[0m \u001b[0;34m\u001b[0m\u001b[0m\n\u001b[1;32m     67\u001b[0m         \u001b[0mr_t\u001b[0m \u001b[0;34m=\u001b[0m \u001b[0mtf\u001b[0m\u001b[0;34m.\u001b[0m\u001b[0msqueeze\u001b[0m\u001b[0;34m(\u001b[0m\u001b[0mr_t\u001b[0m\u001b[0;34m)\u001b[0m\u001b[0;34m\u001b[0m\u001b[0;34m\u001b[0m\u001b[0m\n",
      "\u001b[0;32m/mnt/c/Users/kheut/code/covid19-forecasting/tf_model_1p5/model.py\u001b[0m in \u001b[0;36m_sample_and_reparameterize\u001b[0;34m(self)\u001b[0m\n\u001b[1;32m    384\u001b[0m         \u001b[0;32mfor\u001b[0m \u001b[0mj\u001b[0m \u001b[0;32min\u001b[0m \u001b[0mrange\u001b[0m\u001b[0;34m(\u001b[0m\u001b[0mself\u001b[0m\u001b[0;34m.\u001b[0m\u001b[0mtransition_window\u001b[0m\u001b[0;34m)\u001b[0m\u001b[0;34m:\u001b[0m\u001b[0;34m\u001b[0m\u001b[0;34m\u001b[0m\u001b[0m\n\u001b[1;32m    385\u001b[0m             \u001b[0mpoisson_M_samples\u001b[0m \u001b[0;34m=\u001b[0m \u001b[0mnp\u001b[0m\u001b[0;34m.\u001b[0m\u001b[0marray\u001b[0m\u001b[0;34m(\u001b[0m\u001b[0;34m[\u001b[0m\u001b[0mdist\u001b[0m\u001b[0;34m.\u001b[0m\u001b[0mlog_prob\u001b[0m\u001b[0;34m(\u001b[0m\u001b[0mj\u001b[0m\u001b[0;34m+\u001b[0m\u001b[0;36m1\u001b[0m\u001b[0;34m)\u001b[0m \u001b[0;32mfor\u001b[0m \u001b[0mdist\u001b[0m \u001b[0;32min\u001b[0m \u001b[0mpoisson_M_dist_samples\u001b[0m\u001b[0;34m]\u001b[0m\u001b[0;34m)\u001b[0m\u001b[0;34m\u001b[0m\u001b[0;34m\u001b[0m\u001b[0m\n\u001b[0;32m--> 386\u001b[0;31m             self.pi_M_samples = self.pi_M_samples.write(j, np.array([dist.log_prob(j + 1) for dist in poisson_M_dist_samples]) /\n\u001b[0m\u001b[1;32m    387\u001b[0m                                                            self.nu_M_samples_constrained)\n\u001b[1;32m    388\u001b[0m \u001b[0;34m\u001b[0m\u001b[0m\n",
      "\u001b[0;32m/mnt/c/Users/kheut/code/covid19-forecasting/tf_model_1p5/model.py\u001b[0m in \u001b[0;36m<listcomp>\u001b[0;34m(.0)\u001b[0m\n\u001b[1;32m    384\u001b[0m         \u001b[0;32mfor\u001b[0m \u001b[0mj\u001b[0m \u001b[0;32min\u001b[0m \u001b[0mrange\u001b[0m\u001b[0;34m(\u001b[0m\u001b[0mself\u001b[0m\u001b[0;34m.\u001b[0m\u001b[0mtransition_window\u001b[0m\u001b[0;34m)\u001b[0m\u001b[0;34m:\u001b[0m\u001b[0;34m\u001b[0m\u001b[0;34m\u001b[0m\u001b[0m\n\u001b[1;32m    385\u001b[0m             \u001b[0mpoisson_M_samples\u001b[0m \u001b[0;34m=\u001b[0m \u001b[0mnp\u001b[0m\u001b[0;34m.\u001b[0m\u001b[0marray\u001b[0m\u001b[0;34m(\u001b[0m\u001b[0;34m[\u001b[0m\u001b[0mdist\u001b[0m\u001b[0;34m.\u001b[0m\u001b[0mlog_prob\u001b[0m\u001b[0;34m(\u001b[0m\u001b[0mj\u001b[0m\u001b[0;34m+\u001b[0m\u001b[0;36m1\u001b[0m\u001b[0;34m)\u001b[0m \u001b[0;32mfor\u001b[0m \u001b[0mdist\u001b[0m \u001b[0;32min\u001b[0m \u001b[0mpoisson_M_dist_samples\u001b[0m\u001b[0;34m]\u001b[0m\u001b[0;34m)\u001b[0m\u001b[0;34m\u001b[0m\u001b[0;34m\u001b[0m\u001b[0m\n\u001b[0;32m--> 386\u001b[0;31m             self.pi_M_samples = self.pi_M_samples.write(j, np.array([dist.log_prob(j + 1) for dist in poisson_M_dist_samples]) /\n\u001b[0m\u001b[1;32m    387\u001b[0m                                                            self.nu_M_samples_constrained)\n\u001b[1;32m    388\u001b[0m \u001b[0;34m\u001b[0m\u001b[0m\n",
      "\u001b[0;32m~/anaconda3/envs/covid_vax_model/lib/python3.7/site-packages/tensorflow_probability/python/distributions/distribution.py\u001b[0m in \u001b[0;36mlog_prob\u001b[0;34m(self, value, name, **kwargs)\u001b[0m\n\u001b[1;32m   1294\u001b[0m         \u001b[0mvalues\u001b[0m \u001b[0mof\u001b[0m \u001b[0mtype\u001b[0m\u001b[0;31m \u001b[0m\u001b[0;31m`\u001b[0m\u001b[0mself\u001b[0m\u001b[0;34m.\u001b[0m\u001b[0mdtype\u001b[0m\u001b[0;31m`\u001b[0m\u001b[0;34m.\u001b[0m\u001b[0;34m\u001b[0m\u001b[0;34m\u001b[0m\u001b[0m\n\u001b[1;32m   1295\u001b[0m     \"\"\"\n\u001b[0;32m-> 1296\u001b[0;31m     \u001b[0;32mreturn\u001b[0m \u001b[0mself\u001b[0m\u001b[0;34m.\u001b[0m\u001b[0m_call_log_prob\u001b[0m\u001b[0;34m(\u001b[0m\u001b[0mvalue\u001b[0m\u001b[0;34m,\u001b[0m \u001b[0mname\u001b[0m\u001b[0;34m,\u001b[0m \u001b[0;34m**\u001b[0m\u001b[0mkwargs\u001b[0m\u001b[0;34m)\u001b[0m\u001b[0;34m\u001b[0m\u001b[0;34m\u001b[0m\u001b[0m\n\u001b[0m\u001b[1;32m   1297\u001b[0m \u001b[0;34m\u001b[0m\u001b[0m\n\u001b[1;32m   1298\u001b[0m   \u001b[0;32mdef\u001b[0m \u001b[0m_call_prob\u001b[0m\u001b[0;34m(\u001b[0m\u001b[0mself\u001b[0m\u001b[0;34m,\u001b[0m \u001b[0mvalue\u001b[0m\u001b[0;34m,\u001b[0m \u001b[0mname\u001b[0m\u001b[0;34m,\u001b[0m \u001b[0;34m**\u001b[0m\u001b[0mkwargs\u001b[0m\u001b[0;34m)\u001b[0m\u001b[0;34m:\u001b[0m\u001b[0;34m\u001b[0m\u001b[0;34m\u001b[0m\u001b[0m\n",
      "\u001b[0;32m~/anaconda3/envs/covid_vax_model/lib/python3.7/site-packages/tensorflow_probability/python/distributions/distribution.py\u001b[0m in \u001b[0;36m_call_log_prob\u001b[0;34m(self, value, name, **kwargs)\u001b[0m\n\u001b[1;32m   1276\u001b[0m     \u001b[0;32mwith\u001b[0m \u001b[0mself\u001b[0m\u001b[0;34m.\u001b[0m\u001b[0m_name_and_control_scope\u001b[0m\u001b[0;34m(\u001b[0m\u001b[0mname\u001b[0m\u001b[0;34m,\u001b[0m \u001b[0mvalue\u001b[0m\u001b[0;34m,\u001b[0m \u001b[0mkwargs\u001b[0m\u001b[0;34m)\u001b[0m\u001b[0;34m:\u001b[0m\u001b[0;34m\u001b[0m\u001b[0;34m\u001b[0m\u001b[0m\n\u001b[1;32m   1277\u001b[0m       \u001b[0;32mif\u001b[0m \u001b[0mhasattr\u001b[0m\u001b[0;34m(\u001b[0m\u001b[0mself\u001b[0m\u001b[0;34m,\u001b[0m \u001b[0;34m'_log_prob'\u001b[0m\u001b[0;34m)\u001b[0m\u001b[0;34m:\u001b[0m\u001b[0;34m\u001b[0m\u001b[0;34m\u001b[0m\u001b[0m\n\u001b[0;32m-> 1278\u001b[0;31m         \u001b[0;32mreturn\u001b[0m \u001b[0mself\u001b[0m\u001b[0;34m.\u001b[0m\u001b[0m_log_prob\u001b[0m\u001b[0;34m(\u001b[0m\u001b[0mvalue\u001b[0m\u001b[0;34m,\u001b[0m \u001b[0;34m**\u001b[0m\u001b[0mkwargs\u001b[0m\u001b[0;34m)\u001b[0m\u001b[0;34m\u001b[0m\u001b[0;34m\u001b[0m\u001b[0m\n\u001b[0m\u001b[1;32m   1279\u001b[0m       \u001b[0;32mif\u001b[0m \u001b[0mhasattr\u001b[0m\u001b[0;34m(\u001b[0m\u001b[0mself\u001b[0m\u001b[0;34m,\u001b[0m \u001b[0;34m'_prob'\u001b[0m\u001b[0;34m)\u001b[0m\u001b[0;34m:\u001b[0m\u001b[0;34m\u001b[0m\u001b[0;34m\u001b[0m\u001b[0m\n\u001b[1;32m   1280\u001b[0m         \u001b[0;32mreturn\u001b[0m \u001b[0mtf\u001b[0m\u001b[0;34m.\u001b[0m\u001b[0mmath\u001b[0m\u001b[0;34m.\u001b[0m\u001b[0mlog\u001b[0m\u001b[0;34m(\u001b[0m\u001b[0mself\u001b[0m\u001b[0;34m.\u001b[0m\u001b[0m_prob\u001b[0m\u001b[0;34m(\u001b[0m\u001b[0mvalue\u001b[0m\u001b[0;34m,\u001b[0m \u001b[0;34m**\u001b[0m\u001b[0mkwargs\u001b[0m\u001b[0;34m)\u001b[0m\u001b[0;34m)\u001b[0m\u001b[0;34m\u001b[0m\u001b[0;34m\u001b[0m\u001b[0m\n",
      "\u001b[0;32m~/anaconda3/envs/covid_vax_model/lib/python3.7/site-packages/tensorflow_probability/python/distributions/poisson.py\u001b[0m in \u001b[0;36m_log_prob\u001b[0;34m(self, x)\u001b[0m\n\u001b[1;32m    294\u001b[0m   \u001b[0;32mdef\u001b[0m \u001b[0m_log_prob\u001b[0m\u001b[0;34m(\u001b[0m\u001b[0mself\u001b[0m\u001b[0;34m,\u001b[0m \u001b[0mx\u001b[0m\u001b[0;34m)\u001b[0m\u001b[0;34m:\u001b[0m\u001b[0;34m\u001b[0m\u001b[0;34m\u001b[0m\u001b[0m\n\u001b[1;32m    295\u001b[0m     \u001b[0mlog_rate\u001b[0m \u001b[0;34m=\u001b[0m \u001b[0mself\u001b[0m\u001b[0;34m.\u001b[0m\u001b[0m_log_rate_parameter_no_checks\u001b[0m\u001b[0;34m(\u001b[0m\u001b[0;34m)\u001b[0m\u001b[0;34m\u001b[0m\u001b[0;34m\u001b[0m\u001b[0m\n\u001b[0;32m--> 296\u001b[0;31m     log_probs = (self._log_unnormalized_prob(x, log_rate) -\n\u001b[0m\u001b[1;32m    297\u001b[0m                  self._log_normalization(log_rate))\n\u001b[1;32m    298\u001b[0m     \u001b[0;32mif\u001b[0m \u001b[0mself\u001b[0m\u001b[0;34m.\u001b[0m\u001b[0mforce_probs_to_zero_outside_support\u001b[0m\u001b[0;34m:\u001b[0m\u001b[0;34m\u001b[0m\u001b[0;34m\u001b[0m\u001b[0m\n",
      "\u001b[0;32m~/anaconda3/envs/covid_vax_model/lib/python3.7/site-packages/tensorflow_probability/python/distributions/poisson.py\u001b[0m in \u001b[0;36m_log_unnormalized_prob\u001b[0;34m(self, x, log_rate)\u001b[0m\n\u001b[1;32m    334\u001b[0m     safe_x = tf.maximum(\n\u001b[1;32m    335\u001b[0m         tf.floor(x) if self.force_probs_to_zero_outside_support else x, 0.)\n\u001b[0;32m--> 336\u001b[0;31m     \u001b[0my\u001b[0m \u001b[0;34m=\u001b[0m \u001b[0mtf\u001b[0m\u001b[0;34m.\u001b[0m\u001b[0mmath\u001b[0m\u001b[0;34m.\u001b[0m\u001b[0mmultiply_no_nan\u001b[0m\u001b[0;34m(\u001b[0m\u001b[0mlog_rate\u001b[0m\u001b[0;34m,\u001b[0m \u001b[0msafe_x\u001b[0m\u001b[0;34m)\u001b[0m \u001b[0;34m-\u001b[0m \u001b[0mtf\u001b[0m\u001b[0;34m.\u001b[0m\u001b[0mmath\u001b[0m\u001b[0;34m.\u001b[0m\u001b[0mlgamma\u001b[0m\u001b[0;34m(\u001b[0m\u001b[0;36m1.\u001b[0m \u001b[0;34m+\u001b[0m \u001b[0msafe_x\u001b[0m\u001b[0;34m)\u001b[0m\u001b[0;34m\u001b[0m\u001b[0;34m\u001b[0m\u001b[0m\n\u001b[0m\u001b[1;32m    337\u001b[0m     return tf.where(\n\u001b[1;32m    338\u001b[0m         tf.equal(x, safe_x), y, dtype_util.as_numpy_dtype(y.dtype)(-np.inf))\n",
      "\u001b[0;32m~/anaconda3/envs/covid_vax_model/lib/python3.7/site-packages/tensorflow/python/util/dispatch.py\u001b[0m in \u001b[0;36mwrapper\u001b[0;34m(*args, **kwargs)\u001b[0m\n\u001b[1;32m    204\u001b[0m     \u001b[0;34m\"\"\"Call target, and fall back on dispatchers if there is a TypeError.\"\"\"\u001b[0m\u001b[0;34m\u001b[0m\u001b[0;34m\u001b[0m\u001b[0m\n\u001b[1;32m    205\u001b[0m     \u001b[0;32mtry\u001b[0m\u001b[0;34m:\u001b[0m\u001b[0;34m\u001b[0m\u001b[0;34m\u001b[0m\u001b[0m\n\u001b[0;32m--> 206\u001b[0;31m       \u001b[0;32mreturn\u001b[0m \u001b[0mtarget\u001b[0m\u001b[0;34m(\u001b[0m\u001b[0;34m*\u001b[0m\u001b[0margs\u001b[0m\u001b[0;34m,\u001b[0m \u001b[0;34m**\u001b[0m\u001b[0mkwargs\u001b[0m\u001b[0;34m)\u001b[0m\u001b[0;34m\u001b[0m\u001b[0;34m\u001b[0m\u001b[0m\n\u001b[0m\u001b[1;32m    207\u001b[0m     \u001b[0;32mexcept\u001b[0m \u001b[0;34m(\u001b[0m\u001b[0mTypeError\u001b[0m\u001b[0;34m,\u001b[0m \u001b[0mValueError\u001b[0m\u001b[0;34m)\u001b[0m\u001b[0;34m:\u001b[0m\u001b[0;34m\u001b[0m\u001b[0;34m\u001b[0m\u001b[0m\n\u001b[1;32m    208\u001b[0m       \u001b[0;31m# Note: convert_to_eager_tensor currently raises a ValueError, not a\u001b[0m\u001b[0;34m\u001b[0m\u001b[0;34m\u001b[0m\u001b[0;34m\u001b[0m\u001b[0m\n",
      "\u001b[0;32m~/anaconda3/envs/covid_vax_model/lib/python3.7/site-packages/tensorflow/python/ops/math_ops.py\u001b[0m in \u001b[0;36mmultiply_no_nan\u001b[0;34m(x, y, name)\u001b[0m\n\u001b[1;32m   1616\u001b[0m   \u001b[0;32mwith\u001b[0m \u001b[0mops\u001b[0m\u001b[0;34m.\u001b[0m\u001b[0mname_scope\u001b[0m\u001b[0;34m(\u001b[0m\u001b[0mname\u001b[0m\u001b[0;34m,\u001b[0m \u001b[0;34m\"multiply_no_nan\"\u001b[0m\u001b[0;34m,\u001b[0m \u001b[0;34m[\u001b[0m\u001b[0mx\u001b[0m\u001b[0;34m,\u001b[0m \u001b[0my\u001b[0m\u001b[0;34m]\u001b[0m\u001b[0;34m)\u001b[0m \u001b[0;32mas\u001b[0m \u001b[0mname\u001b[0m\u001b[0;34m:\u001b[0m\u001b[0;34m\u001b[0m\u001b[0;34m\u001b[0m\u001b[0m\n\u001b[1;32m   1617\u001b[0m     \u001b[0mx\u001b[0m \u001b[0;34m=\u001b[0m \u001b[0mops\u001b[0m\u001b[0;34m.\u001b[0m\u001b[0mconvert_to_tensor\u001b[0m\u001b[0;34m(\u001b[0m\u001b[0mx\u001b[0m\u001b[0;34m,\u001b[0m \u001b[0mname\u001b[0m\u001b[0;34m=\u001b[0m\u001b[0;34m\"x\"\u001b[0m\u001b[0;34m)\u001b[0m\u001b[0;34m\u001b[0m\u001b[0;34m\u001b[0m\u001b[0m\n\u001b[0;32m-> 1618\u001b[0;31m     \u001b[0my\u001b[0m \u001b[0;34m=\u001b[0m \u001b[0mops\u001b[0m\u001b[0;34m.\u001b[0m\u001b[0mconvert_to_tensor\u001b[0m\u001b[0;34m(\u001b[0m\u001b[0my\u001b[0m\u001b[0;34m,\u001b[0m \u001b[0mname\u001b[0m\u001b[0;34m=\u001b[0m\u001b[0;34m\"y\"\u001b[0m\u001b[0;34m,\u001b[0m \u001b[0mdtype\u001b[0m\u001b[0;34m=\u001b[0m\u001b[0mx\u001b[0m\u001b[0;34m.\u001b[0m\u001b[0mdtype\u001b[0m\u001b[0;34m.\u001b[0m\u001b[0mbase_dtype\u001b[0m\u001b[0;34m)\u001b[0m\u001b[0;34m\u001b[0m\u001b[0;34m\u001b[0m\u001b[0m\n\u001b[0m\u001b[1;32m   1619\u001b[0m     \u001b[0mx_dtype\u001b[0m \u001b[0;34m=\u001b[0m \u001b[0mx\u001b[0m\u001b[0;34m.\u001b[0m\u001b[0mdtype\u001b[0m\u001b[0;34m.\u001b[0m\u001b[0mbase_dtype\u001b[0m\u001b[0;34m\u001b[0m\u001b[0;34m\u001b[0m\u001b[0m\n\u001b[1;32m   1620\u001b[0m     \u001b[0my_dtype\u001b[0m \u001b[0;34m=\u001b[0m \u001b[0my\u001b[0m\u001b[0;34m.\u001b[0m\u001b[0mdtype\u001b[0m\u001b[0;34m.\u001b[0m\u001b[0mbase_dtype\u001b[0m\u001b[0;34m\u001b[0m\u001b[0;34m\u001b[0m\u001b[0m\n",
      "\u001b[0;32m~/anaconda3/envs/covid_vax_model/lib/python3.7/site-packages/tensorflow/python/framework/dtypes.py\u001b[0m in \u001b[0;36mbase_dtype\u001b[0;34m(self)\u001b[0m\n\u001b[1;32m     68\u001b[0m   \u001b[0;32mdef\u001b[0m \u001b[0mbase_dtype\u001b[0m\u001b[0;34m(\u001b[0m\u001b[0mself\u001b[0m\u001b[0;34m)\u001b[0m\u001b[0;34m:\u001b[0m\u001b[0;34m\u001b[0m\u001b[0;34m\u001b[0m\u001b[0m\n\u001b[1;32m     69\u001b[0m     \u001b[0;34m\"\"\"Returns a non-reference `DType` based on this `DType`.\"\"\"\u001b[0m\u001b[0;34m\u001b[0m\u001b[0;34m\u001b[0m\u001b[0m\n\u001b[0;32m---> 70\u001b[0;31m     \u001b[0;32mif\u001b[0m \u001b[0mself\u001b[0m\u001b[0;34m.\u001b[0m\u001b[0m_is_ref_dtype\u001b[0m\u001b[0;34m:\u001b[0m\u001b[0;34m\u001b[0m\u001b[0;34m\u001b[0m\u001b[0m\n\u001b[0m\u001b[1;32m     71\u001b[0m       \u001b[0;32mreturn\u001b[0m \u001b[0m_INTERN_TABLE\u001b[0m\u001b[0;34m[\u001b[0m\u001b[0mself\u001b[0m\u001b[0;34m.\u001b[0m\u001b[0m_type_enum\u001b[0m \u001b[0;34m-\u001b[0m \u001b[0;36m100\u001b[0m\u001b[0;34m]\u001b[0m\u001b[0;34m\u001b[0m\u001b[0;34m\u001b[0m\u001b[0m\n\u001b[1;32m     72\u001b[0m     \u001b[0;32melse\u001b[0m\u001b[0;34m:\u001b[0m\u001b[0;34m\u001b[0m\u001b[0;34m\u001b[0m\u001b[0m\n",
      "\u001b[0;31mKeyboardInterrupt\u001b[0m: "
     ]
    }
   ],
   "source": [
    "model.compile(loss=loss, optimizer=optimizer, run_eagerly=True)\n",
    "model.fit(x=np.asarray([x_train]), y=np.asarray([y_test]),\n",
    "         epochs=2000, batch_size=0,\n",
    "        callbacks=[])"
   ]
  },
  {
   "cell_type": "code",
   "execution_count": null,
   "id": "16fdb62f",
   "metadata": {},
   "outputs": [],
   "source": [
    "model.trainable_weights"
   ]
  },
  {
   "cell_type": "code",
   "execution_count": null,
   "id": "20b7d909",
   "metadata": {},
   "outputs": [],
   "source": [
    "r_t"
   ]
  },
  {
   "cell_type": "code",
   "execution_count": null,
   "id": "a818a07a",
   "metadata": {},
   "outputs": [],
   "source": [
    "x_train"
   ]
  },
  {
   "cell_type": "code",
   "execution_count": null,
   "id": "6b0d9fcb",
   "metadata": {},
   "outputs": [],
   "source": [
    "len(y_test)"
   ]
  },
  {
   "cell_type": "code",
   "execution_count": null,
   "id": "54202dd0",
   "metadata": {},
   "outputs": [],
   "source": [
    "A_vals"
   ]
  },
  {
   "cell_type": "code",
   "execution_count": null,
   "id": "19fe223f",
   "metadata": {},
   "outputs": [],
   "source": [
    "len(M_vals)"
   ]
  },
  {
   "cell_type": "code",
   "execution_count": null,
   "id": "69d5ce71",
   "metadata": {},
   "outputs": [],
   "source": [
    "model.trainable_weights"
   ]
  },
  {
   "cell_type": "code",
   "execution_count": null,
   "id": "850ed170",
   "metadata": {},
   "outputs": [],
   "source": [
    "np.log(-2.9/(1-2.9))"
   ]
  },
  {
   "cell_type": "code",
   "execution_count": null,
   "id": "e142d2d6",
   "metadata": {},
   "outputs": [],
   "source": [
    "x_train"
   ]
  },
  {
   "cell_type": "code",
   "execution_count": null,
   "id": "57abaf3a",
   "metadata": {},
   "outputs": [],
   "source": [
    "1.1**(1/5.8)"
   ]
  },
  {
   "cell_type": "code",
   "execution_count": null,
   "id": "6b193c06",
   "metadata": {},
   "outputs": [],
   "source": [
    "df.loc[train_start:train_end, \n",
    "       'asymp'].values"
   ]
  },
  {
   "cell_type": "code",
   "execution_count": 29,
   "id": "87c464bf",
   "metadata": {},
   "outputs": [
    {
     "data": {
      "text/plain": [
       "<tf.Tensor: shape=(123,), dtype=float32, numpy=\n",
       "array([1883.1843 , 1879.9614 , 1878.4843 , 1874.889  , 1867.625  ,\n",
       "       1855.1506 , 1839.0627 , 1819.4205 , 1797.5369 , 1772.8456 ,\n",
       "       1745.3354 , 1713.0474 , 1676.8483 , 1637.9723 , 1595.6298 ,\n",
       "       1550.9956 , 1505.9484 , 1460.1703 , 1411.5771 , 1360.6824 ,\n",
       "       1309.5687 , 1257.2211 , 1206.9117 , 1158.9786 , 1112.176  ,\n",
       "       1065.396  , 1019.1018 ,  974.7162 ,  931.76184,  891.36066,\n",
       "        854.1387 ,  819.2815 ,  786.52826,  754.50806,  724.3344 ,\n",
       "        696.807  ,  669.4488 ,  646.7868 ,  625.5422 ,  605.7364 ,\n",
       "        587.4074 ,  570.8427 ,  555.80206,  542.41534,  530.70746,\n",
       "        520.6189 ,  512.4302 ,  504.1964 ,  498.84677,  495.26813,\n",
       "        493.92334,  494.2876 ,  496.60837,  500.79382,  506.81006,\n",
       "        514.7886 ,  524.72736,  536.65625,  550.4345 ,  566.6077 ,\n",
       "        584.84607,  605.1895 ,  627.5542 ,  651.947  ,  678.33746,\n",
       "        706.6682 ,  736.8512 ,  768.7289 ,  801.9794 ,  836.5681 ,\n",
       "        872.2976 ,  908.9281 ,  946.2943 ,  984.1789 , 1022.3099 ,\n",
       "       1060.4037 , 1098.3177 , 1135.9012 , 1173.007  , 1209.5043 ,\n",
       "       1245.3347 , 1280.3154 , 1314.3794 , 1347.5917 , 1379.9677 ,\n",
       "       1411.539  , 1442.3995 , 1472.687  , 1502.3444 , 1531.4285 ,\n",
       "       1559.9098 , 1588.4545 , 1616.9271 , 1645.5067 , 1674.3782 ,\n",
       "       1703.5972 , 1733.2777 , 1763.7051 , 1795.0509 , 1827.5033 ,\n",
       "       1861.2802 , 1896.5581 , 1933.4027 , 1972.0134 , 2012.5765 ,\n",
       "       2055.2693 , 2100.77   , 2148.1025 , 2198.715  , 2251.9998 ,\n",
       "       2308.054  , 2367.2463 , 2429.713  , 2495.625  , 2565.1301 ,\n",
       "       2638.4746 , 2715.449  , 2796.1462 , 2880.886  , 2969.936  ,\n",
       "       3063.9111 , 3162.4797 , 3266.1235 ], dtype=float32)>"
      ]
     },
     "execution_count": 29,
     "metadata": {},
     "output_type": "execute_result"
    }
   ],
   "source": [
    "y_test"
   ]
  },
  {
   "cell_type": "code",
   "execution_count": 28,
   "id": "24653262",
   "metadata": {},
   "outputs": [
    {
     "data": {
      "text/plain": [
       "<tf.Tensor: shape=(123,), dtype=float32, numpy=\n",
       "array([1721.6371 , 1720.6525 , 1717.0166 , 1710.3861 , 1700.644  ,\n",
       "       1687.5132 , 1670.8053 , 1650.4231 , 1626.364  , 1598.7163 ,\n",
       "       1567.6592 , 1533.4565 , 1496.4475 , 1457.034  , 1415.6584 ,\n",
       "       1372.7823 , 1328.8628 , 1284.3438 , 1239.6488 , 1195.1702 ,\n",
       "       1151.2543 , 1108.1935 , 1066.2264 , 1025.5432 ,  986.2899 ,\n",
       "        948.574  ,  912.4698 ,  878.02234,  845.2526 ,  814.16327,\n",
       "        784.746  ,  756.9894 ,  730.87994,  706.40436,  683.54926,\n",
       "        662.30334,  642.6584 ,  624.6101 ,  608.15924,  593.31036,\n",
       "        580.07166,  568.4524 ,  558.4641 ,  550.1219 ,  543.4456 ,\n",
       "        538.45856,  535.1858 ,  533.65424,  533.8938 ,  535.9386 ,\n",
       "        539.8261 ,  545.5945 ,  553.2818 ,  562.9245 ,  574.55634,\n",
       "        588.2066 ,  603.8985 ,  621.645  ,  641.445  ,  663.2785 ,\n",
       "        687.1046 ,  712.86206,  740.4679 ,  769.8131 ,  800.7586 ,\n",
       "        833.1359 ,  866.7534 ,  901.403  ,  936.86273,  972.8991 ,\n",
       "       1009.27277, 1045.7461 , 1082.0925 , 1118.1038 , 1153.5962 ,\n",
       "       1188.4155 , 1222.4362 , 1255.562  , 1287.7285 , 1318.9058 ,\n",
       "       1349.0986 , 1378.3387 , 1406.6779 , 1434.1853 , 1460.9473 ,\n",
       "       1487.065  , 1512.6519 , 1537.8292 , 1562.7242 , 1587.4695 ,\n",
       "       1612.2021 , 1637.0645 , 1662.2029 , 1687.7687 , 1713.9175 ,\n",
       "       1740.8092 , 1768.6058 , 1797.4702 , 1827.5652 , 1859.0525 ,\n",
       "       1892.0957 , 1926.853  , 1963.4795 , 2002.1243 , 2042.9287 ,\n",
       "       2086.0276 , 2131.548  , 2179.611  , 2230.3296 , 2283.809  ,\n",
       "       2340.1467 , 2399.4314 , 2461.7493 , 2527.1826 , 2595.811  ,\n",
       "       2667.7134 , 2742.9763 , 2821.708  , 2904.0544 , 2990.2046 ,\n",
       "       3080.4    , 3174.9744 , 3274.4016 ], dtype=float32)>"
      ]
     },
     "execution_count": 28,
     "metadata": {},
     "output_type": "execute_result"
    }
   ],
   "source": [
    "tf.reduce_mean(result, axis=1)"
   ]
  },
  {
   "cell_type": "code",
   "execution_count": null,
   "id": "a8605f90",
   "metadata": {},
   "outputs": [],
   "source": [
    "result"
   ]
  },
  {
   "cell_type": "code",
   "execution_count": null,
   "id": "84def15d",
   "metadata": {},
   "outputs": [],
   "source": [
    "x_train"
   ]
  },
  {
   "cell_type": "code",
   "execution_count": null,
   "id": "63307cf3",
   "metadata": {},
   "outputs": [],
   "source": [
    "y_test"
   ]
  },
  {
   "cell_type": "code",
   "execution_count": null,
   "id": "e5aa8e6a",
   "metadata": {},
   "outputs": [],
   "source": [
    "tf.cast(df.loc[train_start:test_end,'asymp'], dtype=tf.float32)"
   ]
  },
  {
   "cell_type": "code",
   "execution_count": null,
   "id": "71fcec06",
   "metadata": {},
   "outputs": [],
   "source": []
  }
 ],
 "metadata": {
  "kernelspec": {
   "display_name": "Python 3 (ipykernel)",
   "language": "python",
   "name": "python3"
  },
  "language_info": {
   "codemirror_mode": {
    "name": "ipython",
    "version": 3
   },
   "file_extension": ".py",
   "mimetype": "text/x-python",
   "name": "python",
   "nbconvert_exporter": "python",
   "pygments_lexer": "ipython3",
   "version": "3.7.11"
  }
 },
 "nbformat": 4,
 "nbformat_minor": 5
}

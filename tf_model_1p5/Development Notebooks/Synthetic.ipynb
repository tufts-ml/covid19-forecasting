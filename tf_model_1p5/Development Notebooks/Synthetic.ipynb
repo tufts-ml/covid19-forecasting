{
 "cells": [
  {
   "cell_type": "code",
   "execution_count": 1,
   "id": "d98f904b",
   "metadata": {},
   "outputs": [
    {
     "name": "stderr",
     "output_type": "stream",
     "text": [
      "2021-11-01 01:44:41.215772: W tensorflow/stream_executor/platform/default/dso_loader.cc:64] Could not load dynamic library 'libcudart.so.11.0'; dlerror: libcudart.so.11.0: cannot open shared object file: No such file or directory\n",
      "2021-11-01 01:44:41.215809: I tensorflow/stream_executor/cuda/cudart_stub.cc:29] Ignore above cudart dlerror if you do not have a GPU set up on your machine.\n"
     ]
    }
   ],
   "source": [
    "%load_ext autoreload\n",
    "%autoreload 2\n",
    "\n",
    "import numpy as np\n",
    "import tensorflow as tf\n",
    "\n",
    "import sys\n",
    "sys.path.append('/mnt/c/Users/kheut/code/covid19-forecasting/tf_model_1p5/')\n",
    "\n",
    "from enum import Enum\n",
    "\n",
    "import tensorflow as tf\n",
    "from tensorflow import keras\n",
    "from tensorflow.keras.layers import Dense\n",
    "\n",
    "import tensorflow_probability as tfp\n",
    "from scipy.stats import beta, truncnorm\n",
    "\n",
    "\n",
    "# Local imports from model.py, data.py\n",
    "from model import CovidModel, LogPoissonProb, get_logging_callbacks, Comp, Vax\n",
    "from data import read_data, create_warmup\n",
    "#from plots import make_all_plots\n",
    "\n",
    "import scipy\n",
    "\n",
    "import matplotlib\n",
    "import matplotlib.pyplot as plt"
   ]
  },
  {
   "cell_type": "code",
   "execution_count": 2,
   "id": "8ee47878",
   "metadata": {},
   "outputs": [],
   "source": [
    "transition_window =3\n",
    "\n",
    "warmup_start = '20210428'\n",
    "warmup_end = '20210430'\n",
    "train_start = '20210501'\n",
    "train_end = '20210731'\n",
    "test_start = '20210801'\n",
    "test_end = '20210831'\n",
    "\n",
    "state = 'Massachusetts'\n",
    "state_abbrev = 'MA'\n",
    "\n",
    "data_dir = '../data'\n",
    "covid_estim_date = '20210901'\n",
    "hhs_date = '20210903'\n",
    "owid_date = '20210903'\n",
    "\n",
    "log_dir = './logs/new_warmup'\n",
    "\n",
    "\n",
    "# Learning rate\n",
    "learning_rate = 1e-4"
   ]
  },
  {
   "cell_type": "code",
   "execution_count": 3,
   "id": "45ece18a",
   "metadata": {},
   "outputs": [],
   "source": [
    "df = read_data(data_dir=data_dir,\n",
    "               covid_estim_date=covid_estim_date,\n",
    "               hhs_date=hhs_date,\n",
    "               owid_date=owid_date,\n",
    "               state=state, state_abbrev=state_abbrev)"
   ]
  },
  {
   "cell_type": "code",
   "execution_count": 4,
   "id": "518266ac",
   "metadata": {},
   "outputs": [],
   "source": [
    "class Comp(Enum):\n",
    "    A = 0\n",
    "    M = 1\n",
    "    #X = 2\n",
    "    #G = 3\n",
    "    \n",
    "class Vax(Enum):\n",
    "    total = -1\n",
    "    no = 0\n",
    "    yes = 1"
   ]
  },
  {
   "cell_type": "code",
   "execution_count": 5,
   "id": "6b1a0fe5",
   "metadata": {},
   "outputs": [],
   "source": [
    "# get warmup arrays, splitting on vaccination status\n",
    "warmup_asymp, warmup_mild, warmup_extreme = create_warmup(df, \n",
    "                                                          warmup_start, \n",
    "                                                          warmup_end,\n",
    "                                                          0,0,0)\n",
    "\n",
    "# re-combine\n",
    "warmup_asymp = warmup_asymp[Vax.no.value] + warmup_asymp[Vax.yes.value]"
   ]
  },
  {
   "cell_type": "code",
   "execution_count": 6,
   "id": "60d8f2eb",
   "metadata": {},
   "outputs": [],
   "source": [
    "synth_delta = 0.99\n",
    "synth_T_serial = 5.8\n",
    "synth_rho_M = 0.76\n",
    "synth_lambda_M = 4.7\n",
    "synth_nu_M = 3.1"
   ]
  },
  {
   "cell_type": "code",
   "execution_count": 7,
   "id": "049f001e",
   "metadata": {},
   "outputs": [],
   "source": [
    "param_scale_pct = 0.01"
   ]
  },
  {
   "cell_type": "code",
   "execution_count": 8,
   "id": "0e2f73a9",
   "metadata": {},
   "outputs": [
    {
     "name": "stderr",
     "output_type": "stream",
     "text": [
      "2021-11-01 01:44:43.377998: I tensorflow/stream_executor/cuda/cuda_gpu_executor.cc:923] could not open file to read NUMA node: /sys/bus/pci/devices/0000:2d:00.0/numa_node\n",
      "Your kernel may have been built without NUMA support.\n",
      "2021-11-01 01:44:43.378215: W tensorflow/stream_executor/platform/default/dso_loader.cc:64] Could not load dynamic library 'libcudart.so.11.0'; dlerror: libcudart.so.11.0: cannot open shared object file: No such file or directory\n",
      "2021-11-01 01:44:43.378259: W tensorflow/stream_executor/platform/default/dso_loader.cc:64] Could not load dynamic library 'libcublas.so.11'; dlerror: libcublas.so.11: cannot open shared object file: No such file or directory\n",
      "2021-11-01 01:44:43.378290: W tensorflow/stream_executor/platform/default/dso_loader.cc:64] Could not load dynamic library 'libcublasLt.so.11'; dlerror: libcublasLt.so.11: cannot open shared object file: No such file or directory\n",
      "2021-11-01 01:44:43.378328: W tensorflow/stream_executor/platform/default/dso_loader.cc:64] Could not load dynamic library 'libcufft.so.10'; dlerror: libcufft.so.10: cannot open shared object file: No such file or directory\n",
      "2021-11-01 01:44:43.378372: W tensorflow/stream_executor/platform/default/dso_loader.cc:64] Could not load dynamic library 'libcurand.so.10'; dlerror: libcurand.so.10: cannot open shared object file: No such file or directory\n",
      "2021-11-01 01:44:43.378426: W tensorflow/stream_executor/platform/default/dso_loader.cc:64] Could not load dynamic library 'libcusolver.so.11'; dlerror: libcusolver.so.11: cannot open shared object file: No such file or directory\n",
      "2021-11-01 01:44:43.378481: W tensorflow/stream_executor/platform/default/dso_loader.cc:64] Could not load dynamic library 'libcusparse.so.11'; dlerror: libcusparse.so.11: cannot open shared object file: No such file or directory\n",
      "2021-11-01 01:44:43.378541: W tensorflow/stream_executor/platform/default/dso_loader.cc:64] Could not load dynamic library 'libcudnn.so.8'; dlerror: libcudnn.so.8: cannot open shared object file: No such file or directory\n",
      "2021-11-01 01:44:43.378554: W tensorflow/core/common_runtime/gpu/gpu_device.cc:1835] Cannot dlopen some GPU libraries. Please make sure the missing libraries mentioned above are installed properly if you would like to use GPU. Follow the guide at https://www.tensorflow.org/install/gpu for how to download and setup the required libraries for your platform.\n",
      "Skipping registering GPU devices...\n",
      "2021-11-01 01:44:43.379101: I tensorflow/core/platform/cpu_feature_guard.cc:142] This TensorFlow binary is optimized with oneAPI Deep Neural Network Library (oneDNN) to use the following CPU instructions in performance-critical operations:  AVX2 FMA\n",
      "To enable them in other operations, rebuild TensorFlow with the appropriate compiler flags.\n"
     ]
    }
   ],
   "source": [
    "delta = {}\n",
    "delta[Vax.total.value] = {}\n",
    "delta[Vax.total.value]['prior'] = {'a': 18, 'b': 2}\n",
    "# delta is 0-1, so we will sigmoid the output of the variational posterior\n",
    "# Here we use a reverse sigmoid to convert from a mean of 0.1\n",
    "# scales are positive, so we invert sofplus\n",
    "\n",
    "\n",
    "delta[Vax.total.value]['posterior_init'] = {'loc': np.log(synth_delta/(1-synth_delta)),\n",
    "                                            'scale':tfp.math.softplus_inverse(param_scale_pct*synth_delta)}\n",
    "\n",
    "T_serial = {}\n",
    "T_serial[Vax.total.value] = {}\n",
    "T_serial[Vax.total.value]['prior'] ={'loc':5.8, 'scale':1}\n",
    "# T_serial is positive, so we will softplus the output of the variational posterior\n",
    "# Here we use a reverse softplus to convert from a mean of 5.8\n",
    "# I cant figure out the math to do for the scale parameter\n",
    "T_serial[Vax.total.value]['posterior_init'] = {'loc': tfp.math.softplus_inverse(synth_T_serial),\n",
    "                                         'scale':tfp.math.softplus_inverse(param_scale_pct*synth_T_serial)}\n",
    "\n",
    "\n",
    "rho_M = {}\n",
    "rho_M[Vax.total.value] = {}\n",
    "rho_M[Vax.total.value]['prior'] = {'a': 31.8, 'b': 10.3}\n",
    "# rho is 0-1, so we will sigmoid the output of the variational posterior\n",
    "# Here we use a reverse sigmoid to convert from a mean of 0.76\n",
    "# I cant figure out the math to do for the scale parameter\n",
    "rho_M[Vax.total.value]['posterior_init'] = {'loc': np.log(synth_rho_M/(1-synth_rho_M)),\n",
    "                                      'scale':tfp.math.softplus_inverse(param_scale_pct*synth_rho_M)}\n",
    "\n",
    "lambda_M = {}\n",
    "lambda_M[Vax.total.value] = {}\n",
    "lambda_M[Vax.total.value]['prior'] = {'loc': 4.7, 'scale': 1}\n",
    "# lambda is positive, so we will softplus the output of the variational posterior\n",
    "# Here we use a reverse softplus to convert from a mean of 4.7\n",
    "# I cant figure out the math to do for the scale parameter\n",
    "lambda_M[Vax.total.value]['posterior_init'] = {'loc': tfp.math.softplus_inverse(synth_lambda_M),\n",
    "                                         'scale':tfp.math.softplus_inverse(param_scale_pct*synth_lambda_M)}\n",
    "\n",
    "nu_M = {}\n",
    "nu_M[Vax.total.value] = {}\n",
    "nu_M[Vax.total.value]['prior'] = {'loc': 3.1, 'scale': 1.2}\n",
    "# nu is positive, so we will softplus the output of the variational posterior\n",
    "# Here we use a reverse softplus to convert from a mean of 3.1\n",
    "# I cant figure out the math to do for the scale parameter\n",
    "nu_M[Vax.total.value]['posterior_init'] = {'loc': tfp.math.softplus_inverse(synth_nu_M),\n",
    "                                     'scale':tfp.math.softplus_inverse(param_scale_pct*synth_nu_M)}\n"
   ]
  },
  {
   "cell_type": "code",
   "execution_count": 9,
   "id": "bdc5bd64",
   "metadata": {},
   "outputs": [],
   "source": [
    "warmup_A_params = {}\n",
    "warmup_A_params[Vax.total.value] = {}\n",
    "warmup_A_params[Vax.total.value]['prior'] = []\n",
    "warmup_A_params[Vax.total.value]['posterior_init'] = []\n",
    "\n",
    "for day in range(transition_window):\n",
    "    warmup_A_params[Vax.total.value]['prior'].append({'loc': warmup_asymp[day],\n",
    "                                                'scale': warmup_asymp[day]/10})\n",
    "    # must be positive so reverse softplus the mean\n",
    "    warmup_A_params[Vax.total.value]['posterior_init'].append({'loc': tf.cast(tfp.math.softplus_inverse(warmup_asymp[day]),dtype=tf.float32),\n",
    "                                                         'scale': tf.cast(tfp.math.softplus_inverse(warmup_asymp[day]*param_scale_pct),dtype=tf.float32)})#tf.cast(tfp.math.softplus_inverse(warmup_asymp[day]/10),dtype=tf.float32)})"
   ]
  },
  {
   "cell_type": "code",
   "execution_count": 10,
   "id": "907868ff",
   "metadata": {},
   "outputs": [],
   "source": [
    "model = CovidModel([Vax.total], [Comp.A, Comp.M],\n",
    "                 transition_window,\n",
    "                 delta, T_serial, rho_M, lambda_M, nu_M,\n",
    "                 warmup_A_params, posterior_samples=1000)\n",
    "loss = LogPoissonProb() \n",
    "optimizer = tf.keras.optimizers.SGD(\n",
    "    learning_rate=learning_rate, #momentum=0.98, nesterov=False, name='SGD'\n",
    ")"
   ]
  },
  {
   "cell_type": "code",
   "execution_count": 11,
   "id": "1b910b9d",
   "metadata": {},
   "outputs": [],
   "source": [
    "x_train = tf.cast(df.loc[train_start:test_end,'Rt'].values, dtype=tf.float32)\n",
    "y_test = tf.cast(df.loc[train_start:test_end,'mild'], dtype=tf.float32)\n"
   ]
  },
  {
   "cell_type": "code",
   "execution_count": 12,
   "id": "d9adf0d8",
   "metadata": {},
   "outputs": [
    {
     "data": {
      "text/plain": [
       "{-1: {'prior': [{'loc': 2518.60923786445, 'scale': 251.86092378644497},\n",
       "   {'loc': 2520.22371776634, 'scale': 252.022371776634},\n",
       "   {'loc': 2518.626798999444, 'scale': 251.8626798999444}],\n",
       "  'posterior_init': [{'loc': <tf.Tensor: shape=(), dtype=float32, numpy=2518.6091>,\n",
       "    'scale': <tf.Tensor: shape=(), dtype=float32, numpy=25.186092>},\n",
       "   {'loc': <tf.Tensor: shape=(), dtype=float32, numpy=2520.2236>,\n",
       "    'scale': <tf.Tensor: shape=(), dtype=float32, numpy=25.202238>},\n",
       "   {'loc': <tf.Tensor: shape=(), dtype=float32, numpy=2518.6267>,\n",
       "    'scale': <tf.Tensor: shape=(), dtype=float32, numpy=25.186268>}]}}"
      ]
     },
     "execution_count": 12,
     "metadata": {},
     "output_type": "execute_result"
    }
   ],
   "source": [
    "warmup_A_params"
   ]
  },
  {
   "cell_type": "code",
   "execution_count": 13,
   "id": "0982e951",
   "metadata": {},
   "outputs": [
    {
     "data": {
      "text/plain": [
       "{-1: {'prior': {'a': 18, 'b': 2},\n",
       "  'posterior_init': {'loc': 4.595119850134589,\n",
       "   'scale': <tf.Tensor: shape=(), dtype=float32, numpy=-4.610266>}}}"
      ]
     },
     "execution_count": 13,
     "metadata": {},
     "output_type": "execute_result"
    }
   ],
   "source": [
    "delta"
   ]
  },
  {
   "cell_type": "code",
   "execution_count": null,
   "id": "3a07e696",
   "metadata": {},
   "outputs": [],
   "source": []
  },
  {
   "cell_type": "code",
   "execution_count": 14,
   "id": "3e09a3d6",
   "metadata": {},
   "outputs": [],
   "source": [
    "A_vals = []\n",
    "M_vals =[]\n",
    "for day in range(transition_window):\n",
    "    A_vals.append(warmup_A_params[-1]['prior'][day]['loc'])\n",
    "\n",
    "for day in range(len(x_train)):\n",
    "    yesterday_asymp = A_vals[-1]\n",
    "    \n",
    "    today_asymp = yesterday_asymp*synth_delta*x_train[day]**(1/synth_T_serial)\n",
    "    A_vals.append(today_asymp)\n",
    "    \n",
    "    today_M = 0\n",
    "    pi_M=[]\n",
    "    for j in range(transition_window):\n",
    "        \n",
    "        \n",
    "        lambda_M_fix = synth_lambda_M\n",
    "        nu_M_fix = synth_nu_M\n",
    "        poisson_dist = scipy.stats.poisson(lambda_M_fix)\n",
    "        pi_M_j_ago = poisson_dist.logpmf(j+1)/nu_M_fix\n",
    "        \n",
    "        pi_M.append(pi_M_j_ago)\n",
    "    \n",
    "    pi_M = scipy.special.softmax(pi_M)\n",
    "        \n",
    "    for j in range(transition_window):\n",
    "        j_ago_asymp = A_vals[day-j-1]\n",
    "        today_M += j_ago_asymp*synth_rho_M*pi_M[j]\n",
    "        \n",
    "    M_vals.append(today_M)"
   ]
  },
  {
   "cell_type": "code",
   "execution_count": 15,
   "id": "76c96aa6",
   "metadata": {},
   "outputs": [
    {
     "data": {
      "text/plain": [
       "Text(0.5, 1.0, 'Asymptomatic Compartment')"
      ]
     },
     "execution_count": 15,
     "metadata": {},
     "output_type": "execute_result"
    },
    {
     "data": {
      "image/png": "[encoded data removed]",
      "text/plain": [
       "<Figure size 432x288 with 1 Axes>"
      ]
     },
     "metadata": {
      "needs_background": "light"
     },
     "output_type": "display_data"
    }
   ],
   "source": [
    "plt.plot(df.loc[warmup_start:test_end].index.values, A_vals, label='Synthetic Asymp')\n",
    "plt.plot(df.loc[warmup_start:test_end].index.values, df.loc[warmup_start:test_end,'asymp'].values, label='Covid Estim Asymp')\n",
    "month_ticks = matplotlib.dates.MonthLocator(interval=1)\n",
    "ax = plt.gca()\n",
    "ax.xaxis.set_major_locator(month_ticks)\n",
    "plt.legend()\n",
    "plt.title('Asymptomatic Compartment')"
   ]
  },
  {
   "cell_type": "code",
   "execution_count": 16,
   "id": "3dde3ba5",
   "metadata": {},
   "outputs": [
    {
     "data": {
      "text/plain": [
       "Text(0.5, 1.0, 'Mild Compartment')"
      ]
     },
     "execution_count": 16,
     "metadata": {},
     "output_type": "execute_result"
    },
    {
     "data": {
      "image/png": "[encoded data removed]",
      "text/plain": [
       "<Figure size 432x288 with 1 Axes>"
      ]
     },
     "metadata": {
      "needs_background": "light"
     },
     "output_type": "display_data"
    }
   ],
   "source": [
    "plt.plot(df.loc[train_start:test_end].index.values, M_vals, label='Synthetic Mild')\n",
    "plt.plot(df.loc[train_start:test_end].index.values, df.loc[train_start:test_end,'mild'].values, label='Covid Estim Mild')\n",
    "month_ticks = matplotlib.dates.MonthLocator(interval=1)\n",
    "ax = plt.gca()\n",
    "ax.xaxis.set_major_locator(month_ticks)\n",
    "plt.legend()\n",
    "plt.title('Mild Compartment')"
   ]
  },
  {
   "cell_type": "code",
   "execution_count": 17,
   "id": "1165effb",
   "metadata": {},
   "outputs": [],
   "source": [
    "model = CovidModel([Vax.total], [Comp.A, Comp.M],\n",
    "                 transition_window,\n",
    "                 delta, T_serial, rho_M, lambda_M, nu_M,\n",
    "                 warmup_A_params, posterior_samples=1000)\n",
    "loss = LogPoissonProb() "
   ]
  },
  {
   "cell_type": "code",
   "execution_count": 33,
   "id": "66a46ada",
   "metadata": {},
   "outputs": [
    {
     "name": "stdout",
     "output_type": "stream",
     "text": [
      "delta_loc: <tf.Variable 'delta_A_loc_-1:0' shape=() dtype=float32, numpy=7.96352>\n",
      "delta_scale: 0.00990759115666151\n",
      "Pre-softmax pi_M [[-1.019933   -1.0198661  -1.0379316  ... -1.0216193  -1.0067754\n",
      "  -1.0165745 ]\n",
      " [-0.7434962  -0.74345344 -0.75664455 ... -0.7447294  -0.7339271\n",
      "  -0.7410578 ]\n",
      " [-0.5986015  -0.5977261  -0.6073931  ... -0.6002523  -0.5925032\n",
      "  -0.5976983 ]]\n",
      "Delta 0.9996414184570312\n",
      "T serial 5.0342302322387695\n",
      "rho_M 0.6741719245910645\n",
      "lambda M 4.547292232513428\n",
      "pi_M [0.25652698 0.3426733  0.39248416]\n"
     ]
    }
   ],
   "source": [
    "x_train = tf.cast(df.loc[train_start:test_end,'Rt'].values, dtype=tf.float32)\n",
    "y_test = tf.cast(df.loc[train_start:test_end,'mild'], dtype=tf.float32)\n",
    "\n",
    "with tf.GradientTape() as tape:\n",
    "    result = model.call(x_train)\n",
    "    loss_val = loss(y_test, result)\n",
    "    loss_val += sum(model.losses)"
   ]
  },
  {
   "cell_type": "code",
   "execution_count": 19,
   "id": "b2df3202",
   "metadata": {},
   "outputs": [
    {
     "name": "stderr",
     "output_type": "stream",
     "text": [
      "2021-11-01 01:44:46.354484: W tensorflow/python/util/util.cc:348] Sets are not currently considered sequences, but this may change in the future, so consider avoiding using them.\n"
     ]
    },
    {
     "data": {
      "text/plain": [
       "[<tf.Tensor: shape=(), dtype=float32, numpy=-37420.484>,\n",
       " <tf.Tensor: shape=(), dtype=float32, numpy=0.71769863>,\n",
       " <tf.Tensor: shape=(), dtype=float32, numpy=297.32434>,\n",
       " <tf.Tensor: shape=(), dtype=float32, numpy=0.98725146>,\n",
       " <tf.Tensor: shape=(), dtype=float32, numpy=-10183.582>,\n",
       " <tf.Tensor: shape=(), dtype=float32, numpy=4.2471976>,\n",
       " <tf.Tensor: shape=(), dtype=float32, numpy=-0.007919095>,\n",
       " <tf.Tensor: shape=(), dtype=float32, numpy=0.0023096825>,\n",
       " <tf.Tensor: shape=(), dtype=float32, numpy=-9.6512575>,\n",
       " <tf.Tensor: shape=(), dtype=float32, numpy=0.011777837>,\n",
       " <tf.Tensor: shape=(), dtype=float32, numpy=0.0049552754>,\n",
       " <tf.Tensor: shape=(), dtype=float32, numpy=0.0010990053>,\n",
       " <tf.Tensor: shape=(), dtype=float32, numpy=0.0088002365>,\n",
       " <tf.Tensor: shape=(), dtype=float32, numpy=0.0018924602>,\n",
       " <tf.Tensor: shape=(), dtype=float32, numpy=-16.869581>,\n",
       " <tf.Tensor: shape=(), dtype=float32, numpy=1.3296092>]"
      ]
     },
     "execution_count": 19,
     "metadata": {},
     "output_type": "execute_result"
    }
   ],
   "source": [
    "grads = tape.gradient(loss_val, model.trainable_weights)\n",
    "grads"
   ]
  },
  {
   "cell_type": "code",
   "execution_count": 20,
   "id": "b6be9984",
   "metadata": {},
   "outputs": [
    {
     "data": {
      "text/plain": [
       "<tf.Tensor: shape=(), dtype=float32, numpy=21815.334>"
      ]
     },
     "execution_count": 20,
     "metadata": {},
     "output_type": "execute_result"
    }
   ],
   "source": [
    "loss_val"
   ]
  },
  {
   "cell_type": "code",
   "execution_count": 21,
   "id": "e0d7cece",
   "metadata": {},
   "outputs": [
    {
     "data": {
      "text/plain": [
       "<tf.Tensor: shape=(), dtype=float32, numpy=21815.334>"
      ]
     },
     "execution_count": 21,
     "metadata": {},
     "output_type": "execute_result"
    }
   ],
   "source": [
    "loss_val"
   ]
  },
  {
   "cell_type": "code",
   "execution_count": 22,
   "id": "6b5d4ee3",
   "metadata": {},
   "outputs": [
    {
     "name": "stdout",
     "output_type": "stream",
     "text": [
      "delta_loc: <tf.Variable 'delta_A_loc_-1:0' shape=() dtype=float32, numpy=4.59512>\n",
      "delta_scale: 0.009900001809000969\n",
      "Pre-softmax pi_M [[-1.0235089  -0.9952162  -1.001007   ... -1.0119407  -1.0318598\n",
      "  -1.0077869 ]\n",
      " [-0.7461369  -0.725512   -0.72969997 ... -0.7376979  -0.75226194\n",
      "  -0.7346448 ]\n",
      " [-0.598769   -0.5860922  -0.58759344 ... -0.59216833 -0.60284334\n",
      "  -0.5920157 ]]\n",
      "Delta 0.9897124171257019\n",
      "T serial 5.599632263183594\n",
      "rho_M 0.755867600440979\n",
      "lambda M 4.561206340789795\n",
      "pi_M [0.2573175  0.34257182 0.3929834 ]\n"
     ]
    }
   ],
   "source": [
    "with tf.GradientTape() as tape:\n",
    "    result = model.call(x_train)\n",
    "    loss_val = loss(tf.cast(np.array(M_vals),dtype=tf.float32), result)\n",
    "    loss_val += sum(model.losses)"
   ]
  },
  {
   "cell_type": "code",
   "execution_count": 23,
   "id": "2ef10305",
   "metadata": {},
   "outputs": [
    {
     "data": {
      "text/plain": [
       "[<tf.Tensor: shape=(), dtype=float32, numpy=883.66486>,\n",
       " <tf.Tensor: shape=(), dtype=float32, numpy=4.426243>,\n",
       " <tf.Tensor: shape=(), dtype=float32, numpy=-283.17828>,\n",
       " <tf.Tensor: shape=(), dtype=float32, numpy=2.3236551>,\n",
       " <tf.Tensor: shape=(), dtype=float32, numpy=-533.375>,\n",
       " <tf.Tensor: shape=(), dtype=float32, numpy=0.4756449>,\n",
       " <tf.Tensor: shape=(), dtype=float32, numpy=-0.009020777>,\n",
       " <tf.Tensor: shape=(), dtype=float32, numpy=0.0020839248>,\n",
       " <tf.Tensor: shape=(), dtype=float32, numpy=7.5049486>,\n",
       " <tf.Tensor: shape=(), dtype=float32, numpy=0.007400942>,\n",
       " <tf.Tensor: shape=(), dtype=float32, numpy=0.00096845>,\n",
       " <tf.Tensor: shape=(), dtype=float32, numpy=0.0012640016>,\n",
       " <tf.Tensor: shape=(), dtype=float32, numpy=0.0039745634>,\n",
       " <tf.Tensor: shape=(), dtype=float32, numpy=0.0018249605>,\n",
       " <tf.Tensor: shape=(), dtype=float32, numpy=-0.8914249>,\n",
       " <tf.Tensor: shape=(), dtype=float32, numpy=0.4298519>]"
      ]
     },
     "execution_count": 23,
     "metadata": {},
     "output_type": "execute_result"
    }
   ],
   "source": [
    "grads = tape.gradient(loss_val, model.trainable_weights)\n",
    "grads"
   ]
  },
  {
   "cell_type": "code",
   "execution_count": 24,
   "id": "88da171e",
   "metadata": {},
   "outputs": [
    {
     "data": {
      "text/plain": [
       "[<tf.Variable 'delta_A_loc_-1:0' shape=() dtype=float32, numpy=4.59512>,\n",
       " <tf.Variable 'delta_A_scale_-1:0' shape=() dtype=float32, numpy=-4.610266>,\n",
       " <tf.Variable 'T_serial_A_loc_-1:0' shape=() dtype=float32, numpy=5.796968>,\n",
       " <tf.Variable 'T_serial_A_scale_-1:0' shape=() dtype=float32, numpy=-2.818172>,\n",
       " <tf.Variable 'rho_M_loc_-1:0' shape=() dtype=float32, numpy=1.1526796>,\n",
       " <tf.Variable 'rho_M_scale_-1:0' shape=() dtype=float32, numpy=-4.875805>,\n",
       " <tf.Variable 'lambda_M_loc_-1:0' shape=() dtype=float32, numpy=4.690863>,\n",
       " <tf.Variable 'lambda_M_scale_-1:0' shape=() dtype=float32, numpy=-3.0340157>,\n",
       " <tf.Variable 'nu_M_loc_-1:0' shape=() dtype=float32, numpy=3.0539045>,\n",
       " <tf.Variable 'nu_M_scale_-1:0' shape=() dtype=float32, numpy=-3.458228>,\n",
       " <tf.Variable 'warmup_A_loc_0_-1:0' shape=() dtype=float32, numpy=2518.6091>,\n",
       " <tf.Variable 'warmup_A_scale_0_-1:0' shape=() dtype=float32, numpy=25.186092>,\n",
       " <tf.Variable 'warmup_A_loc_1_-1:0' shape=() dtype=float32, numpy=2520.2236>,\n",
       " <tf.Variable 'warmup_A_scale_1_-1:0' shape=() dtype=float32, numpy=25.202238>,\n",
       " <tf.Variable 'warmup_A_loc_2_-1:0' shape=() dtype=float32, numpy=2518.6267>,\n",
       " <tf.Variable 'warmup_A_scale_2_-1:0' shape=() dtype=float32, numpy=25.186268>]"
      ]
     },
     "execution_count": 24,
     "metadata": {},
     "output_type": "execute_result"
    }
   ],
   "source": [
    "model.trainable_weights"
   ]
  },
  {
   "cell_type": "code",
   "execution_count": 25,
   "id": "7c3d39b7",
   "metadata": {},
   "outputs": [
    {
     "data": {
      "text/plain": [
       "<tf.Tensor: shape=(), dtype=float32, numpy=829.1327>"
      ]
     },
     "execution_count": 25,
     "metadata": {},
     "output_type": "execute_result"
    }
   ],
   "source": [
    "loss_val"
   ]
  },
  {
   "cell_type": "code",
   "execution_count": 26,
   "id": "01ef6852",
   "metadata": {},
   "outputs": [
    {
     "data": {
      "text/plain": [
       "<tf.Tensor: shape=(), dtype=float32, numpy=829.1327>"
      ]
     },
     "execution_count": 26,
     "metadata": {},
     "output_type": "execute_result"
    }
   ],
   "source": [
    "loss_val"
   ]
  },
  {
   "cell_type": "code",
   "execution_count": 27,
   "id": "6fdeb586",
   "metadata": {
    "scrolled": true
   },
   "outputs": [
    {
     "name": "stdout",
     "output_type": "stream",
     "text": [
      "Epoch 1/20\n",
      "delta_loc: <tf.Variable 'delta_A_loc_-1:0' shape=() dtype=float32, numpy=4.59512>\n",
      "delta_scale: 0.009900001809000969\n",
      "Pre-softmax pi_M [[-0.9962262  -1.0162888  -1.0217007  ... -1.0374718  -1.0207511\n",
      "  -1.0292264 ]\n",
      " [-0.7262318  -0.7408425  -0.7447855  ... -0.75636244 -0.74413335\n",
      "  -0.7502906 ]\n",
      " [-0.5860906  -0.5958874  -0.59935087 ... -0.6059624  -0.5969819\n",
      "  -0.60256445]]\n",
      "Delta 0.9896848201751709\n",
      "T serial 5.612987995147705\n",
      "rho_M 0.7549872398376465\n",
      "lambda M 4.5531511306762695\n",
      "pi_M [0.25679618 0.3426155  0.39245573]\n",
      "1/1 [==============================] - 3s 3s/step - loss: 21776.6738\n",
      "Epoch 2/20\n",
      "delta_loc: <tf.Variable 'delta_A_loc_-1:0' shape=() dtype=float32, numpy=8.334344>\n",
      "delta_scale: 0.009907398372888565\n",
      "Pre-softmax pi_M [[-1.0201615  -1.0202935  -1.0327436  ... -0.99439263 -1.0289538\n",
      "  -1.0321686 ]\n",
      " [-0.7436657  -0.74376124 -0.7529279  ... -0.7248782  -0.7500864\n",
      "  -0.75242215]\n",
      " [-0.5993     -0.59930706 -0.60299605 ... -0.58357584 -0.6026148\n",
      "  -0.6066581 ]]\n",
      "Delta 0.9997525215148926\n",
      "T serial 5.5860466957092285\n",
      "rho_M 0.8948626518249512\n",
      "lambda M 4.551429271697998\n",
      "pi_M [0.25702408 0.34259492 0.39215815]\n",
      "1/1 [==============================] - 2s 2s/step - loss: 10097.8818\n",
      "Epoch 3/20\n",
      "delta_loc: <tf.Variable 'delta_A_loc_-1:0' shape=() dtype=float32, numpy=8.218305>\n",
      "delta_scale: 0.009907873347401619\n",
      "Pre-softmax pi_M [[-1.0345755  -1.0113399  -0.99564075 ... -1.0166909  -1.0449831\n",
      "  -1.0167413 ]\n",
      " [-0.7543041  -0.73723346 -0.7258093  ... -0.74113286 -0.7618011\n",
      "  -0.7411774 ]\n",
      " [-0.6034955  -0.59317166 -0.58592105 ... -0.5966578  -0.61109257\n",
      "  -0.59578514]]\n",
      "Delta 0.9997214078903198\n",
      "T serial 5.38904333114624\n",
      "rho_M 0.8131226301193237\n",
      "lambda M 4.540848255157471\n",
      "pi_M [0.25642872 0.34261402 0.39214805]\n",
      "1/1 [==============================] - 2s 2s/step - loss: 4841.5278\n",
      "Epoch 4/20\n",
      "delta_loc: <tf.Variable 'delta_A_loc_-1:0' shape=() dtype=float32, numpy=8.135751>\n",
      "delta_scale: 0.00990750640630722\n",
      "Pre-softmax pi_M [[-1.0366355  -1.0030732  -1.0250057  ... -1.0046054  -1.0405258\n",
      "  -1.0011754 ]\n",
      " [-0.75568414 -0.7312251  -0.7472111  ... -0.7323259  -0.75851107\n",
      "  -0.7298273 ]\n",
      " [-0.6072133  -0.5902012  -0.6001899  ... -0.5901721  -0.61004174\n",
      "  -0.5883172 ]]\n",
      "Delta 0.9996968507766724\n",
      "T serial 5.308280944824219\n",
      "rho_M 0.6783202886581421\n",
      "lambda M 4.5336198806762695\n",
      "pi_M [0.25670975 0.3426093  0.3927624 ]\n",
      "1/1 [==============================] - 2s 2s/step - loss: 1172.9209\n",
      "Epoch 5/20\n",
      "delta_loc: <tf.Variable 'delta_A_loc_-1:0' shape=() dtype=float32, numpy=8.123134>\n",
      "delta_scale: 0.00990759115666151\n",
      "Pre-softmax pi_M [[-1.0333791  -0.9908209  -1.0313889  ... -1.0133317  -0.995861\n",
      "  -1.0334061 ]\n",
      " [-0.753322   -0.7222906  -0.7518534  ... -0.7386855  -0.7260041\n",
      "  -0.7533367 ]\n",
      " [-0.60485023 -0.5828763  -0.60446906 ... -0.59431314 -0.58707607\n",
      "  -0.6050414 ]]\n",
      "Delta 0.999693751335144\n",
      "T serial 5.252799034118652\n",
      "rho_M 0.6619120240211487\n",
      "lambda M 4.532634735107422\n",
      "pi_M [0.2567343  0.3425778  0.39272046]\n",
      "1/1 [==============================] - 2s 2s/step - loss: 1158.3474\n",
      "Epoch 6/20\n",
      "delta_loc: <tf.Variable 'delta_A_loc_-1:0' shape=() dtype=float32, numpy=8.118183>\n",
      "delta_scale: 0.00990759115666151\n",
      "Pre-softmax pi_M [[-1.034109   -0.999172   -1.0179801  ... -1.0042925  -1.0366579\n",
      "  -1.0318713 ]\n",
      " [-0.75384873 -0.7283633  -0.7420733  ... -0.73213345 -0.7557208\n",
      "  -0.7522229 ]\n",
      " [-0.60546786 -0.58604175 -0.59718627 ... -0.59158206 -0.60651225\n",
      "  -0.60396755]]\n",
      "Delta 0.9996941685676575\n",
      "T serial 5.192018508911133\n",
      "rho_M 0.6745246648788452\n",
      "lambda M 4.56601095199585\n",
      "pi_M [0.25640813 0.34262177 0.39306757]\n",
      "1/1 [==============================] - 2s 2s/step - loss: 1147.8043\n",
      "Epoch 7/20\n",
      "delta_loc: <tf.Variable 'delta_A_loc_-1:0' shape=() dtype=float32, numpy=8.107039>\n",
      "delta_scale: 0.009907595813274384\n",
      "Pre-softmax pi_M [[-1.0225718  -1.0249975  -1.0281101  ... -1.0034797  -1.0112531\n",
      "  -1.0253463 ]\n",
      " [-0.745435   -0.74718845 -0.74945706 ... -0.7315051  -0.73717076\n",
      "  -0.74746835]\n",
      " [-0.59883904 -0.60136443 -0.6033733  ... -0.58948535 -0.593952\n",
      "  -0.600079  ]]\n",
      "Delta 0.9996877312660217\n",
      "T serial 5.207727909088135\n",
      "rho_M 0.6659774780273438\n",
      "lambda M 4.552148342132568\n",
      "pi_M [0.2569568  0.34256044 0.39319417]\n",
      "1/1 [==============================] - 2s 2s/step - loss: 1140.5298\n",
      "Epoch 8/20\n",
      "delta_loc: <tf.Variable 'delta_A_loc_-1:0' shape=() dtype=float32, numpy=8.100102>\n",
      "delta_scale: 0.009907572530210018\n",
      "Pre-softmax pi_M [[-1.0125022  -1.0240688  -1.0163449  ... -1.013341   -1.0530835\n",
      "  -0.99189246]\n",
      " [-0.73807967 -0.7465144  -0.7409531  ... -0.73869306 -0.7677998\n",
      "  -0.7230563 ]\n",
      " [-0.59438616 -0.60040903 -0.5995193  ... -0.59421617 -0.614273\n",
      "  -0.5824034 ]]\n",
      "Delta 0.9996875524520874\n",
      "T serial 5.204411506652832\n",
      "rho_M 0.6731409430503845\n",
      "lambda M 4.556107521057129\n",
      "pi_M [0.25540003 0.34261465 0.392901  ]\n",
      "1/1 [==============================] - 2s 2s/step - loss: 1135.3940\n",
      "Epoch 9/20\n",
      "delta_loc: <tf.Variable 'delta_A_loc_-1:0' shape=() dtype=float32, numpy=8.089322>\n",
      "delta_scale: 0.009907620027661324\n",
      "Pre-softmax pi_M [[-1.0424253  -1.007556   -1.0325714  ... -1.0232582  -1.0086095\n",
      "  -1.033657  ]\n",
      " [-0.75990707 -0.73448056 -0.7527169  ... -0.74595547 -0.7352424\n",
      "  -0.75352234]\n",
      " [-0.6105021  -0.5922147  -0.60506827 ... -0.5985888  -0.5916754\n",
      "  -0.6050869 ]]\n",
      "Delta 0.9996833205223083\n",
      "T serial 5.183722972869873\n",
      "rho_M 0.6688721179962158\n",
      "lambda M 4.530544757843018\n",
      "pi_M [0.25627276 0.34257677 0.3924185 ]\n",
      "1/1 [==============================] - 2s 2s/step - loss: 1129.6348\n",
      "Epoch 10/20\n",
      "delta_loc: <tf.Variable 'delta_A_loc_-1:0' shape=() dtype=float32, numpy=8.081004>\n",
      "delta_scale: 0.009907661937177181\n",
      "Pre-softmax pi_M [[-1.0277206  -1.0376132  -1.0061904  ... -1.0202118  -1.0265253\n",
      "  -1.0217938 ]\n",
      " [-0.7491782  -0.75638574 -0.7335121  ... -0.7437089  -0.7483123\n",
      "  -0.74491566]\n",
      " [-0.6023959  -0.60857797 -0.59255093 ... -0.59772474 -0.60136914\n",
      "  -0.5971086 ]]\n",
      "Delta 0.9996823668479919\n",
      "T serial 5.152129173278809\n",
      "rho_M 0.6717036962509155\n",
      "lambda M 4.525251388549805\n",
      "pi_M [0.25572225 0.34249747 0.39194623]\n",
      "1/1 [==============================] - 2s 2s/step - loss: 1128.4401\n",
      "Epoch 11/20\n",
      "delta_loc: <tf.Variable 'delta_A_loc_-1:0' shape=() dtype=float32, numpy=8.070425>\n",
      "delta_scale: 0.009907704778015614\n",
      "Pre-softmax pi_M [[-1.006096   -1.0406755  -1.0324713  ... -0.999387   -1.0298309\n",
      "  -1.0358568 ]\n",
      " [-0.73341596 -0.75862557 -0.752669   ... -0.72859085 -0.7507122\n",
      "  -0.7551259 ]\n",
      " [-0.59133255 -0.6097599  -0.60405636 ... -0.58953077 -0.60412055\n",
      "  -0.60637885]]\n",
      "Delta 0.9996775388717651\n",
      "T serial 5.152286052703857\n",
      "rho_M 0.6695334315299988\n",
      "lambda M 4.56056547164917\n",
      "pi_M [0.25623426 0.3425378  0.39282432]\n",
      "1/1 [==============================] - 2s 2s/step - loss: 1124.6788\n",
      "Epoch 12/20\n",
      "delta_loc: <tf.Variable 'delta_A_loc_-1:0' shape=() dtype=float32, numpy=8.061388>\n",
      "delta_scale: 0.00990768987685442\n",
      "Pre-softmax pi_M [[-1.0089333  -1.0246465  -1.0341154  ... -1.0321604  -1.0197922\n",
      "  -1.0288055 ]\n",
      " [-0.7354888  -0.74693525 -0.75389594 ... -0.75242865 -0.74339867\n",
      "  -0.74997073]\n",
      " [-0.5910355  -0.6019497  -0.6043586  ... -0.60430735 -0.5977522\n",
      "  -0.6029226 ]]\n",
      "Delta 0.9996738433837891\n",
      "T serial 5.093483924865723\n",
      "rho_M 0.6729523539543152\n",
      "lambda M 4.5626935958862305\n",
      "pi_M [0.25529513 0.3425727  0.39190558]\n",
      "1/1 [==============================] - 2s 2s/step - loss: 1122.5101\n",
      "Epoch 13/20\n",
      "delta_loc: <tf.Variable 'delta_A_loc_-1:0' shape=() dtype=float32, numpy=8.050294>\n",
      "delta_scale: 0.009907647036015987\n",
      "Pre-softmax pi_M [[-1.0314227  -1.0058253  -1.0216852  ... -1.0216974  -1.035134\n",
      "  -1.0314653 ]\n",
      " [-0.75187325 -0.7332204  -0.7447933  ... -0.7447954  -0.7545882\n",
      "  -0.7519048 ]\n",
      " [-0.6057375  -0.59129006 -0.5981427  ... -0.5984247  -0.60639393\n",
      "  -0.6058313 ]]\n",
      "Delta 0.999670147895813\n",
      "T serial 5.11574649810791\n",
      "rho_M 0.6704860329627991\n",
      "lambda M 4.551942348480225\n",
      "pi_M [0.25636312 0.34255055 0.39256042]\n",
      "1/1 [==============================] - 2s 2s/step - loss: 1121.2771\n",
      "Epoch 14/20\n",
      "delta_loc: <tf.Variable 'delta_A_loc_-1:0' shape=() dtype=float32, numpy=8.040913>\n",
      "delta_scale: 0.009907657280564308\n",
      "Pre-softmax pi_M [[-1.0041369  -1.0300738  -1.0024159  ... -1.0529064  -1.0071054\n",
      "  -1.038089  ]\n",
      " [-0.73198575 -0.7508995  -0.7307374  ... -0.76760936 -0.7341722\n",
      "  -0.75673467]\n",
      " [-0.5900196  -0.6034299  -0.58942163 ... -0.6150731  -0.5928626\n",
      "  -0.6086259 ]]\n",
      "Delta 0.9996675252914429\n",
      "T serial 5.117057800292969\n",
      "rho_M 0.6746261715888977\n",
      "lambda M 4.52979850769043\n",
      "pi_M [0.2566591  0.34257424 0.39240706]\n"
     ]
    },
    {
     "name": "stdout",
     "output_type": "stream",
     "text": [
      "1/1 [==============================] - 2s 2s/step - loss: 1118.6555\n",
      "Epoch 15/20\n",
      "delta_loc: <tf.Variable 'delta_A_loc_-1:0' shape=() dtype=float32, numpy=8.029776>\n",
      "delta_scale: 0.009907638654112816\n",
      "Pre-softmax pi_M [[-1.0181764  -1.0157214  -0.9972812  ... -1.0322504  -1.0236418\n",
      "  -1.0319254 ]\n",
      " [-0.7422161  -0.740428   -0.72698516 ... -0.7525531  -0.7461999\n",
      "  -0.7522413 ]\n",
      " [-0.5973731  -0.5965851  -0.5856729  ... -0.6029572  -0.6006882\n",
      "  -0.6050369 ]]\n",
      "Delta 0.9996652603149414\n",
      "T serial 5.094981670379639\n",
      "rho_M 0.6721198558807373\n",
      "lambda M 4.556062698364258\n",
      "pi_M [0.25642797 0.34256116 0.39279288]\n",
      "1/1 [==============================] - 2s 2s/step - loss: 1117.4413\n",
      "Epoch 16/20\n",
      "delta_loc: <tf.Variable 'delta_A_loc_-1:0' shape=() dtype=float32, numpy=8.019592>\n",
      "delta_scale: 0.009907610714435577\n",
      "Pre-softmax pi_M [[-1.0283004  -1.0234191  -1.0479275  ... -1.0308707  -0.99926156\n",
      "  -1.0093116 ]\n",
      " [-0.7496284  -0.74603945 -0.7639469  ... -0.7514701  -0.7284276\n",
      "  -0.7357954 ]\n",
      " [-0.6016135  -0.60110676 -0.6128306  ... -0.60474426 -0.58634055\n",
      "  -0.59462494]]\n",
      "Delta 0.9996596574783325\n",
      "T serial 5.111541271209717\n",
      "rho_M 0.6746559739112854\n",
      "lambda M 4.543485164642334\n",
      "pi_M [0.25612548 0.34265393 0.39266267]\n",
      "1/1 [==============================] - 2s 2s/step - loss: 1115.5187\n",
      "Epoch 17/20\n",
      "delta_loc: <tf.Variable 'delta_A_loc_-1:0' shape=() dtype=float32, numpy=8.008113>\n",
      "delta_scale: 0.009907581843435764\n",
      "Pre-softmax pi_M [[-1.0303952  -1.0134609  -1.0186856  ... -1.0089972  -1.0068562\n",
      "  -1.013948  ]\n",
      " [-0.75112355 -0.73878384 -0.74260217 ... -0.7355252  -0.73397535\n",
      "  -0.73913413]\n",
      " [-0.60442996 -0.59399945 -0.59921366 ... -0.59187585 -0.5920877\n",
      "  -0.59477556]]\n",
      "Delta 0.9996553659439087\n",
      "T serial 5.084218502044678\n",
      "rho_M 0.6723272800445557\n",
      "lambda M 4.55187463760376\n",
      "pi_M [0.25625727 0.3425776  0.39252564]\n",
      "1/1 [==============================] - 2s 2s/step - loss: 1114.1676\n",
      "Epoch 18/20\n",
      "delta_loc: <tf.Variable 'delta_A_loc_-1:0' shape=() dtype=float32, numpy=7.997803>\n",
      "delta_scale: 0.009907600469887257\n",
      "Pre-softmax pi_M [[-1.0244749  -1.0354831  -1.0034789  ... -1.0129064  -1.0328269\n",
      "  -0.9902891 ]\n",
      " [-0.74682975 -0.7548494  -0.73150235 ... -0.73837584 -0.752903\n",
      "  -0.7219204 ]\n",
      " [-0.60291916 -0.60630876 -0.5892027  ... -0.59402156 -0.6071087\n",
      "  -0.58319813]]\n",
      "Delta 0.9996533393859863\n",
      "T serial 5.101027011871338\n",
      "rho_M 0.6741536855697632\n",
      "lambda M 4.548003196716309\n",
      "pi_M [0.2565882 0.3425579 0.3933722]\n",
      "1/1 [==============================] - 3s 3s/step - loss: 1112.5532\n",
      "Epoch 19/20\n",
      "delta_loc: <tf.Variable 'delta_A_loc_-1:0' shape=() dtype=float32, numpy=7.9862704>\n",
      "delta_scale: 0.009907549247145653\n",
      "Pre-softmax pi_M [[-1.027566   -1.0113869  -1.038927   ... -1.0320342  -1.0236253\n",
      "  -1.0246048 ]\n",
      " [-0.749064   -0.73726666 -0.7573504  ... -0.75231963 -0.74621564\n",
      "  -0.74691117]\n",
      " [-0.60242426 -0.5937559  -0.60876304 ... -0.60617846 -0.59901464\n",
      "  -0.60238945]]\n",
      "Delta 0.9996482133865356\n",
      "T serial 5.077515125274658\n",
      "rho_M 0.6733689308166504\n",
      "lambda M 4.559189319610596\n",
      "pi_M [0.25629416 0.34256965 0.3931688 ]\n",
      "1/1 [==============================] - 2s 2s/step - loss: 1110.8607\n",
      "Epoch 20/20\n",
      "delta_loc: <tf.Variable 'delta_A_loc_-1:0' shape=() dtype=float32, numpy=7.975104>\n",
      "delta_scale: 0.00990759115666151\n",
      "Pre-softmax pi_M [[-1.0070505  -1.0323281  -1.0486461  ... -1.035959   -1.0460845\n",
      "  -1.0279528 ]\n",
      " [-0.7341213  -0.75254476 -0.7644343  ... -0.75518256 -0.7625945\n",
      "  -0.74934477]\n",
      " [-0.5924063  -0.6071117  -0.6145253  ... -0.6073203  -0.6119778\n",
      "  -0.6027754 ]]\n",
      "Delta 0.9996455311775208\n",
      "T serial 5.084603786468506\n",
      "rho_M 0.6749078035354614\n",
      "lambda M 4.5464253425598145\n",
      "pi_M [0.2565912  0.34257755 0.39304778]\n",
      "1/1 [==============================] - 2s 2s/step - loss: 1109.5289\n"
     ]
    },
    {
     "data": {
      "text/plain": [
       "<keras.callbacks.History at 0x7fe2605d5410>"
      ]
     },
     "execution_count": 27,
     "metadata": {},
     "output_type": "execute_result"
    }
   ],
   "source": [
    "model.compile(loss=loss, optimizer=optimizer, run_eagerly=True)\n",
    "model.fit(x=np.asarray([x_train]), y=np.asarray([y_test]),\n",
    "         epochs=20, batch_size=0,\n",
    "        callbacks=[])"
   ]
  },
  {
   "cell_type": "code",
   "execution_count": 28,
   "id": "16fdb62f",
   "metadata": {},
   "outputs": [
    {
     "data": {
      "text/plain": [
       "[<tf.Variable 'delta_A_loc_-1:0' shape=() dtype=float32, numpy=7.96352>,\n",
       " <tf.Variable 'delta_A_scale_-1:0' shape=() dtype=float32, numpy=-4.609496>,\n",
       " <tf.Variable 'T_serial_A_loc_-1:0' shape=() dtype=float32, numpy=5.253421>,\n",
       " <tf.Variable 'T_serial_A_scale_-1:0' shape=() dtype=float32, numpy=-2.8265586>,\n",
       " <tf.Variable 'rho_M_loc_-1:0' shape=() dtype=float32, numpy=0.7510938>,\n",
       " <tf.Variable 'rho_M_scale_-1:0' shape=() dtype=float32, numpy=-4.8773704>,\n",
       " <tf.Variable 'lambda_M_loc_-1:0' shape=() dtype=float32, numpy=4.6908817>,\n",
       " <tf.Variable 'lambda_M_scale_-1:0' shape=() dtype=float32, numpy=-3.0340204>,\n",
       " <tf.Variable 'nu_M_loc_-1:0' shape=() dtype=float32, numpy=3.0302262>,\n",
       " <tf.Variable 'nu_M_scale_-1:0' shape=() dtype=float32, numpy=-3.4582214>,\n",
       " <tf.Variable 'warmup_A_loc_0_-1:0' shape=() dtype=float32, numpy=2518.6091>,\n",
       " <tf.Variable 'warmup_A_scale_0_-1:0' shape=() dtype=float32, numpy=25.186092>,\n",
       " <tf.Variable 'warmup_A_loc_1_-1:0' shape=() dtype=float32, numpy=2520.2236>,\n",
       " <tf.Variable 'warmup_A_scale_1_-1:0' shape=() dtype=float32, numpy=25.202238>,\n",
       " <tf.Variable 'warmup_A_loc_2_-1:0' shape=() dtype=float32, numpy=2518.6243>,\n",
       " <tf.Variable 'warmup_A_scale_2_-1:0' shape=() dtype=float32, numpy=25.185007>]"
      ]
     },
     "execution_count": 28,
     "metadata": {},
     "output_type": "execute_result"
    }
   ],
   "source": [
    "model.trainable_weights"
   ]
  },
  {
   "cell_type": "code",
   "execution_count": 29,
   "id": "20b7d909",
   "metadata": {},
   "outputs": [
    {
     "ename": "NameError",
     "evalue": "name 'r_t' is not defined",
     "output_type": "error",
     "traceback": [
      "\u001b[0;31m---------------------------------------------------------------------------\u001b[0m",
      "\u001b[0;31mNameError\u001b[0m                                 Traceback (most recent call last)",
      "\u001b[0;32m/tmp/ipykernel_3713/3693215985.py\u001b[0m in \u001b[0;36m<module>\u001b[0;34m\u001b[0m\n\u001b[0;32m----> 1\u001b[0;31m \u001b[0mr_t\u001b[0m\u001b[0;34m\u001b[0m\u001b[0;34m\u001b[0m\u001b[0m\n\u001b[0m",
      "\u001b[0;31mNameError\u001b[0m: name 'r_t' is not defined"
     ]
    }
   ],
   "source": [
    "r_t"
   ]
  },
  {
   "cell_type": "code",
   "execution_count": null,
   "id": "a818a07a",
   "metadata": {},
   "outputs": [],
   "source": [
    "x_train"
   ]
  },
  {
   "cell_type": "code",
   "execution_count": null,
   "id": "6b0d9fcb",
   "metadata": {},
   "outputs": [],
   "source": [
    "len(y_test)"
   ]
  },
  {
   "cell_type": "code",
   "execution_count": null,
   "id": "54202dd0",
   "metadata": {},
   "outputs": [],
   "source": [
    "A_vals"
   ]
  },
  {
   "cell_type": "code",
   "execution_count": null,
   "id": "19fe223f",
   "metadata": {},
   "outputs": [],
   "source": [
    "len(M_vals)"
   ]
  },
  {
   "cell_type": "code",
   "execution_count": null,
   "id": "69d5ce71",
   "metadata": {},
   "outputs": [],
   "source": [
    "model.trainable_weights"
   ]
  },
  {
   "cell_type": "code",
   "execution_count": null,
   "id": "850ed170",
   "metadata": {},
   "outputs": [],
   "source": [
    "np.log(-2.9/(1-2.9))"
   ]
  },
  {
   "cell_type": "code",
   "execution_count": null,
   "id": "e142d2d6",
   "metadata": {},
   "outputs": [],
   "source": [
    "x_train"
   ]
  },
  {
   "cell_type": "code",
   "execution_count": null,
   "id": "57abaf3a",
   "metadata": {},
   "outputs": [],
   "source": [
    "1.1**(1/5.8)"
   ]
  },
  {
   "cell_type": "code",
   "execution_count": null,
   "id": "6b193c06",
   "metadata": {},
   "outputs": [],
   "source": [
    "df.loc[train_start:train_end, \n",
    "       'asymp'].values"
   ]
  },
  {
   "cell_type": "code",
   "execution_count": null,
   "id": "87c464bf",
   "metadata": {},
   "outputs": [],
   "source": [
    "y_test"
   ]
  },
  {
   "cell_type": "code",
   "execution_count": null,
   "id": "40884700",
   "metadata": {},
   "outputs": [],
   "source": [
    "tf.reduce_mean(result, axis=1)"
   ]
  },
  {
   "cell_type": "code",
   "execution_count": 36,
   "id": "a2cfbae6",
   "metadata": {},
   "outputs": [
    {
     "data": {
      "text/plain": [
       "Text(0.5, 1.0, 'Mild Compartment')"
      ]
     },
     "execution_count": 36,
     "metadata": {},
     "output_type": "execute_result"
    },
    {
     "data": {
      "image/png": "[encoded data removed]",
      "text/plain": [
       "<Figure size 432x288 with 1 Axes>"
      ]
     },
     "metadata": {
      "needs_background": "light"
     },
     "output_type": "display_data"
    }
   ],
   "source": [
    "\n",
    "plt.plot(df.loc[train_start:test_end].index.values, result, label='Modeled Mild')\n",
    "plt.plot(df.loc[train_start:test_end].index.values, y_test,'r.-', label='\"True\" Mild')\n",
    "month_ticks = matplotlib.dates.MonthLocator(interval=1)\n",
    "ax = plt.gca()\n",
    "ax.xaxis.set_major_locator(month_ticks)\n",
    "#plt.legend()\n",
    "plt.title('Mild Compartment- fitting to \"real\" data')"
   ]
  },
  {
   "cell_type": "code",
   "execution_count": null,
   "id": "818323d5",
   "metadata": {},
   "outputs": [],
   "source": [
    "x_train"
   ]
  },
  {
   "cell_type": "code",
   "execution_count": null,
   "id": "78fd31b1",
   "metadata": {},
   "outputs": [],
   "source": [
    "y_test"
   ]
  },
  {
   "cell_type": "code",
   "execution_count": null,
   "id": "3b40a0aa",
   "metadata": {},
   "outputs": [],
   "source": [
    "tf.cast(df.loc[train_start:test_end,'asymp'], dtype=tf.float32)"
   ]
  },
  {
   "cell_type": "code",
   "execution_count": null,
   "id": "75ac3efc",
   "metadata": {},
   "outputs": [],
   "source": [
    "df"
   ]
  },
  {
   "cell_type": "code",
   "execution_count": null,
   "id": "d140d88c",
   "metadata": {},
   "outputs": [],
   "source": [
    "\n",
    "covid_estim_df = pd.read_csv(\"../data/covidestim/20210901.csv\")"
   ]
  },
  {
   "cell_type": "code",
   "execution_count": null,
   "id": "cc73e54f",
   "metadata": {},
   "outputs": [],
   "source": [
    "covid_estim_df.columns"
   ]
  },
  {
   "cell_type": "code",
   "execution_count": null,
   "id": "db7e8282",
   "metadata": {},
   "outputs": [],
   "source": [
    "np.mean(grads)"
   ]
  },
  {
   "cell_type": "code",
   "execution_count": null,
   "id": "1890db8b",
   "metadata": {},
   "outputs": [],
   "source": [
    "len(model.losses)"
   ]
  },
  {
   "cell_type": "code",
   "execution_count": null,
   "id": "4ea91079",
   "metadata": {},
   "outputs": [],
   "source": [
    "model.losses[-8:]"
   ]
  },
  {
   "cell_type": "code",
   "execution_count": null,
   "id": "9cfda19a",
   "metadata": {},
   "outputs": [],
   "source": [
    "model.losses[:8]"
   ]
  },
  {
   "cell_type": "code",
   "execution_count": null,
   "id": "ada770f4",
   "metadata": {},
   "outputs": [],
   "source": [
    "model.losses[-8:]"
   ]
  },
  {
   "cell_type": "code",
   "execution_count": null,
   "id": "3eb2d075",
   "metadata": {},
   "outputs": [],
   "source": [
    "model.losses"
   ]
  },
  {
   "cell_type": "code",
   "execution_count": null,
   "id": "cf97b20c",
   "metadata": {},
   "outputs": [],
   "source": []
  }
 ],
 "metadata": {
  "kernelspec": {
   "display_name": "Python 3 (ipykernel)",
   "language": "python",
   "name": "python3"
  },
  "language_info": {
   "codemirror_mode": {
    "name": "ipython",
    "version": 3
   },
   "file_extension": ".py",
   "mimetype": "text/x-python",
   "name": "python",
   "nbconvert_exporter": "python",
   "pygments_lexer": "ipython3",
   "version": "3.7.11"
  }
 },
 "nbformat": 4,
 "nbformat_minor": 5
}

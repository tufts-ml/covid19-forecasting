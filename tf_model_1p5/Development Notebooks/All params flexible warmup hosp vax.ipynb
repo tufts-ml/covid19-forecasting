{
 "cells": [
  {
   "cell_type": "code",
   "execution_count": 1,
   "id": "969ad8a3",
   "metadata": {},
   "outputs": [
    {
     "name": "stderr",
     "output_type": "stream",
     "text": [
      "2022-01-17 16:37:02.997544: W tensorflow/stream_executor/platform/default/dso_loader.cc:64] Could not load dynamic library 'libcudart.so.11.0'; dlerror: libcudart.so.11.0: cannot open shared object file: No such file or directory\n",
      "2022-01-17 16:37:02.997574: I tensorflow/stream_executor/cuda/cudart_stub.cc:29] Ignore above cudart dlerror if you do not have a GPU set up on your machine.\n"
     ]
    }
   ],
   "source": [
    "%load_ext autoreload\n",
    "%autoreload 2\n",
    "\n",
    "import numpy as np\n",
    "import tensorflow as tf\n",
    "\n",
    "import sys\n",
    "sys.path.append('/mnt/c/Users/kheut/code/covid19-forecasting/tf_model_1p5/')\n",
    "\n",
    "from enum import Enum\n",
    "\n",
    "import tensorflow as tf\n",
    "from tensorflow import keras\n",
    "from tensorflow.keras.layers import Dense\n",
    "\n",
    "import tensorflow_probability as tfp\n",
    "from scipy.stats import beta, truncnorm\n",
    "\n",
    "\n",
    "# Local imports from model.py, data.py\n",
    "from model import CovidModel, LogPoissonProb, get_logging_callbacks, Comp, Vax\n",
    "from data import read_data, create_warmup\n",
    "#from plots import make_all_plots\n",
    "\n",
    "import scipy\n",
    "\n",
    "import matplotlib\n",
    "import matplotlib.pyplot as plt\n",
    "plt.rcParams.update({'font.size': 20}) # set plot font sizes"
   ]
  },
  {
   "cell_type": "code",
   "execution_count": 2,
   "id": "9ffdbf61",
   "metadata": {},
   "outputs": [],
   "source": [
    "transition_window =10\n",
    "\n",
    "warmup_start = '20210421'\n",
    "warmup_end = '20210430'\n",
    "train_start = '20210501'\n",
    "train_end = '20210731'\n",
    "test_start = '20210801'\n",
    "test_end = '20210831'\n",
    "\n",
    "state = 'Massachusetts'\n",
    "state_abbrev = 'MA'\n",
    "\n",
    "data_dir = '../data'\n",
    "covid_estim_date = '20210901'\n",
    "hhs_date = '20210903'\n",
    "owid_date = '20210903'\n",
    "\n",
    "# Learning rate\n",
    "learning_rate = 0.5"
   ]
  },
  {
   "cell_type": "code",
   "execution_count": 3,
   "id": "8af6455c",
   "metadata": {},
   "outputs": [],
   "source": [
    "df = read_data(data_dir=data_dir,\n",
    "               covid_estim_date=covid_estim_date,\n",
    "               hhs_date=hhs_date,\n",
    "               owid_date=owid_date,\n",
    "               state=state, state_abbrev=state_abbrev)"
   ]
  },
  {
   "cell_type": "code",
   "execution_count": 4,
   "id": "3220d0aa",
   "metadata": {},
   "outputs": [],
   "source": [
    "# get warmup arrays, splitting on vaccination status\n",
    "warmup_asymp, warmup_mild, warmup_extreme = create_warmup(df, \n",
    "                                                          warmup_start, \n",
    "                                                          warmup_end,\n",
    "                                                          0,0,0)\n",
    "\n",
    "# re-combine\n",
    "#warmup_asymp = warmup_asymp[Vax.no.value] + warmup_asymp[Vax.yes.value]\n",
    "#warmup_mild = warmup_mild[Vax.no.value] + warmup_asymp[Vax.yes.value]"
   ]
  },
  {
   "cell_type": "code",
   "execution_count": 5,
   "id": "b340a832",
   "metadata": {},
   "outputs": [],
   "source": [
    "vax_statuses = [Vax.yes, Vax.no]\n"
   ]
  },
  {
   "cell_type": "code",
   "execution_count": 6,
   "id": "086cb3f2",
   "metadata": {},
   "outputs": [],
   "source": [
    "synth_T_serial = 5.8\n",
    "synth_rho_M = 0.76\n",
    "synth_lambda_M = 4.7\n",
    "synth_nu_M = 3.1"
   ]
  },
  {
   "cell_type": "code",
   "execution_count": 7,
   "id": "ddd9c4d9",
   "metadata": {},
   "outputs": [],
   "source": [
    "\n",
    "warmup_A_params = {}\n",
    "warmup_M_params = {}\n",
    "\n",
    "for vax_status in [status.value for status in vax_statuses]:\n",
    "                \n",
    "    \n",
    "    warmup_A_params[vax_status] = {}\n",
    "    warmup_A_params[vax_status]['prior'] = []\n",
    "    warmup_A_params[vax_status]['posterior_init'] = []\n",
    "\n",
    "    warmup_M_params[vax_status] = {}\n",
    "    warmup_M_params[vax_status]['prior'] = []\n",
    "    warmup_M_params[vax_status]['posterior_init'] = []\n",
    "\n",
    "    for day in range(transition_window):\n",
    "        warmup_A_params[vax_status]['prior'].append({'loc': warmup_asymp[vax_status][day]/2/100,\n",
    "                                                    'scale': warmup_asymp[vax_status][day]/2/10/100})\n",
    "\n",
    "        warmup_M_params[vax_status]['prior'].append({'loc': warmup_mild[vax_status][day]/2/100,\n",
    "                                                    'scale': warmup_mild[vax_status][day]/2/10/100})\n",
    "    "
   ]
  },
  {
   "cell_type": "code",
   "execution_count": 8,
   "id": "f3dd3b64",
   "metadata": {},
   "outputs": [
    {
     "name": "stderr",
     "output_type": "stream",
     "text": [
      "2022-01-17 16:37:04.840765: I tensorflow/stream_executor/cuda/cuda_gpu_executor.cc:923] could not open file to read NUMA node: /sys/bus/pci/devices/0000:2d:00.0/numa_node\n",
      "Your kernel may have been built without NUMA support.\n",
      "2022-01-17 16:37:04.840938: W tensorflow/stream_executor/platform/default/dso_loader.cc:64] Could not load dynamic library 'libcudart.so.11.0'; dlerror: libcudart.so.11.0: cannot open shared object file: No such file or directory\n",
      "2022-01-17 16:37:04.840971: W tensorflow/stream_executor/platform/default/dso_loader.cc:64] Could not load dynamic library 'libcublas.so.11'; dlerror: libcublas.so.11: cannot open shared object file: No such file or directory\n",
      "2022-01-17 16:37:04.840995: W tensorflow/stream_executor/platform/default/dso_loader.cc:64] Could not load dynamic library 'libcublasLt.so.11'; dlerror: libcublasLt.so.11: cannot open shared object file: No such file or directory\n",
      "2022-01-17 16:37:04.841019: W tensorflow/stream_executor/platform/default/dso_loader.cc:64] Could not load dynamic library 'libcufft.so.10'; dlerror: libcufft.so.10: cannot open shared object file: No such file or directory\n",
      "2022-01-17 16:37:04.841041: W tensorflow/stream_executor/platform/default/dso_loader.cc:64] Could not load dynamic library 'libcurand.so.10'; dlerror: libcurand.so.10: cannot open shared object file: No such file or directory\n",
      "2022-01-17 16:37:04.841065: W tensorflow/stream_executor/platform/default/dso_loader.cc:64] Could not load dynamic library 'libcusolver.so.11'; dlerror: libcusolver.so.11: cannot open shared object file: No such file or directory\n",
      "2022-01-17 16:37:04.841086: W tensorflow/stream_executor/platform/default/dso_loader.cc:64] Could not load dynamic library 'libcusparse.so.11'; dlerror: libcusparse.so.11: cannot open shared object file: No such file or directory\n",
      "2022-01-17 16:37:04.841107: W tensorflow/stream_executor/platform/default/dso_loader.cc:64] Could not load dynamic library 'libcudnn.so.8'; dlerror: libcudnn.so.8: cannot open shared object file: No such file or directory\n",
      "2022-01-17 16:37:04.841115: W tensorflow/core/common_runtime/gpu/gpu_device.cc:1835] Cannot dlopen some GPU libraries. Please make sure the missing libraries mentioned above are installed properly if you would like to use GPU. Follow the guide at https://www.tensorflow.org/install/gpu for how to download and setup the required libraries for your platform.\n",
      "Skipping registering GPU devices...\n",
      "2022-01-17 16:37:04.841511: I tensorflow/core/platform/cpu_feature_guard.cc:142] This TensorFlow binary is optimized with oneAPI Deep Neural Network Library (oneDNN) to use the following CPU instructions in performance-critical operations:  AVX2 FMA\n",
      "To enable them in other operations, rebuild TensorFlow with the appropriate compiler flags.\n"
     ]
    }
   ],
   "source": [
    "x_train = tf.cast(df.loc[train_start:train_end,'Rt'].values, dtype=tf.float32)\n",
    "x_test = tf.cast(df.loc[train_start:test_end,'Rt'].values, dtype=tf.float32)\n",
    "\n",
    "y_train = tf.cast(df.loc[train_start:train_end,'general_ward'], dtype=tf.float32)\n",
    "y_test = tf.cast(df.loc[train_start:test_end,'general_ward'], dtype=tf.float32)"
   ]
  },
  {
   "cell_type": "code",
   "execution_count": null,
   "id": "9b36af2b",
   "metadata": {},
   "outputs": [],
   "source": []
  },
  {
   "cell_type": "code",
   "execution_count": 9,
   "id": "a8c90605",
   "metadata": {},
   "outputs": [],
   "source": [
    "\n",
    "T_serial = {}\n",
    "T_serial['prior'] ={'loc':5.8, 'scale':1}\n",
    "\n",
    "\n",
    "epsilon = {}\n",
    "epsilon['prior'] ={'a':1, 'b':1}\n",
    "\n",
    "delta = {}\n",
    "delta['prior'] ={'a':1, 'b':1}\n",
    "\n",
    "rho_M = {}\n",
    "lambda_M = {}\n",
    "nu_M = {}\n",
    "rho_G = {}\n",
    "lambda_G = {}\n",
    "nu_G = {}\n",
    "\n",
    "for vax_status in [status.value for status in vax_statuses]:\n",
    "    \n",
    "    rho_M[vax_status] = {}\n",
    "    rho_M[vax_status]['prior'] = {'a': 31.8, 'b': 10.3}\n",
    "\n",
    "\n",
    "    lambda_M[vax_status] = {}\n",
    "    lambda_M[vax_status]['prior'] = {'loc': 4.7, 'scale': 1}\n",
    "\n",
    "\n",
    "    nu_M[vax_status] = {}\n",
    "    nu_M[vax_status]['prior'] = {'loc': 3.1, 'scale': 1.2}\n",
    "\n",
    "\n",
    "    rho_G[vax_status] = {}\n",
    "    rho_G[vax_status]['prior'] = {'a': 31.8, 'b': 10.3}\n",
    "\n",
    "    lambda_G[vax_status] = {}\n",
    "    lambda_G[vax_status]['prior'] = {'loc': 3.3, 'scale': 1.0}\n",
    "\n",
    "\n",
    "    nu_G[vax_status] = {}\n",
    "    nu_G[vax_status]['prior'] = {'loc': 9.0, 'scale': 0.2}\n",
    "\n",
    "\n"
   ]
  },
  {
   "cell_type": "code",
   "execution_count": 10,
   "id": "1829678d",
   "metadata": {},
   "outputs": [],
   "source": [
    "T_serial_scale = 1.0\n",
    "delta_scale = 0.2\n",
    "epsilon_scale = 0.3\n",
    "rho_M_scale = 0.1\n",
    "lambda_M_scale = 1.0\n",
    "nu_M_scale = 1.2\n",
    "\n",
    "rho_G_scale = 0.1\n",
    "lambda_G_scale = 1.0\n",
    "nu_G_scale = 0.2\n"
   ]
  },
  {
   "cell_type": "code",
   "execution_count": 11,
   "id": "a56b9dbe",
   "metadata": {},
   "outputs": [
    {
     "name": "stderr",
     "output_type": "stream",
     "text": [
      "2022-01-17 16:37:14.356668: I tensorflow/compiler/mlir/mlir_graph_optimization_pass.cc:185] None of the MLIR Optimization Passes are enabled (registered 2)\n"
     ]
    }
   ],
   "source": [
    "T_serial['posterior_init'] = {'loc': tfp.math.softplus_inverse(4.0),\n",
    "                                     'scale':tf.cast(tfp.math.softplus_inverse(T_serial_scale),dtype=tf.float32)}\n",
    "delta['posterior_init'] = {'loc':  tf.cast(np.log(0.1/(1-0.1)),dtype=tf.float32),\n",
    "                                     'scale':tf.cast(tfp.math.softplus_inverse(delta_scale),dtype=tf.float32)}\n",
    "epsilon['posterior_init'] = {'loc':  tf.cast(np.log(0.5/(1-0.5)),dtype=tf.float32),\n",
    "                                     'scale':tf.cast(tfp.math.softplus_inverse(epsilon_scale),dtype=tf.float32)}\n",
    "\n",
    "\n",
    "for vax_status in [status.value for status in vax_statuses]:\n",
    "    \n",
    "    rho_M[vax_status]['posterior_init'] = {'loc': tf.cast(np.log(0.5/(1-0.5)),dtype=tf.float32),\n",
    "                                          'scale':tf.cast(tfp.math.softplus_inverse(rho_M_scale),dtype=tf.float32)}\n",
    "\n",
    "    lambda_M[vax_status]['posterior_init'] = {'loc': tf.cast(tfp.math.softplus_inverse(3.0),dtype=tf.float32),\n",
    "                                             'scale':tf.cast(tfp.math.softplus_inverse(lambda_M_scale),dtype=tf.float32)}\n",
    "\n",
    "    nu_M[vax_status]['posterior_init'] = {'loc': tf.cast(tfp.math.softplus_inverse(5.0),dtype=tf.float32),\n",
    "                                         'scale':tf.cast(tfp.math.softplus_inverse(nu_M_scale),dtype=tf.float32)}\n",
    "\n",
    "    rho_G[vax_status]['posterior_init'] = {'loc': tf.cast(np.log(0.1/(1-0.1)),dtype=tf.float32),\n",
    "                                          'scale':tf.cast(tfp.math.softplus_inverse(rho_G_scale),dtype=tf.float32)}\n",
    "\n",
    "    lambda_G[vax_status]['posterior_init'] = {'loc': tf.cast(tfp.math.softplus_inverse(3.3),dtype=tf.float32),\n",
    "                                             'scale':tf.cast(tfp.math.softplus_inverse(lambda_G_scale),dtype=tf.float32)}\n",
    "\n",
    "    nu_G[vax_status]['posterior_init'] = {'loc': tf.cast(tfp.math.softplus_inverse(9.0),dtype=tf.float32),\n",
    "                                         'scale':tf.cast(tfp.math.softplus_inverse(nu_G_scale),dtype=tf.float32)}\n",
    "\n",
    "    for day in range(transition_window):\n",
    "        # must be positive so reverse softplus the mean\n",
    "        warmup_A_params[vax_status]['posterior_init'].append({'loc': tf.cast(tfp.math.softplus_inverse(2000.0/100/2),dtype=tf.float32),\n",
    "                                                             'scale': tf.cast(tfp.math.softplus_inverse(500.0/100/2),dtype=tf.float32)})#tf.cast(tfp.math.softplus_inverse(warmup_asymp[day]/10),dtype=tf.float32)})\n",
    "\n",
    "        warmup_M_params[vax_status]['posterior_init'].append({'loc': tf.cast(tfp.math.softplus_inverse(1000.0/100/2),dtype=tf.float32),\n",
    "                                                             'scale': tf.cast(tfp.math.softplus_inverse(100.0/100/2),dtype=tf.float32)})#tf.cast(tfp.math.softplus_inverse(warmup_asymp[day]/10),dtype=tf.float32)})\n",
    "\n",
    "model = CovidModel([Vax.no, Vax.yes], [Comp.A, Comp.M, Comp.G],\n",
    "                 transition_window,\n",
    "                T_serial, epsilon, delta, rho_M, lambda_M, nu_M, rho_G, lambda_G, nu_G,\n",
    "                 warmup_A_params, warmup_M_params, posterior_samples=1000, debug_disable_theta=False)\n",
    "\n",
    "pre_training_preds=tf.reduce_mean(model.call(x_train), axis=-1)"
   ]
  },
  {
   "cell_type": "code",
   "execution_count": 12,
   "id": "09ed1fc8",
   "metadata": {},
   "outputs": [
    {
     "name": "stderr",
     "output_type": "stream",
     "text": [
      "2022-01-17 16:37:14.456165: W tensorflow/python/util/util.cc:348] Sets are not currently considered sequences, but this may change in the future, so consider avoiding using them.\n"
     ]
    },
    {
     "data": {
      "text/plain": [
       "[<tf.Variable 'rho_M_loc_0:0' shape=() dtype=float32, numpy=0.0>,\n",
       " <tf.Variable 'rho_M_scale_0:0' shape=() dtype=float32, numpy=-2.2521684>,\n",
       " <tf.Variable 'rho_M_loc_1:0' shape=() dtype=float32, numpy=0.0>,\n",
       " <tf.Variable 'rho_M_scale_1:0' shape=() dtype=float32, numpy=-2.2521684>,\n",
       " <tf.Variable 'lambda_M_loc_0:0' shape=() dtype=float32, numpy=2.9489307>,\n",
       " <tf.Variable 'lambda_M_scale_0:0' shape=() dtype=float32, numpy=0.54132485>,\n",
       " <tf.Variable 'lambda_M_loc_1:0' shape=() dtype=float32, numpy=2.9489307>,\n",
       " <tf.Variable 'lambda_M_scale_1:0' shape=() dtype=float32, numpy=0.54132485>,\n",
       " <tf.Variable 'nu_M_loc_0:0' shape=() dtype=float32, numpy=4.9932394>,\n",
       " <tf.Variable 'nu_M_scale_0:0' shape=() dtype=float32, numpy=0.8416177>,\n",
       " <tf.Variable 'nu_M_loc_1:0' shape=() dtype=float32, numpy=4.9932394>,\n",
       " <tf.Variable 'nu_M_scale_1:0' shape=() dtype=float32, numpy=0.8416177>,\n",
       " <tf.Variable 'rho_G_loc_0:0' shape=() dtype=float32, numpy=-2.1972246>,\n",
       " <tf.Variable 'rho_G_scale_0:0' shape=() dtype=float32, numpy=-2.2521684>,\n",
       " <tf.Variable 'rho_G_loc_1:0' shape=() dtype=float32, numpy=-2.1972246>,\n",
       " <tf.Variable 'rho_G_scale_1:0' shape=() dtype=float32, numpy=-2.2521684>,\n",
       " <tf.Variable 'lambda_G_loc_0:0' shape=() dtype=float32, numpy=3.2624195>,\n",
       " <tf.Variable 'lambda_G_scale_0:0' shape=() dtype=float32, numpy=0.54132485>,\n",
       " <tf.Variable 'lambda_G_loc_1:0' shape=() dtype=float32, numpy=3.2624195>,\n",
       " <tf.Variable 'lambda_G_scale_1:0' shape=() dtype=float32, numpy=0.54132485>,\n",
       " <tf.Variable 'nu_G_loc_0:0' shape=() dtype=float32, numpy=8.999877>,\n",
       " <tf.Variable 'nu_G_scale_0:0' shape=() dtype=float32, numpy=-1.5077717>,\n",
       " <tf.Variable 'nu_G_loc_1:0' shape=() dtype=float32, numpy=8.999877>,\n",
       " <tf.Variable 'nu_G_scale_1:0' shape=() dtype=float32, numpy=-1.5077717>,\n",
       " <tf.Variable 'warmup_A_loc_0_0:0' shape=() dtype=float32, numpy=9.999954>,\n",
       " <tf.Variable 'warmup_A_scale_0_0:0' shape=() dtype=float32, numpy=2.4143496>,\n",
       " <tf.Variable 'warmup_A_loc_1_0:0' shape=() dtype=float32, numpy=9.999954>,\n",
       " <tf.Variable 'warmup_A_scale_1_0:0' shape=() dtype=float32, numpy=2.4143496>,\n",
       " <tf.Variable 'warmup_A_loc_2_0:0' shape=() dtype=float32, numpy=9.999954>,\n",
       " <tf.Variable 'warmup_A_scale_2_0:0' shape=() dtype=float32, numpy=2.4143496>,\n",
       " <tf.Variable 'warmup_A_loc_3_0:0' shape=() dtype=float32, numpy=9.999954>,\n",
       " <tf.Variable 'warmup_A_scale_3_0:0' shape=() dtype=float32, numpy=2.4143496>,\n",
       " <tf.Variable 'warmup_A_loc_4_0:0' shape=() dtype=float32, numpy=9.999954>,\n",
       " <tf.Variable 'warmup_A_scale_4_0:0' shape=() dtype=float32, numpy=2.4143496>,\n",
       " <tf.Variable 'warmup_A_loc_5_0:0' shape=() dtype=float32, numpy=9.999954>,\n",
       " <tf.Variable 'warmup_A_scale_5_0:0' shape=() dtype=float32, numpy=2.4143496>,\n",
       " <tf.Variable 'warmup_A_loc_6_0:0' shape=() dtype=float32, numpy=9.999954>,\n",
       " <tf.Variable 'warmup_A_scale_6_0:0' shape=() dtype=float32, numpy=2.4143496>,\n",
       " <tf.Variable 'warmup_A_loc_7_0:0' shape=() dtype=float32, numpy=9.999954>,\n",
       " <tf.Variable 'warmup_A_scale_7_0:0' shape=() dtype=float32, numpy=2.4143496>,\n",
       " <tf.Variable 'warmup_A_loc_8_0:0' shape=() dtype=float32, numpy=9.999954>,\n",
       " <tf.Variable 'warmup_A_scale_8_0:0' shape=() dtype=float32, numpy=2.4143496>,\n",
       " <tf.Variable 'warmup_A_loc_9_0:0' shape=() dtype=float32, numpy=9.999954>,\n",
       " <tf.Variable 'warmup_A_scale_9_0:0' shape=() dtype=float32, numpy=2.4143496>,\n",
       " <tf.Variable 'warmup_A_loc_0_1:0' shape=() dtype=float32, numpy=9.999954>,\n",
       " <tf.Variable 'warmup_A_scale_0_1:0' shape=() dtype=float32, numpy=2.4143496>,\n",
       " <tf.Variable 'warmup_A_loc_1_1:0' shape=() dtype=float32, numpy=9.999954>,\n",
       " <tf.Variable 'warmup_A_scale_1_1:0' shape=() dtype=float32, numpy=2.4143496>,\n",
       " <tf.Variable 'warmup_A_loc_2_1:0' shape=() dtype=float32, numpy=9.999954>,\n",
       " <tf.Variable 'warmup_A_scale_2_1:0' shape=() dtype=float32, numpy=2.4143496>,\n",
       " <tf.Variable 'warmup_A_loc_3_1:0' shape=() dtype=float32, numpy=9.999954>,\n",
       " <tf.Variable 'warmup_A_scale_3_1:0' shape=() dtype=float32, numpy=2.4143496>,\n",
       " <tf.Variable 'warmup_A_loc_4_1:0' shape=() dtype=float32, numpy=9.999954>,\n",
       " <tf.Variable 'warmup_A_scale_4_1:0' shape=() dtype=float32, numpy=2.4143496>,\n",
       " <tf.Variable 'warmup_A_loc_5_1:0' shape=() dtype=float32, numpy=9.999954>,\n",
       " <tf.Variable 'warmup_A_scale_5_1:0' shape=() dtype=float32, numpy=2.4143496>,\n",
       " <tf.Variable 'warmup_A_loc_6_1:0' shape=() dtype=float32, numpy=9.999954>,\n",
       " <tf.Variable 'warmup_A_scale_6_1:0' shape=() dtype=float32, numpy=2.4143496>,\n",
       " <tf.Variable 'warmup_A_loc_7_1:0' shape=() dtype=float32, numpy=9.999954>,\n",
       " <tf.Variable 'warmup_A_scale_7_1:0' shape=() dtype=float32, numpy=2.4143496>,\n",
       " <tf.Variable 'warmup_A_loc_8_1:0' shape=() dtype=float32, numpy=9.999954>,\n",
       " <tf.Variable 'warmup_A_scale_8_1:0' shape=() dtype=float32, numpy=2.4143496>,\n",
       " <tf.Variable 'warmup_A_loc_9_1:0' shape=() dtype=float32, numpy=9.999954>,\n",
       " <tf.Variable 'warmup_A_scale_9_1:0' shape=() dtype=float32, numpy=2.4143496>,\n",
       " <tf.Variable 'warmup_M_loc_0_0:0' shape=() dtype=float32, numpy=4.9932394>,\n",
       " <tf.Variable 'warmup_M_scale_0_0:0' shape=() dtype=float32, numpy=-0.43275213>,\n",
       " <tf.Variable 'warmup_M_loc_1_0:0' shape=() dtype=float32, numpy=4.9932394>,\n",
       " <tf.Variable 'warmup_M_scale_1_0:0' shape=() dtype=float32, numpy=-0.43275213>,\n",
       " <tf.Variable 'warmup_M_loc_2_0:0' shape=() dtype=float32, numpy=4.9932394>,\n",
       " <tf.Variable 'warmup_M_scale_2_0:0' shape=() dtype=float32, numpy=-0.43275213>,\n",
       " <tf.Variable 'warmup_M_loc_3_0:0' shape=() dtype=float32, numpy=4.9932394>,\n",
       " <tf.Variable 'warmup_M_scale_3_0:0' shape=() dtype=float32, numpy=-0.43275213>,\n",
       " <tf.Variable 'warmup_M_loc_4_0:0' shape=() dtype=float32, numpy=4.9932394>,\n",
       " <tf.Variable 'warmup_M_scale_4_0:0' shape=() dtype=float32, numpy=-0.43275213>,\n",
       " <tf.Variable 'warmup_M_loc_5_0:0' shape=() dtype=float32, numpy=4.9932394>,\n",
       " <tf.Variable 'warmup_M_scale_5_0:0' shape=() dtype=float32, numpy=-0.43275213>,\n",
       " <tf.Variable 'warmup_M_loc_6_0:0' shape=() dtype=float32, numpy=4.9932394>,\n",
       " <tf.Variable 'warmup_M_scale_6_0:0' shape=() dtype=float32, numpy=-0.43275213>,\n",
       " <tf.Variable 'warmup_M_loc_7_0:0' shape=() dtype=float32, numpy=4.9932394>,\n",
       " <tf.Variable 'warmup_M_scale_7_0:0' shape=() dtype=float32, numpy=-0.43275213>,\n",
       " <tf.Variable 'warmup_M_loc_8_0:0' shape=() dtype=float32, numpy=4.9932394>,\n",
       " <tf.Variable 'warmup_M_scale_8_0:0' shape=() dtype=float32, numpy=-0.43275213>,\n",
       " <tf.Variable 'warmup_M_loc_9_0:0' shape=() dtype=float32, numpy=4.9932394>,\n",
       " <tf.Variable 'warmup_M_scale_9_0:0' shape=() dtype=float32, numpy=-0.43275213>,\n",
       " <tf.Variable 'warmup_M_loc_0_1:0' shape=() dtype=float32, numpy=4.9932394>,\n",
       " <tf.Variable 'warmup_M_scale_0_1:0' shape=() dtype=float32, numpy=-0.43275213>,\n",
       " <tf.Variable 'warmup_M_loc_1_1:0' shape=() dtype=float32, numpy=4.9932394>,\n",
       " <tf.Variable 'warmup_M_scale_1_1:0' shape=() dtype=float32, numpy=-0.43275213>,\n",
       " <tf.Variable 'warmup_M_loc_2_1:0' shape=() dtype=float32, numpy=4.9932394>,\n",
       " <tf.Variable 'warmup_M_scale_2_1:0' shape=() dtype=float32, numpy=-0.43275213>,\n",
       " <tf.Variable 'warmup_M_loc_3_1:0' shape=() dtype=float32, numpy=4.9932394>,\n",
       " <tf.Variable 'warmup_M_scale_3_1:0' shape=() dtype=float32, numpy=-0.43275213>,\n",
       " <tf.Variable 'warmup_M_loc_4_1:0' shape=() dtype=float32, numpy=4.9932394>,\n",
       " <tf.Variable 'warmup_M_scale_4_1:0' shape=() dtype=float32, numpy=-0.43275213>,\n",
       " <tf.Variable 'warmup_M_loc_5_1:0' shape=() dtype=float32, numpy=4.9932394>,\n",
       " <tf.Variable 'warmup_M_scale_5_1:0' shape=() dtype=float32, numpy=-0.43275213>,\n",
       " <tf.Variable 'warmup_M_loc_6_1:0' shape=() dtype=float32, numpy=4.9932394>,\n",
       " <tf.Variable 'warmup_M_scale_6_1:0' shape=() dtype=float32, numpy=-0.43275213>,\n",
       " <tf.Variable 'warmup_M_loc_7_1:0' shape=() dtype=float32, numpy=4.9932394>,\n",
       " <tf.Variable 'warmup_M_scale_7_1:0' shape=() dtype=float32, numpy=-0.43275213>,\n",
       " <tf.Variable 'warmup_M_loc_8_1:0' shape=() dtype=float32, numpy=4.9932394>,\n",
       " <tf.Variable 'warmup_M_scale_8_1:0' shape=() dtype=float32, numpy=-0.43275213>,\n",
       " <tf.Variable 'warmup_M_loc_9_1:0' shape=() dtype=float32, numpy=4.9932394>,\n",
       " <tf.Variable 'warmup_M_scale_9_1:0' shape=() dtype=float32, numpy=-0.43275213>,\n",
       " <tf.Variable 'T_serial_A_loc:0' shape=() dtype=float32, numpy=3.9815147>,\n",
       " <tf.Variable 'T_serial_A_scale:0' shape=() dtype=float32, numpy=0.54132485>,\n",
       " <tf.Variable 'epsilon_A_loc:0' shape=() dtype=float32, numpy=0.0>,\n",
       " <tf.Variable 'epsilon_A_scale:0' shape=() dtype=float32, numpy=-1.0502255>,\n",
       " <tf.Variable 'delta_A_loc:0' shape=() dtype=float32, numpy=-2.1972246>,\n",
       " <tf.Variable 'delta_A_scale:0' shape=() dtype=float32, numpy=-1.5077717>]"
      ]
     },
     "execution_count": 12,
     "metadata": {},
     "output_type": "execute_result"
    }
   ],
   "source": [
    "model.variables"
   ]
  },
  {
   "cell_type": "code",
   "execution_count": 13,
   "id": "87a9c09d",
   "metadata": {},
   "outputs": [],
   "source": [
    "loss = LogPoissonProb() \n",
    "optimizer = tf.keras.optimizers.Adam(\n",
    "    learning_rate=learning_rate #beta_1=0.1, beta_2=0.1\n",
    ")"
   ]
  },
  {
   "cell_type": "code",
   "execution_count": 14,
   "id": "423d66f9",
   "metadata": {},
   "outputs": [
    {
     "name": "stderr",
     "output_type": "stream",
     "text": [
      "2022-01-17 16:37:14.544751: I tensorflow/core/profiler/lib/profiler_session.cc:131] Profiler session initializing.\n",
      "2022-01-17 16:37:14.544781: I tensorflow/core/profiler/lib/profiler_session.cc:146] Profiler session started.\n",
      "2022-01-17 16:37:14.544805: I tensorflow/core/profiler/internal/gpu/cupti_tracer.cc:1614] Profiler found 1 GPUs\n",
      "2022-01-17 16:37:14.545023: W tensorflow/stream_executor/platform/default/dso_loader.cc:64] Could not load dynamic library 'libcupti.so.11.2'; dlerror: libcupti.so.11.2: cannot open shared object file: No such file or directory\n",
      "2022-01-17 16:37:14.545081: W tensorflow/stream_executor/platform/default/dso_loader.cc:64] Could not load dynamic library 'libcupti.so'; dlerror: libcupti.so: cannot open shared object file: No such file or directory\n",
      "2022-01-17 16:37:14.545091: E tensorflow/core/profiler/internal/gpu/cupti_tracer.cc:1666] function cupti_interface_->Subscribe( &subscriber_, (CUpti_CallbackFunc)ApiCallback, this)failed with error CUPTI could not be loaded or symbol could not be found.\n",
      "2022-01-17 16:37:14.545183: I tensorflow/core/profiler/lib/profiler_session.cc:164] Profiler session tear down.\n",
      "2022-01-17 16:37:14.545202: E tensorflow/core/profiler/internal/gpu/cupti_tracer.cc:1757] function cupti_interface_->Finalize()failed with error CUPTI could not be loaded or symbol could not be found.\n"
     ]
    }
   ],
   "source": [
    "logging_callbacks = get_logging_callbacks('/mnt/c/Users/kheut/logs/covid/scale_nicely')"
   ]
  },
  {
   "cell_type": "code",
   "execution_count": null,
   "id": "d1c8368b",
   "metadata": {
    "scrolled": false
   },
   "outputs": [
    {
     "name": "stdout",
     "output_type": "stream",
     "text": [
      "Epoch 1/2000\n",
      "1/1 [==============================] - 14s 14s/step - loss: 142775808.0000\n",
      "Epoch 2/2000\n"
     ]
    },
    {
     "name": "stderr",
     "output_type": "stream",
     "text": [
      "2022-01-17 16:37:28.164999: I tensorflow/core/profiler/lib/profiler_session.cc:131] Profiler session initializing.\n",
      "2022-01-17 16:37:28.165029: I tensorflow/core/profiler/lib/profiler_session.cc:146] Profiler session started.\n",
      "2022-01-17 16:37:28.165333: E tensorflow/core/profiler/internal/gpu/cupti_tracer.cc:1666] function cupti_interface_->Subscribe( &subscriber_, (CUpti_CallbackFunc)ApiCallback, this)failed with error CUPTI could not be loaded or symbol could not be found.\n"
     ]
    },
    {
     "name": "stdout",
     "output_type": "stream",
     "text": [
      "\r",
      "1/1 [==============================] - ETA: 0s - loss: 45972532.0000"
     ]
    },
    {
     "name": "stderr",
     "output_type": "stream",
     "text": [
      "2022-01-17 16:37:43.899437: I tensorflow/core/profiler/lib/profiler_session.cc:66] Profiler session collecting data.\n",
      "2022-01-17 16:37:43.950433: E tensorflow/core/profiler/internal/gpu/cupti_tracer.cc:1757] function cupti_interface_->Finalize()failed with error CUPTI could not be loaded or symbol could not be found.\n",
      "2022-01-17 16:37:45.042198: I tensorflow/core/profiler/internal/gpu/cupti_collector.cc:673]  GpuTracer has collected 0 callback api events and 0 activity events. \n",
      "2022-01-17 16:37:47.568659: I tensorflow/core/profiler/lib/profiler_session.cc:164] Profiler session tear down.\n",
      "2022-01-17 16:37:50.711409: I tensorflow/core/profiler/rpc/client/save_profile.cc:136] Creating directory: /mnt/c/Users/kheut/logs/covid/scale_nicely/train/plugins/profile/2022_01_17_16_37_47\n",
      "\n",
      "2022-01-17 16:37:51.778894: I tensorflow/core/profiler/rpc/client/save_profile.cc:142] Dumped gzipped tool data for trace.json.gz to /mnt/c/Users/kheut/logs/covid/scale_nicely/train/plugins/profile/2022_01_17_16_37_47/MrChipsNVME.trace.json.gz\n",
      "2022-01-17 16:37:52.881217: I tensorflow/core/profiler/rpc/client/save_profile.cc:136] Creating directory: /mnt/c/Users/kheut/logs/covid/scale_nicely/train/plugins/profile/2022_01_17_16_37_47\n",
      "\n",
      "2022-01-17 16:37:52.882836: I tensorflow/core/profiler/rpc/client/save_profile.cc:142] Dumped gzipped tool data for memory_profile.json.gz to /mnt/c/Users/kheut/logs/covid/scale_nicely/train/plugins/profile/2022_01_17_16_37_47/MrChipsNVME.memory_profile.json.gz\n",
      "2022-01-17 16:37:52.934013: I tensorflow/core/profiler/rpc/client/capture_profile.cc:251] Creating directory: /mnt/c/Users/kheut/logs/covid/scale_nicely/train/plugins/profile/2022_01_17_16_37_47\n",
      "Dumped tool data for xplane.pb to /mnt/c/Users/kheut/logs/covid/scale_nicely/train/plugins/profile/2022_01_17_16_37_47/MrChipsNVME.xplane.pb\n",
      "Dumped tool data for overview_page.pb to /mnt/c/Users/kheut/logs/covid/scale_nicely/train/plugins/profile/2022_01_17_16_37_47/MrChipsNVME.overview_page.pb\n",
      "Dumped tool data for input_pipeline.pb to /mnt/c/Users/kheut/logs/covid/scale_nicely/train/plugins/profile/2022_01_17_16_37_47/MrChipsNVME.input_pipeline.pb\n",
      "Dumped tool data for tensorflow_stats.pb to /mnt/c/Users/kheut/logs/covid/scale_nicely/train/plugins/profile/2022_01_17_16_37_47/MrChipsNVME.tensorflow_stats.pb\n",
      "Dumped tool data for kernel_stats.pb to /mnt/c/Users/kheut/logs/covid/scale_nicely/train/plugins/profile/2022_01_17_16_37_47/MrChipsNVME.kernel_stats.pb\n",
      "\n"
     ]
    },
    {
     "name": "stdout",
     "output_type": "stream",
     "text": [
      "1/1 [==============================] - 25s 25s/step - loss: 45972532.0000\n",
      "Epoch 3/2000\n",
      "1/1 [==============================] - 13s 13s/step - loss: 39568924.0000\n",
      "Epoch 4/2000\n",
      "1/1 [==============================] - 13s 13s/step - loss: 34002012.0000\n",
      "Epoch 5/2000\n",
      "1/1 [==============================] - 13s 13s/step - loss: nan\n",
      "Epoch 6/2000\n",
      "1/1 [==============================] - 13s 13s/step - loss: nan\n",
      "Epoch 7/2000\n",
      "1/1 [==============================] - 14s 14s/step - loss: nan\n",
      "Epoch 8/2000\n",
      "1/1 [==============================] - 13s 13s/step - loss: nan\n",
      "Epoch 9/2000\n",
      "1/1 [==============================] - 13s 13s/step - loss: nan\n",
      "Epoch 10/2000\n",
      "1/1 [==============================] - 13s 13s/step - loss: nan\n",
      "Epoch 11/2000\n",
      "1/1 [==============================] - 13s 13s/step - loss: nan\n",
      "Epoch 12/2000\n",
      "1/1 [==============================] - 13s 13s/step - loss: nan\n",
      "Epoch 13/2000\n",
      "1/1 [==============================] - 13s 13s/step - loss: nan\n",
      "Epoch 14/2000\n",
      "1/1 [==============================] - 13s 13s/step - loss: nan\n",
      "Epoch 15/2000\n",
      "1/1 [==============================] - 13s 13s/step - loss: nan\n",
      "Epoch 16/2000\n",
      "1/1 [==============================] - 13s 13s/step - loss: nan\n",
      "Epoch 17/2000\n",
      "1/1 [==============================] - 13s 13s/step - loss: nan\n",
      "Epoch 18/2000\n",
      "1/1 [==============================] - 14s 14s/step - loss: nan\n",
      "Epoch 19/2000\n",
      "1/1 [==============================] - 14s 14s/step - loss: nan\n",
      "Epoch 20/2000\n",
      "1/1 [==============================] - 13s 13s/step - loss: nan\n",
      "Epoch 21/2000\n",
      "1/1 [==============================] - 13s 13s/step - loss: nan\n",
      "Epoch 22/2000\n",
      "1/1 [==============================] - 13s 13s/step - loss: nan\n",
      "Epoch 23/2000\n",
      "1/1 [==============================] - 13s 13s/step - loss: nan\n",
      "Epoch 24/2000\n",
      "1/1 [==============================] - 13s 13s/step - loss: nan\n",
      "Epoch 25/2000\n",
      "1/1 [==============================] - 13s 13s/step - loss: nan\n",
      "Epoch 26/2000\n",
      "1/1 [==============================] - 14s 14s/step - loss: nan\n",
      "Epoch 27/2000\n",
      "1/1 [==============================] - 13s 13s/step - loss: nan\n",
      "Epoch 28/2000\n",
      "1/1 [==============================] - 13s 13s/step - loss: nan\n",
      "Epoch 29/2000\n",
      "1/1 [==============================] - 14s 14s/step - loss: nan\n",
      "Epoch 30/2000\n",
      "1/1 [==============================] - 14s 14s/step - loss: nan\n",
      "Epoch 31/2000\n",
      "1/1 [==============================] - 14s 14s/step - loss: nan\n",
      "Epoch 32/2000\n",
      "1/1 [==============================] - 13s 13s/step - loss: nan\n",
      "Epoch 33/2000\n",
      "1/1 [==============================] - 14s 14s/step - loss: nan\n",
      "Epoch 34/2000\n",
      "1/1 [==============================] - 13s 13s/step - loss: nan\n",
      "Epoch 35/2000\n",
      "1/1 [==============================] - 14s 14s/step - loss: nan\n",
      "Epoch 36/2000\n",
      "1/1 [==============================] - 13s 13s/step - loss: nan\n",
      "Epoch 37/2000\n",
      "1/1 [==============================] - 14s 14s/step - loss: nan\n",
      "Epoch 38/2000\n",
      "1/1 [==============================] - 13s 13s/step - loss: nan\n",
      "Epoch 39/2000\n",
      "1/1 [==============================] - 13s 13s/step - loss: nan\n",
      "Epoch 40/2000\n",
      "1/1 [==============================] - 13s 13s/step - loss: nan\n",
      "Epoch 41/2000\n",
      "1/1 [==============================] - 13s 13s/step - loss: nan\n",
      "Epoch 42/2000\n",
      "1/1 [==============================] - 13s 13s/step - loss: nan\n",
      "Epoch 43/2000\n",
      "1/1 [==============================] - 13s 13s/step - loss: nan\n",
      "Epoch 44/2000\n",
      "1/1 [==============================] - 13s 13s/step - loss: nan\n",
      "Epoch 45/2000\n",
      "1/1 [==============================] - 13s 13s/step - loss: nan\n",
      "Epoch 46/2000\n",
      "1/1 [==============================] - 14s 14s/step - loss: nan\n",
      "Epoch 47/2000\n",
      "1/1 [==============================] - 13s 13s/step - loss: nan\n",
      "Epoch 48/2000\n",
      "1/1 [==============================] - 13s 13s/step - loss: nan\n",
      "Epoch 49/2000\n",
      "1/1 [==============================] - 13s 13s/step - loss: nan\n",
      "Epoch 50/2000\n",
      "1/1 [==============================] - 13s 13s/step - loss: nan\n",
      "Epoch 51/2000\n",
      "1/1 [==============================] - 13s 13s/step - loss: nan\n",
      "Epoch 52/2000\n",
      "1/1 [==============================] - 13s 13s/step - loss: nan\n",
      "Epoch 53/2000\n",
      "1/1 [==============================] - 13s 13s/step - loss: nan\n",
      "Epoch 54/2000\n",
      "1/1 [==============================] - 13s 13s/step - loss: nan\n",
      "Epoch 55/2000\n",
      "1/1 [==============================] - 13s 13s/step - loss: nan\n",
      "Epoch 56/2000\n",
      "1/1 [==============================] - 13s 13s/step - loss: nan\n",
      "Epoch 57/2000\n",
      "1/1 [==============================] - 12s 12s/step - loss: nan\n",
      "Epoch 58/2000\n",
      "1/1 [==============================] - 13s 13s/step - loss: nan\n",
      "Epoch 59/2000\n",
      "1/1 [==============================] - 13s 13s/step - loss: nan\n",
      "Epoch 60/2000\n",
      "1/1 [==============================] - 13s 13s/step - loss: nan\n",
      "Epoch 61/2000\n",
      "1/1 [==============================] - 13s 13s/step - loss: nan\n",
      "Epoch 62/2000\n",
      "1/1 [==============================] - 13s 13s/step - loss: nan\n",
      "Epoch 63/2000\n",
      "1/1 [==============================] - 12s 12s/step - loss: nan\n",
      "Epoch 64/2000\n",
      "1/1 [==============================] - 13s 13s/step - loss: nan\n",
      "Epoch 65/2000\n",
      "1/1 [==============================] - 13s 13s/step - loss: nan\n",
      "Epoch 66/2000\n",
      "1/1 [==============================] - 13s 13s/step - loss: nan\n",
      "Epoch 67/2000\n",
      "1/1 [==============================] - 13s 13s/step - loss: nan\n",
      "Epoch 68/2000\n",
      "1/1 [==============================] - 13s 13s/step - loss: nan\n",
      "Epoch 69/2000\n",
      "1/1 [==============================] - 13s 13s/step - loss: nan\n",
      "Epoch 70/2000\n",
      "1/1 [==============================] - 13s 13s/step - loss: nan\n",
      "Epoch 71/2000\n",
      "1/1 [==============================] - 13s 13s/step - loss: nan\n",
      "Epoch 72/2000\n",
      "1/1 [==============================] - 13s 13s/step - loss: nan\n",
      "Epoch 73/2000\n",
      "1/1 [==============================] - 13s 13s/step - loss: nan\n",
      "Epoch 74/2000\n",
      "1/1 [==============================] - 13s 13s/step - loss: nan\n",
      "Epoch 75/2000\n",
      "1/1 [==============================] - 13s 13s/step - loss: nan\n",
      "Epoch 76/2000\n",
      "1/1 [==============================] - 13s 13s/step - loss: nan\n",
      "Epoch 77/2000\n",
      "1/1 [==============================] - 13s 13s/step - loss: nan\n",
      "Epoch 78/2000\n",
      "1/1 [==============================] - 13s 13s/step - loss: nan\n",
      "Epoch 79/2000\n",
      "1/1 [==============================] - 13s 13s/step - loss: nan\n",
      "Epoch 80/2000\n",
      "1/1 [==============================] - 13s 13s/step - loss: nan\n",
      "Epoch 81/2000\n",
      "1/1 [==============================] - 13s 13s/step - loss: nan\n",
      "Epoch 82/2000\n",
      "1/1 [==============================] - 14s 14s/step - loss: nan\n",
      "Epoch 83/2000\n",
      "1/1 [==============================] - 13s 13s/step - loss: nan\n",
      "Epoch 84/2000\n",
      "1/1 [==============================] - 13s 13s/step - loss: nan\n",
      "Epoch 85/2000\n",
      "1/1 [==============================] - 12s 12s/step - loss: nan\n",
      "Epoch 86/2000\n",
      "1/1 [==============================] - 13s 13s/step - loss: nan\n",
      "Epoch 87/2000\n"
     ]
    }
   ],
   "source": [
    "model.compile(loss=loss, optimizer=optimizer, run_eagerly=True)\n",
    "model.fit(x=np.asarray([x_train]), y=np.asarray([y_train]),\n",
    "         epochs=2000, batch_size=0,\n",
    "        callbacks=logging_callbacks)"
   ]
  },
  {
   "cell_type": "code",
   "execution_count": null,
   "id": "910c2f9e",
   "metadata": {},
   "outputs": [],
   "source": [
    "plt.figure(figsize=(8, 6))\n",
    "preds=tf.reduce_mean(model.call(x_test), axis=-1)\n",
    "plt.plot(df.loc[train_start:test_end].index.values, y_test, label='Hosp')\n",
    "plt.plot(df.loc[train_start:test_end].index.values, preds, label='Hosp')\n",
    "month_ticks = matplotlib.dates.MonthLocator(interval=1)\n",
    "ax = plt.gca()\n",
    "ax.xaxis.set_major_locator(month_ticks)\n",
    "plt.legend()\n",
    "plt.title('Mild Compartment')"
   ]
  },
  {
   "cell_type": "code",
   "execution_count": null,
   "id": "41e61f26",
   "metadata": {},
   "outputs": [],
   "source": [
    "plt.figure(figsize=(8, 6))\n",
    "preds=tf.reduce_mean(model.call(x_train), axis=-1)\n",
    "plt.plot(df.loc[train_start:test_end].index.values, y_test, label='CovidEstim Mild')\n",
    "plt.plot(df.loc[train_start:train_end].index.values, pre_training_preds[:len(df.loc[train_start:train_end].index.values)], label='Predicted Before Training Mild')\n",
    "month_ticks = matplotlib.dates.MonthLocator(interval=1)\n",
    "ax = plt.gca()\n",
    "ax.xaxis.set_major_locator(month_ticks)\n",
    "plt.legend()\n",
    "plt.title('Mild Compartment')"
   ]
  },
  {
   "cell_type": "code",
   "execution_count": null,
   "id": "438fbf19",
   "metadata": {},
   "outputs": [],
   "source": [
    "pre_training_preds"
   ]
  },
  {
   "cell_type": "code",
   "execution_count": null,
   "id": "abdd92d0",
   "metadata": {},
   "outputs": [],
   "source": []
  },
  {
   "cell_type": "code",
   "execution_count": null,
   "id": "7790428a",
   "metadata": {},
   "outputs": [],
   "source": []
  },
  {
   "cell_type": "code",
   "execution_count": null,
   "id": "b2f44042",
   "metadata": {},
   "outputs": [],
   "source": [
    "import tfa.optimizers"
   ]
  },
  {
   "cell_type": "code",
   "execution_count": null,
   "id": "35cf260e",
   "metadata": {},
   "outputs": [],
   "source": [
    "0.8*2000"
   ]
  },
  {
   "cell_type": "code",
   "execution_count": null,
   "id": "9478d8e6",
   "metadata": {},
   "outputs": [],
   "source": [
    "warmup_asymp"
   ]
  },
  {
   "cell_type": "code",
   "execution_count": null,
   "id": "86caf2f4",
   "metadata": {},
   "outputs": [],
   "source": [
    "warmup_mild"
   ]
  },
  {
   "cell_type": "code",
   "execution_count": null,
   "id": "57e20272",
   "metadata": {},
   "outputs": [],
   "source": [
    "y_test"
   ]
  },
  {
   "cell_type": "code",
   "execution_count": null,
   "id": "8cdad1e4",
   "metadata": {},
   "outputs": [],
   "source": [
    "df.loc[warmup_start:'20210510','mild']"
   ]
  },
  {
   "cell_type": "code",
   "execution_count": null,
   "id": "9fdec032",
   "metadata": {},
   "outputs": [],
   "source": [
    "warmup_start"
   ]
  },
  {
   "cell_type": "code",
   "execution_count": null,
   "id": "7c12bd50",
   "metadata": {},
   "outputs": [],
   "source": [
    "warmup_asymp"
   ]
  },
  {
   "cell_type": "code",
   "execution_count": null,
   "id": "e13a5d30",
   "metadata": {},
   "outputs": [],
   "source": [
    "import copy"
   ]
  },
  {
   "cell_type": "code",
   "execution_count": null,
   "id": "1f8313b4",
   "metadata": {},
   "outputs": [],
   "source": [
    "copy_model = copy.deepcopy(model)\n",
    "copy_model.unconstrained_warmup_A_params[-1][2]['loc'] = tf.Variable(2500.0, dtype=tf.float32)\n",
    "copy_model.unconstrained_warmup_A_params[-1][1]['loc'] = tf.Variable(2500.0, dtype=tf.float32)\n",
    "copy_model.unconstrained_warmup_A_params[-1][0]['loc'] = tf.Variable(2500.0, dtype=tf.float32)\n",
    "copy_model.unconstrained_nu_M[-1]['loc'] = tf.Variable(3.0, dtype=tf.float32)"
   ]
  },
  {
   "cell_type": "code",
   "execution_count": null,
   "id": "45e6ef83",
   "metadata": {},
   "outputs": [],
   "source": [
    "plt.figure(figsize=(8, 6))\n",
    "copy_preds=tf.reduce_mean(copy_model.call(x_train), axis=-1)\n",
    "plt.plot(df.loc[train_start:test_end].index.values, y_test, label='CovidEstim Mild')\n",
    "plt.plot(df.loc[train_start:test_end].index.values, copy_preds, label='Predicted Mild')\n",
    "month_ticks = matplotlib.dates.MonthLocator(interval=1)\n",
    "ax = plt.gca()\n",
    "ax.xaxis.set_major_locator(month_ticks)\n",
    "plt.legend()\n",
    "plt.title('Mild Compartment')"
   ]
  },
  {
   "cell_type": "code",
   "execution_count": null,
   "id": "5bb5613c",
   "metadata": {},
   "outputs": [],
   "source": [
    "loss(y_test, copy_model.call(x_train))"
   ]
  },
  {
   "cell_type": "code",
   "execution_count": null,
   "id": "57a7f0ca",
   "metadata": {},
   "outputs": [],
   "source": [
    "copy_model.unconstrained_nu_M"
   ]
  },
  {
   "cell_type": "code",
   "execution_count": null,
   "id": "f648a7c0",
   "metadata": {},
   "outputs": [],
   "source": [
    "copy_model.unconstrained_rho_M[-1]['loc']"
   ]
  },
  {
   "cell_type": "code",
   "execution_count": null,
   "id": "bbc0824f",
   "metadata": {},
   "outputs": [],
   "source": [
    "tf.math.sigmoid(1.2)"
   ]
  },
  {
   "cell_type": "code",
   "execution_count": null,
   "id": "9ef7bd49",
   "metadata": {},
   "outputs": [],
   "source": [
    "warmup_A_params[-1]"
   ]
  },
  {
   "cell_type": "code",
   "execution_count": null,
   "id": "43e930c3",
   "metadata": {},
   "outputs": [],
   "source": [
    "warmup_asymp"
   ]
  },
  {
   "cell_type": "code",
   "execution_count": null,
   "id": "37263281",
   "metadata": {},
   "outputs": [],
   "source": [
    "warmup_mild"
   ]
  },
  {
   "cell_type": "code",
   "execution_count": null,
   "id": "148b9927",
   "metadata": {},
   "outputs": [],
   "source": [
    "1800/2500"
   ]
  },
  {
   "cell_type": "code",
   "execution_count": null,
   "id": "f9128e0c",
   "metadata": {},
   "outputs": [],
   "source": [
    "plt.figure(figsize=(8, 6))\n",
    "copy_preds=tf.reduce_mean(copy_model.call(x_train), axis=-1)\n",
    "plt.plot(df.loc[train_start:test_end].index.values, df.loc[train_start:test_end, 'mild']/df.loc[train_start:test_end, 'asymp'], label='Asymp/Mild')\n",
    "#plt.plot(df.loc[train_start:test_end].index.values, preds, label='Predicted Mild')\n",
    "month_ticks = matplotlib.dates.MonthLocator(interval=1)\n",
    "ax = plt.gca()\n",
    "ax.xaxis.set_major_locator(month_ticks)\n",
    "plt.legend()\n",
    "plt.title('Empirical Rho_M')"
   ]
  },
  {
   "cell_type": "code",
   "execution_count": null,
   "id": "d7e6cd2f",
   "metadata": {},
   "outputs": [],
   "source": [
    "0.96**(1/5.2)"
   ]
  },
  {
   "cell_type": "code",
   "execution_count": null,
   "id": "86c21262",
   "metadata": {},
   "outputs": [],
   "source": [
    "warmup_asymp"
   ]
  },
  {
   "cell_type": "code",
   "execution_count": null,
   "id": "7adc73fd",
   "metadata": {},
   "outputs": [],
   "source": [
    "x_train"
   ]
  },
  {
   "cell_type": "code",
   "execution_count": null,
   "id": "a8c2f01f",
   "metadata": {},
   "outputs": [],
   "source": [
    "model.T_serial_samples_constrained"
   ]
  },
  {
   "cell_type": "code",
   "execution_count": null,
   "id": "d4e263a7",
   "metadata": {},
   "outputs": [],
   "source": [
    "copy_model.call(x_train,return_all=True)"
   ]
  },
  {
   "cell_type": "code",
   "execution_count": null,
   "id": "84283817",
   "metadata": {},
   "outputs": [],
   "source": [
    "warmup_asymp*x_train[2] ** (1/model.T_serial_samples_constrained)"
   ]
  },
  {
   "cell_type": "code",
   "execution_count": null,
   "id": "b375b608",
   "metadata": {},
   "outputs": [],
   "source": [
    "copy_model.warmup_A_samples[1]"
   ]
  },
  {
   "cell_type": "code",
   "execution_count": null,
   "id": "e3aeff13",
   "metadata": {},
   "outputs": [],
   "source": [
    "warmup_A"
   ]
  },
  {
   "cell_type": "code",
   "execution_count": null,
   "id": "4dc81004",
   "metadata": {},
   "outputs": [],
   "source": [
    "all_preds = model.call(x_train, return_all=True)"
   ]
  },
  {
   "cell_type": "code",
   "execution_count": null,
   "id": "ddbf95c3",
   "metadata": {},
   "outputs": [],
   "source": [
    "all_preds[Comp.A.value][1].stack()[:,0]"
   ]
  },
  {
   "cell_type": "code",
   "execution_count": null,
   "id": "f4b0633f",
   "metadata": {},
   "outputs": [],
   "source": [
    "warmup_A_params"
   ]
  },
  {
   "cell_type": "code",
   "execution_count": null,
   "id": "c0342055",
   "metadata": {},
   "outputs": [],
   "source": [
    "tfp.math.softplus_inverse(100.0/1000/2)"
   ]
  },
  {
   "cell_type": "code",
   "execution_count": null,
   "id": "ee89820c",
   "metadata": {},
   "outputs": [],
   "source": [
    "tfp.math.softplus_inverse(4.0)"
   ]
  },
  {
   "cell_type": "code",
   "execution_count": null,
   "id": "cc87efc4",
   "metadata": {},
   "outputs": [],
   "source": [
    "model.variables"
   ]
  },
  {
   "cell_type": "code",
   "execution_count": null,
   "id": "36097317",
   "metadata": {},
   "outputs": [],
   "source": []
  }
 ],
 "metadata": {
  "kernelspec": {
   "display_name": "Python 3 (ipykernel)",
   "language": "python",
   "name": "python3"
  },
  "language_info": {
   "codemirror_mode": {
    "name": "ipython",
    "version": 3
   },
   "file_extension": ".py",
   "mimetype": "text/x-python",
   "name": "python",
   "nbconvert_exporter": "python",
   "pygments_lexer": "ipython3",
   "version": "3.7.11"
  }
 },
 "nbformat": 4,
 "nbformat_minor": 5
}

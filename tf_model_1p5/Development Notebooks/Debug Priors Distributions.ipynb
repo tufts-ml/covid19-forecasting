{
 "cells": [
  {
   "cell_type": "code",
   "execution_count": 1,
   "id": "e13d6c1f",
   "metadata": {},
   "outputs": [
    {
     "name": "stderr",
     "output_type": "stream",
     "text": [
      "2021-11-28 16:41:52.332060: W tensorflow/stream_executor/platform/default/dso_loader.cc:64] Could not load dynamic library 'libcudart.so.11.0'; dlerror: libcudart.so.11.0: cannot open shared object file: No such file or directory\n",
      "2021-11-28 16:41:52.332091: I tensorflow/stream_executor/cuda/cudart_stub.cc:29] Ignore above cudart dlerror if you do not have a GPU set up on your machine.\n"
     ]
    }
   ],
   "source": [
    "%load_ext autoreload\n",
    "%autoreload 2\n",
    "\n",
    "import numpy as np\n",
    "import tensorflow as tf\n",
    "\n",
    "import sys\n",
    "sys.path.append('/mnt/c/Users/kheut/code/covid19-forecasting/tf_model_1p5/')\n",
    "\n",
    "from enum import Enum\n",
    "\n",
    "import tensorflow as tf\n",
    "from tensorflow import keras\n",
    "from tensorflow.keras.layers import Dense\n",
    "\n",
    "import tensorflow_probability as tfp\n",
    "from scipy.stats import beta, truncnorm\n",
    "\n",
    "\n",
    "# Local imports from model.py, data.py\n",
    "from model import CovidModel, LogPoissonProb, get_logging_callbacks, Comp, Vax\n",
    "from data import read_data, create_warmup\n",
    "#from plots import make_all_plots\n",
    "\n",
    "import scipy\n",
    "\n",
    "import matplotlib\n",
    "import matplotlib.pyplot as plt\n",
    "plt.rcParams.update({'font.size': 20}) # set plot font sizes"
   ]
  },
  {
   "cell_type": "code",
   "execution_count": 2,
   "id": "4cd2ebba",
   "metadata": {},
   "outputs": [],
   "source": [
    "transition_window =3\n",
    "\n",
    "warmup_start = '20210428'\n",
    "warmup_end = '20210430'\n",
    "train_start = '20210501'\n",
    "train_end = '20210731'\n",
    "test_start = '20210801'\n",
    "test_end = '20210831'\n",
    "\n",
    "state = 'Massachusetts'\n",
    "state_abbrev = 'MA'\n",
    "\n",
    "data_dir = '../data'\n",
    "covid_estim_date = '20210901'\n",
    "hhs_date = '20210903'\n",
    "owid_date = '20210903'\n",
    "\n",
    "log_dir = './logs/new_warmup'\n",
    "\n",
    "\n",
    "# Learning rate\n",
    "learning_rate = 1e-4"
   ]
  },
  {
   "cell_type": "code",
   "execution_count": 3,
   "id": "908646c0",
   "metadata": {},
   "outputs": [],
   "source": [
    "df = read_data(data_dir=data_dir,\n",
    "               covid_estim_date=covid_estim_date,\n",
    "               hhs_date=hhs_date,\n",
    "               owid_date=owid_date,\n",
    "               state=state, state_abbrev=state_abbrev)"
   ]
  },
  {
   "cell_type": "code",
   "execution_count": 4,
   "id": "67075e1a",
   "metadata": {},
   "outputs": [],
   "source": [
    "class Comp(Enum):\n",
    "    A = 0\n",
    "    M = 1\n",
    "    #X = 2\n",
    "    #G = 3\n",
    "    \n",
    "class Vax(Enum):\n",
    "    total = -1\n",
    "    no = 0\n",
    "    yes = 1"
   ]
  },
  {
   "cell_type": "code",
   "execution_count": 5,
   "id": "7de98b91",
   "metadata": {},
   "outputs": [],
   "source": [
    "# get warmup arrays, splitting on vaccination status\n",
    "warmup_asymp, warmup_mild, warmup_extreme = create_warmup(df, \n",
    "                                                          warmup_start, \n",
    "                                                          warmup_end,\n",
    "                                                          0,0,0)\n",
    "\n",
    "# re-combine\n",
    "warmup_asymp = warmup_asymp[Vax.no.value] + warmup_asymp[Vax.yes.value]"
   ]
  },
  {
   "cell_type": "code",
   "execution_count": 6,
   "id": "ddb44066",
   "metadata": {},
   "outputs": [],
   "source": [
    "synth_T_serial = 5.8\n",
    "synth_rho_M = 0.76\n",
    "synth_lambda_M = 4.7\n",
    "synth_nu_M = 3.1"
   ]
  },
  {
   "cell_type": "code",
   "execution_count": 7,
   "id": "e38ba26e",
   "metadata": {},
   "outputs": [],
   "source": [
    "warmup_A_params = {}\n",
    "warmup_A_params[Vax.total.value] = {}\n",
    "warmup_A_params[Vax.total.value]['prior'] = []\n",
    "warmup_A_params[Vax.total.value]['posterior_init'] = []\n",
    "\n",
    "for day in range(transition_window):\n",
    "    warmup_A_params[Vax.total.value]['prior'].append({'loc': warmup_asymp[day],\n",
    "                                                'scale': warmup_asymp[day]/10})\n",
    "    "
   ]
  },
  {
   "cell_type": "code",
   "execution_count": 8,
   "id": "873aa64f",
   "metadata": {},
   "outputs": [
    {
     "name": "stderr",
     "output_type": "stream",
     "text": [
      "2021-11-28 16:41:59.651933: I tensorflow/stream_executor/cuda/cuda_gpu_executor.cc:923] could not open file to read NUMA node: /sys/bus/pci/devices/0000:2d:00.0/numa_node\n",
      "Your kernel may have been built without NUMA support.\n",
      "2021-11-28 16:41:59.652099: W tensorflow/stream_executor/platform/default/dso_loader.cc:64] Could not load dynamic library 'libcudart.so.11.0'; dlerror: libcudart.so.11.0: cannot open shared object file: No such file or directory\n",
      "2021-11-28 16:41:59.652130: W tensorflow/stream_executor/platform/default/dso_loader.cc:64] Could not load dynamic library 'libcublas.so.11'; dlerror: libcublas.so.11: cannot open shared object file: No such file or directory\n",
      "2021-11-28 16:41:59.652153: W tensorflow/stream_executor/platform/default/dso_loader.cc:64] Could not load dynamic library 'libcublasLt.so.11'; dlerror: libcublasLt.so.11: cannot open shared object file: No such file or directory\n",
      "2021-11-28 16:41:59.652175: W tensorflow/stream_executor/platform/default/dso_loader.cc:64] Could not load dynamic library 'libcufft.so.10'; dlerror: libcufft.so.10: cannot open shared object file: No such file or directory\n",
      "2021-11-28 16:41:59.652195: W tensorflow/stream_executor/platform/default/dso_loader.cc:64] Could not load dynamic library 'libcurand.so.10'; dlerror: libcurand.so.10: cannot open shared object file: No such file or directory\n",
      "2021-11-28 16:41:59.652216: W tensorflow/stream_executor/platform/default/dso_loader.cc:64] Could not load dynamic library 'libcusolver.so.11'; dlerror: libcusolver.so.11: cannot open shared object file: No such file or directory\n",
      "2021-11-28 16:41:59.652237: W tensorflow/stream_executor/platform/default/dso_loader.cc:64] Could not load dynamic library 'libcusparse.so.11'; dlerror: libcusparse.so.11: cannot open shared object file: No such file or directory\n",
      "2021-11-28 16:41:59.652257: W tensorflow/stream_executor/platform/default/dso_loader.cc:64] Could not load dynamic library 'libcudnn.so.8'; dlerror: libcudnn.so.8: cannot open shared object file: No such file or directory\n",
      "2021-11-28 16:41:59.652264: W tensorflow/core/common_runtime/gpu/gpu_device.cc:1835] Cannot dlopen some GPU libraries. Please make sure the missing libraries mentioned above are installed properly if you would like to use GPU. Follow the guide at https://www.tensorflow.org/install/gpu for how to download and setup the required libraries for your platform.\n",
      "Skipping registering GPU devices...\n",
      "2021-11-28 16:41:59.652598: I tensorflow/core/platform/cpu_feature_guard.cc:142] This TensorFlow binary is optimized with oneAPI Deep Neural Network Library (oneDNN) to use the following CPU instructions in performance-critical operations:  AVX2 FMA\n",
      "To enable them in other operations, rebuild TensorFlow with the appropriate compiler flags.\n"
     ]
    }
   ],
   "source": [
    "x_train = tf.cast(df.loc[train_start:test_end,'Rt'].values, dtype=tf.float32)\n",
    "y_test = tf.cast(df.loc[train_start:test_end,'mild'], dtype=tf.float32)"
   ]
  },
  {
   "cell_type": "code",
   "execution_count": 9,
   "id": "5f414452",
   "metadata": {},
   "outputs": [],
   "source": [
    "A_vals = []\n",
    "M_vals =[]\n",
    "for day in range(transition_window):\n",
    "    A_vals.append(warmup_A_params[-1]['prior'][day]['loc'])\n",
    "\n",
    "for day in range(len(x_train)):\n",
    "    yesterday_asymp = A_vals[-1]\n",
    "    \n",
    "    today_asymp = yesterday_asymp*x_train[day]**(1/synth_T_serial)\n",
    "    A_vals.append(today_asymp)\n",
    "    \n",
    "    today_M = 0\n",
    "    pi_M=[]\n",
    "    for j in range(transition_window):\n",
    "        \n",
    "        \n",
    "        lambda_M_fix = synth_lambda_M\n",
    "        nu_M_fix = synth_nu_M\n",
    "        poisson_dist = scipy.stats.poisson(lambda_M_fix)\n",
    "        pi_M_j_ago = poisson_dist.logpmf(j+1)/nu_M_fix\n",
    "        \n",
    "        pi_M.append(pi_M_j_ago)\n",
    "    \n",
    "    pi_M = scipy.special.softmax(pi_M)\n",
    "        \n",
    "    for j in range(transition_window):\n",
    "        j_ago_asymp = A_vals[day-j-1]\n",
    "        today_M += j_ago_asymp*synth_rho_M*pi_M[j]\n",
    "        \n",
    "    M_vals.append(today_M)"
   ]
  },
  {
   "cell_type": "code",
   "execution_count": 10,
   "id": "a8c8bf63",
   "metadata": {},
   "outputs": [],
   "source": [
    "\n",
    "T_serial = {}\n",
    "T_serial[Vax.total.value] = {}\n",
    "T_serial[Vax.total.value]['prior'] ={'loc':5.8, 'scale':1}\n",
    "\n",
    "\n",
    "rho_M = {}\n",
    "rho_M[Vax.total.value] = {}\n",
    "rho_M[Vax.total.value]['prior'] = {'a': 31.8, 'b': 10.3}\n",
    "\n",
    "lambda_M = {}\n",
    "lambda_M[Vax.total.value] = {}\n",
    "lambda_M[Vax.total.value]['prior'] = {'loc': 4.7, 'scale': 1}\n",
    "\n",
    "nu_M = {}\n",
    "nu_M[Vax.total.value] = {}\n",
    "nu_M[Vax.total.value]['prior'] = {'loc': 3.1, 'scale': 1.2}\n",
    "\n",
    "\n"
   ]
  },
  {
   "cell_type": "code",
   "execution_count": 11,
   "id": "50a7a068",
   "metadata": {},
   "outputs": [],
   "source": [
    "variance_scales = np.logspace(-2,2,20)"
   ]
  },
  {
   "cell_type": "code",
   "execution_count": 12,
   "id": "373e273d",
   "metadata": {},
   "outputs": [],
   "source": [
    "T_serial_scale = 1.0\n",
    "rho_M_scale = 0.1\n",
    "lambda_M_scale = 1.0\n",
    "nu_M_scale = 1.2\n",
    "\n",
    "warmup_scales = [0.1, 0.1, 0.1]"
   ]
  },
  {
   "cell_type": "code",
   "execution_count": 13,
   "id": "e906fd32",
   "metadata": {},
   "outputs": [
    {
     "name": "stderr",
     "output_type": "stream",
     "text": [
      "2021-11-28 16:42:56.749964: I tensorflow/compiler/mlir/mlir_graph_optimization_pass.cc:185] None of the MLIR Optimization Passes are enabled (registered 2)\n"
     ]
    }
   ],
   "source": [
    " \n",
    "T_serial[Vax.total.value]['posterior_init'] = {'loc': tfp.math.softplus_inverse(synth_T_serial),\n",
    "                                     'scale':tf.cast(tfp.math.softplus_inverse(T_serial_scale),dtype=tf.float32)}\n",
    "\n",
    "rho_M[Vax.total.value]['posterior_init'] = {'loc': tf.cast(np.log(synth_rho_M/(1-synth_rho_M)),dtype=tf.float32),\n",
    "                                      'scale':tf.cast(tfp.math.softplus_inverse(rho_M_scale),dtype=tf.float32)}\n",
    "\n",
    "lambda_M[Vax.total.value]['posterior_init'] = {'loc': tf.cast(tfp.math.softplus_inverse(synth_lambda_M),dtype=tf.float32),\n",
    "                                         'scale':tf.cast(tfp.math.softplus_inverse(lambda_M_scale),dtype=tf.float32)}\n",
    "\n",
    "nu_M[Vax.total.value]['posterior_init'] = {'loc': tf.cast(tfp.math.softplus_inverse(synth_nu_M),dtype=tf.float32),\n",
    "                                     'scale':tf.cast(tfp.math.softplus_inverse(nu_M_scale),dtype=tf.float32)}\n",
    "\n",
    "for day in range(transition_window):\n",
    "    # must be positive so reverse softplus the mean\n",
    "    warmup_A_params[Vax.total.value]['posterior_init'].append({'loc': tf.cast(tfp.math.softplus_inverse(warmup_asymp[day]),dtype=tf.float32),\n",
    "                                                         'scale': tf.cast(tfp.math.softplus_inverse(warmup_scales[day]),dtype=tf.float32)})#tf.cast(tfp.math.softplus_inverse(warmup_asymp[day]/10),dtype=tf.float32)})\n",
    "\n",
    "model = CovidModel([Vax.total], [Comp.A, Comp.M],\n",
    "                 transition_window,\n",
    "                T_serial, rho_M, lambda_M, nu_M,\n",
    "                 warmup_A_params, posterior_samples=1000)\n",
    "\n",
    "loss = LogPoissonProb() \n",
    "optimizer = tf.keras.optimizers.SGD(\n",
    "    learning_rate=learning_rate, #momentum=0.98, nesterov=False, name='SGD'\n",
    ")\n",
    "\n",
    "with tf.GradientTape() as tape:\n",
    "    model._constrain_parameters()\n",
    "    model._sample_and_reparameterize()\n",
    "    model._add_prior_loss()\n",
    "    loss_val = sum(model.losses)"
   ]
  },
  {
   "cell_type": "code",
   "execution_count": 14,
   "id": "9830aecc",
   "metadata": {},
   "outputs": [
    {
     "data": {
      "text/plain": [
       "<tf.Tensor: shape=(1000,), dtype=float32, numpy=\n",
       "array([0.01952894, 0.00145729, 0.0018744 , 0.00131934, 0.00428906,\n",
       "       0.00147112, 0.00433148, 0.01709144, 0.00182037, 0.00167252,\n",
       "       0.00220884, 0.00229325, 0.00350728, 0.00148619, 0.00265752,\n",
       "       0.00443692, 0.00196534, 0.01311308, 0.05423368, 0.00308103,\n",
       "       0.00116908, 0.00170279, 0.00429723, 0.01038291, 0.00643191,\n",
       "       0.00385537, 0.00206879, 0.00144968, 0.03456198, 0.06925512,\n",
       "       0.0253077 , 0.0035436 , 0.00217361, 0.00161645, 0.00303355,\n",
       "       0.00187355, 0.00252607, 0.00137878, 0.00154347, 0.0035559 ,\n",
       "       0.00738007, 0.00140918, 0.00888843, 0.00301029, 0.00419536,\n",
       "       0.00969133, 0.0014859 , 0.00366211, 0.00110381, 0.00156658,\n",
       "       0.0041184 , 0.0014154 , 0.03857578, 0.0017721 , 0.00326101,\n",
       "       0.00585897, 0.02493339, 0.00271512, 0.00215861, 0.0040522 ,\n",
       "       0.00509723, 0.00271698, 0.00172391, 0.00247081, 0.00174468,\n",
       "       0.00669833, 0.06304649, 0.00172182, 0.00148789, 0.00206581,\n",
       "       0.00322575, 0.02587932, 0.00155906, 0.00161917, 0.00466769,\n",
       "       0.00143163, 0.0022041 , 0.00197675, 0.00981225, 0.00187619,\n",
       "       0.00224841, 0.00575268, 0.02937305, 0.00145344, 0.00129975,\n",
       "       0.01047237, 0.00196046, 0.00159548, 0.05114121, 0.00777899,\n",
       "       0.0206954 , 0.008927  , 0.00143913, 0.01491214, 0.0071461 ,\n",
       "       0.00375705, 0.002043  , 0.00223894, 0.01192991, 0.00351034,\n",
       "       0.00205225, 0.00235293, 0.00327005, 0.00128042, 0.10584652,\n",
       "       0.00357995, 0.0037672 , 0.00181381, 0.00195771, 0.00170675,\n",
       "       0.00137974, 0.00274008, 0.00410136, 0.0030203 , 0.01078489,\n",
       "       0.00136043, 0.0022909 , 0.00189614, 0.01059922, 0.00393809,\n",
       "       0.00268513, 0.02091188, 0.00174817, 0.3352834 , 0.00155191,\n",
       "       0.00250352, 0.00493739, 0.00138563, 0.00235761, 0.00343132,\n",
       "       0.0013885 , 0.0149032 , 0.00251163, 0.00159089, 0.00322063,\n",
       "       0.00167663, 0.00512501, 0.00889317, 0.0053325 , 0.00173655,\n",
       "       0.00167687, 0.00190918, 0.0154917 , 0.00396108, 0.00127922,\n",
       "       0.00118339, 0.00223128, 0.00146875, 0.00163199, 0.04432034,\n",
       "       0.00121054, 0.02077705, 0.01788899, 0.00128121, 0.02693956,\n",
       "       0.08362744, 0.00652076, 0.00224283, 0.00161237, 0.00227866,\n",
       "       0.00546289, 0.00108569, 0.01000902, 0.0017883 , 0.00822557,\n",
       "       0.00278667, 0.00182818, 0.01777903, 0.00356336, 0.01290081,\n",
       "       0.0029744 , 0.00243432, 0.00383088, 0.00220987, 0.01108215,\n",
       "       0.08113867, 0.00121189, 0.00252983, 0.00579125, 0.00153948,\n",
       "       0.00282538, 0.00157852, 0.00540849, 0.00455239, 0.00407618,\n",
       "       0.00202281, 0.00261199, 0.00212903, 0.00249321, 0.02407961,\n",
       "       0.024416  , 0.0012975 , 0.00287788, 0.00157924, 0.0024434 ,\n",
       "       0.00624439, 0.00609345, 0.00178537, 0.00146839, 0.00213506,\n",
       "       0.01653826, 0.00342413, 0.19971658, 0.00357659, 0.00318164,\n",
       "       0.00310048, 0.00189832, 0.00382234, 0.00670129, 0.00795846,\n",
       "       0.00345992, 0.00631948, 0.01580521, 0.00462196, 0.00243448,\n",
       "       0.03178692, 0.00183788, 0.00155425, 0.00241588, 0.00174411,\n",
       "       0.00191208, 0.00374573, 0.00496731, 0.00954296, 0.00290396,\n",
       "       0.00344564, 0.00525447, 0.01034548, 0.00608722, 0.00155376,\n",
       "       0.00260274, 0.00146973, 0.00972899, 0.00264159, 0.00349242,\n",
       "       0.01052035, 0.00224459, 0.02142088, 0.00716701, 0.00886758,\n",
       "       0.00552781, 0.00361695, 0.02726837, 0.00153257, 0.00262336,\n",
       "       0.00221007, 0.00532554, 0.00136218, 0.00252825, 0.0023912 ,\n",
       "       0.00140162, 0.00174066, 0.0028185 , 0.00240156, 0.01454288,\n",
       "       0.00126129, 0.01013757, 0.00264741, 0.00174734, 0.01025003,\n",
       "       0.01464274, 0.04577621, 0.00219907, 0.04988775, 0.00254522,\n",
       "       0.00191246, 0.00175706, 0.03045533, 0.00138125, 0.00628041,\n",
       "       0.00277882, 0.01137104, 0.00240849, 0.00285069, 0.00440887,\n",
       "       0.02410435, 0.00312237, 0.00172881, 0.01394466, 0.00309237,\n",
       "       0.00103431, 0.00254797, 0.01463682, 0.00902572, 0.00130695,\n",
       "       0.0012689 , 0.00476902, 0.00157074, 0.00473226, 0.00309076,\n",
       "       0.00230317, 0.00135449, 0.00853282, 0.00182228, 0.00144349,\n",
       "       0.00686246, 0.00141394, 0.00573336, 0.00132221, 0.00443616,\n",
       "       0.00200602, 0.00284491, 0.01886401, 0.0028627 , 0.02619858,\n",
       "       0.00296187, 0.01476417, 0.00363129, 0.00208223, 0.00145819,\n",
       "       0.00175085, 0.00158687, 0.00322095, 0.00184003, 0.00151531,\n",
       "       0.00114943, 0.00355232, 0.00151006, 0.00490518, 0.00206433,\n",
       "       0.0030427 , 0.00220828, 0.00188118, 0.00759087, 0.0017236 ,\n",
       "       0.00148571, 0.00200612, 0.00257366, 0.00182796, 0.00342231,\n",
       "       0.00137067, 0.19000426, 0.00687287, 0.00686124, 0.00157236,\n",
       "       0.01250902, 0.00199739, 0.0017385 , 0.00430064, 0.03378129,\n",
       "       0.00184176, 0.00211215, 0.00192489, 0.0012914 , 0.00141319,\n",
       "       0.00629145, 0.00215159, 0.01675874, 0.001429  , 0.01431743,\n",
       "       0.02199452, 0.00173079, 0.00167086, 0.00138969, 0.00214073,\n",
       "       0.00165122, 0.00283764, 0.00093835, 0.00329869, 0.00948121,\n",
       "       0.0086946 , 0.00154178, 0.00210768, 0.0028437 , 0.00363571,\n",
       "       0.00283158, 0.03992206, 0.00536477, 0.00318608, 0.00375286,\n",
       "       0.00171748, 0.00257212, 0.00188088, 0.0233631 , 0.00311982,\n",
       "       0.00277737, 0.00161157, 0.01481883, 0.00213758, 0.00175377,\n",
       "       0.02448098, 0.00255835, 0.05004702, 0.00766202, 0.02350274,\n",
       "       0.00196758, 0.01035556, 0.01378226, 0.00119366, 0.0028363 ,\n",
       "       0.00449085, 0.004926  , 0.0020552 , 0.00166579, 0.00221973,\n",
       "       0.00134929, 0.00230094, 0.00394974, 0.00539474, 0.00171466,\n",
       "       0.00186685, 0.03798078, 0.00265723, 0.00181298, 0.01984258,\n",
       "       0.00525796, 0.00219525, 0.00180559, 0.01231699, 0.00135355,\n",
       "       0.00231742, 0.0015361 , 0.00576932, 0.00364751, 0.0061752 ,\n",
       "       0.0019068 , 0.00562349, 0.00153516, 0.00121252, 0.00205201,\n",
       "       0.00148903, 0.00123484, 0.0015032 , 0.00271869, 0.00137212,\n",
       "       0.0021716 , 0.00372522, 0.00969749, 0.0296592 , 0.01034841,\n",
       "       0.00218825, 0.08737714, 0.0019869 , 0.00149338, 0.04653599,\n",
       "       0.01456257, 0.00700507, 0.00517071, 0.0014932 , 0.01398831,\n",
       "       0.00218403, 0.00278469, 0.00188395, 0.00148127, 0.00242166,\n",
       "       0.00163369, 0.00333662, 0.00145568, 0.00289023, 0.00195595,\n",
       "       0.00602246, 0.00192146, 0.00162109, 0.00152322, 0.00286181,\n",
       "       0.00182653, 0.0257345 , 0.00195103, 0.01724358, 0.00985869,\n",
       "       0.00715809, 0.00461445, 0.00139946, 0.00201572, 0.01632158,\n",
       "       0.00259876, 0.00635002, 0.00563886, 0.00199155, 0.00348978,\n",
       "       0.00136431, 0.01994302, 0.0036413 , 0.00173341, 0.00232032,\n",
       "       0.00895909, 0.00247507, 0.00177125, 0.00228263, 0.00405078,\n",
       "       0.00936111, 0.01079942, 0.00336099, 0.00317234, 0.00668109,\n",
       "       0.00377869, 0.01021588, 0.00249188, 0.00170255, 0.00356923,\n",
       "       0.01698564, 0.00264649, 0.00171826, 0.00385109, 0.00697862,\n",
       "       0.00175237, 0.00528339, 0.00824733, 0.00202283, 0.00147525,\n",
       "       0.00766026, 0.00366582, 0.00303566, 0.00269752, 0.00178509,\n",
       "       0.00158421, 0.00203194, 0.0022228 , 0.00093379, 0.00207275,\n",
       "       0.01238087, 0.00367308, 0.01212329, 0.00305772, 0.00358514,\n",
       "       0.00621014, 0.03072714, 0.12105092, 0.00215099, 0.00314675,\n",
       "       0.00188659, 0.0030111 , 0.00114755, 0.00961307, 0.01233813,\n",
       "       0.01063649, 0.00901238, 0.01511597, 0.00276713, 0.01296153,\n",
       "       0.01213862, 0.01386653, 0.00348221, 0.00303958, 0.0015074 ,\n",
       "       0.00133415, 0.00147298, 0.00548256, 0.00197435, 0.08604132,\n",
       "       0.00149487, 0.03531583, 0.00265413, 0.00152184, 0.00264202,\n",
       "       0.01633965, 0.00181509, 0.00364557, 0.00967564, 0.00237717,\n",
       "       0.00312554, 0.00146026, 0.00289648, 0.00992463, 0.00734818,\n",
       "       0.00474142, 0.00466528, 0.00417921, 0.00472084, 0.00147378,\n",
       "       0.00206404, 0.00525384, 0.03620614, 0.00118989, 0.00377602,\n",
       "       0.00770509, 0.00370791, 0.00205003, 0.0016369 , 0.00200216,\n",
       "       0.00446962, 0.00172397, 0.03074881, 0.00248263, 0.0102068 ,\n",
       "       0.00159022, 0.00479488, 0.03178692, 0.04885121, 0.0107945 ,\n",
       "       0.00206239, 0.005613  , 0.00198244, 0.06162478, 0.00541183,\n",
       "       0.00327614, 0.00664207, 0.00455035, 0.01399505, 0.0016431 ,\n",
       "       0.00164253, 0.00392237, 0.00173164, 0.00862307, 0.0017182 ,\n",
       "       0.00274415, 0.03178784, 0.00304195, 0.0041997 , 0.01252444,\n",
       "       0.01323544, 0.0144954 , 0.00705591, 0.00555574, 0.00351157,\n",
       "       0.02414154, 0.00598419, 0.0026644 , 0.00414651, 0.00341436,\n",
       "       0.00178607, 0.00177835, 0.00262338, 0.00178781, 0.00749204,\n",
       "       0.00136835, 0.00226783, 0.00168604, 0.00289536, 0.00128905,\n",
       "       0.04819347, 0.03429659, 0.00572505, 0.00333996, 0.00136462,\n",
       "       0.00341422, 0.00200744, 0.00590479, 0.00192896, 0.00754759,\n",
       "       0.00636946, 0.0032053 , 0.00161536, 0.00320149, 0.00551633,\n",
       "       0.1043844 , 0.00262167, 0.00317976, 0.00221702, 0.00325781,\n",
       "       0.01284385, 0.00123413, 0.00322026, 0.00208356, 0.00225835,\n",
       "       0.00280571, 0.0045491 , 0.01297472, 0.00394454, 0.00232007,\n",
       "       0.00188404, 0.00509647, 0.00158084, 0.00226812, 0.003902  ,\n",
       "       0.00485318, 0.00549308, 0.00595865, 0.01727523, 0.00168456,\n",
       "       0.00785075, 0.00254026, 0.00321779, 0.00134776, 0.00377987,\n",
       "       0.00273666, 0.00166328, 0.04011074, 0.00245313, 0.00197427,\n",
       "       0.00395662, 0.001941  , 0.00245162, 0.01523604, 0.00135379,\n",
       "       0.00131052, 0.00186085, 0.01482702, 0.00162648, 0.00149623,\n",
       "       0.00295611, 0.00701982, 0.00158122, 0.00548594, 0.00120359,\n",
       "       0.00181798, 0.00116969, 0.00174831, 0.01302389, 0.00412779,\n",
       "       0.0610515 , 0.0120092 , 0.00412525, 0.01029976, 0.00569924,\n",
       "       0.0015522 , 0.00349543, 0.00165345, 0.00151213, 0.02031462,\n",
       "       0.00153267, 0.00483199, 0.01083376, 0.00503405, 0.03596661,\n",
       "       0.00384916, 0.02685212, 0.00188471, 0.0126128 , 0.00175331,\n",
       "       0.00760091, 0.00580345, 0.00814476, 0.00384564, 0.02575073,\n",
       "       0.00464827, 0.0020043 , 0.00126796, 0.37593013, 0.00165709,\n",
       "       0.00300629, 0.00727356, 0.00114457, 0.00147413, 0.00244098,\n",
       "       0.04203059, 0.00140217, 0.00226514, 0.0020176 , 0.00324704,\n",
       "       0.01533071, 0.00253284, 0.00331444, 0.00139112, 0.01563302,\n",
       "       0.00640675, 0.00330229, 0.03388788, 0.00138964, 0.00202958,\n",
       "       0.00179712, 0.00178473, 0.00107443, 0.00358413, 0.00181289,\n",
       "       0.00322756, 0.00166434, 0.01023563, 0.02532585, 0.00314771,\n",
       "       0.00301117, 0.00220488, 0.00750968, 0.06885254, 0.0019207 ,\n",
       "       0.00152024, 0.01090738, 0.00211034, 0.02330553, 0.0023746 ,\n",
       "       0.00761682, 0.00206393, 0.00412769, 0.00130993, 0.0057724 ,\n",
       "       0.01591176, 0.00342018, 0.00149139, 0.00105475, 0.00247866,\n",
       "       0.00121783, 0.00423398, 0.00189562, 0.00294465, 0.02020284,\n",
       "       0.00847602, 0.00364098, 0.00143531, 0.00786135, 0.00254326,\n",
       "       0.0027638 , 0.01506878, 0.00184536, 0.00351944, 0.0019271 ,\n",
       "       0.00445642, 0.00814273, 0.0012581 , 0.01044946, 0.00221935,\n",
       "       0.01002695, 0.00243416, 0.00274664, 0.00137496, 0.00200591,\n",
       "       0.00470596, 0.00192079, 0.00166842, 0.00163901, 0.01063628,\n",
       "       0.00163637, 0.00175954, 0.00193829, 0.00803661, 0.00936421,\n",
       "       0.00479384, 0.01060054, 0.00156468, 0.00335714, 0.00640739,\n",
       "       0.00415509, 0.00198744, 0.00156578, 0.00271692, 0.001507  ,\n",
       "       0.00642322, 0.00158165, 0.00186706, 0.00686557, 0.00274219,\n",
       "       0.00107188, 0.00684819, 0.001043  , 0.0028272 , 0.16044587,\n",
       "       0.00436626, 0.00172004, 0.00329937, 0.00141157, 0.00315148,\n",
       "       0.00176325, 0.31575483, 0.00164721, 0.00203323, 0.00142596,\n",
       "       0.00161244, 0.00140085, 0.02069691, 0.00868167, 0.00344068,\n",
       "       0.0020731 , 0.0035462 , 0.00104315, 0.00547662, 0.00404376,\n",
       "       0.00223147, 0.00522355, 0.00189501, 0.00601688, 0.0070417 ,\n",
       "       0.00991557, 0.00119303, 0.05693217, 0.00129872, 0.0023701 ,\n",
       "       0.00214892, 0.00207716, 0.03328854, 0.00187287, 0.01377261,\n",
       "       0.00136091, 0.00170897, 0.00877247, 0.00137135, 0.00171441,\n",
       "       0.00166861, 0.00190208, 0.00767738, 0.00301314, 0.00153029,\n",
       "       0.0013489 , 0.00428367, 0.00175915, 0.00244762, 0.00208648,\n",
       "       0.00352486, 0.00114376, 0.00148961, 0.00166902, 0.00272482,\n",
       "       0.00177471, 0.00149914, 0.00083648, 0.00331709, 0.00208726,\n",
       "       0.01302121, 0.00517838, 0.00647509, 0.00131299, 0.00237178,\n",
       "       0.00469466, 0.02038657, 0.03998078, 0.00228855, 0.00323721,\n",
       "       0.02146689, 0.17256986, 0.04531623, 0.00168938, 0.03880968,\n",
       "       0.00216279, 0.00544578, 0.01145891, 0.0320635 , 0.00251342,\n",
       "       0.00386042, 0.00206548, 0.00176391, 0.01284289, 0.00472817,\n",
       "       0.00160901, 0.00457686, 0.00269356, 0.0040421 , 0.00146517,\n",
       "       0.00127156, 0.00135639, 0.00145516, 0.00339315, 0.00624811,\n",
       "       0.04101309, 0.00268086, 0.00218451, 0.0249783 , 0.06887408,\n",
       "       0.00154389, 0.00143896, 0.00304213, 0.00176424, 0.00159527,\n",
       "       0.00669576, 0.0014939 , 0.00727427, 0.00473659, 0.00143264,\n",
       "       0.00725433, 0.02455182, 0.00519811, 0.0248707 , 0.01118454,\n",
       "       0.00212009, 0.00861667, 0.0013521 , 0.00487493, 0.05440696,\n",
       "       0.00892516, 0.00133393, 0.00303851, 0.00300437, 0.00313868,\n",
       "       0.00165477, 0.00186421, 0.03421509, 0.00147444, 0.00265477,\n",
       "       0.01887516, 0.00471257, 0.00637743, 0.00630349, 0.01409544,\n",
       "       0.00253311, 0.00417117, 0.00215158, 0.00156735, 0.00370202,\n",
       "       0.00383351, 0.00314538, 0.00137637, 0.00905007, 0.00257793,\n",
       "       0.00162663, 0.02623658, 0.00485442, 0.01606773, 0.00094225,\n",
       "       0.00176033, 0.00191497, 0.00234833, 0.00344774, 0.00145413,\n",
       "       0.00192452, 0.0081779 , 0.00121215, 0.00374148, 0.00111095,\n",
       "       0.00286579, 0.01513548, 0.00241629, 0.00165668, 0.00214906,\n",
       "       0.00134024, 0.00218482, 0.01896985, 0.01026009, 0.00425071,\n",
       "       0.01675494, 0.01236058, 0.04849331, 0.00129619, 0.00258351],\n",
       "      dtype=float32)>"
      ]
     },
     "execution_count": 14,
     "metadata": {},
     "output_type": "execute_result"
    }
   ],
   "source": [
    "model.prior_distros[Comp.A.value][Vax.total.value]['T_serial'].log_prob(model.T_serial_samples_constrained) * \\\n",
    "            tfp.bijectors.Softplus().forward_log_det_jacobian(model.T_serial_samples)"
   ]
  },
  {
   "cell_type": "code",
   "execution_count": 15,
   "id": "4db364f2",
   "metadata": {},
   "outputs": [],
   "source": [
    "alternative_T_serial_prior = scipy.stats.norm(5.8,1)"
   ]
  },
  {
   "cell_type": "code",
   "execution_count": 16,
   "id": "14e03462",
   "metadata": {},
   "outputs": [],
   "source": [
    "u_Tserial_range = np.linspace(1e-8,10,1000)"
   ]
  },
  {
   "cell_type": "code",
   "execution_count": 17,
   "id": "d741860c",
   "metadata": {},
   "outputs": [],
   "source": [
    "prior_probabilities_from_model = model.prior_distros[Comp.A.value][Vax.total.value]['T_serial'].log_prob(u_Tserial_range) + \\\n",
    "            tfp.bijectors.Softplus().forward_log_det_jacobian(\n",
    "            tf.cast(tfp.bijectors.Softplus().inverse(u_Tserial_range),\n",
    "                    dtype=tf.float32)\n",
    ")"
   ]
  },
  {
   "cell_type": "code",
   "execution_count": 18,
   "id": "a2739dde",
   "metadata": {},
   "outputs": [
    {
     "data": {
      "text/plain": [
       "[<matplotlib.lines.Line2D at 0x7f591c27eb50>]"
      ]
     },
     "execution_count": 18,
     "metadata": {},
     "output_type": "execute_result"
    },
    {
     "data": {
      "image/png": "[encoded data removed]",
      "text/plain": [
       "<Figure size 432x288 with 1 Axes>"
      ]
     },
     "metadata": {
      "needs_background": "light"
     },
     "output_type": "display_data"
    }
   ],
   "source": [
    "plt.plot(u_Tserial_range, prior_probabilities_from_model)"
   ]
  },
  {
   "cell_type": "code",
   "execution_count": 19,
   "id": "6354abab",
   "metadata": {},
   "outputs": [],
   "source": [
    "alternative_log_probs = alternative_T_serial_prior.logpdf(u_Tserial_range)\n",
    "unconstrained_thetas = np.log(np.exp(u_Tserial_range) - 1.)\n",
    "jacobian_adjustment = np.exp(unconstrained_thetas)/(1+np.exp(unconstrained_thetas))\n",
    "prior_probabilities_hand_calc = alternative_log_probs +  np.log(jacobian_adjustment)"
   ]
  },
  {
   "cell_type": "code",
   "execution_count": 20,
   "id": "6d543bdf",
   "metadata": {},
   "outputs": [
    {
     "data": {
      "text/plain": [
       "Text(0.5, 1.0, 'Prior Probability vs T_serial')"
      ]
     },
     "execution_count": 20,
     "metadata": {},
     "output_type": "execute_result"
    },
    {
     "data": {
      "image/png": "[encoded data removed]",
      "text/plain": [
       "<Figure size 432x288 with 1 Axes>"
      ]
     },
     "metadata": {
      "needs_background": "light"
     },
     "output_type": "display_data"
    }
   ],
   "source": [
    "plt.plot(u_Tserial_range, prior_probabilities_hand_calc)\n",
    "plt.title('Prior Probability vs T_serial')"
   ]
  },
  {
   "cell_type": "code",
   "execution_count": 21,
   "id": "d0e38f6a",
   "metadata": {},
   "outputs": [
    {
     "data": {
      "text/plain": [
       "Text(0.5, 1.0, 'Transformed Prior Likelihood vs T_serial')"
      ]
     },
     "execution_count": 21,
     "metadata": {},
     "output_type": "execute_result"
    },
    {
     "data": {
      "image/png": "[encoded data removed]",
      "text/plain": [
       "<Figure size 432x288 with 1 Axes>"
      ]
     },
     "metadata": {
      "needs_background": "light"
     },
     "output_type": "display_data"
    }
   ],
   "source": [
    "plt.plot(u_Tserial_range,alternative_log_probs)\n",
    "plt.title('Transformed Prior Likelihood vs T_serial')"
   ]
  },
  {
   "cell_type": "raw",
   "id": "c8bb8bdc",
   "metadata": {},
   "source": [
    "plt.plot(u_Tserial_range, jacobian_adjustment)\n",
    "plt.title('Jacobian Adjustment vs T_serial')"
   ]
  },
  {
   "cell_type": "code",
   "execution_count": 22,
   "id": "dc556f44",
   "metadata": {},
   "outputs": [],
   "source": [
    "T_serial_variational_posterior = tfp.distributions.Normal(model.T_serial_params[Vax.total.value]['loc'],\n",
    "                                                                  model.T_serial_params[Vax.total.value]['scale'])"
   ]
  },
  {
   "cell_type": "code",
   "execution_count": 23,
   "id": "21ee12c8",
   "metadata": {},
   "outputs": [],
   "source": [
    "T_serial_probs = T_serial_variational_posterior.log_prob(u_Tserial_range)"
   ]
  },
  {
   "cell_type": "code",
   "execution_count": 24,
   "id": "e69175c4",
   "metadata": {},
   "outputs": [
    {
     "data": {
      "text/plain": [
       "Text(0.5, 1.0, 'Transformed Posterior Likelihood vs T_serial')"
      ]
     },
     "execution_count": 24,
     "metadata": {},
     "output_type": "execute_result"
    },
    {
     "data": {
      "image/png": "[encoded data removed]",
      "text/plain": [
       "<Figure size 432x288 with 1 Axes>"
      ]
     },
     "metadata": {
      "needs_background": "light"
     },
     "output_type": "display_data"
    }
   ],
   "source": [
    "plt.plot(u_Tserial_range,T_serial_probs)\n",
    "plt.title('Transformed Posterior Likelihood vs T_serial')"
   ]
  },
  {
   "cell_type": "code",
   "execution_count": 25,
   "id": "fcfbc12c",
   "metadata": {},
   "outputs": [
    {
     "data": {
      "text/plain": [
       "[<matplotlib.lines.Line2D at 0x7f58f467e510>]"
      ]
     },
     "execution_count": 25,
     "metadata": {},
     "output_type": "execute_result"
    },
    {
     "data": {
      "image/png": "[encoded data removed]",
      "text/plain": [
       "<Figure size 432x288 with 1 Axes>"
      ]
     },
     "metadata": {
      "needs_background": "light"
     },
     "output_type": "display_data"
    }
   ],
   "source": [
    "plt.plot(u_Tserial_range,prior_probabilities_hand_calc-T_serial_probs)"
   ]
  },
  {
   "cell_type": "code",
   "execution_count": 26,
   "id": "c4a0d5e6",
   "metadata": {},
   "outputs": [
    {
     "data": {
      "text/plain": [
       "<tf.Tensor: shape=(), dtype=float32, numpy=0.012693405>"
      ]
     },
     "execution_count": 26,
     "metadata": {},
     "output_type": "execute_result"
    }
   ],
   "source": [
    "max(prior_probabilities_hand_calc-T_serial_probs)"
   ]
  },
  {
   "cell_type": "code",
   "execution_count": 30,
   "id": "3d72fbb0",
   "metadata": {},
   "outputs": [
    {
     "data": {
      "text/plain": [
       "<tf.Tensor: shape=(1000,), dtype=float32, numpy=\n",
       "array([-1.84382610e+01, -4.62672234e+00, -3.93853760e+00, -3.53802681e+00,\n",
       "       -3.25528908e+00, -3.03708458e+00, -2.85968971e+00, -2.71046066e+00,\n",
       "       -2.58184052e+00, -2.46896172e+00, -2.36849594e+00, -2.27807236e+00,\n",
       "       -2.19594002e+00, -2.12076759e+00, -2.05152130e+00, -1.98738289e+00,\n",
       "       -1.92768669e+00, -1.87190056e+00, -1.81957054e+00, -1.77032471e+00,\n",
       "       -1.72384262e+00, -1.67985725e+00, -1.63813019e+00, -1.59846687e+00,\n",
       "       -1.56068611e+00, -1.52463341e+00, -1.49017334e+00, -1.45718765e+00,\n",
       "       -1.42556572e+00, -1.39521217e+00, -1.36603737e+00, -1.33796787e+00,\n",
       "       -1.31093121e+00, -1.28486443e+00, -1.25970554e+00, -1.23540688e+00,\n",
       "       -1.21191597e+00, -1.18918610e+00, -1.16717815e+00, -1.14585876e+00,\n",
       "       -1.12518883e+00, -1.10513020e+00, -1.08566380e+00, -1.06675243e+00,\n",
       "       -1.04837799e+00, -1.03050709e+00, -1.01312542e+00, -9.96206284e-01,\n",
       "       -9.79733467e-01, -9.63683128e-01, -9.48044777e-01, -9.32796478e-01,\n",
       "       -9.17925835e-01, -9.03414726e-01, -8.89253616e-01, -8.75425339e-01,\n",
       "       -8.61921310e-01, -8.48726273e-01, -8.35833549e-01, -8.23225975e-01,\n",
       "       -8.10900688e-01, -7.98842430e-01, -7.87047386e-01, -7.75502205e-01,\n",
       "       -7.64203072e-01, -7.53137589e-01, -7.42302895e-01, -7.31687546e-01,\n",
       "       -7.21288681e-01, -7.11095810e-01, -7.01107025e-01, -6.91311836e-01,\n",
       "       -6.81709290e-01, -6.72289848e-01, -6.63051605e-01, -6.53987885e-01,\n",
       "       -6.45092010e-01, -6.36360168e-01, -6.27791405e-01, -6.19379997e-01,\n",
       "       -6.11117363e-01, -6.03003502e-01, -5.95035553e-01, -5.87209702e-01,\n",
       "       -5.79517365e-01, -5.71961403e-01, -5.64533234e-01, -5.57235718e-01,\n",
       "       -5.50058365e-01, -5.43004990e-01, -5.36067963e-01, -5.29248238e-01,\n",
       "       -5.22539139e-01, -5.15942574e-01, -5.09450912e-01, -5.03067017e-01,\n",
       "       -4.96784210e-01, -4.90603447e-01, -4.84519005e-01, -4.78532791e-01,\n",
       "       -4.72638130e-01, -4.66838837e-01, -4.61126328e-01, -4.55505371e-01,\n",
       "       -4.49966431e-01, -4.44516182e-01, -4.39146042e-01, -4.33859825e-01,\n",
       "       -4.28648949e-01, -4.23520088e-01, -4.18466568e-01, -4.13485527e-01,\n",
       "       -4.08577919e-01, -4.03745651e-01, -3.98982048e-01, -3.94286156e-01,\n",
       "       -3.89657974e-01, -3.85098457e-01, -3.80604744e-01, -3.76172066e-01,\n",
       "       -3.71803284e-01, -3.67497444e-01, -3.63252640e-01, -3.59064102e-01,\n",
       "       -3.54934692e-01, -3.50864410e-01, -3.46850395e-01, -3.42889786e-01,\n",
       "       -3.38983536e-01, -3.35132599e-01, -3.31334114e-01, -3.27585220e-01,\n",
       "       -3.23887825e-01, -3.20239067e-01, -3.16641808e-01, -3.13089371e-01,\n",
       "       -3.09587479e-01, -3.06128502e-01, -3.02718163e-01, -2.99350739e-01,\n",
       "       -2.96029091e-01, -2.92749405e-01, -2.89513588e-01, -2.86317825e-01,\n",
       "       -2.83165932e-01, -2.80053139e-01, -2.76982307e-01, -2.73947716e-01,\n",
       "       -2.70955086e-01, -2.67999649e-01, -2.65079498e-01, -2.62197495e-01,\n",
       "       -2.59353638e-01, -2.56546021e-01, -2.53769875e-01, -2.51029968e-01,\n",
       "       -2.48326302e-01, -2.45655060e-01, -2.43016243e-01, -2.40409851e-01,\n",
       "       -2.37836838e-01, -2.35296249e-01, -2.32784271e-01, -2.30303764e-01,\n",
       "       -2.27855682e-01, -2.25437164e-01, -2.23045349e-01, -2.20683098e-01,\n",
       "       -2.18351364e-01, -2.16047287e-01, -2.13769913e-01, -2.11521149e-01,\n",
       "       -2.09297180e-01, -2.07102776e-01, -2.04932213e-01, -2.02789307e-01,\n",
       "       -2.00669289e-01, -1.98576927e-01, -1.96507454e-01, -1.94463730e-01,\n",
       "       -1.92442894e-01, -1.90447807e-01, -1.88472748e-01, -1.86523438e-01,\n",
       "       -1.84596062e-01, -1.82691574e-01, -1.80807114e-01, -1.78947449e-01,\n",
       "       -1.77106857e-01, -1.75289154e-01, -1.73492432e-01, -1.71715736e-01,\n",
       "       -1.69959068e-01, -1.68223381e-01, -1.66506767e-01, -1.64810181e-01,\n",
       "       -1.63133621e-01, -1.61474228e-01, -1.59834862e-01, -1.58213615e-01,\n",
       "       -1.56611443e-01, -1.55027390e-01, -1.53460503e-01, -1.51911736e-01,\n",
       "       -1.50379658e-01, -1.48865223e-01, -1.47367001e-01, -1.45886898e-01,\n",
       "       -1.44422531e-01, -1.42974854e-01, -1.41542435e-01, -1.40126705e-01,\n",
       "       -1.38726711e-01, -1.37341499e-01, -1.35972023e-01, -1.34617805e-01,\n",
       "       -1.33278370e-01, -1.31953716e-01, -1.30643368e-01, -1.29348278e-01,\n",
       "       -1.28066540e-01, -1.26799107e-01, -1.25545025e-01, -1.24305248e-01,\n",
       "       -1.23078823e-01, -1.21865273e-01, -1.20665073e-01, -1.19477749e-01,\n",
       "       -1.18303299e-01, -1.17141724e-01, -1.15992546e-01, -1.14855766e-01,\n",
       "       -1.13731384e-01, -1.12618446e-01, -1.11518383e-01, -1.10429287e-01,\n",
       "       -1.09352112e-01, -1.08286858e-01, -1.07232094e-01, -1.06189251e-01,\n",
       "       -1.05157852e-01, -1.04136467e-01, -1.03126049e-01, -1.02126598e-01,\n",
       "       -1.01138115e-01, -1.00159645e-01, -9.91916656e-02, -9.82336998e-02,\n",
       "       -9.72862244e-02, -9.63482857e-02, -9.54203606e-02, -9.45019722e-02,\n",
       "       -9.35931206e-02, -9.26942825e-02, -9.18045044e-02, -9.09242630e-02,\n",
       "       -9.00526047e-02, -8.91904831e-02, -8.83374214e-02, -8.74938965e-02,\n",
       "       -8.66584778e-02, -8.58311653e-02, -8.50129128e-02, -8.42027664e-02,\n",
       "       -8.34012032e-02, -8.26077461e-02, -8.18228722e-02, -8.10461044e-02,\n",
       "       -8.02769661e-02, -7.95154572e-02, -7.87625313e-02, -7.80167580e-02,\n",
       "       -7.72786140e-02, -7.65480995e-02, -7.58252144e-02, -7.51094818e-02,\n",
       "       -7.44013786e-02, -7.36999512e-02, -7.30066299e-02, -7.23195076e-02,\n",
       "       -7.16390610e-02, -7.09662437e-02, -7.03001022e-02, -6.96401596e-02,\n",
       "       -6.89873695e-02, -6.83407784e-02, -6.77008629e-02, -6.70676231e-02,\n",
       "       -6.64405823e-02, -6.58197403e-02, -6.52050972e-02, -6.45971298e-02,\n",
       "       -6.39944077e-02, -6.33988380e-02, -6.28080368e-02, -6.22239113e-02,\n",
       "       -6.16450310e-02, -6.10723495e-02, -6.05049133e-02, -5.99441528e-02,\n",
       "       -5.93886375e-02, -5.88378906e-02, -5.82928658e-02, -5.77530861e-02,\n",
       "       -5.72190285e-02, -5.66902161e-02, -5.61661720e-02, -5.56478500e-02,\n",
       "       -5.51338196e-02, -5.46255112e-02, -5.41219711e-02, -5.36231995e-02,\n",
       "       -5.31296730e-02, -5.26404381e-02, -5.21569252e-02, -5.16772270e-02,\n",
       "       -5.12022972e-02, -5.07321358e-02, -5.02667427e-02, -4.98056412e-02,\n",
       "       -4.93493080e-02, -4.88967896e-02, -4.84495163e-02, -4.80060577e-02,\n",
       "       -4.75668907e-02, -4.71320152e-02, -4.67014313e-02, -4.62746620e-02,\n",
       "       -4.58521843e-02, -4.54339981e-02, -4.50196266e-02, -4.46090698e-02,\n",
       "       -4.42023277e-02, -4.37998772e-02, -4.34012413e-02, -4.30064201e-02,\n",
       "       -4.26149368e-02, -4.22277451e-02, -4.18438911e-02, -4.14643288e-02,\n",
       "       -4.10876274e-02, -4.07147408e-02, -4.03454304e-02, -3.99792194e-02,\n",
       "       -3.96170616e-02, -3.92577648e-02, -3.89020443e-02, -3.85496616e-02,\n",
       "       -3.82006168e-02, -3.78549099e-02, -3.75120640e-02, -3.71730328e-02,\n",
       "       -3.68368626e-02, -3.65035534e-02, -3.61740589e-02, -3.58474255e-02,\n",
       "       -3.55231762e-02, -3.52025032e-02, -3.48849297e-02, -3.45697403e-02,\n",
       "       -3.42576504e-02, -3.39486599e-02, -3.36422920e-02, -3.33390236e-02,\n",
       "       -3.30386162e-02, -3.27408314e-02, -3.24454308e-02, -3.21528912e-02,\n",
       "       -3.18636894e-02, -3.15766335e-02, -3.12917233e-02, -3.10099125e-02,\n",
       "       -3.07307243e-02, -3.04536819e-02, -3.01797390e-02, -2.99079418e-02,\n",
       "       -2.96385288e-02, -2.93717384e-02, -2.91073322e-02, -2.88460255e-02,\n",
       "       -2.85859108e-02, -2.83288956e-02, -2.80735493e-02, -2.78208256e-02,\n",
       "       -2.75702477e-02, -2.73220539e-02, -2.70762444e-02, -2.68323421e-02,\n",
       "       -2.65905857e-02, -2.63509750e-02, -2.61135101e-02, -2.58781910e-02,\n",
       "       -2.56450176e-02, -2.54137516e-02, -2.51848698e-02, -2.49576569e-02,\n",
       "       -2.47325897e-02, -2.45094299e-02, -2.42881775e-02, -2.40688324e-02,\n",
       "       -2.38516331e-02, -2.36368179e-02, -2.34227180e-02, -2.32117176e-02,\n",
       "       -2.30011940e-02, -2.27935314e-02, -2.25870609e-02, -2.23829746e-02,\n",
       "       -2.21798420e-02, -2.19795704e-02, -2.17797756e-02, -2.15826035e-02,\n",
       "       -2.13866234e-02, -2.11927891e-02, -2.09999084e-02, -2.08096504e-02,\n",
       "       -2.06201077e-02, -2.04327106e-02, -2.02465057e-02, -2.00624466e-02,\n",
       "       -1.98788643e-02, -1.96981430e-02, -1.95178986e-02, -1.93397999e-02,\n",
       "       -1.91628933e-02, -1.89878941e-02, -1.88133717e-02, -1.86414719e-02,\n",
       "       -1.84700489e-02, -1.83007717e-02, -1.81324482e-02, -1.79662704e-02,\n",
       "       -1.78003311e-02, -1.76366568e-02, -1.74736977e-02, -1.73126459e-02,\n",
       "       -1.71523094e-02, -1.69939995e-02, -1.68362856e-02, -1.66804790e-02,\n",
       "       -1.65259838e-02, -1.63719654e-02, -1.62199736e-02, -1.60684586e-02,\n",
       "       -1.59189701e-02, -1.57698393e-02, -1.56226158e-02, -1.54759884e-02,\n",
       "       -1.53310299e-02, -1.51867867e-02, -1.50442123e-02, -1.49023533e-02,\n",
       "       -1.47620440e-02, -1.46222115e-02, -1.44839287e-02, -1.43464804e-02,\n",
       "       -1.42105818e-02, -1.40750408e-02, -1.39411688e-02, -1.38077736e-02,\n",
       "       -1.36760473e-02, -1.35446787e-02, -1.34150982e-02, -1.32857561e-02,\n",
       "       -1.31579638e-02, -1.30306482e-02, -1.29050016e-02, -1.27795935e-02,\n",
       "       -1.26557350e-02, -1.25322342e-02, -1.24102831e-02, -1.22886896e-02,\n",
       "       -1.21684074e-02, -1.20486021e-02, -1.19303465e-02, -1.18123293e-02,\n",
       "       -1.16958618e-02, -1.15795135e-02, -1.14645958e-02, -1.13505125e-02,\n",
       "       -1.12369061e-02, -1.11244917e-02, -1.10124350e-02, -1.09018087e-02,\n",
       "       -1.07914209e-02, -1.06822252e-02, -1.05735064e-02, -1.04659796e-02,\n",
       "       -1.03588104e-02, -1.02527142e-02, -1.01470947e-02, -1.00425482e-02,\n",
       "       -9.93835926e-03, -9.83536243e-03, -9.73272324e-03, -9.63115692e-03,\n",
       "       -9.52982903e-03, -9.42969322e-03, -9.32991505e-03, -9.23109055e-03,\n",
       "       -9.13262367e-03, -9.03522968e-03, -8.93819332e-03, -8.84211063e-03,\n",
       "       -8.74626637e-03, -8.65161419e-03, -8.55708122e-03, -8.46362114e-03,\n",
       "       -8.37051868e-03, -8.27825069e-03, -8.18645954e-03, -8.09550285e-03,\n",
       "       -8.00478458e-03, -7.91501999e-03, -7.82549381e-03, -7.73692131e-03,\n",
       "       -7.64858723e-03, -7.56120682e-03, -7.47394562e-03, -7.38775730e-03,\n",
       "       -7.30192661e-03, -7.21657276e-03, -7.13193417e-03, -7.04765320e-03,\n",
       "       -6.96396828e-03, -6.88076019e-03, -6.79838657e-03, -6.71601295e-03,\n",
       "       -6.63447380e-03, -6.55341148e-03, -6.47294521e-03, -6.39283657e-03,\n",
       "       -6.31332397e-03, -6.23416901e-03, -6.15572929e-03, -6.07752800e-03,\n",
       "       -6.00004196e-03, -5.92279434e-03, -5.84614277e-03, -5.76984882e-03,\n",
       "       -5.69421053e-03, -5.61887026e-03, -5.54412603e-03, -5.46962023e-03,\n",
       "       -5.39571047e-03, -5.32209873e-03, -5.24908304e-03, -5.17636538e-03,\n",
       "       -5.10418415e-03, -5.03230095e-03, -4.96095419e-03, -4.88984585e-03,\n",
       "       -4.81939316e-03, -4.74911928e-03, -4.67938185e-03, -4.60994244e-03,\n",
       "       -4.54103947e-03, -4.47231531e-03, -4.40412760e-03, -4.33635712e-03,\n",
       "       -4.26882505e-03, -4.20171022e-03, -4.13495302e-03, -4.06861305e-03,\n",
       "       -4.00257111e-03, -3.93694639e-03, -3.87156010e-03, -3.80665064e-03,\n",
       "       -3.74197960e-03, -3.67772579e-03, -3.61377001e-03, -3.55017185e-03,\n",
       "       -3.48693132e-03, -3.42398882e-03, -3.36140394e-03, -3.29905748e-03,\n",
       "       -3.23712826e-03, -3.17549706e-03, -3.11410427e-03, -3.05306911e-03,\n",
       "       -2.99239159e-03, -2.93195248e-03, -2.87181139e-03, -2.81202793e-03,\n",
       "       -2.75248289e-03, -2.69323587e-03, -2.63428688e-03, -2.57563591e-03,\n",
       "       -2.51728296e-03, -2.45916843e-03, -2.40135193e-03, -2.34377384e-03,\n",
       "       -2.28655338e-03, -2.22945213e-03, -2.17276812e-03, -2.11632252e-03,\n",
       "       -2.06011534e-03, -2.00414658e-03, -1.94841623e-03, -1.89292431e-03,\n",
       "       -1.83773041e-03, -1.78283453e-03, -1.72805786e-03, -1.67369843e-03,\n",
       "       -1.61939859e-03, -1.56545639e-03, -1.51163340e-03, -1.45816803e-03,\n",
       "       -1.40482187e-03, -1.35189295e-03, -1.29896402e-03, -1.24639273e-03,\n",
       "       -1.19400024e-03, -1.14190578e-03, -1.08987093e-03, -1.03825331e-03,\n",
       "       -9.86635685e-04, -9.35375690e-04, -8.84234905e-04, -8.33451748e-04,\n",
       "       -7.82728195e-04, -7.32183456e-04, -6.81877136e-04, -6.31928444e-04,\n",
       "       -5.81860542e-04, -5.32388687e-04, -4.82797623e-04, -4.33564186e-04,\n",
       "       -3.84330750e-04, -3.35574150e-04, -2.86698341e-04, -2.38299370e-04,\n",
       "       -1.89781189e-04, -1.41620636e-04, -9.34600830e-05, -4.58955765e-05,\n",
       "        1.90734863e-06,  4.93526459e-05,  9.67979431e-05,  1.44004822e-04,\n",
       "        1.90854073e-04,  2.37822533e-04,  2.84314156e-04,  3.30924988e-04,\n",
       "        3.77178192e-04,  4.23550606e-04,  4.69326973e-04,  5.15460968e-04,\n",
       "        5.60998917e-04,  6.06536865e-04,  6.51955605e-04,  6.97255135e-04,\n",
       "        7.42077827e-04,  7.87377357e-04,  8.31961632e-04,  8.76784325e-04,\n",
       "        9.21130180e-04,  9.65714455e-04,  1.00970268e-03,  1.05392933e-03,\n",
       "        1.09779835e-03,  1.14178658e-03,  1.18529797e-03,  1.22904778e-03,\n",
       "        1.27232075e-03,  1.31571293e-03,  1.35874748e-03,  1.40190125e-03,\n",
       "        1.44469738e-03,  1.48773193e-03,  1.53005123e-03,  1.57296658e-03,\n",
       "        1.61504745e-03,  1.65760517e-03,  1.69956684e-03,  1.74188614e-03,\n",
       "        1.78360939e-03,  1.82557106e-03,  1.86705589e-03,  1.90889835e-03,\n",
       "        1.95062160e-03,  1.99186802e-03,  2.03323364e-03,  2.07424164e-03,\n",
       "        2.11548805e-03,  2.15613842e-03,  2.19726562e-03,  2.23779678e-03,\n",
       "        2.27868557e-03,  2.31885910e-03,  2.35962868e-03,  2.39968300e-03,\n",
       "        2.44009495e-03,  2.48003006e-03,  2.52020359e-03,  2.55990028e-03,\n",
       "        2.60007381e-03,  2.63953209e-03,  2.67946720e-03,  2.71880627e-03,\n",
       "        2.75850296e-03,  2.79760361e-03,  2.83718109e-03,  2.87604332e-03,\n",
       "        2.91538239e-03,  2.95412540e-03,  2.99334526e-03,  3.03184986e-03,\n",
       "        3.07095051e-03,  3.10933590e-03,  3.14831734e-03,  3.18646431e-03,\n",
       "        3.22520733e-03,  3.26311588e-03,  3.30185890e-03,  3.33964825e-03,\n",
       "        3.37815285e-03,  3.41582298e-03,  3.45408916e-03,  3.49235535e-03,\n",
       "        3.52966785e-03,  3.56781483e-03,  3.60512733e-03,  3.64303589e-03,\n",
       "        3.68022919e-03,  3.71801853e-03,  3.75509262e-03,  3.79252434e-03,\n",
       "        3.82947922e-03,  3.86691093e-03,  3.90362740e-03,  3.94129753e-03,\n",
       "        3.97777557e-03,  4.01496887e-03,  4.05144691e-03,  4.08864021e-03,\n",
       "        4.12487984e-03,  4.16207314e-03,  4.19807434e-03,  4.23526764e-03,\n",
       "        4.27103043e-03,  4.30798531e-03,  4.34398651e-03,  4.38046455e-03,\n",
       "        4.41646576e-03,  4.45270538e-03,  4.48870659e-03,  4.52494621e-03,\n",
       "        4.56047058e-03,  4.59694862e-03,  4.63223457e-03,  4.66871262e-03,\n",
       "        4.70399857e-03,  4.73999977e-03,  4.77504730e-03,  4.81104851e-03,\n",
       "        4.84657288e-03,  4.88233566e-03,  4.91738319e-03,  4.95314598e-03,\n",
       "        4.98890877e-03,  5.02395630e-03,  5.05948067e-03,  5.09405136e-03,\n",
       "        5.12957573e-03,  5.16462326e-03,  5.19990921e-03,  5.23447990e-03,\n",
       "        5.27000427e-03,  5.30433655e-03,  5.33962250e-03,  5.37395477e-03,\n",
       "        5.40924072e-03,  5.44357300e-03,  5.47862053e-03,  5.51295280e-03,\n",
       "        5.54800034e-03,  5.58209419e-03,  5.61690331e-03,  5.65075874e-03,\n",
       "        5.68580627e-03,  5.71990013e-03,  5.75447083e-03,  5.78832626e-03,\n",
       "        5.82313538e-03,  5.85675240e-03,  5.89179993e-03,  5.92517853e-03,\n",
       "        5.95998764e-03,  5.99336624e-03,  6.02793694e-03,  6.06131554e-03,\n",
       "        6.09588623e-03,  6.12950325e-03,  6.16383553e-03,  6.19697571e-03,\n",
       "        6.23130798e-03,  6.26492500e-03,  6.29901886e-03,  6.33335114e-03,\n",
       "        6.36649132e-03,  6.39939308e-03,  6.43467903e-03,  6.46805763e-03,\n",
       "        6.50072098e-03,  6.53386116e-03,  6.56867027e-03,  6.60181046e-03,\n",
       "        6.63447380e-03,  6.66761398e-03,  6.70266151e-03,  6.73532486e-03,\n",
       "        6.76822662e-03,  6.80112839e-03,  6.83569908e-03,  6.86836243e-03,\n",
       "        6.90126419e-03,  6.93368912e-03,  6.96849823e-03,  7.00116158e-03,\n",
       "        7.03334808e-03,  7.06601143e-03,  7.10082054e-03,  7.13324547e-03,\n",
       "        7.16543198e-03,  7.19809532e-03,  7.23266602e-03,  7.26509094e-03,\n",
       "        7.29703903e-03,  7.32946396e-03,  7.36379623e-03,  7.39622116e-03,\n",
       "        7.42816925e-03,  7.46059418e-03,  7.49492645e-03,  7.52735138e-03,\n",
       "        7.55929947e-03,  7.59124756e-03,  7.62557983e-03,  7.65752792e-03,\n",
       "        7.68947601e-03,  7.72428513e-03,  7.75623322e-03,  7.78770447e-03,\n",
       "        7.81965256e-03,  7.85398483e-03,  7.88593292e-03,  7.91788101e-03,\n",
       "        7.94935226e-03,  7.98368454e-03,  8.01515579e-03,  8.04710388e-03,\n",
       "        8.07905197e-03,  8.11338425e-03,  8.14485550e-03,  8.17632675e-03,\n",
       "        8.20779800e-03,  8.24213028e-03,  8.27360153e-03,  8.30554962e-03,\n",
       "        8.33702087e-03,  8.37087631e-03,  8.40282440e-03,  8.43381882e-03,\n",
       "        8.46529007e-03,  8.49962234e-03,  8.53061676e-03,  8.56208801e-03,\n",
       "        8.59355927e-03,  8.62789154e-03,  8.65888596e-03,  8.68988037e-03,\n",
       "        8.72135162e-03,  8.75520706e-03,  8.78667831e-03,  8.81814957e-03,\n",
       "        8.84914398e-03,  8.88299942e-03,  8.91447067e-03,  8.94546509e-03,\n",
       "        8.97932053e-03,  9.01079178e-03,  9.04130936e-03,  9.07278061e-03,\n",
       "        9.10663605e-03,  9.13810730e-03,  9.16862488e-03,  9.19961929e-03,\n",
       "        9.23347473e-03,  9.26494598e-03,  9.29546356e-03,  9.32645798e-03,\n",
       "        9.36079025e-03,  9.39130783e-03,  9.42230225e-03,  9.45329666e-03,\n",
       "        9.48715210e-03,  9.51766968e-03,  9.54866409e-03,  9.57918167e-03,\n",
       "        9.61351395e-03,  9.64403152e-03,  9.67454910e-03,  9.70554352e-03,\n",
       "        9.73939896e-03,  9.77039337e-03,  9.80043411e-03,  9.83142853e-03,\n",
       "        9.86528397e-03,  9.89580154e-03,  9.92679596e-03,  9.95731354e-03,\n",
       "        9.99116898e-03,  1.00216866e-02,  1.00522041e-02,  1.00827217e-02,\n",
       "        1.01165771e-02,  1.01475716e-02,  1.01776123e-02,  1.02114677e-02,\n",
       "        1.02419853e-02,  1.02725029e-02,  1.03030205e-02,  1.03368759e-02,\n",
       "        1.03673935e-02,  1.03979111e-02,  1.04284286e-02,  1.04622841e-02,\n",
       "        1.04923248e-02,  1.05228424e-02,  1.05533600e-02,  1.05867386e-02,\n",
       "        1.06177330e-02,  1.06477737e-02,  1.06782913e-02,  1.07116699e-02,\n",
       "        1.07421875e-02,  1.07727051e-02,  1.08027458e-02,  1.08366013e-02,\n",
       "        1.08671188e-02,  1.08971596e-02,  1.09276772e-02,  1.09615326e-02,\n",
       "        1.09915733e-02,  1.10220909e-02,  1.10521317e-02,  1.10855103e-02,\n",
       "        1.11160278e-02,  1.11460686e-02,  1.11765862e-02,  1.12099648e-02,\n",
       "        1.12404823e-02,  1.12705231e-02,  1.13005638e-02,  1.13344193e-02,\n",
       "        1.13639832e-02,  1.13935471e-02,  1.14240646e-02,  1.14583969e-02,\n",
       "        1.14879608e-02,  1.15184784e-02,  1.15518570e-02,  1.15823746e-02,\n",
       "        1.16119385e-02,  1.16415024e-02,  1.16758347e-02,  1.17053986e-02,\n",
       "        1.17359161e-02,  1.17654800e-02,  1.17998123e-02,  1.18293762e-02,\n",
       "        1.18598938e-02,  1.18894577e-02,  1.19237900e-02,  1.19533539e-02,\n",
       "        1.19838715e-02,  1.20134354e-02,  1.20468140e-02,  1.20773315e-02,\n",
       "        1.21068954e-02,  1.21374130e-02,  1.21707916e-02,  1.22013092e-02,\n",
       "        1.22308731e-02,  1.22604370e-02,  1.22938156e-02,  1.23243332e-02,\n",
       "        1.23538971e-02,  1.23844147e-02,  1.24177933e-02,  1.24473572e-02,\n",
       "        1.24778748e-02,  1.25074387e-02,  1.25408173e-02,  1.25703812e-02,\n",
       "        1.26008987e-02,  1.26304626e-02,  1.26638412e-02,  1.26934052e-02],\n",
       "      dtype=float32)>"
      ]
     },
     "execution_count": 30,
     "metadata": {},
     "output_type": "execute_result"
    }
   ],
   "source": [
    "prior_probabilities_hand_calc-T_serial_probs"
   ]
  },
  {
   "cell_type": "code",
   "execution_count": null,
   "id": "ebac32cc",
   "metadata": {},
   "outputs": [],
   "source": []
  }
 ],
 "metadata": {
  "kernelspec": {
   "display_name": "Python 3 (ipykernel)",
   "language": "python",
   "name": "python3"
  },
  "language_info": {
   "codemirror_mode": {
    "name": "ipython",
    "version": 3
   },
   "file_extension": ".py",
   "mimetype": "text/x-python",
   "name": "python",
   "nbconvert_exporter": "python",
   "pygments_lexer": "ipython3",
   "version": "3.7.11"
  }
 },
 "nbformat": 4,
 "nbformat_minor": 5
}

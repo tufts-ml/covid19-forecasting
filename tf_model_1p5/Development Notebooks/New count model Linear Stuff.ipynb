{
 "cells": [
  {
   "cell_type": "code",
   "execution_count": 1,
   "id": "969ad8a3",
   "metadata": {},
   "outputs": [
    {
     "name": "stderr",
     "output_type": "stream",
     "text": [
      "2022-02-26 17:35:56.571283: W tensorflow/stream_executor/platform/default/dso_loader.cc:64] Could not load dynamic library 'libcudart.so.11.0'; dlerror: libcudart.so.11.0: cannot open shared object file: No such file or directory\n",
      "2022-02-26 17:35:56.571347: I tensorflow/stream_executor/cuda/cudart_stub.cc:29] Ignore above cudart dlerror if you do not have a GPU set up on your machine.\n"
     ]
    }
   ],
   "source": [
    "%load_ext autoreload\n",
    "%autoreload 2\n",
    "\n",
    "import numpy as np\n",
    "import tensorflow as tf\n",
    "\n",
    "import sys\n",
    "sys.path.append('/mnt/c/Users/kheut/code/covid19-forecasting/tf_model_1p5/')\n",
    "\n",
    "from enum import Enum\n",
    "\n",
    "import tensorflow as tf\n",
    "from tensorflow import keras\n",
    "from tensorflow.keras.layers import Dense\n",
    "\n",
    "import tensorflow_probability as tfp\n",
    "from scipy.stats import beta, truncnorm\n",
    "\n",
    "\n",
    "# Local imports from model.py, data.py\n",
    "from model import CovidModel, LogPoissonProb, get_logging_callbacks, Comp, Vax\n",
    "from data import read_data, create_warmup\n",
    "#from plots import make_all_plots\n",
    "\n",
    "import scipy\n",
    "\n",
    "import matplotlib\n",
    "import matplotlib.pyplot as plt\n",
    "plt.rcParams.update({'font.size': 20}) # set plot font sizes"
   ]
  },
  {
   "cell_type": "code",
   "execution_count": 6,
   "id": "9ffdbf61",
   "metadata": {},
   "outputs": [],
   "source": [
    "transition_window =10\n",
    "\n",
    "warmup_start = '20210421'\n",
    "warmup_end = '20210430'\n",
    "train_start = '20210501'\n",
    "train_end = '20210731'\n",
    "test_start = '20210801'\n",
    "test_end = '20210831'\n",
    "\n",
    "state = 'Massachusetts'\n",
    "state_abbrev = 'MA'\n",
    "\n",
    "data_dir = '../data'\n",
    "covid_estim_date = '20210901'\n",
    "hhs_date = '20210903'\n",
    "owid_date = '20210903'\n",
    "\n",
    "# Learning rate\n",
    "learning_rate = 0.05"
   ]
  },
  {
   "cell_type": "code",
   "execution_count": 7,
   "id": "8af6455c",
   "metadata": {},
   "outputs": [],
   "source": [
    "df = read_data(data_dir=data_dir,\n",
    "               covid_estim_date=covid_estim_date,\n",
    "               hhs_date=hhs_date,\n",
    "               owid_date=owid_date,\n",
    "               state=state, state_abbrev=state_abbrev)"
   ]
  },
  {
   "cell_type": "code",
   "execution_count": 8,
   "id": "2d8a4748",
   "metadata": {},
   "outputs": [
    {
     "data": {
      "text/html": [
       "<div>\n",
       "<style scoped>\n",
       "    .dataframe tbody tr th:only-of-type {\n",
       "        vertical-align: middle;\n",
       "    }\n",
       "\n",
       "    .dataframe tbody tr th {\n",
       "        vertical-align: top;\n",
       "    }\n",
       "\n",
       "    .dataframe thead th {\n",
       "        text-align: right;\n",
       "    }\n",
       "</style>\n",
       "<table border=\"1\" class=\"dataframe\">\n",
       "  <thead>\n",
       "    <tr style=\"text-align: right;\">\n",
       "      <th></th>\n",
       "      <th>icu_count</th>\n",
       "      <th>general_ward_count</th>\n",
       "      <th>deaths_covid</th>\n",
       "      <th>asymp</th>\n",
       "      <th>extreme</th>\n",
       "      <th>mild</th>\n",
       "      <th>Rt</th>\n",
       "      <th>general_ward_in</th>\n",
       "      <th>vax_pct</th>\n",
       "    </tr>\n",
       "    <tr>\n",
       "      <th>date</th>\n",
       "      <th></th>\n",
       "      <th></th>\n",
       "      <th></th>\n",
       "      <th></th>\n",
       "      <th></th>\n",
       "      <th></th>\n",
       "      <th></th>\n",
       "      <th></th>\n",
       "      <th></th>\n",
       "    </tr>\n",
       "  </thead>\n",
       "  <tbody>\n",
       "    <tr>\n",
       "      <th>2019-12-25</th>\n",
       "      <td>NaN</td>\n",
       "      <td>NaN</td>\n",
       "      <td>NaN</td>\n",
       "      <td>0.000006</td>\n",
       "      <td>6.555663e-11</td>\n",
       "      <td>5.714537e-08</td>\n",
       "      <td>0.992215</td>\n",
       "      <td>NaN</td>\n",
       "      <td>NaN</td>\n",
       "    </tr>\n",
       "    <tr>\n",
       "      <th>2019-12-26</th>\n",
       "      <td>NaN</td>\n",
       "      <td>NaN</td>\n",
       "      <td>NaN</td>\n",
       "      <td>0.000006</td>\n",
       "      <td>5.584121e-10</td>\n",
       "      <td>3.892314e-07</td>\n",
       "      <td>1.055331</td>\n",
       "      <td>NaN</td>\n",
       "      <td>NaN</td>\n",
       "    </tr>\n",
       "    <tr>\n",
       "      <th>2019-12-27</th>\n",
       "      <td>NaN</td>\n",
       "      <td>NaN</td>\n",
       "      <td>NaN</td>\n",
       "      <td>0.000006</td>\n",
       "      <td>2.045071e-09</td>\n",
       "      <td>1.009780e-06</td>\n",
       "      <td>1.110538</td>\n",
       "      <td>NaN</td>\n",
       "      <td>NaN</td>\n",
       "    </tr>\n",
       "    <tr>\n",
       "      <th>2019-12-28</th>\n",
       "      <td>NaN</td>\n",
       "      <td>NaN</td>\n",
       "      <td>NaN</td>\n",
       "      <td>0.000007</td>\n",
       "      <td>4.996819e-09</td>\n",
       "      <td>1.784756e-06</td>\n",
       "      <td>1.158677</td>\n",
       "      <td>NaN</td>\n",
       "      <td>NaN</td>\n",
       "    </tr>\n",
       "    <tr>\n",
       "      <th>2019-12-29</th>\n",
       "      <td>NaN</td>\n",
       "      <td>NaN</td>\n",
       "      <td>NaN</td>\n",
       "      <td>0.000007</td>\n",
       "      <td>9.617803e-09</td>\n",
       "      <td>2.581918e-06</td>\n",
       "      <td>1.201151</td>\n",
       "      <td>NaN</td>\n",
       "      <td>NaN</td>\n",
       "    </tr>\n",
       "    <tr>\n",
       "      <th>...</th>\n",
       "      <td>...</td>\n",
       "      <td>...</td>\n",
       "      <td>...</td>\n",
       "      <td>...</td>\n",
       "      <td>...</td>\n",
       "      <td>...</td>\n",
       "      <td>...</td>\n",
       "      <td>...</td>\n",
       "      <td>...</td>\n",
       "    </tr>\n",
       "    <tr>\n",
       "      <th>2021-08-31</th>\n",
       "      <td>171.0</td>\n",
       "      <td>500.0</td>\n",
       "      <td>4.0</td>\n",
       "      <td>5744.449475</td>\n",
       "      <td>4.605118e+01</td>\n",
       "      <td>3.266123e+03</td>\n",
       "      <td>1.190514</td>\n",
       "      <td>67.0</td>\n",
       "      <td>0.6597</td>\n",
       "    </tr>\n",
       "    <tr>\n",
       "      <th>2021-09-01</th>\n",
       "      <td>161.0</td>\n",
       "      <td>490.0</td>\n",
       "      <td>12.0</td>\n",
       "      <td>5959.757047</td>\n",
       "      <td>4.741058e+01</td>\n",
       "      <td>3.375344e+03</td>\n",
       "      <td>1.197465</td>\n",
       "      <td>85.0</td>\n",
       "      <td>0.6604</td>\n",
       "    </tr>\n",
       "    <tr>\n",
       "      <th>2021-09-02</th>\n",
       "      <td>168.0</td>\n",
       "      <td>517.0</td>\n",
       "      <td>10.0</td>\n",
       "      <td>NaN</td>\n",
       "      <td>NaN</td>\n",
       "      <td>NaN</td>\n",
       "      <td>NaN</td>\n",
       "      <td>72.0</td>\n",
       "      <td>0.6613</td>\n",
       "    </tr>\n",
       "    <tr>\n",
       "      <th>2021-09-03</th>\n",
       "      <td>168.0</td>\n",
       "      <td>517.0</td>\n",
       "      <td>10.0</td>\n",
       "      <td>NaN</td>\n",
       "      <td>NaN</td>\n",
       "      <td>NaN</td>\n",
       "      <td>NaN</td>\n",
       "      <td>93.0</td>\n",
       "      <td>0.6623</td>\n",
       "    </tr>\n",
       "    <tr>\n",
       "      <th>2021-09-04</th>\n",
       "      <td>NaN</td>\n",
       "      <td>NaN</td>\n",
       "      <td>NaN</td>\n",
       "      <td>NaN</td>\n",
       "      <td>NaN</td>\n",
       "      <td>NaN</td>\n",
       "      <td>NaN</td>\n",
       "      <td>93.0</td>\n",
       "      <td>NaN</td>\n",
       "    </tr>\n",
       "  </tbody>\n",
       "</table>\n",
       "<p>620 rows × 9 columns</p>\n",
       "</div>"
      ],
      "text/plain": [
       "            icu_count  general_ward_count  deaths_covid        asymp  \\\n",
       "date                                                                   \n",
       "2019-12-25        NaN                 NaN           NaN     0.000006   \n",
       "2019-12-26        NaN                 NaN           NaN     0.000006   \n",
       "2019-12-27        NaN                 NaN           NaN     0.000006   \n",
       "2019-12-28        NaN                 NaN           NaN     0.000007   \n",
       "2019-12-29        NaN                 NaN           NaN     0.000007   \n",
       "...               ...                 ...           ...          ...   \n",
       "2021-08-31      171.0               500.0           4.0  5744.449475   \n",
       "2021-09-01      161.0               490.0          12.0  5959.757047   \n",
       "2021-09-02      168.0               517.0          10.0          NaN   \n",
       "2021-09-03      168.0               517.0          10.0          NaN   \n",
       "2021-09-04        NaN                 NaN           NaN          NaN   \n",
       "\n",
       "                 extreme          mild        Rt  general_ward_in  vax_pct  \n",
       "date                                                                        \n",
       "2019-12-25  6.555663e-11  5.714537e-08  0.992215              NaN      NaN  \n",
       "2019-12-26  5.584121e-10  3.892314e-07  1.055331              NaN      NaN  \n",
       "2019-12-27  2.045071e-09  1.009780e-06  1.110538              NaN      NaN  \n",
       "2019-12-28  4.996819e-09  1.784756e-06  1.158677              NaN      NaN  \n",
       "2019-12-29  9.617803e-09  2.581918e-06  1.201151              NaN      NaN  \n",
       "...                  ...           ...       ...              ...      ...  \n",
       "2021-08-31  4.605118e+01  3.266123e+03  1.190514             67.0   0.6597  \n",
       "2021-09-01  4.741058e+01  3.375344e+03  1.197465             85.0   0.6604  \n",
       "2021-09-02           NaN           NaN       NaN             72.0   0.6613  \n",
       "2021-09-03           NaN           NaN       NaN             93.0   0.6623  \n",
       "2021-09-04           NaN           NaN       NaN             93.0      NaN  \n",
       "\n",
       "[620 rows x 9 columns]"
      ]
     },
     "execution_count": 8,
     "metadata": {},
     "output_type": "execute_result"
    }
   ],
   "source": [
    "df"
   ]
  },
  {
   "cell_type": "code",
   "execution_count": 9,
   "id": "3220d0aa",
   "metadata": {},
   "outputs": [],
   "source": [
    "# get warmup arrays, splitting on vaccination status\n",
    "warmup_asymp, warmup_mild, count_gen, count_icu = create_warmup(df, \n",
    "                                                          warmup_start, \n",
    "                                                          warmup_end,\n",
    "                                                          0,0,0,0)\n",
    "\n",
    "# re-combine\n",
    "#warmup_asymp = warmup_asymp[Vax.no.value] + warmup_asymp[Vax.yes.value]\n",
    "#warmup_mild = warmup_mild[Vax.no.value] + warmup_asymp[Vax.yes.value]"
   ]
  },
  {
   "cell_type": "code",
   "execution_count": 10,
   "id": "b340a832",
   "metadata": {},
   "outputs": [],
   "source": [
    "vax_statuses = [Vax.yes, Vax.no]\n"
   ]
  },
  {
   "cell_type": "code",
   "execution_count": 11,
   "id": "ddd9c4d9",
   "metadata": {},
   "outputs": [],
   "source": [
    "# Set warmup priors/initializations\n",
    "\n",
    "warmup_A_params = {}\n",
    "warmup_M_params = {}\n",
    "warmup_G_params = {}\n",
    "warmup_GR_params = {}\n",
    "init_count_G = {}\n",
    "warmup_I_params = {}\n",
    "warmup_IR_params = {}\n",
    "init_count_I = {}\n",
    "\n",
    "for vax_status in [status.value for status in vax_statuses]:\n",
    "                \n",
    "    \n",
    "    warmup_A_params[vax_status] = {}\n",
    "    warmup_A_params[vax_status]['prior'] = []\n",
    "    warmup_A_params[vax_status]['posterior_init'] = []\n",
    "\n",
    "    warmup_M_params[vax_status] = {}\n",
    "    warmup_M_params[vax_status]['prior'] = []\n",
    "    warmup_M_params[vax_status]['posterior_init'] = []\n",
    "\n",
    "    warmup_G_params[vax_status] = {}\n",
    "    warmup_G_params[vax_status]['prior'] = []\n",
    "    warmup_G_params[vax_status]['posterior_init'] = []\n",
    "    warmup_GR_params[vax_status] = {}\n",
    "    warmup_GR_params[vax_status]['prior'] = []\n",
    "    warmup_GR_params[vax_status]['posterior_init'] = []\n",
    "    \n",
    "    warmup_I_params[vax_status] = {}\n",
    "    warmup_I_params[vax_status]['prior'] = []\n",
    "    warmup_I_params[vax_status]['posterior_init'] = []\n",
    "    warmup_IR_params[vax_status] = {}\n",
    "    warmup_IR_params[vax_status]['prior'] = []\n",
    "    warmup_IR_params[vax_status]['posterior_init'] = []\n",
    "    \n",
    "    init_count_G[vax_status] = {}\n",
    "    init_count_G[vax_status]['prior'] ={}\n",
    "    init_count_G[vax_status]['posterior_init'] ={}\n",
    "    \n",
    "    init_count_I[vax_status] = {}\n",
    "    init_count_I[vax_status]['prior'] ={}\n",
    "    init_count_I[vax_status]['posterior_init'] ={}\n",
    "    \n",
    "    # Set priors\n",
    "    \n",
    "    init_count_G[vax_status]['prior'] = {'loc':count_gen[vax_status], 'scale':count_gen[vax_status]/10}\n",
    "    init_count_I[vax_status]['prior'] = {'loc':count_icu[vax_status], 'scale':count_icu[vax_status]/10}\n",
    "\n",
    "    \n",
    "    \n",
    "   \n",
    "    warmup_A_params[vax_status]['prior'] = {'intercept': warmup_asymp[vax_status][0]/2,\n",
    "                                            'slope': 0,\n",
    "                                                'scale': warmup_asymp[vax_status][0]/2/10}\n",
    "\n",
    "    warmup_M_params[vax_status]['prior'] = {'intercept': warmup_mild[vax_status][0]/2,\n",
    "                                            'slope': 0,\n",
    "                                                'scale': warmup_mild[vax_status][0]/2/10}\n",
    "\n",
    "    warmup_G_params[vax_status]['prior'] = {'intercept': count_gen[vax_status]/10,\n",
    "                                            'slope': 0,\n",
    "                                                'scale': count_gen[vax_status]/10}\n",
    "\n",
    "    warmup_GR_params[vax_status]['prior'] = {'intercept': count_gen[vax_status]/2/10,\n",
    "                                            'slope': 0,\n",
    "                                                'scale': count_gen[vax_status]/2/10}\n",
    "\n",
    "    warmup_I_params[vax_status]['prior'] = {'intercept': count_icu[vax_status]/10,\n",
    "                                            'slope': 0,\n",
    "                                                'scale': count_icu[vax_status]/10}\n",
    "\n",
    "    warmup_IR_params[vax_status]['prior'] = {'intercept': count_icu[vax_status]/2/10,\n",
    "                                            'slope': 0,\n",
    "                                                'scale': count_icu[vax_status]/2/10}\n",
    "    "
   ]
  },
  {
   "cell_type": "code",
   "execution_count": 12,
   "id": "f3dd3b64",
   "metadata": {},
   "outputs": [
    {
     "name": "stderr",
     "output_type": "stream",
     "text": [
      "2022-02-26 17:36:18.623369: I tensorflow/stream_executor/cuda/cuda_gpu_executor.cc:925] could not open file to read NUMA node: /sys/bus/pci/devices/0000:2d:00.0/numa_node\n",
      "Your kernel may have been built without NUMA support.\n",
      "2022-02-26 17:36:18.623760: W tensorflow/stream_executor/platform/default/dso_loader.cc:64] Could not load dynamic library 'libcudart.so.11.0'; dlerror: libcudart.so.11.0: cannot open shared object file: No such file or directory\n",
      "2022-02-26 17:36:18.623799: W tensorflow/stream_executor/platform/default/dso_loader.cc:64] Could not load dynamic library 'libcublas.so.11'; dlerror: libcublas.so.11: cannot open shared object file: No such file or directory\n",
      "2022-02-26 17:36:18.623827: W tensorflow/stream_executor/platform/default/dso_loader.cc:64] Could not load dynamic library 'libcublasLt.so.11'; dlerror: libcublasLt.so.11: cannot open shared object file: No such file or directory\n",
      "2022-02-26 17:36:18.623853: W tensorflow/stream_executor/platform/default/dso_loader.cc:64] Could not load dynamic library 'libcufft.so.10'; dlerror: libcufft.so.10: cannot open shared object file: No such file or directory\n",
      "2022-02-26 17:36:18.623897: W tensorflow/stream_executor/platform/default/dso_loader.cc:64] Could not load dynamic library 'libcurand.so.10'; dlerror: libcurand.so.10: cannot open shared object file: No such file or directory\n",
      "2022-02-26 17:36:18.623927: W tensorflow/stream_executor/platform/default/dso_loader.cc:64] Could not load dynamic library 'libcusolver.so.11'; dlerror: libcusolver.so.11: cannot open shared object file: No such file or directory\n",
      "2022-02-26 17:36:18.623952: W tensorflow/stream_executor/platform/default/dso_loader.cc:64] Could not load dynamic library 'libcusparse.so.11'; dlerror: libcusparse.so.11: cannot open shared object file: No such file or directory\n",
      "2022-02-26 17:36:18.623981: W tensorflow/stream_executor/platform/default/dso_loader.cc:64] Could not load dynamic library 'libcudnn.so.8'; dlerror: libcudnn.so.8: cannot open shared object file: No such file or directory\n",
      "2022-02-26 17:36:18.624052: W tensorflow/core/common_runtime/gpu/gpu_device.cc:1850] Cannot dlopen some GPU libraries. Please make sure the missing libraries mentioned above are installed properly if you would like to use GPU. Follow the guide at https://www.tensorflow.org/install/gpu for how to download and setup the required libraries for your platform.\n",
      "Skipping registering GPU devices...\n",
      "2022-02-26 17:36:18.625762: I tensorflow/core/platform/cpu_feature_guard.cc:151] This TensorFlow binary is optimized with oneAPI Deep Neural Network Library (oneDNN) to use the following CPU instructions in performance-critical operations:  AVX2 FMA\n",
      "To enable them in other operations, rebuild TensorFlow with the appropriate compiler flags.\n"
     ]
    }
   ],
   "source": [
    "x_train = tf.cast(df.loc[train_start:train_end,'Rt'].values, dtype=tf.float32)\n",
    "x_test = tf.cast(df.loc[train_start:test_end,'Rt'].values, dtype=tf.float32)\n",
    "\n",
    "\n",
    "y_train = {}\n",
    "y_train['G_in'] = tf.cast(df.loc[train_start:train_end,'general_ward_in'], dtype=tf.float32)\n",
    "y_train['G_count'] = tf.cast(df.loc[train_start:train_end,'general_ward_count'], dtype=tf.float32)\n",
    "y_train['I_count'] = tf.cast(df.loc[train_start:train_end,'icu_count'], dtype=tf.float32)\n",
    "y_train['D_in'] = tf.cast(df.loc[train_start:train_end,'deaths_covid'], dtype=tf.float32) + 1\n",
    "\n",
    "y_test = {}\n",
    "y_test['G_in'] = tf.cast(df.loc[train_start:test_end,'general_ward_in'], dtype=tf.float32)\n",
    "y_test['G_count'] = tf.cast(df.loc[train_start:test_end,'general_ward_count'], dtype=tf.float32)\n",
    "y_test['I_count'] = tf.cast(df.loc[train_start:test_end,'icu_count'], dtype=tf.float32)\n",
    "y_test['D_in'] = tf.cast(df.loc[train_start:test_end,'deaths_covid'], dtype=tf.float32)"
   ]
  },
  {
   "cell_type": "code",
   "execution_count": 13,
   "id": "a8c90605",
   "metadata": {},
   "outputs": [],
   "source": [
    "\n",
    "T_serial = {}\n",
    "T_serial['prior'] ={'loc':5.8, 'scale':1}\n",
    "\n",
    "\n",
    "epsilon = {}\n",
    "epsilon['prior'] ={'a':1, 'b':1}\n",
    "\n",
    "delta = {}\n",
    "delta['prior'] ={'a':1, 'b':1}\n",
    "\n",
    "rho_M = {}\n",
    "lambda_M = {}\n",
    "nu_M = {}\n",
    "rho_G = {}\n",
    "lambda_G = {}\n",
    "nu_G = {}\n",
    "\n",
    "rho_I = {}\n",
    "lambda_I = {}\n",
    "nu_I = {}\n",
    "lambda_I_bar = {}\n",
    "nu_I_bar = {}\n",
    "\n",
    "rho_D = {}\n",
    "lambda_D = {}\n",
    "nu_D = {}\n",
    "lambda_D_bar = {}\n",
    "nu_D_bar = {}\n",
    "\n",
    "for vax_status in [status.value for status in vax_statuses]:\n",
    "    \n",
    "    rho_M[vax_status] = {}\n",
    "    rho_M[vax_status]['prior'] = {'a': 1, 'b': 1}\n",
    "    #rho_M[vax_status]['prior'] = {'a': 31.8, 'b': 10.3}\n",
    "\n",
    "\n",
    "    lambda_M[vax_status] = {}\n",
    "    lambda_M[vax_status]['prior'] = {'loc': 4.7, 'scale': 1}\n",
    "\n",
    "\n",
    "    nu_M[vax_status] = {}\n",
    "    nu_M[vax_status]['prior'] = {'loc': 3.1, 'scale': 1.2}\n",
    "\n",
    "\n",
    "    rho_G[vax_status] = {}\n",
    "    rho_G[vax_status]['prior'] = {'a': 1, 'b': 1}\n",
    "    #rho_G[vax_status]['prior'] = {'a': 31.8, 'b': 10.3}\n",
    "    lambda_G[vax_status] = {}\n",
    "    lambda_G[vax_status]['prior'] = {'loc': 3.3, 'scale': 1.0}\n",
    "    nu_G[vax_status] = {}\n",
    "    nu_G[vax_status]['prior'] = {'loc': 9.0, 'scale': 3}\n",
    "    \n",
    "    rho_I[vax_status] = {}\n",
    "    rho_I[vax_status]['prior'] = {'a': 1, 'b': 1}\n",
    "    #rho_I[vax_status]['prior'] = {'a': 31.8, 'b': 10.3}\n",
    "    lambda_I[vax_status] = {}\n",
    "    lambda_I[vax_status]['prior'] = {'loc': 3.3, 'scale': 1.0}\n",
    "    nu_I[vax_status] = {}\n",
    "    nu_I[vax_status]['prior'] = {'loc': 9.0, 'scale': 3}\n",
    "    lambda_I_bar[vax_status] = {}\n",
    "    lambda_I_bar[vax_status]['prior'] = {'loc': 3.3, 'scale': 1.0}\n",
    "    nu_I_bar[vax_status] = {}\n",
    "    nu_I_bar[vax_status]['prior'] = {'loc': 9.0, 'scale': 3}\n",
    "\n",
    "    rho_D[vax_status] = {}\n",
    "    rho_D[vax_status]['prior'] = {'a': 1, 'b': 1}\n",
    "    #rho_D[vax_status]['prior'] = {'a': 31.8, 'b': 10.3}\n",
    "    lambda_D[vax_status] = {}\n",
    "    lambda_D[vax_status]['prior'] = {'loc': 3.3, 'scale': 1.0}\n",
    "    nu_D[vax_status] = {}\n",
    "    nu_D[vax_status]['prior'] = {'loc': 9.0, 'scale': 3}\n",
    "    lambda_D_bar[vax_status] = {}\n",
    "    lambda_D_bar[vax_status]['prior'] = {'loc': 3.3, 'scale': 1.0}\n",
    "    nu_D_bar[vax_status] = {}\n",
    "    nu_D_bar[vax_status]['prior'] = {'loc': 9.0, 'scale':3}\n",
    "\n",
    "\n"
   ]
  },
  {
   "cell_type": "code",
   "execution_count": 14,
   "id": "1829678d",
   "metadata": {},
   "outputs": [],
   "source": [
    "T_serial_scale = 1.0\n",
    "delta_scale = 0.2\n",
    "epsilon_scale = 0.3\n",
    "\n",
    "\n",
    "rho_M_scale = 0.1\n",
    "lambda_M_scale = 1.0\n",
    "nu_M_scale = 1.2\n",
    "\n",
    "rho_G_scale = 0.1\n",
    "lambda_G_scale = 1.0\n",
    "nu_G_scale = 0.2\n",
    "\n",
    "rho_I_scale = 0.1\n",
    "lambda_I_scale = 1.0\n",
    "nu_I_scale = 0.2\n",
    "lambda_I_bar_scale = 1.0\n",
    "nu_I_bar_scale = 0.2\n",
    "\n",
    "rho_D_scale = 0.1\n",
    "lambda_D_scale = 1.0\n",
    "nu_D_scale = 0.2\n",
    "lambda_D_bar_scale = 1.0\n",
    "nu_D_bar_scale = 0.2"
   ]
  },
  {
   "cell_type": "code",
   "execution_count": 15,
   "id": "a56b9dbe",
   "metadata": {},
   "outputs": [
    {
     "name": "stdout",
     "output_type": "stream",
     "text": [
      "WARNING:tensorflow:@custom_gradient grad_fn has 'variables' in signature, but no ResourceVariables were used on the forward pass.\n"
     ]
    }
   ],
   "source": [
    "T_serial['posterior_init'] = {'loc': tfp.math.softplus_inverse(4.0),\n",
    "                                     'scale':tf.cast(tfp.math.softplus_inverse(T_serial_scale),dtype=tf.float32)}\n",
    "delta['posterior_init'] = {'loc':  tf.cast(np.log(0.1/(1-0.1)),dtype=tf.float32),\n",
    "                                     'scale':tf.cast(tfp.math.softplus_inverse(delta_scale),dtype=tf.float32)}\n",
    "epsilon['posterior_init'] = {'loc':  tf.cast(np.log(0.5/(1-0.5)),dtype=tf.float32),\n",
    "                                     'scale':tf.cast(tfp.math.softplus_inverse(epsilon_scale),dtype=tf.float32)}\n",
    "\n",
    "\n",
    "for vax_status in [status.value for status in vax_statuses]:\n",
    "    \n",
    "    rho_M[vax_status]['posterior_init'] = {'loc': tf.cast(np.log(0.5/(1-0.5)),dtype=tf.float32),\n",
    "                                          'scale':tf.cast(tfp.math.softplus_inverse(rho_M_scale),dtype=tf.float32)}\n",
    "\n",
    "    lambda_M[vax_status]['posterior_init'] = {'loc': tf.cast(tfp.math.softplus_inverse(3.0),dtype=tf.float32),\n",
    "                                             'scale':tf.cast(tfp.math.softplus_inverse(lambda_M_scale),dtype=tf.float32)}\n",
    "\n",
    "    nu_M[vax_status]['posterior_init'] = {'loc': tf.cast(tfp.math.softplus_inverse(5.0),dtype=tf.float32),\n",
    "                                         'scale':tf.cast(tfp.math.softplus_inverse(nu_M_scale),dtype=tf.float32)}\n",
    "\n",
    "    rho_G[vax_status]['posterior_init'] = {'loc': tf.cast(np.log(0.1/(1-0.1)),dtype=tf.float32),\n",
    "                                          'scale':tf.cast(tfp.math.softplus_inverse(rho_G_scale),dtype=tf.float32)}\n",
    "\n",
    "    lambda_G[vax_status]['posterior_init'] = {'loc': tf.cast(tfp.math.softplus_inverse(3.3),dtype=tf.float32),\n",
    "                                             'scale':tf.cast(tfp.math.softplus_inverse(lambda_G_scale),dtype=tf.float32)}\n",
    "\n",
    "    nu_G[vax_status]['posterior_init'] = {'loc': tf.cast(tfp.math.softplus_inverse(9.0),dtype=tf.float32),\n",
    "                                         'scale':tf.cast(tfp.math.softplus_inverse(nu_G_scale),dtype=tf.float32)}\n",
    "    \n",
    "    rho_I[vax_status]['posterior_init'] = {'loc': tf.cast(np.log(0.1/(1-0.1)),dtype=tf.float32),\n",
    "                                          'scale':tf.cast(tfp.math.softplus_inverse(rho_I_scale),dtype=tf.float32)}\n",
    "    lambda_I[vax_status]['posterior_init'] = {'loc': tf.cast(tfp.math.softplus_inverse(3.3),dtype=tf.float32),\n",
    "                                             'scale':tf.cast(tfp.math.softplus_inverse(lambda_I_scale),dtype=tf.float32)}\n",
    "    nu_I[vax_status]['posterior_init'] = {'loc': tf.cast(tfp.math.softplus_inverse(9.0),dtype=tf.float32),\n",
    "                                         'scale':tf.cast(tfp.math.softplus_inverse(nu_I_scale),dtype=tf.float32)}\n",
    "    lambda_I_bar[vax_status]['posterior_init'] = {'loc': tf.cast(tfp.math.softplus_inverse(3.3),dtype=tf.float32),\n",
    "                                             'scale':tf.cast(tfp.math.softplus_inverse(lambda_I_bar_scale),dtype=tf.float32)}\n",
    "    nu_I_bar[vax_status]['posterior_init'] = {'loc': tf.cast(tfp.math.softplus_inverse(9.0),dtype=tf.float32),\n",
    "                                         'scale':tf.cast(tfp.math.softplus_inverse(nu_I_bar_scale),dtype=tf.float32)}\n",
    "    \n",
    "    rho_D[vax_status]['posterior_init'] = {'loc': tf.cast(np.log(0.1/(1-0.1)),dtype=tf.float32),\n",
    "                                          'scale':tf.cast(tfp.math.softplus_inverse(rho_D_scale),dtype=tf.float32)}\n",
    "    lambda_D[vax_status]['posterior_init'] = {'loc': tf.cast(tfp.math.softplus_inverse(3.3),dtype=tf.float32),\n",
    "                                             'scale':tf.cast(tfp.math.softplus_inverse(lambda_D_scale),dtype=tf.float32)}\n",
    "    nu_D[vax_status]['posterior_init'] = {'loc': tf.cast(tfp.math.softplus_inverse(9.0),dtype=tf.float32),\n",
    "                                         'scale':tf.cast(tfp.math.softplus_inverse(nu_D_scale),dtype=tf.float32)}\n",
    "    lambda_D_bar[vax_status]['posterior_init'] = {'loc': tf.cast(tfp.math.softplus_inverse(3.3),dtype=tf.float32),\n",
    "                                             'scale':tf.cast(tfp.math.softplus_inverse(lambda_D_bar_scale),dtype=tf.float32)}\n",
    "    nu_D_bar[vax_status]['posterior_init'] = {'loc': tf.cast(tfp.math.softplus_inverse(9.0),dtype=tf.float32),\n",
    "                                         'scale':tf.cast(tfp.math.softplus_inverse(nu_D_bar_scale),dtype=tf.float32)}\n",
    "    \n",
    "    init_count_G[vax_status]['posterior_init'] = {'loc':tf.cast(tfp.math.softplus_inverse(count_gen[vax_status]/100),dtype=tf.float32),\n",
    "                                                  'scale': tf.cast(tfp.math.softplus_inverse(count_gen[vax_status]/100/10),dtype=tf.float32)}\n",
    "    init_count_I[vax_status]['posterior_init'] = {'loc':tf.cast(tfp.math.softplus_inverse(count_icu[vax_status]/100),dtype=tf.float32),\n",
    "                                                  'scale': tf.cast(tfp.math.softplus_inverse(count_icu[vax_status]/100/10),dtype=tf.float32)}\n",
    "    \n",
    "    \n",
    "\n",
    "    # must be positive so reverse softplus the mean\n",
    "    warmup_A_params[vax_status]['posterior_init'] = {'intercept': tf.cast(tfp.math.softplus_inverse(2000.0/100/2),dtype=tf.float32),\n",
    "                                                          'slope': tf.cast(0.0, dtype=tf.float32),\n",
    "                                                         'scale': tf.cast(tfp.math.softplus_inverse(500.0/100/2),dtype=tf.float32)}\n",
    "    warmup_M_params[vax_status]['posterior_init'] = {'intercept': tf.cast(tfp.math.softplus_inverse(1000.0/100/2),dtype=tf.float32),\n",
    "                                                          'slope': tf.cast(0.0, dtype=tf.float32),\n",
    "                                                         'scale': tf.cast(tfp.math.softplus_inverse(100.0/100/2),dtype=tf.float32)}\n",
    "\n",
    "    warmup_G_params[vax_status]['posterior_init'] = {'intercept': tf.cast(tfp.math.softplus_inverse(500.0/100/2),dtype=tf.float32),\n",
    "                                                          'slope': tf.cast(0.0, dtype=tf.float32),\n",
    "                                                         'scale': tf.cast(tfp.math.softplus_inverse(50.0/100/2),dtype=tf.float32)}\n",
    "    warmup_GR_params[vax_status]['posterior_init']= {'intercept': tf.cast(tfp.math.softplus_inverse(400.0/100/2),dtype=tf.float32),\n",
    "                                                          'slope': tf.cast(0.0, dtype=tf.float32),\n",
    "                                                         'scale': tf.cast(tfp.math.softplus_inverse(50.0/100/2),dtype=tf.float32)}\n",
    "    warmup_I_params[vax_status]['posterior_init'] = {'intercept': tf.cast(tfp.math.softplus_inverse(100.0/100/2),dtype=tf.float32),\n",
    "                                                          'slope': tf.cast(0.0, dtype=tf.float32),\n",
    "                                                         'scale': tf.cast(tfp.math.softplus_inverse(30.0/100/2),dtype=tf.float32)}\n",
    "    warmup_IR_params[vax_status]['posterior_init']= {'intercept': tf.cast(tfp.math.softplus_inverse(90.0/100/2),dtype=tf.float32),\n",
    "                                                          'slope': tf.cast(0.0, dtype=tf.float32),\n",
    "                                                         'scale': tf.cast(tfp.math.softplus_inverse(30.0/100/2),dtype=tf.float32)}\n",
    "\n",
    "model = CovidModel([Vax.no, Vax.yes], [Comp.A, Comp.M, Comp.G, Comp.GR, Comp.I, Comp.IR, Comp.D],\n",
    "                 transition_window,\n",
    "                T_serial, epsilon, delta,\n",
    "                 rho_M, lambda_M, nu_M,\n",
    "                 rho_G, lambda_G, nu_G,\n",
    "                 rho_I, lambda_I, nu_I,\n",
    "                 lambda_I_bar, nu_I_bar,\n",
    "                 rho_D, lambda_D, nu_D,\n",
    "                 lambda_D_bar, nu_D_bar,\n",
    "                 warmup_A_params,\n",
    "                 warmup_M_params,\n",
    "                 warmup_G_params, warmup_GR_params, init_count_G,\n",
    "                 warmup_I_params, warmup_IR_params, init_count_I, posterior_samples=1000, debug_disable_theta=False)\n",
    "\n",
    "pre_training_preds=model.call(x_train)"
   ]
  },
  {
   "cell_type": "code",
   "execution_count": 26,
   "id": "d298dbd2",
   "metadata": {},
   "outputs": [
    {
     "data": {
      "text/plain": [
       "{1: {'prior': {'loc': 54.55499999999999, 'scale': 5.455499999999999},\n",
       "  'posterior_init': {'loc': <tf.Tensor: shape=(), dtype=float32, numpy=-0.32081538>,\n",
       "   'scale': <tf.Tensor: shape=(), dtype=float32, numpy=-2.8811445>}},\n",
       " 0: {'prior': {'loc': 95.44500000000001, 'scale': 9.544500000000001},\n",
       "  'posterior_init': {'loc': <tf.Tensor: shape=(), dtype=float32, numpy=0.4682782>,\n",
       "   'scale': <tf.Tensor: shape=(), dtype=float32, numpy=-2.301103>}}}"
      ]
     },
     "execution_count": 26,
     "metadata": {},
     "output_type": "execute_result"
    }
   ],
   "source": [
    "init_count_I"
   ]
  },
  {
   "cell_type": "code",
   "execution_count": 12,
   "id": "09ed1fc8",
   "metadata": {},
   "outputs": [],
   "source": [
    "loss = LogPoissonProb() \n",
    "optimizer = tf.keras.optimizers.Adam(\n",
    "    learning_rate=learning_rate,#beta_1=0.1, beta_2=0.1\n",
    ")\n",
    "#loss((y_train['G_count'], y_train['G_in'], y_train['I_count'], y_train['D_in']), pre_training_preds)"
   ]
  },
  {
   "cell_type": "code",
   "execution_count": 13,
   "id": "423d66f9",
   "metadata": {},
   "outputs": [
    {
     "name": "stderr",
     "output_type": "stream",
     "text": [
      "2022-02-12 00:03:00.860651: I tensorflow/core/profiler/lib/profiler_session.cc:131] Profiler session initializing.\n",
      "2022-02-12 00:03:00.860683: I tensorflow/core/profiler/lib/profiler_session.cc:146] Profiler session started.\n",
      "2022-02-12 00:03:00.861920: I tensorflow/core/profiler/internal/gpu/cupti_tracer.cc:1614] Profiler found 1 GPUs\n",
      "2022-02-12 00:03:00.862363: W tensorflow/stream_executor/platform/default/dso_loader.cc:64] Could not load dynamic library 'libcupti.so.11.2'; dlerror: libcupti.so.11.2: cannot open shared object file: No such file or directory\n",
      "2022-02-12 00:03:00.862443: W tensorflow/stream_executor/platform/default/dso_loader.cc:64] Could not load dynamic library 'libcupti.so'; dlerror: libcupti.so: cannot open shared object file: No such file or directory\n",
      "2022-02-12 00:03:00.862455: E tensorflow/core/profiler/internal/gpu/cupti_tracer.cc:1666] function cupti_interface_->Subscribe( &subscriber_, (CUpti_CallbackFunc)ApiCallback, this)failed with error CUPTI could not be loaded or symbol could not be found.\n",
      "2022-02-12 00:03:00.862484: I tensorflow/core/profiler/lib/profiler_session.cc:164] Profiler session tear down.\n",
      "2022-02-12 00:03:00.862511: E tensorflow/core/profiler/internal/gpu/cupti_tracer.cc:1757] function cupti_interface_->Finalize()failed with error CUPTI could not be loaded or symbol could not be found.\n"
     ]
    }
   ],
   "source": [
    "logging_callbacks = get_logging_callbacks('/mnt/c/Users/kheut/logs/covid/linear_warm_fixed_loss_1')"
   ]
  },
  {
   "cell_type": "code",
   "execution_count": 14,
   "id": "72fecca9",
   "metadata": {},
   "outputs": [
    {
     "data": {
      "text/plain": [
       "array([{'G_in': <tf.Tensor: shape=(92,), dtype=float32, numpy=\n",
       "       array([70., 71., 65., 50., 57., 70., 74., 64., 71., 48., 44., 58., 49.,\n",
       "              54., 51., 44., 44., 39., 46., 40., 34., 34., 31., 39., 40., 54.,\n",
       "              30., 27., 29., 33., 16., 26., 21., 19., 16., 24., 22., 11., 10.,\n",
       "              26., 18., 13., 19.,  8., 15.,  7., 12., 13., 16., 13., 14., 12.,\n",
       "              10., 17., 11., 13., 12., 11.,  9., 15., 21.,  9.,  9.,  8.,  8.,\n",
       "              10.,  4., 15., 14., 13., 23., 17., 18.,  7., 16., 16., 12., 16.,\n",
       "              15., 12.,  9., 17., 22., 22., 25., 17., 23., 32., 37., 36., 33.,\n",
       "              46.], dtype=float32)>, 'G_count': <tf.Tensor: shape=(92,), dtype=float32, numpy=\n",
       "       array([482., 499., 466., 433., 445., 430., 409., 420., 403., 376., 379.,\n",
       "              373., 368., 347., 334., 344., 304., 311., 317., 316., 281., 273.,\n",
       "              296., 240., 258., 257., 242., 223., 225., 225., 212., 201., 193.,\n",
       "              198., 183., 177., 172., 160., 169., 179., 155., 154., 143., 153.,\n",
       "              122., 125., 129., 119., 130., 135., 112., 114., 107., 107., 103.,\n",
       "              116., 121., 122., 123., 129., 129., 120., 110.,  90., 100.,  90.,\n",
       "               98., 106., 117., 110., 113., 107.,  90., 100., 118., 117., 124.,\n",
       "              119., 131., 108., 111., 138., 139., 161., 168., 173., 178., 182.,\n",
       "              203., 218., 224., 236.], dtype=float32)>, 'I_count': <tf.Tensor: shape=(92,), dtype=float32, numpy=\n",
       "       array([148., 140., 138., 144., 145., 140., 134., 126., 120., 123., 117.,\n",
       "              116., 107., 105.,  96.,  99.,  99., 101.,  99.,  86.,  89.,  82.,\n",
       "               81.,  87.,  83.,  85.,  77.,  78.,  81.,  80.,  82.,  81.,  73.,\n",
       "               74.,  69.,  68.,  67.,  60.,  61.,  55.,  54.,  49.,  53.,  47.,\n",
       "               43.,  43.,  38.,  37.,  34.,  36.,  34.,  35.,  32.,  28.,  33.,\n",
       "               26.,  26.,  33.,  32.,  36.,  30.,  28.,  28.,  30.,  25.,  30.,\n",
       "               32.,  35.,  27.,  36.,  31.,  35.,  38.,  37.,  38.,  37.,  35.,\n",
       "               36.,  32.,  35.,  43.,  40.,  35.,  33.,  32.,  37.,  37.,  38.,\n",
       "               41.,  42.,  49.,  50.], dtype=float32)>, 'D_in': <tf.Tensor: shape=(92,), dtype=float32, numpy=\n",
       "       array([ 6.,  6.,  4.,  6.,  3.,  4., 13.,  4.,  2.,  7.,  4.,  4.,  7.,\n",
       "               6.,  6.,  4., 11.,  5.,  4.,  6.,  4.,  8., 10.,  2.,  4.,  4.,\n",
       "               6.,  3.,  3.,  4.,  2.,  4.,  9.,  4.,  1.,  3.,  3.,  3.,  2.,\n",
       "               5.,  3.,  5.,  1.,  4.,  2.,  1.,  3.,  3.,  1.,  2.,  3.,  2.,\n",
       "               2.,  3.,  2.,  3.,  4.,  2.,  2.,  1.,  1.,  2.,  3.,  1.,  2.,\n",
       "               3.,  2.,  1.,  2.,  1.,  2.,  1.,  1.,  2.,  2.,  3.,  2.,  3.,\n",
       "               6.,  3.,  2.,  4.,  2.,  5.,  5.,  3.,  4.,  4.,  3.,  3.,  5.,\n",
       "               4.], dtype=float32)>}                                                                             ],\n",
       "      dtype=object)"
      ]
     },
     "execution_count": 14,
     "metadata": {},
     "output_type": "execute_result"
    }
   ],
   "source": [
    "np.asarray([y_train])"
   ]
  },
  {
   "cell_type": "code",
   "execution_count": 15,
   "id": "6968e4b8",
   "metadata": {},
   "outputs": [
    {
     "data": {
      "text/plain": [
       "(1, 4, 92)"
      ]
     },
     "execution_count": 15,
     "metadata": {},
     "output_type": "execute_result"
    }
   ],
   "source": [
    "np.asarray([(y_train['G_count'], y_train['G_in'], y_train['I_count'], y_train['D_in'])]).shape"
   ]
  },
  {
   "cell_type": "code",
   "execution_count": null,
   "id": "69a35210",
   "metadata": {},
   "outputs": [],
   "source": [
    "model.compile(loss=loss, optimizer=optimizer, run_eagerly=True)\n",
    "model.fit(x=np.asarray([x_train]), y=np.asarray([(y_train['G_count'], y_train['G_in'], y_train['I_count'], y_train['D_in'])]),\n",
    "         epochs=2000, batch_size=0,\n",
    "        callbacks=logging_callbacks)"
   ]
  },
  {
   "cell_type": "code",
   "execution_count": 17,
   "id": "910c2f9e",
   "metadata": {},
   "outputs": [
    {
     "ename": "ValueError",
     "evalue": "x and y must have same first dimension, but have shapes (123,) and (1,)",
     "output_type": "error",
     "traceback": [
      "\u001b[0;31m---------------------------------------------------------------------------\u001b[0m",
      "\u001b[0;31mValueError\u001b[0m                                Traceback (most recent call last)",
      "\u001b[0;32m/tmp/ipykernel_1021/1700688425.py\u001b[0m in \u001b[0;36m<module>\u001b[0;34m\u001b[0m\n\u001b[1;32m      1\u001b[0m \u001b[0mplt\u001b[0m\u001b[0;34m.\u001b[0m\u001b[0mfigure\u001b[0m\u001b[0;34m(\u001b[0m\u001b[0mfigsize\u001b[0m\u001b[0;34m=\u001b[0m\u001b[0;34m(\u001b[0m\u001b[0;36m8\u001b[0m\u001b[0;34m,\u001b[0m \u001b[0;36m6\u001b[0m\u001b[0;34m)\u001b[0m\u001b[0;34m)\u001b[0m\u001b[0;34m\u001b[0m\u001b[0;34m\u001b[0m\u001b[0m\n\u001b[1;32m      2\u001b[0m \u001b[0mpreds\u001b[0m\u001b[0;34m=\u001b[0m\u001b[0mtf\u001b[0m\u001b[0;34m.\u001b[0m\u001b[0mreduce_mean\u001b[0m\u001b[0;34m(\u001b[0m\u001b[0mmodel\u001b[0m\u001b[0;34m.\u001b[0m\u001b[0mcall\u001b[0m\u001b[0;34m(\u001b[0m\u001b[0mx_test\u001b[0m\u001b[0;34m)\u001b[0m\u001b[0;34m,\u001b[0m \u001b[0maxis\u001b[0m\u001b[0;34m=\u001b[0m\u001b[0;34m-\u001b[0m\u001b[0;36m1\u001b[0m\u001b[0;34m)\u001b[0m\u001b[0;34m\u001b[0m\u001b[0;34m\u001b[0m\u001b[0m\n\u001b[0;32m----> 3\u001b[0;31m \u001b[0mplt\u001b[0m\u001b[0;34m.\u001b[0m\u001b[0mplot\u001b[0m\u001b[0;34m(\u001b[0m\u001b[0mdf\u001b[0m\u001b[0;34m.\u001b[0m\u001b[0mloc\u001b[0m\u001b[0;34m[\u001b[0m\u001b[0mtrain_start\u001b[0m\u001b[0;34m:\u001b[0m\u001b[0mtest_end\u001b[0m\u001b[0;34m]\u001b[0m\u001b[0;34m.\u001b[0m\u001b[0mindex\u001b[0m\u001b[0;34m.\u001b[0m\u001b[0mvalues\u001b[0m\u001b[0;34m,\u001b[0m \u001b[0my_test\u001b[0m\u001b[0;34m,\u001b[0m \u001b[0mlabel\u001b[0m\u001b[0;34m=\u001b[0m\u001b[0;34m'Hosp'\u001b[0m\u001b[0;34m)\u001b[0m\u001b[0;34m\u001b[0m\u001b[0;34m\u001b[0m\u001b[0m\n\u001b[0m\u001b[1;32m      4\u001b[0m \u001b[0mplt\u001b[0m\u001b[0;34m.\u001b[0m\u001b[0mplot\u001b[0m\u001b[0;34m(\u001b[0m\u001b[0mdf\u001b[0m\u001b[0;34m.\u001b[0m\u001b[0mloc\u001b[0m\u001b[0;34m[\u001b[0m\u001b[0mtrain_start\u001b[0m\u001b[0;34m:\u001b[0m\u001b[0mtest_end\u001b[0m\u001b[0;34m]\u001b[0m\u001b[0;34m.\u001b[0m\u001b[0mindex\u001b[0m\u001b[0;34m.\u001b[0m\u001b[0mvalues\u001b[0m\u001b[0;34m,\u001b[0m \u001b[0mpreds\u001b[0m\u001b[0;34m,\u001b[0m \u001b[0mlabel\u001b[0m\u001b[0;34m=\u001b[0m\u001b[0;34m'Hosp'\u001b[0m\u001b[0;34m)\u001b[0m\u001b[0;34m\u001b[0m\u001b[0;34m\u001b[0m\u001b[0m\n\u001b[1;32m      5\u001b[0m \u001b[0mmonth_ticks\u001b[0m \u001b[0;34m=\u001b[0m \u001b[0mmatplotlib\u001b[0m\u001b[0;34m.\u001b[0m\u001b[0mdates\u001b[0m\u001b[0;34m.\u001b[0m\u001b[0mMonthLocator\u001b[0m\u001b[0;34m(\u001b[0m\u001b[0minterval\u001b[0m\u001b[0;34m=\u001b[0m\u001b[0;36m1\u001b[0m\u001b[0;34m)\u001b[0m\u001b[0;34m\u001b[0m\u001b[0;34m\u001b[0m\u001b[0m\n",
      "\u001b[0;32m~/anaconda3/envs/covid_vax_model/lib/python3.7/site-packages/matplotlib/pyplot.py\u001b[0m in \u001b[0;36mplot\u001b[0;34m(scalex, scaley, data, *args, **kwargs)\u001b[0m\n\u001b[1;32m   3019\u001b[0m     return gca().plot(\n\u001b[1;32m   3020\u001b[0m         \u001b[0;34m*\u001b[0m\u001b[0margs\u001b[0m\u001b[0;34m,\u001b[0m \u001b[0mscalex\u001b[0m\u001b[0;34m=\u001b[0m\u001b[0mscalex\u001b[0m\u001b[0;34m,\u001b[0m \u001b[0mscaley\u001b[0m\u001b[0;34m=\u001b[0m\u001b[0mscaley\u001b[0m\u001b[0;34m,\u001b[0m\u001b[0;34m\u001b[0m\u001b[0;34m\u001b[0m\u001b[0m\n\u001b[0;32m-> 3021\u001b[0;31m         **({\"data\": data} if data is not None else {}), **kwargs)\n\u001b[0m\u001b[1;32m   3022\u001b[0m \u001b[0;34m\u001b[0m\u001b[0m\n\u001b[1;32m   3023\u001b[0m \u001b[0;34m\u001b[0m\u001b[0m\n",
      "\u001b[0;32m~/anaconda3/envs/covid_vax_model/lib/python3.7/site-packages/matplotlib/axes/_axes.py\u001b[0m in \u001b[0;36mplot\u001b[0;34m(self, scalex, scaley, data, *args, **kwargs)\u001b[0m\n\u001b[1;32m   1603\u001b[0m         \"\"\"\n\u001b[1;32m   1604\u001b[0m         \u001b[0mkwargs\u001b[0m \u001b[0;34m=\u001b[0m \u001b[0mcbook\u001b[0m\u001b[0;34m.\u001b[0m\u001b[0mnormalize_kwargs\u001b[0m\u001b[0;34m(\u001b[0m\u001b[0mkwargs\u001b[0m\u001b[0;34m,\u001b[0m \u001b[0mmlines\u001b[0m\u001b[0;34m.\u001b[0m\u001b[0mLine2D\u001b[0m\u001b[0;34m)\u001b[0m\u001b[0;34m\u001b[0m\u001b[0;34m\u001b[0m\u001b[0m\n\u001b[0;32m-> 1605\u001b[0;31m         \u001b[0mlines\u001b[0m \u001b[0;34m=\u001b[0m \u001b[0;34m[\u001b[0m\u001b[0;34m*\u001b[0m\u001b[0mself\u001b[0m\u001b[0;34m.\u001b[0m\u001b[0m_get_lines\u001b[0m\u001b[0;34m(\u001b[0m\u001b[0;34m*\u001b[0m\u001b[0margs\u001b[0m\u001b[0;34m,\u001b[0m \u001b[0mdata\u001b[0m\u001b[0;34m=\u001b[0m\u001b[0mdata\u001b[0m\u001b[0;34m,\u001b[0m \u001b[0;34m**\u001b[0m\u001b[0mkwargs\u001b[0m\u001b[0;34m)\u001b[0m\u001b[0;34m]\u001b[0m\u001b[0;34m\u001b[0m\u001b[0;34m\u001b[0m\u001b[0m\n\u001b[0m\u001b[1;32m   1606\u001b[0m         \u001b[0;32mfor\u001b[0m \u001b[0mline\u001b[0m \u001b[0;32min\u001b[0m \u001b[0mlines\u001b[0m\u001b[0;34m:\u001b[0m\u001b[0;34m\u001b[0m\u001b[0;34m\u001b[0m\u001b[0m\n\u001b[1;32m   1607\u001b[0m             \u001b[0mself\u001b[0m\u001b[0;34m.\u001b[0m\u001b[0madd_line\u001b[0m\u001b[0;34m(\u001b[0m\u001b[0mline\u001b[0m\u001b[0;34m)\u001b[0m\u001b[0;34m\u001b[0m\u001b[0;34m\u001b[0m\u001b[0m\n",
      "\u001b[0;32m~/anaconda3/envs/covid_vax_model/lib/python3.7/site-packages/matplotlib/axes/_base.py\u001b[0m in \u001b[0;36m__call__\u001b[0;34m(self, data, *args, **kwargs)\u001b[0m\n\u001b[1;32m    313\u001b[0m                 \u001b[0mthis\u001b[0m \u001b[0;34m+=\u001b[0m \u001b[0margs\u001b[0m\u001b[0;34m[\u001b[0m\u001b[0;36m0\u001b[0m\u001b[0;34m]\u001b[0m\u001b[0;34m,\u001b[0m\u001b[0;34m\u001b[0m\u001b[0;34m\u001b[0m\u001b[0m\n\u001b[1;32m    314\u001b[0m                 \u001b[0margs\u001b[0m \u001b[0;34m=\u001b[0m \u001b[0margs\u001b[0m\u001b[0;34m[\u001b[0m\u001b[0;36m1\u001b[0m\u001b[0;34m:\u001b[0m\u001b[0;34m]\u001b[0m\u001b[0;34m\u001b[0m\u001b[0;34m\u001b[0m\u001b[0m\n\u001b[0;32m--> 315\u001b[0;31m             \u001b[0;32myield\u001b[0m \u001b[0;32mfrom\u001b[0m \u001b[0mself\u001b[0m\u001b[0;34m.\u001b[0m\u001b[0m_plot_args\u001b[0m\u001b[0;34m(\u001b[0m\u001b[0mthis\u001b[0m\u001b[0;34m,\u001b[0m \u001b[0mkwargs\u001b[0m\u001b[0;34m)\u001b[0m\u001b[0;34m\u001b[0m\u001b[0;34m\u001b[0m\u001b[0m\n\u001b[0m\u001b[1;32m    316\u001b[0m \u001b[0;34m\u001b[0m\u001b[0m\n\u001b[1;32m    317\u001b[0m     \u001b[0;32mdef\u001b[0m \u001b[0mget_next_color\u001b[0m\u001b[0;34m(\u001b[0m\u001b[0mself\u001b[0m\u001b[0;34m)\u001b[0m\u001b[0;34m:\u001b[0m\u001b[0;34m\u001b[0m\u001b[0;34m\u001b[0m\u001b[0m\n",
      "\u001b[0;32m~/anaconda3/envs/covid_vax_model/lib/python3.7/site-packages/matplotlib/axes/_base.py\u001b[0m in \u001b[0;36m_plot_args\u001b[0;34m(self, tup, kwargs, return_kwargs)\u001b[0m\n\u001b[1;32m    499\u001b[0m \u001b[0;34m\u001b[0m\u001b[0m\n\u001b[1;32m    500\u001b[0m         \u001b[0;32mif\u001b[0m \u001b[0mx\u001b[0m\u001b[0;34m.\u001b[0m\u001b[0mshape\u001b[0m\u001b[0;34m[\u001b[0m\u001b[0;36m0\u001b[0m\u001b[0;34m]\u001b[0m \u001b[0;34m!=\u001b[0m \u001b[0my\u001b[0m\u001b[0;34m.\u001b[0m\u001b[0mshape\u001b[0m\u001b[0;34m[\u001b[0m\u001b[0;36m0\u001b[0m\u001b[0;34m]\u001b[0m\u001b[0;34m:\u001b[0m\u001b[0;34m\u001b[0m\u001b[0;34m\u001b[0m\u001b[0m\n\u001b[0;32m--> 501\u001b[0;31m             raise ValueError(f\"x and y must have same first dimension, but \"\n\u001b[0m\u001b[1;32m    502\u001b[0m                              f\"have shapes {x.shape} and {y.shape}\")\n\u001b[1;32m    503\u001b[0m         \u001b[0;32mif\u001b[0m \u001b[0mx\u001b[0m\u001b[0;34m.\u001b[0m\u001b[0mndim\u001b[0m \u001b[0;34m>\u001b[0m \u001b[0;36m2\u001b[0m \u001b[0;32mor\u001b[0m \u001b[0my\u001b[0m\u001b[0;34m.\u001b[0m\u001b[0mndim\u001b[0m \u001b[0;34m>\u001b[0m \u001b[0;36m2\u001b[0m\u001b[0;34m:\u001b[0m\u001b[0;34m\u001b[0m\u001b[0;34m\u001b[0m\u001b[0m\n",
      "\u001b[0;31mValueError\u001b[0m: x and y must have same first dimension, but have shapes (123,) and (1,)"
     ]
    },
    {
     "data": {
      "image/png": "[encoded data removed]",
      "text/plain": [
       "<Figure size 576x432 with 1 Axes>"
      ]
     },
     "metadata": {
      "needs_background": "light"
     },
     "output_type": "display_data"
    }
   ],
   "source": [
    "plt.figure(figsize=(8, 6))\n",
    "preds=tf.reduce_mean(model.call(x_test), axis=-1)\n",
    "plt.plot(df.loc[train_start:test_end].index.values, y_test, label='Hosp')\n",
    "plt.plot(df.loc[train_start:test_end].index.values, preds, label='Hosp')\n",
    "month_ticks = matplotlib.dates.MonthLocator(interval=1)\n",
    "ax = plt.gca()\n",
    "ax.xaxis.set_major_locator(month_ticks)\n",
    "plt.legend()\n",
    "plt.title('Mild Compartment')"
   ]
  },
  {
   "cell_type": "code",
   "execution_count": null,
   "id": "41e61f26",
   "metadata": {},
   "outputs": [],
   "source": [
    "plt.figure(figsize=(8, 6))\n",
    "preds=tf.reduce_mean(model.call(x_train), axis=-1)\n",
    "plt.plot(df.loc[train_start:test_end].index.values, y_test, label='CovidEstim Mild')\n",
    "plt.plot(df.loc[train_start:train_end].index.values, pre_training_preds[:len(df.loc[train_start:train_end].index.values)], label='Predicted Before Training Mild')\n",
    "month_ticks = matplotlib.dates.MonthLocator(interval=1)\n",
    "ax = plt.gca()\n",
    "ax.xaxis.set_major_locator(month_ticks)\n",
    "plt.legend()\n",
    "plt.title('Mild Compartment')"
   ]
  },
  {
   "cell_type": "code",
   "execution_count": null,
   "id": "438fbf19",
   "metadata": {},
   "outputs": [],
   "source": [
    "pre_training_preds"
   ]
  },
  {
   "cell_type": "code",
   "execution_count": null,
   "id": "abdd92d0",
   "metadata": {},
   "outputs": [],
   "source": [
    "preds"
   ]
  },
  {
   "cell_type": "code",
   "execution_count": null,
   "id": "7790428a",
   "metadata": {},
   "outputs": [],
   "source": []
  },
  {
   "cell_type": "code",
   "execution_count": null,
   "id": "b2f44042",
   "metadata": {},
   "outputs": [],
   "source": [
    "import tfa.optimizers"
   ]
  },
  {
   "cell_type": "code",
   "execution_count": null,
   "id": "35cf260e",
   "metadata": {},
   "outputs": [],
   "source": [
    "0.8*2000"
   ]
  },
  {
   "cell_type": "code",
   "execution_count": null,
   "id": "9478d8e6",
   "metadata": {},
   "outputs": [],
   "source": [
    "warmup_asymp"
   ]
  },
  {
   "cell_type": "code",
   "execution_count": null,
   "id": "86caf2f4",
   "metadata": {},
   "outputs": [],
   "source": [
    "warmup_mild"
   ]
  },
  {
   "cell_type": "code",
   "execution_count": null,
   "id": "57e20272",
   "metadata": {},
   "outputs": [],
   "source": [
    "y_test"
   ]
  },
  {
   "cell_type": "code",
   "execution_count": null,
   "id": "8cdad1e4",
   "metadata": {},
   "outputs": [],
   "source": [
    "df.loc[warmup_start:'20210510','mild']"
   ]
  },
  {
   "cell_type": "code",
   "execution_count": null,
   "id": "9fdec032",
   "metadata": {},
   "outputs": [],
   "source": [
    "warmup_start"
   ]
  },
  {
   "cell_type": "code",
   "execution_count": null,
   "id": "7c12bd50",
   "metadata": {},
   "outputs": [],
   "source": [
    "warmup_asymp"
   ]
  },
  {
   "cell_type": "code",
   "execution_count": null,
   "id": "e13a5d30",
   "metadata": {},
   "outputs": [],
   "source": [
    "import copy"
   ]
  },
  {
   "cell_type": "code",
   "execution_count": null,
   "id": "1f8313b4",
   "metadata": {},
   "outputs": [],
   "source": [
    "copy_model = copy.deepcopy(model)\n",
    "copy_model.unconstrained_warmup_A_params[-1][2]['loc'] = tf.Variable(2500.0, dtype=tf.float32)\n",
    "copy_model.unconstrained_warmup_A_params[-1][1]['loc'] = tf.Variable(2500.0, dtype=tf.float32)\n",
    "copy_model.unconstrained_warmup_A_params[-1][0]['loc'] = tf.Variable(2500.0, dtype=tf.float32)\n",
    "copy_model.unconstrained_nu_M[-1]['loc'] = tf.Variable(3.0, dtype=tf.float32)"
   ]
  },
  {
   "cell_type": "code",
   "execution_count": null,
   "id": "45e6ef83",
   "metadata": {},
   "outputs": [],
   "source": [
    "plt.figure(figsize=(8, 6))\n",
    "copy_preds=tf.reduce_mean(copy_model.call(x_train), axis=-1)\n",
    "plt.plot(df.loc[train_start:test_end].index.values, y_test, label='CovidEstim Mild')\n",
    "plt.plot(df.loc[train_start:test_end].index.values, copy_preds, label='Predicted Mild')\n",
    "month_ticks = matplotlib.dates.MonthLocator(interval=1)\n",
    "ax = plt.gca()\n",
    "ax.xaxis.set_major_locator(month_ticks)\n",
    "plt.legend()\n",
    "plt.title('Mild Compartment')"
   ]
  },
  {
   "cell_type": "code",
   "execution_count": null,
   "id": "5bb5613c",
   "metadata": {},
   "outputs": [],
   "source": [
    "loss(y_test, copy_model.call(x_train))"
   ]
  },
  {
   "cell_type": "code",
   "execution_count": null,
   "id": "57a7f0ca",
   "metadata": {},
   "outputs": [],
   "source": [
    "copy_model.unconstrained_nu_M"
   ]
  },
  {
   "cell_type": "code",
   "execution_count": null,
   "id": "f648a7c0",
   "metadata": {},
   "outputs": [],
   "source": [
    "copy_model.unconstrained_rho_M[-1]['loc']"
   ]
  },
  {
   "cell_type": "code",
   "execution_count": null,
   "id": "bbc0824f",
   "metadata": {},
   "outputs": [],
   "source": [
    "tf.math.sigmoid(1.2)"
   ]
  },
  {
   "cell_type": "code",
   "execution_count": null,
   "id": "9ef7bd49",
   "metadata": {},
   "outputs": [],
   "source": [
    "warmup_A_params[-1]"
   ]
  },
  {
   "cell_type": "code",
   "execution_count": null,
   "id": "43e930c3",
   "metadata": {},
   "outputs": [],
   "source": [
    "warmup_asymp"
   ]
  },
  {
   "cell_type": "code",
   "execution_count": null,
   "id": "37263281",
   "metadata": {},
   "outputs": [],
   "source": [
    "warmup_mild"
   ]
  },
  {
   "cell_type": "code",
   "execution_count": null,
   "id": "148b9927",
   "metadata": {},
   "outputs": [],
   "source": [
    "1800/2500"
   ]
  },
  {
   "cell_type": "code",
   "execution_count": null,
   "id": "f9128e0c",
   "metadata": {},
   "outputs": [],
   "source": [
    "plt.figure(figsize=(8, 6))\n",
    "copy_preds=tf.reduce_mean(copy_model.call(x_train), axis=-1)\n",
    "plt.plot(df.loc[train_start:test_end].index.values, df.loc[train_start:test_end, 'mild']/df.loc[train_start:test_end, 'asymp'], label='Asymp/Mild')\n",
    "#plt.plot(df.loc[train_start:test_end].index.values, preds, label='Predicted Mild')\n",
    "month_ticks = matplotlib.dates.MonthLocator(interval=1)\n",
    "ax = plt.gca()\n",
    "ax.xaxis.set_major_locator(month_ticks)\n",
    "plt.legend()\n",
    "plt.title('Empirical Rho_M')"
   ]
  },
  {
   "cell_type": "code",
   "execution_count": null,
   "id": "d7e6cd2f",
   "metadata": {},
   "outputs": [],
   "source": [
    "0.96**(1/5.2)"
   ]
  },
  {
   "cell_type": "code",
   "execution_count": null,
   "id": "86c21262",
   "metadata": {},
   "outputs": [],
   "source": [
    "warmup_asymp"
   ]
  },
  {
   "cell_type": "code",
   "execution_count": null,
   "id": "7adc73fd",
   "metadata": {},
   "outputs": [],
   "source": [
    "x_train"
   ]
  },
  {
   "cell_type": "code",
   "execution_count": null,
   "id": "a8c2f01f",
   "metadata": {},
   "outputs": [],
   "source": [
    "model.T_serial_samples_constrained"
   ]
  },
  {
   "cell_type": "code",
   "execution_count": null,
   "id": "d4e263a7",
   "metadata": {},
   "outputs": [],
   "source": [
    "copy_model.call(x_train,return_all=True)"
   ]
  },
  {
   "cell_type": "code",
   "execution_count": null,
   "id": "84283817",
   "metadata": {},
   "outputs": [],
   "source": [
    "warmup_asymp*x_train[2] ** (1/model.T_serial_samples_constrained)"
   ]
  },
  {
   "cell_type": "code",
   "execution_count": null,
   "id": "b375b608",
   "metadata": {},
   "outputs": [],
   "source": [
    "copy_model.warmup_A_samples[1]"
   ]
  },
  {
   "cell_type": "code",
   "execution_count": null,
   "id": "e3aeff13",
   "metadata": {},
   "outputs": [],
   "source": [
    "warmup_A"
   ]
  },
  {
   "cell_type": "code",
   "execution_count": null,
   "id": "4dc81004",
   "metadata": {},
   "outputs": [],
   "source": [
    "all_preds = model.call(x_train, return_all=True)"
   ]
  },
  {
   "cell_type": "code",
   "execution_count": null,
   "id": "ddbf95c3",
   "metadata": {},
   "outputs": [],
   "source": [
    "all_preds[Comp.A.value][1].stack()[:,0]"
   ]
  },
  {
   "cell_type": "code",
   "execution_count": null,
   "id": "f4b0633f",
   "metadata": {},
   "outputs": [],
   "source": [
    "warmup_A_params"
   ]
  },
  {
   "cell_type": "code",
   "execution_count": null,
   "id": "c0342055",
   "metadata": {},
   "outputs": [],
   "source": [
    "tfp.math.softplus_inverse(100.0/1000/2)"
   ]
  },
  {
   "cell_type": "code",
   "execution_count": null,
   "id": "ee89820c",
   "metadata": {},
   "outputs": [],
   "source": [
    "tfp.math.softplus_inverse(4.0)"
   ]
  },
  {
   "cell_type": "code",
   "execution_count": null,
   "id": "cc87efc4",
   "metadata": {},
   "outputs": [],
   "source": [
    "model.variables"
   ]
  },
  {
   "cell_type": "code",
   "execution_count": 19,
   "id": "36097317",
   "metadata": {},
   "outputs": [
    {
     "data": {
      "text/plain": [
       "[<tf.Variable 'rho_M_loc_0:0' shape=() dtype=float32, numpy=0.6553483>,\n",
       " <tf.Variable 'rho_M_scale_0:0' shape=() dtype=float32, numpy=-0.9362318>,\n",
       " <tf.Variable 'rho_M_loc_1:0' shape=() dtype=float32, numpy=5.2011137>,\n",
       " <tf.Variable 'rho_M_scale_1:0' shape=() dtype=float32, numpy=3.6433797>,\n",
       " <tf.Variable 'lambda_M_loc_0:0' shape=() dtype=float32, numpy=4.669756>,\n",
       " <tf.Variable 'lambda_M_scale_0:0' shape=() dtype=float32, numpy=0.5993612>,\n",
       " <tf.Variable 'lambda_M_loc_1:0' shape=() dtype=float32, numpy=4.6882906>,\n",
       " <tf.Variable 'lambda_M_scale_1:0' shape=() dtype=float32, numpy=0.5859106>,\n",
       " <tf.Variable 'nu_M_loc_0:0' shape=() dtype=float32, numpy=3.1123543>,\n",
       " <tf.Variable 'nu_M_scale_0:0' shape=() dtype=float32, numpy=0.95269835>,\n",
       " <tf.Variable 'nu_M_loc_1:0' shape=() dtype=float32, numpy=3.0989063>,\n",
       " <tf.Variable 'nu_M_scale_1:0' shape=() dtype=float32, numpy=0.9564895>,\n",
       " <tf.Variable 'rho_G_loc_0:0' shape=() dtype=float32, numpy=-2.8470123>,\n",
       " <tf.Variable 'rho_G_scale_0:0' shape=() dtype=float32, numpy=-2.105567>,\n",
       " <tf.Variable 'rho_G_loc_1:0' shape=() dtype=float32, numpy=-1.8623333>,\n",
       " <tf.Variable 'rho_G_scale_1:0' shape=() dtype=float32, numpy=-1.0424335>,\n",
       " <tf.Variable 'lambda_G_loc_0:0' shape=() dtype=float32, numpy=3.1748686>,\n",
       " <tf.Variable 'lambda_G_scale_0:0' shape=() dtype=float32, numpy=0.67922944>,\n",
       " <tf.Variable 'lambda_G_loc_1:0' shape=() dtype=float32, numpy=3.2236516>,\n",
       " <tf.Variable 'lambda_G_scale_1:0' shape=() dtype=float32, numpy=0.7138681>,\n",
       " <tf.Variable 'nu_G_loc_0:0' shape=() dtype=float32, numpy=9.326155>,\n",
       " <tf.Variable 'nu_G_scale_0:0' shape=() dtype=float32, numpy=2.8314698>,\n",
       " <tf.Variable 'nu_G_loc_1:0' shape=() dtype=float32, numpy=9.243238>,\n",
       " <tf.Variable 'nu_G_scale_1:0' shape=() dtype=float32, numpy=2.865079>,\n",
       " <tf.Variable 'rho_I_loc_0:0' shape=() dtype=float32, numpy=-1.5937781>,\n",
       " <tf.Variable 'rho_I_scale_0:0' shape=() dtype=float32, numpy=-0.6885071>,\n",
       " <tf.Variable 'rho_I_loc_1:0' shape=() dtype=float32, numpy=-0.9708114>,\n",
       " <tf.Variable 'rho_I_scale_1:0' shape=() dtype=float32, numpy=0.03058441>,\n",
       " <tf.Variable 'lambda_I_loc_0:0' shape=() dtype=float32, numpy=3.15441>,\n",
       " <tf.Variable 'lambda_I_scale_0:0' shape=() dtype=float32, numpy=0.69832265>,\n",
       " <tf.Variable 'lambda_I_loc_1:0' shape=() dtype=float32, numpy=3.2331495>,\n",
       " <tf.Variable 'lambda_I_scale_1:0' shape=() dtype=float32, numpy=0.7096625>,\n",
       " <tf.Variable 'nu_I_loc_0:0' shape=() dtype=float32, numpy=9.093422>,\n",
       " <tf.Variable 'nu_I_scale_0:0' shape=() dtype=float32, numpy=2.929336>,\n",
       " <tf.Variable 'nu_I_loc_1:0' shape=() dtype=float32, numpy=9.280565>,\n",
       " <tf.Variable 'nu_I_scale_1:0' shape=() dtype=float32, numpy=2.8409524>,\n",
       " <tf.Variable 'lambda_I_bar_loc_0:0' shape=() dtype=float32, numpy=3.2428663>,\n",
       " <tf.Variable 'lambda_I_bar_scale_0:0' shape=() dtype=float32, numpy=0.69955957>,\n",
       " <tf.Variable 'lambda_I_bar_loc_1:0' shape=() dtype=float32, numpy=3.1587386>,\n",
       " <tf.Variable 'lambda_I_bar_scale_1:0' shape=() dtype=float32, numpy=0.71543646>,\n",
       " <tf.Variable 'nu_I_bar_loc_0:0' shape=() dtype=float32, numpy=9.724097>,\n",
       " <tf.Variable 'nu_I_bar_scale_0:0' shape=() dtype=float32, numpy=2.5122771>,\n",
       " <tf.Variable 'nu_I_bar_loc_1:0' shape=() dtype=float32, numpy=9.42331>,\n",
       " <tf.Variable 'nu_I_bar_scale_1:0' shape=() dtype=float32, numpy=2.632017>,\n",
       " <tf.Variable 'rho_D_loc_0:0' shape=() dtype=float32, numpy=18.042614>,\n",
       " <tf.Variable 'rho_D_scale_0:0' shape=() dtype=float32, numpy=10.045612>,\n",
       " <tf.Variable 'rho_D_loc_1:0' shape=() dtype=float32, numpy=23.843105>,\n",
       " <tf.Variable 'rho_D_scale_1:0' shape=() dtype=float32, numpy=13.232723>,\n",
       " <tf.Variable 'lambda_D_loc_0:0' shape=() dtype=float32, numpy=3.1695616>,\n",
       " <tf.Variable 'lambda_D_scale_0:0' shape=() dtype=float32, numpy=0.67055833>,\n",
       " <tf.Variable 'lambda_D_loc_1:0' shape=() dtype=float32, numpy=3.2237284>,\n",
       " <tf.Variable 'lambda_D_scale_1:0' shape=() dtype=float32, numpy=0.70227134>,\n",
       " <tf.Variable 'nu_D_loc_0:0' shape=() dtype=float32, numpy=9.333669>,\n",
       " <tf.Variable 'nu_D_scale_0:0' shape=() dtype=float32, numpy=2.6667876>,\n",
       " <tf.Variable 'nu_D_loc_1:0' shape=() dtype=float32, numpy=9.256316>,\n",
       " <tf.Variable 'nu_D_scale_1:0' shape=() dtype=float32, numpy=2.8028874>,\n",
       " <tf.Variable 'lambda_D_bar_loc_0:0' shape=() dtype=float32, numpy=3.2059498>,\n",
       " <tf.Variable 'lambda_D_bar_scale_0:0' shape=() dtype=float32, numpy=0.7087883>,\n",
       " <tf.Variable 'lambda_D_bar_loc_1:0' shape=() dtype=float32, numpy=3.214727>,\n",
       " <tf.Variable 'lambda_D_bar_scale_1:0' shape=() dtype=float32, numpy=0.6669196>,\n",
       " <tf.Variable 'nu_D_bar_loc_0:0' shape=() dtype=float32, numpy=9.041854>,\n",
       " <tf.Variable 'nu_D_bar_scale_0:0' shape=() dtype=float32, numpy=2.9010987>,\n",
       " <tf.Variable 'nu_D_bar_loc_1:0' shape=() dtype=float32, numpy=9.109884>,\n",
       " <tf.Variable 'nu_D_bar_scale_1:0' shape=() dtype=float32, numpy=2.89564>,\n",
       " <tf.Variable 'warmup_A_slope_0:0' shape=() dtype=float32, numpy=-0.0493134>,\n",
       " <tf.Variable 'warmup_A_intercept_0:0' shape=() dtype=float32, numpy=8.738278>,\n",
       " <tf.Variable 'warmup_A_scale_0:0' shape=() dtype=float32, numpy=-0.113214076>,\n",
       " <tf.Variable 'warmup_A_slope_1:0' shape=() dtype=float32, numpy=0.0015425074>,\n",
       " <tf.Variable 'warmup_A_intercept_1:0' shape=() dtype=float32, numpy=3.769431>,\n",
       " <tf.Variable 'warmup_A_scale_1:0' shape=() dtype=float32, numpy=-0.74761117>,\n",
       " <tf.Variable 'warmup_M_slope_0:0' shape=() dtype=float32, numpy=0.0009754668>,\n",
       " <tf.Variable 'warmup_M_intercept_0:0' shape=() dtype=float32, numpy=6.660044>,\n",
       " <tf.Variable 'warmup_M_scale_0:0' shape=() dtype=float32, numpy=-0.053273644>,\n",
       " <tf.Variable 'warmup_M_slope_1:0' shape=() dtype=float32, numpy=-0.00627273>,\n",
       " <tf.Variable 'warmup_M_intercept_1:0' shape=() dtype=float32, numpy=2.9003572>,\n",
       " <tf.Variable 'warmup_M_scale_1:0' shape=() dtype=float32, numpy=-0.997679>,\n",
       " <tf.Variable 'warmup_G_slope_0:0' shape=() dtype=float32, numpy=-0.02248905>,\n",
       " <tf.Variable 'warmup_G_intercept_0:0' shape=() dtype=float32, numpy=-0.28608024>,\n",
       " <tf.Variable 'warmup_G_scale_0:0' shape=() dtype=float32, numpy=-1.6811072>,\n",
       " <tf.Variable 'warmup_G_slope_1:0' shape=() dtype=float32, numpy=0.02542814>,\n",
       " <tf.Variable 'warmup_G_intercept_1:0' shape=() dtype=float32, numpy=-0.9425>,\n",
       " <tf.Variable 'warmup_G_scale_1:0' shape=() dtype=float32, numpy=-1.0234904>,\n",
       " <tf.Variable 'warmup_GR_slope_0:0' shape=() dtype=float32, numpy=0.0002575122>,\n",
       " <tf.Variable 'warmup_GR_intercept_0:0' shape=() dtype=float32, numpy=-1.231945>,\n",
       " <tf.Variable 'warmup_GR_scale_0:0' shape=() dtype=float32, numpy=-0.40693313>,\n",
       " <tf.Variable 'warmup_GR_slope_1:0' shape=() dtype=float32, numpy=9.883098e-05>,\n",
       " <tf.Variable 'warmup_GR_intercept_1:0' shape=() dtype=float32, numpy=-1.8359863>,\n",
       " <tf.Variable 'warmup_GR_scale_1:0' shape=() dtype=float32, numpy=-0.51396394>,\n",
       " <tf.Variable 'init_count_G_loc_0:0' shape=() dtype=float32, numpy=3.1328301>,\n",
       " <tf.Variable 'init_count_G_scale_0:0' shape=() dtype=float32, numpy=-2.0089757>,\n",
       " <tf.Variable 'init_count_G_loc_1:0' shape=() dtype=float32, numpy=1.6287054>,\n",
       " <tf.Variable 'init_count_G_scale_1:0' shape=() dtype=float32, numpy=-1.7039872>,\n",
       " <tf.Variable 'warmup_I_slope_0:0' shape=() dtype=float32, numpy=-0.04470925>,\n",
       " <tf.Variable 'warmup_I_intercept_0:0' shape=() dtype=float32, numpy=-1.7084843>,\n",
       " <tf.Variable 'warmup_I_scale_0:0' shape=() dtype=float32, numpy=-1.196465>,\n",
       " <tf.Variable 'warmup_I_slope_1:0' shape=() dtype=float32, numpy=0.009785034>,\n",
       " <tf.Variable 'warmup_I_intercept_1:0' shape=() dtype=float32, numpy=-2.3031492>,\n",
       " <tf.Variable 'warmup_I_scale_1:0' shape=() dtype=float32, numpy=-0.896651>,\n",
       " <tf.Variable 'warmup_IR_slope_0:0' shape=() dtype=float32, numpy=-0.00027316328>,\n",
       " <tf.Variable 'warmup_IR_intercept_0:0' shape=() dtype=float32, numpy=-2.5189002>,\n",
       " <tf.Variable 'warmup_IR_scale_0:0' shape=() dtype=float32, numpy=-0.5862265>,\n",
       " <tf.Variable 'warmup_IR_slope_1:0' shape=() dtype=float32, numpy=-0.0004175248>,\n",
       " <tf.Variable 'warmup_IR_intercept_1:0' shape=() dtype=float32, numpy=-3.0932837>,\n",
       " <tf.Variable 'warmup_IR_scale_1:0' shape=() dtype=float32, numpy=-0.6271348>,\n",
       " <tf.Variable 'init_count_I_loc_0:0' shape=() dtype=float32, numpy=0.4685281>,\n",
       " <tf.Variable 'init_count_I_scale_0:0' shape=() dtype=float32, numpy=-2.3287885>,\n",
       " <tf.Variable 'init_count_I_loc_1:0' shape=() dtype=float32, numpy=-0.3284977>,\n",
       " <tf.Variable 'init_count_I_scale_1:0' shape=() dtype=float32, numpy=-2.1147738>,\n",
       " <tf.Variable 'T_serial_A_loc:0' shape=() dtype=float32, numpy=5.333335>,\n",
       " <tf.Variable 'T_serial_A_scale:0' shape=() dtype=float32, numpy=0.27514523>,\n",
       " <tf.Variable 'epsilon_A_loc:0' shape=() dtype=float32, numpy=-2.0641208>,\n",
       " <tf.Variable 'epsilon_A_scale:0' shape=() dtype=float32, numpy=-0.71910346>,\n",
       " <tf.Variable 'delta_A_loc:0' shape=() dtype=float32, numpy=-3.7708986>,\n",
       " <tf.Variable 'delta_A_scale:0' shape=() dtype=float32, numpy=-1.3624104>]"
      ]
     },
     "execution_count": 19,
     "metadata": {},
     "output_type": "execute_result"
    }
   ],
   "source": [
    "model.trainable_variables"
   ]
  },
  {
   "cell_type": "code",
   "execution_count": null,
   "id": "bc3f2196",
   "metadata": {},
   "outputs": [],
   "source": [
    "model.losses"
   ]
  },
  {
   "cell_type": "code",
   "execution_count": null,
   "id": "36cb417f",
   "metadata": {},
   "outputs": [],
   "source": [
    "model.prior_distros[Comp.M.value][0]['warmup_M'][0].parameters['distribution'].log_prob(6)"
   ]
  },
  {
   "cell_type": "code",
   "execution_count": null,
   "id": "7e816e1b",
   "metadata": {},
   "outputs": [],
   "source": [
    "model.prior_distros[Comp.M.value][1]['warmup_M'][0].log_prob(\n",
    "                model.warmup_M_samples[1][0])+tfp.bijectors.Chain([tfp.bijectors.Softplus(), tfp.bijectors.Scale(100)]).forward_log_det_jacobian(model.warmup_M_samples[1][0])"
   ]
  },
  {
   "cell_type": "code",
   "execution_count": null,
   "id": "cd52fe35",
   "metadata": {},
   "outputs": [],
   "source": []
  },
  {
   "cell_type": "code",
   "execution_count": null,
   "id": "e5dcd148",
   "metadata": {},
   "outputs": [],
   "source": [
    "tf.reduce_sum([tf.reduce_sum([-tf.reduce_sum(tf.reduce_mean(\n",
    "            model.prior_distros[Comp.M.value][status.value]['warmup_M'][day].log_prob(\n",
    "                model.warmup_M_samples[status.value][day]) + \\\n",
    "            tfp.bijectors.Chain([tfp.bijectors.Softplus(), tfp.bijectors.Scale(100)]).forward_log_det_jacobian(model.warmup_M_samples[status.value][day])\n",
    "            - model.warmup_M_probs[status.value][day], axis=-1)) for day in range(model.transition_window)]) for status in\n",
    "                                             model.vax_statuses])"
   ]
  },
  {
   "cell_type": "code",
   "execution_count": null,
   "id": "3c482e9b",
   "metadata": {},
   "outputs": [],
   "source": [
    "[tf.reduce_sum([-tf.reduce_sum(tf.reduce_mean(\n",
    "            model.prior_distros[Comp.M.value][status.value]['warmup_M'][day].log_prob(\n",
    "                model.warmup_M_samples[status.value][day]) + \\\n",
    "            tfp.bijectors.Chain([tfp.bijectors.Softplus(), tfp.bijectors.Scale(100)]).forward_log_det_jacobian(model.warmup_M_samples[status.value][day])\n",
    "            - model.warmup_M_probs[status.value][day], axis=-1)) for day in range(model.transition_window)]) for status in\n",
    "                                             model.vax_statuses]"
   ]
  },
  {
   "cell_type": "code",
   "execution_count": null,
   "id": "ae216703",
   "metadata": {},
   "outputs": [],
   "source": [
    "[[-tf.reduce_sum(tf.reduce_mean(\n",
    "            model.prior_distros[Comp.M.value][status.value]['warmup_M'][day].log_prob(\n",
    "                model.warmup_M_samples[status.value][day]) + \\\n",
    "            tfp.bijectors.Chain([tfp.bijectors.Softplus(), tfp.bijectors.Scale(100)]).forward_log_det_jacobian(model.warmup_M_samples[status.value][day])\n",
    "            - model.warmup_M_probs[status.value][day], axis=-1)) for day in range(model.transition_window)] for status in\n",
    "                                             model.vax_statuses]"
   ]
  },
  {
   "cell_type": "code",
   "execution_count": null,
   "id": "8ce6a3cf",
   "metadata": {},
   "outputs": [],
   "source": [
    "[[-tf.reduce_mean(\n",
    "            model.prior_distros[Comp.M.value][status.value]['warmup_M'][day].log_prob(\n",
    "                model.warmup_M_samples[status.value][day]) + \\\n",
    "            tfp.bijectors.Chain([tfp.bijectors.Softplus(), tfp.bijectors.Scale(100)]).forward_log_det_jacobian(model.warmup_M_samples[status.value][day])\n",
    "            - model.warmup_M_probs[status.value][day], axis=-1) for day in range(model.transition_window)] for status in\n",
    "                                             model.vax_statuses]"
   ]
  },
  {
   "cell_type": "code",
   "execution_count": null,
   "id": "10331019",
   "metadata": {},
   "outputs": [],
   "source": [
    "[tf.reduce_mean(\n",
    "            model.prior_distros[Comp.M.value][0]['warmup_M'][day].log_prob(\n",
    "                model.warmup_M_samples[0][day]) + \\\n",
    "            tfp.bijectors.Chain([tfp.bijectors.Softplus(), tfp.bijectors.Scale(100)]).forward_log_det_jacobian(model.warmup_M_samples[0][day])\n",
    "            - model.warmup_M_probs[0][day], axis=-1) for day in range(model.transition_window)]"
   ]
  },
  {
   "cell_type": "code",
   "execution_count": null,
   "id": "d736aa44",
   "metadata": {},
   "outputs": [],
   "source": [
    "[tf.reduce_mean(\n",
    "            model.prior_distros[Comp.M.value][0]['warmup_M'][day].log_prob(\n",
    "                model.warmup_M_samples[0][day]), axis=-1) for day in range(model.transition_window)]"
   ]
  },
  {
   "cell_type": "code",
   "execution_count": null,
   "id": "a9e0827f",
   "metadata": {},
   "outputs": [],
   "source": [
    "model.warmup_M_samples[0][day]"
   ]
  },
  {
   "cell_type": "code",
   "execution_count": null,
   "id": "a128023a",
   "metadata": {},
   "outputs": [],
   "source": [
    "tf.reduce_mean(\n",
    "            model.prior_distros[Comp.M.value][0]['warmup_M'][day].log_prob(\n",
    "                model.warmup_M_samples[0][day]), axis=-1)"
   ]
  },
  {
   "cell_type": "code",
   "execution_count": null,
   "id": "b958cc1e",
   "metadata": {},
   "outputs": [],
   "source": [
    "model.prior_distros[Comp.A.value][0]['warmup_A'][0].parameters['distribution'].mean()"
   ]
  },
  {
   "cell_type": "code",
   "execution_count": null,
   "id": "12c18df9",
   "metadata": {},
   "outputs": [],
   "source": [
    "tfp.math.softplus_inverse(0.0)"
   ]
  },
  {
   "cell_type": "code",
   "execution_count": null,
   "id": "d9007256",
   "metadata": {},
   "outputs": [],
   "source": [
    "len(model.trainable_variables)"
   ]
  },
  {
   "cell_type": "code",
   "execution_count": null,
   "id": "cfc7da5c",
   "metadata": {},
   "outputs": [],
   "source": [
    "curr_preds = model.call([x_train])"
   ]
  },
  {
   "cell_type": "code",
   "execution_count": null,
   "id": "9f6e7998",
   "metadata": {
    "scrolled": true
   },
   "outputs": [],
   "source": [
    "curr_preds"
   ]
  },
  {
   "cell_type": "code",
   "execution_count": null,
   "id": "9f05668f",
   "metadata": {},
   "outputs": [],
   "source": [
    "loss(np.asarray([(y_train['G_count'], y_train['G_in'], y_train['I_count'], y_train['D_in'])]), curr_preds)"
   ]
  },
  {
   "cell_type": "code",
   "execution_count": null,
   "id": "db0f9e90",
   "metadata": {},
   "outputs": [],
   "source": [
    "model.losses"
   ]
  },
  {
   "cell_type": "code",
   "execution_count": null,
   "id": "73911661",
   "metadata": {},
   "outputs": [],
   "source": [
    "curr_preds[-1][0].numpy()"
   ]
  },
  {
   "cell_type": "code",
   "execution_count": null,
   "id": "5292f409",
   "metadata": {},
   "outputs": [],
   "source": [
    "preds"
   ]
  },
  {
   "cell_type": "code",
   "execution_count": null,
   "id": "16d1e9bc",
   "metadata": {},
   "outputs": [],
   "source": [
    "model.init_count_G_samples[0].numpy().max()"
   ]
  },
  {
   "cell_type": "code",
   "execution_count": null,
   "id": "91653049",
   "metadata": {},
   "outputs": [],
   "source": [
    "model.init_count_I_samples[0].numpy().min()"
   ]
  },
  {
   "cell_type": "code",
   "execution_count": 20,
   "id": "6efd08f5",
   "metadata": {},
   "outputs": [],
   "source": [
    "forecasted_fluxes, forecasted_counts = model.call(x_test, return_all=True)"
   ]
  },
  {
   "cell_type": "code",
   "execution_count": 21,
   "id": "f4aa164c",
   "metadata": {},
   "outputs": [
    {
     "data": {
      "text/plain": [
       "Text(0.5, 1.0, 'ICU Count')"
      ]
     },
     "execution_count": 21,
     "metadata": {},
     "output_type": "execute_result"
    },
    {
     "data": {
      "image/png": "[encoded data removed]",
      "text/plain": [
       "<Figure size 576x432 with 1 Axes>"
      ]
     },
     "metadata": {
      "needs_background": "light"
     },
     "output_type": "display_data"
    }
   ],
   "source": [
    "plt.figure(figsize=(8, 6))\n",
    "preds=tf.reduce_mean(model.call(x_test), axis=-1)\n",
    "plt.plot(df.loc[train_start:test_end].index.values, y_test['I_count'], label='ICU')\n",
    "plt.plot(df.loc[train_start:test_end].index.values, preds[0][2], label='ICU')\n",
    "month_ticks = matplotlib.dates.MonthLocator(interval=1)\n",
    "ax = plt.gca()\n",
    "ax.xaxis.set_major_locator(month_ticks)\n",
    "plt.legend()\n",
    "plt.title('ICU Count')"
   ]
  },
  {
   "cell_type": "code",
   "execution_count": 22,
   "id": "851f90c2",
   "metadata": {},
   "outputs": [
    {
     "name": "stderr",
     "output_type": "stream",
     "text": [
      "No handles with labels found to put in legend.\n"
     ]
    },
    {
     "data": {
      "text/plain": [
       "Text(0.5, 1.0, 'Gen Count')"
      ]
     },
     "execution_count": 22,
     "metadata": {},
     "output_type": "execute_result"
    },
    {
     "data": {
      "image/png": "[encoded data removed]",
      "text/plain": [
       "<Figure size 576x432 with 1 Axes>"
      ]
     },
     "metadata": {
      "needs_background": "light"
     },
     "output_type": "display_data"
    }
   ],
   "source": [
    "plt.figure(figsize=(8, 6))\n",
    "plt.plot(df.loc[train_start:test_end].index.values, y_test['G_count'], )\n",
    "plt.plot(df.loc[train_start:test_end].index.values, preds[0][0])\n",
    "month_ticks = matplotlib.dates.MonthLocator(interval=1)\n",
    "ax = plt.gca()\n",
    "ax.xaxis.set_major_locator(month_ticks)\n",
    "plt.legend()\n",
    "plt.title('Gen Count')"
   ]
  },
  {
   "cell_type": "code",
   "execution_count": 23,
   "id": "9a9b08a5",
   "metadata": {},
   "outputs": [
    {
     "name": "stderr",
     "output_type": "stream",
     "text": [
      "No handles with labels found to put in legend.\n"
     ]
    },
    {
     "data": {
      "text/plain": [
       "Text(0.5, 1.0, 'Gen Influx')"
      ]
     },
     "execution_count": 23,
     "metadata": {},
     "output_type": "execute_result"
    },
    {
     "data": {
      "image/png": "[encoded data removed]",
      "text/plain": [
       "<Figure size 576x432 with 1 Axes>"
      ]
     },
     "metadata": {
      "needs_background": "light"
     },
     "output_type": "display_data"
    }
   ],
   "source": [
    "plt.figure(figsize=(8, 6))\n",
    "plt.plot(df.loc[train_start:test_end].index.values, y_test['G_in'], )\n",
    "plt.plot(df.loc[train_start:test_end].index.values, preds[0][1])\n",
    "month_ticks = matplotlib.dates.MonthLocator(interval=1)\n",
    "ax = plt.gca()\n",
    "ax.xaxis.set_major_locator(month_ticks)\n",
    "plt.legend()\n",
    "plt.title('Gen Influx')"
   ]
  },
  {
   "cell_type": "code",
   "execution_count": 24,
   "id": "7a1aee9a",
   "metadata": {},
   "outputs": [
    {
     "name": "stderr",
     "output_type": "stream",
     "text": [
      "No handles with labels found to put in legend.\n"
     ]
    },
    {
     "data": {
      "text/plain": [
       "Text(0.5, 1.0, 'Death Influx')"
      ]
     },
     "execution_count": 24,
     "metadata": {},
     "output_type": "execute_result"
    },
    {
     "data": {
      "image/png": "[encoded data removed]",
      "text/plain": [
       "<Figure size 576x432 with 1 Axes>"
      ]
     },
     "metadata": {
      "needs_background": "light"
     },
     "output_type": "display_data"
    }
   ],
   "source": [
    "plt.figure(figsize=(8, 6))\n",
    "plt.plot(df.loc[train_start:test_end].index.values, y_test['D_in'], )\n",
    "plt.plot(df.loc[train_start:test_end].index.values, preds[0][3])\n",
    "month_ticks = matplotlib.dates.MonthLocator(interval=1)\n",
    "ax = plt.gca()\n",
    "ax.xaxis.set_major_locator(month_ticks)\n",
    "plt.legend()\n",
    "plt.title('Death Influx')"
   ]
  },
  {
   "cell_type": "code",
   "execution_count": 25,
   "id": "90b47139",
   "metadata": {},
   "outputs": [
    {
     "name": "stderr",
     "output_type": "stream",
     "text": [
      "No handles with labels found to put in legend.\n"
     ]
    },
    {
     "data": {
      "text/plain": [
       "Text(0.5, 1.0, 'Forecasted Asymp In')"
      ]
     },
     "execution_count": 25,
     "metadata": {},
     "output_type": "execute_result"
    },
    {
     "data": {
      "image/png": "[encoded data removed]",
      "text/plain": [
       "<Figure size 576x432 with 1 Axes>"
      ]
     },
     "metadata": {
      "needs_background": "light"
     },
     "output_type": "display_data"
    }
   ],
   "source": [
    "plt.figure(figsize=(8, 6))\n",
    "plt.plot(df.loc[train_start:test_end].index.values,\n",
    "         tf.reduce_mean(\n",
    "        forecasted_fluxes[Comp.A.value][Vax.yes.value].stack() + forecasted_fluxes[Comp.A.value][Vax.no.value].stack(),\n",
    "         axis=-1)\n",
    "        )\n",
    "month_ticks = matplotlib.dates.MonthLocator(interval=1)\n",
    "ax = plt.gca()\n",
    "ax.xaxis.set_major_locator(month_ticks)\n",
    "plt.legend()\n",
    "plt.title('Forecasted Asymp In')"
   ]
  },
  {
   "cell_type": "code",
   "execution_count": 26,
   "id": "6f5f83e7",
   "metadata": {},
   "outputs": [
    {
     "name": "stderr",
     "output_type": "stream",
     "text": [
      "No handles with labels found to put in legend.\n"
     ]
    },
    {
     "data": {
      "text/plain": [
       "Text(0.5, 1.0, 'Forecasted Mild In')"
      ]
     },
     "execution_count": 26,
     "metadata": {},
     "output_type": "execute_result"
    },
    {
     "data": {
      "image/png": "[encoded data removed]",
      "text/plain": [
       "<Figure size 576x432 with 1 Axes>"
      ]
     },
     "metadata": {
      "needs_background": "light"
     },
     "output_type": "display_data"
    }
   ],
   "source": [
    "plt.figure(figsize=(8, 6))\n",
    "plt.plot(df.loc[train_start:test_end].index.values,\n",
    "         tf.reduce_mean(\n",
    "        forecasted_fluxes[Comp.M.value][Vax.yes.value].stack() + forecasted_fluxes[Comp.M.value][Vax.no.value].stack(),\n",
    "         axis=-1)\n",
    "        )\n",
    "month_ticks = matplotlib.dates.MonthLocator(interval=1)\n",
    "ax = plt.gca()\n",
    "ax.xaxis.set_major_locator(month_ticks)\n",
    "plt.legend()\n",
    "plt.title('Forecasted Mild In')"
   ]
  },
  {
   "cell_type": "code",
   "execution_count": 27,
   "id": "a641b814",
   "metadata": {},
   "outputs": [
    {
     "name": "stderr",
     "output_type": "stream",
     "text": [
      "No handles with labels found to put in legend.\n"
     ]
    },
    {
     "data": {
      "text/plain": [
       "Text(0.5, 1.0, 'Forecasted ICU In')"
      ]
     },
     "execution_count": 27,
     "metadata": {},
     "output_type": "execute_result"
    },
    {
     "data": {
      "image/png": "[encoded data removed]",
      "text/plain": [
       "<Figure size 576x432 with 1 Axes>"
      ]
     },
     "metadata": {
      "needs_background": "light"
     },
     "output_type": "display_data"
    }
   ],
   "source": [
    "plt.figure(figsize=(8, 6))\n",
    "plt.plot(df.loc[train_start:test_end].index.values,\n",
    "         tf.reduce_mean(\n",
    "        forecasted_fluxes[Comp.I.value][Vax.yes.value].stack() + forecasted_fluxes[Comp.I.value][Vax.no.value].stack(),\n",
    "         axis=-1)\n",
    "        )\n",
    "month_ticks = matplotlib.dates.MonthLocator(interval=1)\n",
    "ax = plt.gca()\n",
    "ax.xaxis.set_major_locator(month_ticks)\n",
    "plt.legend()\n",
    "plt.title('Forecasted ICU In')"
   ]
  },
  {
   "cell_type": "code",
   "execution_count": null,
   "id": "1e533b13",
   "metadata": {},
   "outputs": [],
   "source": [
    "count_gen"
   ]
  },
  {
   "cell_type": "code",
   "execution_count": null,
   "id": "964de277",
   "metadata": {},
   "outputs": [],
   "source": [
    "warmup_G"
   ]
  },
  {
   "cell_type": "code",
   "execution_count": null,
   "id": "45f18ba9",
   "metadata": {},
   "outputs": [],
   "source": [
    "warmup_mild[vax_status][0]/2/10"
   ]
  },
  {
   "cell_type": "code",
   "execution_count": null,
   "id": "9d93b43b",
   "metadata": {},
   "outputs": [],
   "source": [
    "warmup_asymp[vax_status][0]/2"
   ]
  },
  {
   "cell_type": "code",
   "execution_count": null,
   "id": "28195123",
   "metadata": {},
   "outputs": [],
   "source": [
    "warmup_mild[vax_status][0]/2"
   ]
  },
  {
   "cell_type": "code",
   "execution_count": null,
   "id": "145174fd",
   "metadata": {},
   "outputs": [],
   "source": [
    "count_icu[vax_status]"
   ]
  },
  {
   "cell_type": "code",
   "execution_count": null,
   "id": "0e98f6aa",
   "metadata": {},
   "outputs": [],
   "source": [
    "model.init_count_I_samples_constrained"
   ]
  },
  {
   "cell_type": "code",
   "execution_count": null,
   "id": "c11eb50e",
   "metadata": {},
   "outputs": [],
   "source": [
    "warmup_IR_params"
   ]
  },
  {
   "cell_type": "code",
   "execution_count": null,
   "id": "5deeaed8",
   "metadata": {},
   "outputs": [],
   "source": [
    "model.trainable_variables"
   ]
  },
  {
   "cell_type": "code",
   "execution_count": null,
   "id": "0c6f8c30",
   "metadata": {},
   "outputs": [],
   "source": [
    "tfp.bijectors.Chain([tfp.bijectors.Softplus(), tfp.bijectors.Scale(100)]).forward(-2.0793715)"
   ]
  },
  {
   "cell_type": "code",
   "execution_count": null,
   "id": "6e955f2f",
   "metadata": {},
   "outputs": [],
   "source": [
    "tfp.bijectors.Chain([tfp.bijectors.Softplus(), tfp.bijectors.Scale(100)]).forward(200)"
   ]
  },
  {
   "cell_type": "code",
   "execution_count": null,
   "id": "d6252cda",
   "metadata": {},
   "outputs": [],
   "source": [
    "tfp.bijectors.Chain([ tfp.bijectors.Scale(100), tfp.bijectors.Softplus()]).inverse(100)"
   ]
  },
  {
   "cell_type": "code",
   "execution_count": null,
   "id": "0e3325c9",
   "metadata": {},
   "outputs": [],
   "source": [
    "tfp.bijectors.Softplus().inverse(model.warmup_A_samples[0][0][0])"
   ]
  },
  {
   "cell_type": "code",
   "execution_count": null,
   "id": "78e764b8",
   "metadata": {},
   "outputs": [],
   "source": [
    "tfp.bijectors.Chain([ tfp.bijectors.Scale(100), tfp.bijectors.Softplus()]).forward(model.warmup_A_samples[0][0][0])"
   ]
  },
  {
   "cell_type": "code",
   "execution_count": null,
   "id": "4df43292",
   "metadata": {},
   "outputs": [],
   "source": [
    "tfp.bijectors.Chain([tfp.bijectors.Softplus(), tfp.bijectors.Scale(100)]).forward(model.warmup_A_samples[0][0][0])"
   ]
  },
  {
   "cell_type": "code",
   "execution_count": null,
   "id": "d104157a",
   "metadata": {},
   "outputs": [],
   "source": [
    "tfp.bijectors.Chain([tfp.bijectors.Softplus(), tfp.bijectors.Scale(100)]).forward(\n",
    "                        model.warmup_IR_samples[0][0])"
   ]
  },
  {
   "cell_type": "code",
   "execution_count": null,
   "id": "ad83e9ea",
   "metadata": {},
   "outputs": [],
   "source": [
    "warmup_IR_params"
   ]
  },
  {
   "cell_type": "code",
   "execution_count": null,
   "id": "2b16b7e0",
   "metadata": {},
   "outputs": [],
   "source": [
    "model.warmup_IR_samples[0][0].numpy().mean()"
   ]
  },
  {
   "cell_type": "code",
   "execution_count": null,
   "id": "1a0221d8",
   "metadata": {},
   "outputs": [],
   "source": [
    "len(model.losses)"
   ]
  },
  {
   "cell_type": "code",
   "execution_count": null,
   "id": "f3a7fcd7",
   "metadata": {},
   "outputs": [],
   "source": [
    "[[-tf.reduce_sum(tf.reduce_mean(\n",
    "            model.prior_distros[Comp.IR.value][status.value]['warmup_IR'][day].log_prob(\n",
    "                model.warmup_IR_samples[status.value][day]) + \\\n",
    "            tfp.bijectors.Chain([tfp.bijectors.Softplus(), tfp.bijectors.Scale(100)]).forward_log_det_jacobian(\n",
    "                model.warmup_IR_samples[status.value][day])\n",
    "            - model.warmup_IR_probs[status.value][day], axis=-1)) for day in range(model.transition_window)] for status in\n",
    "                                             model.vax_statuses]"
   ]
  },
  {
   "cell_type": "code",
   "execution_count": null,
   "id": "b0685452",
   "metadata": {},
   "outputs": [],
   "source": [
    "model.prior_distros[Comp.IR.value][0]['warmup_IR'][0].log_prob(\n",
    "                model.warmup_IR_samples[0][0]) + \\\n",
    "tfp.bijectors.Chain([tfp.bijectors.Softplus(), tfp.bijectors.Scale(100)]).forward_log_det_jacobian(\n",
    "                model.warmup_IR_samples[0][0])"
   ]
  },
  {
   "cell_type": "code",
   "execution_count": null,
   "id": "300a0081",
   "metadata": {},
   "outputs": [],
   "source": [
    "warmup_IR_params"
   ]
  },
  {
   "cell_type": "code",
   "execution_count": null,
   "id": "5ecc207a",
   "metadata": {},
   "outputs": [],
   "source": [
    "tfp.bijectors.Chain([tfp.bijectors.Softplus(), tfp.bijectors.Scale(100)]).forward(\n",
    "              10.0/100/2)"
   ]
  },
  {
   "cell_type": "code",
   "execution_count": null,
   "id": "7b68fa5a",
   "metadata": {},
   "outputs": [],
   "source": [
    "warmup_mild[vax_status][0]/2"
   ]
  },
  {
   "cell_type": "code",
   "execution_count": null,
   "id": "652b0eb6",
   "metadata": {},
   "outputs": [],
   "source": [
    "warmup_mild[vax_status][0]/2/10/10/10"
   ]
  },
  {
   "cell_type": "code",
   "execution_count": null,
   "id": "8221c9a3",
   "metadata": {},
   "outputs": [],
   "source": [
    "model.prior_distros[Comp.IR.value][0]['warmup_IR'][0].log_prob(-0.01)"
   ]
  },
  {
   "cell_type": "code",
   "execution_count": null,
   "id": "7f16e6d6",
   "metadata": {},
   "outputs": [],
   "source": []
  },
  {
   "cell_type": "code",
   "execution_count": null,
   "id": "8ce2ecf0",
   "metadata": {},
   "outputs": [],
   "source": [
    "count_gen"
   ]
  },
  {
   "cell_type": "code",
   "execution_count": null,
   "id": "2348125c",
   "metadata": {},
   "outputs": [],
   "source": [
    "tfp.math.softplus_inverse(10.0/100/2)"
   ]
  },
  {
   "cell_type": "code",
   "execution_count": null,
   "id": "9eadbb1e",
   "metadata": {},
   "outputs": [],
   "source": [
    "tfp.bijectors.Softplus().inverse(10.0/100/2)"
   ]
  },
  {
   "cell_type": "code",
   "execution_count": null,
   "id": "ba967a77",
   "metadata": {},
   "outputs": [],
   "source": [
    "tfp.bijectors.Chain([tfp.bijectors.Softplus(), tfp.bijectors.Scale(100)]).forward(tfp.math.softplus_inverse(10.0/2)/100)"
   ]
  },
  {
   "cell_type": "code",
   "execution_count": null,
   "id": "b01dde17",
   "metadata": {},
   "outputs": [],
   "source": [
    "model.init_count_I_samples_constrained[0].numpy().mean()"
   ]
  },
  {
   "cell_type": "code",
   "execution_count": null,
   "id": "041bada5",
   "metadata": {},
   "outputs": [],
   "source": [
    "preds[0][2]"
   ]
  },
  {
   "cell_type": "code",
   "execution_count": null,
   "id": "3426d2f0",
   "metadata": {},
   "outputs": [],
   "source": [
    "model.warmup_IR_samples_constrained[vax_status]"
   ]
  },
  {
   "cell_type": "code",
   "execution_count": null,
   "id": "717d9320",
   "metadata": {},
   "outputs": [],
   "source": [
    "model.losses"
   ]
  },
  {
   "cell_type": "code",
   "execution_count": null,
   "id": "357439eb",
   "metadata": {},
   "outputs": [],
   "source": [
    "model.prior_distros[Comp.I.value][0]['warmup_I'][3].parameters['distribution'].mean()"
   ]
  },
  {
   "cell_type": "code",
   "execution_count": null,
   "id": "42e28821",
   "metadata": {},
   "outputs": [],
   "source": [
    "model.warmup_I_samples_constrained[0][-1]"
   ]
  },
  {
   "cell_type": "code",
   "execution_count": null,
   "id": "d22096b1",
   "metadata": {},
   "outputs": [],
   "source": [
    "model.warmup_I_samples_constrained[vax_status][2] - \\\n",
    "                                                   model.warmup_IR_samples_constrained[vax_status][2]"
   ]
  },
  {
   "cell_type": "code",
   "execution_count": null,
   "id": "85e2b046",
   "metadata": {},
   "outputs": [],
   "source": [
    "model.losses"
   ]
  },
  {
   "cell_type": "code",
   "execution_count": null,
   "id": "a8d3833b",
   "metadata": {},
   "outputs": [],
   "source": [
    "pre_training_preds[0][0].numpy().mean(axis=1)"
   ]
  },
  {
   "cell_type": "code",
   "execution_count": null,
   "id": "126062e1",
   "metadata": {},
   "outputs": [],
   "source": [
    "model.rho_D_samples"
   ]
  },
  {
   "cell_type": "code",
   "execution_count": null,
   "id": "ce57c918",
   "metadata": {},
   "outputs": [],
   "source": [
    "model.warmup_I_samples_constrained[0][-1]"
   ]
  },
  {
   "cell_type": "code",
   "execution_count": null,
   "id": "cf9db220",
   "metadata": {},
   "outputs": [],
   "source": [
    "count_gen"
   ]
  },
  {
   "cell_type": "code",
   "execution_count": null,
   "id": "60fe0530",
   "metadata": {},
   "outputs": [],
   "source": [
    "init_count_I"
   ]
  },
  {
   "cell_type": "code",
   "execution_count": null,
   "id": "c0a960a6",
   "metadata": {},
   "outputs": [],
   "source": [
    "warmup_I_params"
   ]
  },
  {
   "cell_type": "code",
   "execution_count": null,
   "id": "6ff6003c",
   "metadata": {},
   "outputs": [],
   "source": [
    "df"
   ]
  },
  {
   "cell_type": "code",
   "execution_count": null,
   "id": "a2aa0795",
   "metadata": {},
   "outputs": [],
   "source": []
  }
 ],
 "metadata": {
  "kernelspec": {
   "display_name": "Python 3 (ipykernel)",
   "language": "python",
   "name": "python3"
  },
  "language_info": {
   "codemirror_mode": {
    "name": "ipython",
    "version": 3
   },
   "file_extension": ".py",
   "mimetype": "text/x-python",
   "name": "python",
   "nbconvert_exporter": "python",
   "pygments_lexer": "ipython3",
   "version": "3.7.12"
  }
 },
 "nbformat": 4,
 "nbformat_minor": 5
}

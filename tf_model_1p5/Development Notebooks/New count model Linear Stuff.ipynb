{
 "cells": [
  {
   "cell_type": "code",
   "execution_count": 1,
   "id": "969ad8a3",
   "metadata": {},
   "outputs": [
    {
     "name": "stderr",
     "output_type": "stream",
     "text": [
      "2022-02-10 17:50:00.414044: W tensorflow/stream_executor/platform/default/dso_loader.cc:64] Could not load dynamic library 'libcudart.so.11.0'; dlerror: libcudart.so.11.0: cannot open shared object file: No such file or directory\n",
      "2022-02-10 17:50:00.414084: I tensorflow/stream_executor/cuda/cudart_stub.cc:29] Ignore above cudart dlerror if you do not have a GPU set up on your machine.\n"
     ]
    }
   ],
   "source": [
    "%load_ext autoreload\n",
    "%autoreload 2\n",
    "\n",
    "import numpy as np\n",
    "import tensorflow as tf\n",
    "\n",
    "import sys\n",
    "sys.path.append('/mnt/c/Users/kheut/code/covid19-forecasting/tf_model_1p5/')\n",
    "\n",
    "from enum import Enum\n",
    "\n",
    "import tensorflow as tf\n",
    "from tensorflow import keras\n",
    "from tensorflow.keras.layers import Dense\n",
    "\n",
    "import tensorflow_probability as tfp\n",
    "from scipy.stats import beta, truncnorm\n",
    "\n",
    "\n",
    "# Local imports from model.py, data.py\n",
    "from model import CovidModel, LogPoissonProb, get_logging_callbacks, Comp, Vax\n",
    "from data import read_data, create_warmup\n",
    "#from plots import make_all_plots\n",
    "\n",
    "import scipy\n",
    "\n",
    "import matplotlib\n",
    "import matplotlib.pyplot as plt\n",
    "plt.rcParams.update({'font.size': 20}) # set plot font sizes"
   ]
  },
  {
   "cell_type": "code",
   "execution_count": 64,
   "id": "9ffdbf61",
   "metadata": {},
   "outputs": [],
   "source": [
    "transition_window =10\n",
    "\n",
    "warmup_start = '20210421'\n",
    "warmup_end = '20210430'\n",
    "train_start = '20210501'\n",
    "train_end = '20210731'\n",
    "test_start = '20210801'\n",
    "test_end = '20210831'\n",
    "\n",
    "state = 'Massachusetts'\n",
    "state_abbrev = 'MA'\n",
    "\n",
    "data_dir = '../data'\n",
    "covid_estim_date = '20210901'\n",
    "hhs_date = '20210903'\n",
    "owid_date = '20210903'\n",
    "\n",
    "# Learning rate\n",
    "learning_rate = 0.05"
   ]
  },
  {
   "cell_type": "code",
   "execution_count": 3,
   "id": "8af6455c",
   "metadata": {},
   "outputs": [],
   "source": [
    "df = read_data(data_dir=data_dir,\n",
    "               covid_estim_date=covid_estim_date,\n",
    "               hhs_date=hhs_date,\n",
    "               owid_date=owid_date,\n",
    "               state=state, state_abbrev=state_abbrev)"
   ]
  },
  {
   "cell_type": "code",
   "execution_count": 4,
   "id": "2d8a4748",
   "metadata": {},
   "outputs": [
    {
     "data": {
      "text/html": [
       "<div>\n",
       "<style scoped>\n",
       "    .dataframe tbody tr th:only-of-type {\n",
       "        vertical-align: middle;\n",
       "    }\n",
       "\n",
       "    .dataframe tbody tr th {\n",
       "        vertical-align: top;\n",
       "    }\n",
       "\n",
       "    .dataframe thead th {\n",
       "        text-align: right;\n",
       "    }\n",
       "</style>\n",
       "<table border=\"1\" class=\"dataframe\">\n",
       "  <thead>\n",
       "    <tr style=\"text-align: right;\">\n",
       "      <th></th>\n",
       "      <th>icu_count</th>\n",
       "      <th>general_ward_count</th>\n",
       "      <th>deaths_covid</th>\n",
       "      <th>asymp</th>\n",
       "      <th>extreme</th>\n",
       "      <th>mild</th>\n",
       "      <th>Rt</th>\n",
       "      <th>general_ward_in</th>\n",
       "      <th>vax_pct</th>\n",
       "    </tr>\n",
       "    <tr>\n",
       "      <th>date</th>\n",
       "      <th></th>\n",
       "      <th></th>\n",
       "      <th></th>\n",
       "      <th></th>\n",
       "      <th></th>\n",
       "      <th></th>\n",
       "      <th></th>\n",
       "      <th></th>\n",
       "      <th></th>\n",
       "    </tr>\n",
       "  </thead>\n",
       "  <tbody>\n",
       "    <tr>\n",
       "      <th>2019-12-25</th>\n",
       "      <td>NaN</td>\n",
       "      <td>NaN</td>\n",
       "      <td>NaN</td>\n",
       "      <td>0.000006</td>\n",
       "      <td>6.555663e-11</td>\n",
       "      <td>5.714537e-08</td>\n",
       "      <td>0.992215</td>\n",
       "      <td>NaN</td>\n",
       "      <td>NaN</td>\n",
       "    </tr>\n",
       "    <tr>\n",
       "      <th>2019-12-26</th>\n",
       "      <td>NaN</td>\n",
       "      <td>NaN</td>\n",
       "      <td>NaN</td>\n",
       "      <td>0.000006</td>\n",
       "      <td>5.584121e-10</td>\n",
       "      <td>3.892314e-07</td>\n",
       "      <td>1.055331</td>\n",
       "      <td>NaN</td>\n",
       "      <td>NaN</td>\n",
       "    </tr>\n",
       "    <tr>\n",
       "      <th>2019-12-27</th>\n",
       "      <td>NaN</td>\n",
       "      <td>NaN</td>\n",
       "      <td>NaN</td>\n",
       "      <td>0.000006</td>\n",
       "      <td>2.045071e-09</td>\n",
       "      <td>1.009780e-06</td>\n",
       "      <td>1.110538</td>\n",
       "      <td>NaN</td>\n",
       "      <td>NaN</td>\n",
       "    </tr>\n",
       "    <tr>\n",
       "      <th>2019-12-28</th>\n",
       "      <td>NaN</td>\n",
       "      <td>NaN</td>\n",
       "      <td>NaN</td>\n",
       "      <td>0.000007</td>\n",
       "      <td>4.996819e-09</td>\n",
       "      <td>1.784756e-06</td>\n",
       "      <td>1.158677</td>\n",
       "      <td>NaN</td>\n",
       "      <td>NaN</td>\n",
       "    </tr>\n",
       "    <tr>\n",
       "      <th>2019-12-29</th>\n",
       "      <td>NaN</td>\n",
       "      <td>NaN</td>\n",
       "      <td>NaN</td>\n",
       "      <td>0.000007</td>\n",
       "      <td>9.617803e-09</td>\n",
       "      <td>2.581918e-06</td>\n",
       "      <td>1.201151</td>\n",
       "      <td>NaN</td>\n",
       "      <td>NaN</td>\n",
       "    </tr>\n",
       "    <tr>\n",
       "      <th>...</th>\n",
       "      <td>...</td>\n",
       "      <td>...</td>\n",
       "      <td>...</td>\n",
       "      <td>...</td>\n",
       "      <td>...</td>\n",
       "      <td>...</td>\n",
       "      <td>...</td>\n",
       "      <td>...</td>\n",
       "      <td>...</td>\n",
       "    </tr>\n",
       "    <tr>\n",
       "      <th>2021-08-31</th>\n",
       "      <td>171.0</td>\n",
       "      <td>500.0</td>\n",
       "      <td>4.0</td>\n",
       "      <td>5744.449475</td>\n",
       "      <td>4.605118e+01</td>\n",
       "      <td>3.266123e+03</td>\n",
       "      <td>1.190514</td>\n",
       "      <td>67.0</td>\n",
       "      <td>0.6597</td>\n",
       "    </tr>\n",
       "    <tr>\n",
       "      <th>2021-09-01</th>\n",
       "      <td>161.0</td>\n",
       "      <td>490.0</td>\n",
       "      <td>12.0</td>\n",
       "      <td>5959.757047</td>\n",
       "      <td>4.741058e+01</td>\n",
       "      <td>3.375344e+03</td>\n",
       "      <td>1.197465</td>\n",
       "      <td>85.0</td>\n",
       "      <td>0.6604</td>\n",
       "    </tr>\n",
       "    <tr>\n",
       "      <th>2021-09-02</th>\n",
       "      <td>168.0</td>\n",
       "      <td>517.0</td>\n",
       "      <td>10.0</td>\n",
       "      <td>NaN</td>\n",
       "      <td>NaN</td>\n",
       "      <td>NaN</td>\n",
       "      <td>NaN</td>\n",
       "      <td>72.0</td>\n",
       "      <td>0.6613</td>\n",
       "    </tr>\n",
       "    <tr>\n",
       "      <th>2021-09-03</th>\n",
       "      <td>168.0</td>\n",
       "      <td>517.0</td>\n",
       "      <td>10.0</td>\n",
       "      <td>NaN</td>\n",
       "      <td>NaN</td>\n",
       "      <td>NaN</td>\n",
       "      <td>NaN</td>\n",
       "      <td>93.0</td>\n",
       "      <td>0.6623</td>\n",
       "    </tr>\n",
       "    <tr>\n",
       "      <th>2021-09-04</th>\n",
       "      <td>NaN</td>\n",
       "      <td>NaN</td>\n",
       "      <td>NaN</td>\n",
       "      <td>NaN</td>\n",
       "      <td>NaN</td>\n",
       "      <td>NaN</td>\n",
       "      <td>NaN</td>\n",
       "      <td>93.0</td>\n",
       "      <td>NaN</td>\n",
       "    </tr>\n",
       "  </tbody>\n",
       "</table>\n",
       "<p>620 rows × 9 columns</p>\n",
       "</div>"
      ],
      "text/plain": [
       "            icu_count  general_ward_count  deaths_covid        asymp  \\\n",
       "date                                                                   \n",
       "2019-12-25        NaN                 NaN           NaN     0.000006   \n",
       "2019-12-26        NaN                 NaN           NaN     0.000006   \n",
       "2019-12-27        NaN                 NaN           NaN     0.000006   \n",
       "2019-12-28        NaN                 NaN           NaN     0.000007   \n",
       "2019-12-29        NaN                 NaN           NaN     0.000007   \n",
       "...               ...                 ...           ...          ...   \n",
       "2021-08-31      171.0               500.0           4.0  5744.449475   \n",
       "2021-09-01      161.0               490.0          12.0  5959.757047   \n",
       "2021-09-02      168.0               517.0          10.0          NaN   \n",
       "2021-09-03      168.0               517.0          10.0          NaN   \n",
       "2021-09-04        NaN                 NaN           NaN          NaN   \n",
       "\n",
       "                 extreme          mild        Rt  general_ward_in  vax_pct  \n",
       "date                                                                        \n",
       "2019-12-25  6.555663e-11  5.714537e-08  0.992215              NaN      NaN  \n",
       "2019-12-26  5.584121e-10  3.892314e-07  1.055331              NaN      NaN  \n",
       "2019-12-27  2.045071e-09  1.009780e-06  1.110538              NaN      NaN  \n",
       "2019-12-28  4.996819e-09  1.784756e-06  1.158677              NaN      NaN  \n",
       "2019-12-29  9.617803e-09  2.581918e-06  1.201151              NaN      NaN  \n",
       "...                  ...           ...       ...              ...      ...  \n",
       "2021-08-31  4.605118e+01  3.266123e+03  1.190514             67.0   0.6597  \n",
       "2021-09-01  4.741058e+01  3.375344e+03  1.197465             85.0   0.6604  \n",
       "2021-09-02           NaN           NaN       NaN             72.0   0.6613  \n",
       "2021-09-03           NaN           NaN       NaN             93.0   0.6623  \n",
       "2021-09-04           NaN           NaN       NaN             93.0      NaN  \n",
       "\n",
       "[620 rows x 9 columns]"
      ]
     },
     "execution_count": 4,
     "metadata": {},
     "output_type": "execute_result"
    }
   ],
   "source": [
    "df"
   ]
  },
  {
   "cell_type": "code",
   "execution_count": 5,
   "id": "3220d0aa",
   "metadata": {},
   "outputs": [],
   "source": [
    "# get warmup arrays, splitting on vaccination status\n",
    "warmup_asymp, warmup_mild, count_gen, count_icu = create_warmup(df, \n",
    "                                                          warmup_start, \n",
    "                                                          warmup_end,\n",
    "                                                          0,0,0,0)\n",
    "\n",
    "# re-combine\n",
    "#warmup_asymp = warmup_asymp[Vax.no.value] + warmup_asymp[Vax.yes.value]\n",
    "#warmup_mild = warmup_mild[Vax.no.value] + warmup_asymp[Vax.yes.value]"
   ]
  },
  {
   "cell_type": "code",
   "execution_count": 6,
   "id": "b340a832",
   "metadata": {},
   "outputs": [],
   "source": [
    "vax_statuses = [Vax.yes, Vax.no]\n"
   ]
  },
  {
   "cell_type": "code",
   "execution_count": 7,
   "id": "ddd9c4d9",
   "metadata": {},
   "outputs": [],
   "source": [
    "# Set warmup priors/initializations\n",
    "\n",
    "warmup_A_params = {}\n",
    "warmup_M_params = {}\n",
    "warmup_G_params = {}\n",
    "warmup_GR_params = {}\n",
    "init_count_G = {}\n",
    "warmup_I_params = {}\n",
    "warmup_IR_params = {}\n",
    "init_count_I = {}\n",
    "\n",
    "for vax_status in [status.value for status in vax_statuses]:\n",
    "                \n",
    "    \n",
    "    warmup_A_params[vax_status] = {}\n",
    "    warmup_A_params[vax_status]['prior'] = []\n",
    "    warmup_A_params[vax_status]['posterior_init'] = []\n",
    "\n",
    "    warmup_M_params[vax_status] = {}\n",
    "    warmup_M_params[vax_status]['prior'] = []\n",
    "    warmup_M_params[vax_status]['posterior_init'] = []\n",
    "\n",
    "    warmup_G_params[vax_status] = {}\n",
    "    warmup_G_params[vax_status]['prior'] = []\n",
    "    warmup_G_params[vax_status]['posterior_init'] = []\n",
    "    warmup_GR_params[vax_status] = {}\n",
    "    warmup_GR_params[vax_status]['prior'] = []\n",
    "    warmup_GR_params[vax_status]['posterior_init'] = []\n",
    "    \n",
    "    warmup_I_params[vax_status] = {}\n",
    "    warmup_I_params[vax_status]['prior'] = []\n",
    "    warmup_I_params[vax_status]['posterior_init'] = []\n",
    "    warmup_IR_params[vax_status] = {}\n",
    "    warmup_IR_params[vax_status]['prior'] = []\n",
    "    warmup_IR_params[vax_status]['posterior_init'] = []\n",
    "    \n",
    "    init_count_G[vax_status] = {}\n",
    "    init_count_G[vax_status]['prior'] ={}\n",
    "    init_count_G[vax_status]['posterior_init'] ={}\n",
    "    \n",
    "    init_count_I[vax_status] = {}\n",
    "    init_count_I[vax_status]['prior'] ={}\n",
    "    init_count_I[vax_status]['posterior_init'] ={}\n",
    "    \n",
    "    # Set priors\n",
    "    \n",
    "    init_count_G[vax_status]['prior'] = {'loc':count_gen[vax_status], 'scale':count_gen[vax_status]/10}\n",
    "    init_count_I[vax_status]['prior'] = {'loc':count_icu[vax_status], 'scale':count_icu[vax_status]/10}\n",
    "\n",
    "    \n",
    "    \n",
    "   \n",
    "    warmup_A_params[vax_status]['prior'] = {'intercept': warmup_asymp[vax_status][0]/2,\n",
    "                                            'slope': 0,\n",
    "                                                'scale': warmup_asymp[vax_status][0]/2/10}\n",
    "\n",
    "    warmup_M_params[vax_status]['prior'] = {'intercept': warmup_mild[vax_status][0]/2,\n",
    "                                            'slope': 0,\n",
    "                                                'scale': warmup_mild[vax_status][0]/2/10}\n",
    "\n",
    "    warmup_G_params[vax_status]['prior'] = {'intercept': count_gen[vax_status]/10,\n",
    "                                            'slope': 0,\n",
    "                                                'scale': count_gen[vax_status]/10}\n",
    "\n",
    "    warmup_GR_params[vax_status]['prior'] = {'intercept': count_gen[vax_status]/2/10,\n",
    "                                            'slope': 0,\n",
    "                                                'scale': count_gen[vax_status]/2/10}\n",
    "\n",
    "    warmup_I_params[vax_status]['prior'] = {'intercept': count_icu[vax_status]/10,\n",
    "                                            'slope': 0,\n",
    "                                                'scale': count_icu[vax_status]/10}\n",
    "\n",
    "    warmup_IR_params[vax_status]['prior'] = {'intercept': count_icu[vax_status]/2/10,\n",
    "                                            'slope': 0,\n",
    "                                                'scale': count_icu[vax_status]/2/10}\n",
    "    "
   ]
  },
  {
   "cell_type": "code",
   "execution_count": 8,
   "id": "f3dd3b64",
   "metadata": {},
   "outputs": [
    {
     "name": "stderr",
     "output_type": "stream",
     "text": [
      "2022-02-10 17:50:03.099445: I tensorflow/stream_executor/cuda/cuda_gpu_executor.cc:923] could not open file to read NUMA node: /sys/bus/pci/devices/0000:2d:00.0/numa_node\n",
      "Your kernel may have been built without NUMA support.\n",
      "2022-02-10 17:50:03.100011: W tensorflow/stream_executor/platform/default/dso_loader.cc:64] Could not load dynamic library 'libcudart.so.11.0'; dlerror: libcudart.so.11.0: cannot open shared object file: No such file or directory\n",
      "2022-02-10 17:50:03.100129: W tensorflow/stream_executor/platform/default/dso_loader.cc:64] Could not load dynamic library 'libcublas.so.11'; dlerror: libcublas.so.11: cannot open shared object file: No such file or directory\n",
      "2022-02-10 17:50:03.100182: W tensorflow/stream_executor/platform/default/dso_loader.cc:64] Could not load dynamic library 'libcublasLt.so.11'; dlerror: libcublasLt.so.11: cannot open shared object file: No such file or directory\n",
      "2022-02-10 17:50:03.100216: W tensorflow/stream_executor/platform/default/dso_loader.cc:64] Could not load dynamic library 'libcufft.so.10'; dlerror: libcufft.so.10: cannot open shared object file: No such file or directory\n",
      "2022-02-10 17:50:03.100266: W tensorflow/stream_executor/platform/default/dso_loader.cc:64] Could not load dynamic library 'libcurand.so.10'; dlerror: libcurand.so.10: cannot open shared object file: No such file or directory\n",
      "2022-02-10 17:50:03.100296: W tensorflow/stream_executor/platform/default/dso_loader.cc:64] Could not load dynamic library 'libcusolver.so.11'; dlerror: libcusolver.so.11: cannot open shared object file: No such file or directory\n",
      "2022-02-10 17:50:03.100331: W tensorflow/stream_executor/platform/default/dso_loader.cc:64] Could not load dynamic library 'libcusparse.so.11'; dlerror: libcusparse.so.11: cannot open shared object file: No such file or directory\n",
      "2022-02-10 17:50:03.100395: W tensorflow/stream_executor/platform/default/dso_loader.cc:64] Could not load dynamic library 'libcudnn.so.8'; dlerror: libcudnn.so.8: cannot open shared object file: No such file or directory\n",
      "2022-02-10 17:50:03.100440: W tensorflow/core/common_runtime/gpu/gpu_device.cc:1835] Cannot dlopen some GPU libraries. Please make sure the missing libraries mentioned above are installed properly if you would like to use GPU. Follow the guide at https://www.tensorflow.org/install/gpu for how to download and setup the required libraries for your platform.\n",
      "Skipping registering GPU devices...\n",
      "2022-02-10 17:50:03.101211: I tensorflow/core/platform/cpu_feature_guard.cc:142] This TensorFlow binary is optimized with oneAPI Deep Neural Network Library (oneDNN) to use the following CPU instructions in performance-critical operations:  AVX2 FMA\n",
      "To enable them in other operations, rebuild TensorFlow with the appropriate compiler flags.\n"
     ]
    }
   ],
   "source": [
    "x_train = tf.cast(df.loc[train_start:train_end,'Rt'].values, dtype=tf.float32)\n",
    "x_test = tf.cast(df.loc[train_start:test_end,'Rt'].values, dtype=tf.float32)\n",
    "\n",
    "\n",
    "y_train = {}\n",
    "y_train['G_in'] = tf.cast(df.loc[train_start:train_end,'general_ward_in'], dtype=tf.float32)\n",
    "y_train['G_count'] = tf.cast(df.loc[train_start:train_end,'general_ward_count'], dtype=tf.float32)\n",
    "y_train['I_count'] = tf.cast(df.loc[train_start:train_end,'icu_count'], dtype=tf.float32)\n",
    "y_train['D_in'] = tf.cast(df.loc[train_start:train_end,'deaths_covid'], dtype=tf.float32) + 1\n",
    "\n",
    "y_test = {}\n",
    "y_test['G_in'] = tf.cast(df.loc[train_start:test_end,'general_ward_in'], dtype=tf.float32)\n",
    "y_test['G_count'] = tf.cast(df.loc[train_start:test_end,'general_ward_count'], dtype=tf.float32)\n",
    "y_test['I_count'] = tf.cast(df.loc[train_start:test_end,'icu_count'], dtype=tf.float32)\n",
    "y_test['D_in'] = tf.cast(df.loc[train_start:test_end,'deaths_covid'], dtype=tf.float32)"
   ]
  },
  {
   "cell_type": "code",
   "execution_count": 9,
   "id": "a8c90605",
   "metadata": {},
   "outputs": [],
   "source": [
    "\n",
    "T_serial = {}\n",
    "T_serial['prior'] ={'loc':5.8, 'scale':1}\n",
    "\n",
    "\n",
    "epsilon = {}\n",
    "epsilon['prior'] ={'a':1, 'b':1}\n",
    "\n",
    "delta = {}\n",
    "delta['prior'] ={'a':1, 'b':1}\n",
    "\n",
    "rho_M = {}\n",
    "lambda_M = {}\n",
    "nu_M = {}\n",
    "rho_G = {}\n",
    "lambda_G = {}\n",
    "nu_G = {}\n",
    "\n",
    "rho_I = {}\n",
    "lambda_I = {}\n",
    "nu_I = {}\n",
    "lambda_I_bar = {}\n",
    "nu_I_bar = {}\n",
    "\n",
    "rho_D = {}\n",
    "lambda_D = {}\n",
    "nu_D = {}\n",
    "lambda_D_bar = {}\n",
    "nu_D_bar = {}\n",
    "\n",
    "for vax_status in [status.value for status in vax_statuses]:\n",
    "    \n",
    "    rho_M[vax_status] = {}\n",
    "    rho_M[vax_status]['prior'] = {'a': 1, 'b': 1}\n",
    "    #rho_M[vax_status]['prior'] = {'a': 31.8, 'b': 10.3}\n",
    "\n",
    "\n",
    "    lambda_M[vax_status] = {}\n",
    "    lambda_M[vax_status]['prior'] = {'loc': 4.7, 'scale': 1}\n",
    "\n",
    "\n",
    "    nu_M[vax_status] = {}\n",
    "    nu_M[vax_status]['prior'] = {'loc': 3.1, 'scale': 1.2}\n",
    "\n",
    "\n",
    "    rho_G[vax_status] = {}\n",
    "    rho_G[vax_status]['prior'] = {'a': 1, 'b': 1}\n",
    "    #rho_G[vax_status]['prior'] = {'a': 31.8, 'b': 10.3}\n",
    "    lambda_G[vax_status] = {}\n",
    "    lambda_G[vax_status]['prior'] = {'loc': 3.3, 'scale': 1.0}\n",
    "    nu_G[vax_status] = {}\n",
    "    nu_G[vax_status]['prior'] = {'loc': 9.0, 'scale': 3}\n",
    "    \n",
    "    rho_I[vax_status] = {}\n",
    "    rho_I[vax_status]['prior'] = {'a': 1, 'b': 1}\n",
    "    #rho_I[vax_status]['prior'] = {'a': 31.8, 'b': 10.3}\n",
    "    lambda_I[vax_status] = {}\n",
    "    lambda_I[vax_status]['prior'] = {'loc': 3.3, 'scale': 1.0}\n",
    "    nu_I[vax_status] = {}\n",
    "    nu_I[vax_status]['prior'] = {'loc': 9.0, 'scale': 3}\n",
    "    lambda_I_bar[vax_status] = {}\n",
    "    lambda_I_bar[vax_status]['prior'] = {'loc': 3.3, 'scale': 1.0}\n",
    "    nu_I_bar[vax_status] = {}\n",
    "    nu_I_bar[vax_status]['prior'] = {'loc': 9.0, 'scale': 3}\n",
    "\n",
    "    rho_D[vax_status] = {}\n",
    "    rho_D[vax_status]['prior'] = {'a': 1, 'b': 1}\n",
    "    #rho_D[vax_status]['prior'] = {'a': 31.8, 'b': 10.3}\n",
    "    lambda_D[vax_status] = {}\n",
    "    lambda_D[vax_status]['prior'] = {'loc': 3.3, 'scale': 1.0}\n",
    "    nu_D[vax_status] = {}\n",
    "    nu_D[vax_status]['prior'] = {'loc': 9.0, 'scale': 3}\n",
    "    lambda_D_bar[vax_status] = {}\n",
    "    lambda_D_bar[vax_status]['prior'] = {'loc': 3.3, 'scale': 1.0}\n",
    "    nu_D_bar[vax_status] = {}\n",
    "    nu_D_bar[vax_status]['prior'] = {'loc': 9.0, 'scale':3}\n",
    "\n",
    "\n"
   ]
  },
  {
   "cell_type": "code",
   "execution_count": 10,
   "id": "1829678d",
   "metadata": {},
   "outputs": [],
   "source": [
    "T_serial_scale = 1.0\n",
    "delta_scale = 0.2\n",
    "epsilon_scale = 0.3\n",
    "\n",
    "\n",
    "rho_M_scale = 0.1\n",
    "lambda_M_scale = 1.0\n",
    "nu_M_scale = 1.2\n",
    "\n",
    "rho_G_scale = 0.1\n",
    "lambda_G_scale = 1.0\n",
    "nu_G_scale = 0.2\n",
    "\n",
    "rho_I_scale = 0.1\n",
    "lambda_I_scale = 1.0\n",
    "nu_I_scale = 0.2\n",
    "lambda_I_bar_scale = 1.0\n",
    "nu_I_bar_scale = 0.2\n",
    "\n",
    "rho_D_scale = 0.1\n",
    "lambda_D_scale = 1.0\n",
    "nu_D_scale = 0.2\n",
    "lambda_D_bar_scale = 1.0\n",
    "nu_D_bar_scale = 0.2"
   ]
  },
  {
   "cell_type": "code",
   "execution_count": 11,
   "id": "a56b9dbe",
   "metadata": {},
   "outputs": [
    {
     "name": "stderr",
     "output_type": "stream",
     "text": [
      "2022-02-10 17:50:33.298147: I tensorflow/compiler/mlir/mlir_graph_optimization_pass.cc:185] None of the MLIR Optimization Passes are enabled (registered 2)\n"
     ]
    }
   ],
   "source": [
    "T_serial['posterior_init'] = {'loc': tfp.math.softplus_inverse(4.0),\n",
    "                                     'scale':tf.cast(tfp.math.softplus_inverse(T_serial_scale),dtype=tf.float32)}\n",
    "delta['posterior_init'] = {'loc':  tf.cast(np.log(0.1/(1-0.1)),dtype=tf.float32),\n",
    "                                     'scale':tf.cast(tfp.math.softplus_inverse(delta_scale),dtype=tf.float32)}\n",
    "epsilon['posterior_init'] = {'loc':  tf.cast(np.log(0.5/(1-0.5)),dtype=tf.float32),\n",
    "                                     'scale':tf.cast(tfp.math.softplus_inverse(epsilon_scale),dtype=tf.float32)}\n",
    "\n",
    "\n",
    "for vax_status in [status.value for status in vax_statuses]:\n",
    "    \n",
    "    rho_M[vax_status]['posterior_init'] = {'loc': tf.cast(np.log(0.5/(1-0.5)),dtype=tf.float32),\n",
    "                                          'scale':tf.cast(tfp.math.softplus_inverse(rho_M_scale),dtype=tf.float32)}\n",
    "\n",
    "    lambda_M[vax_status]['posterior_init'] = {'loc': tf.cast(tfp.math.softplus_inverse(3.0),dtype=tf.float32),\n",
    "                                             'scale':tf.cast(tfp.math.softplus_inverse(lambda_M_scale),dtype=tf.float32)}\n",
    "\n",
    "    nu_M[vax_status]['posterior_init'] = {'loc': tf.cast(tfp.math.softplus_inverse(5.0),dtype=tf.float32),\n",
    "                                         'scale':tf.cast(tfp.math.softplus_inverse(nu_M_scale),dtype=tf.float32)}\n",
    "\n",
    "    rho_G[vax_status]['posterior_init'] = {'loc': tf.cast(np.log(0.1/(1-0.1)),dtype=tf.float32),\n",
    "                                          'scale':tf.cast(tfp.math.softplus_inverse(rho_G_scale),dtype=tf.float32)}\n",
    "\n",
    "    lambda_G[vax_status]['posterior_init'] = {'loc': tf.cast(tfp.math.softplus_inverse(3.3),dtype=tf.float32),\n",
    "                                             'scale':tf.cast(tfp.math.softplus_inverse(lambda_G_scale),dtype=tf.float32)}\n",
    "\n",
    "    nu_G[vax_status]['posterior_init'] = {'loc': tf.cast(tfp.math.softplus_inverse(9.0),dtype=tf.float32),\n",
    "                                         'scale':tf.cast(tfp.math.softplus_inverse(nu_G_scale),dtype=tf.float32)}\n",
    "    \n",
    "    rho_I[vax_status]['posterior_init'] = {'loc': tf.cast(np.log(0.1/(1-0.1)),dtype=tf.float32),\n",
    "                                          'scale':tf.cast(tfp.math.softplus_inverse(rho_I_scale),dtype=tf.float32)}\n",
    "    lambda_I[vax_status]['posterior_init'] = {'loc': tf.cast(tfp.math.softplus_inverse(3.3),dtype=tf.float32),\n",
    "                                             'scale':tf.cast(tfp.math.softplus_inverse(lambda_I_scale),dtype=tf.float32)}\n",
    "    nu_I[vax_status]['posterior_init'] = {'loc': tf.cast(tfp.math.softplus_inverse(9.0),dtype=tf.float32),\n",
    "                                         'scale':tf.cast(tfp.math.softplus_inverse(nu_I_scale),dtype=tf.float32)}\n",
    "    lambda_I_bar[vax_status]['posterior_init'] = {'loc': tf.cast(tfp.math.softplus_inverse(3.3),dtype=tf.float32),\n",
    "                                             'scale':tf.cast(tfp.math.softplus_inverse(lambda_I_bar_scale),dtype=tf.float32)}\n",
    "    nu_I_bar[vax_status]['posterior_init'] = {'loc': tf.cast(tfp.math.softplus_inverse(9.0),dtype=tf.float32),\n",
    "                                         'scale':tf.cast(tfp.math.softplus_inverse(nu_I_bar_scale),dtype=tf.float32)}\n",
    "    \n",
    "    rho_D[vax_status]['posterior_init'] = {'loc': tf.cast(np.log(0.1/(1-0.1)),dtype=tf.float32),\n",
    "                                          'scale':tf.cast(tfp.math.softplus_inverse(rho_D_scale),dtype=tf.float32)}\n",
    "    lambda_D[vax_status]['posterior_init'] = {'loc': tf.cast(tfp.math.softplus_inverse(3.3),dtype=tf.float32),\n",
    "                                             'scale':tf.cast(tfp.math.softplus_inverse(lambda_D_scale),dtype=tf.float32)}\n",
    "    nu_D[vax_status]['posterior_init'] = {'loc': tf.cast(tfp.math.softplus_inverse(9.0),dtype=tf.float32),\n",
    "                                         'scale':tf.cast(tfp.math.softplus_inverse(nu_D_scale),dtype=tf.float32)}\n",
    "    lambda_D_bar[vax_status]['posterior_init'] = {'loc': tf.cast(tfp.math.softplus_inverse(3.3),dtype=tf.float32),\n",
    "                                             'scale':tf.cast(tfp.math.softplus_inverse(lambda_D_bar_scale),dtype=tf.float32)}\n",
    "    nu_D_bar[vax_status]['posterior_init'] = {'loc': tf.cast(tfp.math.softplus_inverse(9.0),dtype=tf.float32),\n",
    "                                         'scale':tf.cast(tfp.math.softplus_inverse(nu_D_bar_scale),dtype=tf.float32)}\n",
    "    \n",
    "    init_count_G[vax_status]['posterior_init'] = {'loc':tf.cast(tfp.math.softplus_inverse(count_gen[vax_status]/100),dtype=tf.float32),\n",
    "                                                  'scale': tf.cast(tfp.math.softplus_inverse(count_gen[vax_status]/100/10),dtype=tf.float32)}\n",
    "    init_count_I[vax_status]['posterior_init'] = {'loc':tf.cast(tfp.math.softplus_inverse(count_icu[vax_status]/100),dtype=tf.float32),\n",
    "                                                  'scale': tf.cast(tfp.math.softplus_inverse(count_icu[vax_status]/100/10),dtype=tf.float32)}\n",
    "    \n",
    "    \n",
    "\n",
    "    # must be positive so reverse softplus the mean\n",
    "    warmup_A_params[vax_status]['posterior_init'] = {'intercept': tf.cast(tfp.math.softplus_inverse(2000.0/100/2),dtype=tf.float32),\n",
    "                                                          'slope': tf.cast(0.0, dtype=tf.float32),\n",
    "                                                         'scale': tf.cast(tfp.math.softplus_inverse(500.0/100/2),dtype=tf.float32)}\n",
    "    warmup_M_params[vax_status]['posterior_init'] = {'intercept': tf.cast(tfp.math.softplus_inverse(1000.0/100/2),dtype=tf.float32),\n",
    "                                                          'slope': tf.cast(0.0, dtype=tf.float32),\n",
    "                                                         'scale': tf.cast(tfp.math.softplus_inverse(100.0/100/2),dtype=tf.float32)}\n",
    "\n",
    "    warmup_G_params[vax_status]['posterior_init'] = {'intercept': tf.cast(tfp.math.softplus_inverse(500.0/100/2),dtype=tf.float32),\n",
    "                                                          'slope': tf.cast(0.0, dtype=tf.float32),\n",
    "                                                         'scale': tf.cast(tfp.math.softplus_inverse(50.0/100/2),dtype=tf.float32)}\n",
    "    warmup_GR_params[vax_status]['posterior_init']= {'intercept': tf.cast(tfp.math.softplus_inverse(400.0/100/2),dtype=tf.float32),\n",
    "                                                          'slope': tf.cast(0.0, dtype=tf.float32),\n",
    "                                                         'scale': tf.cast(tfp.math.softplus_inverse(50.0/100/2),dtype=tf.float32)}\n",
    "    warmup_I_params[vax_status]['posterior_init'] = {'intercept': tf.cast(tfp.math.softplus_inverse(100.0/100/2),dtype=tf.float32),\n",
    "                                                          'slope': tf.cast(0.0, dtype=tf.float32),\n",
    "                                                         'scale': tf.cast(tfp.math.softplus_inverse(30.0/100/2),dtype=tf.float32)}\n",
    "    warmup_IR_params[vax_status]['posterior_init']= {'intercept': tf.cast(tfp.math.softplus_inverse(90.0/100/2),dtype=tf.float32),\n",
    "                                                          'slope': tf.cast(0.0, dtype=tf.float32),\n",
    "                                                         'scale': tf.cast(tfp.math.softplus_inverse(30.0/100/2),dtype=tf.float32)}\n",
    "\n",
    "model = CovidModel([Vax.no, Vax.yes], [Comp.A, Comp.M, Comp.G, Comp.GR, Comp.I, Comp.IR, Comp.D],\n",
    "                 transition_window,\n",
    "                T_serial, epsilon, delta,\n",
    "                 rho_M, lambda_M, nu_M,\n",
    "                 rho_G, lambda_G, nu_G,\n",
    "                 rho_I, lambda_I, nu_I,\n",
    "                 lambda_I_bar, nu_I_bar,\n",
    "                 rho_D, lambda_D, nu_D,\n",
    "                 lambda_D_bar, nu_D_bar,\n",
    "                 warmup_A_params,\n",
    "                 warmup_M_params,\n",
    "                 warmup_G_params, warmup_GR_params, init_count_G,\n",
    "                 warmup_I_params, warmup_IR_params, init_count_I, posterior_samples=1000, debug_disable_theta=False)\n",
    "\n",
    "pre_training_preds=model.call(x_train)"
   ]
  },
  {
   "cell_type": "code",
   "execution_count": 65,
   "id": "09ed1fc8",
   "metadata": {},
   "outputs": [],
   "source": [
    "loss = LogPoissonProb() \n",
    "optimizer = tf.keras.optimizers.Adam(\n",
    "    learning_rate=learning_rate,#beta_1=0.1, beta_2=0.1\n",
    ")\n",
    "#loss((y_train['G_count'], y_train['G_in'], y_train['I_count'], y_train['D_in']), pre_training_preds)"
   ]
  },
  {
   "cell_type": "code",
   "execution_count": 66,
   "id": "423d66f9",
   "metadata": {},
   "outputs": [
    {
     "name": "stderr",
     "output_type": "stream",
     "text": [
      "2022-02-11 12:13:27.085863: I tensorflow/core/profiler/lib/profiler_session.cc:131] Profiler session initializing.\n",
      "2022-02-11 12:13:27.085995: I tensorflow/core/profiler/lib/profiler_session.cc:146] Profiler session started.\n",
      "2022-02-11 12:13:27.086633: E tensorflow/core/profiler/internal/gpu/cupti_tracer.cc:1666] function cupti_interface_->Subscribe( &subscriber_, (CUpti_CallbackFunc)ApiCallback, this)failed with error CUPTI could not be loaded or symbol could not be found.\n",
      "2022-02-11 12:13:27.086676: I tensorflow/core/profiler/lib/profiler_session.cc:164] Profiler session tear down.\n",
      "2022-02-11 12:13:27.086942: E tensorflow/core/profiler/internal/gpu/cupti_tracer.cc:1757] function cupti_interface_->Finalize()failed with error CUPTI could not be loaded or symbol could not be found.\n"
     ]
    }
   ],
   "source": [
    "logging_callbacks = get_logging_callbacks('/mnt/c/Users/kheut/logs/covid/linear_warm_fixed_loss_1')"
   ]
  },
  {
   "cell_type": "code",
   "execution_count": 41,
   "id": "72fecca9",
   "metadata": {},
   "outputs": [
    {
     "data": {
      "text/plain": [
       "array([{'G_in': <tf.Tensor: shape=(92,), dtype=float32, numpy=\n",
       "       array([70., 71., 65., 50., 57., 70., 74., 64., 71., 48., 44., 58., 49.,\n",
       "              54., 51., 44., 44., 39., 46., 40., 34., 34., 31., 39., 40., 54.,\n",
       "              30., 27., 29., 33., 16., 26., 21., 19., 16., 24., 22., 11., 10.,\n",
       "              26., 18., 13., 19.,  8., 15.,  7., 12., 13., 16., 13., 14., 12.,\n",
       "              10., 17., 11., 13., 12., 11.,  9., 15., 21.,  9.,  9.,  8.,  8.,\n",
       "              10.,  4., 15., 14., 13., 23., 17., 18.,  7., 16., 16., 12., 16.,\n",
       "              15., 12.,  9., 17., 22., 22., 25., 17., 23., 32., 37., 36., 33.,\n",
       "              46.], dtype=float32)>, 'G_count': <tf.Tensor: shape=(92,), dtype=float32, numpy=\n",
       "       array([482., 499., 466., 433., 445., 430., 409., 420., 403., 376., 379.,\n",
       "              373., 368., 347., 334., 344., 304., 311., 317., 316., 281., 273.,\n",
       "              296., 240., 258., 257., 242., 223., 225., 225., 212., 201., 193.,\n",
       "              198., 183., 177., 172., 160., 169., 179., 155., 154., 143., 153.,\n",
       "              122., 125., 129., 119., 130., 135., 112., 114., 107., 107., 103.,\n",
       "              116., 121., 122., 123., 129., 129., 120., 110.,  90., 100.,  90.,\n",
       "               98., 106., 117., 110., 113., 107.,  90., 100., 118., 117., 124.,\n",
       "              119., 131., 108., 111., 138., 139., 161., 168., 173., 178., 182.,\n",
       "              203., 218., 224., 236.], dtype=float32)>, 'I_count': <tf.Tensor: shape=(92,), dtype=float32, numpy=\n",
       "       array([148., 140., 138., 144., 145., 140., 134., 126., 120., 123., 117.,\n",
       "              116., 107., 105.,  96.,  99.,  99., 101.,  99.,  86.,  89.,  82.,\n",
       "               81.,  87.,  83.,  85.,  77.,  78.,  81.,  80.,  82.,  81.,  73.,\n",
       "               74.,  69.,  68.,  67.,  60.,  61.,  55.,  54.,  49.,  53.,  47.,\n",
       "               43.,  43.,  38.,  37.,  34.,  36.,  34.,  35.,  32.,  28.,  33.,\n",
       "               26.,  26.,  33.,  32.,  36.,  30.,  28.,  28.,  30.,  25.,  30.,\n",
       "               32.,  35.,  27.,  36.,  31.,  35.,  38.,  37.,  38.,  37.,  35.,\n",
       "               36.,  32.,  35.,  43.,  40.,  35.,  33.,  32.,  37.,  37.,  38.,\n",
       "               41.,  42.,  49.,  50.], dtype=float32)>, 'D_in': <tf.Tensor: shape=(92,), dtype=float32, numpy=\n",
       "       array([ 6.,  6.,  4.,  6.,  3.,  4., 13.,  4.,  2.,  7.,  4.,  4.,  7.,\n",
       "               6.,  6.,  4., 11.,  5.,  4.,  6.,  4.,  8., 10.,  2.,  4.,  4.,\n",
       "               6.,  3.,  3.,  4.,  2.,  4.,  9.,  4.,  1.,  3.,  3.,  3.,  2.,\n",
       "               5.,  3.,  5.,  1.,  4.,  2.,  1.,  3.,  3.,  1.,  2.,  3.,  2.,\n",
       "               2.,  3.,  2.,  3.,  4.,  2.,  2.,  1.,  1.,  2.,  3.,  1.,  2.,\n",
       "               3.,  2.,  1.,  2.,  1.,  2.,  1.,  1.,  2.,  2.,  3.,  2.,  3.,\n",
       "               6.,  3.,  2.,  4.,  2.,  5.,  5.,  3.,  4.,  4.,  3.,  3.,  5.,\n",
       "               4.], dtype=float32)>}                                                                             ],\n",
       "      dtype=object)"
      ]
     },
     "execution_count": 41,
     "metadata": {},
     "output_type": "execute_result"
    }
   ],
   "source": [
    "np.asarray([y_train])"
   ]
  },
  {
   "cell_type": "code",
   "execution_count": 42,
   "id": "6968e4b8",
   "metadata": {},
   "outputs": [
    {
     "data": {
      "text/plain": [
       "(1, 4, 92)"
      ]
     },
     "execution_count": 42,
     "metadata": {},
     "output_type": "execute_result"
    }
   ],
   "source": [
    "np.asarray([(y_train['G_count'], y_train['G_in'], y_train['I_count'], y_train['D_in'])]).shape"
   ]
  },
  {
   "cell_type": "code",
   "execution_count": null,
   "id": "d1c8368b",
   "metadata": {
    "scrolled": false
   },
   "outputs": [
    {
     "name": "stdout",
     "output_type": "stream",
     "text": [
      "Epoch 1/2000\n",
      "G count: -8.744406700134277\n",
      "G in: -4.210456371307373\n",
      "I count: -5.793408393859863\n",
      "D in: -4.139055252075195\n",
      "1/1 [==============================] - 40s 40s/step - loss: -10.8561\n",
      "Epoch 2/2000\n"
     ]
    },
    {
     "name": "stderr",
     "output_type": "stream",
     "text": [
      "2022-02-11 13:31:16.983483: I tensorflow/core/profiler/lib/profiler_session.cc:131] Profiler session initializing.\n",
      "2022-02-11 13:31:16.983573: I tensorflow/core/profiler/lib/profiler_session.cc:146] Profiler session started.\n",
      "2022-02-11 13:31:16.984259: E tensorflow/core/profiler/internal/gpu/cupti_tracer.cc:1666] function cupti_interface_->Subscribe( &subscriber_, (CUpti_CallbackFunc)ApiCallback, this)failed with error CUPTI could not be loaded or symbol could not be found.\n"
     ]
    },
    {
     "name": "stdout",
     "output_type": "stream",
     "text": [
      "G count: -8.745116233825684\n",
      "G in: -4.154387474060059\n",
      "I count: -5.663051605224609\n",
      "D in: -4.101839065551758\n",
      "1/1 [==============================] - ETA: 0s - loss: -11.0021"
     ]
    },
    {
     "name": "stderr",
     "output_type": "stream",
     "text": [
      "2022-02-11 13:32:06.547106: I tensorflow/core/profiler/lib/profiler_session.cc:66] Profiler session collecting data.\n",
      "2022-02-11 13:32:06.723539: E tensorflow/core/profiler/internal/gpu/cupti_tracer.cc:1757] function cupti_interface_->Finalize()failed with error CUPTI could not be loaded or symbol could not be found.\n",
      "2022-02-11 13:32:10.482807: I tensorflow/core/profiler/internal/gpu/cupti_collector.cc:673]  GpuTracer has collected 0 callback api events and 0 activity events. \n",
      "2022-02-11 13:32:22.835966: I tensorflow/core/profiler/lib/profiler_session.cc:164] Profiler session tear down.\n",
      "2022-02-11 13:32:35.504155: I tensorflow/core/profiler/rpc/client/save_profile.cc:136] Creating directory: /mnt/c/Users/kheut/logs/covid/linear_warm_fixed_loss_1/train/plugins/profile/2022_02_11_13_32_22\n",
      "\n",
      "2022-02-11 13:32:36.655699: I tensorflow/core/profiler/rpc/client/save_profile.cc:142] Dumped gzipped tool data for trace.json.gz to /mnt/c/Users/kheut/logs/covid/linear_warm_fixed_loss_1/train/plugins/profile/2022_02_11_13_32_22/MrChipsNVME.trace.json.gz\n",
      "2022-02-11 13:32:39.428485: I tensorflow/core/profiler/rpc/client/save_profile.cc:136] Creating directory: /mnt/c/Users/kheut/logs/covid/linear_warm_fixed_loss_1/train/plugins/profile/2022_02_11_13_32_22\n",
      "\n",
      "2022-02-11 13:32:39.431455: I tensorflow/core/profiler/rpc/client/save_profile.cc:142] Dumped gzipped tool data for memory_profile.json.gz to /mnt/c/Users/kheut/logs/covid/linear_warm_fixed_loss_1/train/plugins/profile/2022_02_11_13_32_22/MrChipsNVME.memory_profile.json.gz\n",
      "2022-02-11 13:32:39.627025: I tensorflow/core/profiler/rpc/client/capture_profile.cc:251] Creating directory: /mnt/c/Users/kheut/logs/covid/linear_warm_fixed_loss_1/train/plugins/profile/2022_02_11_13_32_22\n",
      "Dumped tool data for xplane.pb to /mnt/c/Users/kheut/logs/covid/linear_warm_fixed_loss_1/train/plugins/profile/2022_02_11_13_32_22/MrChipsNVME.xplane.pb\n",
      "Dumped tool data for overview_page.pb to /mnt/c/Users/kheut/logs/covid/linear_warm_fixed_loss_1/train/plugins/profile/2022_02_11_13_32_22/MrChipsNVME.overview_page.pb\n",
      "Dumped tool data for input_pipeline.pb to /mnt/c/Users/kheut/logs/covid/linear_warm_fixed_loss_1/train/plugins/profile/2022_02_11_13_32_22/MrChipsNVME.input_pipeline.pb\n",
      "Dumped tool data for tensorflow_stats.pb to /mnt/c/Users/kheut/logs/covid/linear_warm_fixed_loss_1/train/plugins/profile/2022_02_11_13_32_22/MrChipsNVME.tensorflow_stats.pb\n",
      "Dumped tool data for kernel_stats.pb to /mnt/c/Users/kheut/logs/covid/linear_warm_fixed_loss_1/train/plugins/profile/2022_02_11_13_32_22/MrChipsNVME.kernel_stats.pb\n",
      "\n"
     ]
    },
    {
     "name": "stdout",
     "output_type": "stream",
     "text": [
      "1/1 [==============================] - 84s 84s/step - loss: -11.0021\n",
      "Epoch 3/2000\n",
      "G count: -8.610280990600586\n",
      "G in: -4.080618381500244\n",
      "I count: -5.71600866317749\n",
      "D in: -4.153606414794922\n",
      "1/1 [==============================] - 39s 39s/step - loss: -11.0924\n",
      "Epoch 4/2000\n",
      "G count: -8.6744384765625\n",
      "G in: -4.154931545257568\n",
      "I count: -5.6018595695495605\n",
      "D in: -4.191103935241699\n",
      "1/1 [==============================] - 40s 40s/step - loss: -11.1659\n",
      "Epoch 5/2000\n",
      "G count: -8.56428337097168\n",
      "G in: -4.089856147766113\n",
      "I count: -5.752258777618408\n",
      "D in: -4.113250732421875\n",
      "1/1 [==============================] - 39s 39s/step - loss: -11.3533\n",
      "Epoch 6/2000\n",
      "G count: -8.779814720153809\n",
      "G in: -4.1978302001953125\n",
      "I count: -5.69707727432251\n",
      "D in: -4.145104885101318\n",
      "1/1 [==============================] - 38s 38s/step - loss: -11.0812\n",
      "Epoch 7/2000\n",
      "G count: -8.697295188903809\n",
      "G in: -4.186403751373291\n",
      "I count: -5.911526679992676\n",
      "D in: -4.154071807861328\n",
      "1/1 [==============================] - 37s 37s/step - loss: -11.2736\n",
      "Epoch 8/2000\n",
      "G count: -9.002494812011719\n",
      "G in: -4.227415561676025\n",
      "I count: -5.730675220489502\n",
      "D in: -4.206345081329346\n",
      "1/1 [==============================] - 37s 37s/step - loss: -11.0361\n",
      "Epoch 9/2000\n",
      "G count: -8.674513816833496\n",
      "G in: -4.132580757141113\n",
      "I count: -5.834301948547363\n",
      "D in: -4.214030742645264\n",
      "1/1 [==============================] - 38s 38s/step - loss: -11.1349\n",
      "Epoch 10/2000\n",
      "G count: -8.801880836486816\n",
      "G in: -4.151592254638672\n",
      "I count: -5.7227253913879395\n",
      "D in: -4.141770839691162\n",
      "1/1 [==============================] - 37s 37s/step - loss: -11.1589\n",
      "Epoch 11/2000\n",
      "G count: -8.661187171936035\n",
      "G in: -4.13986349105835\n",
      "I count: -5.844876289367676\n",
      "D in: -4.185105800628662\n",
      "1/1 [==============================] - 39s 39s/step - loss: -11.3307\n",
      "Epoch 12/2000\n",
      "G count: -8.758121490478516\n",
      "G in: -4.128491401672363\n",
      "I count: -5.986727714538574\n",
      "D in: -4.114118576049805\n",
      "1/1 [==============================] - 38s 38s/step - loss: -11.0414\n",
      "Epoch 13/2000\n",
      "G count: -8.689149856567383\n",
      "G in: -4.172122001647949\n",
      "I count: -6.042958736419678\n",
      "D in: -4.118711948394775\n",
      "1/1 [==============================] - 38s 38s/step - loss: -10.9852\n",
      "Epoch 14/2000\n",
      "G count: -8.716533660888672\n",
      "G in: -4.171057224273682\n",
      "I count: -5.922747611999512\n",
      "D in: -4.135505676269531\n",
      "1/1 [==============================] - 38s 38s/step - loss: -11.0949\n",
      "Epoch 15/2000\n",
      "G count: -8.646139144897461\n",
      "G in: -4.16190242767334\n",
      "I count: -5.877609729766846\n",
      "D in: -4.133457183837891\n",
      "1/1 [==============================] - 40s 40s/step - loss: -11.2206\n",
      "Epoch 16/2000\n",
      "G count: -8.6320161819458\n",
      "G in: -4.130916595458984\n",
      "I count: -5.793153285980225\n",
      "D in: -4.133128643035889\n",
      "1/1 [==============================] - 39s 39s/step - loss: -11.2405\n",
      "Epoch 17/2000\n",
      "G count: -8.489883422851562\n",
      "G in: -4.175307750701904\n",
      "I count: -5.8466715812683105\n",
      "D in: -4.20927095413208\n",
      "1/1 [==============================] - 39s 39s/step - loss: -11.2961\n",
      "Epoch 18/2000\n",
      "G count: -8.715429306030273\n",
      "G in: -4.163961410522461\n",
      "I count: -5.8348917961120605\n",
      "D in: -4.167325019836426\n",
      "1/1 [==============================] - 38s 38s/step - loss: -11.1975\n",
      "Epoch 19/2000\n",
      "G count: -8.700090408325195\n",
      "G in: -4.153472423553467\n",
      "I count: -5.689966678619385\n",
      "D in: -4.275149345397949\n",
      "1/1 [==============================] - 38s 38s/step - loss: -11.1416\n",
      "Epoch 20/2000\n",
      "G count: -8.683608055114746\n",
      "G in: -4.140477657318115\n",
      "I count: -5.684781074523926\n",
      "D in: -4.164852142333984\n",
      "1/1 [==============================] - 39s 39s/step - loss: -11.3583\n",
      "Epoch 21/2000\n",
      "G count: -8.661952018737793\n",
      "G in: -4.131323337554932\n",
      "I count: -5.627722263336182\n",
      "D in: -4.234821319580078\n",
      "1/1 [==============================] - 41s 41s/step - loss: -11.3998\n",
      "Epoch 22/2000\n",
      "G count: -8.797511100769043\n",
      "G in: -4.164615154266357\n",
      "I count: -5.672361850738525\n",
      "D in: -4.1316304206848145\n",
      "1/1 [==============================] - 43s 43s/step - loss: -11.4514\n",
      "Epoch 23/2000\n",
      "G count: -8.878753662109375\n",
      "G in: -4.164496898651123\n",
      "I count: -5.834860324859619\n",
      "D in: -4.13529109954834\n",
      "1/1 [==============================] - 41s 41s/step - loss: -11.1740\n",
      "Epoch 24/2000\n",
      "G count: -9.050924301147461\n",
      "G in: -4.179724216461182\n",
      "I count: -5.848281383514404\n",
      "D in: -4.166592597961426\n",
      "1/1 [==============================] - 38s 38s/step - loss: -11.0380\n",
      "Epoch 25/2000\n",
      "G count: -8.7286376953125\n",
      "G in: -4.169438362121582\n",
      "I count: -5.838318347930908\n",
      "D in: -4.081759929656982\n",
      "1/1 [==============================] - 39s 39s/step - loss: -11.4105\n",
      "Epoch 26/2000\n",
      "G count: -8.745301246643066\n",
      "G in: -4.116451263427734\n",
      "I count: -5.8581156730651855\n",
      "D in: -4.118251800537109\n",
      "1/1 [==============================] - 38s 38s/step - loss: -11.4846\n",
      "Epoch 27/2000\n",
      "G count: -8.911049842834473\n",
      "G in: -4.2491230964660645\n",
      "I count: -5.92758321762085\n",
      "D in: -4.191468715667725\n",
      "1/1 [==============================] - 39s 39s/step - loss: -11.2019\n",
      "Epoch 28/2000\n",
      "G count: -8.612765312194824\n",
      "G in: -4.147275924682617\n",
      "I count: -5.839621543884277\n",
      "D in: -4.219912528991699\n",
      "1/1 [==============================] - 41s 41s/step - loss: -11.6297\n",
      "Epoch 29/2000\n",
      "G count: -8.747481346130371\n",
      "G in: -4.168066024780273\n",
      "I count: -5.83109188079834\n",
      "D in: -4.232275485992432\n",
      "1/1 [==============================] - 39s 39s/step - loss: -11.3698\n",
      "Epoch 30/2000\n",
      "G count: -8.736458778381348\n",
      "G in: -4.147614002227783\n",
      "I count: -5.827975749969482\n",
      "D in: -4.222598552703857\n",
      "1/1 [==============================] - 40s 40s/step - loss: -11.2836\n",
      "Epoch 31/2000\n",
      "G count: -8.645323753356934\n",
      "G in: -4.161381244659424\n",
      "I count: -5.819199085235596\n",
      "D in: -4.293236255645752\n",
      "1/1 [==============================] - 39s 39s/step - loss: -11.4241\n",
      "Epoch 32/2000\n",
      "G count: -8.744237899780273\n",
      "G in: -4.152420997619629\n",
      "I count: -5.785832405090332\n",
      "D in: -4.224183082580566\n",
      "1/1 [==============================] - 41s 41s/step - loss: -11.3177\n",
      "Epoch 33/2000\n",
      "G count: -8.567188262939453\n",
      "G in: -4.1529459953308105\n",
      "I count: -5.762909412384033\n",
      "D in: -4.262271881103516\n",
      "1/1 [==============================] - 40s 40s/step - loss: -11.4576\n",
      "Epoch 34/2000\n",
      "G count: -8.75879955291748\n",
      "G in: -4.185583591461182\n",
      "I count: -5.785297393798828\n",
      "D in: -4.273313999176025\n",
      "1/1 [==============================] - 40s 40s/step - loss: -11.3129\n",
      "Epoch 35/2000\n",
      "G count: -8.568235397338867\n",
      "G in: -4.1664509773254395\n",
      "I count: -5.796234130859375\n",
      "D in: -4.123435020446777\n",
      "1/1 [==============================] - 40s 40s/step - loss: -11.4636\n",
      "Epoch 36/2000\n",
      "G count: -8.646031379699707\n",
      "G in: -4.089626312255859\n",
      "I count: -5.78751802444458\n",
      "D in: -4.185055255889893\n",
      "1/1 [==============================] - 39s 39s/step - loss: -11.5138\n",
      "Epoch 37/2000\n",
      "G count: -8.780972480773926\n",
      "G in: -4.142856121063232\n",
      "I count: -5.75580358505249\n",
      "D in: -4.211056709289551\n",
      "1/1 [==============================] - 39s 39s/step - loss: -11.5150\n",
      "Epoch 38/2000\n",
      "G count: -8.63442325592041\n",
      "G in: -4.126513481140137\n",
      "I count: -5.7867655754089355\n",
      "D in: -4.181027889251709\n",
      "1/1 [==============================] - 40s 40s/step - loss: -11.7218\n",
      "Epoch 39/2000\n",
      "G count: -8.82738208770752\n",
      "G in: -4.172298431396484\n",
      "I count: -5.8261637687683105\n",
      "D in: -4.135953426361084\n",
      "1/1 [==============================] - 38s 38s/step - loss: -11.4854\n",
      "Epoch 40/2000\n",
      "G count: -8.593511581420898\n",
      "G in: -4.125028610229492\n",
      "I count: -5.840316295623779\n",
      "D in: -4.192942142486572\n",
      "1/1 [==============================] - 41s 41s/step - loss: -11.7789\n",
      "Epoch 41/2000\n",
      "G count: -8.710123062133789\n",
      "G in: -4.1675872802734375\n",
      "I count: -5.885919094085693\n",
      "D in: -4.232576370239258\n",
      "1/1 [==============================] - 37s 37s/step - loss: -11.4852\n",
      "Epoch 42/2000\n",
      "G count: -8.780978202819824\n",
      "G in: -4.156266212463379\n",
      "I count: -5.837904453277588\n",
      "D in: -4.2089457511901855\n",
      "1/1 [==============================] - 38s 38s/step - loss: -11.5122\n",
      "Epoch 43/2000\n",
      "G count: -8.838998794555664\n",
      "G in: -4.222160339355469\n",
      "I count: -5.8433990478515625\n",
      "D in: -4.173492431640625\n",
      "1/1 [==============================] - 40s 40s/step - loss: -11.3915\n",
      "Epoch 44/2000\n",
      "G count: -8.699914932250977\n",
      "G in: -4.167407035827637\n",
      "I count: -5.876503944396973\n",
      "D in: -4.1497802734375\n",
      "1/1 [==============================] - 38s 38s/step - loss: -11.6354\n",
      "Epoch 45/2000\n",
      "G count: -8.796782493591309\n",
      "G in: -4.159980773925781\n",
      "I count: -6.0294694900512695\n",
      "D in: -4.219293117523193\n",
      "1/1 [==============================] - 39s 39s/step - loss: -11.4549\n",
      "Epoch 46/2000\n"
     ]
    },
    {
     "name": "stdout",
     "output_type": "stream",
     "text": [
      "G count: -8.958609580993652\n",
      "G in: -4.218061923980713\n",
      "I count: -5.9447174072265625\n",
      "D in: -4.253957748413086\n",
      "1/1 [==============================] - 38s 38s/step - loss: -11.3202\n",
      "Epoch 47/2000\n",
      "G count: -8.749804496765137\n",
      "G in: -4.1444244384765625\n",
      "I count: -5.767475128173828\n",
      "D in: -4.196011543273926\n",
      "1/1 [==============================] - 38s 38s/step - loss: -11.7358\n",
      "Epoch 48/2000\n",
      "G count: -8.891369819641113\n",
      "G in: -4.200994491577148\n",
      "I count: -5.842373371124268\n",
      "D in: -4.2818779945373535\n",
      "1/1 [==============================] - 38s 38s/step - loss: -11.6369\n",
      "Epoch 49/2000\n",
      "G count: -8.436896324157715\n",
      "G in: -4.1316022872924805\n",
      "I count: -5.83137845993042\n",
      "D in: -4.191655158996582\n",
      "1/1 [==============================] - 38s 38s/step - loss: -11.9172\n",
      "Epoch 50/2000\n",
      "G count: -8.802925109863281\n",
      "G in: -4.192963600158691\n",
      "I count: -5.728606700897217\n",
      "D in: -4.266720294952393\n",
      "1/1 [==============================] - 38s 38s/step - loss: -11.5324\n",
      "Epoch 51/2000\n",
      "G count: -8.696630477905273\n",
      "G in: -4.130913734436035\n",
      "I count: -5.688625812530518\n",
      "D in: -4.2323479652404785\n",
      "1/1 [==============================] - 38s 38s/step - loss: -11.6911\n",
      "Epoch 52/2000\n",
      "G count: -8.794461250305176\n",
      "G in: -4.169155120849609\n",
      "I count: -5.887961387634277\n",
      "D in: -4.184866905212402\n",
      "1/1 [==============================] - 37s 37s/step - loss: -11.3401\n",
      "Epoch 53/2000\n",
      "G count: -8.51118278503418\n",
      "G in: -4.132608890533447\n",
      "I count: -5.9079060554504395\n",
      "D in: -4.155066013336182\n",
      "1/1 [==============================] - 38s 38s/step - loss: -11.8407\n",
      "Epoch 54/2000\n",
      "G count: -8.530985832214355\n",
      "G in: -4.149177074432373\n",
      "I count: -5.793916702270508\n",
      "D in: -4.195347309112549\n",
      "1/1 [==============================] - 37s 37s/step - loss: -11.7834\n",
      "Epoch 55/2000\n",
      "G count: -8.7434720993042\n",
      "G in: -4.1198039054870605\n",
      "I count: -5.968905925750732\n",
      "D in: -4.130808353424072\n",
      "1/1 [==============================] - 41s 41s/step - loss: -11.5470\n",
      "Epoch 56/2000\n",
      "G count: -8.635711669921875\n",
      "G in: -4.147087574005127\n",
      "I count: -5.73793888092041\n",
      "D in: -4.130162715911865\n",
      "1/1 [==============================] - 39s 39s/step - loss: -11.8981\n",
      "Epoch 57/2000\n",
      "G count: -8.463171005249023\n",
      "G in: -4.125414848327637\n",
      "I count: -5.768702507019043\n",
      "D in: -4.220655918121338\n",
      "1/1 [==============================] - 40s 40s/step - loss: -11.9160\n",
      "Epoch 58/2000\n",
      "G count: -8.774239540100098\n",
      "G in: -4.166179656982422\n",
      "I count: -5.774520397186279\n",
      "D in: -4.192902565002441\n",
      "1/1 [==============================] - 39s 39s/step - loss: -11.4345\n",
      "Epoch 59/2000\n",
      "G count: -8.877752304077148\n",
      "G in: -4.190423488616943\n",
      "I count: -5.803752899169922\n",
      "D in: -4.166204929351807\n",
      "1/1 [==============================] - 38s 38s/step - loss: -11.5333\n",
      "Epoch 60/2000\n",
      "G count: -9.025476455688477\n",
      "G in: -4.192704200744629\n",
      "I count: -5.916790962219238\n",
      "D in: -4.2265729904174805\n",
      "1/1 [==============================] - 39s 39s/step - loss: -11.5533\n",
      "Epoch 61/2000\n",
      "G count: -8.791173934936523\n",
      "G in: -4.187829494476318\n",
      "I count: -5.782216548919678\n",
      "D in: -4.204736232757568\n",
      "1/1 [==============================] - 38s 38s/step - loss: -11.8166\n",
      "Epoch 62/2000\n",
      "G count: -9.022398948669434\n",
      "G in: -4.246217250823975\n",
      "I count: -5.954864025115967\n",
      "D in: -4.234774589538574\n",
      "1/1 [==============================] - 38s 38s/step - loss: -11.5250\n",
      "Epoch 63/2000\n",
      "G count: -8.760787963867188\n",
      "G in: -4.197390079498291\n",
      "I count: -5.9544758796691895\n",
      "D in: -4.2717061042785645\n",
      "1/1 [==============================] - 39s 39s/step - loss: -11.6758\n",
      "Epoch 64/2000\n",
      "G count: -8.726543426513672\n",
      "G in: -4.107934474945068\n",
      "I count: -5.820534706115723\n",
      "D in: -4.166811466217041\n",
      "1/1 [==============================] - 38s 38s/step - loss: -11.8318\n",
      "Epoch 65/2000\n",
      "G count: -8.378789901733398\n",
      "G in: -4.126673698425293\n",
      "I count: -5.8868088722229\n",
      "D in: -4.256560802459717\n",
      "1/1 [==============================] - 39s 39s/step - loss: -11.9213\n",
      "Epoch 66/2000\n",
      "G count: -8.670241355895996\n",
      "G in: -4.147366523742676\n",
      "I count: -5.868986129760742\n",
      "D in: -4.2127814292907715\n",
      "1/1 [==============================] - 39s 39s/step - loss: -11.7807\n",
      "Epoch 67/2000\n",
      "G count: -8.795269012451172\n",
      "G in: -4.121555328369141\n",
      "I count: -5.742460250854492\n",
      "D in: -4.235323905944824\n",
      "1/1 [==============================] - 38s 38s/step - loss: -11.6791\n",
      "Epoch 68/2000\n",
      "G count: -8.625495910644531\n",
      "G in: -4.130367279052734\n",
      "I count: -5.870637893676758\n",
      "D in: -4.186370849609375\n",
      "1/1 [==============================] - 38s 38s/step - loss: -11.6898\n",
      "Epoch 69/2000\n",
      "G count: -8.666703224182129\n",
      "G in: -4.110726356506348\n",
      "I count: -5.883236408233643\n",
      "D in: -4.183788776397705\n",
      "1/1 [==============================] - 38s 38s/step - loss: -11.7554\n",
      "Epoch 70/2000\n",
      "G count: -8.450395584106445\n",
      "G in: -4.077319622039795\n",
      "I count: -5.889392375946045\n",
      "D in: -4.14224100112915\n",
      "1/1 [==============================] - 38s 38s/step - loss: -11.8716\n",
      "Epoch 71/2000\n",
      "G count: -8.658401489257812\n",
      "G in: -4.141743183135986\n",
      "I count: -5.818175792694092\n",
      "D in: -4.211378574371338\n",
      "1/1 [==============================] - 38s 38s/step - loss: -11.9234\n",
      "Epoch 72/2000\n",
      "G count: -8.681699752807617\n",
      "G in: -4.154711723327637\n",
      "I count: -5.796198844909668\n",
      "D in: -4.1720051765441895\n",
      "1/1 [==============================] - 40s 40s/step - loss: -11.8368\n",
      "Epoch 73/2000\n",
      "G count: -8.583252906799316\n",
      "G in: -4.117278575897217\n",
      "I count: -5.760269641876221\n",
      "D in: -4.225259780883789\n",
      "1/1 [==============================] - 39s 39s/step - loss: -11.9336\n",
      "Epoch 74/2000\n",
      "G count: -8.55584716796875\n",
      "G in: -4.1624860763549805\n",
      "I count: -5.823915004730225\n",
      "D in: -4.24465274810791\n",
      "1/1 [==============================] - 40s 40s/step - loss: -11.9511\n",
      "Epoch 75/2000\n",
      "G count: -9.061470031738281\n",
      "G in: -4.219111442565918\n",
      "I count: -5.763891696929932\n",
      "D in: -4.262357711791992\n",
      "1/1 [==============================] - 39s 39s/step - loss: -11.5109\n",
      "Epoch 76/2000\n",
      "G count: -8.891912460327148\n",
      "G in: -4.165442943572998\n",
      "I count: -5.744297981262207\n",
      "D in: -4.24465799331665\n",
      "1/1 [==============================] - 38s 38s/step - loss: -11.9233\n",
      "Epoch 77/2000\n",
      "G count: -8.749717712402344\n",
      "G in: -4.146693229675293\n",
      "I count: -5.902533054351807\n",
      "D in: -4.214361667633057\n",
      "1/1 [==============================] - 39s 39s/step - loss: -11.8370\n",
      "Epoch 78/2000\n",
      "G count: -8.893068313598633\n",
      "G in: -4.246751308441162\n",
      "I count: -6.013928413391113\n",
      "D in: -4.180922985076904\n",
      "1/1 [==============================] - 39s 39s/step - loss: -11.6887\n",
      "Epoch 79/2000\n",
      "G count: -8.673759460449219\n",
      "G in: -4.194083213806152\n",
      "I count: -6.026258945465088\n",
      "D in: -4.212835311889648\n",
      "1/1 [==============================] - 39s 39s/step - loss: -11.8684\n",
      "Epoch 80/2000\n",
      "G count: -8.564845085144043\n",
      "G in: -4.150688648223877\n",
      "I count: -6.068820476531982\n",
      "D in: -4.203141212463379\n",
      "1/1 [==============================] - 40s 40s/step - loss: -12.0015\n",
      "Epoch 81/2000\n",
      "G count: -8.637260437011719\n",
      "G in: -4.107752799987793\n",
      "I count: -5.925028324127197\n",
      "D in: -4.243997097015381\n",
      "1/1 [==============================] - 38s 38s/step - loss: -11.9425\n",
      "Epoch 82/2000\n",
      "G count: -8.835180282592773\n",
      "G in: -4.189896583557129\n",
      "I count: -5.862306594848633\n",
      "D in: -4.191839694976807\n",
      "1/1 [==============================] - 40s 40s/step - loss: -11.7944\n",
      "Epoch 83/2000\n",
      "G count: -8.932862281799316\n",
      "G in: -4.193192005157471\n",
      "I count: -5.754162311553955\n",
      "D in: -4.260419845581055\n",
      "1/1 [==============================] - 39s 39s/step - loss: -11.5873\n",
      "Epoch 84/2000\n",
      "G count: -8.856270790100098\n",
      "G in: -4.197254180908203\n",
      "I count: -5.73211145401001\n",
      "D in: -4.204638481140137\n",
      "1/1 [==============================] - 39s 39s/step - loss: -11.7545\n",
      "Epoch 85/2000\n",
      "G count: -8.69347858428955\n",
      "G in: -4.2148566246032715\n",
      "I count: -5.838742256164551\n",
      "D in: -4.205807209014893\n",
      "1/1 [==============================] - 39s 39s/step - loss: -11.9352\n",
      "Epoch 86/2000\n",
      "G count: -8.770186424255371\n",
      "G in: -4.176720142364502\n",
      "I count: -5.847217082977295\n",
      "D in: -4.248894691467285\n",
      "1/1 [==============================] - 39s 39s/step - loss: -11.7561\n",
      "Epoch 87/2000\n",
      "G count: -8.704856872558594\n",
      "G in: -4.197547435760498\n",
      "I count: -5.869859218597412\n",
      "D in: -4.124626636505127\n",
      "1/1 [==============================] - 38s 38s/step - loss: -11.7802\n",
      "Epoch 88/2000\n",
      "G count: -8.535314559936523\n",
      "G in: -4.0848798751831055\n",
      "I count: -5.7773895263671875\n",
      "D in: -4.222085952758789\n",
      "1/1 [==============================] - 39s 39s/step - loss: -12.0481\n",
      "Epoch 89/2000\n",
      "G count: -8.621604919433594\n",
      "G in: -4.1344523429870605\n",
      "I count: -5.952975273132324\n",
      "D in: -4.100533962249756\n"
     ]
    },
    {
     "name": "stdout",
     "output_type": "stream",
     "text": [
      "1/1 [==============================] - 39s 39s/step - loss: -11.8942\n",
      "Epoch 90/2000\n",
      "G count: -8.792437553405762\n",
      "G in: -4.091711521148682\n",
      "I count: -5.913745403289795\n",
      "D in: -4.157573699951172\n",
      "1/1 [==============================] - 39s 39s/step - loss: -11.6933\n",
      "Epoch 91/2000\n",
      "G count: -8.646218299865723\n",
      "G in: -4.121021270751953\n",
      "I count: -5.842648029327393\n",
      "D in: -4.288600444793701\n",
      "1/1 [==============================] - 39s 39s/step - loss: -11.8229\n",
      "Epoch 92/2000\n",
      "G count: -8.726572036743164\n",
      "G in: -4.124523639678955\n",
      "I count: -5.7886810302734375\n",
      "D in: -4.162674427032471\n",
      "1/1 [==============================] - 39s 39s/step - loss: -11.9462\n",
      "Epoch 93/2000\n",
      "G count: -8.718986511230469\n",
      "G in: -4.136991500854492\n",
      "I count: -5.851180553436279\n",
      "D in: -4.186047077178955\n",
      "1/1 [==============================] - 38s 38s/step - loss: -12.1550\n",
      "Epoch 94/2000\n",
      "G count: -8.726044654846191\n",
      "G in: -4.128211498260498\n",
      "I count: -5.80208158493042\n",
      "D in: -4.196780681610107\n",
      "1/1 [==============================] - 39s 39s/step - loss: -12.1308\n",
      "Epoch 95/2000\n",
      "G count: -8.500968933105469\n",
      "G in: -4.091419219970703\n",
      "I count: -5.908998012542725\n",
      "D in: -4.193983554840088\n",
      "1/1 [==============================] - 38s 38s/step - loss: -12.3047\n",
      "Epoch 96/2000\n",
      "G count: -8.688215255737305\n",
      "G in: -4.0986528396606445\n",
      "I count: -5.781795978546143\n",
      "D in: -4.195441722869873\n",
      "1/1 [==============================] - 38s 38s/step - loss: -12.1750\n",
      "Epoch 97/2000\n",
      "G count: -8.637240409851074\n",
      "G in: -4.171423435211182\n",
      "I count: -5.9329118728637695\n",
      "D in: -4.25025749206543\n",
      "1/1 [==============================] - 40s 40s/step - loss: -12.2343\n",
      "Epoch 98/2000\n",
      "G count: -8.758513450622559\n",
      "G in: -4.150533676147461\n",
      "I count: -5.86108922958374\n",
      "D in: -4.223204135894775\n",
      "1/1 [==============================] - 39s 39s/step - loss: -12.1796\n",
      "Epoch 99/2000\n",
      "G count: -8.830678939819336\n",
      "G in: -4.165249824523926\n",
      "I count: -5.7706990242004395\n",
      "D in: -4.2741007804870605\n",
      "1/1 [==============================] - 41s 41s/step - loss: -12.2746\n",
      "Epoch 100/2000\n",
      "G count: -8.827858924865723\n",
      "G in: -4.149409770965576\n",
      "I count: -5.812020301818848\n",
      "D in: -4.236980438232422\n",
      "1/1 [==============================] - 39s 39s/step - loss: -12.0380\n",
      "Epoch 101/2000\n",
      "G count: -8.61135482788086\n",
      "G in: -4.14875602722168\n",
      "I count: -5.817803382873535\n",
      "D in: -4.119302272796631\n",
      "1/1 [==============================] - 40s 40s/step - loss: -12.2770\n",
      "Epoch 102/2000\n",
      "G count: -8.819266319274902\n",
      "G in: -4.238872528076172\n",
      "I count: -5.861698150634766\n",
      "D in: -4.218039035797119\n",
      "1/1 [==============================] - 39s 39s/step - loss: -11.8975\n",
      "Epoch 103/2000\n",
      "G count: -8.592784881591797\n",
      "G in: -4.17820930480957\n",
      "I count: -5.840212821960449\n",
      "D in: -4.295495510101318\n",
      "1/1 [==============================] - 39s 39s/step - loss: -12.2092\n",
      "Epoch 104/2000\n",
      "G count: -8.813504219055176\n",
      "G in: -4.1429219245910645\n",
      "I count: -5.771857738494873\n",
      "D in: -4.16898775100708\n",
      "1/1 [==============================] - 39s 39s/step - loss: -12.2057\n",
      "Epoch 105/2000\n",
      "G count: -8.717802047729492\n",
      "G in: -4.120114326477051\n",
      "I count: -5.861309051513672\n",
      "D in: -4.186541557312012\n",
      "1/1 [==============================] - 39s 39s/step - loss: -12.0613\n",
      "Epoch 106/2000\n",
      "G count: -8.609082221984863\n",
      "G in: -4.171797275543213\n",
      "I count: -5.90281867980957\n",
      "D in: -4.145027160644531\n",
      "1/1 [==============================] - 40s 40s/step - loss: -12.1561\n",
      "Epoch 107/2000\n",
      "G count: -8.791351318359375\n",
      "G in: -4.172084808349609\n",
      "I count: -5.877530097961426\n",
      "D in: -4.211785793304443\n",
      "1/1 [==============================] - 38s 38s/step - loss: -12.1624\n",
      "Epoch 108/2000\n",
      "G count: -8.737835884094238\n",
      "G in: -4.211288928985596\n",
      "I count: -5.771821975708008\n",
      "D in: -4.234062671661377\n",
      "1/1 [==============================] - 37s 37s/step - loss: -12.2119\n",
      "Epoch 109/2000\n",
      "G count: -8.608118057250977\n",
      "G in: -4.1716461181640625\n",
      "I count: -5.83566427230835\n",
      "D in: -4.278041839599609\n",
      "1/1 [==============================] - 39s 39s/step - loss: -12.2963\n",
      "Epoch 110/2000\n",
      "G count: -9.081879615783691\n",
      "G in: -4.2103166580200195\n",
      "I count: -5.951574802398682\n",
      "D in: -4.165297031402588\n",
      "1/1 [==============================] - 38s 38s/step - loss: -11.7918\n",
      "Epoch 111/2000\n",
      "G count: -8.5372953414917\n",
      "G in: -4.083602428436279\n",
      "I count: -5.908905029296875\n",
      "D in: -4.128875255584717\n",
      "1/1 [==============================] - 38s 38s/step - loss: -12.4027\n",
      "Epoch 112/2000\n",
      "G count: -8.743124961853027\n",
      "G in: -4.141016483306885\n",
      "I count: -6.018913745880127\n",
      "D in: -4.134452819824219\n",
      "1/1 [==============================] - 39s 39s/step - loss: -12.0398\n",
      "Epoch 113/2000\n",
      "G count: -8.667920112609863\n",
      "G in: -4.135204315185547\n",
      "I count: -5.922311305999756\n",
      "D in: -4.261776447296143\n",
      "1/1 [==============================] - 39s 39s/step - loss: -12.2289\n",
      "Epoch 114/2000\n",
      "G count: -8.817856788635254\n",
      "G in: -4.148513317108154\n",
      "I count: -5.837841510772705\n",
      "D in: -4.238894939422607\n",
      "1/1 [==============================] - 38s 38s/step - loss: -12.1401\n",
      "Epoch 115/2000\n",
      "G count: -8.66169261932373\n",
      "G in: -4.16790771484375\n",
      "I count: -5.8095383644104\n",
      "D in: -4.244396209716797\n",
      "1/1 [==============================] - 38s 38s/step - loss: -12.2720\n",
      "Epoch 116/2000\n",
      "G count: -8.584412574768066\n",
      "G in: -4.114867687225342\n",
      "I count: -5.673609733581543\n",
      "D in: -4.127465724945068\n",
      "1/1 [==============================] - 39s 39s/step - loss: -12.5532\n",
      "Epoch 117/2000\n",
      "G count: -8.791046142578125\n",
      "G in: -4.1152024269104\n",
      "I count: -5.725806713104248\n",
      "D in: -4.184187412261963\n",
      "1/1 [==============================] - 39s 39s/step - loss: -12.2964\n",
      "Epoch 118/2000\n",
      "G count: -8.864760398864746\n",
      "G in: -4.1728291511535645\n",
      "I count: -6.038719654083252\n",
      "D in: -4.188023090362549\n",
      "1/1 [==============================] - 38s 38s/step - loss: -11.9983\n",
      "Epoch 119/2000\n",
      "G count: -8.552469253540039\n",
      "G in: -4.1132426261901855\n",
      "I count: -5.750455856323242\n",
      "D in: -4.113600254058838\n",
      "1/1 [==============================] - 39s 39s/step - loss: -12.5230\n",
      "Epoch 120/2000\n",
      "G count: -8.687175750732422\n",
      "G in: -4.135188102722168\n",
      "I count: -5.918438911437988\n",
      "D in: -4.166346073150635\n",
      "1/1 [==============================] - 38s 38s/step - loss: -12.3086\n",
      "Epoch 121/2000\n",
      "G count: -8.554372787475586\n",
      "G in: -4.159062385559082\n",
      "I count: -5.992005825042725\n",
      "D in: -4.306579113006592\n",
      "1/1 [==============================] - 38s 38s/step - loss: -12.3418\n",
      "Epoch 122/2000\n",
      "G count: -8.700401306152344\n",
      "G in: -4.139041900634766\n",
      "I count: -5.774587154388428\n",
      "D in: -4.278598785400391\n",
      "1/1 [==============================] - 38s 38s/step - loss: -12.3704\n",
      "Epoch 123/2000\n",
      "G count: -8.818538665771484\n",
      "G in: -4.187015056610107\n",
      "I count: -5.693567752838135\n",
      "D in: -4.28627872467041\n",
      "1/1 [==============================] - 38s 38s/step - loss: -12.3716\n",
      "Epoch 124/2000\n",
      "G count: -8.759112358093262\n",
      "G in: -4.164488315582275\n",
      "I count: -5.834001064300537\n",
      "D in: -4.244107246398926\n",
      "1/1 [==============================] - 37s 37s/step - loss: -12.3061\n",
      "Epoch 125/2000\n",
      "G count: -8.678343772888184\n",
      "G in: -4.1625075340271\n",
      "I count: -5.936917304992676\n",
      "D in: -4.303094387054443\n",
      "1/1 [==============================] - 37s 37s/step - loss: -12.2223\n",
      "Epoch 126/2000\n",
      "G count: -8.757508277893066\n",
      "G in: -4.167877197265625\n",
      "I count: -5.9016876220703125\n",
      "D in: -4.19492769241333\n",
      "1/1 [==============================] - 37s 37s/step - loss: -12.4361\n",
      "Epoch 127/2000\n",
      "G count: -8.726037979125977\n",
      "G in: -4.146214485168457\n",
      "I count: -5.932919025421143\n",
      "D in: -4.258602142333984\n",
      "1/1 [==============================] - 36s 36s/step - loss: -12.2552\n",
      "Epoch 128/2000\n",
      "G count: -8.843175888061523\n",
      "G in: -4.142242908477783\n",
      "I count: -5.807619094848633\n",
      "D in: -4.163716793060303\n",
      "1/1 [==============================] - 36s 36s/step - loss: -12.3132\n",
      "Epoch 129/2000\n",
      "G count: -8.731945991516113\n",
      "G in: -4.149119853973389\n",
      "I count: -5.995020866394043\n",
      "D in: -4.1776814460754395\n",
      "1/1 [==============================] - 37s 37s/step - loss: -12.2371\n",
      "Epoch 130/2000\n",
      "G count: -8.791430473327637\n",
      "G in: -4.172016143798828\n",
      "I count: -5.926244258880615\n",
      "D in: -4.17087459564209\n",
      "1/1 [==============================] - 36s 36s/step - loss: -12.4506\n",
      "Epoch 131/2000\n",
      "G count: -8.692915916442871\n",
      "G in: -4.150274276733398\n",
      "I count: -5.85575532913208\n",
      "D in: -4.190722942352295\n",
      "1/1 [==============================] - 38s 38s/step - loss: -12.3808\n",
      "Epoch 132/2000\n",
      "G count: -8.718236923217773\n",
      "G in: -4.1239914894104\n",
      "I count: -5.7311787605285645\n",
      "D in: -4.216917037963867\n"
     ]
    },
    {
     "name": "stdout",
     "output_type": "stream",
     "text": [
      "1/1 [==============================] - 37s 37s/step - loss: -12.5075\n",
      "Epoch 133/2000\n",
      "G count: -8.940661430358887\n",
      "G in: -4.220086574554443\n",
      "I count: -5.932660102844238\n",
      "D in: -4.271042823791504\n",
      "1/1 [==============================] - 37s 37s/step - loss: -12.0496\n",
      "Epoch 134/2000\n",
      "G count: -8.659576416015625\n",
      "G in: -4.1588616371154785\n",
      "I count: -5.735233306884766\n",
      "D in: -4.276600360870361\n",
      "1/1 [==============================] - 37s 37s/step - loss: -12.4375\n",
      "Epoch 135/2000\n",
      "G count: -8.733604431152344\n",
      "G in: -4.1631669998168945\n",
      "I count: -5.886679172515869\n",
      "D in: -4.260942459106445\n",
      "1/1 [==============================] - 37s 37s/step - loss: -12.4674\n",
      "Epoch 136/2000\n",
      "G count: -8.620798110961914\n",
      "G in: -4.112087249755859\n",
      "I count: -5.808245658874512\n",
      "D in: -4.169776916503906\n",
      "1/1 [==============================] - 37s 37s/step - loss: -12.5450\n",
      "Epoch 137/2000\n",
      "G count: -9.004339218139648\n",
      "G in: -4.275720119476318\n",
      "I count: -5.806018352508545\n",
      "D in: -4.235158443450928\n"
     ]
    }
   ],
   "source": [
    "model.compile(loss=loss, optimizer=optimizer, run_eagerly=True)\n",
    "model.fit(x=np.asarray([x_train]), y=np.asarray([(y_train['G_count'], y_train['G_in'], y_train['I_count'], y_train['D_in'])]),\n",
    "         epochs=2000, batch_size=0,\n",
    "        callbacks=logging_callbacks)"
   ]
  },
  {
   "cell_type": "code",
   "execution_count": null,
   "id": "910c2f9e",
   "metadata": {},
   "outputs": [],
   "source": [
    "plt.figure(figsize=(8, 6))\n",
    "preds=tf.reduce_mean(model.call(x_test), axis=-1)\n",
    "plt.plot(df.loc[train_start:test_end].index.values, y_test, label='Hosp')\n",
    "plt.plot(df.loc[train_start:test_end].index.values, preds, label='Hosp')\n",
    "month_ticks = matplotlib.dates.MonthLocator(interval=1)\n",
    "ax = plt.gca()\n",
    "ax.xaxis.set_major_locator(month_ticks)\n",
    "plt.legend()\n",
    "plt.title('Mild Compartment')"
   ]
  },
  {
   "cell_type": "code",
   "execution_count": null,
   "id": "41e61f26",
   "metadata": {},
   "outputs": [],
   "source": [
    "plt.figure(figsize=(8, 6))\n",
    "preds=tf.reduce_mean(model.call(x_train), axis=-1)\n",
    "plt.plot(df.loc[train_start:test_end].index.values, y_test, label='CovidEstim Mild')\n",
    "plt.plot(df.loc[train_start:train_end].index.values, pre_training_preds[:len(df.loc[train_start:train_end].index.values)], label='Predicted Before Training Mild')\n",
    "month_ticks = matplotlib.dates.MonthLocator(interval=1)\n",
    "ax = plt.gca()\n",
    "ax.xaxis.set_major_locator(month_ticks)\n",
    "plt.legend()\n",
    "plt.title('Mild Compartment')"
   ]
  },
  {
   "cell_type": "code",
   "execution_count": null,
   "id": "438fbf19",
   "metadata": {},
   "outputs": [],
   "source": [
    "pre_training_preds"
   ]
  },
  {
   "cell_type": "code",
   "execution_count": null,
   "id": "abdd92d0",
   "metadata": {},
   "outputs": [],
   "source": [
    "preds"
   ]
  },
  {
   "cell_type": "code",
   "execution_count": null,
   "id": "7790428a",
   "metadata": {},
   "outputs": [],
   "source": []
  },
  {
   "cell_type": "code",
   "execution_count": null,
   "id": "b2f44042",
   "metadata": {},
   "outputs": [],
   "source": [
    "import tfa.optimizers"
   ]
  },
  {
   "cell_type": "code",
   "execution_count": null,
   "id": "35cf260e",
   "metadata": {},
   "outputs": [],
   "source": [
    "0.8*2000"
   ]
  },
  {
   "cell_type": "code",
   "execution_count": null,
   "id": "9478d8e6",
   "metadata": {},
   "outputs": [],
   "source": [
    "warmup_asymp"
   ]
  },
  {
   "cell_type": "code",
   "execution_count": null,
   "id": "86caf2f4",
   "metadata": {},
   "outputs": [],
   "source": [
    "warmup_mild"
   ]
  },
  {
   "cell_type": "code",
   "execution_count": null,
   "id": "57e20272",
   "metadata": {},
   "outputs": [],
   "source": [
    "y_test"
   ]
  },
  {
   "cell_type": "code",
   "execution_count": null,
   "id": "8cdad1e4",
   "metadata": {},
   "outputs": [],
   "source": [
    "df.loc[warmup_start:'20210510','mild']"
   ]
  },
  {
   "cell_type": "code",
   "execution_count": null,
   "id": "9fdec032",
   "metadata": {},
   "outputs": [],
   "source": [
    "warmup_start"
   ]
  },
  {
   "cell_type": "code",
   "execution_count": null,
   "id": "7c12bd50",
   "metadata": {},
   "outputs": [],
   "source": [
    "warmup_asymp"
   ]
  },
  {
   "cell_type": "code",
   "execution_count": null,
   "id": "e13a5d30",
   "metadata": {},
   "outputs": [],
   "source": [
    "import copy"
   ]
  },
  {
   "cell_type": "code",
   "execution_count": null,
   "id": "1f8313b4",
   "metadata": {},
   "outputs": [],
   "source": [
    "copy_model = copy.deepcopy(model)\n",
    "copy_model.unconstrained_warmup_A_params[-1][2]['loc'] = tf.Variable(2500.0, dtype=tf.float32)\n",
    "copy_model.unconstrained_warmup_A_params[-1][1]['loc'] = tf.Variable(2500.0, dtype=tf.float32)\n",
    "copy_model.unconstrained_warmup_A_params[-1][0]['loc'] = tf.Variable(2500.0, dtype=tf.float32)\n",
    "copy_model.unconstrained_nu_M[-1]['loc'] = tf.Variable(3.0, dtype=tf.float32)"
   ]
  },
  {
   "cell_type": "code",
   "execution_count": null,
   "id": "45e6ef83",
   "metadata": {},
   "outputs": [],
   "source": [
    "plt.figure(figsize=(8, 6))\n",
    "copy_preds=tf.reduce_mean(copy_model.call(x_train), axis=-1)\n",
    "plt.plot(df.loc[train_start:test_end].index.values, y_test, label='CovidEstim Mild')\n",
    "plt.plot(df.loc[train_start:test_end].index.values, copy_preds, label='Predicted Mild')\n",
    "month_ticks = matplotlib.dates.MonthLocator(interval=1)\n",
    "ax = plt.gca()\n",
    "ax.xaxis.set_major_locator(month_ticks)\n",
    "plt.legend()\n",
    "plt.title('Mild Compartment')"
   ]
  },
  {
   "cell_type": "code",
   "execution_count": null,
   "id": "5bb5613c",
   "metadata": {},
   "outputs": [],
   "source": [
    "loss(y_test, copy_model.call(x_train))"
   ]
  },
  {
   "cell_type": "code",
   "execution_count": null,
   "id": "57a7f0ca",
   "metadata": {},
   "outputs": [],
   "source": [
    "copy_model.unconstrained_nu_M"
   ]
  },
  {
   "cell_type": "code",
   "execution_count": null,
   "id": "f648a7c0",
   "metadata": {},
   "outputs": [],
   "source": [
    "copy_model.unconstrained_rho_M[-1]['loc']"
   ]
  },
  {
   "cell_type": "code",
   "execution_count": null,
   "id": "bbc0824f",
   "metadata": {},
   "outputs": [],
   "source": [
    "tf.math.sigmoid(1.2)"
   ]
  },
  {
   "cell_type": "code",
   "execution_count": null,
   "id": "9ef7bd49",
   "metadata": {},
   "outputs": [],
   "source": [
    "warmup_A_params[-1]"
   ]
  },
  {
   "cell_type": "code",
   "execution_count": null,
   "id": "43e930c3",
   "metadata": {},
   "outputs": [],
   "source": [
    "warmup_asymp"
   ]
  },
  {
   "cell_type": "code",
   "execution_count": null,
   "id": "37263281",
   "metadata": {},
   "outputs": [],
   "source": [
    "warmup_mild"
   ]
  },
  {
   "cell_type": "code",
   "execution_count": null,
   "id": "148b9927",
   "metadata": {},
   "outputs": [],
   "source": [
    "1800/2500"
   ]
  },
  {
   "cell_type": "code",
   "execution_count": null,
   "id": "f9128e0c",
   "metadata": {},
   "outputs": [],
   "source": [
    "plt.figure(figsize=(8, 6))\n",
    "copy_preds=tf.reduce_mean(copy_model.call(x_train), axis=-1)\n",
    "plt.plot(df.loc[train_start:test_end].index.values, df.loc[train_start:test_end, 'mild']/df.loc[train_start:test_end, 'asymp'], label='Asymp/Mild')\n",
    "#plt.plot(df.loc[train_start:test_end].index.values, preds, label='Predicted Mild')\n",
    "month_ticks = matplotlib.dates.MonthLocator(interval=1)\n",
    "ax = plt.gca()\n",
    "ax.xaxis.set_major_locator(month_ticks)\n",
    "plt.legend()\n",
    "plt.title('Empirical Rho_M')"
   ]
  },
  {
   "cell_type": "code",
   "execution_count": null,
   "id": "d7e6cd2f",
   "metadata": {},
   "outputs": [],
   "source": [
    "0.96**(1/5.2)"
   ]
  },
  {
   "cell_type": "code",
   "execution_count": null,
   "id": "86c21262",
   "metadata": {},
   "outputs": [],
   "source": [
    "warmup_asymp"
   ]
  },
  {
   "cell_type": "code",
   "execution_count": null,
   "id": "7adc73fd",
   "metadata": {},
   "outputs": [],
   "source": [
    "x_train"
   ]
  },
  {
   "cell_type": "code",
   "execution_count": null,
   "id": "a8c2f01f",
   "metadata": {},
   "outputs": [],
   "source": [
    "model.T_serial_samples_constrained"
   ]
  },
  {
   "cell_type": "code",
   "execution_count": null,
   "id": "d4e263a7",
   "metadata": {},
   "outputs": [],
   "source": [
    "copy_model.call(x_train,return_all=True)"
   ]
  },
  {
   "cell_type": "code",
   "execution_count": null,
   "id": "84283817",
   "metadata": {},
   "outputs": [],
   "source": [
    "warmup_asymp*x_train[2] ** (1/model.T_serial_samples_constrained)"
   ]
  },
  {
   "cell_type": "code",
   "execution_count": null,
   "id": "b375b608",
   "metadata": {},
   "outputs": [],
   "source": [
    "copy_model.warmup_A_samples[1]"
   ]
  },
  {
   "cell_type": "code",
   "execution_count": null,
   "id": "e3aeff13",
   "metadata": {},
   "outputs": [],
   "source": [
    "warmup_A"
   ]
  },
  {
   "cell_type": "code",
   "execution_count": null,
   "id": "4dc81004",
   "metadata": {},
   "outputs": [],
   "source": [
    "all_preds = model.call(x_train, return_all=True)"
   ]
  },
  {
   "cell_type": "code",
   "execution_count": null,
   "id": "ddbf95c3",
   "metadata": {},
   "outputs": [],
   "source": [
    "all_preds[Comp.A.value][1].stack()[:,0]"
   ]
  },
  {
   "cell_type": "code",
   "execution_count": null,
   "id": "f4b0633f",
   "metadata": {},
   "outputs": [],
   "source": [
    "warmup_A_params"
   ]
  },
  {
   "cell_type": "code",
   "execution_count": null,
   "id": "c0342055",
   "metadata": {},
   "outputs": [],
   "source": [
    "tfp.math.softplus_inverse(100.0/1000/2)"
   ]
  },
  {
   "cell_type": "code",
   "execution_count": null,
   "id": "ee89820c",
   "metadata": {},
   "outputs": [],
   "source": [
    "tfp.math.softplus_inverse(4.0)"
   ]
  },
  {
   "cell_type": "code",
   "execution_count": 52,
   "id": "cc87efc4",
   "metadata": {},
   "outputs": [
    {
     "data": {
      "text/plain": [
       "[<tf.Variable 'rho_M_loc_0:0' shape=() dtype=float32, numpy=7.727156>,\n",
       " <tf.Variable 'rho_M_scale_0:0' shape=() dtype=float32, numpy=6.2944593>,\n",
       " <tf.Variable 'rho_M_loc_1:0' shape=() dtype=float32, numpy=4.250458>,\n",
       " <tf.Variable 'rho_M_scale_1:0' shape=() dtype=float32, numpy=0.35220194>,\n",
       " <tf.Variable 'lambda_M_loc_0:0' shape=() dtype=float32, numpy=4.6709666>,\n",
       " <tf.Variable 'lambda_M_scale_0:0' shape=() dtype=float32, numpy=0.58412516>,\n",
       " <tf.Variable 'lambda_M_loc_1:0' shape=() dtype=float32, numpy=4.662324>,\n",
       " <tf.Variable 'lambda_M_scale_1:0' shape=() dtype=float32, numpy=0.59064466>,\n",
       " <tf.Variable 'nu_M_loc_0:0' shape=() dtype=float32, numpy=3.0287802>,\n",
       " <tf.Variable 'nu_M_scale_0:0' shape=() dtype=float32, numpy=0.9864543>,\n",
       " <tf.Variable 'nu_M_loc_1:0' shape=() dtype=float32, numpy=3.8400252>,\n",
       " <tf.Variable 'nu_M_scale_1:0' shape=() dtype=float32, numpy=0.59620786>,\n",
       " <tf.Variable 'rho_G_loc_0:0' shape=() dtype=float32, numpy=-6.82275>,\n",
       " <tf.Variable 'rho_G_scale_0:0' shape=() dtype=float32, numpy=0.39514938>,\n",
       " <tf.Variable 'rho_G_loc_1:0' shape=() dtype=float32, numpy=-1.1256032>,\n",
       " <tf.Variable 'rho_G_scale_1:0' shape=() dtype=float32, numpy=-3.3002546>,\n",
       " <tf.Variable 'lambda_G_loc_0:0' shape=() dtype=float32, numpy=3.200372>,\n",
       " <tf.Variable 'lambda_G_scale_0:0' shape=() dtype=float32, numpy=0.6721405>,\n",
       " <tf.Variable 'lambda_G_loc_1:0' shape=() dtype=float32, numpy=3.1848345>,\n",
       " <tf.Variable 'lambda_G_scale_1:0' shape=() dtype=float32, numpy=0.69138193>,\n",
       " <tf.Variable 'nu_G_loc_0:0' shape=() dtype=float32, numpy=9.064384>,\n",
       " <tf.Variable 'nu_G_scale_0:0' shape=() dtype=float32, numpy=2.9352138>,\n",
       " <tf.Variable 'nu_G_loc_1:0' shape=() dtype=float32, numpy=10.918653>,\n",
       " <tf.Variable 'nu_G_scale_1:0' shape=() dtype=float32, numpy=2.4358907>,\n",
       " <tf.Variable 'rho_I_loc_0:0' shape=() dtype=float32, numpy=-1.147747>,\n",
       " <tf.Variable 'rho_I_scale_0:0' shape=() dtype=float32, numpy=-1.1506686>,\n",
       " <tf.Variable 'rho_I_loc_1:0' shape=() dtype=float32, numpy=-0.9204896>,\n",
       " <tf.Variable 'rho_I_scale_1:0' shape=() dtype=float32, numpy=-2.397124>,\n",
       " <tf.Variable 'lambda_I_loc_0:0' shape=() dtype=float32, numpy=3.204454>,\n",
       " <tf.Variable 'lambda_I_scale_0:0' shape=() dtype=float32, numpy=0.6813024>,\n",
       " <tf.Variable 'lambda_I_loc_1:0' shape=() dtype=float32, numpy=3.196788>,\n",
       " <tf.Variable 'lambda_I_scale_1:0' shape=() dtype=float32, numpy=0.68433654>,\n",
       " <tf.Variable 'nu_I_loc_0:0' shape=() dtype=float32, numpy=9.451423>,\n",
       " <tf.Variable 'nu_I_scale_0:0' shape=() dtype=float32, numpy=2.653306>,\n",
       " <tf.Variable 'nu_I_loc_1:0' shape=() dtype=float32, numpy=9.947603>,\n",
       " <tf.Variable 'nu_I_scale_1:0' shape=() dtype=float32, numpy=2.5127654>,\n",
       " <tf.Variable 'lambda_I_bar_loc_0:0' shape=() dtype=float32, numpy=3.2097065>,\n",
       " <tf.Variable 'lambda_I_bar_scale_0:0' shape=() dtype=float32, numpy=0.67413306>,\n",
       " <tf.Variable 'lambda_I_bar_loc_1:0' shape=() dtype=float32, numpy=3.1934676>,\n",
       " <tf.Variable 'lambda_I_bar_scale_1:0' shape=() dtype=float32, numpy=0.6658026>,\n",
       " <tf.Variable 'nu_I_bar_loc_0:0' shape=() dtype=float32, numpy=10.285383>,\n",
       " <tf.Variable 'nu_I_bar_scale_0:0' shape=() dtype=float32, numpy=2.0918453>,\n",
       " <tf.Variable 'nu_I_bar_loc_1:0' shape=() dtype=float32, numpy=10.869901>,\n",
       " <tf.Variable 'nu_I_bar_scale_1:0' shape=() dtype=float32, numpy=2.1483483>,\n",
       " <tf.Variable 'rho_D_loc_0:0' shape=() dtype=float32, numpy=2.0071003>,\n",
       " <tf.Variable 'rho_D_scale_0:0' shape=() dtype=float32, numpy=3.6059875>,\n",
       " <tf.Variable 'rho_D_loc_1:0' shape=() dtype=float32, numpy=-0.5460355>,\n",
       " <tf.Variable 'rho_D_scale_1:0' shape=() dtype=float32, numpy=0.8473152>,\n",
       " <tf.Variable 'lambda_D_loc_0:0' shape=() dtype=float32, numpy=3.2054913>,\n",
       " <tf.Variable 'lambda_D_scale_0:0' shape=() dtype=float32, numpy=0.68256426>,\n",
       " <tf.Variable 'lambda_D_loc_1:0' shape=() dtype=float32, numpy=3.2058115>,\n",
       " <tf.Variable 'lambda_D_scale_1:0' shape=() dtype=float32, numpy=0.68319404>,\n",
       " <tf.Variable 'nu_D_loc_0:0' shape=() dtype=float32, numpy=9.912206>,\n",
       " <tf.Variable 'nu_D_scale_0:0' shape=() dtype=float32, numpy=2.2214308>,\n",
       " <tf.Variable 'nu_D_loc_1:0' shape=() dtype=float32, numpy=9.273339>,\n",
       " <tf.Variable 'nu_D_scale_1:0' shape=() dtype=float32, numpy=2.7307317>,\n",
       " <tf.Variable 'lambda_D_bar_loc_0:0' shape=() dtype=float32, numpy=3.1984665>,\n",
       " <tf.Variable 'lambda_D_bar_scale_0:0' shape=() dtype=float32, numpy=0.6622737>,\n",
       " <tf.Variable 'lambda_D_bar_loc_1:0' shape=() dtype=float32, numpy=3.2108552>,\n",
       " <tf.Variable 'lambda_D_bar_scale_1:0' shape=() dtype=float32, numpy=0.6671627>,\n",
       " <tf.Variable 'nu_D_bar_loc_0:0' shape=() dtype=float32, numpy=9.57469>,\n",
       " <tf.Variable 'nu_D_bar_scale_0:0' shape=() dtype=float32, numpy=2.5023408>,\n",
       " <tf.Variable 'nu_D_bar_loc_1:0' shape=() dtype=float32, numpy=9.479088>,\n",
       " <tf.Variable 'nu_D_bar_scale_1:0' shape=() dtype=float32, numpy=2.6446097>,\n",
       " <tf.Variable 'warmup_A_slope_0:0' shape=() dtype=float32, numpy=0.067591585>,\n",
       " <tf.Variable 'warmup_A_intercept_0:0' shape=() dtype=float32, numpy=8.479972>,\n",
       " <tf.Variable 'warmup_A_scale_0:0' shape=() dtype=float32, numpy=-1.053646>,\n",
       " <tf.Variable 'warmup_A_slope_1:0' shape=() dtype=float32, numpy=-0.018826507>,\n",
       " <tf.Variable 'warmup_A_intercept_1:0' shape=() dtype=float32, numpy=3.7298806>,\n",
       " <tf.Variable 'warmup_A_scale_1:0' shape=() dtype=float32, numpy=-0.84048074>,\n",
       " <tf.Variable 'warmup_M_slope_0:0' shape=() dtype=float32, numpy=0.0011107405>,\n",
       " <tf.Variable 'warmup_M_intercept_0:0' shape=() dtype=float32, numpy=6.6817126>,\n",
       " <tf.Variable 'warmup_M_scale_0:0' shape=() dtype=float32, numpy=-0.06364191>,\n",
       " <tf.Variable 'warmup_M_slope_1:0' shape=() dtype=float32, numpy=-0.009842441>,\n",
       " <tf.Variable 'warmup_M_intercept_1:0' shape=() dtype=float32, numpy=2.996967>,\n",
       " <tf.Variable 'warmup_M_scale_1:0' shape=() dtype=float32, numpy=-1.0714582>,\n",
       " <tf.Variable 'warmup_G_slope_0:0' shape=() dtype=float32, numpy=0.10756727>,\n",
       " <tf.Variable 'warmup_G_intercept_0:0' shape=() dtype=float32, numpy=-0.19962749>,\n",
       " <tf.Variable 'warmup_G_scale_0:0' shape=() dtype=float32, numpy=-1.3369601>,\n",
       " <tf.Variable 'warmup_G_slope_1:0' shape=() dtype=float32, numpy=-0.32434872>,\n",
       " <tf.Variable 'warmup_G_intercept_1:0' shape=() dtype=float32, numpy=0.49663177>,\n",
       " <tf.Variable 'warmup_G_scale_1:0' shape=() dtype=float32, numpy=-2.1267562>,\n",
       " <tf.Variable 'warmup_GR_slope_0:0' shape=() dtype=float32, numpy=-0.0040746694>,\n",
       " <tf.Variable 'warmup_GR_intercept_0:0' shape=() dtype=float32, numpy=-0.9248176>,\n",
       " <tf.Variable 'warmup_GR_scale_0:0' shape=() dtype=float32, numpy=-0.33393747>,\n",
       " <tf.Variable 'warmup_GR_slope_1:0' shape=() dtype=float32, numpy=-0.0047485065>,\n",
       " <tf.Variable 'warmup_GR_intercept_1:0' shape=() dtype=float32, numpy=-1.8169173>,\n",
       " <tf.Variable 'warmup_GR_scale_1:0' shape=() dtype=float32, numpy=-0.5153383>,\n",
       " <tf.Variable 'init_count_G_loc_0:0' shape=() dtype=float32, numpy=4.0591583>,\n",
       " <tf.Variable 'init_count_G_scale_0:0' shape=() dtype=float32, numpy=-1.523786>,\n",
       " <tf.Variable 'init_count_G_loc_1:0' shape=() dtype=float32, numpy=1.612234>,\n",
       " <tf.Variable 'init_count_G_scale_1:0' shape=() dtype=float32, numpy=-3.0309005>,\n",
       " <tf.Variable 'warmup_I_slope_0:0' shape=() dtype=float32, numpy=0.011601991>,\n",
       " <tf.Variable 'warmup_I_intercept_0:0' shape=() dtype=float32, numpy=-1.2745622>,\n",
       " <tf.Variable 'warmup_I_scale_0:0' shape=() dtype=float32, numpy=-1.4878184>,\n",
       " <tf.Variable 'warmup_I_slope_1:0' shape=() dtype=float32, numpy=-0.13788961>,\n",
       " <tf.Variable 'warmup_I_intercept_1:0' shape=() dtype=float32, numpy=-1.8189979>,\n",
       " <tf.Variable 'warmup_I_scale_1:0' shape=() dtype=float32, numpy=-1.6823642>,\n",
       " <tf.Variable 'warmup_IR_slope_0:0' shape=() dtype=float32, numpy=-0.0025587226>,\n",
       " <tf.Variable 'warmup_IR_intercept_0:0' shape=() dtype=float32, numpy=-2.3105881>,\n",
       " <tf.Variable 'warmup_IR_scale_0:0' shape=() dtype=float32, numpy=-0.55041844>,\n",
       " <tf.Variable 'warmup_IR_slope_1:0' shape=() dtype=float32, numpy=0.0034560156>,\n",
       " <tf.Variable 'warmup_IR_intercept_1:0' shape=() dtype=float32, numpy=-3.1369061>,\n",
       " <tf.Variable 'warmup_IR_scale_1:0' shape=() dtype=float32, numpy=-0.6090396>,\n",
       " <tf.Variable 'init_count_I_loc_0:0' shape=() dtype=float32, numpy=0.71814215>,\n",
       " <tf.Variable 'init_count_I_scale_0:0' shape=() dtype=float32, numpy=-2.2514977>,\n",
       " <tf.Variable 'init_count_I_loc_1:0' shape=() dtype=float32, numpy=-0.40047476>,\n",
       " <tf.Variable 'init_count_I_scale_1:0' shape=() dtype=float32, numpy=-2.946507>,\n",
       " <tf.Variable 'T_serial_A_loc:0' shape=() dtype=float32, numpy=4.2846737>,\n",
       " <tf.Variable 'T_serial_A_scale:0' shape=() dtype=float32, numpy=-1.0225903>,\n",
       " <tf.Variable 'epsilon_A_loc:0' shape=() dtype=float32, numpy=-6.896423>,\n",
       " <tf.Variable 'epsilon_A_scale:0' shape=() dtype=float32, numpy=0.27442783>,\n",
       " <tf.Variable 'delta_A_loc:0' shape=() dtype=float32, numpy=-1.5292647>,\n",
       " <tf.Variable 'delta_A_scale:0' shape=() dtype=float32, numpy=-3.2238176>]"
      ]
     },
     "execution_count": 52,
     "metadata": {},
     "output_type": "execute_result"
    }
   ],
   "source": [
    "model.variables"
   ]
  },
  {
   "cell_type": "code",
   "execution_count": null,
   "id": "36097317",
   "metadata": {},
   "outputs": [],
   "source": [
    "model.variables"
   ]
  },
  {
   "cell_type": "code",
   "execution_count": null,
   "id": "bc3f2196",
   "metadata": {},
   "outputs": [],
   "source": [
    "model.losses"
   ]
  },
  {
   "cell_type": "code",
   "execution_count": null,
   "id": "36cb417f",
   "metadata": {},
   "outputs": [],
   "source": [
    "model.prior_distros[Comp.M.value][0]['warmup_M'][0].parameters['distribution'].log_prob(6)"
   ]
  },
  {
   "cell_type": "code",
   "execution_count": null,
   "id": "7e816e1b",
   "metadata": {},
   "outputs": [],
   "source": [
    "model.prior_distros[Comp.M.value][1]['warmup_M'][0].log_prob(\n",
    "                model.warmup_M_samples[1][0])+tfp.bijectors.Chain([tfp.bijectors.Softplus(), tfp.bijectors.Scale(100)]).forward_log_det_jacobian(model.warmup_M_samples[1][0])"
   ]
  },
  {
   "cell_type": "code",
   "execution_count": null,
   "id": "cd52fe35",
   "metadata": {},
   "outputs": [],
   "source": []
  },
  {
   "cell_type": "code",
   "execution_count": null,
   "id": "e5dcd148",
   "metadata": {},
   "outputs": [],
   "source": [
    "tf.reduce_sum([tf.reduce_sum([-tf.reduce_sum(tf.reduce_mean(\n",
    "            model.prior_distros[Comp.M.value][status.value]['warmup_M'][day].log_prob(\n",
    "                model.warmup_M_samples[status.value][day]) + \\\n",
    "            tfp.bijectors.Chain([tfp.bijectors.Softplus(), tfp.bijectors.Scale(100)]).forward_log_det_jacobian(model.warmup_M_samples[status.value][day])\n",
    "            - model.warmup_M_probs[status.value][day], axis=-1)) for day in range(model.transition_window)]) for status in\n",
    "                                             model.vax_statuses])"
   ]
  },
  {
   "cell_type": "code",
   "execution_count": null,
   "id": "3c482e9b",
   "metadata": {},
   "outputs": [],
   "source": [
    "[tf.reduce_sum([-tf.reduce_sum(tf.reduce_mean(\n",
    "            model.prior_distros[Comp.M.value][status.value]['warmup_M'][day].log_prob(\n",
    "                model.warmup_M_samples[status.value][day]) + \\\n",
    "            tfp.bijectors.Chain([tfp.bijectors.Softplus(), tfp.bijectors.Scale(100)]).forward_log_det_jacobian(model.warmup_M_samples[status.value][day])\n",
    "            - model.warmup_M_probs[status.value][day], axis=-1)) for day in range(model.transition_window)]) for status in\n",
    "                                             model.vax_statuses]"
   ]
  },
  {
   "cell_type": "code",
   "execution_count": null,
   "id": "ae216703",
   "metadata": {},
   "outputs": [],
   "source": [
    "[[-tf.reduce_sum(tf.reduce_mean(\n",
    "            model.prior_distros[Comp.M.value][status.value]['warmup_M'][day].log_prob(\n",
    "                model.warmup_M_samples[status.value][day]) + \\\n",
    "            tfp.bijectors.Chain([tfp.bijectors.Softplus(), tfp.bijectors.Scale(100)]).forward_log_det_jacobian(model.warmup_M_samples[status.value][day])\n",
    "            - model.warmup_M_probs[status.value][day], axis=-1)) for day in range(model.transition_window)] for status in\n",
    "                                             model.vax_statuses]"
   ]
  },
  {
   "cell_type": "code",
   "execution_count": null,
   "id": "8ce6a3cf",
   "metadata": {},
   "outputs": [],
   "source": [
    "[[-tf.reduce_mean(\n",
    "            model.prior_distros[Comp.M.value][status.value]['warmup_M'][day].log_prob(\n",
    "                model.warmup_M_samples[status.value][day]) + \\\n",
    "            tfp.bijectors.Chain([tfp.bijectors.Softplus(), tfp.bijectors.Scale(100)]).forward_log_det_jacobian(model.warmup_M_samples[status.value][day])\n",
    "            - model.warmup_M_probs[status.value][day], axis=-1) for day in range(model.transition_window)] for status in\n",
    "                                             model.vax_statuses]"
   ]
  },
  {
   "cell_type": "code",
   "execution_count": null,
   "id": "10331019",
   "metadata": {},
   "outputs": [],
   "source": [
    "[tf.reduce_mean(\n",
    "            model.prior_distros[Comp.M.value][0]['warmup_M'][day].log_prob(\n",
    "                model.warmup_M_samples[0][day]) + \\\n",
    "            tfp.bijectors.Chain([tfp.bijectors.Softplus(), tfp.bijectors.Scale(100)]).forward_log_det_jacobian(model.warmup_M_samples[0][day])\n",
    "            - model.warmup_M_probs[0][day], axis=-1) for day in range(model.transition_window)]"
   ]
  },
  {
   "cell_type": "code",
   "execution_count": null,
   "id": "d736aa44",
   "metadata": {},
   "outputs": [],
   "source": [
    "[tf.reduce_mean(\n",
    "            model.prior_distros[Comp.M.value][0]['warmup_M'][day].log_prob(\n",
    "                model.warmup_M_samples[0][day]), axis=-1) for day in range(model.transition_window)]"
   ]
  },
  {
   "cell_type": "code",
   "execution_count": null,
   "id": "a9e0827f",
   "metadata": {},
   "outputs": [],
   "source": [
    "model.warmup_M_samples[0][day]"
   ]
  },
  {
   "cell_type": "code",
   "execution_count": null,
   "id": "a128023a",
   "metadata": {},
   "outputs": [],
   "source": [
    "tf.reduce_mean(\n",
    "            model.prior_distros[Comp.M.value][0]['warmup_M'][day].log_prob(\n",
    "                model.warmup_M_samples[0][day]), axis=-1)"
   ]
  },
  {
   "cell_type": "code",
   "execution_count": null,
   "id": "b958cc1e",
   "metadata": {},
   "outputs": [],
   "source": [
    "model.prior_distros[Comp.A.value][0]['warmup_A'][0].parameters['distribution'].mean()"
   ]
  },
  {
   "cell_type": "code",
   "execution_count": null,
   "id": "12c18df9",
   "metadata": {},
   "outputs": [],
   "source": [
    "tfp.math.softplus_inverse(0.0)"
   ]
  },
  {
   "cell_type": "code",
   "execution_count": null,
   "id": "d9007256",
   "metadata": {},
   "outputs": [],
   "source": [
    "len(model.trainable_variables)"
   ]
  },
  {
   "cell_type": "code",
   "execution_count": null,
   "id": "c9b48cc5",
   "metadata": {},
   "outputs": [],
   "source": [
    "curr_preds = model.call([x_train])"
   ]
  },
  {
   "cell_type": "code",
   "execution_count": null,
   "id": "4c9b3fe8",
   "metadata": {
    "scrolled": true
   },
   "outputs": [],
   "source": [
    "curr_preds"
   ]
  },
  {
   "cell_type": "code",
   "execution_count": null,
   "id": "192fdd76",
   "metadata": {},
   "outputs": [],
   "source": [
    "loss(np.asarray([(y_train['G_count'], y_train['G_in'], y_train['I_count'], y_train['D_in'])]), curr_preds)"
   ]
  },
  {
   "cell_type": "code",
   "execution_count": null,
   "id": "af076401",
   "metadata": {},
   "outputs": [],
   "source": [
    "model.losses"
   ]
  },
  {
   "cell_type": "code",
   "execution_count": null,
   "id": "90f22ea8",
   "metadata": {},
   "outputs": [],
   "source": [
    "curr_preds[-1][0].numpy()"
   ]
  },
  {
   "cell_type": "code",
   "execution_count": null,
   "id": "8c16d861",
   "metadata": {},
   "outputs": [],
   "source": [
    "preds"
   ]
  },
  {
   "cell_type": "code",
   "execution_count": null,
   "id": "bec0fbc1",
   "metadata": {},
   "outputs": [],
   "source": [
    "model.init_count_G_samples[0].numpy().max()"
   ]
  },
  {
   "cell_type": "code",
   "execution_count": null,
   "id": "ea97b5c0",
   "metadata": {},
   "outputs": [],
   "source": [
    "model.init_count_I_samples[0].numpy().min()"
   ]
  },
  {
   "cell_type": "code",
   "execution_count": 68,
   "id": "88c46340",
   "metadata": {},
   "outputs": [],
   "source": [
    "forecasted_fluxes, forecasted_counts = model.call(x_test, return_all=True)"
   ]
  },
  {
   "cell_type": "code",
   "execution_count": 69,
   "id": "25ca528b",
   "metadata": {},
   "outputs": [
    {
     "name": "stdout",
     "output_type": "stream",
     "text": [
      "ERROR:tensorflow:==================================\n",
      "Object was never used (type <class 'tensorflow.python.ops.tensor_array_ops.TensorArray'>):\n",
      "<tensorflow.python.ops.tensor_array_ops.TensorArray object at 0x7f1ef49b96d0>\n",
      "If you want to mark it as used call its \"mark_used()\" method.\n",
      "It was originally created here:\n",
      "  File \"/home/kheuton/anaconda3/envs/covid_vax_model/lib/python3.7/site-packages/IPython/core/interactiveshell.py\", line 3461, in run_code\n",
      "    return outflag  File \"/tmp/ipykernel_11831/3135864845.py\", line 1, in <module>\n",
      "    forecasted_fluxes, forecasted_counts = model.call(x_test, return_all=True)  File \"/mnt/c/Users/kheut/code/covid19-forecasting/tf_model_1p5/model.py\", line 274, in call\n",
      "    return result  File \"/home/kheuton/anaconda3/envs/covid_vax_model/lib/python3.7/site-packages/tensorflow/python/util/tf_should_use.py\", line 249, in wrapped\n",
      "    error_in_function=error_in_function)\n",
      "==================================\n",
      "ERROR:tensorflow:==================================\n",
      "Object was never used (type <class 'tensorflow.python.ops.tensor_array_ops.TensorArray'>):\n",
      "<tensorflow.python.ops.tensor_array_ops.TensorArray object at 0x7f1f3339b450>\n",
      "If you want to mark it as used call its \"mark_used()\" method.\n",
      "It was originally created here:\n",
      "  File \"/home/kheuton/anaconda3/envs/covid_vax_model/lib/python3.7/site-packages/IPython/core/interactiveshell.py\", line 3461, in run_code\n",
      "    return outflag  File \"/tmp/ipykernel_11831/3135864845.py\", line 1, in <module>\n",
      "    forecasted_fluxes, forecasted_counts = model.call(x_test, return_all=True)  File \"/mnt/c/Users/kheut/code/covid19-forecasting/tf_model_1p5/model.py\", line 274, in call\n",
      "    return result  File \"/home/kheuton/anaconda3/envs/covid_vax_model/lib/python3.7/site-packages/tensorflow/python/util/tf_should_use.py\", line 249, in wrapped\n",
      "    error_in_function=error_in_function)\n",
      "==================================\n",
      "ERROR:tensorflow:==================================\n",
      "Object was never used (type <class 'tensorflow.python.ops.tensor_array_ops.TensorArray'>):\n",
      "<tensorflow.python.ops.tensor_array_ops.TensorArray object at 0x7f1f3339bf10>\n",
      "If you want to mark it as used call its \"mark_used()\" method.\n",
      "It was originally created here:\n",
      "  File \"/home/kheuton/anaconda3/envs/covid_vax_model/lib/python3.7/site-packages/IPython/core/interactiveshell.py\", line 3461, in run_code\n",
      "    return outflag  File \"/tmp/ipykernel_11831/3135864845.py\", line 1, in <module>\n",
      "    forecasted_fluxes, forecasted_counts = model.call(x_test, return_all=True)  File \"/mnt/c/Users/kheut/code/covid19-forecasting/tf_model_1p5/model.py\", line 274, in call\n",
      "    return result  File \"/home/kheuton/anaconda3/envs/covid_vax_model/lib/python3.7/site-packages/tensorflow/python/util/tf_should_use.py\", line 249, in wrapped\n",
      "    error_in_function=error_in_function)\n",
      "==================================\n",
      "ERROR:tensorflow:==================================\n",
      "Object was never used (type <class 'tensorflow.python.ops.tensor_array_ops.TensorArray'>):\n",
      "<tensorflow.python.ops.tensor_array_ops.TensorArray object at 0x7f1f3339bd90>\n",
      "If you want to mark it as used call its \"mark_used()\" method.\n",
      "It was originally created here:\n",
      "  File \"/home/kheuton/anaconda3/envs/covid_vax_model/lib/python3.7/site-packages/IPython/core/interactiveshell.py\", line 3461, in run_code\n",
      "    return outflag  File \"/tmp/ipykernel_11831/3135864845.py\", line 1, in <module>\n",
      "    forecasted_fluxes, forecasted_counts = model.call(x_test, return_all=True)  File \"/mnt/c/Users/kheut/code/covid19-forecasting/tf_model_1p5/model.py\", line 274, in call\n",
      "    return result  File \"/home/kheuton/anaconda3/envs/covid_vax_model/lib/python3.7/site-packages/tensorflow/python/util/tf_should_use.py\", line 249, in wrapped\n",
      "    error_in_function=error_in_function)\n",
      "==================================\n"
     ]
    },
    {
     "data": {
      "text/plain": [
       "Text(0.5, 1.0, 'ICU Count')"
      ]
     },
     "execution_count": 69,
     "metadata": {},
     "output_type": "execute_result"
    },
    {
     "data": {
      "image/png": "[encoded data removed]",
      "text/plain": [
       "<Figure size 576x432 with 1 Axes>"
      ]
     },
     "metadata": {
      "needs_background": "light"
     },
     "output_type": "display_data"
    }
   ],
   "source": [
    "plt.figure(figsize=(8, 6))\n",
    "preds=tf.reduce_mean(model.call(x_test), axis=-1)\n",
    "plt.plot(df.loc[train_start:test_end].index.values, y_test['I_count'], label='ICU')\n",
    "plt.plot(df.loc[train_start:test_end].index.values, preds[0][2], label='ICU')\n",
    "month_ticks = matplotlib.dates.MonthLocator(interval=1)\n",
    "ax = plt.gca()\n",
    "ax.xaxis.set_major_locator(month_ticks)\n",
    "plt.legend()\n",
    "plt.title('ICU Count')"
   ]
  },
  {
   "cell_type": "code",
   "execution_count": 70,
   "id": "4dc8cb55",
   "metadata": {},
   "outputs": [
    {
     "name": "stderr",
     "output_type": "stream",
     "text": [
      "No handles with labels found to put in legend.\n"
     ]
    },
    {
     "data": {
      "text/plain": [
       "Text(0.5, 1.0, 'Gen Count')"
      ]
     },
     "execution_count": 70,
     "metadata": {},
     "output_type": "execute_result"
    },
    {
     "data": {
      "image/png": "[encoded data removed]",
      "text/plain": [
       "<Figure size 576x432 with 1 Axes>"
      ]
     },
     "metadata": {
      "needs_background": "light"
     },
     "output_type": "display_data"
    }
   ],
   "source": [
    "plt.figure(figsize=(8, 6))\n",
    "plt.plot(df.loc[train_start:test_end].index.values, y_test['G_count'], )\n",
    "plt.plot(df.loc[train_start:test_end].index.values, preds[0][0])\n",
    "month_ticks = matplotlib.dates.MonthLocator(interval=1)\n",
    "ax = plt.gca()\n",
    "ax.xaxis.set_major_locator(month_ticks)\n",
    "plt.legend()\n",
    "plt.title('Gen Count')"
   ]
  },
  {
   "cell_type": "code",
   "execution_count": 71,
   "id": "575e5409",
   "metadata": {},
   "outputs": [
    {
     "name": "stderr",
     "output_type": "stream",
     "text": [
      "No handles with labels found to put in legend.\n"
     ]
    },
    {
     "data": {
      "text/plain": [
       "Text(0.5, 1.0, 'Gen Influx')"
      ]
     },
     "execution_count": 71,
     "metadata": {},
     "output_type": "execute_result"
    },
    {
     "data": {
      "image/png": "[encoded data removed]",
      "text/plain": [
       "<Figure size 576x432 with 1 Axes>"
      ]
     },
     "metadata": {
      "needs_background": "light"
     },
     "output_type": "display_data"
    }
   ],
   "source": [
    "plt.figure(figsize=(8, 6))\n",
    "plt.plot(df.loc[train_start:test_end].index.values, y_test['G_in'], )\n",
    "plt.plot(df.loc[train_start:test_end].index.values, preds[0][1])\n",
    "month_ticks = matplotlib.dates.MonthLocator(interval=1)\n",
    "ax = plt.gca()\n",
    "ax.xaxis.set_major_locator(month_ticks)\n",
    "plt.legend()\n",
    "plt.title('Gen Influx')"
   ]
  },
  {
   "cell_type": "code",
   "execution_count": 72,
   "id": "fc04b54f",
   "metadata": {},
   "outputs": [
    {
     "name": "stderr",
     "output_type": "stream",
     "text": [
      "No handles with labels found to put in legend.\n"
     ]
    },
    {
     "data": {
      "text/plain": [
       "Text(0.5, 1.0, 'Death Influx')"
      ]
     },
     "execution_count": 72,
     "metadata": {},
     "output_type": "execute_result"
    },
    {
     "data": {
      "image/png": "[encoded data removed]",
      "text/plain": [
       "<Figure size 576x432 with 1 Axes>"
      ]
     },
     "metadata": {
      "needs_background": "light"
     },
     "output_type": "display_data"
    }
   ],
   "source": [
    "plt.figure(figsize=(8, 6))\n",
    "plt.plot(df.loc[train_start:test_end].index.values, y_test['D_in'], )\n",
    "plt.plot(df.loc[train_start:test_end].index.values, preds[0][3])\n",
    "month_ticks = matplotlib.dates.MonthLocator(interval=1)\n",
    "ax = plt.gca()\n",
    "ax.xaxis.set_major_locator(month_ticks)\n",
    "plt.legend()\n",
    "plt.title('Death Influx')"
   ]
  },
  {
   "cell_type": "code",
   "execution_count": 73,
   "id": "ec96218d",
   "metadata": {},
   "outputs": [
    {
     "name": "stderr",
     "output_type": "stream",
     "text": [
      "No handles with labels found to put in legend.\n"
     ]
    },
    {
     "data": {
      "text/plain": [
       "Text(0.5, 1.0, 'Forecasted Asymp In')"
      ]
     },
     "execution_count": 73,
     "metadata": {},
     "output_type": "execute_result"
    },
    {
     "data": {
      "image/png": "[encoded data removed]",
      "text/plain": [
       "<Figure size 576x432 with 1 Axes>"
      ]
     },
     "metadata": {
      "needs_background": "light"
     },
     "output_type": "display_data"
    }
   ],
   "source": [
    "plt.figure(figsize=(8, 6))\n",
    "plt.plot(df.loc[train_start:test_end].index.values,\n",
    "         tf.reduce_mean(\n",
    "        forecasted_fluxes[Comp.A.value][Vax.yes.value].stack() + forecasted_fluxes[Comp.A.value][Vax.no.value].stack(),\n",
    "         axis=-1)\n",
    "        )\n",
    "month_ticks = matplotlib.dates.MonthLocator(interval=1)\n",
    "ax = plt.gca()\n",
    "ax.xaxis.set_major_locator(month_ticks)\n",
    "plt.legend()\n",
    "plt.title('Forecasted Asymp In')"
   ]
  },
  {
   "cell_type": "code",
   "execution_count": 74,
   "id": "a1330eaa",
   "metadata": {},
   "outputs": [
    {
     "name": "stderr",
     "output_type": "stream",
     "text": [
      "No handles with labels found to put in legend.\n"
     ]
    },
    {
     "data": {
      "text/plain": [
       "Text(0.5, 1.0, 'Forecasted Mild In')"
      ]
     },
     "execution_count": 74,
     "metadata": {},
     "output_type": "execute_result"
    },
    {
     "data": {
      "image/png": "[encoded data removed]",
      "text/plain": [
       "<Figure size 576x432 with 1 Axes>"
      ]
     },
     "metadata": {
      "needs_background": "light"
     },
     "output_type": "display_data"
    }
   ],
   "source": [
    "plt.figure(figsize=(8, 6))\n",
    "plt.plot(df.loc[train_start:test_end].index.values,\n",
    "         tf.reduce_mean(\n",
    "        forecasted_fluxes[Comp.M.value][Vax.yes.value].stack() + forecasted_fluxes[Comp.M.value][Vax.no.value].stack(),\n",
    "         axis=-1)\n",
    "        )\n",
    "month_ticks = matplotlib.dates.MonthLocator(interval=1)\n",
    "ax = plt.gca()\n",
    "ax.xaxis.set_major_locator(month_ticks)\n",
    "plt.legend()\n",
    "plt.title('Forecasted Mild In')"
   ]
  },
  {
   "cell_type": "code",
   "execution_count": 75,
   "id": "906a731d",
   "metadata": {},
   "outputs": [
    {
     "name": "stderr",
     "output_type": "stream",
     "text": [
      "No handles with labels found to put in legend.\n"
     ]
    },
    {
     "data": {
      "text/plain": [
       "Text(0.5, 1.0, 'Forecasted ICU In')"
      ]
     },
     "execution_count": 75,
     "metadata": {},
     "output_type": "execute_result"
    },
    {
     "data": {
      "image/png": "[encoded data removed]",
      "text/plain": [
       "<Figure size 576x432 with 1 Axes>"
      ]
     },
     "metadata": {
      "needs_background": "light"
     },
     "output_type": "display_data"
    }
   ],
   "source": [
    "plt.figure(figsize=(8, 6))\n",
    "plt.plot(df.loc[train_start:test_end].index.values,\n",
    "         tf.reduce_mean(\n",
    "        forecasted_fluxes[Comp.I.value][Vax.yes.value].stack() + forecasted_fluxes[Comp.I.value][Vax.no.value].stack(),\n",
    "         axis=-1)\n",
    "        )\n",
    "month_ticks = matplotlib.dates.MonthLocator(interval=1)\n",
    "ax = plt.gca()\n",
    "ax.xaxis.set_major_locator(month_ticks)\n",
    "plt.legend()\n",
    "plt.title('Forecasted ICU In')"
   ]
  },
  {
   "cell_type": "code",
   "execution_count": null,
   "id": "7e629963",
   "metadata": {},
   "outputs": [],
   "source": [
    "count_gen"
   ]
  },
  {
   "cell_type": "code",
   "execution_count": null,
   "id": "9e63925d",
   "metadata": {},
   "outputs": [],
   "source": [
    "warmup_G"
   ]
  },
  {
   "cell_type": "code",
   "execution_count": null,
   "id": "9fd3754a",
   "metadata": {},
   "outputs": [],
   "source": [
    "warmup_mild[vax_status][0]/2/10"
   ]
  },
  {
   "cell_type": "code",
   "execution_count": null,
   "id": "18fb665a",
   "metadata": {},
   "outputs": [],
   "source": [
    "warmup_asymp[vax_status][0]/2"
   ]
  },
  {
   "cell_type": "code",
   "execution_count": null,
   "id": "cc7a026d",
   "metadata": {},
   "outputs": [],
   "source": [
    "warmup_mild[vax_status][0]/2"
   ]
  },
  {
   "cell_type": "code",
   "execution_count": null,
   "id": "d00a3c1a",
   "metadata": {},
   "outputs": [],
   "source": [
    "count_icu[vax_status]"
   ]
  },
  {
   "cell_type": "code",
   "execution_count": null,
   "id": "4b064e53",
   "metadata": {},
   "outputs": [],
   "source": [
    "model.init_count_I_samples_constrained"
   ]
  },
  {
   "cell_type": "code",
   "execution_count": null,
   "id": "70487751",
   "metadata": {},
   "outputs": [],
   "source": [
    "warmup_IR_params"
   ]
  },
  {
   "cell_type": "code",
   "execution_count": null,
   "id": "0ea93529",
   "metadata": {},
   "outputs": [],
   "source": [
    "model.trainable_variables"
   ]
  },
  {
   "cell_type": "code",
   "execution_count": null,
   "id": "64703a05",
   "metadata": {},
   "outputs": [],
   "source": [
    "tfp.bijectors.Chain([tfp.bijectors.Softplus(), tfp.bijectors.Scale(100)]).forward(-2.0793715)"
   ]
  },
  {
   "cell_type": "code",
   "execution_count": null,
   "id": "a84d19bf",
   "metadata": {},
   "outputs": [],
   "source": [
    "tfp.bijectors.Chain([tfp.bijectors.Softplus(), tfp.bijectors.Scale(100)]).forward(200)"
   ]
  },
  {
   "cell_type": "code",
   "execution_count": null,
   "id": "b00df33f",
   "metadata": {},
   "outputs": [],
   "source": [
    "tfp.bijectors.Chain([ tfp.bijectors.Scale(100), tfp.bijectors.Softplus()]).inverse(100)"
   ]
  },
  {
   "cell_type": "code",
   "execution_count": null,
   "id": "4cef84fa",
   "metadata": {},
   "outputs": [],
   "source": [
    "tfp.bijectors.Softplus().inverse(model.warmup_A_samples[0][0][0])"
   ]
  },
  {
   "cell_type": "code",
   "execution_count": null,
   "id": "9b76da4f",
   "metadata": {},
   "outputs": [],
   "source": [
    "tfp.bijectors.Chain([ tfp.bijectors.Scale(100), tfp.bijectors.Softplus()]).forward(model.warmup_A_samples[0][0][0])"
   ]
  },
  {
   "cell_type": "code",
   "execution_count": null,
   "id": "2ae866a9",
   "metadata": {},
   "outputs": [],
   "source": [
    "tfp.bijectors.Chain([tfp.bijectors.Softplus(), tfp.bijectors.Scale(100)]).forward(model.warmup_A_samples[0][0][0])"
   ]
  },
  {
   "cell_type": "code",
   "execution_count": null,
   "id": "05e4d641",
   "metadata": {},
   "outputs": [],
   "source": [
    "tfp.bijectors.Chain([tfp.bijectors.Softplus(), tfp.bijectors.Scale(100)]).forward(\n",
    "                        model.warmup_IR_samples[0][0])"
   ]
  },
  {
   "cell_type": "code",
   "execution_count": null,
   "id": "5afeb663",
   "metadata": {},
   "outputs": [],
   "source": [
    "warmup_IR_params"
   ]
  },
  {
   "cell_type": "code",
   "execution_count": null,
   "id": "aa5b237c",
   "metadata": {},
   "outputs": [],
   "source": [
    "model.warmup_IR_samples[0][0].numpy().mean()"
   ]
  },
  {
   "cell_type": "code",
   "execution_count": null,
   "id": "c6bc315e",
   "metadata": {},
   "outputs": [],
   "source": [
    "len(model.losses)"
   ]
  },
  {
   "cell_type": "code",
   "execution_count": null,
   "id": "1e6d01ba",
   "metadata": {},
   "outputs": [],
   "source": [
    "[[-tf.reduce_sum(tf.reduce_mean(\n",
    "            model.prior_distros[Comp.IR.value][status.value]['warmup_IR'][day].log_prob(\n",
    "                model.warmup_IR_samples[status.value][day]) + \\\n",
    "            tfp.bijectors.Chain([tfp.bijectors.Softplus(), tfp.bijectors.Scale(100)]).forward_log_det_jacobian(\n",
    "                model.warmup_IR_samples[status.value][day])\n",
    "            - model.warmup_IR_probs[status.value][day], axis=-1)) for day in range(model.transition_window)] for status in\n",
    "                                             model.vax_statuses]"
   ]
  },
  {
   "cell_type": "code",
   "execution_count": null,
   "id": "36b7d80d",
   "metadata": {},
   "outputs": [],
   "source": [
    "model.prior_distros[Comp.IR.value][0]['warmup_IR'][0].log_prob(\n",
    "                model.warmup_IR_samples[0][0]) + \\\n",
    "tfp.bijectors.Chain([tfp.bijectors.Softplus(), tfp.bijectors.Scale(100)]).forward_log_det_jacobian(\n",
    "                model.warmup_IR_samples[0][0])"
   ]
  },
  {
   "cell_type": "code",
   "execution_count": null,
   "id": "89eb04ca",
   "metadata": {},
   "outputs": [],
   "source": [
    "warmup_IR_params"
   ]
  },
  {
   "cell_type": "code",
   "execution_count": null,
   "id": "9338358b",
   "metadata": {},
   "outputs": [],
   "source": [
    "tfp.bijectors.Chain([tfp.bijectors.Softplus(), tfp.bijectors.Scale(100)]).forward(\n",
    "              10.0/100/2)"
   ]
  },
  {
   "cell_type": "code",
   "execution_count": null,
   "id": "5968c7db",
   "metadata": {},
   "outputs": [],
   "source": [
    "warmup_mild[vax_status][0]/2"
   ]
  },
  {
   "cell_type": "code",
   "execution_count": null,
   "id": "5b1afe26",
   "metadata": {},
   "outputs": [],
   "source": [
    "warmup_mild[vax_status][0]/2/10/10/10"
   ]
  },
  {
   "cell_type": "code",
   "execution_count": null,
   "id": "16a28589",
   "metadata": {},
   "outputs": [],
   "source": [
    "model.prior_distros[Comp.IR.value][0]['warmup_IR'][0].log_prob(-0.01)"
   ]
  },
  {
   "cell_type": "code",
   "execution_count": null,
   "id": "fd39f12d",
   "metadata": {},
   "outputs": [],
   "source": []
  },
  {
   "cell_type": "code",
   "execution_count": null,
   "id": "70084e57",
   "metadata": {},
   "outputs": [],
   "source": [
    "count_gen"
   ]
  },
  {
   "cell_type": "code",
   "execution_count": null,
   "id": "c455c4de",
   "metadata": {},
   "outputs": [],
   "source": [
    "tfp.math.softplus_inverse(10.0/100/2)"
   ]
  },
  {
   "cell_type": "code",
   "execution_count": null,
   "id": "7fb2ef42",
   "metadata": {},
   "outputs": [],
   "source": [
    "tfp.bijectors.Softplus().inverse(10.0/100/2)"
   ]
  },
  {
   "cell_type": "code",
   "execution_count": null,
   "id": "99698427",
   "metadata": {},
   "outputs": [],
   "source": [
    "tfp.bijectors.Chain([tfp.bijectors.Softplus(), tfp.bijectors.Scale(100)]).forward(tfp.math.softplus_inverse(10.0/2)/100)"
   ]
  },
  {
   "cell_type": "code",
   "execution_count": null,
   "id": "5dfdf459",
   "metadata": {},
   "outputs": [],
   "source": [
    "model.init_count_I_samples_constrained[0].numpy().mean()"
   ]
  },
  {
   "cell_type": "code",
   "execution_count": null,
   "id": "aaa5c0e0",
   "metadata": {},
   "outputs": [],
   "source": [
    "preds[0][2]"
   ]
  },
  {
   "cell_type": "code",
   "execution_count": null,
   "id": "1d57e8f9",
   "metadata": {},
   "outputs": [],
   "source": [
    "model.warmup_IR_samples_constrained[vax_status]"
   ]
  },
  {
   "cell_type": "code",
   "execution_count": null,
   "id": "725ef57d",
   "metadata": {},
   "outputs": [],
   "source": [
    "model.losses"
   ]
  },
  {
   "cell_type": "code",
   "execution_count": null,
   "id": "28f1cd98",
   "metadata": {},
   "outputs": [],
   "source": [
    "model.prior_distros[Comp.I.value][0]['warmup_I'][3].parameters['distribution'].mean()"
   ]
  },
  {
   "cell_type": "code",
   "execution_count": null,
   "id": "abd96168",
   "metadata": {},
   "outputs": [],
   "source": [
    "model.warmup_I_samples_constrained[0][-1]"
   ]
  },
  {
   "cell_type": "code",
   "execution_count": null,
   "id": "f2f53fcd",
   "metadata": {},
   "outputs": [],
   "source": [
    "model.warmup_I_samples_constrained[vax_status][2] - \\\n",
    "                                                   model.warmup_IR_samples_constrained[vax_status][2]"
   ]
  },
  {
   "cell_type": "code",
   "execution_count": null,
   "id": "8bc3b20b",
   "metadata": {},
   "outputs": [],
   "source": [
    "model.losses"
   ]
  },
  {
   "cell_type": "code",
   "execution_count": null,
   "id": "a7d381fa",
   "metadata": {},
   "outputs": [],
   "source": [
    "pre_training_preds[0][0].numpy().mean(axis=1)"
   ]
  },
  {
   "cell_type": "code",
   "execution_count": null,
   "id": "a7cc529c",
   "metadata": {},
   "outputs": [],
   "source": [
    "model.rho_D_samples"
   ]
  },
  {
   "cell_type": "code",
   "execution_count": null,
   "id": "142963bf",
   "metadata": {},
   "outputs": [],
   "source": [
    "model.warmup_I_samples_constrained[0][-1]"
   ]
  },
  {
   "cell_type": "code",
   "execution_count": null,
   "id": "ec27315b",
   "metadata": {},
   "outputs": [],
   "source": [
    "count_gen"
   ]
  },
  {
   "cell_type": "code",
   "execution_count": null,
   "id": "b7e7de97",
   "metadata": {},
   "outputs": [],
   "source": [
    "init_count_I"
   ]
  },
  {
   "cell_type": "code",
   "execution_count": null,
   "id": "a7da793a",
   "metadata": {},
   "outputs": [],
   "source": [
    "warmup_I_params"
   ]
  },
  {
   "cell_type": "code",
   "execution_count": 31,
   "id": "229a2376",
   "metadata": {},
   "outputs": [
    {
     "data": {
      "text/html": [
       "<div>\n",
       "<style scoped>\n",
       "    .dataframe tbody tr th:only-of-type {\n",
       "        vertical-align: middle;\n",
       "    }\n",
       "\n",
       "    .dataframe tbody tr th {\n",
       "        vertical-align: top;\n",
       "    }\n",
       "\n",
       "    .dataframe thead th {\n",
       "        text-align: right;\n",
       "    }\n",
       "</style>\n",
       "<table border=\"1\" class=\"dataframe\">\n",
       "  <thead>\n",
       "    <tr style=\"text-align: right;\">\n",
       "      <th></th>\n",
       "      <th>icu_count</th>\n",
       "      <th>general_ward_count</th>\n",
       "      <th>deaths_covid</th>\n",
       "      <th>asymp</th>\n",
       "      <th>extreme</th>\n",
       "      <th>mild</th>\n",
       "      <th>Rt</th>\n",
       "      <th>general_ward_in</th>\n",
       "      <th>vax_pct</th>\n",
       "    </tr>\n",
       "    <tr>\n",
       "      <th>date</th>\n",
       "      <th></th>\n",
       "      <th></th>\n",
       "      <th></th>\n",
       "      <th></th>\n",
       "      <th></th>\n",
       "      <th></th>\n",
       "      <th></th>\n",
       "      <th></th>\n",
       "      <th></th>\n",
       "    </tr>\n",
       "  </thead>\n",
       "  <tbody>\n",
       "    <tr>\n",
       "      <th>2019-12-25</th>\n",
       "      <td>NaN</td>\n",
       "      <td>NaN</td>\n",
       "      <td>NaN</td>\n",
       "      <td>0.000006</td>\n",
       "      <td>6.555663e-11</td>\n",
       "      <td>5.714537e-08</td>\n",
       "      <td>0.992215</td>\n",
       "      <td>NaN</td>\n",
       "      <td>NaN</td>\n",
       "    </tr>\n",
       "    <tr>\n",
       "      <th>2019-12-26</th>\n",
       "      <td>NaN</td>\n",
       "      <td>NaN</td>\n",
       "      <td>NaN</td>\n",
       "      <td>0.000006</td>\n",
       "      <td>5.584121e-10</td>\n",
       "      <td>3.892314e-07</td>\n",
       "      <td>1.055331</td>\n",
       "      <td>NaN</td>\n",
       "      <td>NaN</td>\n",
       "    </tr>\n",
       "    <tr>\n",
       "      <th>2019-12-27</th>\n",
       "      <td>NaN</td>\n",
       "      <td>NaN</td>\n",
       "      <td>NaN</td>\n",
       "      <td>0.000006</td>\n",
       "      <td>2.045071e-09</td>\n",
       "      <td>1.009780e-06</td>\n",
       "      <td>1.110538</td>\n",
       "      <td>NaN</td>\n",
       "      <td>NaN</td>\n",
       "    </tr>\n",
       "    <tr>\n",
       "      <th>2019-12-28</th>\n",
       "      <td>NaN</td>\n",
       "      <td>NaN</td>\n",
       "      <td>NaN</td>\n",
       "      <td>0.000007</td>\n",
       "      <td>4.996819e-09</td>\n",
       "      <td>1.784756e-06</td>\n",
       "      <td>1.158677</td>\n",
       "      <td>NaN</td>\n",
       "      <td>NaN</td>\n",
       "    </tr>\n",
       "    <tr>\n",
       "      <th>2019-12-29</th>\n",
       "      <td>NaN</td>\n",
       "      <td>NaN</td>\n",
       "      <td>NaN</td>\n",
       "      <td>0.000007</td>\n",
       "      <td>9.617803e-09</td>\n",
       "      <td>2.581918e-06</td>\n",
       "      <td>1.201151</td>\n",
       "      <td>NaN</td>\n",
       "      <td>NaN</td>\n",
       "    </tr>\n",
       "    <tr>\n",
       "      <th>...</th>\n",
       "      <td>...</td>\n",
       "      <td>...</td>\n",
       "      <td>...</td>\n",
       "      <td>...</td>\n",
       "      <td>...</td>\n",
       "      <td>...</td>\n",
       "      <td>...</td>\n",
       "      <td>...</td>\n",
       "      <td>...</td>\n",
       "    </tr>\n",
       "    <tr>\n",
       "      <th>2021-08-31</th>\n",
       "      <td>171.0</td>\n",
       "      <td>500.0</td>\n",
       "      <td>4.0</td>\n",
       "      <td>5744.449475</td>\n",
       "      <td>4.605118e+01</td>\n",
       "      <td>3.266123e+03</td>\n",
       "      <td>1.190514</td>\n",
       "      <td>67.0</td>\n",
       "      <td>0.6597</td>\n",
       "    </tr>\n",
       "    <tr>\n",
       "      <th>2021-09-01</th>\n",
       "      <td>161.0</td>\n",
       "      <td>490.0</td>\n",
       "      <td>12.0</td>\n",
       "      <td>5959.757047</td>\n",
       "      <td>4.741058e+01</td>\n",
       "      <td>3.375344e+03</td>\n",
       "      <td>1.197465</td>\n",
       "      <td>85.0</td>\n",
       "      <td>0.6604</td>\n",
       "    </tr>\n",
       "    <tr>\n",
       "      <th>2021-09-02</th>\n",
       "      <td>168.0</td>\n",
       "      <td>517.0</td>\n",
       "      <td>10.0</td>\n",
       "      <td>NaN</td>\n",
       "      <td>NaN</td>\n",
       "      <td>NaN</td>\n",
       "      <td>NaN</td>\n",
       "      <td>72.0</td>\n",
       "      <td>0.6613</td>\n",
       "    </tr>\n",
       "    <tr>\n",
       "      <th>2021-09-03</th>\n",
       "      <td>168.0</td>\n",
       "      <td>517.0</td>\n",
       "      <td>10.0</td>\n",
       "      <td>NaN</td>\n",
       "      <td>NaN</td>\n",
       "      <td>NaN</td>\n",
       "      <td>NaN</td>\n",
       "      <td>93.0</td>\n",
       "      <td>0.6623</td>\n",
       "    </tr>\n",
       "    <tr>\n",
       "      <th>2021-09-04</th>\n",
       "      <td>NaN</td>\n",
       "      <td>NaN</td>\n",
       "      <td>NaN</td>\n",
       "      <td>NaN</td>\n",
       "      <td>NaN</td>\n",
       "      <td>NaN</td>\n",
       "      <td>NaN</td>\n",
       "      <td>93.0</td>\n",
       "      <td>NaN</td>\n",
       "    </tr>\n",
       "  </tbody>\n",
       "</table>\n",
       "<p>620 rows × 9 columns</p>\n",
       "</div>"
      ],
      "text/plain": [
       "            icu_count  general_ward_count  deaths_covid        asymp  \\\n",
       "date                                                                   \n",
       "2019-12-25        NaN                 NaN           NaN     0.000006   \n",
       "2019-12-26        NaN                 NaN           NaN     0.000006   \n",
       "2019-12-27        NaN                 NaN           NaN     0.000006   \n",
       "2019-12-28        NaN                 NaN           NaN     0.000007   \n",
       "2019-12-29        NaN                 NaN           NaN     0.000007   \n",
       "...               ...                 ...           ...          ...   \n",
       "2021-08-31      171.0               500.0           4.0  5744.449475   \n",
       "2021-09-01      161.0               490.0          12.0  5959.757047   \n",
       "2021-09-02      168.0               517.0          10.0          NaN   \n",
       "2021-09-03      168.0               517.0          10.0          NaN   \n",
       "2021-09-04        NaN                 NaN           NaN          NaN   \n",
       "\n",
       "                 extreme          mild        Rt  general_ward_in  vax_pct  \n",
       "date                                                                        \n",
       "2019-12-25  6.555663e-11  5.714537e-08  0.992215              NaN      NaN  \n",
       "2019-12-26  5.584121e-10  3.892314e-07  1.055331              NaN      NaN  \n",
       "2019-12-27  2.045071e-09  1.009780e-06  1.110538              NaN      NaN  \n",
       "2019-12-28  4.996819e-09  1.784756e-06  1.158677              NaN      NaN  \n",
       "2019-12-29  9.617803e-09  2.581918e-06  1.201151              NaN      NaN  \n",
       "...                  ...           ...       ...              ...      ...  \n",
       "2021-08-31  4.605118e+01  3.266123e+03  1.190514             67.0   0.6597  \n",
       "2021-09-01  4.741058e+01  3.375344e+03  1.197465             85.0   0.6604  \n",
       "2021-09-02           NaN           NaN       NaN             72.0   0.6613  \n",
       "2021-09-03           NaN           NaN       NaN             93.0   0.6623  \n",
       "2021-09-04           NaN           NaN       NaN             93.0      NaN  \n",
       "\n",
       "[620 rows x 9 columns]"
      ]
     },
     "execution_count": 31,
     "metadata": {},
     "output_type": "execute_result"
    }
   ],
   "source": [
    "df"
   ]
  },
  {
   "cell_type": "code",
   "execution_count": null,
   "id": "5e1cbb95",
   "metadata": {},
   "outputs": [],
   "source": []
  }
 ],
 "metadata": {
  "kernelspec": {
   "display_name": "Python 3 (ipykernel)",
   "language": "python",
   "name": "python3"
  },
  "language_info": {
   "codemirror_mode": {
    "name": "ipython",
    "version": 3
   },
   "file_extension": ".py",
   "mimetype": "text/x-python",
   "name": "python",
   "nbconvert_exporter": "python",
   "pygments_lexer": "ipython3",
   "version": "3.7.11"
  }
 },
 "nbformat": 4,
 "nbformat_minor": 5
}

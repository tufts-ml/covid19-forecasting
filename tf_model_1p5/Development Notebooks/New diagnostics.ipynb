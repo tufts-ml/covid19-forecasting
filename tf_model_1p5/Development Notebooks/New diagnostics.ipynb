{
 "cells": [
  {
   "cell_type": "code",
   "execution_count": 1,
   "id": "b38e2162",
   "metadata": {},
   "outputs": [
    {
     "name": "stderr",
     "output_type": "stream",
     "text": [
      "2021-12-02 06:10:54.499883: W tensorflow/stream_executor/platform/default/dso_loader.cc:64] Could not load dynamic library 'libcudart.so.11.0'; dlerror: libcudart.so.11.0: cannot open shared object file: No such file or directory\n",
      "2021-12-02 06:10:54.499917: I tensorflow/stream_executor/cuda/cudart_stub.cc:29] Ignore above cudart dlerror if you do not have a GPU set up on your machine.\n"
     ]
    }
   ],
   "source": [
    "%load_ext autoreload\n",
    "%autoreload 2\n",
    "\n",
    "import numpy as np\n",
    "import tensorflow as tf\n",
    "\n",
    "import sys\n",
    "sys.path.append('/mnt/c/Users/kheut/code/covid19-forecasting/tf_model_1p5/')\n",
    "\n",
    "from enum import Enum\n",
    "\n",
    "import tensorflow as tf\n",
    "from tensorflow import keras\n",
    "from tensorflow.keras.layers import Dense\n",
    "\n",
    "import tensorflow_probability as tfp\n",
    "from scipy.stats import beta, truncnorm\n",
    "\n",
    "\n",
    "# Local imports from model.py, data.py\n",
    "from model import CovidModel, LogPoissonProb, get_logging_callbacks, Comp, Vax\n",
    "from data import read_data, create_warmup\n",
    "#from plots import make_all_plots\n",
    "\n",
    "import scipy\n",
    "\n",
    "import matplotlib\n",
    "import matplotlib.pyplot as plt\n",
    "plt.rcParams.update({'font.size': 20}) # set plot font sizes"
   ]
  },
  {
   "cell_type": "code",
   "execution_count": 2,
   "id": "35c9c120",
   "metadata": {},
   "outputs": [],
   "source": [
    "transition_window =3\n",
    "\n",
    "warmup_start = '20210428'\n",
    "warmup_end = '20210430'\n",
    "train_start = '20210501'\n",
    "train_end = '20210731'\n",
    "test_start = '20210801'\n",
    "test_end = '20210831'\n",
    "\n",
    "state = 'Massachusetts'\n",
    "state_abbrev = 'MA'\n",
    "\n",
    "data_dir = '../data'\n",
    "covid_estim_date = '20210901'\n",
    "hhs_date = '20210903'\n",
    "owid_date = '20210903'\n",
    "\n",
    "log_dir = './logs/new_warmup'\n",
    "\n",
    "\n",
    "# Learning rate\n",
    "learning_rate = 1e-4"
   ]
  },
  {
   "cell_type": "code",
   "execution_count": 3,
   "id": "16076ff8",
   "metadata": {},
   "outputs": [],
   "source": [
    "df = read_data(data_dir=data_dir,\n",
    "               covid_estim_date=covid_estim_date,\n",
    "               hhs_date=hhs_date,\n",
    "               owid_date=owid_date,\n",
    "               state=state, state_abbrev=state_abbrev)"
   ]
  },
  {
   "cell_type": "code",
   "execution_count": 4,
   "id": "447015b5",
   "metadata": {},
   "outputs": [],
   "source": [
    "class Comp(Enum):\n",
    "    A = 0\n",
    "    M = 1\n",
    "    #X = 2\n",
    "    #G = 3\n",
    "    \n",
    "class Vax(Enum):\n",
    "    total = -1\n",
    "    no = 0\n",
    "    yes = 1"
   ]
  },
  {
   "cell_type": "code",
   "execution_count": 5,
   "id": "6417b528",
   "metadata": {},
   "outputs": [],
   "source": [
    "# get warmup arrays, splitting on vaccination status\n",
    "warmup_asymp, warmup_mild, warmup_extreme = create_warmup(df, \n",
    "                                                          warmup_start, \n",
    "                                                          warmup_end,\n",
    "                                                          0,0,0)\n",
    "\n",
    "# re-combine\n",
    "warmup_asymp = warmup_asymp[Vax.no.value] + warmup_asymp[Vax.yes.value]"
   ]
  },
  {
   "cell_type": "code",
   "execution_count": 6,
   "id": "a0219818",
   "metadata": {},
   "outputs": [],
   "source": [
    "synth_T_serial = 5.8\n",
    "synth_rho_M = 0.76\n",
    "synth_lambda_M = 4.7\n",
    "synth_nu_M = 3.1"
   ]
  },
  {
   "cell_type": "code",
   "execution_count": 21,
   "id": "ed285e32",
   "metadata": {},
   "outputs": [],
   "source": [
    "warmup_A_params = {}\n",
    "warmup_A_params[Vax.total.value] = {}\n",
    "warmup_A_params[Vax.total.value]['prior'] = []\n",
    "warmup_A_params[Vax.total.value]['posterior_init'] = []\n",
    "\n",
    "for day in range(transition_window):\n",
    "    warmup_A_params[Vax.total.value]['prior'].append({'loc': warmup_asymp[day],\n",
    "                                                'scale': warmup_asymp[day]/10})\n",
    "    "
   ]
  },
  {
   "cell_type": "code",
   "execution_count": 8,
   "id": "97be3c8b",
   "metadata": {},
   "outputs": [
    {
     "name": "stderr",
     "output_type": "stream",
     "text": [
      "2021-12-02 06:10:56.324007: I tensorflow/stream_executor/cuda/cuda_gpu_executor.cc:923] could not open file to read NUMA node: /sys/bus/pci/devices/0000:2d:00.0/numa_node\n",
      "Your kernel may have been built without NUMA support.\n",
      "2021-12-02 06:10:56.324227: W tensorflow/stream_executor/platform/default/dso_loader.cc:64] Could not load dynamic library 'libcudart.so.11.0'; dlerror: libcudart.so.11.0: cannot open shared object file: No such file or directory\n",
      "2021-12-02 06:10:56.324262: W tensorflow/stream_executor/platform/default/dso_loader.cc:64] Could not load dynamic library 'libcublas.so.11'; dlerror: libcublas.so.11: cannot open shared object file: No such file or directory\n",
      "2021-12-02 06:10:56.324289: W tensorflow/stream_executor/platform/default/dso_loader.cc:64] Could not load dynamic library 'libcublasLt.so.11'; dlerror: libcublasLt.so.11: cannot open shared object file: No such file or directory\n",
      "2021-12-02 06:10:56.324314: W tensorflow/stream_executor/platform/default/dso_loader.cc:64] Could not load dynamic library 'libcufft.so.10'; dlerror: libcufft.so.10: cannot open shared object file: No such file or directory\n",
      "2021-12-02 06:10:56.324337: W tensorflow/stream_executor/platform/default/dso_loader.cc:64] Could not load dynamic library 'libcurand.so.10'; dlerror: libcurand.so.10: cannot open shared object file: No such file or directory\n",
      "2021-12-02 06:10:56.324361: W tensorflow/stream_executor/platform/default/dso_loader.cc:64] Could not load dynamic library 'libcusolver.so.11'; dlerror: libcusolver.so.11: cannot open shared object file: No such file or directory\n",
      "2021-12-02 06:10:56.324383: W tensorflow/stream_executor/platform/default/dso_loader.cc:64] Could not load dynamic library 'libcusparse.so.11'; dlerror: libcusparse.so.11: cannot open shared object file: No such file or directory\n",
      "2021-12-02 06:10:56.324406: W tensorflow/stream_executor/platform/default/dso_loader.cc:64] Could not load dynamic library 'libcudnn.so.8'; dlerror: libcudnn.so.8: cannot open shared object file: No such file or directory\n",
      "2021-12-02 06:10:56.324413: W tensorflow/core/common_runtime/gpu/gpu_device.cc:1835] Cannot dlopen some GPU libraries. Please make sure the missing libraries mentioned above are installed properly if you would like to use GPU. Follow the guide at https://www.tensorflow.org/install/gpu for how to download and setup the required libraries for your platform.\n",
      "Skipping registering GPU devices...\n",
      "2021-12-02 06:10:56.324837: I tensorflow/core/platform/cpu_feature_guard.cc:142] This TensorFlow binary is optimized with oneAPI Deep Neural Network Library (oneDNN) to use the following CPU instructions in performance-critical operations:  AVX2 FMA\n",
      "To enable them in other operations, rebuild TensorFlow with the appropriate compiler flags.\n"
     ]
    }
   ],
   "source": [
    "x_train = tf.cast(df.loc[train_start:test_end,'Rt'].values, dtype=tf.float32)\n",
    "y_test = tf.cast(df.loc[train_start:test_end,'mild'], dtype=tf.float32)"
   ]
  },
  {
   "cell_type": "code",
   "execution_count": 9,
   "id": "e452e8ce",
   "metadata": {},
   "outputs": [],
   "source": [
    "A_vals = []\n",
    "M_vals =[]\n",
    "for day in range(transition_window):\n",
    "    A_vals.append(warmup_A_params[-1]['prior'][day]['loc'])\n",
    "\n",
    "for day in range(len(x_train)):\n",
    "    yesterday_asymp = A_vals[-1]\n",
    "    \n",
    "    today_asymp = yesterday_asymp*x_train[day]**(1/synth_T_serial)\n",
    "    A_vals.append(today_asymp)\n",
    "    \n",
    "    today_M = 0\n",
    "    pi_M=[]\n",
    "    for j in range(transition_window):\n",
    "        \n",
    "        \n",
    "        lambda_M_fix = synth_lambda_M\n",
    "        nu_M_fix = synth_nu_M\n",
    "        poisson_dist = scipy.stats.poisson(lambda_M_fix)\n",
    "        pi_M_j_ago = poisson_dist.logpmf(j+1)/nu_M_fix\n",
    "        \n",
    "        pi_M.append(pi_M_j_ago)\n",
    "    \n",
    "    pi_M = scipy.special.softmax(pi_M)\n",
    "        \n",
    "    for j in range(transition_window):\n",
    "        j_ago_asymp = A_vals[day-j-1]\n",
    "        today_M += j_ago_asymp*synth_rho_M*pi_M[j]\n",
    "        \n",
    "    M_vals.append(today_M)"
   ]
  },
  {
   "cell_type": "code",
   "execution_count": 10,
   "id": "05295e5a",
   "metadata": {},
   "outputs": [],
   "source": [
    "\n",
    "T_serial = {}\n",
    "T_serial[Vax.total.value] = {}\n",
    "T_serial[Vax.total.value]['prior'] ={'loc':5.8, 'scale':1}\n",
    "\n",
    "\n",
    "rho_M = {}\n",
    "rho_M[Vax.total.value] = {}\n",
    "rho_M[Vax.total.value]['prior'] = {'a': 31.8, 'b': 10.3}\n",
    "\n",
    "lambda_M = {}\n",
    "lambda_M[Vax.total.value] = {}\n",
    "lambda_M[Vax.total.value]['prior'] = {'loc': 4.7, 'scale': 1}\n",
    "\n",
    "nu_M = {}\n",
    "nu_M[Vax.total.value] = {}\n",
    "nu_M[Vax.total.value]['prior'] = {'loc': 3.1, 'scale': 1.2}\n",
    "\n",
    "\n"
   ]
  },
  {
   "cell_type": "code",
   "execution_count": 11,
   "id": "8c773a4e",
   "metadata": {},
   "outputs": [],
   "source": [
    "variance_scales = np.logspace(-2,4,20)"
   ]
  },
  {
   "cell_type": "code",
   "execution_count": 12,
   "id": "d0d7b5d0",
   "metadata": {},
   "outputs": [
    {
     "name": "stderr",
     "output_type": "stream",
     "text": [
      "2021-12-02 06:10:58.479134: I tensorflow/compiler/mlir/mlir_graph_optimization_pass.cc:185] None of the MLIR Optimization Passes are enabled (registered 2)\n"
     ]
    },
    {
     "name": "stdout",
     "output_type": "stream",
     "text": [
      "neg elbo: 4.093791961669922\n",
      "neg elbo: -1.2540817806439009e-07\n",
      "neg elbo: -9.965896907715432e-08\n",
      "neg elbo: 3.420427083969116\n",
      "neg elbo: -1.1873245142624e-07\n",
      "neg elbo: -1.2016296579986374e-07\n",
      "neg elbo: 2.657914161682129\n",
      "neg elbo: -1.0776519587807343e-07\n",
      "neg elbo: -1.0871887212715592e-07\n",
      "neg elbo: 1.9425398111343384\n",
      "neg elbo: -1.0156631446989195e-07\n",
      "neg elbo: -1.3065337611806171e-07\n",
      "neg elbo: 1.1927834749221802\n",
      "neg elbo: -1.411438006471144e-07\n",
      "neg elbo: -1.1825561330169876e-07\n",
      "neg elbo: 0.5455191731452942\n",
      "neg elbo: -1.335144048653092e-07\n",
      "neg elbo: -1.244545018153076e-07\n",
      "neg elbo: 0.06124406307935715\n",
      "neg elbo: -1.1682510603350238e-07\n",
      "neg elbo: -1.2779236158166896e-07\n",
      "neg elbo: 0.24792565405368805\n",
      "neg elbo: -1.320838975971128e-07\n",
      "neg elbo: -1.2016296579986374e-07\n",
      "neg elbo: 5.890854358673096\n",
      "neg elbo: -1.7356872206164553e-07\n",
      "neg elbo: -1.149177535353374e-07\n",
      "neg elbo: 140.76087951660156\n",
      "neg elbo: -1.3446808111439168e-07\n",
      "neg elbo: -1.3446808111439168e-07\n",
      "neg elbo: 1070.2811279296875\n",
      "neg elbo: -1.0061263822080946e-07\n",
      "neg elbo: -9.965896907715432e-08\n",
      "neg elbo: 4027.928466796875\n",
      "neg elbo: -1.1062621751989354e-07\n",
      "neg elbo: -1.230239803362565e-07\n",
      "neg elbo: 11151.9921875\n",
      "neg elbo: -1.1682510603350238e-07\n",
      "neg elbo: -1.0871887212715592e-07\n",
      "neg elbo: 27564.2890625\n",
      "neg elbo: -1.1444091541079615e-07\n",
      "neg elbo: -1.2636184010261786e-07\n",
      "neg elbo: 67784.9609375\n",
      "neg elbo: -1.2683868533258646e-07\n",
      "neg elbo: -1.4448166041347577e-07\n",
      "neg elbo: 179113.46875\n",
      "neg elbo: -1.1682510603350238e-07\n",
      "neg elbo: -1.3923644814894942e-07\n",
      "neg elbo: 543947.5\n",
      "neg elbo: -1.1253357001805853e-07\n",
      "neg elbo: -1.3828277189986693e-07\n",
      "neg elbo: 1890603.875\n",
      "neg elbo: -1.1634826790896113e-07\n",
      "neg elbo: -1.5497207073167374e-07\n",
      "neg elbo: 6703163.0\n",
      "neg elbo: -1.4305115314527939e-07\n",
      "neg elbo: -9.965896907715432e-08\n",
      "neg elbo: 27908108.0\n",
      "neg elbo: -1.3780594088075304e-07\n",
      "neg elbo: -1.1777877517715751e-07\n"
     ]
    }
   ],
   "source": [
    "parameters = ['warmup_asymp_-3']#['T_serial', 'rho_M', 'lambda_M', 'nu_M',\n",
    "             #'warmup_asymp_-3', 'warmup_asymp_-1', 'warmup_asymp_-1'\n",
    "#]\n",
    "\n",
    "trials = 1\n",
    "\n",
    "losses = {}\n",
    "prior_probs ={}\n",
    "posterior_probs ={}\n",
    "for parameter in parameters:\n",
    "    \n",
    "    \n",
    "    \n",
    "    key = parameter\n",
    "    losses[key] = []\n",
    "    prior_probs[key] = []\n",
    "    posterior_probs[key] = []\n",
    "    \n",
    "    \n",
    "    \n",
    "    \n",
    "\n",
    "    \n",
    "    \n",
    "    \n",
    "    for var_scale in variance_scales:\n",
    "        \n",
    "        T_serial_scale = 1.0\n",
    "        rho_M_scale = 0.1\n",
    "        lambda_M_scale = 1.0\n",
    "        nu_M_scale = 1.2\n",
    "\n",
    "        warmup_scales = [0.1]*warmup_asymp\n",
    "        \n",
    "        if key =='T_serial':\n",
    "            T_serial_scale =T_serial_scale *var_scale\n",
    "        if key =='rho_M':\n",
    "            rho_M_scale = rho_M_scale *var_scale\n",
    "        if key =='lambda_M':\n",
    "            lambda_M_scale =  lambda_M_scale *var_scale\n",
    "        if key =='nu_M':\n",
    "            nu_M_scale =nu_M_scale*var_scale\n",
    "        if key =='warmup_asymp_-3':\n",
    "            warmup_scales[0] = warmup_scales[0]*var_scale\n",
    "        if key =='warmup_asymp_-2':\n",
    "            warmup_scales[1] = warmup_scales[1]*var_scale\n",
    "        if key =='warmup_asymp_-1':\n",
    "            warmup_scales[2] = warmup_scales[2]*var_scale\n",
    "            \n",
    "\n",
    "        warmup_A_params[Vax.total.value]['posterior_init'] = []\n",
    "\n",
    "        for trial in range(trials):\n",
    "            \n",
    "            T_serial[Vax.total.value]['posterior_init'] = {'loc': tfp.math.softplus_inverse(synth_T_serial),\n",
    "                                                 'scale':tf.cast(tfp.math.softplus_inverse(T_serial_scale),dtype=tf.float32)}\n",
    "\n",
    "            rho_M[Vax.total.value]['posterior_init'] = {'loc': tf.cast(np.log(synth_rho_M/(1-synth_rho_M)),dtype=tf.float32),\n",
    "                                                  'scale':tf.cast(tfp.math.softplus_inverse(rho_M_scale),dtype=tf.float32)}\n",
    "\n",
    "            lambda_M[Vax.total.value]['posterior_init'] = {'loc': tf.cast(tfp.math.softplus_inverse(synth_lambda_M),dtype=tf.float32),\n",
    "                                                     'scale':tf.cast(tfp.math.softplus_inverse(lambda_M_scale),dtype=tf.float32)}\n",
    "            \n",
    "            nu_M[Vax.total.value]['posterior_init'] = {'loc': tf.cast(tfp.math.softplus_inverse(synth_nu_M),dtype=tf.float32),\n",
    "                                                 'scale':tf.cast(tfp.math.softplus_inverse(nu_M_scale),dtype=tf.float32)}\n",
    "\n",
    "            for day in range(transition_window):\n",
    "                # must be positive so reverse softplus the mean\n",
    "                warmup_A_params[Vax.total.value]['posterior_init'].append({'loc': tf.cast(tfp.math.softplus_inverse(warmup_asymp[day]),dtype=tf.float32),\n",
    "                                                                     'scale': tf.cast(tfp.math.softplus_inverse(warmup_scales[day]),dtype=tf.float32)})#tf.cast(tfp.math.softplus_inverse(warmup_asymp[day]/10),dtype=tf.float32)})\n",
    "\n",
    "            model = CovidModel([Vax.total], [Comp.A, Comp.M],\n",
    "                             transition_window,\n",
    "                            T_serial, rho_M, lambda_M, nu_M,\n",
    "                             warmup_A_params, posterior_samples=1000)\n",
    "            \n",
    "            loss = LogPoissonProb() \n",
    "            optimizer = tf.keras.optimizers.SGD(\n",
    "                learning_rate=learning_rate, #momentum=0.98, nesterov=False, name='SGD'\n",
    "            )\n",
    "            \n",
    "            with tf.GradientTape() as tape:\n",
    "                model._constrain_parameters()\n",
    "                model._sample_and_reparameterize()\n",
    "                model._add_prior_loss()\n",
    "                loss_val = sum(model.losses)\n",
    "                \n",
    "            losses[key].append(loss_val)\n",
    "            prior_probs[key].append(model.prior_distros[Comp.A.value][Vax.total.value]['warmup_A'][-3].log_prob(model.warmup_A_samples[-3]) + \\\n",
    "                tfp.bijectors.Softplus().forward_log_det_jacobian(model.warmup_A_samples[-3]))\n",
    "            posterior_probs[key].append(model.warmup_A_probs[-3])"
   ]
  },
  {
   "cell_type": "code",
   "execution_count": 13,
   "id": "5264fef1",
   "metadata": {},
   "outputs": [
    {
     "data": {
      "text/plain": [
       "Text(0.5, 1.0, 'Asymptomatic Compartment')"
      ]
     },
     "execution_count": 13,
     "metadata": {},
     "output_type": "execute_result"
    },
    {
     "data": {
      "image/png": "[encoded data removed]",
      "text/plain": [
       "<Figure size 432x288 with 1 Axes>"
      ]
     },
     "metadata": {
      "needs_background": "light"
     },
     "output_type": "display_data"
    }
   ],
   "source": [
    "plt.plot(df.loc[warmup_start:test_end].index.values, A_vals, label='Synthetic Asymp')\n",
    "plt.plot(df.loc[warmup_start:test_end].index.values, df.loc[warmup_start:test_end,'asymp'].values, label='Covid Estim Asymp')\n",
    "month_ticks = matplotlib.dates.MonthLocator(interval=1)\n",
    "ax = plt.gca()\n",
    "ax.xaxis.set_major_locator(month_ticks)\n",
    "plt.legend()\n",
    "plt.title('Asymptomatic Compartment')"
   ]
  },
  {
   "cell_type": "code",
   "execution_count": 14,
   "id": "450451b2",
   "metadata": {},
   "outputs": [
    {
     "data": {
      "text/plain": [
       "Text(0.5, 1.0, 'Mild Compartment')"
      ]
     },
     "execution_count": 14,
     "metadata": {},
     "output_type": "execute_result"
    },
    {
     "data": {
      "image/png": "[encoded data removed]",
      "text/plain": [
       "<Figure size 432x288 with 1 Axes>"
      ]
     },
     "metadata": {
      "needs_background": "light"
     },
     "output_type": "display_data"
    }
   ],
   "source": [
    "plt.plot(df.loc[train_start:test_end].index.values, M_vals, label='Synthetic Mild')\n",
    "plt.plot(df.loc[train_start:test_end].index.values, df.loc[train_start:test_end,'mild'].values, label='Covid Estim Mild')\n",
    "month_ticks = matplotlib.dates.MonthLocator(interval=1)\n",
    "ax = plt.gca()\n",
    "ax.xaxis.set_major_locator(month_ticks)\n",
    "plt.legend()\n",
    "plt.title('Mild Compartment')"
   ]
  },
  {
   "cell_type": "code",
   "execution_count": 15,
   "id": "c6d62d44",
   "metadata": {},
   "outputs": [
    {
     "ename": "KeyError",
     "evalue": "'T_serial'",
     "output_type": "error",
     "traceback": [
      "\u001b[0;31m---------------------------------------------------------------------------\u001b[0m",
      "\u001b[0;31mKeyError\u001b[0m                                  Traceback (most recent call last)",
      "\u001b[0;32m/tmp/ipykernel_559/1430222825.py\u001b[0m in \u001b[0;36m<module>\u001b[0;34m\u001b[0m\n\u001b[1;32m      1\u001b[0m plt.plot(np.repeat(variance_scales,trials),\n\u001b[0;32m----> 2\u001b[0;31m          prior_probs['T_serial'], 'k.')\n\u001b[0m\u001b[1;32m      3\u001b[0m \u001b[0mplt\u001b[0m\u001b[0;34m.\u001b[0m\u001b[0mxlabel\u001b[0m\u001b[0;34m(\u001b[0m\u001b[0;34m'T_serial Variance scale'\u001b[0m\u001b[0;34m)\u001b[0m\u001b[0;34m\u001b[0m\u001b[0;34m\u001b[0m\u001b[0m\n\u001b[1;32m      4\u001b[0m \u001b[0mplt\u001b[0m\u001b[0;34m.\u001b[0m\u001b[0mylabel\u001b[0m\u001b[0;34m(\u001b[0m\u001b[0;34m'Negative Elbo'\u001b[0m\u001b[0;34m)\u001b[0m\u001b[0;34m\u001b[0m\u001b[0;34m\u001b[0m\u001b[0m\n\u001b[1;32m      5\u001b[0m \u001b[0mplt\u001b[0m\u001b[0;34m.\u001b[0m\u001b[0mtitle\u001b[0m\u001b[0;34m(\u001b[0m\u001b[0;34m\"Loss vs. T_serial Variance\"\u001b[0m\u001b[0;34m)\u001b[0m\u001b[0;34m\u001b[0m\u001b[0;34m\u001b[0m\u001b[0m\n",
      "\u001b[0;31mKeyError\u001b[0m: 'T_serial'"
     ]
    }
   ],
   "source": [
    "plt.plot(np.repeat(variance_scales,trials),\n",
    "         prior_probs['T_serial'], 'k.')\n",
    "plt.xlabel('T_serial Variance scale')\n",
    "plt.ylabel('Negative Elbo')\n",
    "plt.title(\"Loss vs. T_serial Variance\")\n",
    "plt.xscale('log')\n",
    "plt.xticks([0.01, 0.1, 1, 10, 100])"
   ]
  },
  {
   "cell_type": "code",
   "execution_count": null,
   "id": "6139252c",
   "metadata": {},
   "outputs": [],
   "source": [
    "plt.plot(np.repeat(variance_scales,trials),\n",
    "         posterior_probs['T_serial'], 'k.')\n",
    "plt.xlabel('T_serial Variance scale')\n",
    "plt.ylabel('Negative Elbo')\n",
    "plt.title(\"Loss vs. T_serial Variance\")\n",
    "plt.xscale('log')\n",
    "plt.xticks([0.01, 0.1, 1, 10, 100])"
   ]
  },
  {
   "cell_type": "code",
   "execution_count": null,
   "id": "2f59acc3",
   "metadata": {},
   "outputs": [],
   "source": [
    "plt.plot(np.repeat(variance_scales,trials),\n",
    "         losses['T_serial'], 'k.')\n",
    "plt.xlabel('Model T_serial Variance as % of \"true\" value')\n",
    "plt.ylabel('Negative Elbo')\n",
    "plt.title(\"Loss vs. T_serial Variance\")\n",
    "plt.xscale('log')\n",
    "plt.xticks([0.01, 0.1, 1, 10, 100, 1000])\n",
    "plt.ylim([0,40])"
   ]
  },
  {
   "cell_type": "code",
   "execution_count": null,
   "id": "3812fa5f",
   "metadata": {},
   "outputs": [],
   "source": [
    "plt.plot(np.repeat(variance_scales,trials),\n",
    "         losses['rho_M'], 'k.')\n",
    "plt.xlabel('Model Rho_M Variance as % of \"true\" value')\n",
    "plt.ylabel('Negative Elbo')\n",
    "plt.title(\"Loss vs. rho_M Variance\")\n",
    "plt.xscale('log')\n",
    "plt.xticks([0.01, 0.1, 1, 10, 100, 1000])\n",
    "plt.ylim([0,40])"
   ]
  },
  {
   "cell_type": "code",
   "execution_count": null,
   "id": "eed9c277",
   "metadata": {},
   "outputs": [],
   "source": [
    "plt.plot(np.repeat(variance_scales,trials),\n",
    "         posterior_probs['rho_M'], 'k.')\n",
    "plt.xlabel('T_serial Variance scale')\n",
    "plt.ylabel('Negative Elbo')\n",
    "plt.title(\"Loss vs. T_serial Variance\")\n",
    "plt.xscale('log')\n",
    "plt.xticks([0.01, 0.1, 1, 10, 100])"
   ]
  },
  {
   "cell_type": "code",
   "execution_count": null,
   "id": "29fa4261",
   "metadata": {},
   "outputs": [],
   "source": [
    "plt.plot(np.repeat(variance_scales,trials),\n",
    "         prior_probs['rho_M'], 'k.')\n",
    "plt.xlabel('T_serial Variance scale')\n",
    "plt.ylabel('Negative Elbo')\n",
    "plt.title(\"Loss vs. T_serial Variance\")\n",
    "plt.xscale('log')\n",
    "plt.xticks([0.01, 0.1, 1, 10, 100])"
   ]
  },
  {
   "cell_type": "code",
   "execution_count": null,
   "id": "0257155e",
   "metadata": {},
   "outputs": [],
   "source": [
    "plt.plot(np.repeat(variance_scales,trials),\n",
    "         losses['lambda_M'], 'k.')\n",
    "plt.xlabel('Model Lambda_M Variance as % of \"true\" value')\n",
    "plt.ylabel('Negative Elbo')\n",
    "plt.title(\"Loss vs. lambda_M Variance\")\n",
    "plt.xscale('log')\n",
    "plt.xticks([0.01, 0.1, 1, 10, 100])\n",
    "plt.ylim([0, 40])"
   ]
  },
  {
   "cell_type": "code",
   "execution_count": null,
   "id": "89d768d3",
   "metadata": {},
   "outputs": [],
   "source": [
    "plt.plot(np.repeat(variance_scales,trials),\n",
    "         losses['nu_M'], 'k.')\n",
    "plt.xlabel('Model Nu_M Variance as % of \"true\" value')\n",
    "plt.ylabel('Negative Elbo')\n",
    "plt.title(\"Loss vs. nu_M Variance\")\n",
    "plt.xscale('log')\n",
    "plt.xticks([0.01, 0.1, 1, 10, 100])\n",
    "plt.ylim([0, 40])"
   ]
  },
  {
   "cell_type": "code",
   "execution_count": 18,
   "id": "70800a06",
   "metadata": {},
   "outputs": [
    {
     "data": {
      "text/plain": [
       "(0.0, 40.0)"
      ]
     },
     "execution_count": 18,
     "metadata": {},
     "output_type": "execute_result"
    },
    {
     "data": {
      "image/png": "[encoded data removed]",
      "text/plain": [
       "<Figure size 432x288 with 1 Axes>"
      ]
     },
     "metadata": {
      "needs_background": "light"
     },
     "output_type": "display_data"
    }
   ],
   "source": [
    "plt.plot(np.repeat(variance_scales,trials),\n",
    "         losses['warmup_asymp_-3'], 'k.')\n",
    "plt.xlabel('Warmup A -3  Model Variance as % of true')\n",
    "plt.ylabel('Negative Elbo')\n",
    "plt.title(\"Loss vs. Warmup A -3 Variance\")\n",
    "plt.xscale('log')\n",
    "plt.xticks([0.01, 0.1, 1, 10, 100])\n",
    "plt.ylim([0, 40])"
   ]
  },
  {
   "cell_type": "code",
   "execution_count": null,
   "id": "1b75ce3a",
   "metadata": {},
   "outputs": [],
   "source": [
    "plt.plot(np.repeat(variance_scales,trials),\n",
    "         losses['warmup_asymp_-2'], 'k.')\n",
    "plt.xlabel('Warmup A -1 Variance scale')\n",
    "plt.ylabel('Negative Elbo')\n",
    "plt.title(\"Loss vs. Warmup A -1 Variance\")\n",
    "plt.xscale('log')\n",
    "plt.xticks([0.01, 0.1, 1, 10, 100])"
   ]
  },
  {
   "cell_type": "code",
   "execution_count": null,
   "id": "f339f8ae",
   "metadata": {},
   "outputs": [],
   "source": [
    "plt.plot(np.repeat(variance_scales,trials),\n",
    "         losses['warmup_asymp_-1'], 'k.')\n",
    "plt.xlabel('Warmup A -3  Model Variance as % of true')\n",
    "plt.ylabel('Negative Elbo')\n",
    "plt.title(\"Loss vs. Warmup A -1 Variance\")\n",
    "plt.xscale('log')\n",
    "plt.xticks([0.01, 0.1, 1, 10, 100])\n",
    "plt.ylim([2,50])"
   ]
  },
  {
   "cell_type": "code",
   "execution_count": null,
   "id": "54d08985",
   "metadata": {},
   "outputs": [],
   "source": [
    "plt.plot(np.repeat(variance_scales,trials),\n",
    "         prior_probs['warmup_asymp_-3'], 'k.')\n",
    "plt.xlabel('Warmup A -1 Variance scale')\n",
    "plt.ylabel('Negative Elbo')\n",
    "plt.title(\"Loss vs. Warmup A -1 Variance\")\n",
    "plt.xscale('log')\n",
    "plt.xticks([0.01, 0.1, 1, 10, 100])"
   ]
  },
  {
   "cell_type": "code",
   "execution_count": null,
   "id": "067d2ffe",
   "metadata": {},
   "outputs": [],
   "source": [
    "plt.plot(np.repeat(variance_scales,trials),\n",
    "         posterior_probs['warmup_asymp_-3'], 'k.')\n",
    "plt.xlabel('Warmup A -1 Variance scale')\n",
    "plt.ylabel('Negative Elbo')\n",
    "plt.title(\"Loss vs. Warmup A -1 Variance\")\n",
    "plt.xscale('log')\n",
    "plt.xticks([0.01, 0.1, 1, 10, 100])"
   ]
  },
  {
   "cell_type": "code",
   "execution_count": null,
   "id": "2117ea21",
   "metadata": {},
   "outputs": [],
   "source": [
    "[-tf.reduce_sum(tf.reduce_mean(prior_probs['warmup_asymp_-3'][day] - posterior_probs['warmup_asymp_-3'][day],axis=-1))\n",
    " for day in range(len(variance_scales))]"
   ]
  },
  {
   "cell_type": "code",
   "execution_count": null,
   "id": "ce290b46",
   "metadata": {},
   "outputs": [],
   "source": [
    "posterior_probs['warmup_asymp_-3']"
   ]
  },
  {
   "cell_type": "code",
   "execution_count": null,
   "id": "61bcaeac",
   "metadata": {},
   "outputs": [],
   "source": [
    "len(variance_scales)"
   ]
  },
  {
   "cell_type": "code",
   "execution_count": null,
   "id": "44a98d91",
   "metadata": {},
   "outputs": [],
   "source": [
    "prior_probs['warmup_asymp_-1'][10]"
   ]
  },
  {
   "cell_type": "code",
   "execution_count": null,
   "id": "e6ddf57b",
   "metadata": {},
   "outputs": [],
   "source": [
    "prior_probs['warmup_asymp_-1'][0][0]"
   ]
  },
  {
   "cell_type": "code",
   "execution_count": null,
   "id": "3db9d894",
   "metadata": {},
   "outputs": [],
   "source": [
    "model.prior_distros[Comp.A.value][Vax.total.value]['warmup_A'][2].parameters['distribution'].scale"
   ]
  },
  {
   "cell_type": "code",
   "execution_count": null,
   "id": "617c6afa",
   "metadata": {},
   "outputs": [],
   "source": [
    "warmup_scales"
   ]
  },
  {
   "cell_type": "code",
   "execution_count": null,
   "id": "3d26af7c",
   "metadata": {},
   "outputs": [],
   "source": [
    "warmup_A_params[Vax.total.value]['posterior_init']"
   ]
  },
  {
   "cell_type": "code",
   "execution_count": null,
   "id": "47cc9a4e",
   "metadata": {},
   "outputs": [],
   "source": [
    "np.log(1+np.exp(-2.2521684))"
   ]
  },
  {
   "cell_type": "code",
   "execution_count": null,
   "id": "dd5a6968",
   "metadata": {},
   "outputs": [],
   "source": [
    "warmup_scales"
   ]
  },
  {
   "cell_type": "code",
   "execution_count": null,
   "id": "2b64bade",
   "metadata": {},
   "outputs": [],
   "source": [
    "transition_window"
   ]
  },
  {
   "cell_type": "code",
   "execution_count": null,
   "id": "59a61d2c",
   "metadata": {},
   "outputs": [],
   "source": [
    "[2000]['scale']"
   ]
  },
  {
   "cell_type": "code",
   "execution_count": null,
   "id": "661b008a",
   "metadata": {},
   "outputs": [],
   "source": [
    "len(warmup_A_params[Vax.total.value]['posterior_init'])"
   ]
  },
  {
   "cell_type": "code",
   "execution_count": null,
   "id": "05a536c9",
   "metadata": {},
   "outputs": [],
   "source": [
    "warmup_A_params[Vax.total.value]['prior']"
   ]
  },
  {
   "cell_type": "code",
   "execution_count": null,
   "id": "bcad89ea",
   "metadata": {},
   "outputs": [],
   "source": [
    "for day in range(transition_window):\n",
    "    print(day)"
   ]
  },
  {
   "cell_type": "code",
   "execution_count": null,
   "id": "11224cae",
   "metadata": {},
   "outputs": [],
   "source": [
    "model.warmup_A_probs[day]"
   ]
  },
  {
   "cell_type": "code",
   "execution_count": null,
   "id": "2f2ac744",
   "metadata": {},
   "outputs": [],
   "source": [
    "model.nu_M_probs"
   ]
  },
  {
   "cell_type": "code",
   "execution_count": null,
   "id": "c419edd0",
   "metadata": {},
   "outputs": [],
   "source": [
    "model.transition_window"
   ]
  },
  {
   "cell_type": "code",
   "execution_count": 16,
   "id": "0f6987bb",
   "metadata": {},
   "outputs": [
    {
     "data": {
      "text/plain": [
       "[<tf.Tensor: shape=(), dtype=float32, numpy=0.00075393193>,\n",
       " <tf.Tensor: shape=(), dtype=float32, numpy=3.0507264>,\n",
       " <tf.Tensor: shape=(), dtype=float32, numpy=0.014555613>,\n",
       " <tf.Tensor: shape=(), dtype=float32, numpy=0.09422322>,\n",
       " <tf.Tensor: shape=(), dtype=float32, numpy=27908108.0>]"
      ]
     },
     "execution_count": 16,
     "metadata": {},
     "output_type": "execute_result"
    }
   ],
   "source": [
    "model.losses"
   ]
  },
  {
   "cell_type": "code",
   "execution_count": 20,
   "id": "e894ac2c",
   "metadata": {},
   "outputs": [
    {
     "data": {
      "text/plain": [
       "False"
      ]
     },
     "execution_count": 20,
     "metadata": {},
     "output_type": "execute_result"
    }
   ],
   "source": [
    "not True"
   ]
  },
  {
   "cell_type": "code",
   "execution_count": null,
   "id": "93b227ed",
   "metadata": {},
   "outputs": [],
   "source": []
  }
 ],
 "metadata": {
  "kernelspec": {
   "display_name": "Python 3 (ipykernel)",
   "language": "python",
   "name": "python3"
  },
  "language_info": {
   "codemirror_mode": {
    "name": "ipython",
    "version": 3
   },
   "file_extension": ".py",
   "mimetype": "text/x-python",
   "name": "python",
   "nbconvert_exporter": "python",
   "pygments_lexer": "ipython3",
   "version": "3.7.11"
  }
 },
 "nbformat": 4,
 "nbformat_minor": 5
}

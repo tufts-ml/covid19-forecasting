{
 "cells": [
  {
   "cell_type": "code",
   "execution_count": 6,
   "metadata": {},
   "outputs": [
    {
     "name": "stdout",
     "output_type": "stream",
     "text": [
      "The autoreload extension is already loaded. To reload it, use:\n",
      "  %reload_ext autoreload\n"
     ]
    }
   ],
   "source": [
    "%load_ext autoreload\n",
    "%autoreload 2\n",
    "\n",
    "import numpy as np\n",
    "import tensorflow as tf\n",
    "\n",
    "import sys\n",
    "sys.path.append('/cluster/home/kheuto01/code/covid19-forecasting/tf_model_1p5/')\n",
    "\n",
    "\n",
    "from model_config import ModelConfig\n",
    "import os\n",
    "import subprocess\n",
    "import pandas as pd\n",
    "import numpy as np"
   ]
  },
  {
   "cell_type": "code",
   "execution_count": 7,
   "metadata": {},
   "outputs": [],
   "source": [
    "us_state_to_abbrev = {\n",
    "    \"Alabama\": \"AL\",\n",
    "    \"Alaska\": \"AK\",\n",
    "    \"Arizona\": \"AZ\",\n",
    "    \"Arkansas\": \"AR\",\n",
    "    \"California\": \"CA\",\n",
    "    \"Colorado\": \"CO\",\n",
    "    \"Connecticut\": \"CT\",\n",
    "    \"Delaware\": \"DE\",\n",
    "    \"Florida\": \"FL\",\n",
    "    \"Georgia\": \"GA\",\n",
    "    \"Hawaii\": \"HI\",\n",
    "    \"Idaho\": \"ID\",\n",
    "    \"Illinois\": \"IL\",\n",
    "    \"Indiana\": \"IN\",\n",
    "    \"Iowa\": \"IA\",\n",
    "    \"Kansas\": \"KS\",\n",
    "    \"Kentucky\": \"KY\",\n",
    "    \"Louisiana\": \"LA\",\n",
    "    \"Maine\": \"ME\",\n",
    "    \"Maryland\": \"MD\",\n",
    "    \"Massachusetts\": \"MA\",\n",
    "    \"Michigan\": \"MI\",\n",
    "    \"Minnesota\": \"MN\",\n",
    "    \"Mississippi\": \"MS\",\n",
    "    \"Missouri\": \"MO\",\n",
    "    \"Montana\": \"MT\",\n",
    "    \"Nebraska\": \"NE\",\n",
    "    \"Nevada\": \"NV\",\n",
    "    \"New Hampshire\": \"NH\",\n",
    "    \"New Jersey\": \"NJ\",\n",
    "    \"New Mexico\": \"NM\",\n",
    "    \"New York\": \"NY\",\n",
    "    \"North Carolina\": \"NC\",\n",
    "    \"North Dakota\": \"ND\",\n",
    "    \"Ohio\": \"OH\",\n",
    "    \"Oklahoma\": \"OK\",\n",
    "    \"Oregon\": \"OR\",\n",
    "    \"Pennsylvania\": \"PA\",\n",
    "    \"Rhode Island\": \"RI\",\n",
    "    \"South Carolina\": \"SC\",\n",
    "    \"South Dakota\": \"SD\",\n",
    "    \"Tennessee\": \"TN\",\n",
    "    \"Texas\": \"TX\",\n",
    "    \"Utah\": \"UT\",\n",
    "    \"Vermont\": \"VT\",\n",
    "    \"Virginia\": \"VA\",\n",
    "    \"Washington\": \"WA\",\n",
    "    \"West Virginia\": \"WV\",\n",
    "    \"Wisconsin\": \"WI\",\n",
    "    \"Wyoming\": \"WY\"}\n"
   ]
  },
  {
   "cell_type": "code",
   "execution_count": 11,
   "metadata": {},
   "outputs": [
    {
     "name": "stdout",
     "output_type": "stream",
     "text": [
      "Submitted batch job 24661172\n",
      "Submitted batch job 24661173\n",
      "Submitted batch job 24661174\n",
      "Submitted batch job 24661175\n",
      "Submitted batch job 24661176\n",
      "Submitted batch job 24661177\n",
      "Submitted batch job 24661178\n",
      "Submitted batch job 24661179\n",
      "Submitted batch job 24661180\n",
      "Submitted batch job 24661181\n",
      "Submitted batch job 24661182\n",
      "Submitted batch job 24661183\n",
      "Submitted batch job 24661184\n",
      "Submitted batch job 24661185\n",
      "Submitted batch job 24661186\n",
      "Submitted batch job 24661187\n",
      "Submitted batch job 24661188\n",
      "Submitted batch job 24661189\n",
      "Submitted batch job 24661190\n",
      "Submitted batch job 24661191\n",
      "Submitted batch job 24661192\n",
      "Submitted batch job 24661193\n",
      "Submitted batch job 24661194\n",
      "Submitted batch job 24661195\n",
      "Submitted batch job 24661196\n",
      "Submitted batch job 24661197\n",
      "Submitted batch job 24661198\n",
      "Submitted batch job 24661199\n",
      "Submitted batch job 24661200\n",
      "Submitted batch job 24661201\n",
      "Submitted batch job 24661202\n",
      "Submitted batch job 24661203\n",
      "Submitted batch job 24661204\n",
      "Submitted batch job 24661205\n",
      "Submitted batch job 24661206\n",
      "Submitted batch job 24661207\n",
      "Submitted batch job 24661208\n",
      "Submitted batch job 24661209\n",
      "Submitted batch job 24661210\n",
      "Submitted batch job 24661211\n",
      "Submitted batch job 24661212\n",
      "Submitted batch job 24661213\n",
      "Submitted batch job 24661214\n",
      "Submitted batch job 24661215\n",
      "Submitted batch job 24661216\n",
      "Submitted batch job 24661217\n",
      "Submitted batch job 24661218\n",
      "Submitted batch job 24661219\n",
      "Submitted batch job 24661220\n",
      "Submitted batch job 24661221\n"
     ]
    }
   ],
   "source": [
    "for learning_rate in [0.01]:\n",
    "    model_config_path = '/cluster/home/kheuto01/code/covid19-forecasting/tf_model_1p5/model_config_new_format.json'\n",
    "    data_dir = '/cluster/home/kheuto01/code/covid19-forecasting/tf_model_1p5/data/'\n",
    "\n",
    "    \n",
    "\n",
    "    for state, state_abbrev in us_state_to_abbrev.items():\n",
    "\n",
    "        #if len(state.split(' ')) ==  2:\n",
    "        #    continue\n",
    "        \n",
    "        rescale_state = 'Massachusetts'\n",
    "        rescale_state_abbrev = 'MA'\n",
    "        \n",
    "\n",
    "        log_dir = f'/cluster/tufts/hugheslab/kheuto01/covid/logs/omicron/100_samples_{learning_rate}/{state_abbrev}/'\n",
    "\n",
    "        if not os.path.exists(log_dir):\n",
    "            os.makedirs(log_dir)\n",
    "\n",
    "        arg_parts = [\n",
    "                    f\"--log_dir {log_dir}\",\n",
    "            f\"--learning_rate {learning_rate}\",\n",
    "            f\"--data_dir {data_dir}\",\n",
    "            f\"--model_config_path {model_config_path}\",\n",
    "                    \"--fix_variance\",\n",
    "            f\"--state_abbrev {state_abbrev}\",\n",
    "            f\"--rescale_state {rescale_state}\",\n",
    "            f\"--rescale_state_abbrev {rescale_state_abbrev}\",\n",
    "                ]\n",
    "        arg_cmd = ' '.join(arg_parts)\n",
    "        command = (f\"args='{arg_cmd}' sbatch < /cluster/home/kheuto01/code/covid19-forecasting/tf_model_1p5/run_experiment.slurm\")\n",
    "        subprocess.run(command, shell=True, check=True)\n"
   ]
  },
  {
   "cell_type": "code",
   "execution_count": 13,
   "metadata": {},
   "outputs": [
    {
     "name": "stdout",
     "output_type": "stream",
     "text": [
      "52\r\n"
     ]
    }
   ],
   "source": [
    "!squeue -u kheuto01 | wc -l"
   ]
  },
  {
   "cell_type": "markdown",
   "metadata": {},
   "source": [
    "#### ModelConfig.from_json('/cluster/tufts/hugheslab/kheuto01/covid/logs/from_config/0.1/saved_config.json')"
   ]
  },
  {
   "cell_type": "code",
   "execution_count": 6,
   "metadata": {},
   "outputs": [
    {
     "data": {
      "text/plain": [
       "'Wyoming'"
      ]
     },
     "execution_count": 6,
     "metadata": {},
     "output_type": "execute_result"
    }
   ],
   "source": [
    "state"
   ]
  },
  {
   "cell_type": "code",
   "execution_count": null,
   "metadata": {},
   "outputs": [],
   "source": []
  }
 ],
 "metadata": {
  "kernelspec": {
   "display_name": "Python 3 (ipykernel)",
   "language": "python",
   "name": "python3"
  },
  "language_info": {
   "codemirror_mode": {
    "name": "ipython",
    "version": 3
   },
   "file_extension": ".py",
   "mimetype": "text/x-python",
   "name": "python",
   "nbconvert_exporter": "python",
   "pygments_lexer": "ipython3",
   "version": "3.7.11"
  }
 },
 "nbformat": 4,
 "nbformat_minor": 4
}

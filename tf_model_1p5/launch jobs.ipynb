{
 "cells": [
  {
   "cell_type": "code",
   "execution_count": 2,
   "metadata": {},
   "outputs": [
    {
     "name": "stderr",
     "output_type": "stream",
     "text": [
      "2022-06-12 14:56:34.784433: W tensorflow/stream_executor/platform/default/dso_loader.cc:64] Could not load dynamic library 'libcudart.so.11.0'; dlerror: libcudart.so.11.0: cannot open shared object file: No such file or directory\n",
      "2022-06-12 14:56:34.784484: I tensorflow/stream_executor/cuda/cudart_stub.cc:29] Ignore above cudart dlerror if you do not have a GPU set up on your machine.\n"
     ]
    }
   ],
   "source": [
    "%load_ext autoreload\n",
    "%autoreload 2\n",
    "\n",
    "import numpy as np\n",
    "import tensorflow as tf\n",
    "\n",
    "import sys\n",
    "sys.path.append('/cluster/home/kheuto01/code/covid19-forecasting/tf_model_1p5/')\n",
    "\n",
    "\n",
    "from model_config import ModelConfig\n",
    "import os\n",
    "import subprocess\n",
    "import pandas as pd\n",
    "import numpy as np"
   ]
  },
  {
   "cell_type": "code",
   "execution_count": 4,
   "metadata": {},
   "outputs": [],
   "source": [
    "us_state_to_abbrev = {\n",
    "    \"Alabama\": \"AL\",\n",
    "    \"Alaska\": \"AK\",\n",
    "    \"Arizona\": \"AZ\",\n",
    "    \"Arkansas\": \"AR\",\n",
    "    \"California\": \"CA\",\n",
    "    \"Colorado\": \"CO\",\n",
    "    \"Connecticut\": \"CT\",\n",
    "    \"Delaware\": \"DE\",\n",
    "    \"Florida\": \"FL\",\n",
    "    \"Georgia\": \"GA\",\n",
    "    \"Hawaii\": \"HI\",\n",
    "    \"Idaho\": \"ID\",\n",
    "    \"Illinois\": \"IL\",\n",
    "    \"Indiana\": \"IN\",\n",
    "    \"Iowa\": \"IA\",\n",
    "    \"Kansas\": \"KS\",\n",
    "    \"Kentucky\": \"KY\",\n",
    "    \"Louisiana\": \"LA\",\n",
    "    \"Maine\": \"ME\",\n",
    "    \"Maryland\": \"MD\",\n",
    "    \"Massachusetts\": \"MA\",\n",
    "    \"Michigan\": \"MI\",\n",
    "    \"Minnesota\": \"MN\",\n",
    "    \"Mississippi\": \"MS\",\n",
    "    \"Missouri\": \"MO\",\n",
    "    \"Montana\": \"MT\",\n",
    "    \"Nebraska\": \"NE\",\n",
    "    \"Nevada\": \"NV\",\n",
    "    \"New Hampshire\": \"NH\",\n",
    "    \"New Jersey\": \"NJ\",\n",
    "    \"New Mexico\": \"NM\",\n",
    "    \"New York\": \"NY\",\n",
    "    \"North Carolina\": \"NC\",\n",
    "    \"North Dakota\": \"ND\",\n",
    "    \"Ohio\": \"OH\",\n",
    "    \"Oklahoma\": \"OK\",\n",
    "    \"Oregon\": \"OR\",\n",
    "    \"Pennsylvania\": \"PA\",\n",
    "    \"Rhode Island\": \"RI\",\n",
    "    \"South Carolina\": \"SC\",\n",
    "    \"South Dakota\": \"SD\",\n",
    "    \"Tennessee\": \"TN\",\n",
    "    \"Texas\": \"TX\",\n",
    "    \"Utah\": \"UT\",\n",
    "    \"Vermont\": \"VT\",\n",
    "    \"Virginia\": \"VA\",\n",
    "    \"Washington\": \"WA\",\n",
    "    \"West Virginia\": \"WV\",\n",
    "    \"Wisconsin\": \"WI\",\n",
    "    \"Wyoming\": \"WY\"}\n"
   ]
  },
  {
   "cell_type": "code",
   "execution_count": 7,
   "metadata": {},
   "outputs": [
    {
     "name": "stdout",
     "output_type": "stream",
     "text": [
      "Submitted batch job 16436733\n",
      "Submitted batch job 16436734\n",
      "Submitted batch job 16436735\n",
      "Submitted batch job 16436736\n",
      "Submitted batch job 16436737\n",
      "Submitted batch job 16436738\n",
      "Submitted batch job 16436739\n",
      "Submitted batch job 16436740\n",
      "Submitted batch job 16436741\n",
      "Submitted batch job 16436742\n"
     ]
    }
   ],
   "source": [
    "for learning_rate in [0.01]:\n",
    "    model_config_path = '/cluster/tufts/hugheslab/kheuto01/covid/logs/from_MA_fixed_conf2/100_samples_0.01/MA/final_config.json'\n",
    "    data_dir = '/cluster/home/kheuto01/code/covid19-forecasting/tf_model_1p5/data/'\n",
    "\n",
    "    \n",
    "\n",
    "    for state, state_abbrev in us_state_to_abbrev.items():\n",
    "\n",
    "        if len(state.split(' ')) !=  2:\n",
    "            continue\n",
    "        \n",
    "        rescale_state = 'Massachusetts'\n",
    "        rescale_state_abbrev = 'MA'\n",
    "        \n",
    "\n",
    "        log_dir = f'/cluster/tufts/hugheslab/kheuto01/covid/logs/from_MA_fixed_conf2_after/100_samples_{learning_rate}/{state_abbrev}/'\n",
    "\n",
    "        if not os.path.exists(log_dir):\n",
    "            os.makedirs(log_dir)\n",
    "\n",
    "        arg_parts = [\n",
    "                    f\"--log_dir {log_dir}\",\n",
    "            f\"--learning_rate {learning_rate}\",\n",
    "            f\"--data_dir {data_dir}\",\n",
    "            f\"--model_config_path {model_config_path}\",\n",
    "                    \"--fix_variance\",\n",
    "            f\"--state_abbrev {state_abbrev}\",\n",
    "            f\"--rescale_state {rescale_state}\",\n",
    "            f\"--rescale_state_abbrev {rescale_state_abbrev}\",\n",
    "                ]\n",
    "        arg_cmd = ' '.join(arg_parts)\n",
    "        command = (f\"args='{arg_cmd}' sbatch < /cluster/home/kheuto01/code/covid19-forecasting/tf_model_1p5/run_experiment.slurm\")\n",
    "        subprocess.run(command, shell=True, check=True)\n"
   ]
  },
  {
   "cell_type": "code",
   "execution_count": 7,
   "metadata": {},
   "outputs": [
    {
     "name": "stdout",
     "output_type": "stream",
     "text": [
      "143\r\n"
     ]
    }
   ],
   "source": [
    "!squeue -u kheuto01 | wc -l"
   ]
  },
  {
   "cell_type": "markdown",
   "metadata": {},
   "source": [
    "#### ModelConfig.from_json('/cluster/tufts/hugheslab/kheuto01/covid/logs/from_config/0.1/saved_config.json')"
   ]
  },
  {
   "cell_type": "code",
   "execution_count": 6,
   "metadata": {},
   "outputs": [
    {
     "data": {
      "text/plain": [
       "'Wyoming'"
      ]
     },
     "execution_count": 6,
     "metadata": {},
     "output_type": "execute_result"
    }
   ],
   "source": [
    "state"
   ]
  },
  {
   "cell_type": "code",
   "execution_count": null,
   "metadata": {},
   "outputs": [],
   "source": []
  }
 ],
 "metadata": {
  "kernelspec": {
   "display_name": "Python 3 (ipykernel)",
   "language": "python",
   "name": "python3"
  },
  "language_info": {
   "codemirror_mode": {
    "name": "ipython",
    "version": 3
   },
   "file_extension": ".py",
   "mimetype": "text/x-python",
   "name": "python",
   "nbconvert_exporter": "python",
   "pygments_lexer": "ipython3",
   "version": "3.7.11"
  }
 },
 "nbformat": 4,
 "nbformat_minor": 4
}

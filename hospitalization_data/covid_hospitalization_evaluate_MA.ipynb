{
 "cells": [
  {
   "cell_type": "code",
   "execution_count": 1,
   "metadata": {},
   "outputs": [],
   "source": [
    "\n",
    "%load_ext autoreload\n",
    "%autoreload 2\n",
    "from HospitalData_v20210120 import HospitalData"
   ]
  },
  {
   "cell_type": "code",
   "execution_count": 14,
   "metadata": {
    "scrolled": false
   },
   "outputs": [
    {
     "data": {
      "text/html": [
       "<pre>Finished parsing file /Users/cuongnguyen/Desktop/covid19-forecasting/hospitalization_data/reported_hospital_utilization_timeseries_20210110_1007.csv</pre>"
      ],
      "text/plain": [
       "Finished parsing file /Users/cuongnguyen/Desktop/covid19-forecasting/hospitalization_data/reported_hospital_utilization_timeseries_20210110_1007.csv"
      ]
     },
     "metadata": {},
     "output_type": "display_data"
    },
    {
     "data": {
      "text/html": [
       "<pre>Parsing completed. Parsed 100 lines in 0.11165 secs.</pre>"
      ],
      "text/plain": [
       "Parsing completed. Parsed 100 lines in 0.11165 secs."
      ]
     },
     "metadata": {},
     "output_type": "display_data"
    },
    {
     "name": "stdout",
     "output_type": "stream",
     "text": [
      "------------------------------------------------------\n",
      "Inferred types from first 100 line(s) of file as \n",
      "column_type_hints=[str,str,int,int,int,int,int,int,int,int,int,int,int,int,int,int,int,int,int,int,int,int,int,int,int,int,int,int,int,int,int,int,int,int,int,int,int,int,int,int,float,int,int,int,float,int,int,int,float,int,int,int,float,int,int,int,float,int,int,int]\n",
      "If parsing fails due to incorrect types, you can correct\n",
      "the inferred type list above and pass it to read_csv in\n",
      "the column_type_hints argument\n",
      "------------------------------------------------------\n"
     ]
    },
    {
     "data": {
      "text/html": [
       "<pre>Finished parsing file /Users/cuongnguyen/Desktop/covid19-forecasting/hospitalization_data/reported_hospital_utilization_timeseries_20210110_1007.csv</pre>"
      ],
      "text/plain": [
       "Finished parsing file /Users/cuongnguyen/Desktop/covid19-forecasting/hospitalization_data/reported_hospital_utilization_timeseries_20210110_1007.csv"
      ]
     },
     "metadata": {},
     "output_type": "display_data"
    },
    {
     "data": {
      "text/html": [
       "<pre>Parsing completed. Parsed 16987 lines in 0.128834 secs.</pre>"
      ],
      "text/plain": [
       "Parsing completed. Parsed 16987 lines in 0.128834 secs."
      ]
     },
     "metadata": {},
     "output_type": "display_data"
    }
   ],
   "source": [
    "hObj = HospitalData('reported_hospital_utilization_timeseries_20210110_1007.csv', 'MA','20201001','20210109')"
   ]
  },
  {
   "cell_type": "code",
   "execution_count": 31,
   "metadata": {},
   "outputs": [
    {
     "data": {
      "text/html": [
       "<pre>Finished parsing file /Users/cuongnguyen/Desktop/covid19-forecasting/hospitalization_data/MA_20201001_20210109/results0.csv</pre>"
      ],
      "text/plain": [
       "Finished parsing file /Users/cuongnguyen/Desktop/covid19-forecasting/hospitalization_data/MA_20201001_20210109/results0.csv"
      ]
     },
     "metadata": {},
     "output_type": "display_data"
    },
    {
     "data": {
      "text/html": [
       "<pre>Parsing completed. Parsed 100 lines in 0.035331 secs.</pre>"
      ],
      "text/plain": [
       "Parsing completed. Parsed 100 lines in 0.035331 secs."
      ]
     },
     "metadata": {},
     "output_type": "display_data"
    },
    {
     "name": "stdout",
     "output_type": "stream",
     "text": [
      "------------------------------------------------------\n",
      "Inferred types from first 100 line(s) of file as \n",
      "column_type_hints=[int,int,int,int,int,int,int,int,int,int,int]\n",
      "If parsing fails due to incorrect types, you can correct\n",
      "the inferred type list above and pass it to read_csv in\n",
      "the column_type_hints argument\n",
      "------------------------------------------------------\n"
     ]
    },
    {
     "data": {
      "text/html": [
       "<pre>Finished parsing file /Users/cuongnguyen/Desktop/covid19-forecasting/hospitalization_data/MA_20201001_20210109/results0.csv</pre>"
      ],
      "text/plain": [
       "Finished parsing file /Users/cuongnguyen/Desktop/covid19-forecasting/hospitalization_data/MA_20201001_20210109/results0.csv"
      ]
     },
     "metadata": {},
     "output_type": "display_data"
    },
    {
     "data": {
      "text/html": [
       "<pre>Parsing completed. Parsed 101 lines in 0.010985 secs.</pre>"
      ],
      "text/plain": [
       "Parsing completed. Parsed 101 lines in 0.010985 secs."
      ]
     },
     "metadata": {},
     "output_type": "display_data"
    },
    {
     "data": {
      "text/html": [
       "<pre>Finished parsing file /Users/cuongnguyen/Desktop/covid19-forecasting/hospitalization_data/MA_20201001_20210109/results1.csv</pre>"
      ],
      "text/plain": [
       "Finished parsing file /Users/cuongnguyen/Desktop/covid19-forecasting/hospitalization_data/MA_20201001_20210109/results1.csv"
      ]
     },
     "metadata": {},
     "output_type": "display_data"
    },
    {
     "data": {
      "text/html": [
       "<pre>Parsing completed. Parsed 100 lines in 0.011195 secs.</pre>"
      ],
      "text/plain": [
       "Parsing completed. Parsed 100 lines in 0.011195 secs."
      ]
     },
     "metadata": {},
     "output_type": "display_data"
    },
    {
     "name": "stdout",
     "output_type": "stream",
     "text": [
      "------------------------------------------------------\n",
      "Inferred types from first 100 line(s) of file as \n",
      "column_type_hints=[int,int,int,int,int,int,int,int,int,int,int]\n",
      "If parsing fails due to incorrect types, you can correct\n",
      "the inferred type list above and pass it to read_csv in\n",
      "the column_type_hints argument\n",
      "------------------------------------------------------\n"
     ]
    },
    {
     "data": {
      "text/html": [
       "<pre>Finished parsing file /Users/cuongnguyen/Desktop/covid19-forecasting/hospitalization_data/MA_20201001_20210109/results1.csv</pre>"
      ],
      "text/plain": [
       "Finished parsing file /Users/cuongnguyen/Desktop/covid19-forecasting/hospitalization_data/MA_20201001_20210109/results1.csv"
      ]
     },
     "metadata": {},
     "output_type": "display_data"
    },
    {
     "data": {
      "text/html": [
       "<pre>Parsing completed. Parsed 101 lines in 0.009878 secs.</pre>"
      ],
      "text/plain": [
       "Parsing completed. Parsed 101 lines in 0.009878 secs."
      ]
     },
     "metadata": {},
     "output_type": "display_data"
    },
    {
     "data": {
      "text/html": [
       "<pre>Finished parsing file /Users/cuongnguyen/Desktop/covid19-forecasting/hospitalization_data/MA_20201001_20210109/results2.csv</pre>"
      ],
      "text/plain": [
       "Finished parsing file /Users/cuongnguyen/Desktop/covid19-forecasting/hospitalization_data/MA_20201001_20210109/results2.csv"
      ]
     },
     "metadata": {},
     "output_type": "display_data"
    },
    {
     "data": {
      "text/html": [
       "<pre>Parsing completed. Parsed 100 lines in 0.011522 secs.</pre>"
      ],
      "text/plain": [
       "Parsing completed. Parsed 100 lines in 0.011522 secs."
      ]
     },
     "metadata": {},
     "output_type": "display_data"
    },
    {
     "name": "stdout",
     "output_type": "stream",
     "text": [
      "------------------------------------------------------\n",
      "Inferred types from first 100 line(s) of file as \n",
      "column_type_hints=[int,int,int,int,int,int,int,int,int,int,int]\n",
      "If parsing fails due to incorrect types, you can correct\n",
      "the inferred type list above and pass it to read_csv in\n",
      "the column_type_hints argument\n",
      "------------------------------------------------------\n"
     ]
    },
    {
     "data": {
      "text/html": [
       "<pre>Read 71 lines. Lines per second: 3743.34</pre>"
      ],
      "text/plain": [
       "Read 71 lines. Lines per second: 3743.34"
      ]
     },
     "metadata": {},
     "output_type": "display_data"
    },
    {
     "data": {
      "text/html": [
       "<pre>Finished parsing file /Users/cuongnguyen/Desktop/covid19-forecasting/hospitalization_data/MA_20201001_20210109/results2.csv</pre>"
      ],
      "text/plain": [
       "Finished parsing file /Users/cuongnguyen/Desktop/covid19-forecasting/hospitalization_data/MA_20201001_20210109/results2.csv"
      ]
     },
     "metadata": {},
     "output_type": "display_data"
    },
    {
     "data": {
      "text/html": [
       "<pre>Parsing completed. Parsed 101 lines in 0.019346 secs.</pre>"
      ],
      "text/plain": [
       "Parsing completed. Parsed 101 lines in 0.019346 secs."
      ]
     },
     "metadata": {},
     "output_type": "display_data"
    },
    {
     "data": {
      "text/html": [
       "<pre>Finished parsing file /Users/cuongnguyen/Desktop/covid19-forecasting/hospitalization_data/MA_20201001_20210109/results3.csv</pre>"
      ],
      "text/plain": [
       "Finished parsing file /Users/cuongnguyen/Desktop/covid19-forecasting/hospitalization_data/MA_20201001_20210109/results3.csv"
      ]
     },
     "metadata": {},
     "output_type": "display_data"
    },
    {
     "data": {
      "text/html": [
       "<pre>Parsing completed. Parsed 100 lines in 0.011566 secs.</pre>"
      ],
      "text/plain": [
       "Parsing completed. Parsed 100 lines in 0.011566 secs."
      ]
     },
     "metadata": {},
     "output_type": "display_data"
    },
    {
     "name": "stdout",
     "output_type": "stream",
     "text": [
      "------------------------------------------------------\n",
      "Inferred types from first 100 line(s) of file as \n",
      "column_type_hints=[int,int,int,int,int,int,int,int,int,int,int]\n",
      "If parsing fails due to incorrect types, you can correct\n",
      "the inferred type list above and pass it to read_csv in\n",
      "the column_type_hints argument\n",
      "------------------------------------------------------\n"
     ]
    },
    {
     "data": {
      "text/html": [
       "<pre>Finished parsing file /Users/cuongnguyen/Desktop/covid19-forecasting/hospitalization_data/MA_20201001_20210109/results3.csv</pre>"
      ],
      "text/plain": [
       "Finished parsing file /Users/cuongnguyen/Desktop/covid19-forecasting/hospitalization_data/MA_20201001_20210109/results3.csv"
      ]
     },
     "metadata": {},
     "output_type": "display_data"
    },
    {
     "data": {
      "text/html": [
       "<pre>Parsing completed. Parsed 101 lines in 0.021156 secs.</pre>"
      ],
      "text/plain": [
       "Parsing completed. Parsed 101 lines in 0.021156 secs."
      ]
     },
     "metadata": {},
     "output_type": "display_data"
    },
    {
     "data": {
      "text/html": [
       "<pre>Finished parsing file /Users/cuongnguyen/Desktop/covid19-forecasting/hospitalization_data/MA_20201001_20210109/results4.csv</pre>"
      ],
      "text/plain": [
       "Finished parsing file /Users/cuongnguyen/Desktop/covid19-forecasting/hospitalization_data/MA_20201001_20210109/results4.csv"
      ]
     },
     "metadata": {},
     "output_type": "display_data"
    },
    {
     "data": {
      "text/html": [
       "<pre>Parsing completed. Parsed 100 lines in 0.009612 secs.</pre>"
      ],
      "text/plain": [
       "Parsing completed. Parsed 100 lines in 0.009612 secs."
      ]
     },
     "metadata": {},
     "output_type": "display_data"
    },
    {
     "name": "stdout",
     "output_type": "stream",
     "text": [
      "------------------------------------------------------\n",
      "Inferred types from first 100 line(s) of file as \n",
      "column_type_hints=[int,int,int,int,int,int,int,int,int,int,int]\n",
      "If parsing fails due to incorrect types, you can correct\n",
      "the inferred type list above and pass it to read_csv in\n",
      "the column_type_hints argument\n",
      "------------------------------------------------------\n"
     ]
    },
    {
     "data": {
      "text/html": [
       "<pre>Finished parsing file /Users/cuongnguyen/Desktop/covid19-forecasting/hospitalization_data/MA_20201001_20210109/results4.csv</pre>"
      ],
      "text/plain": [
       "Finished parsing file /Users/cuongnguyen/Desktop/covid19-forecasting/hospitalization_data/MA_20201001_20210109/results4.csv"
      ]
     },
     "metadata": {},
     "output_type": "display_data"
    },
    {
     "data": {
      "text/html": [
       "<pre>Parsing completed. Parsed 101 lines in 0.009682 secs.</pre>"
      ],
      "text/plain": [
       "Parsing completed. Parsed 101 lines in 0.009682 secs."
      ]
     },
     "metadata": {},
     "output_type": "display_data"
    },
    {
     "data": {
      "text/html": [
       "<pre>Finished parsing file /Users/cuongnguyen/Desktop/covid19-forecasting/hospitalization_data/MA_20201001_20210109/results5.csv</pre>"
      ],
      "text/plain": [
       "Finished parsing file /Users/cuongnguyen/Desktop/covid19-forecasting/hospitalization_data/MA_20201001_20210109/results5.csv"
      ]
     },
     "metadata": {},
     "output_type": "display_data"
    },
    {
     "data": {
      "text/html": [
       "<pre>Parsing completed. Parsed 100 lines in 0.009731 secs.</pre>"
      ],
      "text/plain": [
       "Parsing completed. Parsed 100 lines in 0.009731 secs."
      ]
     },
     "metadata": {},
     "output_type": "display_data"
    },
    {
     "name": "stdout",
     "output_type": "stream",
     "text": [
      "------------------------------------------------------\n",
      "Inferred types from first 100 line(s) of file as \n",
      "column_type_hints=[int,int,int,int,int,int,int,int,int,int,int]\n",
      "If parsing fails due to incorrect types, you can correct\n",
      "the inferred type list above and pass it to read_csv in\n",
      "the column_type_hints argument\n",
      "------------------------------------------------------\n"
     ]
    },
    {
     "data": {
      "text/html": [
       "<pre>Finished parsing file /Users/cuongnguyen/Desktop/covid19-forecasting/hospitalization_data/MA_20201001_20210109/results5.csv</pre>"
      ],
      "text/plain": [
       "Finished parsing file /Users/cuongnguyen/Desktop/covid19-forecasting/hospitalization_data/MA_20201001_20210109/results5.csv"
      ]
     },
     "metadata": {},
     "output_type": "display_data"
    },
    {
     "data": {
      "text/html": [
       "<pre>Parsing completed. Parsed 101 lines in 0.006901 secs.</pre>"
      ],
      "text/plain": [
       "Parsing completed. Parsed 101 lines in 0.006901 secs."
      ]
     },
     "metadata": {},
     "output_type": "display_data"
    },
    {
     "data": {
      "text/html": [
       "<pre>Finished parsing file /Users/cuongnguyen/Desktop/covid19-forecasting/hospitalization_data/MA_20201001_20210109/results6.csv</pre>"
      ],
      "text/plain": [
       "Finished parsing file /Users/cuongnguyen/Desktop/covid19-forecasting/hospitalization_data/MA_20201001_20210109/results6.csv"
      ]
     },
     "metadata": {},
     "output_type": "display_data"
    },
    {
     "data": {
      "text/html": [
       "<pre>Parsing completed. Parsed 100 lines in 0.014462 secs.</pre>"
      ],
      "text/plain": [
       "Parsing completed. Parsed 100 lines in 0.014462 secs."
      ]
     },
     "metadata": {},
     "output_type": "display_data"
    },
    {
     "name": "stdout",
     "output_type": "stream",
     "text": [
      "------------------------------------------------------\n",
      "Inferred types from first 100 line(s) of file as \n",
      "column_type_hints=[int,int,int,int,int,int,int,int,int,int,int]\n",
      "If parsing fails due to incorrect types, you can correct\n",
      "the inferred type list above and pass it to read_csv in\n",
      "the column_type_hints argument\n",
      "------------------------------------------------------\n"
     ]
    },
    {
     "data": {
      "text/html": [
       "<pre>Finished parsing file /Users/cuongnguyen/Desktop/covid19-forecasting/hospitalization_data/MA_20201001_20210109/results6.csv</pre>"
      ],
      "text/plain": [
       "Finished parsing file /Users/cuongnguyen/Desktop/covid19-forecasting/hospitalization_data/MA_20201001_20210109/results6.csv"
      ]
     },
     "metadata": {},
     "output_type": "display_data"
    },
    {
     "data": {
      "text/html": [
       "<pre>Parsing completed. Parsed 101 lines in 0.014874 secs.</pre>"
      ],
      "text/plain": [
       "Parsing completed. Parsed 101 lines in 0.014874 secs."
      ]
     },
     "metadata": {},
     "output_type": "display_data"
    },
    {
     "data": {
      "text/html": [
       "<pre>Finished parsing file /Users/cuongnguyen/Desktop/covid19-forecasting/hospitalization_data/MA_20201001_20210109/results7.csv</pre>"
      ],
      "text/plain": [
       "Finished parsing file /Users/cuongnguyen/Desktop/covid19-forecasting/hospitalization_data/MA_20201001_20210109/results7.csv"
      ]
     },
     "metadata": {},
     "output_type": "display_data"
    },
    {
     "data": {
      "text/html": [
       "<pre>Parsing completed. Parsed 100 lines in 0.010705 secs.</pre>"
      ],
      "text/plain": [
       "Parsing completed. Parsed 100 lines in 0.010705 secs."
      ]
     },
     "metadata": {},
     "output_type": "display_data"
    },
    {
     "name": "stdout",
     "output_type": "stream",
     "text": [
      "------------------------------------------------------\n",
      "Inferred types from first 100 line(s) of file as \n",
      "column_type_hints=[int,int,int,int,int,int,int,int,int,int,int]\n",
      "If parsing fails due to incorrect types, you can correct\n",
      "the inferred type list above and pass it to read_csv in\n",
      "the column_type_hints argument\n",
      "------------------------------------------------------\n"
     ]
    },
    {
     "data": {
      "text/html": [
       "<pre>Finished parsing file /Users/cuongnguyen/Desktop/covid19-forecasting/hospitalization_data/MA_20201001_20210109/results7.csv</pre>"
      ],
      "text/plain": [
       "Finished parsing file /Users/cuongnguyen/Desktop/covid19-forecasting/hospitalization_data/MA_20201001_20210109/results7.csv"
      ]
     },
     "metadata": {},
     "output_type": "display_data"
    },
    {
     "data": {
      "text/html": [
       "<pre>Parsing completed. Parsed 101 lines in 0.010008 secs.</pre>"
      ],
      "text/plain": [
       "Parsing completed. Parsed 101 lines in 0.010008 secs."
      ]
     },
     "metadata": {},
     "output_type": "display_data"
    },
    {
     "data": {
      "text/html": [
       "<pre>Finished parsing file /Users/cuongnguyen/Desktop/covid19-forecasting/hospitalization_data/MA_20201001_20210109/results8.csv</pre>"
      ],
      "text/plain": [
       "Finished parsing file /Users/cuongnguyen/Desktop/covid19-forecasting/hospitalization_data/MA_20201001_20210109/results8.csv"
      ]
     },
     "metadata": {},
     "output_type": "display_data"
    },
    {
     "data": {
      "text/html": [
       "<pre>Parsing completed. Parsed 100 lines in 0.010805 secs.</pre>"
      ],
      "text/plain": [
       "Parsing completed. Parsed 100 lines in 0.010805 secs."
      ]
     },
     "metadata": {},
     "output_type": "display_data"
    },
    {
     "name": "stdout",
     "output_type": "stream",
     "text": [
      "------------------------------------------------------\n",
      "Inferred types from first 100 line(s) of file as \n",
      "column_type_hints=[int,int,int,int,int,int,int,int,int,int,int]\n",
      "If parsing fails due to incorrect types, you can correct\n",
      "the inferred type list above and pass it to read_csv in\n",
      "the column_type_hints argument\n",
      "------------------------------------------------------\n"
     ]
    },
    {
     "data": {
      "text/html": [
       "<pre>Finished parsing file /Users/cuongnguyen/Desktop/covid19-forecasting/hospitalization_data/MA_20201001_20210109/results8.csv</pre>"
      ],
      "text/plain": [
       "Finished parsing file /Users/cuongnguyen/Desktop/covid19-forecasting/hospitalization_data/MA_20201001_20210109/results8.csv"
      ]
     },
     "metadata": {},
     "output_type": "display_data"
    },
    {
     "data": {
      "text/html": [
       "<pre>Parsing completed. Parsed 101 lines in 0.008749 secs.</pre>"
      ],
      "text/plain": [
       "Parsing completed. Parsed 101 lines in 0.008749 secs."
      ]
     },
     "metadata": {},
     "output_type": "display_data"
    },
    {
     "data": {
      "text/html": [
       "<pre>Finished parsing file /Users/cuongnguyen/Desktop/covid19-forecasting/hospitalization_data/MA_20201001_20210109/results9.csv</pre>"
      ],
      "text/plain": [
       "Finished parsing file /Users/cuongnguyen/Desktop/covid19-forecasting/hospitalization_data/MA_20201001_20210109/results9.csv"
      ]
     },
     "metadata": {},
     "output_type": "display_data"
    },
    {
     "data": {
      "text/html": [
       "<pre>Parsing completed. Parsed 100 lines in 0.007677 secs.</pre>"
      ],
      "text/plain": [
       "Parsing completed. Parsed 100 lines in 0.007677 secs."
      ]
     },
     "metadata": {},
     "output_type": "display_data"
    },
    {
     "name": "stdout",
     "output_type": "stream",
     "text": [
      "------------------------------------------------------\n",
      "Inferred types from first 100 line(s) of file as \n",
      "column_type_hints=[int,int,int,int,int,int,int,int,int,int,int]\n",
      "If parsing fails due to incorrect types, you can correct\n",
      "the inferred type list above and pass it to read_csv in\n",
      "the column_type_hints argument\n",
      "------------------------------------------------------\n"
     ]
    },
    {
     "data": {
      "text/html": [
       "<pre>Finished parsing file /Users/cuongnguyen/Desktop/covid19-forecasting/hospitalization_data/MA_20201001_20210109/results9.csv</pre>"
      ],
      "text/plain": [
       "Finished parsing file /Users/cuongnguyen/Desktop/covid19-forecasting/hospitalization_data/MA_20201001_20210109/results9.csv"
      ]
     },
     "metadata": {},
     "output_type": "display_data"
    },
    {
     "data": {
      "text/html": [
       "<pre>Parsing completed. Parsed 101 lines in 0.011876 secs.</pre>"
      ],
      "text/plain": [
       "Parsing completed. Parsed 101 lines in 0.011876 secs."
      ]
     },
     "metadata": {},
     "output_type": "display_data"
    },
    {
     "data": {
      "text/html": [
       "<pre>Finished parsing file /Users/cuongnguyen/Desktop/covid19-forecasting/hospitalization_data/MA_20201001_20210109/results10.csv</pre>"
      ],
      "text/plain": [
       "Finished parsing file /Users/cuongnguyen/Desktop/covid19-forecasting/hospitalization_data/MA_20201001_20210109/results10.csv"
      ]
     },
     "metadata": {},
     "output_type": "display_data"
    },
    {
     "data": {
      "text/html": [
       "<pre>Parsing completed. Parsed 100 lines in 0.012048 secs.</pre>"
      ],
      "text/plain": [
       "Parsing completed. Parsed 100 lines in 0.012048 secs."
      ]
     },
     "metadata": {},
     "output_type": "display_data"
    },
    {
     "name": "stdout",
     "output_type": "stream",
     "text": [
      "------------------------------------------------------\n",
      "Inferred types from first 100 line(s) of file as \n",
      "column_type_hints=[int,int,int,int,int,int,int,int,int,int,int]\n",
      "If parsing fails due to incorrect types, you can correct\n",
      "the inferred type list above and pass it to read_csv in\n",
      "the column_type_hints argument\n",
      "------------------------------------------------------\n"
     ]
    },
    {
     "data": {
      "text/html": [
       "<pre>Finished parsing file /Users/cuongnguyen/Desktop/covid19-forecasting/hospitalization_data/MA_20201001_20210109/results10.csv</pre>"
      ],
      "text/plain": [
       "Finished parsing file /Users/cuongnguyen/Desktop/covid19-forecasting/hospitalization_data/MA_20201001_20210109/results10.csv"
      ]
     },
     "metadata": {},
     "output_type": "display_data"
    },
    {
     "data": {
      "text/html": [
       "<pre>Parsing completed. Parsed 101 lines in 0.006913 secs.</pre>"
      ],
      "text/plain": [
       "Parsing completed. Parsed 101 lines in 0.006913 secs."
      ]
     },
     "metadata": {},
     "output_type": "display_data"
    },
    {
     "data": {
      "text/html": [
       "<pre>Finished parsing file /Users/cuongnguyen/Desktop/covid19-forecasting/hospitalization_data/MA_20201001_20210109/results11.csv</pre>"
      ],
      "text/plain": [
       "Finished parsing file /Users/cuongnguyen/Desktop/covid19-forecasting/hospitalization_data/MA_20201001_20210109/results11.csv"
      ]
     },
     "metadata": {},
     "output_type": "display_data"
    },
    {
     "data": {
      "text/html": [
       "<pre>Parsing completed. Parsed 100 lines in 0.009414 secs.</pre>"
      ],
      "text/plain": [
       "Parsing completed. Parsed 100 lines in 0.009414 secs."
      ]
     },
     "metadata": {},
     "output_type": "display_data"
    },
    {
     "name": "stdout",
     "output_type": "stream",
     "text": [
      "------------------------------------------------------\n",
      "Inferred types from first 100 line(s) of file as \n",
      "column_type_hints=[int,int,int,int,int,int,int,int,int,int,int]\n",
      "If parsing fails due to incorrect types, you can correct\n",
      "the inferred type list above and pass it to read_csv in\n",
      "the column_type_hints argument\n",
      "------------------------------------------------------\n"
     ]
    },
    {
     "data": {
      "text/html": [
       "<pre>Finished parsing file /Users/cuongnguyen/Desktop/covid19-forecasting/hospitalization_data/MA_20201001_20210109/results11.csv</pre>"
      ],
      "text/plain": [
       "Finished parsing file /Users/cuongnguyen/Desktop/covid19-forecasting/hospitalization_data/MA_20201001_20210109/results11.csv"
      ]
     },
     "metadata": {},
     "output_type": "display_data"
    },
    {
     "data": {
      "text/html": [
       "<pre>Parsing completed. Parsed 101 lines in 0.01201 secs.</pre>"
      ],
      "text/plain": [
       "Parsing completed. Parsed 101 lines in 0.01201 secs."
      ]
     },
     "metadata": {},
     "output_type": "display_data"
    },
    {
     "data": {
      "text/html": [
       "<pre>Finished parsing file /Users/cuongnguyen/Desktop/covid19-forecasting/hospitalization_data/MA_20201001_20210109/results12.csv</pre>"
      ],
      "text/plain": [
       "Finished parsing file /Users/cuongnguyen/Desktop/covid19-forecasting/hospitalization_data/MA_20201001_20210109/results12.csv"
      ]
     },
     "metadata": {},
     "output_type": "display_data"
    },
    {
     "data": {
      "text/html": [
       "<pre>Parsing completed. Parsed 100 lines in 0.010737 secs.</pre>"
      ],
      "text/plain": [
       "Parsing completed. Parsed 100 lines in 0.010737 secs."
      ]
     },
     "metadata": {},
     "output_type": "display_data"
    },
    {
     "name": "stdout",
     "output_type": "stream",
     "text": [
      "------------------------------------------------------\n",
      "Inferred types from first 100 line(s) of file as \n",
      "column_type_hints=[int,int,int,int,int,int,int,int,int,int,int]\n",
      "If parsing fails due to incorrect types, you can correct\n",
      "the inferred type list above and pass it to read_csv in\n",
      "the column_type_hints argument\n",
      "------------------------------------------------------\n"
     ]
    },
    {
     "data": {
      "text/html": [
       "<pre>Finished parsing file /Users/cuongnguyen/Desktop/covid19-forecasting/hospitalization_data/MA_20201001_20210109/results12.csv</pre>"
      ],
      "text/plain": [
       "Finished parsing file /Users/cuongnguyen/Desktop/covid19-forecasting/hospitalization_data/MA_20201001_20210109/results12.csv"
      ]
     },
     "metadata": {},
     "output_type": "display_data"
    },
    {
     "data": {
      "text/html": [
       "<pre>Parsing completed. Parsed 101 lines in 0.012743 secs.</pre>"
      ],
      "text/plain": [
       "Parsing completed. Parsed 101 lines in 0.012743 secs."
      ]
     },
     "metadata": {},
     "output_type": "display_data"
    },
    {
     "data": {
      "text/html": [
       "<pre>Finished parsing file /Users/cuongnguyen/Desktop/covid19-forecasting/hospitalization_data/MA_20201001_20210109/results13.csv</pre>"
      ],
      "text/plain": [
       "Finished parsing file /Users/cuongnguyen/Desktop/covid19-forecasting/hospitalization_data/MA_20201001_20210109/results13.csv"
      ]
     },
     "metadata": {},
     "output_type": "display_data"
    },
    {
     "data": {
      "text/html": [
       "<pre>Parsing completed. Parsed 100 lines in 0.009331 secs.</pre>"
      ],
      "text/plain": [
       "Parsing completed. Parsed 100 lines in 0.009331 secs."
      ]
     },
     "metadata": {},
     "output_type": "display_data"
    },
    {
     "name": "stdout",
     "output_type": "stream",
     "text": [
      "------------------------------------------------------\n",
      "Inferred types from first 100 line(s) of file as \n",
      "column_type_hints=[int,int,int,int,int,int,int,int,int,int,int]\n",
      "If parsing fails due to incorrect types, you can correct\n",
      "the inferred type list above and pass it to read_csv in\n",
      "the column_type_hints argument\n",
      "------------------------------------------------------\n"
     ]
    },
    {
     "data": {
      "text/html": [
       "<pre>Finished parsing file /Users/cuongnguyen/Desktop/covid19-forecasting/hospitalization_data/MA_20201001_20210109/results13.csv</pre>"
      ],
      "text/plain": [
       "Finished parsing file /Users/cuongnguyen/Desktop/covid19-forecasting/hospitalization_data/MA_20201001_20210109/results13.csv"
      ]
     },
     "metadata": {},
     "output_type": "display_data"
    },
    {
     "data": {
      "text/html": [
       "<pre>Parsing completed. Parsed 101 lines in 0.007196 secs.</pre>"
      ],
      "text/plain": [
       "Parsing completed. Parsed 101 lines in 0.007196 secs."
      ]
     },
     "metadata": {},
     "output_type": "display_data"
    },
    {
     "data": {
      "text/html": [
       "<pre>Finished parsing file /Users/cuongnguyen/Desktop/covid19-forecasting/hospitalization_data/MA_20201001_20210109/results14.csv</pre>"
      ],
      "text/plain": [
       "Finished parsing file /Users/cuongnguyen/Desktop/covid19-forecasting/hospitalization_data/MA_20201001_20210109/results14.csv"
      ]
     },
     "metadata": {},
     "output_type": "display_data"
    },
    {
     "data": {
      "text/html": [
       "<pre>Parsing completed. Parsed 100 lines in 0.007811 secs.</pre>"
      ],
      "text/plain": [
       "Parsing completed. Parsed 100 lines in 0.007811 secs."
      ]
     },
     "metadata": {},
     "output_type": "display_data"
    },
    {
     "name": "stdout",
     "output_type": "stream",
     "text": [
      "------------------------------------------------------\n",
      "Inferred types from first 100 line(s) of file as \n",
      "column_type_hints=[int,int,int,int,int,int,int,int,int,int,int]\n",
      "If parsing fails due to incorrect types, you can correct\n",
      "the inferred type list above and pass it to read_csv in\n",
      "the column_type_hints argument\n",
      "------------------------------------------------------\n"
     ]
    },
    {
     "data": {
      "text/html": [
       "<pre>Finished parsing file /Users/cuongnguyen/Desktop/covid19-forecasting/hospitalization_data/MA_20201001_20210109/results14.csv</pre>"
      ],
      "text/plain": [
       "Finished parsing file /Users/cuongnguyen/Desktop/covid19-forecasting/hospitalization_data/MA_20201001_20210109/results14.csv"
      ]
     },
     "metadata": {},
     "output_type": "display_data"
    },
    {
     "data": {
      "text/html": [
       "<pre>Parsing completed. Parsed 101 lines in 0.00735 secs.</pre>"
      ],
      "text/plain": [
       "Parsing completed. Parsed 101 lines in 0.00735 secs."
      ]
     },
     "metadata": {},
     "output_type": "display_data"
    },
    {
     "data": {
      "text/html": [
       "<pre>Finished parsing file /Users/cuongnguyen/Desktop/covid19-forecasting/hospitalization_data/MA_20201001_20210109/results15.csv</pre>"
      ],
      "text/plain": [
       "Finished parsing file /Users/cuongnguyen/Desktop/covid19-forecasting/hospitalization_data/MA_20201001_20210109/results15.csv"
      ]
     },
     "metadata": {},
     "output_type": "display_data"
    },
    {
     "data": {
      "text/html": [
       "<pre>Parsing completed. Parsed 100 lines in 0.008453 secs.</pre>"
      ],
      "text/plain": [
       "Parsing completed. Parsed 100 lines in 0.008453 secs."
      ]
     },
     "metadata": {},
     "output_type": "display_data"
    },
    {
     "name": "stdout",
     "output_type": "stream",
     "text": [
      "------------------------------------------------------\n",
      "Inferred types from first 100 line(s) of file as \n",
      "column_type_hints=[int,int,int,int,int,int,int,int,int,int,int]\n",
      "If parsing fails due to incorrect types, you can correct\n",
      "the inferred type list above and pass it to read_csv in\n",
      "the column_type_hints argument\n",
      "------------------------------------------------------\n"
     ]
    },
    {
     "data": {
      "text/html": [
       "<pre>Finished parsing file /Users/cuongnguyen/Desktop/covid19-forecasting/hospitalization_data/MA_20201001_20210109/results15.csv</pre>"
      ],
      "text/plain": [
       "Finished parsing file /Users/cuongnguyen/Desktop/covid19-forecasting/hospitalization_data/MA_20201001_20210109/results15.csv"
      ]
     },
     "metadata": {},
     "output_type": "display_data"
    },
    {
     "data": {
      "text/html": [
       "<pre>Parsing completed. Parsed 101 lines in 0.014497 secs.</pre>"
      ],
      "text/plain": [
       "Parsing completed. Parsed 101 lines in 0.014497 secs."
      ]
     },
     "metadata": {},
     "output_type": "display_data"
    },
    {
     "data": {
      "text/html": [
       "<pre>Finished parsing file /Users/cuongnguyen/Desktop/covid19-forecasting/hospitalization_data/MA_20201001_20210109/results16.csv</pre>"
      ],
      "text/plain": [
       "Finished parsing file /Users/cuongnguyen/Desktop/covid19-forecasting/hospitalization_data/MA_20201001_20210109/results16.csv"
      ]
     },
     "metadata": {},
     "output_type": "display_data"
    },
    {
     "data": {
      "text/html": [
       "<pre>Parsing completed. Parsed 100 lines in 0.006927 secs.</pre>"
      ],
      "text/plain": [
       "Parsing completed. Parsed 100 lines in 0.006927 secs."
      ]
     },
     "metadata": {},
     "output_type": "display_data"
    },
    {
     "name": "stdout",
     "output_type": "stream",
     "text": [
      "------------------------------------------------------\n",
      "Inferred types from first 100 line(s) of file as \n",
      "column_type_hints=[int,int,int,int,int,int,int,int,int,int,int]\n",
      "If parsing fails due to incorrect types, you can correct\n",
      "the inferred type list above and pass it to read_csv in\n",
      "the column_type_hints argument\n",
      "------------------------------------------------------\n"
     ]
    },
    {
     "data": {
      "text/html": [
       "<pre>Finished parsing file /Users/cuongnguyen/Desktop/covid19-forecasting/hospitalization_data/MA_20201001_20210109/results16.csv</pre>"
      ],
      "text/plain": [
       "Finished parsing file /Users/cuongnguyen/Desktop/covid19-forecasting/hospitalization_data/MA_20201001_20210109/results16.csv"
      ]
     },
     "metadata": {},
     "output_type": "display_data"
    },
    {
     "data": {
      "text/html": [
       "<pre>Parsing completed. Parsed 101 lines in 0.010923 secs.</pre>"
      ],
      "text/plain": [
       "Parsing completed. Parsed 101 lines in 0.010923 secs."
      ]
     },
     "metadata": {},
     "output_type": "display_data"
    },
    {
     "data": {
      "text/html": [
       "<pre>Finished parsing file /Users/cuongnguyen/Desktop/covid19-forecasting/hospitalization_data/MA_20201001_20210109/results17.csv</pre>"
      ],
      "text/plain": [
       "Finished parsing file /Users/cuongnguyen/Desktop/covid19-forecasting/hospitalization_data/MA_20201001_20210109/results17.csv"
      ]
     },
     "metadata": {},
     "output_type": "display_data"
    },
    {
     "data": {
      "text/html": [
       "<pre>Parsing completed. Parsed 100 lines in 0.010705 secs.</pre>"
      ],
      "text/plain": [
       "Parsing completed. Parsed 100 lines in 0.010705 secs."
      ]
     },
     "metadata": {},
     "output_type": "display_data"
    },
    {
     "name": "stdout",
     "output_type": "stream",
     "text": [
      "------------------------------------------------------\n",
      "Inferred types from first 100 line(s) of file as \n",
      "column_type_hints=[int,int,int,int,int,int,int,int,int,int,int]\n",
      "If parsing fails due to incorrect types, you can correct\n",
      "the inferred type list above and pass it to read_csv in\n",
      "the column_type_hints argument\n",
      "------------------------------------------------------\n"
     ]
    },
    {
     "data": {
      "text/html": [
       "<pre>Finished parsing file /Users/cuongnguyen/Desktop/covid19-forecasting/hospitalization_data/MA_20201001_20210109/results17.csv</pre>"
      ],
      "text/plain": [
       "Finished parsing file /Users/cuongnguyen/Desktop/covid19-forecasting/hospitalization_data/MA_20201001_20210109/results17.csv"
      ]
     },
     "metadata": {},
     "output_type": "display_data"
    },
    {
     "data": {
      "text/html": [
       "<pre>Parsing completed. Parsed 101 lines in 0.009377 secs.</pre>"
      ],
      "text/plain": [
       "Parsing completed. Parsed 101 lines in 0.009377 secs."
      ]
     },
     "metadata": {},
     "output_type": "display_data"
    },
    {
     "data": {
      "text/html": [
       "<pre>Finished parsing file /Users/cuongnguyen/Desktop/covid19-forecasting/hospitalization_data/MA_20201001_20210109/results18.csv</pre>"
      ],
      "text/plain": [
       "Finished parsing file /Users/cuongnguyen/Desktop/covid19-forecasting/hospitalization_data/MA_20201001_20210109/results18.csv"
      ]
     },
     "metadata": {},
     "output_type": "display_data"
    },
    {
     "data": {
      "text/html": [
       "<pre>Parsing completed. Parsed 100 lines in 0.010649 secs.</pre>"
      ],
      "text/plain": [
       "Parsing completed. Parsed 100 lines in 0.010649 secs."
      ]
     },
     "metadata": {},
     "output_type": "display_data"
    },
    {
     "name": "stdout",
     "output_type": "stream",
     "text": [
      "------------------------------------------------------\n",
      "Inferred types from first 100 line(s) of file as \n",
      "column_type_hints=[int,int,int,int,int,int,int,int,int,int,int]\n",
      "If parsing fails due to incorrect types, you can correct\n",
      "the inferred type list above and pass it to read_csv in\n",
      "the column_type_hints argument\n",
      "------------------------------------------------------\n"
     ]
    },
    {
     "data": {
      "text/html": [
       "<pre>Finished parsing file /Users/cuongnguyen/Desktop/covid19-forecasting/hospitalization_data/MA_20201001_20210109/results18.csv</pre>"
      ],
      "text/plain": [
       "Finished parsing file /Users/cuongnguyen/Desktop/covid19-forecasting/hospitalization_data/MA_20201001_20210109/results18.csv"
      ]
     },
     "metadata": {},
     "output_type": "display_data"
    },
    {
     "data": {
      "text/html": [
       "<pre>Parsing completed. Parsed 101 lines in 0.006949 secs.</pre>"
      ],
      "text/plain": [
       "Parsing completed. Parsed 101 lines in 0.006949 secs."
      ]
     },
     "metadata": {},
     "output_type": "display_data"
    },
    {
     "data": {
      "text/html": [
       "<pre>Finished parsing file /Users/cuongnguyen/Desktop/covid19-forecasting/hospitalization_data/MA_20201001_20210109/results19.csv</pre>"
      ],
      "text/plain": [
       "Finished parsing file /Users/cuongnguyen/Desktop/covid19-forecasting/hospitalization_data/MA_20201001_20210109/results19.csv"
      ]
     },
     "metadata": {},
     "output_type": "display_data"
    },
    {
     "data": {
      "text/html": [
       "<pre>Parsing completed. Parsed 100 lines in 0.008141 secs.</pre>"
      ],
      "text/plain": [
       "Parsing completed. Parsed 100 lines in 0.008141 secs."
      ]
     },
     "metadata": {},
     "output_type": "display_data"
    },
    {
     "name": "stdout",
     "output_type": "stream",
     "text": [
      "------------------------------------------------------\n",
      "Inferred types from first 100 line(s) of file as \n",
      "column_type_hints=[int,int,int,int,int,int,int,int,int,int,int]\n",
      "If parsing fails due to incorrect types, you can correct\n",
      "the inferred type list above and pass it to read_csv in\n",
      "the column_type_hints argument\n",
      "------------------------------------------------------\n"
     ]
    },
    {
     "data": {
      "text/html": [
       "<pre>Finished parsing file /Users/cuongnguyen/Desktop/covid19-forecasting/hospitalization_data/MA_20201001_20210109/results19.csv</pre>"
      ],
      "text/plain": [
       "Finished parsing file /Users/cuongnguyen/Desktop/covid19-forecasting/hospitalization_data/MA_20201001_20210109/results19.csv"
      ]
     },
     "metadata": {},
     "output_type": "display_data"
    },
    {
     "data": {
      "text/html": [
       "<pre>Parsing completed. Parsed 101 lines in 0.008644 secs.</pre>"
      ],
      "text/plain": [
       "Parsing completed. Parsed 101 lines in 0.008644 secs."
      ]
     },
     "metadata": {},
     "output_type": "display_data"
    },
    {
     "data": {
      "text/html": [
       "<pre>Finished parsing file /Users/cuongnguyen/Desktop/covid19-forecasting/hospitalization_data/MA_20201001_20210109/results20.csv</pre>"
      ],
      "text/plain": [
       "Finished parsing file /Users/cuongnguyen/Desktop/covid19-forecasting/hospitalization_data/MA_20201001_20210109/results20.csv"
      ]
     },
     "metadata": {},
     "output_type": "display_data"
    },
    {
     "data": {
      "text/html": [
       "<pre>Parsing completed. Parsed 100 lines in 0.009618 secs.</pre>"
      ],
      "text/plain": [
       "Parsing completed. Parsed 100 lines in 0.009618 secs."
      ]
     },
     "metadata": {},
     "output_type": "display_data"
    },
    {
     "name": "stdout",
     "output_type": "stream",
     "text": [
      "------------------------------------------------------\n",
      "Inferred types from first 100 line(s) of file as \n",
      "column_type_hints=[int,int,int,int,int,int,int,int,int,int,int]\n",
      "If parsing fails due to incorrect types, you can correct\n",
      "the inferred type list above and pass it to read_csv in\n",
      "the column_type_hints argument\n",
      "------------------------------------------------------\n"
     ]
    },
    {
     "data": {
      "text/html": [
       "<pre>Finished parsing file /Users/cuongnguyen/Desktop/covid19-forecasting/hospitalization_data/MA_20201001_20210109/results20.csv</pre>"
      ],
      "text/plain": [
       "Finished parsing file /Users/cuongnguyen/Desktop/covid19-forecasting/hospitalization_data/MA_20201001_20210109/results20.csv"
      ]
     },
     "metadata": {},
     "output_type": "display_data"
    },
    {
     "data": {
      "text/html": [
       "<pre>Parsing completed. Parsed 101 lines in 0.008574 secs.</pre>"
      ],
      "text/plain": [
       "Parsing completed. Parsed 101 lines in 0.008574 secs."
      ]
     },
     "metadata": {},
     "output_type": "display_data"
    },
    {
     "data": {
      "text/html": [
       "<pre>Finished parsing file /Users/cuongnguyen/Desktop/covid19-forecasting/hospitalization_data/MA_20201001_20210109/results21.csv</pre>"
      ],
      "text/plain": [
       "Finished parsing file /Users/cuongnguyen/Desktop/covid19-forecasting/hospitalization_data/MA_20201001_20210109/results21.csv"
      ]
     },
     "metadata": {},
     "output_type": "display_data"
    },
    {
     "data": {
      "text/html": [
       "<pre>Parsing completed. Parsed 100 lines in 0.009317 secs.</pre>"
      ],
      "text/plain": [
       "Parsing completed. Parsed 100 lines in 0.009317 secs."
      ]
     },
     "metadata": {},
     "output_type": "display_data"
    },
    {
     "name": "stdout",
     "output_type": "stream",
     "text": [
      "------------------------------------------------------\n",
      "Inferred types from first 100 line(s) of file as \n",
      "column_type_hints=[int,int,int,int,int,int,int,int,int,int,int]\n",
      "If parsing fails due to incorrect types, you can correct\n",
      "the inferred type list above and pass it to read_csv in\n",
      "the column_type_hints argument\n",
      "------------------------------------------------------\n"
     ]
    },
    {
     "data": {
      "text/html": [
       "<pre>Finished parsing file /Users/cuongnguyen/Desktop/covid19-forecasting/hospitalization_data/MA_20201001_20210109/results21.csv</pre>"
      ],
      "text/plain": [
       "Finished parsing file /Users/cuongnguyen/Desktop/covid19-forecasting/hospitalization_data/MA_20201001_20210109/results21.csv"
      ]
     },
     "metadata": {},
     "output_type": "display_data"
    },
    {
     "data": {
      "text/html": [
       "<pre>Parsing completed. Parsed 101 lines in 0.006751 secs.</pre>"
      ],
      "text/plain": [
       "Parsing completed. Parsed 101 lines in 0.006751 secs."
      ]
     },
     "metadata": {},
     "output_type": "display_data"
    },
    {
     "data": {
      "text/html": [
       "<pre>Finished parsing file /Users/cuongnguyen/Desktop/covid19-forecasting/hospitalization_data/MA_20201001_20210109/results22.csv</pre>"
      ],
      "text/plain": [
       "Finished parsing file /Users/cuongnguyen/Desktop/covid19-forecasting/hospitalization_data/MA_20201001_20210109/results22.csv"
      ]
     },
     "metadata": {},
     "output_type": "display_data"
    },
    {
     "data": {
      "text/html": [
       "<pre>Parsing completed. Parsed 100 lines in 0.008527 secs.</pre>"
      ],
      "text/plain": [
       "Parsing completed. Parsed 100 lines in 0.008527 secs."
      ]
     },
     "metadata": {},
     "output_type": "display_data"
    },
    {
     "name": "stdout",
     "output_type": "stream",
     "text": [
      "------------------------------------------------------\n",
      "Inferred types from first 100 line(s) of file as \n",
      "column_type_hints=[int,int,int,int,int,int,int,int,int,int,int]\n",
      "If parsing fails due to incorrect types, you can correct\n",
      "the inferred type list above and pass it to read_csv in\n",
      "the column_type_hints argument\n",
      "------------------------------------------------------\n"
     ]
    },
    {
     "data": {
      "text/html": [
       "<pre>Finished parsing file /Users/cuongnguyen/Desktop/covid19-forecasting/hospitalization_data/MA_20201001_20210109/results22.csv</pre>"
      ],
      "text/plain": [
       "Finished parsing file /Users/cuongnguyen/Desktop/covid19-forecasting/hospitalization_data/MA_20201001_20210109/results22.csv"
      ]
     },
     "metadata": {},
     "output_type": "display_data"
    },
    {
     "data": {
      "text/html": [
       "<pre>Parsing completed. Parsed 101 lines in 0.014814 secs.</pre>"
      ],
      "text/plain": [
       "Parsing completed. Parsed 101 lines in 0.014814 secs."
      ]
     },
     "metadata": {},
     "output_type": "display_data"
    },
    {
     "data": {
      "text/html": [
       "<pre>Finished parsing file /Users/cuongnguyen/Desktop/covid19-forecasting/hospitalization_data/MA_20201001_20210109/results23.csv</pre>"
      ],
      "text/plain": [
       "Finished parsing file /Users/cuongnguyen/Desktop/covid19-forecasting/hospitalization_data/MA_20201001_20210109/results23.csv"
      ]
     },
     "metadata": {},
     "output_type": "display_data"
    },
    {
     "data": {
      "text/html": [
       "<pre>Parsing completed. Parsed 100 lines in 0.009905 secs.</pre>"
      ],
      "text/plain": [
       "Parsing completed. Parsed 100 lines in 0.009905 secs."
      ]
     },
     "metadata": {},
     "output_type": "display_data"
    },
    {
     "name": "stdout",
     "output_type": "stream",
     "text": [
      "------------------------------------------------------\n",
      "Inferred types from first 100 line(s) of file as \n",
      "column_type_hints=[int,int,int,int,int,int,int,int,int,int,int]\n",
      "If parsing fails due to incorrect types, you can correct\n",
      "the inferred type list above and pass it to read_csv in\n",
      "the column_type_hints argument\n",
      "------------------------------------------------------\n"
     ]
    },
    {
     "data": {
      "text/html": [
       "<pre>Finished parsing file /Users/cuongnguyen/Desktop/covid19-forecasting/hospitalization_data/MA_20201001_20210109/results23.csv</pre>"
      ],
      "text/plain": [
       "Finished parsing file /Users/cuongnguyen/Desktop/covid19-forecasting/hospitalization_data/MA_20201001_20210109/results23.csv"
      ]
     },
     "metadata": {},
     "output_type": "display_data"
    },
    {
     "data": {
      "text/html": [
       "<pre>Parsing completed. Parsed 101 lines in 0.0098 secs.</pre>"
      ],
      "text/plain": [
       "Parsing completed. Parsed 101 lines in 0.0098 secs."
      ]
     },
     "metadata": {},
     "output_type": "display_data"
    },
    {
     "data": {
      "text/html": [
       "<pre>Finished parsing file /Users/cuongnguyen/Desktop/covid19-forecasting/hospitalization_data/MA_20201001_20210109/results24.csv</pre>"
      ],
      "text/plain": [
       "Finished parsing file /Users/cuongnguyen/Desktop/covid19-forecasting/hospitalization_data/MA_20201001_20210109/results24.csv"
      ]
     },
     "metadata": {},
     "output_type": "display_data"
    },
    {
     "data": {
      "text/html": [
       "<pre>Parsing completed. Parsed 100 lines in 0.010027 secs.</pre>"
      ],
      "text/plain": [
       "Parsing completed. Parsed 100 lines in 0.010027 secs."
      ]
     },
     "metadata": {},
     "output_type": "display_data"
    },
    {
     "name": "stdout",
     "output_type": "stream",
     "text": [
      "------------------------------------------------------\n",
      "Inferred types from first 100 line(s) of file as \n",
      "column_type_hints=[int,int,int,int,int,int,int,int,int,int,int]\n",
      "If parsing fails due to incorrect types, you can correct\n",
      "the inferred type list above and pass it to read_csv in\n",
      "the column_type_hints argument\n",
      "------------------------------------------------------\n"
     ]
    },
    {
     "data": {
      "text/html": [
       "<pre>Finished parsing file /Users/cuongnguyen/Desktop/covid19-forecasting/hospitalization_data/MA_20201001_20210109/results24.csv</pre>"
      ],
      "text/plain": [
       "Finished parsing file /Users/cuongnguyen/Desktop/covid19-forecasting/hospitalization_data/MA_20201001_20210109/results24.csv"
      ]
     },
     "metadata": {},
     "output_type": "display_data"
    },
    {
     "data": {
      "text/html": [
       "<pre>Parsing completed. Parsed 101 lines in 0.008837 secs.</pre>"
      ],
      "text/plain": [
       "Parsing completed. Parsed 101 lines in 0.008837 secs."
      ]
     },
     "metadata": {},
     "output_type": "display_data"
    },
    {
     "name": "stdout",
     "output_type": "stream",
     "text": [
      "(25, 101) array of hPreds_ICU\n",
      "(25, 101) array of hPreds_InGeneralWard\n",
      "(101,) array of hPreds_ICU\n",
      "(101,) array of hPreds_InGeneralWard\n"
     ]
    }
   ],
   "source": [
    "import turicreate as tc\n",
    "import numpy as np\n",
    "num_sims=25\n",
    "hPreds_ICU=[]\n",
    "hPreds_InGeneralWard=[]\n",
    "for s in range(num_sims):\n",
    "    hPred = (tc.SFrame('MA_20201001_20210109/results'+str(s)+'.csv'))\n",
    "    hPred['n_ICU'] = hPred.apply(lambda x: x['n_OffVentInICU'] + x['n_OnVentInICU'])\n",
    "    hPreds_ICU.append(hPred['n_ICU'].to_numpy())\n",
    "    \n",
    "    hPred['n_InGeneralWard'] = hPred['n_InGeneralWard']\n",
    "    hPreds_InGeneralWard.append(hPred['n_InGeneralWard'].to_numpy())\n",
    "    \n",
    "    \n",
    "#     hPred.column_names()\n",
    "print(np.array(hPreds_ICU).shape,'array of hPreds_ICU')\n",
    "print(np.array(hPreds_InGeneralWard).shape,'array of hPreds_InGeneralWard')\n",
    "\n",
    "\n",
    "print(np.mean(np.array(hPreds_ICU),axis=0).shape,'array of hPreds_ICU')\n",
    "print(np.mean(np.array(hPreds_InGeneralWard),axis=0).shape,'array of hPreds_InGeneralWard')\n",
    "\n",
    "    "
   ]
  },
  {
   "cell_type": "code",
   "execution_count": 17,
   "metadata": {},
   "outputs": [],
   "source": [
    "# hPred['n_ICU'] = hPred.apply(lambda x: x['n_OffVentInICU'] + x['n_OnVentInICU'])"
   ]
  },
  {
   "cell_type": "code",
   "execution_count": 32,
   "metadata": {
    "scrolled": false
   },
   "outputs": [
    {
     "data": {
      "image/png": "[encoded data removed]",
      "text/plain": [
       "<Figure size 1080x288 with 1 Axes>"
      ]
     },
     "metadata": {
      "needs_background": "light"
     },
     "output_type": "display_data"
    },
    {
     "data": {
      "image/png": "[encoded data removed]",
      "text/plain": [
       "<Figure size 1080x288 with 1 Axes>"
      ]
     },
     "metadata": {
      "needs_background": "light"
     },
     "output_type": "display_data"
    }
   ],
   "source": [
    "import matplotlib.pyplot as plt\n",
    "import numpy as np\n",
    "import os\n",
    "%matplotlib inline\n",
    "\n",
    "def sparsify_dates_labels(dates_list):\n",
    "    for dd, date in enumerate(dates_list):\n",
    "        if dd%4 == 0:\n",
    "            dates_list[dd] = str(dates_list[dd])[-4:]\n",
    "            pass\n",
    "        else:\n",
    "            dates_list[dd] = ''\n",
    "    return dates_list\n",
    "\n",
    "def plot_hosp(dates_list,y_data,color,label, fill_between=[]):#fill_between = boolean_ones_zeros of len dates_list\n",
    "    plt.figure(figsize=(15,4))\n",
    "    if type(y_data)==list and type(color)==list and type(label)==list:\n",
    "        for idx,(y,c,l) in enumerate(zip(y_data,color,label)):\n",
    "            plt.plot(y,color=c,label=l)\n",
    "    else:\n",
    "        plt.plot(y_data,color=color,label=label)\n",
    "    if len(fill_between) > 0:\n",
    "        ax = plt.gca()\n",
    "        ax.fill_between(list(range(len(dates_list))), 0, 1, where=fill_between, alpha=0.4, transform=ax.get_xaxis_transform()) \n",
    "    plt.xticks(ticks=list(range(len(dates_list))),labels=sparsify_dates_labels(dates_list),rotation='vertical');\n",
    "    plt.xlabel('date in format MMDD')\n",
    "    plt.legend()\n",
    "    plt.title('hospitalization data for '+str(label));\n",
    "    plt.show()\n",
    "\n",
    "\n",
    "dates_list = list(hObj.filtered_data['date'])\n",
    "# fill_between = []\n",
    "z_score = 1.96\n",
    "fill_between = np.zeros(len(dates_list))\n",
    "fill_between[hObj.filtered_data['inpatient_beds_used_covid_coverage'].to_numpy()<hObj.filtered_data['inpatient_beds_used_covid_coverage'].mean()] = 1\n",
    "# plot_hosp(dates_list,hObj.filtered_data['staffed_icu_adult_patients_confirmed_covid'],color='b',label='staffed_icu_adult_patients_confirmed_covid', fill_between=fill_between)\n",
    "mean_ICU = np.mean(np.array(hPreds_ICU),axis=0)\n",
    "std_ICU = np.std(np.array(hPreds_ICU),axis=0)\n",
    "plot_hosp(dates_list,[mean_ICU,(mean_ICU+(z_score*(std_ICU/(num_sims**0.5)))),(mean_ICU-(z_score*(std_ICU/(num_sims**0.5)))),hObj.filtered_data['staffed_icu_adult_patients_confirmed_covid']]\\\n",
    "          ,color=['b','g','g','k'],label=['n_ICU predicted','n_ICU predicted','n_ICU predicted', 'n_ICU web data'], fill_between=fill_between)\n",
    "\n",
    "mean_InGeneralWard = np.mean(np.array(hPreds_InGeneralWard),axis=0)\n",
    "std_InGeneralWard = np.std(np.array(hPreds_InGeneralWard),axis=0)\n",
    "plot_hosp(dates_list,[mean_InGeneralWard,(mean_InGeneralWard+(z_score*(std_InGeneralWard/(num_sims**0.5)))),(mean_InGeneralWard-(z_score*(std_InGeneralWard/(num_sims**0.5)))),hObj.filtered_data.apply(lambda x: x['inpatient_beds_used_covid']- x['staffed_icu_adult_patients_confirmed_covid'])]\\\n",
    "          ,color=['b','g','g','k'],label=['n_InGeneralWard predicted','n_InGeneralWard predicted','n_InGeneralWard predicted', 'n_InGeneralWard web data'], fill_between=fill_between)\n",
    "\n"
   ]
  },
  {
   "cell_type": "markdown",
   "metadata": {},
   "source": [
    "## source of data:\n",
    "\n",
    "reported_hospital_utilization_timeseries_20210110_1007.csv was downloaded from https://healthdata.gov/dataset/covid-19-reported-patient-impact-and-hospital-capacity-state-timeseries/resource/3ce11e2c#{}\n",
    "\n",
    "### relevant fields used from csv\n",
    "https://healthdata.gov/covid-19-reported-patient-impact-and-hospital-capacity-state-data-dictionary\n",
    "\n",
    "inpatient_beds_used_covid: Reported patients currently hospitalized in an inpatient bed who have suspected or confirmed COVID-19 in this state\n",
    "\n",
    "inpatient_beds_used_covid_coverage: Number of hospitals reporting \"inpatient_beds_used_covid\" in this state\n",
    "\n",
    "previous_day_admission_adult_covid_confirmed: Number of patients who were admitted to an adult inpatient bed on the previous calendar day who had confirmed COVID-19 at the time of admission in this state\n",
    "\n",
    "previous_day_admission_adult_covid_confirmed_coverage: Number of hospitals reporting \"previous_day_admission_adult_covid_confirmed\" in this state\n",
    "\n",
    "staffed_icu_adult_patients_confirmed_covid: Reported patients currently hospitalized in an adult ICU bed who have confirmed COVID-19 in this state\n",
    "\n",
    "staffed_icu_adult_patients_confirmed_covid_coverage: Number of hospitals reporting \"staffed_icu_adult_patients_confirmed_covid\" in this state\n",
    "\n",
    "\n",
    "## plots may have labels where <br>\n",
    "'ICU' ~ staffed_icu_adult_patients_confirmed_covid <br>\n",
    "'all covid' ~ inpatient_beds_used_covid <br>\n",
    "'admission' ~ previous_day_admission_adult_covid_confirmed <br>\n",
    "\n",
    "Note that 'admission' in the plots are of the previous day UNSHIFTED (raw data entries)\n",
    "\n",
    "shaded regions are based on the criteria: <br> \n",
    "hObj.filtered_data['inpatient_beds_used_covid_coverage'].to_numpy < hObj.filtered_data['inpatient_beds_used_covid_coverage'].mean()"
   ]
  },
  {
   "cell_type": "code",
   "execution_count": null,
   "metadata": {},
   "outputs": [],
   "source": []
  }
 ],
 "metadata": {
  "kernelspec": {
   "display_name": "Python 3",
   "language": "python",
   "name": "python3"
  },
  "language_info": {
   "codemirror_mode": {
    "name": "ipython",
    "version": 3
   },
   "file_extension": ".py",
   "mimetype": "text/x-python",
   "name": "python",
   "nbconvert_exporter": "python",
   "pygments_lexer": "ipython3",
   "version": "3.8.3"
  }
 },
 "nbformat": 4,
 "nbformat_minor": 4
}

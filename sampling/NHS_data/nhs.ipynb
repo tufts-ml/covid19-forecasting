{
 "cells": [
  {
   "cell_type": "code",
   "execution_count": 2,
   "metadata": {},
   "outputs": [],
   "source": [
    "import pandas as pd\n",
    "import numpy as np"
   ]
  },
  {
   "cell_type": "code",
   "execution_count": 5,
   "metadata": {},
   "outputs": [],
   "source": [
    "df = pd.read_csv(\"new_data/raw_admissions_covid.csv\").T\n",
    "df_dis = pd.read_csv(\"new_data/raw_discharges_covid.csv\").T\n",
    "df_bed = pd.read_csv(\"new_data/raw_beds_occupied_covid.csv\").T"
   ]
  },
  {
   "cell_type": "code",
   "execution_count": 21,
   "metadata": {},
   "outputs": [
    {
     "name": "stdout",
     "output_type": "stream",
     "text": [
      "Index(['Name', '19-Mar-20', '20-Mar-20', '21-Mar-20', '22-Mar-20', '23-Mar-20',\n",
      "       '24-Mar-20', '25-Mar-20', '26-Mar-20', '27-Mar-20',\n",
      "       ...\n",
      "       '23-Nov-20', '24-Nov-20', '25-Nov-20', '26-Nov-20', '27-Nov-20',\n",
      "       '28-Nov-20', '29-Nov-20', '30-Nov-20', '1-Dec-20', '2-Dec-20'],\n",
      "      dtype='object', length=260)\n"
     ]
    }
   ],
   "source": [
    "print(df.index)"
   ]
  },
  {
   "cell_type": "code",
   "execution_count": 22,
   "metadata": {},
   "outputs": [],
   "source": [
    "cols = df.loc[\"Name\"]\n",
    "\n",
    "df = pd.DataFrame(df[:][1:])\n",
    "df.columns = cols\n",
    "\n",
    "df_dis = pd.DataFrame(df_dis[:][1:])\n",
    "df_dis.columns = cols\n",
    "\n",
    "df_bed = pd.DataFrame(df_bed[:][1:])\n",
    "df_bed.columns = cols\n",
    "\n",
    "dates = df.index"
   ]
  },
  {
   "cell_type": "code",
   "execution_count": 23,
   "metadata": {},
   "outputs": [],
   "source": [
    "sums = df.sum().sort_values(ascending = False)\n",
    "#sums = sorted(sums, key = lambda x: x[1])"
   ]
  },
  {
   "cell_type": "code",
   "execution_count": 25,
   "metadata": {},
   "outputs": [
    {
     "name": "stdout",
     "output_type": "stream",
     "text": [
      "['UNIVERSITY HOSPITALS BIRMINGHAM NHS FOUNDATION TRUST', 'MANCHESTER UNIVERSITY NHS FOUNDATION TRUST', 'SOUTH TEES HOSPITALS NHS FOUNDATION TRUST', 'BARTS HEALTH NHS TRUST', 'NOTTINGHAM UNIVERSITY HOSPITALS NHS TRUST', 'LONDON NORTH WEST UNIVERSITY HEALTHCARE NHS TRUST', 'UNIVERSITY HOSPITALS OF NORTH MIDLANDS NHS TRUST', 'CHELSEA AND WESTMINSTER HOSPITAL NHS FOUNDATION TRUST', 'IMPERIAL COLLEGE HEALTHCARE NHS TRUST', 'MID AND SOUTH ESSEX NHS FOUNDATION TRUST']\n"
     ]
    }
   ],
   "source": [
    "top10 = list(sums[:10].index)\n",
    "print(top10)"
   ]
  },
  {
   "cell_type": "code",
   "execution_count": 26,
   "metadata": {},
   "outputs": [],
   "source": [
    "for t in top10:\n",
    "    res = pd.DataFrame.from_dict({\"dates\":dates, \"n_admits\":df[t].values, \"n_discharges\":df_dis[t].values, \"n_occupied_beds(covid)\":df_bed[t].values})\n",
    "    res.to_csv(\"new_data/\"+t.lower().replace(\" \",\"_\")+\".csv\", index=False)"
   ]
  },
  {
   "cell_type": "code",
   "execution_count": null,
   "metadata": {},
   "outputs": [],
   "source": []
  }
 ],
 "metadata": {
  "kernelspec": {
   "display_name": "Python 3",
   "language": "python",
   "name": "python3"
  },
  "language_info": {
   "codemirror_mode": {
    "name": "ipython",
    "version": 3
   },
   "file_extension": ".py",
   "mimetype": "text/x-python",
   "name": "python",
   "nbconvert_exporter": "python",
   "pygments_lexer": "ipython3",
   "version": "3.8.2"
  }
 },
 "nbformat": 4,
 "nbformat_minor": 2
}

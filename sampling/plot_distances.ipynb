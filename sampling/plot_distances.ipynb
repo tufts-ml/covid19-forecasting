{
 "cells": [
  {
   "cell_type": "code",
   "execution_count": 1,
   "metadata": {},
   "outputs": [],
   "source": [
    "import numpy as np\n",
    "import pandas as pd\n",
    "import matplotlib.pyplot as plt"
   ]
  },
  {
   "cell_type": "code",
   "execution_count": 30,
   "metadata": {},
   "outputs": [
    {
     "name": "stdout",
     "output_type": "stream",
     "text": [
      "[[[1 3 5]\n",
      "  [1 3 5]\n",
      "  [1 3 5]\n",
      "  [1 3 5]]\n",
      "\n",
      " [[2 4 6]\n",
      "  [2 4 6]\n",
      "  [2 4 6]\n",
      "  [2 4 6]]]\n",
      "[[[ True False False]\n",
      "  [ True False False]\n",
      "  [False  True False]\n",
      "  [ True False False]]\n",
      "\n",
      " [[False False False]\n",
      "  [False False False]\n",
      "  [False False False]\n",
      "  [False False False]]]\n",
      "[[1 1 1 1]\n",
      " [0 0 0 0]]\n"
     ]
    }
   ],
   "source": [
    "arr = np.dstack([np.asarray([[1, 1, 1, 1], [2, 2, 2, 2]]), np.asarray([[3, 3, 3, 3], [4, 4, 4, 4]]), np.asarray([[5, 5, 5, 5], [6, 6, 6, 6]])])\n",
    "print(arr)\n",
    "b = np.asarray([[1, 1, 3, 1], [1, 1, 1, 1]])\n",
    "arr = np.equal(arr, np.dstack([b for i in range(3)]))\n",
    "print(arr)\n",
    "print(np.sum(arr, axis=2))"
   ]
  },
  {
   "cell_type": "code",
   "execution_count": 25,
   "metadata": {},
   "outputs": [
    {
     "data": {
      "text/plain": [
       "array([[[1, 1, 1],\n",
       "        [1, 1, 1],\n",
       "        [1, 1, 1],\n",
       "        [1, 1, 1]],\n",
       "\n",
       "       [[2, 2, 2],\n",
       "        [2, 2, 2],\n",
       "        [2, 2, 2],\n",
       "        [2, 2, 2]]])"
      ]
     },
     "execution_count": 25,
     "metadata": {},
     "output_type": "execute_result"
    }
   ],
   "source": [
    "np.dstack([b for i in range(3)])"
   ]
  },
  {
   "cell_type": "code",
   "execution_count": null,
   "metadata": {},
   "outputs": [],
   "source": []
  }
 ],
 "metadata": {
  "kernelspec": {
   "display_name": "Python 3",
   "language": "python",
   "name": "python3"
  },
  "language_info": {
   "codemirror_mode": {
    "name": "ipython",
    "version": 3
   },
   "file_extension": ".py",
   "mimetype": "text/x-python",
   "name": "python",
   "nbconvert_exporter": "python",
   "pygments_lexer": "ipython3",
   "version": "3.8.2"
  }
 },
 "nbformat": 4,
 "nbformat_minor": 2
}
